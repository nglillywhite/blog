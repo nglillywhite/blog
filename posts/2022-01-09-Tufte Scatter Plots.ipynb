{
 "cells": [
  {
   "cell_type": "raw",
   "id": "99e02f64",
   "metadata": {},
   "source": [
    "---\n",
    "aliases:\n",
    "- /jupyter/viz/2022/01/09/Tufte Scatter Plots\n",
    "badges: true\n",
    "categories:\n",
    "- jupyter\n",
    "- viz\n",
    "date: '2022-01-09'\n",
    "description: 1983 Tufte had Great Ideas About Scatter Plots\n",
    "output-file: 2022-01-09-tufte scatter plots.html\n",
    "title: Tufte Inspired Scatter Plots with Python and Altair\n",
    "author: Nicholas Lillywhite\n",
    "toc: true\n",
    "image: \"images/tufte_book.jpeg\"\n",
    "---\n",
    "\n"
   ]
  },
  {
   "cell_type": "markdown",
   "id": "2f2a6cad",
   "metadata": {},
   "source": [
    "## Why\n",
    "Tufte's 'Visual Display of Quantitative Information' from 1983 is one of the most beautiful books I've ever read. Edward argues for data visualisation to be a highly regarded craft and that its the synthesis of statistics, design, and truth telling. I was moved by how emotionally compelling the book was. I wont write a review here but anyone who spends anytime expressing data visually in their life, however tiny, I think will get great value from this book.\n",
    "\n",
    "I was particularly inspired by his scatter plots recommendations which combine Tukey box & whisker plots into the axes of scatters and a large reduction in ink + marked data points as goals. I thought they were gorgeous and as he proves, communicate far more than standard plots you come across. I want to know how to produce them in python so I thought I'd share my solution and exploration in this short notebook."
   ]
  },
  {
   "cell_type": "markdown",
   "id": "069f85f1-f352-4539-a9bf-0912bb46a269",
   "metadata": {},
   "source": [
    "## Another Great Book\n",
    "Scientific Visualization: Python + Matplotlib by Nicolas Rougier is another fantastic book I'm referencing to understand how matplotlib actually works. Most of the time I reference the tutorial / gallery code in altair, seaborn, etc and move on with my life without worrying too much about what 'fig' and 'ax' mean. But curiousity has got the better of me and this book clearly explains these terms and the fundamentals of the library. Another recommendation"
   ]
  },
  {
   "cell_type": "markdown",
   "id": "daf108de-d8e5-4e75-92d5-97100e65116d",
   "metadata": {},
   "source": [
    "## Lets Grab Iris Data\n",
    "\n",
    "Here's a quick web request to grab it from UCI, altair also has vega datasets which makes this dead easy from their tutorials. Pick your poison..."
   ]
  },
  {
   "cell_type": "code",
   "execution_count": 1,
   "id": "f1913ca3-da66-4a17-9385-46cdf14943ee",
   "metadata": {},
   "outputs": [],
   "source": [
    "import requests"
   ]
  },
  {
   "cell_type": "code",
   "execution_count": 2,
   "id": "c39f83af-fd9c-4e70-b30e-63907efd02aa",
   "metadata": {},
   "outputs": [],
   "source": [
    "res = requests.get(\"https://archive.ics.uci.edu/ml/machine-learning-databases/iris/iris.data\")"
   ]
  },
  {
   "cell_type": "code",
   "execution_count": 3,
   "id": "8b6e79c4-1da7-4c18-8469-d20b8ce4d8ac",
   "metadata": {},
   "outputs": [],
   "source": [
    "from io import StringIO\n",
    "import pandas as pd"
   ]
  },
  {
   "cell_type": "code",
   "execution_count": 4,
   "id": "19d5f633-5b7e-4c51-9450-59b52b93efd6",
   "metadata": {},
   "outputs": [],
   "source": [
    "data = pd.read_csv(StringIO(res.text),header=None,names=[\"sepal_len\",\"sepal_wid\",\"petal_len\",\"petal_wid\",\"class\"])"
   ]
  },
  {
   "cell_type": "code",
   "execution_count": 5,
   "id": "15535361-1172-4744-8b7f-cd1eb64f1137",
   "metadata": {},
   "outputs": [
    {
     "data": {
      "text/html": [
       "<div>\n",
       "<style scoped>\n",
       "    .dataframe tbody tr th:only-of-type {\n",
       "        vertical-align: middle;\n",
       "    }\n",
       "\n",
       "    .dataframe tbody tr th {\n",
       "        vertical-align: top;\n",
       "    }\n",
       "\n",
       "    .dataframe thead th {\n",
       "        text-align: right;\n",
       "    }\n",
       "</style>\n",
       "<table border=\"1\" class=\"dataframe\">\n",
       "  <thead>\n",
       "    <tr style=\"text-align: right;\">\n",
       "      <th></th>\n",
       "      <th>sepal_len</th>\n",
       "      <th>sepal_wid</th>\n",
       "      <th>petal_len</th>\n",
       "      <th>petal_wid</th>\n",
       "      <th>class</th>\n",
       "    </tr>\n",
       "  </thead>\n",
       "  <tbody>\n",
       "    <tr>\n",
       "      <th>0</th>\n",
       "      <td>5.1</td>\n",
       "      <td>3.5</td>\n",
       "      <td>1.4</td>\n",
       "      <td>0.2</td>\n",
       "      <td>Iris-setosa</td>\n",
       "    </tr>\n",
       "    <tr>\n",
       "      <th>1</th>\n",
       "      <td>4.9</td>\n",
       "      <td>3.0</td>\n",
       "      <td>1.4</td>\n",
       "      <td>0.2</td>\n",
       "      <td>Iris-setosa</td>\n",
       "    </tr>\n",
       "    <tr>\n",
       "      <th>2</th>\n",
       "      <td>4.7</td>\n",
       "      <td>3.2</td>\n",
       "      <td>1.3</td>\n",
       "      <td>0.2</td>\n",
       "      <td>Iris-setosa</td>\n",
       "    </tr>\n",
       "    <tr>\n",
       "      <th>3</th>\n",
       "      <td>4.6</td>\n",
       "      <td>3.1</td>\n",
       "      <td>1.5</td>\n",
       "      <td>0.2</td>\n",
       "      <td>Iris-setosa</td>\n",
       "    </tr>\n",
       "    <tr>\n",
       "      <th>4</th>\n",
       "      <td>5.0</td>\n",
       "      <td>3.6</td>\n",
       "      <td>1.4</td>\n",
       "      <td>0.2</td>\n",
       "      <td>Iris-setosa</td>\n",
       "    </tr>\n",
       "  </tbody>\n",
       "</table>\n",
       "</div>"
      ],
      "text/plain": [
       "   sepal_len  sepal_wid  petal_len  petal_wid        class\n",
       "0        5.1        3.5        1.4        0.2  Iris-setosa\n",
       "1        4.9        3.0        1.4        0.2  Iris-setosa\n",
       "2        4.7        3.2        1.3        0.2  Iris-setosa\n",
       "3        4.6        3.1        1.5        0.2  Iris-setosa\n",
       "4        5.0        3.6        1.4        0.2  Iris-setosa"
      ]
     },
     "execution_count": 5,
     "metadata": {},
     "output_type": "execute_result"
    }
   ],
   "source": [
    "# Looks good, thanks UCI!\n",
    "data.head()"
   ]
  },
  {
   "cell_type": "markdown",
   "id": "fd2ab80b-828d-4eed-b8ea-fdb8a9f1e237",
   "metadata": {},
   "source": [
    "# Simple Plots with Altair\n",
    "\n",
    "Altair is a great viz library with heaps of default behaviour that is great. A simple example below shows the interactivity and investigation that is out of the box with only a few lines of readable code. This articulates a great starting point for scatter plots and whilst its superior to those that Tufte has issue with, it can still be improved."
   ]
  },
  {
   "cell_type": "code",
   "execution_count": 6,
   "id": "f70b930c-b405-4ed4-b03e-051d6c4ae66f",
   "metadata": {},
   "outputs": [],
   "source": [
    "import matplotlib.pyplot as plt\n",
    "import seaborn as sns\n",
    "import altair as alt"
   ]
  },
  {
   "cell_type": "code",
   "execution_count": 7,
   "id": "0e8e4449-8853-410a-aadd-03640492dfce",
   "metadata": {},
   "outputs": [
    {
     "data": {
      "text/plain": [
       "ThemeRegistry(active='default', registered=['dark', 'default', 'fivethirtyeight', 'ggplot2', 'latimes', 'none', 'opaque', 'quartz', 'urbaninstitute', 'vox'])"
      ]
     },
     "execution_count": 7,
     "metadata": {},
     "output_type": "execute_result"
    }
   ],
   "source": [
    "alt.themes"
   ]
  },
  {
   "cell_type": "code",
   "execution_count": 8,
   "id": "c4544d29-4dd0-4d21-bab7-dcf18ac14180",
   "metadata": {},
   "outputs": [
    {
     "data": {
      "text/plain": [
       "ThemeRegistry.enable('urbaninstitute')"
      ]
     },
     "execution_count": 8,
     "metadata": {},
     "output_type": "execute_result"
    }
   ],
   "source": [
    "# Defining a colorblind friendly theme for my accessibility needing friends. Here's a nice short read on colorblind friendly pallettes: https://davidmathlogic.com/colorblind/\n",
    "\n",
    "# I think this theme is compatible but please scream at me if I've made a mistake here, I always want to be inclusive and I think data viz underdiscusses making colorblind friendly visualisations in the name of prettyness.\n",
    "alt.themes.enable('urbaninstitute')"
   ]
  },
  {
   "cell_type": "code",
   "execution_count": 9,
   "id": "2e0c0dbd-21e7-43a9-bbc7-9d95e54b74da",
   "metadata": {},
   "outputs": [
    {
     "data": {
      "text/html": [
       "\n",
       "<div id=\"altair-viz-39e9d56141db443c82a439d8ee2bb1f2\"></div>\n",
       "<script type=\"text/javascript\">\n",
       "  var VEGA_DEBUG = (typeof VEGA_DEBUG == \"undefined\") ? {} : VEGA_DEBUG;\n",
       "  (function(spec, embedOpt){\n",
       "    let outputDiv = document.currentScript.previousElementSibling;\n",
       "    if (outputDiv.id !== \"altair-viz-39e9d56141db443c82a439d8ee2bb1f2\") {\n",
       "      outputDiv = document.getElementById(\"altair-viz-39e9d56141db443c82a439d8ee2bb1f2\");\n",
       "    }\n",
       "    const paths = {\n",
       "      \"vega\": \"https://cdn.jsdelivr.net/npm//vega@5?noext\",\n",
       "      \"vega-lib\": \"https://cdn.jsdelivr.net/npm//vega-lib?noext\",\n",
       "      \"vega-lite\": \"https://cdn.jsdelivr.net/npm//vega-lite@4.17.0?noext\",\n",
       "      \"vega-embed\": \"https://cdn.jsdelivr.net/npm//vega-embed@6?noext\",\n",
       "    };\n",
       "\n",
       "    function maybeLoadScript(lib, version) {\n",
       "      var key = `${lib.replace(\"-\", \"\")}_version`;\n",
       "      return (VEGA_DEBUG[key] == version) ?\n",
       "        Promise.resolve(paths[lib]) :\n",
       "        new Promise(function(resolve, reject) {\n",
       "          var s = document.createElement('script');\n",
       "          document.getElementsByTagName(\"head\")[0].appendChild(s);\n",
       "          s.async = true;\n",
       "          s.onload = () => {\n",
       "            VEGA_DEBUG[key] = version;\n",
       "            return resolve(paths[lib]);\n",
       "          };\n",
       "          s.onerror = () => reject(`Error loading script: ${paths[lib]}`);\n",
       "          s.src = paths[lib];\n",
       "        });\n",
       "    }\n",
       "\n",
       "    function showError(err) {\n",
       "      outputDiv.innerHTML = `<div class=\"error\" style=\"color:red;\">${err}</div>`;\n",
       "      throw err;\n",
       "    }\n",
       "\n",
       "    function displayChart(vegaEmbed) {\n",
       "      vegaEmbed(outputDiv, spec, embedOpt)\n",
       "        .catch(err => showError(`Javascript Error: ${err.message}<br>This usually means there's a typo in your chart specification. See the javascript console for the full traceback.`));\n",
       "    }\n",
       "\n",
       "    if(typeof define === \"function\" && define.amd) {\n",
       "      requirejs.config({paths});\n",
       "      require([\"vega-embed\"], displayChart, err => showError(`Error loading script: ${err.message}`));\n",
       "    } else {\n",
       "      maybeLoadScript(\"vega\", \"5\")\n",
       "        .then(() => maybeLoadScript(\"vega-lite\", \"4.17.0\"))\n",
       "        .then(() => maybeLoadScript(\"vega-embed\", \"6\"))\n",
       "        .catch(showError)\n",
       "        .then(() => displayChart(vegaEmbed));\n",
       "    }\n",
       "  })({\"usermeta\": {\"embedOptions\": {\"theme\": \"urbaninstitute\"}}, \"config\": {\"view\": {\"continuousWidth\": 400, \"continuousHeight\": 300}}, \"data\": {\"name\": \"data-a5daf532ab2c54ce7e41ec121f265ace\"}, \"mark\": {\"type\": \"circle\", \"size\": 60}, \"encoding\": {\"color\": {\"field\": \"class\", \"type\": \"nominal\"}, \"tooltip\": [{\"field\": \"sepal_len\", \"type\": \"quantitative\"}, {\"field\": \"sepal_wid\", \"type\": \"quantitative\"}, {\"field\": \"petal_wid\", \"type\": \"quantitative\"}, {\"field\": \"class\", \"type\": \"nominal\"}], \"x\": {\"field\": \"sepal_len\", \"type\": \"quantitative\"}, \"y\": {\"field\": \"sepal_wid\", \"type\": \"quantitative\"}}, \"$schema\": \"https://vega.github.io/schema/vega-lite/v4.17.0.json\", \"datasets\": {\"data-a5daf532ab2c54ce7e41ec121f265ace\": [{\"sepal_len\": 5.1, \"sepal_wid\": 3.5, \"petal_len\": 1.4, \"petal_wid\": 0.2, \"class\": \"Iris-setosa\"}, {\"sepal_len\": 4.9, \"sepal_wid\": 3.0, \"petal_len\": 1.4, \"petal_wid\": 0.2, \"class\": \"Iris-setosa\"}, {\"sepal_len\": 4.7, \"sepal_wid\": 3.2, \"petal_len\": 1.3, \"petal_wid\": 0.2, \"class\": \"Iris-setosa\"}, {\"sepal_len\": 4.6, \"sepal_wid\": 3.1, \"petal_len\": 1.5, \"petal_wid\": 0.2, \"class\": \"Iris-setosa\"}, {\"sepal_len\": 5.0, \"sepal_wid\": 3.6, \"petal_len\": 1.4, \"petal_wid\": 0.2, \"class\": \"Iris-setosa\"}, {\"sepal_len\": 5.4, \"sepal_wid\": 3.9, \"petal_len\": 1.7, \"petal_wid\": 0.4, \"class\": \"Iris-setosa\"}, {\"sepal_len\": 4.6, \"sepal_wid\": 3.4, \"petal_len\": 1.4, \"petal_wid\": 0.3, \"class\": \"Iris-setosa\"}, {\"sepal_len\": 5.0, \"sepal_wid\": 3.4, \"petal_len\": 1.5, \"petal_wid\": 0.2, \"class\": \"Iris-setosa\"}, {\"sepal_len\": 4.4, \"sepal_wid\": 2.9, \"petal_len\": 1.4, \"petal_wid\": 0.2, \"class\": \"Iris-setosa\"}, {\"sepal_len\": 4.9, \"sepal_wid\": 3.1, \"petal_len\": 1.5, \"petal_wid\": 0.1, \"class\": \"Iris-setosa\"}, {\"sepal_len\": 5.4, \"sepal_wid\": 3.7, \"petal_len\": 1.5, \"petal_wid\": 0.2, \"class\": \"Iris-setosa\"}, {\"sepal_len\": 4.8, \"sepal_wid\": 3.4, \"petal_len\": 1.6, \"petal_wid\": 0.2, \"class\": \"Iris-setosa\"}, {\"sepal_len\": 4.8, \"sepal_wid\": 3.0, \"petal_len\": 1.4, \"petal_wid\": 0.1, \"class\": \"Iris-setosa\"}, {\"sepal_len\": 4.3, \"sepal_wid\": 3.0, \"petal_len\": 1.1, \"petal_wid\": 0.1, \"class\": \"Iris-setosa\"}, {\"sepal_len\": 5.8, \"sepal_wid\": 4.0, \"petal_len\": 1.2, \"petal_wid\": 0.2, \"class\": \"Iris-setosa\"}, {\"sepal_len\": 5.7, \"sepal_wid\": 4.4, \"petal_len\": 1.5, \"petal_wid\": 0.4, \"class\": \"Iris-setosa\"}, {\"sepal_len\": 5.4, \"sepal_wid\": 3.9, \"petal_len\": 1.3, \"petal_wid\": 0.4, \"class\": \"Iris-setosa\"}, {\"sepal_len\": 5.1, \"sepal_wid\": 3.5, \"petal_len\": 1.4, \"petal_wid\": 0.3, \"class\": \"Iris-setosa\"}, {\"sepal_len\": 5.7, \"sepal_wid\": 3.8, \"petal_len\": 1.7, \"petal_wid\": 0.3, \"class\": \"Iris-setosa\"}, {\"sepal_len\": 5.1, \"sepal_wid\": 3.8, \"petal_len\": 1.5, \"petal_wid\": 0.3, \"class\": \"Iris-setosa\"}, {\"sepal_len\": 5.4, \"sepal_wid\": 3.4, \"petal_len\": 1.7, \"petal_wid\": 0.2, \"class\": \"Iris-setosa\"}, {\"sepal_len\": 5.1, \"sepal_wid\": 3.7, \"petal_len\": 1.5, \"petal_wid\": 0.4, \"class\": \"Iris-setosa\"}, {\"sepal_len\": 4.6, \"sepal_wid\": 3.6, \"petal_len\": 1.0, \"petal_wid\": 0.2, \"class\": \"Iris-setosa\"}, {\"sepal_len\": 5.1, \"sepal_wid\": 3.3, \"petal_len\": 1.7, \"petal_wid\": 0.5, \"class\": \"Iris-setosa\"}, {\"sepal_len\": 4.8, \"sepal_wid\": 3.4, \"petal_len\": 1.9, \"petal_wid\": 0.2, \"class\": \"Iris-setosa\"}, {\"sepal_len\": 5.0, \"sepal_wid\": 3.0, \"petal_len\": 1.6, \"petal_wid\": 0.2, \"class\": \"Iris-setosa\"}, {\"sepal_len\": 5.0, \"sepal_wid\": 3.4, \"petal_len\": 1.6, \"petal_wid\": 0.4, \"class\": \"Iris-setosa\"}, {\"sepal_len\": 5.2, \"sepal_wid\": 3.5, \"petal_len\": 1.5, \"petal_wid\": 0.2, \"class\": \"Iris-setosa\"}, {\"sepal_len\": 5.2, \"sepal_wid\": 3.4, \"petal_len\": 1.4, \"petal_wid\": 0.2, \"class\": \"Iris-setosa\"}, {\"sepal_len\": 4.7, \"sepal_wid\": 3.2, \"petal_len\": 1.6, \"petal_wid\": 0.2, \"class\": \"Iris-setosa\"}, {\"sepal_len\": 4.8, \"sepal_wid\": 3.1, \"petal_len\": 1.6, \"petal_wid\": 0.2, \"class\": \"Iris-setosa\"}, {\"sepal_len\": 5.4, \"sepal_wid\": 3.4, \"petal_len\": 1.5, \"petal_wid\": 0.4, \"class\": \"Iris-setosa\"}, {\"sepal_len\": 5.2, \"sepal_wid\": 4.1, \"petal_len\": 1.5, \"petal_wid\": 0.1, \"class\": \"Iris-setosa\"}, {\"sepal_len\": 5.5, \"sepal_wid\": 4.2, \"petal_len\": 1.4, \"petal_wid\": 0.2, \"class\": \"Iris-setosa\"}, {\"sepal_len\": 4.9, \"sepal_wid\": 3.1, \"petal_len\": 1.5, \"petal_wid\": 0.1, \"class\": \"Iris-setosa\"}, {\"sepal_len\": 5.0, \"sepal_wid\": 3.2, \"petal_len\": 1.2, \"petal_wid\": 0.2, \"class\": \"Iris-setosa\"}, {\"sepal_len\": 5.5, \"sepal_wid\": 3.5, \"petal_len\": 1.3, \"petal_wid\": 0.2, \"class\": \"Iris-setosa\"}, {\"sepal_len\": 4.9, \"sepal_wid\": 3.1, \"petal_len\": 1.5, \"petal_wid\": 0.1, \"class\": \"Iris-setosa\"}, {\"sepal_len\": 4.4, \"sepal_wid\": 3.0, \"petal_len\": 1.3, \"petal_wid\": 0.2, \"class\": \"Iris-setosa\"}, {\"sepal_len\": 5.1, \"sepal_wid\": 3.4, \"petal_len\": 1.5, \"petal_wid\": 0.2, \"class\": \"Iris-setosa\"}, {\"sepal_len\": 5.0, \"sepal_wid\": 3.5, \"petal_len\": 1.3, \"petal_wid\": 0.3, \"class\": \"Iris-setosa\"}, {\"sepal_len\": 4.5, \"sepal_wid\": 2.3, \"petal_len\": 1.3, \"petal_wid\": 0.3, \"class\": \"Iris-setosa\"}, {\"sepal_len\": 4.4, \"sepal_wid\": 3.2, \"petal_len\": 1.3, \"petal_wid\": 0.2, \"class\": \"Iris-setosa\"}, {\"sepal_len\": 5.0, \"sepal_wid\": 3.5, \"petal_len\": 1.6, \"petal_wid\": 0.6, \"class\": \"Iris-setosa\"}, {\"sepal_len\": 5.1, \"sepal_wid\": 3.8, \"petal_len\": 1.9, \"petal_wid\": 0.4, \"class\": \"Iris-setosa\"}, {\"sepal_len\": 4.8, \"sepal_wid\": 3.0, \"petal_len\": 1.4, \"petal_wid\": 0.3, \"class\": \"Iris-setosa\"}, {\"sepal_len\": 5.1, \"sepal_wid\": 3.8, \"petal_len\": 1.6, \"petal_wid\": 0.2, \"class\": \"Iris-setosa\"}, {\"sepal_len\": 4.6, \"sepal_wid\": 3.2, \"petal_len\": 1.4, \"petal_wid\": 0.2, \"class\": \"Iris-setosa\"}, {\"sepal_len\": 5.3, \"sepal_wid\": 3.7, \"petal_len\": 1.5, \"petal_wid\": 0.2, \"class\": \"Iris-setosa\"}, {\"sepal_len\": 5.0, \"sepal_wid\": 3.3, \"petal_len\": 1.4, \"petal_wid\": 0.2, \"class\": \"Iris-setosa\"}, {\"sepal_len\": 7.0, \"sepal_wid\": 3.2, \"petal_len\": 4.7, \"petal_wid\": 1.4, \"class\": \"Iris-versicolor\"}, {\"sepal_len\": 6.4, \"sepal_wid\": 3.2, \"petal_len\": 4.5, \"petal_wid\": 1.5, \"class\": \"Iris-versicolor\"}, {\"sepal_len\": 6.9, \"sepal_wid\": 3.1, \"petal_len\": 4.9, \"petal_wid\": 1.5, \"class\": \"Iris-versicolor\"}, {\"sepal_len\": 5.5, \"sepal_wid\": 2.3, \"petal_len\": 4.0, \"petal_wid\": 1.3, \"class\": \"Iris-versicolor\"}, {\"sepal_len\": 6.5, \"sepal_wid\": 2.8, \"petal_len\": 4.6, \"petal_wid\": 1.5, \"class\": \"Iris-versicolor\"}, {\"sepal_len\": 5.7, \"sepal_wid\": 2.8, \"petal_len\": 4.5, \"petal_wid\": 1.3, \"class\": \"Iris-versicolor\"}, {\"sepal_len\": 6.3, \"sepal_wid\": 3.3, \"petal_len\": 4.7, \"petal_wid\": 1.6, \"class\": \"Iris-versicolor\"}, {\"sepal_len\": 4.9, \"sepal_wid\": 2.4, \"petal_len\": 3.3, \"petal_wid\": 1.0, \"class\": \"Iris-versicolor\"}, {\"sepal_len\": 6.6, \"sepal_wid\": 2.9, \"petal_len\": 4.6, \"petal_wid\": 1.3, \"class\": \"Iris-versicolor\"}, {\"sepal_len\": 5.2, \"sepal_wid\": 2.7, \"petal_len\": 3.9, \"petal_wid\": 1.4, \"class\": \"Iris-versicolor\"}, {\"sepal_len\": 5.0, \"sepal_wid\": 2.0, \"petal_len\": 3.5, \"petal_wid\": 1.0, \"class\": \"Iris-versicolor\"}, {\"sepal_len\": 5.9, \"sepal_wid\": 3.0, \"petal_len\": 4.2, \"petal_wid\": 1.5, \"class\": \"Iris-versicolor\"}, {\"sepal_len\": 6.0, \"sepal_wid\": 2.2, \"petal_len\": 4.0, \"petal_wid\": 1.0, \"class\": \"Iris-versicolor\"}, {\"sepal_len\": 6.1, \"sepal_wid\": 2.9, \"petal_len\": 4.7, \"petal_wid\": 1.4, \"class\": \"Iris-versicolor\"}, {\"sepal_len\": 5.6, \"sepal_wid\": 2.9, \"petal_len\": 3.6, \"petal_wid\": 1.3, \"class\": \"Iris-versicolor\"}, {\"sepal_len\": 6.7, \"sepal_wid\": 3.1, \"petal_len\": 4.4, \"petal_wid\": 1.4, \"class\": \"Iris-versicolor\"}, {\"sepal_len\": 5.6, \"sepal_wid\": 3.0, \"petal_len\": 4.5, \"petal_wid\": 1.5, \"class\": \"Iris-versicolor\"}, {\"sepal_len\": 5.8, \"sepal_wid\": 2.7, \"petal_len\": 4.1, \"petal_wid\": 1.0, \"class\": \"Iris-versicolor\"}, {\"sepal_len\": 6.2, \"sepal_wid\": 2.2, \"petal_len\": 4.5, \"petal_wid\": 1.5, \"class\": \"Iris-versicolor\"}, {\"sepal_len\": 5.6, \"sepal_wid\": 2.5, \"petal_len\": 3.9, \"petal_wid\": 1.1, \"class\": \"Iris-versicolor\"}, {\"sepal_len\": 5.9, \"sepal_wid\": 3.2, \"petal_len\": 4.8, \"petal_wid\": 1.8, \"class\": \"Iris-versicolor\"}, {\"sepal_len\": 6.1, \"sepal_wid\": 2.8, \"petal_len\": 4.0, \"petal_wid\": 1.3, \"class\": \"Iris-versicolor\"}, {\"sepal_len\": 6.3, \"sepal_wid\": 2.5, \"petal_len\": 4.9, \"petal_wid\": 1.5, \"class\": \"Iris-versicolor\"}, {\"sepal_len\": 6.1, \"sepal_wid\": 2.8, \"petal_len\": 4.7, \"petal_wid\": 1.2, \"class\": \"Iris-versicolor\"}, {\"sepal_len\": 6.4, \"sepal_wid\": 2.9, \"petal_len\": 4.3, \"petal_wid\": 1.3, \"class\": \"Iris-versicolor\"}, {\"sepal_len\": 6.6, \"sepal_wid\": 3.0, \"petal_len\": 4.4, \"petal_wid\": 1.4, \"class\": \"Iris-versicolor\"}, {\"sepal_len\": 6.8, \"sepal_wid\": 2.8, \"petal_len\": 4.8, \"petal_wid\": 1.4, \"class\": \"Iris-versicolor\"}, {\"sepal_len\": 6.7, \"sepal_wid\": 3.0, \"petal_len\": 5.0, \"petal_wid\": 1.7, \"class\": \"Iris-versicolor\"}, {\"sepal_len\": 6.0, \"sepal_wid\": 2.9, \"petal_len\": 4.5, \"petal_wid\": 1.5, \"class\": \"Iris-versicolor\"}, {\"sepal_len\": 5.7, \"sepal_wid\": 2.6, \"petal_len\": 3.5, \"petal_wid\": 1.0, \"class\": \"Iris-versicolor\"}, {\"sepal_len\": 5.5, \"sepal_wid\": 2.4, \"petal_len\": 3.8, \"petal_wid\": 1.1, \"class\": \"Iris-versicolor\"}, {\"sepal_len\": 5.5, \"sepal_wid\": 2.4, \"petal_len\": 3.7, \"petal_wid\": 1.0, \"class\": \"Iris-versicolor\"}, {\"sepal_len\": 5.8, \"sepal_wid\": 2.7, \"petal_len\": 3.9, \"petal_wid\": 1.2, \"class\": \"Iris-versicolor\"}, {\"sepal_len\": 6.0, \"sepal_wid\": 2.7, \"petal_len\": 5.1, \"petal_wid\": 1.6, \"class\": \"Iris-versicolor\"}, {\"sepal_len\": 5.4, \"sepal_wid\": 3.0, \"petal_len\": 4.5, \"petal_wid\": 1.5, \"class\": \"Iris-versicolor\"}, {\"sepal_len\": 6.0, \"sepal_wid\": 3.4, \"petal_len\": 4.5, \"petal_wid\": 1.6, \"class\": \"Iris-versicolor\"}, {\"sepal_len\": 6.7, \"sepal_wid\": 3.1, \"petal_len\": 4.7, \"petal_wid\": 1.5, \"class\": \"Iris-versicolor\"}, {\"sepal_len\": 6.3, \"sepal_wid\": 2.3, \"petal_len\": 4.4, \"petal_wid\": 1.3, \"class\": \"Iris-versicolor\"}, {\"sepal_len\": 5.6, \"sepal_wid\": 3.0, \"petal_len\": 4.1, \"petal_wid\": 1.3, \"class\": \"Iris-versicolor\"}, {\"sepal_len\": 5.5, \"sepal_wid\": 2.5, \"petal_len\": 4.0, \"petal_wid\": 1.3, \"class\": \"Iris-versicolor\"}, {\"sepal_len\": 5.5, \"sepal_wid\": 2.6, \"petal_len\": 4.4, \"petal_wid\": 1.2, \"class\": \"Iris-versicolor\"}, {\"sepal_len\": 6.1, \"sepal_wid\": 3.0, \"petal_len\": 4.6, \"petal_wid\": 1.4, \"class\": \"Iris-versicolor\"}, {\"sepal_len\": 5.8, \"sepal_wid\": 2.6, \"petal_len\": 4.0, \"petal_wid\": 1.2, \"class\": \"Iris-versicolor\"}, {\"sepal_len\": 5.0, \"sepal_wid\": 2.3, \"petal_len\": 3.3, \"petal_wid\": 1.0, \"class\": \"Iris-versicolor\"}, {\"sepal_len\": 5.6, \"sepal_wid\": 2.7, \"petal_len\": 4.2, \"petal_wid\": 1.3, \"class\": \"Iris-versicolor\"}, {\"sepal_len\": 5.7, \"sepal_wid\": 3.0, \"petal_len\": 4.2, \"petal_wid\": 1.2, \"class\": \"Iris-versicolor\"}, {\"sepal_len\": 5.7, \"sepal_wid\": 2.9, \"petal_len\": 4.2, \"petal_wid\": 1.3, \"class\": \"Iris-versicolor\"}, {\"sepal_len\": 6.2, \"sepal_wid\": 2.9, \"petal_len\": 4.3, \"petal_wid\": 1.3, \"class\": \"Iris-versicolor\"}, {\"sepal_len\": 5.1, \"sepal_wid\": 2.5, \"petal_len\": 3.0, \"petal_wid\": 1.1, \"class\": \"Iris-versicolor\"}, {\"sepal_len\": 5.7, \"sepal_wid\": 2.8, \"petal_len\": 4.1, \"petal_wid\": 1.3, \"class\": \"Iris-versicolor\"}, {\"sepal_len\": 6.3, \"sepal_wid\": 3.3, \"petal_len\": 6.0, \"petal_wid\": 2.5, \"class\": \"Iris-virginica\"}, {\"sepal_len\": 5.8, \"sepal_wid\": 2.7, \"petal_len\": 5.1, \"petal_wid\": 1.9, \"class\": \"Iris-virginica\"}, {\"sepal_len\": 7.1, \"sepal_wid\": 3.0, \"petal_len\": 5.9, \"petal_wid\": 2.1, \"class\": \"Iris-virginica\"}, {\"sepal_len\": 6.3, \"sepal_wid\": 2.9, \"petal_len\": 5.6, \"petal_wid\": 1.8, \"class\": \"Iris-virginica\"}, {\"sepal_len\": 6.5, \"sepal_wid\": 3.0, \"petal_len\": 5.8, \"petal_wid\": 2.2, \"class\": \"Iris-virginica\"}, {\"sepal_len\": 7.6, \"sepal_wid\": 3.0, \"petal_len\": 6.6, \"petal_wid\": 2.1, \"class\": \"Iris-virginica\"}, {\"sepal_len\": 4.9, \"sepal_wid\": 2.5, \"petal_len\": 4.5, \"petal_wid\": 1.7, \"class\": \"Iris-virginica\"}, {\"sepal_len\": 7.3, \"sepal_wid\": 2.9, \"petal_len\": 6.3, \"petal_wid\": 1.8, \"class\": \"Iris-virginica\"}, {\"sepal_len\": 6.7, \"sepal_wid\": 2.5, \"petal_len\": 5.8, \"petal_wid\": 1.8, \"class\": \"Iris-virginica\"}, {\"sepal_len\": 7.2, \"sepal_wid\": 3.6, \"petal_len\": 6.1, \"petal_wid\": 2.5, \"class\": \"Iris-virginica\"}, {\"sepal_len\": 6.5, \"sepal_wid\": 3.2, \"petal_len\": 5.1, \"petal_wid\": 2.0, \"class\": \"Iris-virginica\"}, {\"sepal_len\": 6.4, \"sepal_wid\": 2.7, \"petal_len\": 5.3, \"petal_wid\": 1.9, \"class\": \"Iris-virginica\"}, {\"sepal_len\": 6.8, \"sepal_wid\": 3.0, \"petal_len\": 5.5, \"petal_wid\": 2.1, \"class\": \"Iris-virginica\"}, {\"sepal_len\": 5.7, \"sepal_wid\": 2.5, \"petal_len\": 5.0, \"petal_wid\": 2.0, \"class\": \"Iris-virginica\"}, {\"sepal_len\": 5.8, \"sepal_wid\": 2.8, \"petal_len\": 5.1, \"petal_wid\": 2.4, \"class\": \"Iris-virginica\"}, {\"sepal_len\": 6.4, \"sepal_wid\": 3.2, \"petal_len\": 5.3, \"petal_wid\": 2.3, \"class\": \"Iris-virginica\"}, {\"sepal_len\": 6.5, \"sepal_wid\": 3.0, \"petal_len\": 5.5, \"petal_wid\": 1.8, \"class\": \"Iris-virginica\"}, {\"sepal_len\": 7.7, \"sepal_wid\": 3.8, \"petal_len\": 6.7, \"petal_wid\": 2.2, \"class\": \"Iris-virginica\"}, {\"sepal_len\": 7.7, \"sepal_wid\": 2.6, \"petal_len\": 6.9, \"petal_wid\": 2.3, \"class\": \"Iris-virginica\"}, {\"sepal_len\": 6.0, \"sepal_wid\": 2.2, \"petal_len\": 5.0, \"petal_wid\": 1.5, \"class\": \"Iris-virginica\"}, {\"sepal_len\": 6.9, \"sepal_wid\": 3.2, \"petal_len\": 5.7, \"petal_wid\": 2.3, \"class\": \"Iris-virginica\"}, {\"sepal_len\": 5.6, \"sepal_wid\": 2.8, \"petal_len\": 4.9, \"petal_wid\": 2.0, \"class\": \"Iris-virginica\"}, {\"sepal_len\": 7.7, \"sepal_wid\": 2.8, \"petal_len\": 6.7, \"petal_wid\": 2.0, \"class\": \"Iris-virginica\"}, {\"sepal_len\": 6.3, \"sepal_wid\": 2.7, \"petal_len\": 4.9, \"petal_wid\": 1.8, \"class\": \"Iris-virginica\"}, {\"sepal_len\": 6.7, \"sepal_wid\": 3.3, \"petal_len\": 5.7, \"petal_wid\": 2.1, \"class\": \"Iris-virginica\"}, {\"sepal_len\": 7.2, \"sepal_wid\": 3.2, \"petal_len\": 6.0, \"petal_wid\": 1.8, \"class\": \"Iris-virginica\"}, {\"sepal_len\": 6.2, \"sepal_wid\": 2.8, \"petal_len\": 4.8, \"petal_wid\": 1.8, \"class\": \"Iris-virginica\"}, {\"sepal_len\": 6.1, \"sepal_wid\": 3.0, \"petal_len\": 4.9, \"petal_wid\": 1.8, \"class\": \"Iris-virginica\"}, {\"sepal_len\": 6.4, \"sepal_wid\": 2.8, \"petal_len\": 5.6, \"petal_wid\": 2.1, \"class\": \"Iris-virginica\"}, {\"sepal_len\": 7.2, \"sepal_wid\": 3.0, \"petal_len\": 5.8, \"petal_wid\": 1.6, \"class\": \"Iris-virginica\"}, {\"sepal_len\": 7.4, \"sepal_wid\": 2.8, \"petal_len\": 6.1, \"petal_wid\": 1.9, \"class\": \"Iris-virginica\"}, {\"sepal_len\": 7.9, \"sepal_wid\": 3.8, \"petal_len\": 6.4, \"petal_wid\": 2.0, \"class\": \"Iris-virginica\"}, {\"sepal_len\": 6.4, \"sepal_wid\": 2.8, \"petal_len\": 5.6, \"petal_wid\": 2.2, \"class\": \"Iris-virginica\"}, {\"sepal_len\": 6.3, \"sepal_wid\": 2.8, \"petal_len\": 5.1, \"petal_wid\": 1.5, \"class\": \"Iris-virginica\"}, {\"sepal_len\": 6.1, \"sepal_wid\": 2.6, \"petal_len\": 5.6, \"petal_wid\": 1.4, \"class\": \"Iris-virginica\"}, {\"sepal_len\": 7.7, \"sepal_wid\": 3.0, \"petal_len\": 6.1, \"petal_wid\": 2.3, \"class\": \"Iris-virginica\"}, {\"sepal_len\": 6.3, \"sepal_wid\": 3.4, \"petal_len\": 5.6, \"petal_wid\": 2.4, \"class\": \"Iris-virginica\"}, {\"sepal_len\": 6.4, \"sepal_wid\": 3.1, \"petal_len\": 5.5, \"petal_wid\": 1.8, \"class\": \"Iris-virginica\"}, {\"sepal_len\": 6.0, \"sepal_wid\": 3.0, \"petal_len\": 4.8, \"petal_wid\": 1.8, \"class\": \"Iris-virginica\"}, {\"sepal_len\": 6.9, \"sepal_wid\": 3.1, \"petal_len\": 5.4, \"petal_wid\": 2.1, \"class\": \"Iris-virginica\"}, {\"sepal_len\": 6.7, \"sepal_wid\": 3.1, \"petal_len\": 5.6, \"petal_wid\": 2.4, \"class\": \"Iris-virginica\"}, {\"sepal_len\": 6.9, \"sepal_wid\": 3.1, \"petal_len\": 5.1, \"petal_wid\": 2.3, \"class\": \"Iris-virginica\"}, {\"sepal_len\": 5.8, \"sepal_wid\": 2.7, \"petal_len\": 5.1, \"petal_wid\": 1.9, \"class\": \"Iris-virginica\"}, {\"sepal_len\": 6.8, \"sepal_wid\": 3.2, \"petal_len\": 5.9, \"petal_wid\": 2.3, \"class\": \"Iris-virginica\"}, {\"sepal_len\": 6.7, \"sepal_wid\": 3.3, \"petal_len\": 5.7, \"petal_wid\": 2.5, \"class\": \"Iris-virginica\"}, {\"sepal_len\": 6.7, \"sepal_wid\": 3.0, \"petal_len\": 5.2, \"petal_wid\": 2.3, \"class\": \"Iris-virginica\"}, {\"sepal_len\": 6.3, \"sepal_wid\": 2.5, \"petal_len\": 5.0, \"petal_wid\": 1.9, \"class\": \"Iris-virginica\"}, {\"sepal_len\": 6.5, \"sepal_wid\": 3.0, \"petal_len\": 5.2, \"petal_wid\": 2.0, \"class\": \"Iris-virginica\"}, {\"sepal_len\": 6.2, \"sepal_wid\": 3.4, \"petal_len\": 5.4, \"petal_wid\": 2.3, \"class\": \"Iris-virginica\"}, {\"sepal_len\": 5.9, \"sepal_wid\": 3.0, \"petal_len\": 5.1, \"petal_wid\": 1.8, \"class\": \"Iris-virginica\"}]}}, {\"mode\": \"vega-lite\"});\n",
       "</script>"
      ],
      "text/plain": [
       "alt.Chart(...)"
      ]
     },
     "execution_count": 9,
     "metadata": {},
     "output_type": "execute_result"
    }
   ],
   "source": [
    "alt.Chart(data).mark_circle(size=60).encode(\n",
    "    x='sepal_len:Q',\n",
    "    y='sepal_wid:Q',\n",
    "    color='class:N',\n",
    "    tooltip=['sepal_len', 'sepal_wid', 'petal_wid', 'class']\n",
    ")"
   ]
  },
  {
   "cell_type": "code",
   "execution_count": 57,
   "id": "72e09682-df04-401f-baff-726370ba2a26",
   "metadata": {},
   "outputs": [
    {
     "data": {
      "text/html": [
       "\n",
       "<div id=\"altair-viz-e5ec3914670b4ccab435e7a7c77e902f\"></div>\n",
       "<script type=\"text/javascript\">\n",
       "  var VEGA_DEBUG = (typeof VEGA_DEBUG == \"undefined\") ? {} : VEGA_DEBUG;\n",
       "  (function(spec, embedOpt){\n",
       "    let outputDiv = document.currentScript.previousElementSibling;\n",
       "    if (outputDiv.id !== \"altair-viz-e5ec3914670b4ccab435e7a7c77e902f\") {\n",
       "      outputDiv = document.getElementById(\"altair-viz-e5ec3914670b4ccab435e7a7c77e902f\");\n",
       "    }\n",
       "    const paths = {\n",
       "      \"vega\": \"https://cdn.jsdelivr.net/npm//vega@5?noext\",\n",
       "      \"vega-lib\": \"https://cdn.jsdelivr.net/npm//vega-lib?noext\",\n",
       "      \"vega-lite\": \"https://cdn.jsdelivr.net/npm//vega-lite@4.17.0?noext\",\n",
       "      \"vega-embed\": \"https://cdn.jsdelivr.net/npm//vega-embed@6?noext\",\n",
       "    };\n",
       "\n",
       "    function maybeLoadScript(lib, version) {\n",
       "      var key = `${lib.replace(\"-\", \"\")}_version`;\n",
       "      return (VEGA_DEBUG[key] == version) ?\n",
       "        Promise.resolve(paths[lib]) :\n",
       "        new Promise(function(resolve, reject) {\n",
       "          var s = document.createElement('script');\n",
       "          document.getElementsByTagName(\"head\")[0].appendChild(s);\n",
       "          s.async = true;\n",
       "          s.onload = () => {\n",
       "            VEGA_DEBUG[key] = version;\n",
       "            return resolve(paths[lib]);\n",
       "          };\n",
       "          s.onerror = () => reject(`Error loading script: ${paths[lib]}`);\n",
       "          s.src = paths[lib];\n",
       "        });\n",
       "    }\n",
       "\n",
       "    function showError(err) {\n",
       "      outputDiv.innerHTML = `<div class=\"error\" style=\"color:red;\">${err}</div>`;\n",
       "      throw err;\n",
       "    }\n",
       "\n",
       "    function displayChart(vegaEmbed) {\n",
       "      vegaEmbed(outputDiv, spec, embedOpt)\n",
       "        .catch(err => showError(`Javascript Error: ${err.message}<br>This usually means there's a typo in your chart specification. See the javascript console for the full traceback.`));\n",
       "    }\n",
       "\n",
       "    if(typeof define === \"function\" && define.amd) {\n",
       "      requirejs.config({paths});\n",
       "      require([\"vega-embed\"], displayChart, err => showError(`Error loading script: ${err.message}`));\n",
       "    } else {\n",
       "      maybeLoadScript(\"vega\", \"5\")\n",
       "        .then(() => maybeLoadScript(\"vega-lite\", \"4.17.0\"))\n",
       "        .then(() => maybeLoadScript(\"vega-embed\", \"6\"))\n",
       "        .catch(showError)\n",
       "        .then(() => displayChart(vegaEmbed));\n",
       "    }\n",
       "  })({\"usermeta\": {\"embedOptions\": {\"theme\": \"urbaninstitute\"}}, \"config\": {\"view\": {\"continuousWidth\": 400, \"continuousHeight\": 300}}, \"data\": {\"name\": \"data-a5daf532ab2c54ce7e41ec121f265ace\"}, \"mark\": {\"type\": \"circle\", \"size\": 60}, \"encoding\": {\"color\": {\"field\": \"class\", \"type\": \"nominal\"}, \"tooltip\": [{\"field\": \"sepal_len\", \"type\": \"quantitative\"}, {\"field\": \"sepal_wid\", \"type\": \"quantitative\"}, {\"field\": \"petal_wid\", \"type\": \"quantitative\"}, {\"field\": \"class\", \"type\": \"nominal\"}], \"x\": {\"field\": \"sepal_len\", \"type\": \"quantitative\"}, \"y\": {\"field\": \"sepal_wid\", \"type\": \"quantitative\"}}, \"selection\": {\"selector029\": {\"type\": \"interval\", \"bind\": \"scales\", \"encodings\": [\"x\", \"y\"]}}, \"$schema\": \"https://vega.github.io/schema/vega-lite/v4.17.0.json\", \"datasets\": {\"data-a5daf532ab2c54ce7e41ec121f265ace\": [{\"sepal_len\": 5.1, \"sepal_wid\": 3.5, \"petal_len\": 1.4, \"petal_wid\": 0.2, \"class\": \"Iris-setosa\"}, {\"sepal_len\": 4.9, \"sepal_wid\": 3.0, \"petal_len\": 1.4, \"petal_wid\": 0.2, \"class\": \"Iris-setosa\"}, {\"sepal_len\": 4.7, \"sepal_wid\": 3.2, \"petal_len\": 1.3, \"petal_wid\": 0.2, \"class\": \"Iris-setosa\"}, {\"sepal_len\": 4.6, \"sepal_wid\": 3.1, \"petal_len\": 1.5, \"petal_wid\": 0.2, \"class\": \"Iris-setosa\"}, {\"sepal_len\": 5.0, \"sepal_wid\": 3.6, \"petal_len\": 1.4, \"petal_wid\": 0.2, \"class\": \"Iris-setosa\"}, {\"sepal_len\": 5.4, \"sepal_wid\": 3.9, \"petal_len\": 1.7, \"petal_wid\": 0.4, \"class\": \"Iris-setosa\"}, {\"sepal_len\": 4.6, \"sepal_wid\": 3.4, \"petal_len\": 1.4, \"petal_wid\": 0.3, \"class\": \"Iris-setosa\"}, {\"sepal_len\": 5.0, \"sepal_wid\": 3.4, \"petal_len\": 1.5, \"petal_wid\": 0.2, \"class\": \"Iris-setosa\"}, {\"sepal_len\": 4.4, \"sepal_wid\": 2.9, \"petal_len\": 1.4, \"petal_wid\": 0.2, \"class\": \"Iris-setosa\"}, {\"sepal_len\": 4.9, \"sepal_wid\": 3.1, \"petal_len\": 1.5, \"petal_wid\": 0.1, \"class\": \"Iris-setosa\"}, {\"sepal_len\": 5.4, \"sepal_wid\": 3.7, \"petal_len\": 1.5, \"petal_wid\": 0.2, \"class\": \"Iris-setosa\"}, {\"sepal_len\": 4.8, \"sepal_wid\": 3.4, \"petal_len\": 1.6, \"petal_wid\": 0.2, \"class\": \"Iris-setosa\"}, {\"sepal_len\": 4.8, \"sepal_wid\": 3.0, \"petal_len\": 1.4, \"petal_wid\": 0.1, \"class\": \"Iris-setosa\"}, {\"sepal_len\": 4.3, \"sepal_wid\": 3.0, \"petal_len\": 1.1, \"petal_wid\": 0.1, \"class\": \"Iris-setosa\"}, {\"sepal_len\": 5.8, \"sepal_wid\": 4.0, \"petal_len\": 1.2, \"petal_wid\": 0.2, \"class\": \"Iris-setosa\"}, {\"sepal_len\": 5.7, \"sepal_wid\": 4.4, \"petal_len\": 1.5, \"petal_wid\": 0.4, \"class\": \"Iris-setosa\"}, {\"sepal_len\": 5.4, \"sepal_wid\": 3.9, \"petal_len\": 1.3, \"petal_wid\": 0.4, \"class\": \"Iris-setosa\"}, {\"sepal_len\": 5.1, \"sepal_wid\": 3.5, \"petal_len\": 1.4, \"petal_wid\": 0.3, \"class\": \"Iris-setosa\"}, {\"sepal_len\": 5.7, \"sepal_wid\": 3.8, \"petal_len\": 1.7, \"petal_wid\": 0.3, \"class\": \"Iris-setosa\"}, {\"sepal_len\": 5.1, \"sepal_wid\": 3.8, \"petal_len\": 1.5, \"petal_wid\": 0.3, \"class\": \"Iris-setosa\"}, {\"sepal_len\": 5.4, \"sepal_wid\": 3.4, \"petal_len\": 1.7, \"petal_wid\": 0.2, \"class\": \"Iris-setosa\"}, {\"sepal_len\": 5.1, \"sepal_wid\": 3.7, \"petal_len\": 1.5, \"petal_wid\": 0.4, \"class\": \"Iris-setosa\"}, {\"sepal_len\": 4.6, \"sepal_wid\": 3.6, \"petal_len\": 1.0, \"petal_wid\": 0.2, \"class\": \"Iris-setosa\"}, {\"sepal_len\": 5.1, \"sepal_wid\": 3.3, \"petal_len\": 1.7, \"petal_wid\": 0.5, \"class\": \"Iris-setosa\"}, {\"sepal_len\": 4.8, \"sepal_wid\": 3.4, \"petal_len\": 1.9, \"petal_wid\": 0.2, \"class\": \"Iris-setosa\"}, {\"sepal_len\": 5.0, \"sepal_wid\": 3.0, \"petal_len\": 1.6, \"petal_wid\": 0.2, \"class\": \"Iris-setosa\"}, {\"sepal_len\": 5.0, \"sepal_wid\": 3.4, \"petal_len\": 1.6, \"petal_wid\": 0.4, \"class\": \"Iris-setosa\"}, {\"sepal_len\": 5.2, \"sepal_wid\": 3.5, \"petal_len\": 1.5, \"petal_wid\": 0.2, \"class\": \"Iris-setosa\"}, {\"sepal_len\": 5.2, \"sepal_wid\": 3.4, \"petal_len\": 1.4, \"petal_wid\": 0.2, \"class\": \"Iris-setosa\"}, {\"sepal_len\": 4.7, \"sepal_wid\": 3.2, \"petal_len\": 1.6, \"petal_wid\": 0.2, \"class\": \"Iris-setosa\"}, {\"sepal_len\": 4.8, \"sepal_wid\": 3.1, \"petal_len\": 1.6, \"petal_wid\": 0.2, \"class\": \"Iris-setosa\"}, {\"sepal_len\": 5.4, \"sepal_wid\": 3.4, \"petal_len\": 1.5, \"petal_wid\": 0.4, \"class\": \"Iris-setosa\"}, {\"sepal_len\": 5.2, \"sepal_wid\": 4.1, \"petal_len\": 1.5, \"petal_wid\": 0.1, \"class\": \"Iris-setosa\"}, {\"sepal_len\": 5.5, \"sepal_wid\": 4.2, \"petal_len\": 1.4, \"petal_wid\": 0.2, \"class\": \"Iris-setosa\"}, {\"sepal_len\": 4.9, \"sepal_wid\": 3.1, \"petal_len\": 1.5, \"petal_wid\": 0.1, \"class\": \"Iris-setosa\"}, {\"sepal_len\": 5.0, \"sepal_wid\": 3.2, \"petal_len\": 1.2, \"petal_wid\": 0.2, \"class\": \"Iris-setosa\"}, {\"sepal_len\": 5.5, \"sepal_wid\": 3.5, \"petal_len\": 1.3, \"petal_wid\": 0.2, \"class\": \"Iris-setosa\"}, {\"sepal_len\": 4.9, \"sepal_wid\": 3.1, \"petal_len\": 1.5, \"petal_wid\": 0.1, \"class\": \"Iris-setosa\"}, {\"sepal_len\": 4.4, \"sepal_wid\": 3.0, \"petal_len\": 1.3, \"petal_wid\": 0.2, \"class\": \"Iris-setosa\"}, {\"sepal_len\": 5.1, \"sepal_wid\": 3.4, \"petal_len\": 1.5, \"petal_wid\": 0.2, \"class\": \"Iris-setosa\"}, {\"sepal_len\": 5.0, \"sepal_wid\": 3.5, \"petal_len\": 1.3, \"petal_wid\": 0.3, \"class\": \"Iris-setosa\"}, {\"sepal_len\": 4.5, \"sepal_wid\": 2.3, \"petal_len\": 1.3, \"petal_wid\": 0.3, \"class\": \"Iris-setosa\"}, {\"sepal_len\": 4.4, \"sepal_wid\": 3.2, \"petal_len\": 1.3, \"petal_wid\": 0.2, \"class\": \"Iris-setosa\"}, {\"sepal_len\": 5.0, \"sepal_wid\": 3.5, \"petal_len\": 1.6, \"petal_wid\": 0.6, \"class\": \"Iris-setosa\"}, {\"sepal_len\": 5.1, \"sepal_wid\": 3.8, \"petal_len\": 1.9, \"petal_wid\": 0.4, \"class\": \"Iris-setosa\"}, {\"sepal_len\": 4.8, \"sepal_wid\": 3.0, \"petal_len\": 1.4, \"petal_wid\": 0.3, \"class\": \"Iris-setosa\"}, {\"sepal_len\": 5.1, \"sepal_wid\": 3.8, \"petal_len\": 1.6, \"petal_wid\": 0.2, \"class\": \"Iris-setosa\"}, {\"sepal_len\": 4.6, \"sepal_wid\": 3.2, \"petal_len\": 1.4, \"petal_wid\": 0.2, \"class\": \"Iris-setosa\"}, {\"sepal_len\": 5.3, \"sepal_wid\": 3.7, \"petal_len\": 1.5, \"petal_wid\": 0.2, \"class\": \"Iris-setosa\"}, {\"sepal_len\": 5.0, \"sepal_wid\": 3.3, \"petal_len\": 1.4, \"petal_wid\": 0.2, \"class\": \"Iris-setosa\"}, {\"sepal_len\": 7.0, \"sepal_wid\": 3.2, \"petal_len\": 4.7, \"petal_wid\": 1.4, \"class\": \"Iris-versicolor\"}, {\"sepal_len\": 6.4, \"sepal_wid\": 3.2, \"petal_len\": 4.5, \"petal_wid\": 1.5, \"class\": \"Iris-versicolor\"}, {\"sepal_len\": 6.9, \"sepal_wid\": 3.1, \"petal_len\": 4.9, \"petal_wid\": 1.5, \"class\": \"Iris-versicolor\"}, {\"sepal_len\": 5.5, \"sepal_wid\": 2.3, \"petal_len\": 4.0, \"petal_wid\": 1.3, \"class\": \"Iris-versicolor\"}, {\"sepal_len\": 6.5, \"sepal_wid\": 2.8, \"petal_len\": 4.6, \"petal_wid\": 1.5, \"class\": \"Iris-versicolor\"}, {\"sepal_len\": 5.7, \"sepal_wid\": 2.8, \"petal_len\": 4.5, \"petal_wid\": 1.3, \"class\": \"Iris-versicolor\"}, {\"sepal_len\": 6.3, \"sepal_wid\": 3.3, \"petal_len\": 4.7, \"petal_wid\": 1.6, \"class\": \"Iris-versicolor\"}, {\"sepal_len\": 4.9, \"sepal_wid\": 2.4, \"petal_len\": 3.3, \"petal_wid\": 1.0, \"class\": \"Iris-versicolor\"}, {\"sepal_len\": 6.6, \"sepal_wid\": 2.9, \"petal_len\": 4.6, \"petal_wid\": 1.3, \"class\": \"Iris-versicolor\"}, {\"sepal_len\": 5.2, \"sepal_wid\": 2.7, \"petal_len\": 3.9, \"petal_wid\": 1.4, \"class\": \"Iris-versicolor\"}, {\"sepal_len\": 5.0, \"sepal_wid\": 2.0, \"petal_len\": 3.5, \"petal_wid\": 1.0, \"class\": \"Iris-versicolor\"}, {\"sepal_len\": 5.9, \"sepal_wid\": 3.0, \"petal_len\": 4.2, \"petal_wid\": 1.5, \"class\": \"Iris-versicolor\"}, {\"sepal_len\": 6.0, \"sepal_wid\": 2.2, \"petal_len\": 4.0, \"petal_wid\": 1.0, \"class\": \"Iris-versicolor\"}, {\"sepal_len\": 6.1, \"sepal_wid\": 2.9, \"petal_len\": 4.7, \"petal_wid\": 1.4, \"class\": \"Iris-versicolor\"}, {\"sepal_len\": 5.6, \"sepal_wid\": 2.9, \"petal_len\": 3.6, \"petal_wid\": 1.3, \"class\": \"Iris-versicolor\"}, {\"sepal_len\": 6.7, \"sepal_wid\": 3.1, \"petal_len\": 4.4, \"petal_wid\": 1.4, \"class\": \"Iris-versicolor\"}, {\"sepal_len\": 5.6, \"sepal_wid\": 3.0, \"petal_len\": 4.5, \"petal_wid\": 1.5, \"class\": \"Iris-versicolor\"}, {\"sepal_len\": 5.8, \"sepal_wid\": 2.7, \"petal_len\": 4.1, \"petal_wid\": 1.0, \"class\": \"Iris-versicolor\"}, {\"sepal_len\": 6.2, \"sepal_wid\": 2.2, \"petal_len\": 4.5, \"petal_wid\": 1.5, \"class\": \"Iris-versicolor\"}, {\"sepal_len\": 5.6, \"sepal_wid\": 2.5, \"petal_len\": 3.9, \"petal_wid\": 1.1, \"class\": \"Iris-versicolor\"}, {\"sepal_len\": 5.9, \"sepal_wid\": 3.2, \"petal_len\": 4.8, \"petal_wid\": 1.8, \"class\": \"Iris-versicolor\"}, {\"sepal_len\": 6.1, \"sepal_wid\": 2.8, \"petal_len\": 4.0, \"petal_wid\": 1.3, \"class\": \"Iris-versicolor\"}, {\"sepal_len\": 6.3, \"sepal_wid\": 2.5, \"petal_len\": 4.9, \"petal_wid\": 1.5, \"class\": \"Iris-versicolor\"}, {\"sepal_len\": 6.1, \"sepal_wid\": 2.8, \"petal_len\": 4.7, \"petal_wid\": 1.2, \"class\": \"Iris-versicolor\"}, {\"sepal_len\": 6.4, \"sepal_wid\": 2.9, \"petal_len\": 4.3, \"petal_wid\": 1.3, \"class\": \"Iris-versicolor\"}, {\"sepal_len\": 6.6, \"sepal_wid\": 3.0, \"petal_len\": 4.4, \"petal_wid\": 1.4, \"class\": \"Iris-versicolor\"}, {\"sepal_len\": 6.8, \"sepal_wid\": 2.8, \"petal_len\": 4.8, \"petal_wid\": 1.4, \"class\": \"Iris-versicolor\"}, {\"sepal_len\": 6.7, \"sepal_wid\": 3.0, \"petal_len\": 5.0, \"petal_wid\": 1.7, \"class\": \"Iris-versicolor\"}, {\"sepal_len\": 6.0, \"sepal_wid\": 2.9, \"petal_len\": 4.5, \"petal_wid\": 1.5, \"class\": \"Iris-versicolor\"}, {\"sepal_len\": 5.7, \"sepal_wid\": 2.6, \"petal_len\": 3.5, \"petal_wid\": 1.0, \"class\": \"Iris-versicolor\"}, {\"sepal_len\": 5.5, \"sepal_wid\": 2.4, \"petal_len\": 3.8, \"petal_wid\": 1.1, \"class\": \"Iris-versicolor\"}, {\"sepal_len\": 5.5, \"sepal_wid\": 2.4, \"petal_len\": 3.7, \"petal_wid\": 1.0, \"class\": \"Iris-versicolor\"}, {\"sepal_len\": 5.8, \"sepal_wid\": 2.7, \"petal_len\": 3.9, \"petal_wid\": 1.2, \"class\": \"Iris-versicolor\"}, {\"sepal_len\": 6.0, \"sepal_wid\": 2.7, \"petal_len\": 5.1, \"petal_wid\": 1.6, \"class\": \"Iris-versicolor\"}, {\"sepal_len\": 5.4, \"sepal_wid\": 3.0, \"petal_len\": 4.5, \"petal_wid\": 1.5, \"class\": \"Iris-versicolor\"}, {\"sepal_len\": 6.0, \"sepal_wid\": 3.4, \"petal_len\": 4.5, \"petal_wid\": 1.6, \"class\": \"Iris-versicolor\"}, {\"sepal_len\": 6.7, \"sepal_wid\": 3.1, \"petal_len\": 4.7, \"petal_wid\": 1.5, \"class\": \"Iris-versicolor\"}, {\"sepal_len\": 6.3, \"sepal_wid\": 2.3, \"petal_len\": 4.4, \"petal_wid\": 1.3, \"class\": \"Iris-versicolor\"}, {\"sepal_len\": 5.6, \"sepal_wid\": 3.0, \"petal_len\": 4.1, \"petal_wid\": 1.3, \"class\": \"Iris-versicolor\"}, {\"sepal_len\": 5.5, \"sepal_wid\": 2.5, \"petal_len\": 4.0, \"petal_wid\": 1.3, \"class\": \"Iris-versicolor\"}, {\"sepal_len\": 5.5, \"sepal_wid\": 2.6, \"petal_len\": 4.4, \"petal_wid\": 1.2, \"class\": \"Iris-versicolor\"}, {\"sepal_len\": 6.1, \"sepal_wid\": 3.0, \"petal_len\": 4.6, \"petal_wid\": 1.4, \"class\": \"Iris-versicolor\"}, {\"sepal_len\": 5.8, \"sepal_wid\": 2.6, \"petal_len\": 4.0, \"petal_wid\": 1.2, \"class\": \"Iris-versicolor\"}, {\"sepal_len\": 5.0, \"sepal_wid\": 2.3, \"petal_len\": 3.3, \"petal_wid\": 1.0, \"class\": \"Iris-versicolor\"}, {\"sepal_len\": 5.6, \"sepal_wid\": 2.7, \"petal_len\": 4.2, \"petal_wid\": 1.3, \"class\": \"Iris-versicolor\"}, {\"sepal_len\": 5.7, \"sepal_wid\": 3.0, \"petal_len\": 4.2, \"petal_wid\": 1.2, \"class\": \"Iris-versicolor\"}, {\"sepal_len\": 5.7, \"sepal_wid\": 2.9, \"petal_len\": 4.2, \"petal_wid\": 1.3, \"class\": \"Iris-versicolor\"}, {\"sepal_len\": 6.2, \"sepal_wid\": 2.9, \"petal_len\": 4.3, \"petal_wid\": 1.3, \"class\": \"Iris-versicolor\"}, {\"sepal_len\": 5.1, \"sepal_wid\": 2.5, \"petal_len\": 3.0, \"petal_wid\": 1.1, \"class\": \"Iris-versicolor\"}, {\"sepal_len\": 5.7, \"sepal_wid\": 2.8, \"petal_len\": 4.1, \"petal_wid\": 1.3, \"class\": \"Iris-versicolor\"}, {\"sepal_len\": 6.3, \"sepal_wid\": 3.3, \"petal_len\": 6.0, \"petal_wid\": 2.5, \"class\": \"Iris-virginica\"}, {\"sepal_len\": 5.8, \"sepal_wid\": 2.7, \"petal_len\": 5.1, \"petal_wid\": 1.9, \"class\": \"Iris-virginica\"}, {\"sepal_len\": 7.1, \"sepal_wid\": 3.0, \"petal_len\": 5.9, \"petal_wid\": 2.1, \"class\": \"Iris-virginica\"}, {\"sepal_len\": 6.3, \"sepal_wid\": 2.9, \"petal_len\": 5.6, \"petal_wid\": 1.8, \"class\": \"Iris-virginica\"}, {\"sepal_len\": 6.5, \"sepal_wid\": 3.0, \"petal_len\": 5.8, \"petal_wid\": 2.2, \"class\": \"Iris-virginica\"}, {\"sepal_len\": 7.6, \"sepal_wid\": 3.0, \"petal_len\": 6.6, \"petal_wid\": 2.1, \"class\": \"Iris-virginica\"}, {\"sepal_len\": 4.9, \"sepal_wid\": 2.5, \"petal_len\": 4.5, \"petal_wid\": 1.7, \"class\": \"Iris-virginica\"}, {\"sepal_len\": 7.3, \"sepal_wid\": 2.9, \"petal_len\": 6.3, \"petal_wid\": 1.8, \"class\": \"Iris-virginica\"}, {\"sepal_len\": 6.7, \"sepal_wid\": 2.5, \"petal_len\": 5.8, \"petal_wid\": 1.8, \"class\": \"Iris-virginica\"}, {\"sepal_len\": 7.2, \"sepal_wid\": 3.6, \"petal_len\": 6.1, \"petal_wid\": 2.5, \"class\": \"Iris-virginica\"}, {\"sepal_len\": 6.5, \"sepal_wid\": 3.2, \"petal_len\": 5.1, \"petal_wid\": 2.0, \"class\": \"Iris-virginica\"}, {\"sepal_len\": 6.4, \"sepal_wid\": 2.7, \"petal_len\": 5.3, \"petal_wid\": 1.9, \"class\": \"Iris-virginica\"}, {\"sepal_len\": 6.8, \"sepal_wid\": 3.0, \"petal_len\": 5.5, \"petal_wid\": 2.1, \"class\": \"Iris-virginica\"}, {\"sepal_len\": 5.7, \"sepal_wid\": 2.5, \"petal_len\": 5.0, \"petal_wid\": 2.0, \"class\": \"Iris-virginica\"}, {\"sepal_len\": 5.8, \"sepal_wid\": 2.8, \"petal_len\": 5.1, \"petal_wid\": 2.4, \"class\": \"Iris-virginica\"}, {\"sepal_len\": 6.4, \"sepal_wid\": 3.2, \"petal_len\": 5.3, \"petal_wid\": 2.3, \"class\": \"Iris-virginica\"}, {\"sepal_len\": 6.5, \"sepal_wid\": 3.0, \"petal_len\": 5.5, \"petal_wid\": 1.8, \"class\": \"Iris-virginica\"}, {\"sepal_len\": 7.7, \"sepal_wid\": 3.8, \"petal_len\": 6.7, \"petal_wid\": 2.2, \"class\": \"Iris-virginica\"}, {\"sepal_len\": 7.7, \"sepal_wid\": 2.6, \"petal_len\": 6.9, \"petal_wid\": 2.3, \"class\": \"Iris-virginica\"}, {\"sepal_len\": 6.0, \"sepal_wid\": 2.2, \"petal_len\": 5.0, \"petal_wid\": 1.5, \"class\": \"Iris-virginica\"}, {\"sepal_len\": 6.9, \"sepal_wid\": 3.2, \"petal_len\": 5.7, \"petal_wid\": 2.3, \"class\": \"Iris-virginica\"}, {\"sepal_len\": 5.6, \"sepal_wid\": 2.8, \"petal_len\": 4.9, \"petal_wid\": 2.0, \"class\": \"Iris-virginica\"}, {\"sepal_len\": 7.7, \"sepal_wid\": 2.8, \"petal_len\": 6.7, \"petal_wid\": 2.0, \"class\": \"Iris-virginica\"}, {\"sepal_len\": 6.3, \"sepal_wid\": 2.7, \"petal_len\": 4.9, \"petal_wid\": 1.8, \"class\": \"Iris-virginica\"}, {\"sepal_len\": 6.7, \"sepal_wid\": 3.3, \"petal_len\": 5.7, \"petal_wid\": 2.1, \"class\": \"Iris-virginica\"}, {\"sepal_len\": 7.2, \"sepal_wid\": 3.2, \"petal_len\": 6.0, \"petal_wid\": 1.8, \"class\": \"Iris-virginica\"}, {\"sepal_len\": 6.2, \"sepal_wid\": 2.8, \"petal_len\": 4.8, \"petal_wid\": 1.8, \"class\": \"Iris-virginica\"}, {\"sepal_len\": 6.1, \"sepal_wid\": 3.0, \"petal_len\": 4.9, \"petal_wid\": 1.8, \"class\": \"Iris-virginica\"}, {\"sepal_len\": 6.4, \"sepal_wid\": 2.8, \"petal_len\": 5.6, \"petal_wid\": 2.1, \"class\": \"Iris-virginica\"}, {\"sepal_len\": 7.2, \"sepal_wid\": 3.0, \"petal_len\": 5.8, \"petal_wid\": 1.6, \"class\": \"Iris-virginica\"}, {\"sepal_len\": 7.4, \"sepal_wid\": 2.8, \"petal_len\": 6.1, \"petal_wid\": 1.9, \"class\": \"Iris-virginica\"}, {\"sepal_len\": 7.9, \"sepal_wid\": 3.8, \"petal_len\": 6.4, \"petal_wid\": 2.0, \"class\": \"Iris-virginica\"}, {\"sepal_len\": 6.4, \"sepal_wid\": 2.8, \"petal_len\": 5.6, \"petal_wid\": 2.2, \"class\": \"Iris-virginica\"}, {\"sepal_len\": 6.3, \"sepal_wid\": 2.8, \"petal_len\": 5.1, \"petal_wid\": 1.5, \"class\": \"Iris-virginica\"}, {\"sepal_len\": 6.1, \"sepal_wid\": 2.6, \"petal_len\": 5.6, \"petal_wid\": 1.4, \"class\": \"Iris-virginica\"}, {\"sepal_len\": 7.7, \"sepal_wid\": 3.0, \"petal_len\": 6.1, \"petal_wid\": 2.3, \"class\": \"Iris-virginica\"}, {\"sepal_len\": 6.3, \"sepal_wid\": 3.4, \"petal_len\": 5.6, \"petal_wid\": 2.4, \"class\": \"Iris-virginica\"}, {\"sepal_len\": 6.4, \"sepal_wid\": 3.1, \"petal_len\": 5.5, \"petal_wid\": 1.8, \"class\": \"Iris-virginica\"}, {\"sepal_len\": 6.0, \"sepal_wid\": 3.0, \"petal_len\": 4.8, \"petal_wid\": 1.8, \"class\": \"Iris-virginica\"}, {\"sepal_len\": 6.9, \"sepal_wid\": 3.1, \"petal_len\": 5.4, \"petal_wid\": 2.1, \"class\": \"Iris-virginica\"}, {\"sepal_len\": 6.7, \"sepal_wid\": 3.1, \"petal_len\": 5.6, \"petal_wid\": 2.4, \"class\": \"Iris-virginica\"}, {\"sepal_len\": 6.9, \"sepal_wid\": 3.1, \"petal_len\": 5.1, \"petal_wid\": 2.3, \"class\": \"Iris-virginica\"}, {\"sepal_len\": 5.8, \"sepal_wid\": 2.7, \"petal_len\": 5.1, \"petal_wid\": 1.9, \"class\": \"Iris-virginica\"}, {\"sepal_len\": 6.8, \"sepal_wid\": 3.2, \"petal_len\": 5.9, \"petal_wid\": 2.3, \"class\": \"Iris-virginica\"}, {\"sepal_len\": 6.7, \"sepal_wid\": 3.3, \"petal_len\": 5.7, \"petal_wid\": 2.5, \"class\": \"Iris-virginica\"}, {\"sepal_len\": 6.7, \"sepal_wid\": 3.0, \"petal_len\": 5.2, \"petal_wid\": 2.3, \"class\": \"Iris-virginica\"}, {\"sepal_len\": 6.3, \"sepal_wid\": 2.5, \"petal_len\": 5.0, \"petal_wid\": 1.9, \"class\": \"Iris-virginica\"}, {\"sepal_len\": 6.5, \"sepal_wid\": 3.0, \"petal_len\": 5.2, \"petal_wid\": 2.0, \"class\": \"Iris-virginica\"}, {\"sepal_len\": 6.2, \"sepal_wid\": 3.4, \"petal_len\": 5.4, \"petal_wid\": 2.3, \"class\": \"Iris-virginica\"}, {\"sepal_len\": 5.9, \"sepal_wid\": 3.0, \"petal_len\": 5.1, \"petal_wid\": 1.8, \"class\": \"Iris-virginica\"}]}}, {\"mode\": \"vega-lite\"});\n",
       "</script>"
      ],
      "text/plain": [
       "alt.Chart(...)"
      ]
     },
     "execution_count": 57,
     "metadata": {},
     "output_type": "execute_result"
    }
   ],
   "source": [
    "# An interactive version! Altair is cool....\n",
    "\n",
    "alt.Chart(data).mark_circle(size=60).encode(\n",
    "    x='sepal_len:Q',\n",
    "    y='sepal_wid:Q',\n",
    "    color='class:N',\n",
    "    tooltip=['sepal_len', 'sepal_wid', 'petal_wid', 'class']\n",
    ").interactive()"
   ]
  },
  {
   "cell_type": "markdown",
   "id": "3c5654ef-f2d9-4033-a6ac-ffe868ff13c0",
   "metadata": {},
   "source": [
    "## Improvements from Tufte\n",
    "From page 130 of 'The Visual Display of Quantitative Information', in the 'Theory of Data Graphics' section under 'Redesign of the Scatterplot, Tufte outlines a few recommendations that I think are interesting. Mainly involving removing information to improve the 'data-ink ratio' which is his simple and clever arguement to measurably improve and compare graphics by removing non data ink. I won't re-explain it here, read the dang book its so dang good.\n",
    " 1. Change the Frame Lines / Axes to Represent a Quartile Plot\n",
    " 2. Show Distributions and Ticks in Axes\n",
    " 3. Remove Unused Axes Space\n",
    " 4. Turn down or off the background grid\n",
    " \n",
    "## Altair Mostly Beat me To it\n",
    "Altair has a fantastic tutorial also inspired by the book here: https://altair-viz.github.io/gallery/dot_dash_plot.html which we will use as a starting point.\n",
    "\n",
    "This crosses off #2 of our goals as we can see the data distributions already.\n",
    "\n",
    "However I'd still like to improve this by simplifying the frame lines."
   ]
  },
  {
   "cell_type": "code",
   "execution_count": 11,
   "id": "c8f48a02-a6c1-4973-861a-271ba546f6cd",
   "metadata": {},
   "outputs": [
    {
     "data": {
      "text/html": [
       "\n",
       "<div id=\"altair-viz-ec8011fec3484df980fbe22fc0d56272\"></div>\n",
       "<script type=\"text/javascript\">\n",
       "  var VEGA_DEBUG = (typeof VEGA_DEBUG == \"undefined\") ? {} : VEGA_DEBUG;\n",
       "  (function(spec, embedOpt){\n",
       "    let outputDiv = document.currentScript.previousElementSibling;\n",
       "    if (outputDiv.id !== \"altair-viz-ec8011fec3484df980fbe22fc0d56272\") {\n",
       "      outputDiv = document.getElementById(\"altair-viz-ec8011fec3484df980fbe22fc0d56272\");\n",
       "    }\n",
       "    const paths = {\n",
       "      \"vega\": \"https://cdn.jsdelivr.net/npm//vega@5?noext\",\n",
       "      \"vega-lib\": \"https://cdn.jsdelivr.net/npm//vega-lib?noext\",\n",
       "      \"vega-lite\": \"https://cdn.jsdelivr.net/npm//vega-lite@4.17.0?noext\",\n",
       "      \"vega-embed\": \"https://cdn.jsdelivr.net/npm//vega-embed@6?noext\",\n",
       "    };\n",
       "\n",
       "    function maybeLoadScript(lib, version) {\n",
       "      var key = `${lib.replace(\"-\", \"\")}_version`;\n",
       "      return (VEGA_DEBUG[key] == version) ?\n",
       "        Promise.resolve(paths[lib]) :\n",
       "        new Promise(function(resolve, reject) {\n",
       "          var s = document.createElement('script');\n",
       "          document.getElementsByTagName(\"head\")[0].appendChild(s);\n",
       "          s.async = true;\n",
       "          s.onload = () => {\n",
       "            VEGA_DEBUG[key] = version;\n",
       "            return resolve(paths[lib]);\n",
       "          };\n",
       "          s.onerror = () => reject(`Error loading script: ${paths[lib]}`);\n",
       "          s.src = paths[lib];\n",
       "        });\n",
       "    }\n",
       "\n",
       "    function showError(err) {\n",
       "      outputDiv.innerHTML = `<div class=\"error\" style=\"color:red;\">${err}</div>`;\n",
       "      throw err;\n",
       "    }\n",
       "\n",
       "    function displayChart(vegaEmbed) {\n",
       "      vegaEmbed(outputDiv, spec, embedOpt)\n",
       "        .catch(err => showError(`Javascript Error: ${err.message}<br>This usually means there's a typo in your chart specification. See the javascript console for the full traceback.`));\n",
       "    }\n",
       "\n",
       "    if(typeof define === \"function\" && define.amd) {\n",
       "      requirejs.config({paths});\n",
       "      require([\"vega-embed\"], displayChart, err => showError(`Error loading script: ${err.message}`));\n",
       "    } else {\n",
       "      maybeLoadScript(\"vega\", \"5\")\n",
       "        .then(() => maybeLoadScript(\"vega-lite\", \"4.17.0\"))\n",
       "        .then(() => maybeLoadScript(\"vega-embed\", \"6\"))\n",
       "        .catch(showError)\n",
       "        .then(() => displayChart(vegaEmbed));\n",
       "    }\n",
       "  })({\"usermeta\": {\"embedOptions\": {\"theme\": \"urbaninstitute\"}}, \"config\": {\"view\": {\"continuousWidth\": 400, \"continuousHeight\": 300}}, \"hconcat\": [{\"mark\": \"tick\", \"encoding\": {\"color\": {\"condition\": {\"field\": \"class\", \"type\": \"nominal\", \"selection\": \"selector002\"}, \"value\": \"lightgrey\"}, \"x\": {\"axis\": {\"domain\": false, \"labels\": false, \"ticks\": false}, \"field\": \"class\", \"title\": \"\", \"type\": \"nominal\"}, \"y\": {\"axis\": {\"domain\": false, \"labels\": false, \"ticks\": false}, \"field\": \"sepal_wid\", \"type\": \"quantitative\"}}, \"selection\": {\"selector002\": {\"type\": \"interval\"}}}, {\"vconcat\": [{\"mark\": \"point\", \"encoding\": {\"color\": {\"condition\": {\"field\": \"class\", \"type\": \"nominal\", \"selection\": \"selector002\"}, \"value\": \"grey\"}, \"x\": {\"field\": \"sepal_len\", \"title\": \"\", \"type\": \"quantitative\"}, \"y\": {\"field\": \"sepal_wid\", \"title\": \"\", \"type\": \"quantitative\"}}, \"selection\": {\"selector002\": {\"type\": \"interval\"}}}, {\"mark\": \"tick\", \"encoding\": {\"color\": {\"condition\": {\"field\": \"class\", \"type\": \"nominal\", \"selection\": \"selector002\"}, \"value\": \"lightgrey\"}, \"x\": {\"axis\": {\"domain\": false, \"labels\": false, \"ticks\": false}, \"field\": \"sepal_len\", \"type\": \"quantitative\"}, \"y\": {\"axis\": {\"domain\": false, \"labels\": false, \"ticks\": false}, \"field\": \"class\", \"title\": \"\", \"type\": \"nominal\"}}, \"selection\": {\"selector002\": {\"type\": \"interval\"}}}]}], \"data\": {\"name\": \"data-a5daf532ab2c54ce7e41ec121f265ace\"}, \"$schema\": \"https://vega.github.io/schema/vega-lite/v4.17.0.json\", \"datasets\": {\"data-a5daf532ab2c54ce7e41ec121f265ace\": [{\"sepal_len\": 5.1, \"sepal_wid\": 3.5, \"petal_len\": 1.4, \"petal_wid\": 0.2, \"class\": \"Iris-setosa\"}, {\"sepal_len\": 4.9, \"sepal_wid\": 3.0, \"petal_len\": 1.4, \"petal_wid\": 0.2, \"class\": \"Iris-setosa\"}, {\"sepal_len\": 4.7, \"sepal_wid\": 3.2, \"petal_len\": 1.3, \"petal_wid\": 0.2, \"class\": \"Iris-setosa\"}, {\"sepal_len\": 4.6, \"sepal_wid\": 3.1, \"petal_len\": 1.5, \"petal_wid\": 0.2, \"class\": \"Iris-setosa\"}, {\"sepal_len\": 5.0, \"sepal_wid\": 3.6, \"petal_len\": 1.4, \"petal_wid\": 0.2, \"class\": \"Iris-setosa\"}, {\"sepal_len\": 5.4, \"sepal_wid\": 3.9, \"petal_len\": 1.7, \"petal_wid\": 0.4, \"class\": \"Iris-setosa\"}, {\"sepal_len\": 4.6, \"sepal_wid\": 3.4, \"petal_len\": 1.4, \"petal_wid\": 0.3, \"class\": \"Iris-setosa\"}, {\"sepal_len\": 5.0, \"sepal_wid\": 3.4, \"petal_len\": 1.5, \"petal_wid\": 0.2, \"class\": \"Iris-setosa\"}, {\"sepal_len\": 4.4, \"sepal_wid\": 2.9, \"petal_len\": 1.4, \"petal_wid\": 0.2, \"class\": \"Iris-setosa\"}, {\"sepal_len\": 4.9, \"sepal_wid\": 3.1, \"petal_len\": 1.5, \"petal_wid\": 0.1, \"class\": \"Iris-setosa\"}, {\"sepal_len\": 5.4, \"sepal_wid\": 3.7, \"petal_len\": 1.5, \"petal_wid\": 0.2, \"class\": \"Iris-setosa\"}, {\"sepal_len\": 4.8, \"sepal_wid\": 3.4, \"petal_len\": 1.6, \"petal_wid\": 0.2, \"class\": \"Iris-setosa\"}, {\"sepal_len\": 4.8, \"sepal_wid\": 3.0, \"petal_len\": 1.4, \"petal_wid\": 0.1, \"class\": \"Iris-setosa\"}, {\"sepal_len\": 4.3, \"sepal_wid\": 3.0, \"petal_len\": 1.1, \"petal_wid\": 0.1, \"class\": \"Iris-setosa\"}, {\"sepal_len\": 5.8, \"sepal_wid\": 4.0, \"petal_len\": 1.2, \"petal_wid\": 0.2, \"class\": \"Iris-setosa\"}, {\"sepal_len\": 5.7, \"sepal_wid\": 4.4, \"petal_len\": 1.5, \"petal_wid\": 0.4, \"class\": \"Iris-setosa\"}, {\"sepal_len\": 5.4, \"sepal_wid\": 3.9, \"petal_len\": 1.3, \"petal_wid\": 0.4, \"class\": \"Iris-setosa\"}, {\"sepal_len\": 5.1, \"sepal_wid\": 3.5, \"petal_len\": 1.4, \"petal_wid\": 0.3, \"class\": \"Iris-setosa\"}, {\"sepal_len\": 5.7, \"sepal_wid\": 3.8, \"petal_len\": 1.7, \"petal_wid\": 0.3, \"class\": \"Iris-setosa\"}, {\"sepal_len\": 5.1, \"sepal_wid\": 3.8, \"petal_len\": 1.5, \"petal_wid\": 0.3, \"class\": \"Iris-setosa\"}, {\"sepal_len\": 5.4, \"sepal_wid\": 3.4, \"petal_len\": 1.7, \"petal_wid\": 0.2, \"class\": \"Iris-setosa\"}, {\"sepal_len\": 5.1, \"sepal_wid\": 3.7, \"petal_len\": 1.5, \"petal_wid\": 0.4, \"class\": \"Iris-setosa\"}, {\"sepal_len\": 4.6, \"sepal_wid\": 3.6, \"petal_len\": 1.0, \"petal_wid\": 0.2, \"class\": \"Iris-setosa\"}, {\"sepal_len\": 5.1, \"sepal_wid\": 3.3, \"petal_len\": 1.7, \"petal_wid\": 0.5, \"class\": \"Iris-setosa\"}, {\"sepal_len\": 4.8, \"sepal_wid\": 3.4, \"petal_len\": 1.9, \"petal_wid\": 0.2, \"class\": \"Iris-setosa\"}, {\"sepal_len\": 5.0, \"sepal_wid\": 3.0, \"petal_len\": 1.6, \"petal_wid\": 0.2, \"class\": \"Iris-setosa\"}, {\"sepal_len\": 5.0, \"sepal_wid\": 3.4, \"petal_len\": 1.6, \"petal_wid\": 0.4, \"class\": \"Iris-setosa\"}, {\"sepal_len\": 5.2, \"sepal_wid\": 3.5, \"petal_len\": 1.5, \"petal_wid\": 0.2, \"class\": \"Iris-setosa\"}, {\"sepal_len\": 5.2, \"sepal_wid\": 3.4, \"petal_len\": 1.4, \"petal_wid\": 0.2, \"class\": \"Iris-setosa\"}, {\"sepal_len\": 4.7, \"sepal_wid\": 3.2, \"petal_len\": 1.6, \"petal_wid\": 0.2, \"class\": \"Iris-setosa\"}, {\"sepal_len\": 4.8, \"sepal_wid\": 3.1, \"petal_len\": 1.6, \"petal_wid\": 0.2, \"class\": \"Iris-setosa\"}, {\"sepal_len\": 5.4, \"sepal_wid\": 3.4, \"petal_len\": 1.5, \"petal_wid\": 0.4, \"class\": \"Iris-setosa\"}, {\"sepal_len\": 5.2, \"sepal_wid\": 4.1, \"petal_len\": 1.5, \"petal_wid\": 0.1, \"class\": \"Iris-setosa\"}, {\"sepal_len\": 5.5, \"sepal_wid\": 4.2, \"petal_len\": 1.4, \"petal_wid\": 0.2, \"class\": \"Iris-setosa\"}, {\"sepal_len\": 4.9, \"sepal_wid\": 3.1, \"petal_len\": 1.5, \"petal_wid\": 0.1, \"class\": \"Iris-setosa\"}, {\"sepal_len\": 5.0, \"sepal_wid\": 3.2, \"petal_len\": 1.2, \"petal_wid\": 0.2, \"class\": \"Iris-setosa\"}, {\"sepal_len\": 5.5, \"sepal_wid\": 3.5, \"petal_len\": 1.3, \"petal_wid\": 0.2, \"class\": \"Iris-setosa\"}, {\"sepal_len\": 4.9, \"sepal_wid\": 3.1, \"petal_len\": 1.5, \"petal_wid\": 0.1, \"class\": \"Iris-setosa\"}, {\"sepal_len\": 4.4, \"sepal_wid\": 3.0, \"petal_len\": 1.3, \"petal_wid\": 0.2, \"class\": \"Iris-setosa\"}, {\"sepal_len\": 5.1, \"sepal_wid\": 3.4, \"petal_len\": 1.5, \"petal_wid\": 0.2, \"class\": \"Iris-setosa\"}, {\"sepal_len\": 5.0, \"sepal_wid\": 3.5, \"petal_len\": 1.3, \"petal_wid\": 0.3, \"class\": \"Iris-setosa\"}, {\"sepal_len\": 4.5, \"sepal_wid\": 2.3, \"petal_len\": 1.3, \"petal_wid\": 0.3, \"class\": \"Iris-setosa\"}, {\"sepal_len\": 4.4, \"sepal_wid\": 3.2, \"petal_len\": 1.3, \"petal_wid\": 0.2, \"class\": \"Iris-setosa\"}, {\"sepal_len\": 5.0, \"sepal_wid\": 3.5, \"petal_len\": 1.6, \"petal_wid\": 0.6, \"class\": \"Iris-setosa\"}, {\"sepal_len\": 5.1, \"sepal_wid\": 3.8, \"petal_len\": 1.9, \"petal_wid\": 0.4, \"class\": \"Iris-setosa\"}, {\"sepal_len\": 4.8, \"sepal_wid\": 3.0, \"petal_len\": 1.4, \"petal_wid\": 0.3, \"class\": \"Iris-setosa\"}, {\"sepal_len\": 5.1, \"sepal_wid\": 3.8, \"petal_len\": 1.6, \"petal_wid\": 0.2, \"class\": \"Iris-setosa\"}, {\"sepal_len\": 4.6, \"sepal_wid\": 3.2, \"petal_len\": 1.4, \"petal_wid\": 0.2, \"class\": \"Iris-setosa\"}, {\"sepal_len\": 5.3, \"sepal_wid\": 3.7, \"petal_len\": 1.5, \"petal_wid\": 0.2, \"class\": \"Iris-setosa\"}, {\"sepal_len\": 5.0, \"sepal_wid\": 3.3, \"petal_len\": 1.4, \"petal_wid\": 0.2, \"class\": \"Iris-setosa\"}, {\"sepal_len\": 7.0, \"sepal_wid\": 3.2, \"petal_len\": 4.7, \"petal_wid\": 1.4, \"class\": \"Iris-versicolor\"}, {\"sepal_len\": 6.4, \"sepal_wid\": 3.2, \"petal_len\": 4.5, \"petal_wid\": 1.5, \"class\": \"Iris-versicolor\"}, {\"sepal_len\": 6.9, \"sepal_wid\": 3.1, \"petal_len\": 4.9, \"petal_wid\": 1.5, \"class\": \"Iris-versicolor\"}, {\"sepal_len\": 5.5, \"sepal_wid\": 2.3, \"petal_len\": 4.0, \"petal_wid\": 1.3, \"class\": \"Iris-versicolor\"}, {\"sepal_len\": 6.5, \"sepal_wid\": 2.8, \"petal_len\": 4.6, \"petal_wid\": 1.5, \"class\": \"Iris-versicolor\"}, {\"sepal_len\": 5.7, \"sepal_wid\": 2.8, \"petal_len\": 4.5, \"petal_wid\": 1.3, \"class\": \"Iris-versicolor\"}, {\"sepal_len\": 6.3, \"sepal_wid\": 3.3, \"petal_len\": 4.7, \"petal_wid\": 1.6, \"class\": \"Iris-versicolor\"}, {\"sepal_len\": 4.9, \"sepal_wid\": 2.4, \"petal_len\": 3.3, \"petal_wid\": 1.0, \"class\": \"Iris-versicolor\"}, {\"sepal_len\": 6.6, \"sepal_wid\": 2.9, \"petal_len\": 4.6, \"petal_wid\": 1.3, \"class\": \"Iris-versicolor\"}, {\"sepal_len\": 5.2, \"sepal_wid\": 2.7, \"petal_len\": 3.9, \"petal_wid\": 1.4, \"class\": \"Iris-versicolor\"}, {\"sepal_len\": 5.0, \"sepal_wid\": 2.0, \"petal_len\": 3.5, \"petal_wid\": 1.0, \"class\": \"Iris-versicolor\"}, {\"sepal_len\": 5.9, \"sepal_wid\": 3.0, \"petal_len\": 4.2, \"petal_wid\": 1.5, \"class\": \"Iris-versicolor\"}, {\"sepal_len\": 6.0, \"sepal_wid\": 2.2, \"petal_len\": 4.0, \"petal_wid\": 1.0, \"class\": \"Iris-versicolor\"}, {\"sepal_len\": 6.1, \"sepal_wid\": 2.9, \"petal_len\": 4.7, \"petal_wid\": 1.4, \"class\": \"Iris-versicolor\"}, {\"sepal_len\": 5.6, \"sepal_wid\": 2.9, \"petal_len\": 3.6, \"petal_wid\": 1.3, \"class\": \"Iris-versicolor\"}, {\"sepal_len\": 6.7, \"sepal_wid\": 3.1, \"petal_len\": 4.4, \"petal_wid\": 1.4, \"class\": \"Iris-versicolor\"}, {\"sepal_len\": 5.6, \"sepal_wid\": 3.0, \"petal_len\": 4.5, \"petal_wid\": 1.5, \"class\": \"Iris-versicolor\"}, {\"sepal_len\": 5.8, \"sepal_wid\": 2.7, \"petal_len\": 4.1, \"petal_wid\": 1.0, \"class\": \"Iris-versicolor\"}, {\"sepal_len\": 6.2, \"sepal_wid\": 2.2, \"petal_len\": 4.5, \"petal_wid\": 1.5, \"class\": \"Iris-versicolor\"}, {\"sepal_len\": 5.6, \"sepal_wid\": 2.5, \"petal_len\": 3.9, \"petal_wid\": 1.1, \"class\": \"Iris-versicolor\"}, {\"sepal_len\": 5.9, \"sepal_wid\": 3.2, \"petal_len\": 4.8, \"petal_wid\": 1.8, \"class\": \"Iris-versicolor\"}, {\"sepal_len\": 6.1, \"sepal_wid\": 2.8, \"petal_len\": 4.0, \"petal_wid\": 1.3, \"class\": \"Iris-versicolor\"}, {\"sepal_len\": 6.3, \"sepal_wid\": 2.5, \"petal_len\": 4.9, \"petal_wid\": 1.5, \"class\": \"Iris-versicolor\"}, {\"sepal_len\": 6.1, \"sepal_wid\": 2.8, \"petal_len\": 4.7, \"petal_wid\": 1.2, \"class\": \"Iris-versicolor\"}, {\"sepal_len\": 6.4, \"sepal_wid\": 2.9, \"petal_len\": 4.3, \"petal_wid\": 1.3, \"class\": \"Iris-versicolor\"}, {\"sepal_len\": 6.6, \"sepal_wid\": 3.0, \"petal_len\": 4.4, \"petal_wid\": 1.4, \"class\": \"Iris-versicolor\"}, {\"sepal_len\": 6.8, \"sepal_wid\": 2.8, \"petal_len\": 4.8, \"petal_wid\": 1.4, \"class\": \"Iris-versicolor\"}, {\"sepal_len\": 6.7, \"sepal_wid\": 3.0, \"petal_len\": 5.0, \"petal_wid\": 1.7, \"class\": \"Iris-versicolor\"}, {\"sepal_len\": 6.0, \"sepal_wid\": 2.9, \"petal_len\": 4.5, \"petal_wid\": 1.5, \"class\": \"Iris-versicolor\"}, {\"sepal_len\": 5.7, \"sepal_wid\": 2.6, \"petal_len\": 3.5, \"petal_wid\": 1.0, \"class\": \"Iris-versicolor\"}, {\"sepal_len\": 5.5, \"sepal_wid\": 2.4, \"petal_len\": 3.8, \"petal_wid\": 1.1, \"class\": \"Iris-versicolor\"}, {\"sepal_len\": 5.5, \"sepal_wid\": 2.4, \"petal_len\": 3.7, \"petal_wid\": 1.0, \"class\": \"Iris-versicolor\"}, {\"sepal_len\": 5.8, \"sepal_wid\": 2.7, \"petal_len\": 3.9, \"petal_wid\": 1.2, \"class\": \"Iris-versicolor\"}, {\"sepal_len\": 6.0, \"sepal_wid\": 2.7, \"petal_len\": 5.1, \"petal_wid\": 1.6, \"class\": \"Iris-versicolor\"}, {\"sepal_len\": 5.4, \"sepal_wid\": 3.0, \"petal_len\": 4.5, \"petal_wid\": 1.5, \"class\": \"Iris-versicolor\"}, {\"sepal_len\": 6.0, \"sepal_wid\": 3.4, \"petal_len\": 4.5, \"petal_wid\": 1.6, \"class\": \"Iris-versicolor\"}, {\"sepal_len\": 6.7, \"sepal_wid\": 3.1, \"petal_len\": 4.7, \"petal_wid\": 1.5, \"class\": \"Iris-versicolor\"}, {\"sepal_len\": 6.3, \"sepal_wid\": 2.3, \"petal_len\": 4.4, \"petal_wid\": 1.3, \"class\": \"Iris-versicolor\"}, {\"sepal_len\": 5.6, \"sepal_wid\": 3.0, \"petal_len\": 4.1, \"petal_wid\": 1.3, \"class\": \"Iris-versicolor\"}, {\"sepal_len\": 5.5, \"sepal_wid\": 2.5, \"petal_len\": 4.0, \"petal_wid\": 1.3, \"class\": \"Iris-versicolor\"}, {\"sepal_len\": 5.5, \"sepal_wid\": 2.6, \"petal_len\": 4.4, \"petal_wid\": 1.2, \"class\": \"Iris-versicolor\"}, {\"sepal_len\": 6.1, \"sepal_wid\": 3.0, \"petal_len\": 4.6, \"petal_wid\": 1.4, \"class\": \"Iris-versicolor\"}, {\"sepal_len\": 5.8, \"sepal_wid\": 2.6, \"petal_len\": 4.0, \"petal_wid\": 1.2, \"class\": \"Iris-versicolor\"}, {\"sepal_len\": 5.0, \"sepal_wid\": 2.3, \"petal_len\": 3.3, \"petal_wid\": 1.0, \"class\": \"Iris-versicolor\"}, {\"sepal_len\": 5.6, \"sepal_wid\": 2.7, \"petal_len\": 4.2, \"petal_wid\": 1.3, \"class\": \"Iris-versicolor\"}, {\"sepal_len\": 5.7, \"sepal_wid\": 3.0, \"petal_len\": 4.2, \"petal_wid\": 1.2, \"class\": \"Iris-versicolor\"}, {\"sepal_len\": 5.7, \"sepal_wid\": 2.9, \"petal_len\": 4.2, \"petal_wid\": 1.3, \"class\": \"Iris-versicolor\"}, {\"sepal_len\": 6.2, \"sepal_wid\": 2.9, \"petal_len\": 4.3, \"petal_wid\": 1.3, \"class\": \"Iris-versicolor\"}, {\"sepal_len\": 5.1, \"sepal_wid\": 2.5, \"petal_len\": 3.0, \"petal_wid\": 1.1, \"class\": \"Iris-versicolor\"}, {\"sepal_len\": 5.7, \"sepal_wid\": 2.8, \"petal_len\": 4.1, \"petal_wid\": 1.3, \"class\": \"Iris-versicolor\"}, {\"sepal_len\": 6.3, \"sepal_wid\": 3.3, \"petal_len\": 6.0, \"petal_wid\": 2.5, \"class\": \"Iris-virginica\"}, {\"sepal_len\": 5.8, \"sepal_wid\": 2.7, \"petal_len\": 5.1, \"petal_wid\": 1.9, \"class\": \"Iris-virginica\"}, {\"sepal_len\": 7.1, \"sepal_wid\": 3.0, \"petal_len\": 5.9, \"petal_wid\": 2.1, \"class\": \"Iris-virginica\"}, {\"sepal_len\": 6.3, \"sepal_wid\": 2.9, \"petal_len\": 5.6, \"petal_wid\": 1.8, \"class\": \"Iris-virginica\"}, {\"sepal_len\": 6.5, \"sepal_wid\": 3.0, \"petal_len\": 5.8, \"petal_wid\": 2.2, \"class\": \"Iris-virginica\"}, {\"sepal_len\": 7.6, \"sepal_wid\": 3.0, \"petal_len\": 6.6, \"petal_wid\": 2.1, \"class\": \"Iris-virginica\"}, {\"sepal_len\": 4.9, \"sepal_wid\": 2.5, \"petal_len\": 4.5, \"petal_wid\": 1.7, \"class\": \"Iris-virginica\"}, {\"sepal_len\": 7.3, \"sepal_wid\": 2.9, \"petal_len\": 6.3, \"petal_wid\": 1.8, \"class\": \"Iris-virginica\"}, {\"sepal_len\": 6.7, \"sepal_wid\": 2.5, \"petal_len\": 5.8, \"petal_wid\": 1.8, \"class\": \"Iris-virginica\"}, {\"sepal_len\": 7.2, \"sepal_wid\": 3.6, \"petal_len\": 6.1, \"petal_wid\": 2.5, \"class\": \"Iris-virginica\"}, {\"sepal_len\": 6.5, \"sepal_wid\": 3.2, \"petal_len\": 5.1, \"petal_wid\": 2.0, \"class\": \"Iris-virginica\"}, {\"sepal_len\": 6.4, \"sepal_wid\": 2.7, \"petal_len\": 5.3, \"petal_wid\": 1.9, \"class\": \"Iris-virginica\"}, {\"sepal_len\": 6.8, \"sepal_wid\": 3.0, \"petal_len\": 5.5, \"petal_wid\": 2.1, \"class\": \"Iris-virginica\"}, {\"sepal_len\": 5.7, \"sepal_wid\": 2.5, \"petal_len\": 5.0, \"petal_wid\": 2.0, \"class\": \"Iris-virginica\"}, {\"sepal_len\": 5.8, \"sepal_wid\": 2.8, \"petal_len\": 5.1, \"petal_wid\": 2.4, \"class\": \"Iris-virginica\"}, {\"sepal_len\": 6.4, \"sepal_wid\": 3.2, \"petal_len\": 5.3, \"petal_wid\": 2.3, \"class\": \"Iris-virginica\"}, {\"sepal_len\": 6.5, \"sepal_wid\": 3.0, \"petal_len\": 5.5, \"petal_wid\": 1.8, \"class\": \"Iris-virginica\"}, {\"sepal_len\": 7.7, \"sepal_wid\": 3.8, \"petal_len\": 6.7, \"petal_wid\": 2.2, \"class\": \"Iris-virginica\"}, {\"sepal_len\": 7.7, \"sepal_wid\": 2.6, \"petal_len\": 6.9, \"petal_wid\": 2.3, \"class\": \"Iris-virginica\"}, {\"sepal_len\": 6.0, \"sepal_wid\": 2.2, \"petal_len\": 5.0, \"petal_wid\": 1.5, \"class\": \"Iris-virginica\"}, {\"sepal_len\": 6.9, \"sepal_wid\": 3.2, \"petal_len\": 5.7, \"petal_wid\": 2.3, \"class\": \"Iris-virginica\"}, {\"sepal_len\": 5.6, \"sepal_wid\": 2.8, \"petal_len\": 4.9, \"petal_wid\": 2.0, \"class\": \"Iris-virginica\"}, {\"sepal_len\": 7.7, \"sepal_wid\": 2.8, \"petal_len\": 6.7, \"petal_wid\": 2.0, \"class\": \"Iris-virginica\"}, {\"sepal_len\": 6.3, \"sepal_wid\": 2.7, \"petal_len\": 4.9, \"petal_wid\": 1.8, \"class\": \"Iris-virginica\"}, {\"sepal_len\": 6.7, \"sepal_wid\": 3.3, \"petal_len\": 5.7, \"petal_wid\": 2.1, \"class\": \"Iris-virginica\"}, {\"sepal_len\": 7.2, \"sepal_wid\": 3.2, \"petal_len\": 6.0, \"petal_wid\": 1.8, \"class\": \"Iris-virginica\"}, {\"sepal_len\": 6.2, \"sepal_wid\": 2.8, \"petal_len\": 4.8, \"petal_wid\": 1.8, \"class\": \"Iris-virginica\"}, {\"sepal_len\": 6.1, \"sepal_wid\": 3.0, \"petal_len\": 4.9, \"petal_wid\": 1.8, \"class\": \"Iris-virginica\"}, {\"sepal_len\": 6.4, \"sepal_wid\": 2.8, \"petal_len\": 5.6, \"petal_wid\": 2.1, \"class\": \"Iris-virginica\"}, {\"sepal_len\": 7.2, \"sepal_wid\": 3.0, \"petal_len\": 5.8, \"petal_wid\": 1.6, \"class\": \"Iris-virginica\"}, {\"sepal_len\": 7.4, \"sepal_wid\": 2.8, \"petal_len\": 6.1, \"petal_wid\": 1.9, \"class\": \"Iris-virginica\"}, {\"sepal_len\": 7.9, \"sepal_wid\": 3.8, \"petal_len\": 6.4, \"petal_wid\": 2.0, \"class\": \"Iris-virginica\"}, {\"sepal_len\": 6.4, \"sepal_wid\": 2.8, \"petal_len\": 5.6, \"petal_wid\": 2.2, \"class\": \"Iris-virginica\"}, {\"sepal_len\": 6.3, \"sepal_wid\": 2.8, \"petal_len\": 5.1, \"petal_wid\": 1.5, \"class\": \"Iris-virginica\"}, {\"sepal_len\": 6.1, \"sepal_wid\": 2.6, \"petal_len\": 5.6, \"petal_wid\": 1.4, \"class\": \"Iris-virginica\"}, {\"sepal_len\": 7.7, \"sepal_wid\": 3.0, \"petal_len\": 6.1, \"petal_wid\": 2.3, \"class\": \"Iris-virginica\"}, {\"sepal_len\": 6.3, \"sepal_wid\": 3.4, \"petal_len\": 5.6, \"petal_wid\": 2.4, \"class\": \"Iris-virginica\"}, {\"sepal_len\": 6.4, \"sepal_wid\": 3.1, \"petal_len\": 5.5, \"petal_wid\": 1.8, \"class\": \"Iris-virginica\"}, {\"sepal_len\": 6.0, \"sepal_wid\": 3.0, \"petal_len\": 4.8, \"petal_wid\": 1.8, \"class\": \"Iris-virginica\"}, {\"sepal_len\": 6.9, \"sepal_wid\": 3.1, \"petal_len\": 5.4, \"petal_wid\": 2.1, \"class\": \"Iris-virginica\"}, {\"sepal_len\": 6.7, \"sepal_wid\": 3.1, \"petal_len\": 5.6, \"petal_wid\": 2.4, \"class\": \"Iris-virginica\"}, {\"sepal_len\": 6.9, \"sepal_wid\": 3.1, \"petal_len\": 5.1, \"petal_wid\": 2.3, \"class\": \"Iris-virginica\"}, {\"sepal_len\": 5.8, \"sepal_wid\": 2.7, \"petal_len\": 5.1, \"petal_wid\": 1.9, \"class\": \"Iris-virginica\"}, {\"sepal_len\": 6.8, \"sepal_wid\": 3.2, \"petal_len\": 5.9, \"petal_wid\": 2.3, \"class\": \"Iris-virginica\"}, {\"sepal_len\": 6.7, \"sepal_wid\": 3.3, \"petal_len\": 5.7, \"petal_wid\": 2.5, \"class\": \"Iris-virginica\"}, {\"sepal_len\": 6.7, \"sepal_wid\": 3.0, \"petal_len\": 5.2, \"petal_wid\": 2.3, \"class\": \"Iris-virginica\"}, {\"sepal_len\": 6.3, \"sepal_wid\": 2.5, \"petal_len\": 5.0, \"petal_wid\": 1.9, \"class\": \"Iris-virginica\"}, {\"sepal_len\": 6.5, \"sepal_wid\": 3.0, \"petal_len\": 5.2, \"petal_wid\": 2.0, \"class\": \"Iris-virginica\"}, {\"sepal_len\": 6.2, \"sepal_wid\": 3.4, \"petal_len\": 5.4, \"petal_wid\": 2.3, \"class\": \"Iris-virginica\"}, {\"sepal_len\": 5.9, \"sepal_wid\": 3.0, \"petal_len\": 5.1, \"petal_wid\": 1.8, \"class\": \"Iris-virginica\"}]}}, {\"mode\": \"vega-lite\"});\n",
       "</script>"
      ],
      "text/plain": [
       "alt.HConcatChart(...)"
      ]
     },
     "execution_count": 11,
     "metadata": {},
     "output_type": "execute_result"
    }
   ],
   "source": [
    "# Here's Altair's start plot taken directly from https://altair-viz.github.io/gallery/dot_dash_plot.html but popping in our sepal data\n",
    "# sepal_len', 'sepal_wid', 'petal_wid', 'class\n",
    "\n",
    "# Configure the options common to all layers\n",
    "brush = alt.selection(type='interval')\n",
    "base = alt.Chart(data).add_selection(brush)\n",
    "\n",
    "# Configure the points\n",
    "points = base.mark_point().encode(\n",
    "    x=alt.X('sepal_len', title=''),\n",
    "    y=alt.Y('sepal_wid', title=''),\n",
    "    color=alt.condition(brush, 'class', alt.value('grey'))\n",
    ")\n",
    "\n",
    "# Configure the ticks\n",
    "tick_axis = alt.Axis(labels=False, domain=False, ticks=False)\n",
    "\n",
    "x_ticks = base.mark_tick().encode(\n",
    "    alt.X('sepal_len', axis=tick_axis),\n",
    "    alt.Y('class', title='', axis=tick_axis),\n",
    "    color=alt.condition(brush, 'class', alt.value('lightgrey'))\n",
    ")\n",
    "\n",
    "y_ticks = base.mark_tick().encode(\n",
    "    alt.X('class', title='', axis=tick_axis),\n",
    "    alt.Y('sepal_wid', axis=tick_axis),\n",
    "    color=alt.condition(brush, 'class', alt.value('lightgrey'))\n",
    ")\n",
    "\n",
    "# Build the chart\n",
    "y_ticks | (points & x_ticks)"
   ]
  },
  {
   "cell_type": "markdown",
   "id": "ee39c3fb-f8ed-4c72-af36-05272b6a4505",
   "metadata": {},
   "source": [
    "## Modifications\n",
    "\n",
    "Lets first fix these bottom axes so most of the space is used properly, we can do this by either clearing out the frame space that isn't used or not starting from zero which I think is a reasonable move if you want to show relationships, however this can misconstrue the scale of differences if there are tiny deviations overall.\n",
    "\n",
    "Altair has a great guide on their modification of axes here: https://altair-viz.github.io/user_guide/customization.html?highlight=axis#adjusting-axis-limits which we'll be using extensively.\n",
    "\n",
    "### Modify the Scale to Fill | Line 11-12\n",
    "Lets first change the scale to not start at 0 by setting the scale keyword zero to be false. We could also take the min and max of our X variable 'sepal length' and Y variable sepal width and set the domain keyword to a tuple of those values.\n",
    "\n",
    "### Turn Down the Grid | Line 6-7\n",
    "Lets also modify the grid values & try and remove more ink for free, see line 6 with the plot_axis and alt.Axis object we're defining\n",
    "\n",
    "### Add in Quartiles | Line 31-39\n",
    "Lets also add in boxplots to the grid to see distributions in the axes. In Tufte's book he actually converts the axis itself into the distribution. I'm not sure how to implement that and I actually think this works really nicely as its written below!\n",
    "\n",
    "### Altair is Cool, Draw a Grid!\n",
    "Also try dragging a small selection box over the viz and then moving the box around, you can see the distributions and values light up as to which are selected."
   ]
  },
  {
   "cell_type": "code",
   "execution_count": 64,
   "id": "37b0b09e-4234-45d6-a174-de00b04f754d",
   "metadata": {},
   "outputs": [
    {
     "data": {
      "text/html": [
       "\n",
       "<div id=\"altair-viz-29dad6c6c73247ed9315f5cee557a406\"></div>\n",
       "<script type=\"text/javascript\">\n",
       "  var VEGA_DEBUG = (typeof VEGA_DEBUG == \"undefined\") ? {} : VEGA_DEBUG;\n",
       "  (function(spec, embedOpt){\n",
       "    let outputDiv = document.currentScript.previousElementSibling;\n",
       "    if (outputDiv.id !== \"altair-viz-29dad6c6c73247ed9315f5cee557a406\") {\n",
       "      outputDiv = document.getElementById(\"altair-viz-29dad6c6c73247ed9315f5cee557a406\");\n",
       "    }\n",
       "    const paths = {\n",
       "      \"vega\": \"https://cdn.jsdelivr.net/npm//vega@5?noext\",\n",
       "      \"vega-lib\": \"https://cdn.jsdelivr.net/npm//vega-lib?noext\",\n",
       "      \"vega-lite\": \"https://cdn.jsdelivr.net/npm//vega-lite@4.17.0?noext\",\n",
       "      \"vega-embed\": \"https://cdn.jsdelivr.net/npm//vega-embed@6?noext\",\n",
       "    };\n",
       "\n",
       "    function maybeLoadScript(lib, version) {\n",
       "      var key = `${lib.replace(\"-\", \"\")}_version`;\n",
       "      return (VEGA_DEBUG[key] == version) ?\n",
       "        Promise.resolve(paths[lib]) :\n",
       "        new Promise(function(resolve, reject) {\n",
       "          var s = document.createElement('script');\n",
       "          document.getElementsByTagName(\"head\")[0].appendChild(s);\n",
       "          s.async = true;\n",
       "          s.onload = () => {\n",
       "            VEGA_DEBUG[key] = version;\n",
       "            return resolve(paths[lib]);\n",
       "          };\n",
       "          s.onerror = () => reject(`Error loading script: ${paths[lib]}`);\n",
       "          s.src = paths[lib];\n",
       "        });\n",
       "    }\n",
       "\n",
       "    function showError(err) {\n",
       "      outputDiv.innerHTML = `<div class=\"error\" style=\"color:red;\">${err}</div>`;\n",
       "      throw err;\n",
       "    }\n",
       "\n",
       "    function displayChart(vegaEmbed) {\n",
       "      vegaEmbed(outputDiv, spec, embedOpt)\n",
       "        .catch(err => showError(`Javascript Error: ${err.message}<br>This usually means there's a typo in your chart specification. See the javascript console for the full traceback.`));\n",
       "    }\n",
       "\n",
       "    if(typeof define === \"function\" && define.amd) {\n",
       "      requirejs.config({paths});\n",
       "      require([\"vega-embed\"], displayChart, err => showError(`Error loading script: ${err.message}`));\n",
       "    } else {\n",
       "      maybeLoadScript(\"vega\", \"5\")\n",
       "        .then(() => maybeLoadScript(\"vega-lite\", \"4.17.0\"))\n",
       "        .then(() => maybeLoadScript(\"vega-embed\", \"6\"))\n",
       "        .catch(showError)\n",
       "        .then(() => displayChart(vegaEmbed));\n",
       "    }\n",
       "  })({\"usermeta\": {\"embedOptions\": {\"theme\": \"urbaninstitute\"}}, \"config\": {\"view\": {\"continuousWidth\": 400, \"continuousHeight\": 300}}, \"hconcat\": [{\"mark\": \"tick\", \"encoding\": {\"color\": {\"condition\": {\"field\": \"class\", \"type\": \"nominal\", \"selection\": \"selector033\"}, \"value\": \"lightgrey\"}, \"x\": {\"axis\": {\"domain\": false, \"grid\": false, \"labels\": false, \"ticks\": false}, \"field\": \"class\", \"title\": \"\", \"type\": \"nominal\"}, \"y\": {\"axis\": {\"domain\": false, \"grid\": false, \"labels\": false, \"ticks\": false}, \"field\": \"sepal_wid\", \"scale\": {\"zero\": false}, \"type\": \"quantitative\"}}, \"selection\": {\"selector033\": {\"type\": \"interval\"}}}, {\"mark\": {\"type\": \"boxplot\", \"extent\": \"min-max\"}, \"encoding\": {\"color\": {\"field\": \"class\", \"type\": \"nominal\"}, \"x\": {\"axis\": {\"domain\": false, \"grid\": false, \"labels\": false, \"ticks\": false}, \"field\": \"class\", \"title\": \"\", \"type\": \"nominal\"}, \"y\": {\"axis\": {\"domain\": false, \"grid\": false, \"labels\": false, \"ticks\": false}, \"field\": \"sepal_wid\", \"scale\": {\"zero\": false}, \"title\": \"\", \"type\": \"quantitative\"}}, \"selection\": {\"selector033\": {\"type\": \"interval\"}}}, {\"vconcat\": [{\"mark\": \"point\", \"encoding\": {\"color\": {\"condition\": {\"field\": \"class\", \"type\": \"nominal\", \"selection\": \"selector033\"}, \"value\": \"grey\"}, \"x\": {\"axis\": {\"domain\": false, \"grid\": false, \"labels\": true, \"ticks\": false}, \"field\": \"sepal_len\", \"scale\": {\"zero\": false}, \"title\": \"\", \"type\": \"quantitative\"}, \"y\": {\"axis\": {\"domain\": false, \"grid\": false, \"labels\": true, \"ticks\": false}, \"field\": \"sepal_wid\", \"scale\": {\"zero\": false}, \"title\": \"\", \"type\": \"quantitative\"}}, \"selection\": {\"selector033\": {\"type\": \"interval\"}}}, {\"mark\": {\"type\": \"boxplot\", \"extent\": \"min-max\"}, \"encoding\": {\"color\": {\"field\": \"class\", \"type\": \"nominal\"}, \"x\": {\"axis\": {\"domain\": false, \"grid\": false, \"labels\": false, \"ticks\": false}, \"field\": \"sepal_len\", \"scale\": {\"zero\": false}, \"title\": \"\", \"type\": \"quantitative\"}, \"y\": {\"axis\": {\"domain\": false, \"grid\": false, \"labels\": false, \"ticks\": false}, \"field\": \"class\", \"title\": \"\", \"type\": \"nominal\"}}, \"selection\": {\"selector033\": {\"type\": \"interval\"}}}, {\"mark\": \"tick\", \"encoding\": {\"color\": {\"condition\": {\"field\": \"class\", \"type\": \"nominal\", \"selection\": \"selector033\"}, \"value\": \"lightgrey\"}, \"x\": {\"axis\": {\"domain\": false, \"grid\": false, \"labels\": false, \"ticks\": false}, \"field\": \"sepal_len\", \"scale\": {\"zero\": false}, \"type\": \"quantitative\"}, \"y\": {\"axis\": {\"domain\": false, \"grid\": false, \"labels\": false, \"ticks\": false}, \"field\": \"class\", \"title\": \"\", \"type\": \"nominal\"}}, \"selection\": {\"selector033\": {\"type\": \"interval\"}}}]}], \"data\": {\"name\": \"data-a5daf532ab2c54ce7e41ec121f265ace\"}, \"$schema\": \"https://vega.github.io/schema/vega-lite/v4.17.0.json\", \"datasets\": {\"data-a5daf532ab2c54ce7e41ec121f265ace\": [{\"sepal_len\": 5.1, \"sepal_wid\": 3.5, \"petal_len\": 1.4, \"petal_wid\": 0.2, \"class\": \"Iris-setosa\"}, {\"sepal_len\": 4.9, \"sepal_wid\": 3.0, \"petal_len\": 1.4, \"petal_wid\": 0.2, \"class\": \"Iris-setosa\"}, {\"sepal_len\": 4.7, \"sepal_wid\": 3.2, \"petal_len\": 1.3, \"petal_wid\": 0.2, \"class\": \"Iris-setosa\"}, {\"sepal_len\": 4.6, \"sepal_wid\": 3.1, \"petal_len\": 1.5, \"petal_wid\": 0.2, \"class\": \"Iris-setosa\"}, {\"sepal_len\": 5.0, \"sepal_wid\": 3.6, \"petal_len\": 1.4, \"petal_wid\": 0.2, \"class\": \"Iris-setosa\"}, {\"sepal_len\": 5.4, \"sepal_wid\": 3.9, \"petal_len\": 1.7, \"petal_wid\": 0.4, \"class\": \"Iris-setosa\"}, {\"sepal_len\": 4.6, \"sepal_wid\": 3.4, \"petal_len\": 1.4, \"petal_wid\": 0.3, \"class\": \"Iris-setosa\"}, {\"sepal_len\": 5.0, \"sepal_wid\": 3.4, \"petal_len\": 1.5, \"petal_wid\": 0.2, \"class\": \"Iris-setosa\"}, {\"sepal_len\": 4.4, \"sepal_wid\": 2.9, \"petal_len\": 1.4, \"petal_wid\": 0.2, \"class\": \"Iris-setosa\"}, {\"sepal_len\": 4.9, \"sepal_wid\": 3.1, \"petal_len\": 1.5, \"petal_wid\": 0.1, \"class\": \"Iris-setosa\"}, {\"sepal_len\": 5.4, \"sepal_wid\": 3.7, \"petal_len\": 1.5, \"petal_wid\": 0.2, \"class\": \"Iris-setosa\"}, {\"sepal_len\": 4.8, \"sepal_wid\": 3.4, \"petal_len\": 1.6, \"petal_wid\": 0.2, \"class\": \"Iris-setosa\"}, {\"sepal_len\": 4.8, \"sepal_wid\": 3.0, \"petal_len\": 1.4, \"petal_wid\": 0.1, \"class\": \"Iris-setosa\"}, {\"sepal_len\": 4.3, \"sepal_wid\": 3.0, \"petal_len\": 1.1, \"petal_wid\": 0.1, \"class\": \"Iris-setosa\"}, {\"sepal_len\": 5.8, \"sepal_wid\": 4.0, \"petal_len\": 1.2, \"petal_wid\": 0.2, \"class\": \"Iris-setosa\"}, {\"sepal_len\": 5.7, \"sepal_wid\": 4.4, \"petal_len\": 1.5, \"petal_wid\": 0.4, \"class\": \"Iris-setosa\"}, {\"sepal_len\": 5.4, \"sepal_wid\": 3.9, \"petal_len\": 1.3, \"petal_wid\": 0.4, \"class\": \"Iris-setosa\"}, {\"sepal_len\": 5.1, \"sepal_wid\": 3.5, \"petal_len\": 1.4, \"petal_wid\": 0.3, \"class\": \"Iris-setosa\"}, {\"sepal_len\": 5.7, \"sepal_wid\": 3.8, \"petal_len\": 1.7, \"petal_wid\": 0.3, \"class\": \"Iris-setosa\"}, {\"sepal_len\": 5.1, \"sepal_wid\": 3.8, \"petal_len\": 1.5, \"petal_wid\": 0.3, \"class\": \"Iris-setosa\"}, {\"sepal_len\": 5.4, \"sepal_wid\": 3.4, \"petal_len\": 1.7, \"petal_wid\": 0.2, \"class\": \"Iris-setosa\"}, {\"sepal_len\": 5.1, \"sepal_wid\": 3.7, \"petal_len\": 1.5, \"petal_wid\": 0.4, \"class\": \"Iris-setosa\"}, {\"sepal_len\": 4.6, \"sepal_wid\": 3.6, \"petal_len\": 1.0, \"petal_wid\": 0.2, \"class\": \"Iris-setosa\"}, {\"sepal_len\": 5.1, \"sepal_wid\": 3.3, \"petal_len\": 1.7, \"petal_wid\": 0.5, \"class\": \"Iris-setosa\"}, {\"sepal_len\": 4.8, \"sepal_wid\": 3.4, \"petal_len\": 1.9, \"petal_wid\": 0.2, \"class\": \"Iris-setosa\"}, {\"sepal_len\": 5.0, \"sepal_wid\": 3.0, \"petal_len\": 1.6, \"petal_wid\": 0.2, \"class\": \"Iris-setosa\"}, {\"sepal_len\": 5.0, \"sepal_wid\": 3.4, \"petal_len\": 1.6, \"petal_wid\": 0.4, \"class\": \"Iris-setosa\"}, {\"sepal_len\": 5.2, \"sepal_wid\": 3.5, \"petal_len\": 1.5, \"petal_wid\": 0.2, \"class\": \"Iris-setosa\"}, {\"sepal_len\": 5.2, \"sepal_wid\": 3.4, \"petal_len\": 1.4, \"petal_wid\": 0.2, \"class\": \"Iris-setosa\"}, {\"sepal_len\": 4.7, \"sepal_wid\": 3.2, \"petal_len\": 1.6, \"petal_wid\": 0.2, \"class\": \"Iris-setosa\"}, {\"sepal_len\": 4.8, \"sepal_wid\": 3.1, \"petal_len\": 1.6, \"petal_wid\": 0.2, \"class\": \"Iris-setosa\"}, {\"sepal_len\": 5.4, \"sepal_wid\": 3.4, \"petal_len\": 1.5, \"petal_wid\": 0.4, \"class\": \"Iris-setosa\"}, {\"sepal_len\": 5.2, \"sepal_wid\": 4.1, \"petal_len\": 1.5, \"petal_wid\": 0.1, \"class\": \"Iris-setosa\"}, {\"sepal_len\": 5.5, \"sepal_wid\": 4.2, \"petal_len\": 1.4, \"petal_wid\": 0.2, \"class\": \"Iris-setosa\"}, {\"sepal_len\": 4.9, \"sepal_wid\": 3.1, \"petal_len\": 1.5, \"petal_wid\": 0.1, \"class\": \"Iris-setosa\"}, {\"sepal_len\": 5.0, \"sepal_wid\": 3.2, \"petal_len\": 1.2, \"petal_wid\": 0.2, \"class\": \"Iris-setosa\"}, {\"sepal_len\": 5.5, \"sepal_wid\": 3.5, \"petal_len\": 1.3, \"petal_wid\": 0.2, \"class\": \"Iris-setosa\"}, {\"sepal_len\": 4.9, \"sepal_wid\": 3.1, \"petal_len\": 1.5, \"petal_wid\": 0.1, \"class\": \"Iris-setosa\"}, {\"sepal_len\": 4.4, \"sepal_wid\": 3.0, \"petal_len\": 1.3, \"petal_wid\": 0.2, \"class\": \"Iris-setosa\"}, {\"sepal_len\": 5.1, \"sepal_wid\": 3.4, \"petal_len\": 1.5, \"petal_wid\": 0.2, \"class\": \"Iris-setosa\"}, {\"sepal_len\": 5.0, \"sepal_wid\": 3.5, \"petal_len\": 1.3, \"petal_wid\": 0.3, \"class\": \"Iris-setosa\"}, {\"sepal_len\": 4.5, \"sepal_wid\": 2.3, \"petal_len\": 1.3, \"petal_wid\": 0.3, \"class\": \"Iris-setosa\"}, {\"sepal_len\": 4.4, \"sepal_wid\": 3.2, \"petal_len\": 1.3, \"petal_wid\": 0.2, \"class\": \"Iris-setosa\"}, {\"sepal_len\": 5.0, \"sepal_wid\": 3.5, \"petal_len\": 1.6, \"petal_wid\": 0.6, \"class\": \"Iris-setosa\"}, {\"sepal_len\": 5.1, \"sepal_wid\": 3.8, \"petal_len\": 1.9, \"petal_wid\": 0.4, \"class\": \"Iris-setosa\"}, {\"sepal_len\": 4.8, \"sepal_wid\": 3.0, \"petal_len\": 1.4, \"petal_wid\": 0.3, \"class\": \"Iris-setosa\"}, {\"sepal_len\": 5.1, \"sepal_wid\": 3.8, \"petal_len\": 1.6, \"petal_wid\": 0.2, \"class\": \"Iris-setosa\"}, {\"sepal_len\": 4.6, \"sepal_wid\": 3.2, \"petal_len\": 1.4, \"petal_wid\": 0.2, \"class\": \"Iris-setosa\"}, {\"sepal_len\": 5.3, \"sepal_wid\": 3.7, \"petal_len\": 1.5, \"petal_wid\": 0.2, \"class\": \"Iris-setosa\"}, {\"sepal_len\": 5.0, \"sepal_wid\": 3.3, \"petal_len\": 1.4, \"petal_wid\": 0.2, \"class\": \"Iris-setosa\"}, {\"sepal_len\": 7.0, \"sepal_wid\": 3.2, \"petal_len\": 4.7, \"petal_wid\": 1.4, \"class\": \"Iris-versicolor\"}, {\"sepal_len\": 6.4, \"sepal_wid\": 3.2, \"petal_len\": 4.5, \"petal_wid\": 1.5, \"class\": \"Iris-versicolor\"}, {\"sepal_len\": 6.9, \"sepal_wid\": 3.1, \"petal_len\": 4.9, \"petal_wid\": 1.5, \"class\": \"Iris-versicolor\"}, {\"sepal_len\": 5.5, \"sepal_wid\": 2.3, \"petal_len\": 4.0, \"petal_wid\": 1.3, \"class\": \"Iris-versicolor\"}, {\"sepal_len\": 6.5, \"sepal_wid\": 2.8, \"petal_len\": 4.6, \"petal_wid\": 1.5, \"class\": \"Iris-versicolor\"}, {\"sepal_len\": 5.7, \"sepal_wid\": 2.8, \"petal_len\": 4.5, \"petal_wid\": 1.3, \"class\": \"Iris-versicolor\"}, {\"sepal_len\": 6.3, \"sepal_wid\": 3.3, \"petal_len\": 4.7, \"petal_wid\": 1.6, \"class\": \"Iris-versicolor\"}, {\"sepal_len\": 4.9, \"sepal_wid\": 2.4, \"petal_len\": 3.3, \"petal_wid\": 1.0, \"class\": \"Iris-versicolor\"}, {\"sepal_len\": 6.6, \"sepal_wid\": 2.9, \"petal_len\": 4.6, \"petal_wid\": 1.3, \"class\": \"Iris-versicolor\"}, {\"sepal_len\": 5.2, \"sepal_wid\": 2.7, \"petal_len\": 3.9, \"petal_wid\": 1.4, \"class\": \"Iris-versicolor\"}, {\"sepal_len\": 5.0, \"sepal_wid\": 2.0, \"petal_len\": 3.5, \"petal_wid\": 1.0, \"class\": \"Iris-versicolor\"}, {\"sepal_len\": 5.9, \"sepal_wid\": 3.0, \"petal_len\": 4.2, \"petal_wid\": 1.5, \"class\": \"Iris-versicolor\"}, {\"sepal_len\": 6.0, \"sepal_wid\": 2.2, \"petal_len\": 4.0, \"petal_wid\": 1.0, \"class\": \"Iris-versicolor\"}, {\"sepal_len\": 6.1, \"sepal_wid\": 2.9, \"petal_len\": 4.7, \"petal_wid\": 1.4, \"class\": \"Iris-versicolor\"}, {\"sepal_len\": 5.6, \"sepal_wid\": 2.9, \"petal_len\": 3.6, \"petal_wid\": 1.3, \"class\": \"Iris-versicolor\"}, {\"sepal_len\": 6.7, \"sepal_wid\": 3.1, \"petal_len\": 4.4, \"petal_wid\": 1.4, \"class\": \"Iris-versicolor\"}, {\"sepal_len\": 5.6, \"sepal_wid\": 3.0, \"petal_len\": 4.5, \"petal_wid\": 1.5, \"class\": \"Iris-versicolor\"}, {\"sepal_len\": 5.8, \"sepal_wid\": 2.7, \"petal_len\": 4.1, \"petal_wid\": 1.0, \"class\": \"Iris-versicolor\"}, {\"sepal_len\": 6.2, \"sepal_wid\": 2.2, \"petal_len\": 4.5, \"petal_wid\": 1.5, \"class\": \"Iris-versicolor\"}, {\"sepal_len\": 5.6, \"sepal_wid\": 2.5, \"petal_len\": 3.9, \"petal_wid\": 1.1, \"class\": \"Iris-versicolor\"}, {\"sepal_len\": 5.9, \"sepal_wid\": 3.2, \"petal_len\": 4.8, \"petal_wid\": 1.8, \"class\": \"Iris-versicolor\"}, {\"sepal_len\": 6.1, \"sepal_wid\": 2.8, \"petal_len\": 4.0, \"petal_wid\": 1.3, \"class\": \"Iris-versicolor\"}, {\"sepal_len\": 6.3, \"sepal_wid\": 2.5, \"petal_len\": 4.9, \"petal_wid\": 1.5, \"class\": \"Iris-versicolor\"}, {\"sepal_len\": 6.1, \"sepal_wid\": 2.8, \"petal_len\": 4.7, \"petal_wid\": 1.2, \"class\": \"Iris-versicolor\"}, {\"sepal_len\": 6.4, \"sepal_wid\": 2.9, \"petal_len\": 4.3, \"petal_wid\": 1.3, \"class\": \"Iris-versicolor\"}, {\"sepal_len\": 6.6, \"sepal_wid\": 3.0, \"petal_len\": 4.4, \"petal_wid\": 1.4, \"class\": \"Iris-versicolor\"}, {\"sepal_len\": 6.8, \"sepal_wid\": 2.8, \"petal_len\": 4.8, \"petal_wid\": 1.4, \"class\": \"Iris-versicolor\"}, {\"sepal_len\": 6.7, \"sepal_wid\": 3.0, \"petal_len\": 5.0, \"petal_wid\": 1.7, \"class\": \"Iris-versicolor\"}, {\"sepal_len\": 6.0, \"sepal_wid\": 2.9, \"petal_len\": 4.5, \"petal_wid\": 1.5, \"class\": \"Iris-versicolor\"}, {\"sepal_len\": 5.7, \"sepal_wid\": 2.6, \"petal_len\": 3.5, \"petal_wid\": 1.0, \"class\": \"Iris-versicolor\"}, {\"sepal_len\": 5.5, \"sepal_wid\": 2.4, \"petal_len\": 3.8, \"petal_wid\": 1.1, \"class\": \"Iris-versicolor\"}, {\"sepal_len\": 5.5, \"sepal_wid\": 2.4, \"petal_len\": 3.7, \"petal_wid\": 1.0, \"class\": \"Iris-versicolor\"}, {\"sepal_len\": 5.8, \"sepal_wid\": 2.7, \"petal_len\": 3.9, \"petal_wid\": 1.2, \"class\": \"Iris-versicolor\"}, {\"sepal_len\": 6.0, \"sepal_wid\": 2.7, \"petal_len\": 5.1, \"petal_wid\": 1.6, \"class\": \"Iris-versicolor\"}, {\"sepal_len\": 5.4, \"sepal_wid\": 3.0, \"petal_len\": 4.5, \"petal_wid\": 1.5, \"class\": \"Iris-versicolor\"}, {\"sepal_len\": 6.0, \"sepal_wid\": 3.4, \"petal_len\": 4.5, \"petal_wid\": 1.6, \"class\": \"Iris-versicolor\"}, {\"sepal_len\": 6.7, \"sepal_wid\": 3.1, \"petal_len\": 4.7, \"petal_wid\": 1.5, \"class\": \"Iris-versicolor\"}, {\"sepal_len\": 6.3, \"sepal_wid\": 2.3, \"petal_len\": 4.4, \"petal_wid\": 1.3, \"class\": \"Iris-versicolor\"}, {\"sepal_len\": 5.6, \"sepal_wid\": 3.0, \"petal_len\": 4.1, \"petal_wid\": 1.3, \"class\": \"Iris-versicolor\"}, {\"sepal_len\": 5.5, \"sepal_wid\": 2.5, \"petal_len\": 4.0, \"petal_wid\": 1.3, \"class\": \"Iris-versicolor\"}, {\"sepal_len\": 5.5, \"sepal_wid\": 2.6, \"petal_len\": 4.4, \"petal_wid\": 1.2, \"class\": \"Iris-versicolor\"}, {\"sepal_len\": 6.1, \"sepal_wid\": 3.0, \"petal_len\": 4.6, \"petal_wid\": 1.4, \"class\": \"Iris-versicolor\"}, {\"sepal_len\": 5.8, \"sepal_wid\": 2.6, \"petal_len\": 4.0, \"petal_wid\": 1.2, \"class\": \"Iris-versicolor\"}, {\"sepal_len\": 5.0, \"sepal_wid\": 2.3, \"petal_len\": 3.3, \"petal_wid\": 1.0, \"class\": \"Iris-versicolor\"}, {\"sepal_len\": 5.6, \"sepal_wid\": 2.7, \"petal_len\": 4.2, \"petal_wid\": 1.3, \"class\": \"Iris-versicolor\"}, {\"sepal_len\": 5.7, \"sepal_wid\": 3.0, \"petal_len\": 4.2, \"petal_wid\": 1.2, \"class\": \"Iris-versicolor\"}, {\"sepal_len\": 5.7, \"sepal_wid\": 2.9, \"petal_len\": 4.2, \"petal_wid\": 1.3, \"class\": \"Iris-versicolor\"}, {\"sepal_len\": 6.2, \"sepal_wid\": 2.9, \"petal_len\": 4.3, \"petal_wid\": 1.3, \"class\": \"Iris-versicolor\"}, {\"sepal_len\": 5.1, \"sepal_wid\": 2.5, \"petal_len\": 3.0, \"petal_wid\": 1.1, \"class\": \"Iris-versicolor\"}, {\"sepal_len\": 5.7, \"sepal_wid\": 2.8, \"petal_len\": 4.1, \"petal_wid\": 1.3, \"class\": \"Iris-versicolor\"}, {\"sepal_len\": 6.3, \"sepal_wid\": 3.3, \"petal_len\": 6.0, \"petal_wid\": 2.5, \"class\": \"Iris-virginica\"}, {\"sepal_len\": 5.8, \"sepal_wid\": 2.7, \"petal_len\": 5.1, \"petal_wid\": 1.9, \"class\": \"Iris-virginica\"}, {\"sepal_len\": 7.1, \"sepal_wid\": 3.0, \"petal_len\": 5.9, \"petal_wid\": 2.1, \"class\": \"Iris-virginica\"}, {\"sepal_len\": 6.3, \"sepal_wid\": 2.9, \"petal_len\": 5.6, \"petal_wid\": 1.8, \"class\": \"Iris-virginica\"}, {\"sepal_len\": 6.5, \"sepal_wid\": 3.0, \"petal_len\": 5.8, \"petal_wid\": 2.2, \"class\": \"Iris-virginica\"}, {\"sepal_len\": 7.6, \"sepal_wid\": 3.0, \"petal_len\": 6.6, \"petal_wid\": 2.1, \"class\": \"Iris-virginica\"}, {\"sepal_len\": 4.9, \"sepal_wid\": 2.5, \"petal_len\": 4.5, \"petal_wid\": 1.7, \"class\": \"Iris-virginica\"}, {\"sepal_len\": 7.3, \"sepal_wid\": 2.9, \"petal_len\": 6.3, \"petal_wid\": 1.8, \"class\": \"Iris-virginica\"}, {\"sepal_len\": 6.7, \"sepal_wid\": 2.5, \"petal_len\": 5.8, \"petal_wid\": 1.8, \"class\": \"Iris-virginica\"}, {\"sepal_len\": 7.2, \"sepal_wid\": 3.6, \"petal_len\": 6.1, \"petal_wid\": 2.5, \"class\": \"Iris-virginica\"}, {\"sepal_len\": 6.5, \"sepal_wid\": 3.2, \"petal_len\": 5.1, \"petal_wid\": 2.0, \"class\": \"Iris-virginica\"}, {\"sepal_len\": 6.4, \"sepal_wid\": 2.7, \"petal_len\": 5.3, \"petal_wid\": 1.9, \"class\": \"Iris-virginica\"}, {\"sepal_len\": 6.8, \"sepal_wid\": 3.0, \"petal_len\": 5.5, \"petal_wid\": 2.1, \"class\": \"Iris-virginica\"}, {\"sepal_len\": 5.7, \"sepal_wid\": 2.5, \"petal_len\": 5.0, \"petal_wid\": 2.0, \"class\": \"Iris-virginica\"}, {\"sepal_len\": 5.8, \"sepal_wid\": 2.8, \"petal_len\": 5.1, \"petal_wid\": 2.4, \"class\": \"Iris-virginica\"}, {\"sepal_len\": 6.4, \"sepal_wid\": 3.2, \"petal_len\": 5.3, \"petal_wid\": 2.3, \"class\": \"Iris-virginica\"}, {\"sepal_len\": 6.5, \"sepal_wid\": 3.0, \"petal_len\": 5.5, \"petal_wid\": 1.8, \"class\": \"Iris-virginica\"}, {\"sepal_len\": 7.7, \"sepal_wid\": 3.8, \"petal_len\": 6.7, \"petal_wid\": 2.2, \"class\": \"Iris-virginica\"}, {\"sepal_len\": 7.7, \"sepal_wid\": 2.6, \"petal_len\": 6.9, \"petal_wid\": 2.3, \"class\": \"Iris-virginica\"}, {\"sepal_len\": 6.0, \"sepal_wid\": 2.2, \"petal_len\": 5.0, \"petal_wid\": 1.5, \"class\": \"Iris-virginica\"}, {\"sepal_len\": 6.9, \"sepal_wid\": 3.2, \"petal_len\": 5.7, \"petal_wid\": 2.3, \"class\": \"Iris-virginica\"}, {\"sepal_len\": 5.6, \"sepal_wid\": 2.8, \"petal_len\": 4.9, \"petal_wid\": 2.0, \"class\": \"Iris-virginica\"}, {\"sepal_len\": 7.7, \"sepal_wid\": 2.8, \"petal_len\": 6.7, \"petal_wid\": 2.0, \"class\": \"Iris-virginica\"}, {\"sepal_len\": 6.3, \"sepal_wid\": 2.7, \"petal_len\": 4.9, \"petal_wid\": 1.8, \"class\": \"Iris-virginica\"}, {\"sepal_len\": 6.7, \"sepal_wid\": 3.3, \"petal_len\": 5.7, \"petal_wid\": 2.1, \"class\": \"Iris-virginica\"}, {\"sepal_len\": 7.2, \"sepal_wid\": 3.2, \"petal_len\": 6.0, \"petal_wid\": 1.8, \"class\": \"Iris-virginica\"}, {\"sepal_len\": 6.2, \"sepal_wid\": 2.8, \"petal_len\": 4.8, \"petal_wid\": 1.8, \"class\": \"Iris-virginica\"}, {\"sepal_len\": 6.1, \"sepal_wid\": 3.0, \"petal_len\": 4.9, \"petal_wid\": 1.8, \"class\": \"Iris-virginica\"}, {\"sepal_len\": 6.4, \"sepal_wid\": 2.8, \"petal_len\": 5.6, \"petal_wid\": 2.1, \"class\": \"Iris-virginica\"}, {\"sepal_len\": 7.2, \"sepal_wid\": 3.0, \"petal_len\": 5.8, \"petal_wid\": 1.6, \"class\": \"Iris-virginica\"}, {\"sepal_len\": 7.4, \"sepal_wid\": 2.8, \"petal_len\": 6.1, \"petal_wid\": 1.9, \"class\": \"Iris-virginica\"}, {\"sepal_len\": 7.9, \"sepal_wid\": 3.8, \"petal_len\": 6.4, \"petal_wid\": 2.0, \"class\": \"Iris-virginica\"}, {\"sepal_len\": 6.4, \"sepal_wid\": 2.8, \"petal_len\": 5.6, \"petal_wid\": 2.2, \"class\": \"Iris-virginica\"}, {\"sepal_len\": 6.3, \"sepal_wid\": 2.8, \"petal_len\": 5.1, \"petal_wid\": 1.5, \"class\": \"Iris-virginica\"}, {\"sepal_len\": 6.1, \"sepal_wid\": 2.6, \"petal_len\": 5.6, \"petal_wid\": 1.4, \"class\": \"Iris-virginica\"}, {\"sepal_len\": 7.7, \"sepal_wid\": 3.0, \"petal_len\": 6.1, \"petal_wid\": 2.3, \"class\": \"Iris-virginica\"}, {\"sepal_len\": 6.3, \"sepal_wid\": 3.4, \"petal_len\": 5.6, \"petal_wid\": 2.4, \"class\": \"Iris-virginica\"}, {\"sepal_len\": 6.4, \"sepal_wid\": 3.1, \"petal_len\": 5.5, \"petal_wid\": 1.8, \"class\": \"Iris-virginica\"}, {\"sepal_len\": 6.0, \"sepal_wid\": 3.0, \"petal_len\": 4.8, \"petal_wid\": 1.8, \"class\": \"Iris-virginica\"}, {\"sepal_len\": 6.9, \"sepal_wid\": 3.1, \"petal_len\": 5.4, \"petal_wid\": 2.1, \"class\": \"Iris-virginica\"}, {\"sepal_len\": 6.7, \"sepal_wid\": 3.1, \"petal_len\": 5.6, \"petal_wid\": 2.4, \"class\": \"Iris-virginica\"}, {\"sepal_len\": 6.9, \"sepal_wid\": 3.1, \"petal_len\": 5.1, \"petal_wid\": 2.3, \"class\": \"Iris-virginica\"}, {\"sepal_len\": 5.8, \"sepal_wid\": 2.7, \"petal_len\": 5.1, \"petal_wid\": 1.9, \"class\": \"Iris-virginica\"}, {\"sepal_len\": 6.8, \"sepal_wid\": 3.2, \"petal_len\": 5.9, \"petal_wid\": 2.3, \"class\": \"Iris-virginica\"}, {\"sepal_len\": 6.7, \"sepal_wid\": 3.3, \"petal_len\": 5.7, \"petal_wid\": 2.5, \"class\": \"Iris-virginica\"}, {\"sepal_len\": 6.7, \"sepal_wid\": 3.0, \"petal_len\": 5.2, \"petal_wid\": 2.3, \"class\": \"Iris-virginica\"}, {\"sepal_len\": 6.3, \"sepal_wid\": 2.5, \"petal_len\": 5.0, \"petal_wid\": 1.9, \"class\": \"Iris-virginica\"}, {\"sepal_len\": 6.5, \"sepal_wid\": 3.0, \"petal_len\": 5.2, \"petal_wid\": 2.0, \"class\": \"Iris-virginica\"}, {\"sepal_len\": 6.2, \"sepal_wid\": 3.4, \"petal_len\": 5.4, \"petal_wid\": 2.3, \"class\": \"Iris-virginica\"}, {\"sepal_len\": 5.9, \"sepal_wid\": 3.0, \"petal_len\": 5.1, \"petal_wid\": 1.8, \"class\": \"Iris-virginica\"}]}}, {\"mode\": \"vega-lite\"});\n",
       "</script>"
      ],
      "text/plain": [
       "alt.HConcatChart(...)"
      ]
     },
     "execution_count": 64,
     "metadata": {},
     "output_type": "execute_result"
    }
   ],
   "source": [
    "# Configure the options common to all layers\n",
    "brush = alt.selection(type='interval')\n",
    "base = alt.Chart(data).add_selection(brush)\n",
    "\n",
    "plot_axis = alt.Axis(labels=True, domain=False, ticks=False,grid=False)\n",
    "tick_axis = alt.Axis(labels=False, domain=False, ticks=False,grid=False)\n",
    "\n",
    "# Configure the points\n",
    "points = base.mark_point().encode(\n",
    "    x=alt.X('sepal_len', title='',axis=plot_axis,scale=alt.Scale(zero=False)),\n",
    "    y=alt.Y('sepal_wid', title='',axis=plot_axis,scale=alt.Scale(zero=False)),\n",
    "    color=alt.condition(brush, 'class', alt.value('grey'))\n",
    ")\n",
    "\n",
    "# Configure the ticks\n",
    "\n",
    "\n",
    "x_ticks = base.mark_tick().encode(\n",
    "    alt.X('sepal_len', axis=tick_axis,scale=alt.Scale(zero=False)),\n",
    "    alt.Y('class', title='', axis=tick_axis),\n",
    "    color=alt.condition(brush, 'class', alt.value('lightgrey')),\n",
    ")\n",
    "\n",
    "y_ticks = base.mark_tick().encode(\n",
    "    alt.X('class', title='', axis=tick_axis),\n",
    "    alt.Y('sepal_wid', axis=tick_axis,scale=alt.Scale(zero=False)),\n",
    "    color=alt.condition(brush, 'class', alt.value('lightgrey'))\n",
    ")\n",
    "\n",
    "x = base.mark_boxplot(extent='min-max').encode(\n",
    "    alt.X('class', title='',axis=tick_axis),\n",
    "    alt.Y('sepal_wid',title='',axis=tick_axis,scale=alt.Scale(zero=False)),\n",
    "    color='class')\n",
    "\n",
    "y = base.mark_boxplot(extent='min-max').encode(\n",
    "    alt.Y('class', title='',axis=tick_axis),\n",
    "    alt.X('sepal_len',title='',axis=tick_axis,scale=alt.Scale(zero=False)),\n",
    "    color='class')\n",
    "\n",
    "# Build the charts\n",
    "y_ticks | x | (points & y & x_ticks)"
   ]
  },
  {
   "cell_type": "markdown",
   "id": "b4c337cd-6e17-4f82-bb82-932fc578f0e4",
   "metadata": {},
   "source": [
    "# Looking Good\n",
    "\n",
    "That was super straightforward! With some simple modifications to the basic altair scatterplot, we can create Tufte inspired scatters which I think are really beautiful and informative. A high data-ink ratio! He actually laments graphical software in the book as it got people to produce total fluff and filler instead of taking care in the craft as hand drawing plots would force you to. I wonder what his feelings are considering how far we have come and how prevalent graphing libraries like altair are and how easy they are to use."
   ]
  }
 ],
 "metadata": {
  "kernelspec": {
   "display_name": "Python 3 (ipykernel)",
   "language": "python",
   "name": "python3"
  },
  "language_info": {
   "codemirror_mode": {
    "name": "ipython",
    "version": 3
   },
   "file_extension": ".py",
   "mimetype": "text/x-python",
   "name": "python",
   "nbconvert_exporter": "python",
   "pygments_lexer": "ipython3",
   "version": "3.10.8"
  }
 },
 "nbformat": 4,
 "nbformat_minor": 5
}
