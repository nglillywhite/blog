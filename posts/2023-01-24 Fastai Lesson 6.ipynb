{
 "cells": [
  {
   "cell_type": "raw",
   "id": "a9f572a9-67a6-4794-be45-c0fa32b42423",
   "metadata": {},
   "source": [
    "---\n",
    "badges: true\n",
    "categories:\n",
    "- jupyter\n",
    "- fastai\n",
    "- ML\n",
    "date: '2023-01-24'\n",
    "description: Gini, OneR, Iterating Fast, Kaggle Domination\n",
    "title: Fastai Lesson 6 | Binary Splits & Becoming a Kaggle Gangster\n",
    "author: Nicholas Lillywhite\n",
    "toc: true\n",
    "draft: true\n",
    "image: \"images/binary.png\"\n",
    "---"
   ]
  },
  {
   "cell_type": "markdown",
   "id": "c04cceb5-1b87-4b26-b337-2a14887b5c17",
   "metadata": {},
   "source": [
    "# Lesson 6 | Binary Splits & Becoming a Kaggle Gangster\n",
    "> Random Forests are Amazing, Learn to Crush Kaggle Comps\n",
    "\n",
    "> Checkout this notebook in [colab](https://colab.research.google.com/github/nglillywhite/blog/blob/main/posts/2023-01-24-Fastai%20Lesson%206.ipynb)\n",
    "\n",
    "## Lecture Content\n",
    "\n",
    "### Prepping Titanic Data\n",
    "\n",
    "First we'll grab the titanic data like we did last lesson and pre process the data as we did before"
   ]
  },
  {
   "cell_type": "code",
   "execution_count": 15,
   "id": "2c0a7386-81d0-4942-9a6d-b8c1d323f7e7",
   "metadata": {},
   "outputs": [],
   "source": [
    "from fastai.imports import *"
   ]
  },
  {
   "cell_type": "code",
   "execution_count": 2,
   "id": "1804ef85-4ed0-4ea6-80c0-54c028f3e717",
   "metadata": {},
   "outputs": [],
   "source": [
    "path = Path(\"../data/titanic/\")\n",
    "\n",
    "df = pd.read_csv(path/'train.csv')\n",
    "test_df = pd.read_csv(path/\"test.csv\")\n",
    "modes = df.mode().iloc[0]"
   ]
  },
  {
   "cell_type": "markdown",
   "id": "e70cd6bd-5732-4e49-9431-324714faba39",
   "metadata": {},
   "source": [
    "The other thing we'll do differently is utilise pandas to convert a categorical variable to a categorical data type which will handle the encoding for us by creating a vocab in the backend but displaying us the text data we're used to"
   ]
  },
  {
   "cell_type": "code",
   "execution_count": 9,
   "id": "f36ab3eb-bd30-4416-aa6f-574c15966bfe",
   "metadata": {},
   "outputs": [],
   "source": [
    "def process_titanic(df):\n",
    "    df[\"Fare\"] = df.Fare.fillna(0)\n",
    "    df.fillna(modes, inplace=True)\n",
    "    df[\"LogFare\"] = np.log1p(df[\"Fare\"])\n",
    "    df[\"Embarked\"] = pd.Categorical(df.Embarked)\n",
    "    df[\"Sex\"] = pd.Categorical(df.Sex)\n",
    "    \n",
    "process_titanic(df)\n",
    "process_titanic(test_df)"
   ]
  },
  {
   "cell_type": "code",
   "execution_count": 13,
   "id": "3fd53d5f-d1a3-4902-8007-76a2516e6574",
   "metadata": {},
   "outputs": [],
   "source": [
    "categorical_columns = [\"Sex\", \"Embarked\"]\n",
    "continuous_columns = [\"Age\", \"SibSp\", \"Parch\", \"LogFare\", \"Pclass\"]\n",
    "dependent = \"Survived\""
   ]
  },
  {
   "cell_type": "markdown",
   "id": "8ff3a4bc-e2b3-47e6-b4e4-bfada314eae7",
   "metadata": {},
   "source": [
    "To illustrate the pandas vocab --> numbers vocab explanation, lets check quickly the \"Sex\" column and then see the corresponding .cat.codes attribute which houses the matching values"
   ]
  },
  {
   "cell_type": "code",
   "execution_count": 12,
   "id": "891ac27b-c0d8-4ec0-be46-6e43f2a33424",
   "metadata": {},
   "outputs": [
    {
     "data": {
      "text/plain": [
       "(0      male\n",
       " 1    female\n",
       " 2    female\n",
       " 3    female\n",
       " 4      male\n",
       " Name: Sex, dtype: category\n",
       " Categories (2, object): ['female', 'male'],\n",
       " 0    1\n",
       " 1    0\n",
       " 2    0\n",
       " 3    0\n",
       " 4    1\n",
       " dtype: int8)"
      ]
     },
     "execution_count": 12,
     "metadata": {},
     "output_type": "execute_result"
    }
   ],
   "source": [
    "df.Sex.head(), df.Sex.cat.codes.head()"
   ]
  },
  {
   "cell_type": "markdown",
   "id": "4be5c4e2-e0d3-4bb9-b354-76f5539eee7c",
   "metadata": {},
   "source": [
    "And you can see that male = 1, female = 0, as well as seeing the categories in the vocab list which in this case only includes two."
   ]
  },
  {
   "cell_type": "markdown",
   "id": "a96bd796-546c-4f20-9de8-78d781f8728c",
   "metadata": {},
   "source": [
    "### Binary Splits\n",
    "\n",
    "We're going to work our way up to Gradient Boosted Machines and Random Forests but in order to do that we have to be able to create decision trees and these are made of binary splits. We know where we're heading, lets now go from the bottom up and construct our way to gradient boosting.\n",
    "\n",
    "A binary split is simply a rule where all the data is placed into one of two groups based on some threshold, hence binary, group 0 or 1. In our situation using the above \"Sex\" column, we could split males and females into two groups by thresholding the rows above or below `0.5`. Lets first have a look at the data visually to see what a split like this might perform like."
   ]
  },
  {
   "cell_type": "code",
   "execution_count": 20,
   "id": "e4c22286-3d82-40ac-91e1-75a42beeea1a",
   "metadata": {},
   "outputs": [
    {
     "data": {
      "text/plain": [
       "[Text(0.5, 1.0, 'Histogram')]"
      ]
     },
     "execution_count": 20,
     "metadata": {},
     "output_type": "execute_result"
    },
    {
     "data": {
      "image/png": "[encoded data removed]",
      "text/plain": [
       "<Figure size 1100x500 with 2 Axes>"
      ]
     },
     "metadata": {},
     "output_type": "display_data"
    }
   ],
   "source": [
    "import seaborn as sns\n",
    "import matplotlib.pyplot as plt\n",
    "\n",
    "fig, axs = plt.subplots(1,2,figsize=(11,5))\n",
    "sns.barplot(data=df,\n",
    "            y=dependent,\n",
    "            x=\"Sex\",\n",
    "            ax=axs[0]).set(title=\"Survival Rate\")\n",
    "sns.countplot(data=df,\n",
    "             x=\"Sex\",\n",
    "             ax=axs[1]).set(title=\"Histogram\")"
   ]
  },
  {
   "cell_type": "markdown",
   "id": "350cbd4f-284e-44f2-b860-7e282053f6ec",
   "metadata": {},
   "source": [
    "The survival rate differences for males and females are starkly different, females have over triple the survival rate of males so if we used our binary split, we wouldn't actually perform too badly! Lets test that out just for illustration.\n",
    "\n",
    "Lets setup a train and validation dataset as well as convert our categorical attributes back to numerical codes which we can do with lambda."
   ]
  },
  {
   "cell_type": "code",
   "execution_count": 21,
   "id": "dab26636-8716-4e63-b1f1-af6e54776c88",
   "metadata": {},
   "outputs": [],
   "source": [
    "from numpy import random\n",
    "from sklearn.model_selection import train_test_split\n",
    "\n",
    "random.seed(27)\n",
    "train_df, validation_df = train_test_split(df, test_size=0.25)\n",
    "train_df[categorical_columns] = train_df[categorical_columns].apply(lambda x: x.cat.codes)\n",
    "validation_df[categorical_columns] = validation_df[categorical_columns].apply(lambda x: x.cat.codes)"
   ]
  },
  {
   "cell_type": "markdown",
   "id": "96948989-550f-42c1-8cab-f6a4e86594f3",
   "metadata": {},
   "source": [
    "Lets now make our 'y' / dependent variable and our 'x's or independent variable"
   ]
  },
  {
   "cell_type": "code",
   "execution_count": 24,
   "id": "43317230-862f-477f-9492-39e63046bd12",
   "metadata": {},
   "outputs": [],
   "source": [
    "def xs_y(df):\n",
    "    xs = df[categorical_columns+continuous_columns].copy()\n",
    "    return xs, df[dependent] if dependent in df else None\n",
    "\n",
    "train_xs, train_y = xs_y(train_df)\n",
    "validation_xs, validation_y = xs_y(validation_df)"
   ]
  },
  {
   "cell_type": "markdown",
   "id": "cec55bee-b998-4831-8246-53e74519ad2a",
   "metadata": {},
   "source": [
    "Now lets predict using our binary split, where all males die and all females live"
   ]
  },
  {
   "cell_type": "code",
   "execution_count": 25,
   "id": "c4e70e79-444a-4d16-97e8-a1065b9ae3ed",
   "metadata": {},
   "outputs": [],
   "source": [
    "preds = validation_xs.Sex == 0"
   ]
  },
  {
   "cell_type": "markdown",
   "id": "9947d5f3-c6e2-42a2-b1b3-de757a78ed9c",
   "metadata": {},
   "source": [
    "Lets use mean absolute error which we've used in previous lessons to test our performance"
   ]
  },
  {
   "cell_type": "code",
   "execution_count": 27,
   "id": "5eb42cd4-50d7-4e98-b09f-36e26cdcaff5",
   "metadata": {},
   "outputs": [
    {
     "data": {
      "text/plain": [
       "0.242152466367713"
      ]
     },
     "execution_count": 27,
     "metadata": {},
     "output_type": "execute_result"
    }
   ],
   "source": [
    "from sklearn.metrics import mean_absolute_error\n",
    "mean_absolute_error(validation_y, preds)"
   ]
  },
  {
   "cell_type": "markdown",
   "id": "6591eadd-236f-494a-8da2-9e8177841250",
   "metadata": {},
   "source": [
    "Now we've used a categorical column to split which has very strong delineation between values but we can do this with continues variables as well. Lets visualise LogFare and try and pick a good threshold, we're going to use slightly different visualisations because the data is continues. We can however have a very similar view, we can use a boxplot / boxenplot (more quantiles/partitions) and a kernel density plot which will bucket our continues value into tiny little buckets and then histogram those buckets to produce a similar effect as a histogram. Lets have a look"
   ]
  },
  {
   "cell_type": "code",
   "execution_count": 28,
   "id": "c2ee0c15-6644-4015-89dd-88a61d4df9e8",
   "metadata": {},
   "outputs": [
    {
     "data": {
      "text/plain": [
       "<AxesSubplot: xlabel='LogFare', ylabel='Density'>"
      ]
     },
     "execution_count": 28,
     "metadata": {},
     "output_type": "execute_result"
    },
    {
     "data": {
      "image/png": "[encoded data removed]",
      "text/plain": [
       "<Figure size 1100x500 with 2 Axes>"
      ]
     },
     "metadata": {},
     "output_type": "display_data"
    }
   ],
   "source": [
    "df_fare = train_df[train_df.LogFare>0]\n",
    "\n",
    "fig,axs = plt.subplots(1,2,figsize=(11,5))\n",
    "sns.boxenplot(data=df_fare, x=dependent, y=\"LogFare\",ax=axs[0])\n",
    "sns.kdeplot(data=df_fare, x=\"LogFare\",ax=axs[1])"
   ]
  },
  {
   "cell_type": "markdown",
   "id": "3e3cce0f-8f70-4784-b748-442f5982de92",
   "metadata": {},
   "source": [
    "If we checkout the boxenplot on the left, we can see the average logfare of not surviving is about 2.5, for those that lived, its about 3.2, if you paid more for a ticket, you were more likely to survive, go figure.\n",
    "\n",
    "Lets make another model based on this split"
   ]
  },
  {
   "cell_type": "code",
   "execution_count": 29,
   "id": "744083c5-bcf0-41d1-8e27-e9904525b6d4",
   "metadata": {},
   "outputs": [
    {
     "data": {
      "text/plain": [
       "0.40358744394618834"
      ]
     },
     "execution_count": 29,
     "metadata": {},
     "output_type": "execute_result"
    }
   ],
   "source": [
    "preds = validation_xs.LogFare > 2.7\n",
    "mean_absolute_error(validation_y, preds)"
   ]
  },
  {
   "cell_type": "markdown",
   "id": "8eced6cc-92eb-4233-8485-69623a3ef143",
   "metadata": {},
   "source": [
    "Almost twice as bad as the split by Sex...\n",
    "\n",
    "Lets now write a way to test more columns and more thresholds, we'll first write a scoring function to return how good our splits are so that we can compare them to others quickly. We're also going to introduce the concept of 'impurity' to each group in the sense that after we've split a group, we want all the rows of the group to be like the rest of them, we'd like 'pure' groups.\n",
    "\n",
    "We can measure this similarity / purity by taking the standard deviation of the dependent variable, the larger this value is, the more different the rows are to each other, we'll then multiply this score by the value of the rows to punish larger groups of equal purity."
   ]
  },
  {
   "cell_type": "code",
   "execution_count": 30,
   "id": "41151d17-631e-47e7-8768-e8482a23e6b9",
   "metadata": {},
   "outputs": [],
   "source": [
    "def side_score(side, y):\n",
    "    total = side.sum()\n",
    "    if total<=1: return 0\n",
    "    return y[side].std()*total"
   ]
  },
  {
   "cell_type": "markdown",
   "id": "174ec862-1043-4a36-ad39-268f17131719",
   "metadata": {},
   "source": [
    "This will give us a score for a particular 'side' or group, lets now calculate the score for a particular split by adding up the total score of both sides"
   ]
  },
  {
   "cell_type": "code",
   "execution_count": 31,
   "id": "6541a0a4-51fa-423f-8c61-1042336ea055",
   "metadata": {},
   "outputs": [],
   "source": [
    "def score(column, y, split):\n",
    "    lhs = column<=split\n",
    "    return (side_score(lhs,y) + side_score(~lhs,y))/len(y)"
   ]
  },
  {
   "cell_type": "markdown",
   "id": "284f47a0-7e14-425b-8d0c-d38796a2f94e",
   "metadata": {},
   "source": [
    "Also the '~' operator we discussed in previous lessons, I won't repeat the docs or explanation here, try see if you can find it in my blog!\n",
    "\n",
    "Lets test it out on our first split by Sex and see the 'impurity' score"
   ]
  },
  {
   "cell_type": "code",
   "execution_count": 33,
   "id": "11e096c0-b5ea-4236-9ad3-6e36010f8288",
   "metadata": {},
   "outputs": [
    {
     "data": {
      "text/plain": [
       "0.40174577324058475"
      ]
     },
     "execution_count": 33,
     "metadata": {},
     "output_type": "execute_result"
    }
   ],
   "source": [
    "score(train_xs[\"Sex\"], train_y, 0.5)"
   ]
  },
  {
   "cell_type": "markdown",
   "id": "bfd798b4-1e0e-46ad-9617-f8365bf70be5",
   "metadata": {},
   "source": [
    "Now lets try LogFare again"
   ]
  },
  {
   "cell_type": "code",
   "execution_count": 34,
   "id": "ff13f88a-7344-42bc-8c01-3125da327917",
   "metadata": {},
   "outputs": [
    {
     "data": {
      "text/plain": [
       "0.4670131181830465"
      ]
     },
     "execution_count": 34,
     "metadata": {},
     "output_type": "execute_result"
    }
   ],
   "source": [
    "score(train_xs[\"LogFare\"], train_y, 2.7)"
   ]
  },
  {
   "cell_type": "markdown",
   "id": "e4686ea9-278f-4828-abaf-9ee7572f6e3f",
   "metadata": {},
   "source": [
    "Great, not quite the same difference in magnitude of error but our \"Sex\" split is far more effective than our LogFare split.\n",
    "\n",
    "Lets muck around with an interactive version, excuse this if you're reading in quarto, checkout the colab notebook link at the top if you'd like to play around, otherwise I may come back and create an altair tool to play with at a later date."
   ]
  },
  {
   "cell_type": "code",
   "execution_count": 39,
   "id": "1253d6bc-be70-4b18-b7ed-c9c639434678",
   "metadata": {},
   "outputs": [
    {
     "data": {
      "application/vnd.jupyter.widget-view+json": {
       "model_id": "f2f5bf131d444e14bfbf65621d9ff3fb",
       "version_major": 2,
       "version_minor": 0
      },
      "text/plain": [
       "interactive(children=(Dropdown(description='name', options=('Age', 'SibSp', 'Parch', 'LogFare', 'Pclass'), val…"
      ]
     },
     "metadata": {},
     "output_type": "display_data"
    },
    {
     "data": {
      "text/plain": [
       "<function __main__.iscore(name, split)>"
      ]
     },
     "execution_count": 39,
     "metadata": {},
     "output_type": "execute_result"
    }
   ],
   "source": [
    "def iscore(name, split):\n",
    "    column = train_xs[name]\n",
    "    return score(column, train_y, split)\n",
    "    \n",
    "from ipywidgets import interact\n",
    "interact(name=continuous_columns, split=15.15)(iscore)"
   ]
  },
  {
   "cell_type": "code",
   "execution_count": 40,
   "id": "d5582a20-c42e-45f2-97b5-a4df320bd7bd",
   "metadata": {},
   "outputs": [
    {
     "data": {
      "application/vnd.jupyter.widget-view+json": {
       "model_id": "4d131a5b41fe4268ac731982f9c9cd2f",
       "version_major": 2,
       "version_minor": 0
      },
      "text/plain": [
       "interactive(children=(Dropdown(description='name', options=('Sex', 'Embarked'), value='Sex'), IntSlider(value=…"
      ]
     },
     "metadata": {},
     "output_type": "display_data"
    },
    {
     "data": {
      "text/plain": [
       "<function __main__.iscore(name, split)>"
      ]
     },
     "execution_count": 40,
     "metadata": {},
     "output_type": "execute_result"
    }
   ],
   "source": [
    "interact(name=categorical_columns, split=2)(iscore)"
   ]
  },
  {
   "cell_type": "markdown",
   "id": "a5fc6c22-efcb-441f-8d5e-957dd813435f",
   "metadata": {},
   "source": [
    "Similar to playing around with the fit function from the earlier lessons, this hammers home the point of finding the lowest loss but its finicky when manual like this, lets automatically find the best splits by looking at all the possibly splits we could do and find the best loss. Lets try it with Age"
   ]
  },
  {
   "cell_type": "code",
   "execution_count": 41,
   "id": "c4be108e-ce62-4681-a62b-e0e049c2aa3c",
   "metadata": {},
   "outputs": [
    {
     "data": {
      "text/plain": [
       "array([ 0.67,  0.75,  0.83,  1.  ,  2.  ,  3.  ,  4.  ,  5.  ,  6.  ,\n",
       "        7.  ,  8.  ,  9.  , 10.  , 11.  , 12.  , 13.  , 14.  , 14.5 ,\n",
       "       15.  , 16.  , 17.  , 18.  , 19.  , 20.  , 20.5 , 21.  , 22.  ,\n",
       "       23.  , 24.  , 24.5 , 25.  , 26.  , 27.  , 28.  , 28.5 , 29.  ,\n",
       "       30.  , 30.5 , 31.  , 32.  , 32.5 , 33.  , 34.  , 35.  , 36.  ,\n",
       "       37.  , 38.  , 39.  , 40.  , 40.5 , 41.  , 42.  , 43.  , 44.  ,\n",
       "       45.  , 45.5 , 46.  , 47.  , 48.  , 49.  , 50.  , 51.  , 52.  ,\n",
       "       53.  , 54.  , 55.  , 55.5 , 56.  , 57.  , 58.  , 59.  , 60.  ,\n",
       "       61.  , 62.  , 63.  , 64.  , 65.  , 66.  , 70.  , 70.5 , 71.  ,\n",
       "       74.  , 80.  ])"
      ]
     },
     "execution_count": 41,
     "metadata": {},
     "output_type": "execute_result"
    }
   ],
   "source": [
    "name = \"Age\"\n",
    "column = train_xs[name]\n",
    "unique = column.unique()\n",
    "unique.sort()\n",
    "unique"
   ]
  },
  {
   "cell_type": "markdown",
   "id": "7c8fbb9a-e683-480f-9bee-6f61fe3b2f1d",
   "metadata": {},
   "source": [
    "This gives us all the possible Age values we could use, lets checkout the scores"
   ]
  },
  {
   "cell_type": "code",
   "execution_count": 70,
   "id": "cb9cb3bd-fc4f-423f-9ce1-38cb174b4770",
   "metadata": {},
   "outputs": [
    {
     "data": {
      "text/plain": [
       "(1.0,\n",
       " array([0.48594849, 0.48404762, 0.48213925, 0.48022329, 0.48618568,\n",
       "        0.4850268 , 0.48466283, 0.4829376 , 0.48298419, 0.48345047,\n",
       "        0.48304092, 0.48346219, 0.48417261, 0.4841437 , 0.48378607,\n",
       "        0.48303173, 0.48299166, 0.48333772, 0.4821711 , 0.48240352,\n",
       "        0.48284921, 0.48367573, 0.48462972, 0.48557444, 0.48570274,\n",
       "        0.48645229, 0.48610302, 0.48649283, 0.48693277, 0.48688775,\n",
       "        0.48647636, 0.48628599, 0.48690896, 0.48683546, 0.48672752,\n",
       "        0.48675081, 0.4867205 , 0.48659482, 0.48699805, 0.48715547,\n",
       "        0.48717052, 0.4871025 , 0.48723429, 0.4872322 , 0.48710254,\n",
       "        0.48719272, 0.48709139, 0.48714029, 0.48699734, 0.48704597,\n",
       "        0.48707436, 0.48714085, 0.48715271, 0.48720485, 0.48718624,\n",
       "        0.4872376 , 0.48726382, 0.48723709, 0.4871586 , 0.48698007,\n",
       "        0.48677986, 0.48696898, 0.48705849, 0.48691477, 0.48694238,\n",
       "        0.48685455, 0.48695552, 0.48647079, 0.48675047, 0.48577837,\n",
       "        0.48619859, 0.48611863, 0.48652727, 0.48577905, 0.48459324,\n",
       "        0.48533732, 0.48635237, 0.48665319, 0.48716736, 0.48735867,\n",
       "        0.48747458, 0.48594849, 0.48689613]))"
      ]
     },
     "execution_count": 70,
     "metadata": {},
     "output_type": "execute_result"
    }
   ],
   "source": [
    "scores = np.array([score(column,train_y,o) for o in unique if not np.isnan(o)])\n",
    "unique[scores.argmin()], scores"
   ]
  },
  {
   "cell_type": "markdown",
   "id": "6bdbf01e-eefd-4c8b-8f84-127c516297ef",
   "metadata": {},
   "source": [
    "Most of the scores are quite similar, but setting our age to \"1\" as the threshold will give us the best score, this is at index 4 in our unique ages. We can have a quick look at all the losses by age as well:"
   ]
  },
  {
   "cell_type": "code",
   "execution_count": 74,
   "id": "b6d1c232-374f-48bd-a29c-70061b29daf4",
   "metadata": {},
   "outputs": [
    {
     "data": {
      "text/plain": [
       "Text(0, 0.5, 'Loss')"
      ]
     },
     "execution_count": 74,
     "metadata": {},
     "output_type": "execute_result"
    },
    {
     "data": {
      "image/png": "[encoded data removed]",
      "text/plain": [
       "<Figure size 640x480 with 1 Axes>"
      ]
     },
     "metadata": {},
     "output_type": "display_data"
    }
   ],
   "source": [
    "plt.scatter(x=unique, y=scores,c=scores)\n",
    "plt.title(\"Age by Loss\")\n",
    "plt.xlabel(\"Age\")\n",
    "plt.ylabel(\"Loss\")"
   ]
  },
  {
   "cell_type": "markdown",
   "id": "229bba7d-92b1-4d75-8a37-c787f0e4f3f1",
   "metadata": {},
   "source": [
    "Kind of a funny shape as there's also a decent split at age ~65 but still by far splitting at age ~1 has the lowest error"
   ]
  },
  {
   "cell_type": "code",
   "execution_count": null,
   "id": "f40c8f51-990d-4e7f-a7fe-897ade543268",
   "metadata": {},
   "outputs": [],
   "source": []
  }
 ],
 "metadata": {
  "kernelspec": {
   "display_name": "Python 3 (ipykernel)",
   "language": "python",
   "name": "python3"
  },
  "language_info": {
   "codemirror_mode": {
    "name": "ipython",
    "version": 3
   },
   "file_extension": ".py",
   "mimetype": "text/x-python",
   "name": "python",
   "nbconvert_exporter": "python",
   "pygments_lexer": "ipython3",
   "version": "3.10.8"
  }
 },
 "nbformat": 4,
 "nbformat_minor": 5
}
