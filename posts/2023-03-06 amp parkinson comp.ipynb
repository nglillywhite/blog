{
 "cells": [
  {
   "cell_type": "raw",
   "id": "7dc7cef7-cc48-411b-b434-26f8e7a19e50",
   "metadata": {},
   "source": [
    "---\n",
    "badges: true\n",
    "categories:\n",
    "- jupyter\n",
    "- fastai\n",
    "- ML\n",
    "- kaggle\n",
    "date: '2023-03-06'\n",
    "description: First Tabular Kaggle Competition\n",
    "title: AMP Parkinson's Disease Progression Competition\n",
    "author: Nicholas Lillywhite\n",
    "toc: true\n",
    "draft: true\n",
    "image: \"images/binary.png\"\n",
    "---"
   ]
  },
  {
   "cell_type": "code",
   "execution_count": null,
   "id": "fa0de245-f78b-466c-88cc-3375a6afcc38",
   "metadata": {},
   "outputs": [],
   "source": []
  }
 ],
 "metadata": {
  "kernelspec": {
   "display_name": "python3",
   "language": "python",
   "name": "python3"
  }
 },
 "nbformat": 4,
 "nbformat_minor": 5
}
