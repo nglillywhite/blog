{
 "cells": [
  {
   "cell_type": "raw",
   "id": "70d00952-718e-4c60-9c87-d246f3c08d61",
   "metadata": {},
   "source": [
    "---\n",
    "badges: true\n",
    "categories:\n",
    "- jupyter\n",
    "- fastai\n",
    "- ML\n",
    "date: '2023-04-17'\n",
    "description: Bounding Boxes, Anchors, IoU\n",
    "title: Object Detection with Fastai\n",
    "author: Nicholas Lillywhite\n",
    "toc: true\n",
    "draft: true\n",
    "image: \"images/embed.png\"\n",
    "---"
   ]
  },
  {
   "cell_type": "markdown",
   "id": "79685425-9d86-4fe6-9a1d-324997e7daa3",
   "metadata": {},
   "source": [
    "# Object Detection with Fastai\n",
    "> Bounding Boxes, Anchors, IoU\n",
    "\n",
    "> Checkout this notebook in [colab](https://colab.research.google.com/github/nglillywhite/blog/blob/main/posts/2023-04-17%20Object%20Detection%20with%20Fastai.ipynb)"
   ]
  },
  {
   "cell_type": "code",
   "execution_count": null,
   "id": "a4005b5b-90a5-46fb-86f0-2b45b5881a0b",
   "metadata": {},
   "outputs": [],
   "source": [
    "x = \"hello\""
   ]
  },
  {
   "cell_type": "code",
   "execution_count": null,
   "id": "7691264f-f10a-40f1-9106-62dd9fcbb681",
   "metadata": {},
   "outputs": [
    {
     "name": "stdout",
     "output_type": "stream",
     "text": [
      "hello\n"
     ]
    }
   ],
   "source": [
    "!echo {x}"
   ]
  },
  {
   "cell_type": "code",
   "execution_count": null,
   "id": "cb65b9e6-0551-4d06-b582-d5f12bcfd46e",
   "metadata": {},
   "outputs": [],
   "source": [
    "import csv"
   ]
  },
  {
   "cell_type": "code",
   "execution_count": null,
   "id": "fecba96c-121e-40c7-8676-61a32a823543",
   "metadata": {},
   "outputs": [
    {
     "data": {
      "text/plain": [
       "1"
      ]
     },
     "execution_count": null,
     "metadata": {},
     "output_type": "execute_result"
    }
   ],
   "source": [
    "csv.QUOTE_ALL"
   ]
  },
  {
   "cell_type": "code",
   "execution_count": null,
   "id": "84908be4-37c7-437c-bdbf-b6f7dfcc9eeb",
   "metadata": {},
   "outputs": [],
   "source": []
  }
 ],
 "metadata": {
  "kernelspec": {
   "display_name": "python3",
   "language": "python",
   "name": "python3"
  }
 },
 "nbformat": 4,
 "nbformat_minor": 5
}
