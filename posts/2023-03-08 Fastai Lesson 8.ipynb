{
 "cells": [
  {
   "cell_type": "raw",
   "id": "83e63324-3df7-4d3b-8dec-1fafb7c584d7",
   "metadata": {},
   "source": [
    "---\n",
    "badges: true\n",
    "categories:\n",
    "- jupyter\n",
    "- fastai\n",
    "- ML\n",
    "date: '2023-03-08'\n",
    "description: Convolutions, Pools, BatchNorm\n",
    "title: Fastai Lesson 8 | Convolutions\n",
    "author: Nicholas Lillywhite\n",
    "toc: true\n",
    "draft: true\n",
    "image: \"images/embed.png\"\n",
    "---"
   ]
  },
  {
   "cell_type": "markdown",
   "id": "16f11f60-4f9d-4c4d-8703-857fa98dc307",
   "metadata": {},
   "source": [
    "# Lesson 7 | Road to the Top & Collaborative Filtering\n",
    "> Convolutions, Pools, BatchNorm\n",
    "\n",
    "> Checkout this notebook in [colab](https://colab.research.google.com/github/nglillywhite/blog/blob/main/posts/2023-03-08%20Fastai%20Lesson%208.ipynb)"
   ]
  },
  {
   "cell_type": "markdown",
   "id": "d2fe5664-2eda-469b-b90d-4fef02c14604",
   "metadata": {},
   "source": [
    "## Book Content\n",
    "\n",
    "This week, the lecture is mostly insane excels that show the same convolutions and filters that we work through in the book so there isn't 2 large sets of content to work through, I'll stick with just the book content. I highly recommend you checkout [the lecture](https://www.youtube.com/watch?v=htiNBPxcXgo) to see that absolute insanity that Jeremy is able to do in excel.\n",
    "\n",
    "### Convolutional Neural Nets | CNNs\n",
    "\n",
    "### What is a Convolution\n",
    "\n",
    "A convolution is a the result of a *kernel* applied over an image/tensor/input. A kernel is a small matrix that acts like a sliding window over the inputs, the sum of the dot product of the kernel window on the tensor is then stored in the resulting tensor.\n",
    "\n",
    "### Kernels\n",
    "\n",
    "The kernel will have a few attributes, one is the size/shape of the windor, we're going to use a 3x3 matrix in this example, and a stride, which is by how many elements the window jumps between calculating the dot product. This will start to make more sense with some working examples but the important thing to know is the 'sliding window' effect and that you sum the dot product of the window on your input tensor.\n",
    "\n",
    "Lets do a small example"
   ]
  },
  {
   "cell_type": "code",
   "execution_count": null,
   "id": "c967e1cf-d42f-4335-980e-f592dbc8434d",
   "metadata": {},
   "outputs": [],
   "source": [
    "from fastai.vision.all import *\n",
    "\n",
    "window = tensor([[-1,-1,-1],\n",
    "                 [0 , 0, 0],\n",
    "                 [1 , 1, 1]])\n",
    "\n",
    "y = torch.randn(4,4)"
   ]
  },
  {
   "cell_type": "markdown",
   "id": "b0b842ac-ccda-4493-b6f0-8b88fadbc9ff",
   "metadata": {},
   "source": [
    "The first kernel result would be the first 3x3 grid of the y tensor multiplied and summed as the first result. Our 'window' tensor will act as a kernel that we slide over our y tensor."
   ]
  },
  {
   "cell_type": "code",
   "execution_count": null,
   "id": "893ba6fd-a735-41c6-9a36-b59f562040a7",
   "metadata": {},
   "outputs": [
    {
     "data": {
      "text/plain": [
       "tensor([[-0.4221, -0.1500,  0.0811, -0.7142],\n",
       "        [ 0.1511, -1.0440,  1.8965, -0.0269],\n",
       "        [ 0.1802,  2.7251, -0.2861,  0.7808],\n",
       "        [ 0.9627, -0.3069,  0.2159,  1.3633]])"
      ]
     },
     "execution_count": null,
     "metadata": {},
     "output_type": "execute_result"
    }
   ],
   "source": [
    "y"
   ]
  },
  {
   "cell_type": "code",
   "execution_count": null,
   "id": "324e2e43-38a7-4102-8f28-25b26b4b7ce7",
   "metadata": {},
   "outputs": [
    {
     "data": {
      "text/plain": [
       "tensor([[-0.4221, -0.1500,  0.0811],\n",
       "        [ 0.1511, -1.0440,  1.8965],\n",
       "        [ 0.1802,  2.7251, -0.2861]])"
      ]
     },
     "execution_count": null,
     "metadata": {},
     "output_type": "execute_result"
    }
   ],
   "source": [
    "y[0:3,0:3]"
   ]
  },
  {
   "cell_type": "code",
   "execution_count": null,
   "id": "d6ed4d3f-6792-460d-8c64-5025b8221a47",
   "metadata": {},
   "outputs": [
    {
     "data": {
      "text/plain": [
       "tensor([[-1, -1, -1],\n",
       "        [ 0,  0,  0],\n",
       "        [ 1,  1,  1]])"
      ]
     },
     "execution_count": null,
     "metadata": {},
     "output_type": "execute_result"
    }
   ],
   "source": [
    "window"
   ]
  },
  {
   "cell_type": "code",
   "execution_count": null,
   "id": "c14170da-fe2a-4009-973f-8831ac72589a",
   "metadata": {},
   "outputs": [
    {
     "data": {
      "text/plain": [
       "(tensor([[ 0.4221,  0.1500, -0.0811],\n",
       "         [ 0.0000, -0.0000,  0.0000],\n",
       "         [ 0.1802,  2.7251, -0.2861]]),\n",
       " tensor(3.1101))"
      ]
     },
     "execution_count": null,
     "metadata": {},
     "output_type": "execute_result"
    }
   ],
   "source": [
    "result = y[0:3,0:3] * window\n",
    "\n",
    "result, result.sum()"
   ]
  },
  {
   "cell_type": "markdown",
   "id": "7904e802-27aa-4975-b41f-6d4862ae4a53",
   "metadata": {},
   "source": [
    "above is the result of our first kernel convolution and we would store this in the \\[0,0\\] location of our result tensor and slide the window across by the stride length (lets use 1 in this example) and run the calculation again, to be stored in the \\[0,1\\] location of our final tensor."
   ]
  },
  {
   "cell_type": "code",
   "execution_count": null,
   "id": "e439c560-d2d8-41bf-a2ec-d1347854bebc",
   "metadata": {},
   "outputs": [
    {
     "data": {
      "text/plain": [
       "tensor([[-0.1500,  0.0811, -0.7142],\n",
       "        [-1.0440,  1.8965, -0.0269],\n",
       "        [ 2.7251, -0.2861,  0.7808]])"
      ]
     },
     "execution_count": null,
     "metadata": {},
     "output_type": "execute_result"
    }
   ],
   "source": [
    "y[0:3,1:4]"
   ]
  },
  {
   "cell_type": "code",
   "execution_count": null,
   "id": "64fe3aaf-5d01-4ac7-bc54-4e8a88580580",
   "metadata": {},
   "outputs": [
    {
     "data": {
      "text/plain": [
       "(tensor([[ 0.1500, -0.0811,  0.7142],\n",
       "         [-0.0000,  0.0000, -0.0000],\n",
       "         [ 2.7251, -0.2861,  0.7808]]),\n",
       " tensor(4.0029))"
      ]
     },
     "execution_count": null,
     "metadata": {},
     "output_type": "execute_result"
    }
   ],
   "source": [
    "result = y[0:3,1:4] * window\n",
    "result, result.sum()"
   ]
  },
  {
   "cell_type": "markdown",
   "id": "7d89b198-3aba-4d6d-8032-59c455570154",
   "metadata": {},
   "source": [
    "This is a random example however, lets move onto MNIST images which we covered in an earlier lesson without convolutions but our fastai implementation did implement under the hood, which we can now replicate."
   ]
  },
  {
   "cell_type": "code",
   "execution_count": null,
   "id": "e8ec44fa-0c0c-48a3-996a-deb923d807c4",
   "metadata": {},
   "outputs": [
    {
     "data": {
      "text/plain": [
       "<AxesSubplot: >"
      ]
     },
     "execution_count": null,
     "metadata": {},
     "output_type": "execute_result"
    },
    {
     "data": {
      "image/png": "[encoded data removed]",
      "text/plain": [
       "<Figure size 100x100 with 1 Axes>"
      ]
     },
     "metadata": {},
     "output_type": "display_data"
    }
   ],
   "source": [
    "path = untar_data(URLs.MNIST_SAMPLE)\n",
    "\n",
    "im3 = Image.open(path/'train/3/12.png')\n",
    "show_image(im3)"
   ]
  },
  {
   "cell_type": "markdown",
   "id": "c6dddf0b-4ffe-4ae5-9480-7aacedcf89c0",
   "metadata": {},
   "source": [
    "So in order to run our kernel over the top of our image, we'd start with the top left and work our way striding over and down the image respectively, lets checkout what that first kernel result would look like"
   ]
  },
  {
   "cell_type": "code",
   "execution_count": null,
   "id": "bd1863d2-01a4-47b2-8d34-130dad9a034a",
   "metadata": {},
   "outputs": [
    {
     "data": {
      "text/plain": [
       "tensor([[0, 0, 0],\n",
       "        [0, 0, 0],\n",
       "        [0, 0, 0]], dtype=torch.uint8)"
      ]
     },
     "execution_count": null,
     "metadata": {},
     "output_type": "execute_result"
    }
   ],
   "source": [
    "im3_t = tensor(im3)\n",
    "im3_t[0:3,0:3]"
   ]
  },
  {
   "cell_type": "markdown",
   "id": "8cd268a4-662b-496e-9bfc-2ab3d096e11a",
   "metadata": {},
   "source": [
    "Uh oh, our image is completely white in this top corner (0 being white, 255 being black). Lets look at a larger portion of our image and see if we can spot the top of this three"
   ]
  },
  {
   "cell_type": "code",
   "execution_count": null,
   "id": "d0af5910-9f3f-4405-ad28-3c82e9de4e92",
   "metadata": {},
   "outputs": [
    {
     "data": {
      "text/html": [
       "<style type=\"text/css\">\n",
       "#T_d2635_row0_col0, #T_d2635_row0_col1, #T_d2635_row0_col2, #T_d2635_row0_col3, #T_d2635_row0_col4, #T_d2635_row0_col5, #T_d2635_row0_col6, #T_d2635_row0_col7, #T_d2635_row0_col8, #T_d2635_row0_col9, #T_d2635_row0_col10, #T_d2635_row0_col11, #T_d2635_row0_col12, #T_d2635_row0_col13, #T_d2635_row0_col14, #T_d2635_row0_col15, #T_d2635_row0_col16, #T_d2635_row0_col17, #T_d2635_row1_col0, #T_d2635_row1_col14, #T_d2635_row1_col15, #T_d2635_row1_col16, #T_d2635_row1_col17, #T_d2635_row2_col0, #T_d2635_row2_col17, #T_d2635_row3_col0, #T_d2635_row3_col17, #T_d2635_row4_col0, #T_d2635_row4_col6, #T_d2635_row4_col7, #T_d2635_row4_col8, #T_d2635_row4_col9, #T_d2635_row4_col10, #T_d2635_row4_col11, #T_d2635_row4_col17, #T_d2635_row5_col0, #T_d2635_row5_col1, #T_d2635_row5_col2, #T_d2635_row5_col3, #T_d2635_row5_col4, #T_d2635_row5_col5, #T_d2635_row5_col6, #T_d2635_row5_col7, #T_d2635_row5_col8, #T_d2635_row5_col9, #T_d2635_row5_col10, #T_d2635_row5_col11, #T_d2635_row5_col17 {\n",
       "  font-size: 6pt;\n",
       "  background-color: #ffffff;\n",
       "  color: #000000;\n",
       "}\n",
       "#T_d2635_row1_col1, #T_d2635_row4_col12 {\n",
       "  font-size: 6pt;\n",
       "  background-color: #f9f9f9;\n",
       "  color: #000000;\n",
       "}\n",
       "#T_d2635_row1_col2 {\n",
       "  font-size: 6pt;\n",
       "  background-color: #b9b9b9;\n",
       "  color: #000000;\n",
       "}\n",
       "#T_d2635_row1_col3 {\n",
       "  font-size: 6pt;\n",
       "  background-color: #c1c1c1;\n",
       "  color: #000000;\n",
       "}\n",
       "#T_d2635_row1_col4 {\n",
       "  font-size: 6pt;\n",
       "  background-color: #858585;\n",
       "  color: #f1f1f1;\n",
       "}\n",
       "#T_d2635_row1_col5, #T_d2635_row1_col8, #T_d2635_row1_col9, #T_d2635_row1_col10, #T_d2635_row1_col11 {\n",
       "  font-size: 6pt;\n",
       "  background-color: #777777;\n",
       "  color: #f1f1f1;\n",
       "}\n",
       "#T_d2635_row1_col6 {\n",
       "  font-size: 6pt;\n",
       "  background-color: #090909;\n",
       "  color: #f1f1f1;\n",
       "}\n",
       "#T_d2635_row1_col7 {\n",
       "  font-size: 6pt;\n",
       "  background-color: #5b5b5b;\n",
       "  color: #f1f1f1;\n",
       "}\n",
       "#T_d2635_row1_col12 {\n",
       "  font-size: 6pt;\n",
       "  background-color: #919191;\n",
       "  color: #f1f1f1;\n",
       "}\n",
       "#T_d2635_row1_col13 {\n",
       "  font-size: 6pt;\n",
       "  background-color: #e1e1e1;\n",
       "  color: #000000;\n",
       "}\n",
       "#T_d2635_row2_col1 {\n",
       "  font-size: 6pt;\n",
       "  background-color: #727272;\n",
       "  color: #f1f1f1;\n",
       "}\n",
       "#T_d2635_row2_col2, #T_d2635_row2_col3, #T_d2635_row2_col4, #T_d2635_row2_col5, #T_d2635_row2_col6, #T_d2635_row2_col7, #T_d2635_row2_col8, #T_d2635_row2_col9, #T_d2635_row2_col10, #T_d2635_row2_col11, #T_d2635_row2_col12, #T_d2635_row3_col1, #T_d2635_row3_col2, #T_d2635_row3_col3, #T_d2635_row3_col4, #T_d2635_row3_col13, #T_d2635_row3_col14, #T_d2635_row3_col15, #T_d2635_row4_col14, #T_d2635_row4_col15, #T_d2635_row4_col16, #T_d2635_row5_col13, #T_d2635_row5_col14 {\n",
       "  font-size: 6pt;\n",
       "  background-color: #000000;\n",
       "  color: #f1f1f1;\n",
       "}\n",
       "#T_d2635_row2_col13 {\n",
       "  font-size: 6pt;\n",
       "  background-color: #020202;\n",
       "  color: #f1f1f1;\n",
       "}\n",
       "#T_d2635_row2_col14 {\n",
       "  font-size: 6pt;\n",
       "  background-color: #363636;\n",
       "  color: #f1f1f1;\n",
       "}\n",
       "#T_d2635_row2_col15 {\n",
       "  font-size: 6pt;\n",
       "  background-color: #9d9d9d;\n",
       "  color: #f1f1f1;\n",
       "}\n",
       "#T_d2635_row2_col16 {\n",
       "  font-size: 6pt;\n",
       "  background-color: #dfdfdf;\n",
       "  color: #000000;\n",
       "}\n",
       "#T_d2635_row3_col5 {\n",
       "  font-size: 6pt;\n",
       "  background-color: #161616;\n",
       "  color: #f1f1f1;\n",
       "}\n",
       "#T_d2635_row3_col6, #T_d2635_row3_col7, #T_d2635_row3_col8, #T_d2635_row3_col9, #T_d2635_row3_col11 {\n",
       "  font-size: 6pt;\n",
       "  background-color: #535353;\n",
       "  color: #f1f1f1;\n",
       "}\n",
       "#T_d2635_row3_col10 {\n",
       "  font-size: 6pt;\n",
       "  background-color: #7c7c7c;\n",
       "  color: #f1f1f1;\n",
       "}\n",
       "#T_d2635_row3_col12 {\n",
       "  font-size: 6pt;\n",
       "  background-color: #3d3d3d;\n",
       "  color: #f1f1f1;\n",
       "}\n",
       "#T_d2635_row3_col16 {\n",
       "  font-size: 6pt;\n",
       "  background-color: #999999;\n",
       "  color: #f1f1f1;\n",
       "}\n",
       "#T_d2635_row4_col1 {\n",
       "  font-size: 6pt;\n",
       "  background-color: #eaeaea;\n",
       "  color: #000000;\n",
       "}\n",
       "#T_d2635_row4_col2 {\n",
       "  font-size: 6pt;\n",
       "  background-color: #d0d0d0;\n",
       "  color: #000000;\n",
       "}\n",
       "#T_d2635_row4_col3, #T_d2635_row4_col4 {\n",
       "  font-size: 6pt;\n",
       "  background-color: #eeeeee;\n",
       "  color: #000000;\n",
       "}\n",
       "#T_d2635_row4_col5 {\n",
       "  font-size: 6pt;\n",
       "  background-color: #f3f3f3;\n",
       "  color: #000000;\n",
       "}\n",
       "#T_d2635_row4_col13 {\n",
       "  font-size: 6pt;\n",
       "  background-color: #232323;\n",
       "  color: #f1f1f1;\n",
       "}\n",
       "#T_d2635_row5_col12 {\n",
       "  font-size: 6pt;\n",
       "  background-color: #c2c2c2;\n",
       "  color: #000000;\n",
       "}\n",
       "#T_d2635_row5_col15 {\n",
       "  font-size: 6pt;\n",
       "  background-color: #080808;\n",
       "  color: #f1f1f1;\n",
       "}\n",
       "#T_d2635_row5_col16 {\n",
       "  font-size: 6pt;\n",
       "  background-color: #c4c4c4;\n",
       "  color: #000000;\n",
       "}\n",
       "</style>\n",
       "<table id=\"T_d2635\">\n",
       "  <thead>\n",
       "    <tr>\n",
       "      <th class=\"blank level0\" >&nbsp;</th>\n",
       "      <th id=\"T_d2635_level0_col0\" class=\"col_heading level0 col0\" >0</th>\n",
       "      <th id=\"T_d2635_level0_col1\" class=\"col_heading level0 col1\" >1</th>\n",
       "      <th id=\"T_d2635_level0_col2\" class=\"col_heading level0 col2\" >2</th>\n",
       "      <th id=\"T_d2635_level0_col3\" class=\"col_heading level0 col3\" >3</th>\n",
       "      <th id=\"T_d2635_level0_col4\" class=\"col_heading level0 col4\" >4</th>\n",
       "      <th id=\"T_d2635_level0_col5\" class=\"col_heading level0 col5\" >5</th>\n",
       "      <th id=\"T_d2635_level0_col6\" class=\"col_heading level0 col6\" >6</th>\n",
       "      <th id=\"T_d2635_level0_col7\" class=\"col_heading level0 col7\" >7</th>\n",
       "      <th id=\"T_d2635_level0_col8\" class=\"col_heading level0 col8\" >8</th>\n",
       "      <th id=\"T_d2635_level0_col9\" class=\"col_heading level0 col9\" >9</th>\n",
       "      <th id=\"T_d2635_level0_col10\" class=\"col_heading level0 col10\" >10</th>\n",
       "      <th id=\"T_d2635_level0_col11\" class=\"col_heading level0 col11\" >11</th>\n",
       "      <th id=\"T_d2635_level0_col12\" class=\"col_heading level0 col12\" >12</th>\n",
       "      <th id=\"T_d2635_level0_col13\" class=\"col_heading level0 col13\" >13</th>\n",
       "      <th id=\"T_d2635_level0_col14\" class=\"col_heading level0 col14\" >14</th>\n",
       "      <th id=\"T_d2635_level0_col15\" class=\"col_heading level0 col15\" >15</th>\n",
       "      <th id=\"T_d2635_level0_col16\" class=\"col_heading level0 col16\" >16</th>\n",
       "      <th id=\"T_d2635_level0_col17\" class=\"col_heading level0 col17\" >17</th>\n",
       "    </tr>\n",
       "  </thead>\n",
       "  <tbody>\n",
       "    <tr>\n",
       "      <th id=\"T_d2635_level0_row0\" class=\"row_heading level0 row0\" >0</th>\n",
       "      <td id=\"T_d2635_row0_col0\" class=\"data row0 col0\" >0</td>\n",
       "      <td id=\"T_d2635_row0_col1\" class=\"data row0 col1\" >0</td>\n",
       "      <td id=\"T_d2635_row0_col2\" class=\"data row0 col2\" >0</td>\n",
       "      <td id=\"T_d2635_row0_col3\" class=\"data row0 col3\" >0</td>\n",
       "      <td id=\"T_d2635_row0_col4\" class=\"data row0 col4\" >0</td>\n",
       "      <td id=\"T_d2635_row0_col5\" class=\"data row0 col5\" >0</td>\n",
       "      <td id=\"T_d2635_row0_col6\" class=\"data row0 col6\" >0</td>\n",
       "      <td id=\"T_d2635_row0_col7\" class=\"data row0 col7\" >0</td>\n",
       "      <td id=\"T_d2635_row0_col8\" class=\"data row0 col8\" >0</td>\n",
       "      <td id=\"T_d2635_row0_col9\" class=\"data row0 col9\" >0</td>\n",
       "      <td id=\"T_d2635_row0_col10\" class=\"data row0 col10\" >0</td>\n",
       "      <td id=\"T_d2635_row0_col11\" class=\"data row0 col11\" >0</td>\n",
       "      <td id=\"T_d2635_row0_col12\" class=\"data row0 col12\" >0</td>\n",
       "      <td id=\"T_d2635_row0_col13\" class=\"data row0 col13\" >0</td>\n",
       "      <td id=\"T_d2635_row0_col14\" class=\"data row0 col14\" >0</td>\n",
       "      <td id=\"T_d2635_row0_col15\" class=\"data row0 col15\" >0</td>\n",
       "      <td id=\"T_d2635_row0_col16\" class=\"data row0 col16\" >0</td>\n",
       "      <td id=\"T_d2635_row0_col17\" class=\"data row0 col17\" >0</td>\n",
       "    </tr>\n",
       "    <tr>\n",
       "      <th id=\"T_d2635_level0_row1\" class=\"row_heading level0 row1\" >1</th>\n",
       "      <td id=\"T_d2635_row1_col0\" class=\"data row1 col0\" >0</td>\n",
       "      <td id=\"T_d2635_row1_col1\" class=\"data row1 col1\" >12</td>\n",
       "      <td id=\"T_d2635_row1_col2\" class=\"data row1 col2\" >99</td>\n",
       "      <td id=\"T_d2635_row1_col3\" class=\"data row1 col3\" >91</td>\n",
       "      <td id=\"T_d2635_row1_col4\" class=\"data row1 col4\" >142</td>\n",
       "      <td id=\"T_d2635_row1_col5\" class=\"data row1 col5\" >155</td>\n",
       "      <td id=\"T_d2635_row1_col6\" class=\"data row1 col6\" >246</td>\n",
       "      <td id=\"T_d2635_row1_col7\" class=\"data row1 col7\" >182</td>\n",
       "      <td id=\"T_d2635_row1_col8\" class=\"data row1 col8\" >155</td>\n",
       "      <td id=\"T_d2635_row1_col9\" class=\"data row1 col9\" >155</td>\n",
       "      <td id=\"T_d2635_row1_col10\" class=\"data row1 col10\" >155</td>\n",
       "      <td id=\"T_d2635_row1_col11\" class=\"data row1 col11\" >155</td>\n",
       "      <td id=\"T_d2635_row1_col12\" class=\"data row1 col12\" >131</td>\n",
       "      <td id=\"T_d2635_row1_col13\" class=\"data row1 col13\" >52</td>\n",
       "      <td id=\"T_d2635_row1_col14\" class=\"data row1 col14\" >0</td>\n",
       "      <td id=\"T_d2635_row1_col15\" class=\"data row1 col15\" >0</td>\n",
       "      <td id=\"T_d2635_row1_col16\" class=\"data row1 col16\" >0</td>\n",
       "      <td id=\"T_d2635_row1_col17\" class=\"data row1 col17\" >0</td>\n",
       "    </tr>\n",
       "    <tr>\n",
       "      <th id=\"T_d2635_level0_row2\" class=\"row_heading level0 row2\" >2</th>\n",
       "      <td id=\"T_d2635_row2_col0\" class=\"data row2 col0\" >0</td>\n",
       "      <td id=\"T_d2635_row2_col1\" class=\"data row2 col1\" >138</td>\n",
       "      <td id=\"T_d2635_row2_col2\" class=\"data row2 col2\" >254</td>\n",
       "      <td id=\"T_d2635_row2_col3\" class=\"data row2 col3\" >254</td>\n",
       "      <td id=\"T_d2635_row2_col4\" class=\"data row2 col4\" >254</td>\n",
       "      <td id=\"T_d2635_row2_col5\" class=\"data row2 col5\" >254</td>\n",
       "      <td id=\"T_d2635_row2_col6\" class=\"data row2 col6\" >254</td>\n",
       "      <td id=\"T_d2635_row2_col7\" class=\"data row2 col7\" >254</td>\n",
       "      <td id=\"T_d2635_row2_col8\" class=\"data row2 col8\" >254</td>\n",
       "      <td id=\"T_d2635_row2_col9\" class=\"data row2 col9\" >254</td>\n",
       "      <td id=\"T_d2635_row2_col10\" class=\"data row2 col10\" >254</td>\n",
       "      <td id=\"T_d2635_row2_col11\" class=\"data row2 col11\" >254</td>\n",
       "      <td id=\"T_d2635_row2_col12\" class=\"data row2 col12\" >254</td>\n",
       "      <td id=\"T_d2635_row2_col13\" class=\"data row2 col13\" >252</td>\n",
       "      <td id=\"T_d2635_row2_col14\" class=\"data row2 col14\" >210</td>\n",
       "      <td id=\"T_d2635_row2_col15\" class=\"data row2 col15\" >122</td>\n",
       "      <td id=\"T_d2635_row2_col16\" class=\"data row2 col16\" >33</td>\n",
       "      <td id=\"T_d2635_row2_col17\" class=\"data row2 col17\" >0</td>\n",
       "    </tr>\n",
       "    <tr>\n",
       "      <th id=\"T_d2635_level0_row3\" class=\"row_heading level0 row3\" >3</th>\n",
       "      <td id=\"T_d2635_row3_col0\" class=\"data row3 col0\" >0</td>\n",
       "      <td id=\"T_d2635_row3_col1\" class=\"data row3 col1\" >220</td>\n",
       "      <td id=\"T_d2635_row3_col2\" class=\"data row3 col2\" >254</td>\n",
       "      <td id=\"T_d2635_row3_col3\" class=\"data row3 col3\" >254</td>\n",
       "      <td id=\"T_d2635_row3_col4\" class=\"data row3 col4\" >254</td>\n",
       "      <td id=\"T_d2635_row3_col5\" class=\"data row3 col5\" >235</td>\n",
       "      <td id=\"T_d2635_row3_col6\" class=\"data row3 col6\" >189</td>\n",
       "      <td id=\"T_d2635_row3_col7\" class=\"data row3 col7\" >189</td>\n",
       "      <td id=\"T_d2635_row3_col8\" class=\"data row3 col8\" >189</td>\n",
       "      <td id=\"T_d2635_row3_col9\" class=\"data row3 col9\" >189</td>\n",
       "      <td id=\"T_d2635_row3_col10\" class=\"data row3 col10\" >150</td>\n",
       "      <td id=\"T_d2635_row3_col11\" class=\"data row3 col11\" >189</td>\n",
       "      <td id=\"T_d2635_row3_col12\" class=\"data row3 col12\" >205</td>\n",
       "      <td id=\"T_d2635_row3_col13\" class=\"data row3 col13\" >254</td>\n",
       "      <td id=\"T_d2635_row3_col14\" class=\"data row3 col14\" >254</td>\n",
       "      <td id=\"T_d2635_row3_col15\" class=\"data row3 col15\" >254</td>\n",
       "      <td id=\"T_d2635_row3_col16\" class=\"data row3 col16\" >75</td>\n",
       "      <td id=\"T_d2635_row3_col17\" class=\"data row3 col17\" >0</td>\n",
       "    </tr>\n",
       "    <tr>\n",
       "      <th id=\"T_d2635_level0_row4\" class=\"row_heading level0 row4\" >4</th>\n",
       "      <td id=\"T_d2635_row4_col0\" class=\"data row4 col0\" >0</td>\n",
       "      <td id=\"T_d2635_row4_col1\" class=\"data row4 col1\" >35</td>\n",
       "      <td id=\"T_d2635_row4_col2\" class=\"data row4 col2\" >74</td>\n",
       "      <td id=\"T_d2635_row4_col3\" class=\"data row4 col3\" >35</td>\n",
       "      <td id=\"T_d2635_row4_col4\" class=\"data row4 col4\" >35</td>\n",
       "      <td id=\"T_d2635_row4_col5\" class=\"data row4 col5\" >25</td>\n",
       "      <td id=\"T_d2635_row4_col6\" class=\"data row4 col6\" >0</td>\n",
       "      <td id=\"T_d2635_row4_col7\" class=\"data row4 col7\" >0</td>\n",
       "      <td id=\"T_d2635_row4_col8\" class=\"data row4 col8\" >0</td>\n",
       "      <td id=\"T_d2635_row4_col9\" class=\"data row4 col9\" >0</td>\n",
       "      <td id=\"T_d2635_row4_col10\" class=\"data row4 col10\" >0</td>\n",
       "      <td id=\"T_d2635_row4_col11\" class=\"data row4 col11\" >0</td>\n",
       "      <td id=\"T_d2635_row4_col12\" class=\"data row4 col12\" >13</td>\n",
       "      <td id=\"T_d2635_row4_col13\" class=\"data row4 col13\" >224</td>\n",
       "      <td id=\"T_d2635_row4_col14\" class=\"data row4 col14\" >254</td>\n",
       "      <td id=\"T_d2635_row4_col15\" class=\"data row4 col15\" >254</td>\n",
       "      <td id=\"T_d2635_row4_col16\" class=\"data row4 col16\" >153</td>\n",
       "      <td id=\"T_d2635_row4_col17\" class=\"data row4 col17\" >0</td>\n",
       "    </tr>\n",
       "    <tr>\n",
       "      <th id=\"T_d2635_level0_row5\" class=\"row_heading level0 row5\" >5</th>\n",
       "      <td id=\"T_d2635_row5_col0\" class=\"data row5 col0\" >0</td>\n",
       "      <td id=\"T_d2635_row5_col1\" class=\"data row5 col1\" >0</td>\n",
       "      <td id=\"T_d2635_row5_col2\" class=\"data row5 col2\" >0</td>\n",
       "      <td id=\"T_d2635_row5_col3\" class=\"data row5 col3\" >0</td>\n",
       "      <td id=\"T_d2635_row5_col4\" class=\"data row5 col4\" >0</td>\n",
       "      <td id=\"T_d2635_row5_col5\" class=\"data row5 col5\" >0</td>\n",
       "      <td id=\"T_d2635_row5_col6\" class=\"data row5 col6\" >0</td>\n",
       "      <td id=\"T_d2635_row5_col7\" class=\"data row5 col7\" >0</td>\n",
       "      <td id=\"T_d2635_row5_col8\" class=\"data row5 col8\" >0</td>\n",
       "      <td id=\"T_d2635_row5_col9\" class=\"data row5 col9\" >0</td>\n",
       "      <td id=\"T_d2635_row5_col10\" class=\"data row5 col10\" >0</td>\n",
       "      <td id=\"T_d2635_row5_col11\" class=\"data row5 col11\" >0</td>\n",
       "      <td id=\"T_d2635_row5_col12\" class=\"data row5 col12\" >90</td>\n",
       "      <td id=\"T_d2635_row5_col13\" class=\"data row5 col13\" >254</td>\n",
       "      <td id=\"T_d2635_row5_col14\" class=\"data row5 col14\" >254</td>\n",
       "      <td id=\"T_d2635_row5_col15\" class=\"data row5 col15\" >247</td>\n",
       "      <td id=\"T_d2635_row5_col16\" class=\"data row5 col16\" >53</td>\n",
       "      <td id=\"T_d2635_row5_col17\" class=\"data row5 col17\" >0</td>\n",
       "    </tr>\n",
       "  </tbody>\n",
       "</table>\n"
      ],
      "text/plain": [
       "<pandas.io.formats.style.Styler>"
      ]
     },
     "execution_count": null,
     "metadata": {},
     "output_type": "execute_result"
    }
   ],
   "source": [
    "df = pd.DataFrame(im3_t[4:10,2:20])\n",
    "df.style.set_properties(**{'font-size':'6pt'}).background_gradient('Greys')"
   ]
  },
  {
   "cell_type": "markdown",
   "id": "d07a26f8-b094-45b5-b7da-662619f663a0",
   "metadata": {},
   "source": [
    "Awesome, we've found the top chunk of the 3, lets now checkout the dot product and sum"
   ]
  },
  {
   "cell_type": "code",
   "execution_count": null,
   "id": "8061a5aa-8ebb-4914-b644-14778a0f1aef",
   "metadata": {},
   "outputs": [
    {
     "data": {
      "text/plain": [
       "(tensor([[  0,   0,   0],\n",
       "         [142, 155, 246],\n",
       "         [254, 254, 254]], dtype=torch.uint8),\n",
       " tensor([[  0,   0,   0],\n",
       "         [  0,   0,   0],\n",
       "         [254, 254, 254]]),\n",
       " tensor(762))"
      ]
     },
     "execution_count": null,
     "metadata": {},
     "output_type": "execute_result"
    }
   ],
   "source": [
    "result = im3_t[4:7,6:9] * window\n",
    "\n",
    "im3_t[4:7,6:9], result, result.sum()"
   ]
  },
  {
   "cell_type": "markdown",
   "id": "90384c46-4a82-4c69-a767-dbc90b1683c2",
   "metadata": {},
   "source": [
    "We can see that it zeroed out the middle row and then kept the lower row high valued which resulted in a high number when compared to an input tensor of zeroes or low values.\n",
    "\n",
    "Lets make a small helper to allow us to apply the kernel over any range of elements more easily."
   ]
  },
  {
   "cell_type": "code",
   "execution_count": null,
   "id": "0732ffbb-ed45-4a0b-bfdd-09513cc3df27",
   "metadata": {},
   "outputs": [],
   "source": [
    "def apply_kernel(row, col, kernel): return (im3_t[row-1:row+2,col-1:col+2] * kernel).sum()"
   ]
  },
  {
   "cell_type": "code",
   "execution_count": null,
   "id": "e4ae944d-dbae-44ed-bf22-7c69c9b9e391",
   "metadata": {},
   "outputs": [
    {
     "data": {
      "text/plain": [
       "tensor(762)"
      ]
     },
     "execution_count": null,
     "metadata": {},
     "output_type": "execute_result"
    }
   ],
   "source": [
    "apply_kernel(5,7,window)"
   ]
  },
  {
   "cell_type": "markdown",
   "id": "a2cd53d5-d65f-44dd-9bdc-8c9f33d08d4b",
   "metadata": {},
   "source": [
    "Great, we can replicate our previous result as well. Lets apply our kernel over the entire image and see what we get back"
   ]
  },
  {
   "cell_type": "code",
   "execution_count": null,
   "id": "b437230e-cec7-4e71-b94b-57ba1b959d16",
   "metadata": {},
   "outputs": [
    {
     "data": {
      "text/plain": [
       "<AxesSubplot: >"
      ]
     },
     "execution_count": null,
     "metadata": {},
     "output_type": "execute_result"
    },
    {
     "data": {
      "image/png": "[encoded data removed]",
      "text/plain": [
       "<Figure size 100x100 with 1 Axes>"
      ]
     },
     "metadata": {},
     "output_type": "display_data"
    }
   ],
   "source": [
    "space = range(1,27)\n",
    "\n",
    "top = tensor([[apply_kernel(i,j,window) for j in space] for i in space])\n",
    "show_image(top)"
   ]
  },
  {
   "cell_type": "markdown",
   "id": "0c0385a4-0100-48f7-b8d5-08b42913b4d9",
   "metadata": {},
   "source": [
    "We can see the top horizontal edges (our -1,-1,-1 vector in our window kernel) are highlighted, whilst the bottom edges and vertical lines are dark and ignored respectively. Our window is a 'top edge' kernel/window"
   ]
  },
  {
   "cell_type": "code",
   "execution_count": null,
   "id": "f086869d-a353-4dfd-beac-b52035164e87",
   "metadata": {},
   "outputs": [
    {
     "data": {
      "text/plain": [
       "<AxesSubplot: >"
      ]
     },
     "execution_count": null,
     "metadata": {},
     "output_type": "execute_result"
    },
    {
     "data": {
      "image/png": "[encoded data removed]",
      "text/plain": [
       "<Figure size 100x100 with 1 Axes>"
      ]
     },
     "metadata": {},
     "output_type": "display_data"
    }
   ],
   "source": [
    "left = tensor([[-1, 1, 0],\n",
    "               [-1, 1, 0],\n",
    "               [-1, 1, 0]]).float()\n",
    "\n",
    "left_edge = tensor([[apply_kernel(i,j,left) for j in space] for i in space])\n",
    "show_image(left_edge)"
   ]
  },
  {
   "cell_type": "markdown",
   "id": "4b685d4a-4468-4945-97eb-d88b3ae7b036",
   "metadata": {},
   "source": [
    "And the same logic is applied for the 'left' edge in the image, which have been highlighted. This [paper](https://arxiv.org/abs/1603.07285) has lots of awesome images to explain this better than I've written it (as well as the [fastai book](https://github.com/fastai/fastbook/blob/master/13_convolutions.ipynb) which mentions this particular paper."
   ]
  },
  {
   "cell_type": "markdown",
   "id": "d95fa4e4-d02b-4a7c-b941-a4f294a5756f",
   "metadata": {},
   "source": [
    "### Pytorch Implementation\n",
    "\n",
    "Being common calculations and widely used, pytorch has these types of functions built in within the `torch.nn.functional` library which we can simply call. The other awesome thing is that multiple kernels can be applied at the same time."
   ]
  },
  {
   "cell_type": "code",
   "execution_count": null,
   "id": "3cf5a193-d7ca-4858-a15d-a5b4af36daa2",
   "metadata": {},
   "outputs": [
    {
     "data": {
      "text/plain": [
       "torch.Size([4, 3, 3])"
      ]
     },
     "execution_count": null,
     "metadata": {},
     "output_type": "execute_result"
    }
   ],
   "source": [
    "diag1 = tensor([[ 0,-1,1],\n",
    "                [-1, 1,0],\n",
    "                [ 1, 0,0]])\n",
    "\n",
    "diag2 = tensor([[1 ,-1,0],\n",
    "                [0 , 1,0],\n",
    "                [0 , 0,1]])\n",
    "\n",
    "top = tensor([[1 ,-1,0],\n",
    "              [0 , 1,0],\n",
    "              [0 , 0,1]])\n",
    "\n",
    "edge_kernels = torch.stack([left, top, diag1, diag2])\n",
    "edge_kernels.shape"
   ]
  },
  {
   "cell_type": "markdown",
   "id": "253749ec-00e3-453a-a4a5-fb047fb76c13",
   "metadata": {},
   "source": [
    "The other fantastic thing is that pytorch will apply these kernels to multiple images at once, which means we can apply multiple kernels to multiple images in a single go. We can apply this to a whole mini-batch really easily, lets get a dataloader going."
   ]
  },
  {
   "cell_type": "code",
   "execution_count": null,
   "id": "063f8dd6-b28b-4b0c-8ef5-9c3dc850853b",
   "metadata": {},
   "outputs": [
    {
     "data": {
      "text/plain": [
       "torch.Size([64, 1, 28, 28])"
      ]
     },
     "execution_count": null,
     "metadata": {},
     "output_type": "execute_result"
    }
   ],
   "source": [
    "mnist = DataBlock(blocks=(ImageBlock(cls=PILImageBW), CategoryBlock),\n",
    "                  get_items=get_image_files,\n",
    "                  splitter=GrandparentSplitter(),\n",
    "                  get_y=parent_label)\n",
    "\n",
    "dls = mnist.dataloaders(path)\n",
    "xb,yb = first(dls.valid)\n",
    "xb.shape"
   ]
  },
  {
   "cell_type": "markdown",
   "id": "c400e42f-a33d-413b-92b6-be67e6e2f996",
   "metadata": {},
   "source": [
    "fastai by default loads up the GPU with your tensors, lets move this to the CPU since our `conv2d` gets calculated there by defaults (all will be explained in the next paragraph)"
   ]
  },
  {
   "cell_type": "code",
   "execution_count": null,
   "id": "9fed1390-4593-42c6-9e97-7a48ee8d9043",
   "metadata": {},
   "outputs": [],
   "source": [
    "xb,yb = to_cpu(xb), to_cpu(yb)"
   ]
  },
  {
   "cell_type": "markdown",
   "id": "943ae49f-ee0b-4af4-949b-eb70dcdc7e12",
   "metadata": {},
   "source": [
    "The above shape is a batch of 64 images, with one channel of a 28x28 pixel grid, Pytorch represents images as a rank-3 tensor, being `[channels, rows, columns]`.\n",
    "\n",
    "`F.conv2d` which is our pytorch module which will run our kernels for us requires a rank-4 tensor (`[channels_in, features_out, rows, columns]`). Our `edge_kernels` doesn't have this shape at the moment and we need to tell pytorch we've only got 1 channel since we don't have a multi-colour image with the red,green, blue channels that you'd expect. \n",
    "\n",
    "We're going to insert a 'unit axis' which is an axis of size 1 in the first location to match the `channels_in` attribute, we can do this with the `unsqueeze` method. Unsqueeze places a 'unit axis' in the position that you give it, in our case we want to place it in the first position."
   ]
  },
  {
   "cell_type": "code",
   "execution_count": null,
   "id": "17dd820c-0871-4b01-8f32-8dec4d8b144a",
   "metadata": {},
   "outputs": [
    {
     "data": {
      "text/plain": [
       "(torch.Size([4, 3, 3]), torch.Size([4, 1, 3, 3]))"
      ]
     },
     "execution_count": null,
     "metadata": {},
     "output_type": "execute_result"
    }
   ],
   "source": [
    "edge_kernels.shape, edge_kernels.unsqueeze(1).shape"
   ]
  },
  {
   "cell_type": "code",
   "execution_count": null,
   "id": "60dbc6ac-9ffc-42e4-ae33-f1088b3d7076",
   "metadata": {},
   "outputs": [
    {
     "data": {
      "text/plain": [
       "\u001b[1;31mDocstring:\u001b[0m\n",
       "unsqueeze(input, dim) -> Tensor\n",
       "\n",
       "Returns a new tensor with a dimension of size one inserted at the\n",
       "specified position.\n",
       "\n",
       "The returned tensor shares the same underlying data with this tensor.\n",
       "\n",
       "A :attr:`dim` value within the range ``[-input.dim() - 1, input.dim() + 1)``\n",
       "can be used. Negative :attr:`dim` will correspond to :meth:`unsqueeze`\n",
       "applied at :attr:`dim` = ``dim + input.dim() + 1``.\n",
       "\n",
       "Args:\n",
       "    input (Tensor): the input tensor.\n",
       "    dim (int): the index at which to insert the singleton dimension\n",
       "\n",
       "Example::\n",
       "\n",
       "    >>> x = torch.tensor([1, 2, 3, 4])\n",
       "    >>> torch.unsqueeze(x, 0)\n",
       "    tensor([[ 1,  2,  3,  4]])\n",
       "    >>> torch.unsqueeze(x, 1)\n",
       "    tensor([[ 1],\n",
       "            [ 2],\n",
       "            [ 3],\n",
       "            [ 4]])\n",
       "\u001b[1;31mType:\u001b[0m      builtin_function_or_method\n"
      ]
     },
     "metadata": {},
     "output_type": "display_data"
    }
   ],
   "source": [
    "torch.unsqueeze?"
   ]
  },
  {
   "cell_type": "code",
   "execution_count": null,
   "id": "ba425a4d-681d-4b11-93fc-981645f78380",
   "metadata": {},
   "outputs": [
    {
     "data": {
      "text/plain": [
       "tensor([[[[-1.,  1.,  0.],\n",
       "          [-1.,  1.,  0.],\n",
       "          [-1.,  1.,  0.]]],\n",
       "\n",
       "\n",
       "        [[[ 1., -1.,  0.],\n",
       "          [ 0.,  1.,  0.],\n",
       "          [ 0.,  0.,  1.]]],\n",
       "\n",
       "\n",
       "        [[[ 0., -1.,  1.],\n",
       "          [-1.,  1.,  0.],\n",
       "          [ 1.,  0.,  0.]]],\n",
       "\n",
       "\n",
       "        [[[ 1., -1.,  0.],\n",
       "          [ 0.,  1.,  0.],\n",
       "          [ 0.,  0.,  1.]]]])"
      ]
     },
     "execution_count": null,
     "metadata": {},
     "output_type": "execute_result"
    }
   ],
   "source": [
    "edge_kernels.unsqueeze_(1)"
   ]
  },
  {
   "cell_type": "code",
   "execution_count": null,
   "id": "afa09763-1a24-4869-b6c6-5055705cdf5c",
   "metadata": {},
   "outputs": [
    {
     "data": {
      "text/plain": [
       "torch.Size([64, 4, 26, 26])"
      ]
     },
     "execution_count": null,
     "metadata": {},
     "output_type": "execute_result"
    }
   ],
   "source": [
    "batch_features = F.conv2d(xb, edge_kernels)\n",
    "batch_features.shape"
   ]
  },
  {
   "cell_type": "markdown",
   "id": "f9a59840-da76-46ef-975b-afa5828ece42",
   "metadata": {},
   "source": [
    "This shape is a 64 image mini-batch, 4 kernels, and the 26x26 image. We lose a pixel on either side of the 28 pixel image because we can't slide our 3x3 kernel all the way to the edge"
   ]
  },
  {
   "cell_type": "markdown",
   "id": "0efa5175-3222-448d-b272-c1ad7c42e191",
   "metadata": {},
   "source": [
    "### Padding\n",
    "\n",
    "Now since we've lost two pixels on either side, its probably not a huge deal in this particular context but its still a signal loss that we'd like to not have. We can pad the image to be wider than the original input so that we can"
   ]
  }
 ],
 "metadata": {
  "kernelspec": {
   "display_name": "Python 3 (ipykernel)",
   "language": "python",
   "name": "python3"
  },
  "language_info": {
   "codemirror_mode": {
    "name": "ipython",
    "version": 3
   },
   "file_extension": ".py",
   "mimetype": "text/x-python",
   "name": "python",
   "nbconvert_exporter": "python",
   "pygments_lexer": "ipython3",
   "version": "3.10.8"
  }
 },
 "nbformat": 4,
 "nbformat_minor": 5
}
