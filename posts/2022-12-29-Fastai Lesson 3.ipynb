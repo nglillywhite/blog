{
 "cells": [
  {
   "cell_type": "raw",
   "id": "6cee887a",
   "metadata": {},
   "source": [
    "---\n",
    "badges: true\n",
    "categories:\n",
    "- jupyter\n",
    "- fastai\n",
    "- ML\n",
    "date: '2023-01-08'\n",
    "description: ReLu, Matrix Multiplication, Tensors, Gradient Descent\n",
    "title: Fastai Lesson 3 | Neural Net Foundations\n",
    "author: Nicholas Lillywhite\n",
    "toc: true\n",
    "image: \"images/sgd.png\"\n",
    "---"
   ]
  },
  {
   "cell_type": "markdown",
   "id": "60018f19-1234-438b-ba12-777cd35ca633",
   "metadata": {
    "tags": []
   },
   "source": [
    "# Lesson 3 | Neural Nets Foundations\n",
    "> If You are Feeling Intimidated Like Me, Lets Work Through This Together\n",
    "\n",
    ">Checkout this notebook in [colab](https://colab.research.google.com/github/nglillywhite/blog/blob/main/posts/2022-12-29-Fastai%20Lesson%203.ipynb)\n",
    "\n",
    "This chapter focuses on understanding the absolute bare bones fundamentals of how deep learning works. In particular the individual calculations that are being done at each and every 'artificial neuron' of any deep learning network that we build. I'm certainly not from a math background and am generally intimidated but intrigued by learning math like this. I think I have shaky foundational math understanding but I'm hoping working through this course in great detail will bolster these core concepts and I can build on them. Despite my enjoyment of math in school, I did only the general curriculum in my final two years because the math teachers in my school were able to induce a coma purely via the audio of their voice. I have no doubt they were well intentioned people but many were phoning in the days and I wasn't willing to spend half of my school day with them. I'm paying the price for it now having to re-learn these concepts but maybe its for the best, if they'd explained that $y=mx+b$, derivatives, and quadratics could detect cancers and make self driving cars I probably would have been a more passionate student. I feel very much a product of the \"[Mathematician's Lament](https://www.maa.org/external_archive/devlin/LockhartsLament.pdf)\" that is referenced in chapter 1 of the book. Its a lovely read and I took many lessons away from the write-up, not only in how I want to teach things going forward but also a strong emotional response to how something as incredible as math is ruined and tarnished because of how its taught. Think of where we could be, but nonetheless this blog is about chapter 3 of the fastai course, not math education.\n",
    "\n",
    "Here I am, and in the spirit of the \"Sidebar: Tenacity and Deep Learning\" from the book, I'm hoping that writing this blog and working through the content is a explicit evidence of success for me being both tenacious, and re-learning my math roots.\n",
    "\n",
    "## Main Topics\n",
    "\n",
    "The main concepts I want to have a 'mechanistic' & intuitive feeling for after this chapter are:\n",
    "\n",
    " - ReLu\n",
    " - Matrix Multiplication\n",
    " - Tensors\n",
    " - Gradient Descent\n",
    " \n",
    "Hopefully after reading this blog you also feel comfortable with these important tools and feel as comfortable as I intend to be implementing and discussing these core concepts.\n",
    "\n",
    "As mentioned in the lecture, this chapter has different content in the book from the lecture and I'd like to work through both, I'm firstly going to follow along the lecture with Jeremy and re-write & create the functions and tools he builds, barring the excel work which I'd like to re-write in python here, I will then work through the book content."
   ]
  },
  {
   "cell_type": "markdown",
   "id": "59603e6f-a0d3-492e-93d6-cccecd43c64d",
   "metadata": {},
   "source": [
    "## Lecture Content"
   ]
  },
  {
   "cell_type": "markdown",
   "id": "30c83957-84d2-4bee-8fcb-9f36170045c1",
   "metadata": {},
   "source": [
    "### Timm Module\n",
    "\n",
    "Jeremy first talks through improving his pet classifier from the previous lesson, in particular having a look at different architectures and using the 'timm' library for vision model architectures. Lets have a look at the timm module and whats available"
   ]
  },
  {
   "cell_type": "code",
   "execution_count": 1,
   "id": "d3b9216d-5f42-433d-85a7-000cdb67dfa7",
   "metadata": {},
   "outputs": [
    {
     "data": {
      "text/plain": [
       "(964,\n",
       " ['adv_inception_v3',\n",
       "  'bat_resnext26ts',\n",
       "  'beit_base_patch16_224',\n",
       "  'beit_base_patch16_224_in22k',\n",
       "  'beit_base_patch16_384',\n",
       "  'beit_large_patch16_224',\n",
       "  'beit_large_patch16_224_in22k',\n",
       "  'beit_large_patch16_384',\n",
       "  'beit_large_patch16_512',\n",
       "  'beitv2_base_patch16_224',\n",
       "  'beitv2_base_patch16_224_in22k',\n",
       "  'beitv2_large_patch16_224',\n",
       "  'beitv2_large_patch16_224_in22k',\n",
       "  'botnet26t_256',\n",
       "  'botnet50ts_256',\n",
       "  'cait_m36_384',\n",
       "  'cait_m48_448',\n",
       "  'cait_s24_224',\n",
       "  'cait_s24_384',\n",
       "  'cait_s36_384'])"
      ]
     },
     "execution_count": 1,
     "metadata": {},
     "output_type": "execute_result"
    }
   ],
   "source": [
    "import timm\n",
    "\n",
    "len(timm.list_models()), timm.list_models()[:20]"
   ]
  },
  {
   "cell_type": "markdown",
   "id": "288369e7-1949-4d27-b2ac-ba12218f51a5",
   "metadata": {},
   "source": [
    "There are a lot of models, almost ~1000 which is kind of nuts, looks like its certainly beefed up by different sizes of what I think is the same architecture structure, lets get a model down and have a look at the architecture."
   ]
  },
  {
   "cell_type": "code",
   "execution_count": 2,
   "id": "835d3747-98c4-4cc2-96d4-5e4f9b109a32",
   "metadata": {},
   "outputs": [
    {
     "data": {
      "text/plain": [
       "ResNet(\n",
       "  (conv1): Conv2d(3, 64, kernel_size=(7, 7), stride=(2, 2), padding=(3, 3), bias=False)\n",
       "  (bn1): BatchNorm2d(64, eps=1e-05, momentum=0.1, affine=True, track_running_stats=True)\n",
       "  (act1): ReLU(inplace=True)\n",
       "  (maxpool): MaxPool2d(kernel_size=3, stride=2, padding=1, dilation=1, ceil_mode=False)\n",
       "  (layer1): Sequential(\n",
       "    (0): BasicBlock(\n",
       "      (conv1): Conv2d(64, 64, kernel_size=(3, 3), stride=(1, 1), padding=(1, 1), bias=False)\n",
       "      (bn1): BatchNorm2d(64, eps=1e-05, momentum=0.1, affine=True, track_running_stats=True)\n",
       "      (drop_block): Identity()\n",
       "      (act1): ReLU(inplace=True)\n",
       "      (aa): Identity()\n",
       "      (conv2): Conv2d(64, 64, kernel_size=(3, 3), stride=(1, 1), padding=(1, 1), bias=False)\n",
       "      (bn2): BatchNorm2d(64, eps=1e-05, momentum=0.1, affine=True, track_running_stats=True)\n",
       "      (act2): ReLU(inplace=True)\n",
       "    )\n",
       "    (1): BasicBlock(\n",
       "      (conv1): Conv2d(64, 64, kernel_size=(3, 3), stride=(1, 1), padding=(1, 1), bias=False)\n",
       "      (bn1): BatchNorm2d(64, eps=1e-05, momentum=0.1, affine=True, track_running_stats=True)\n",
       "      (drop_block): Identity()\n",
       "      (act1): ReLU(inplace=True)\n",
       "      (aa): Identity()\n",
       "      (conv2): Conv2d(64, 64, kernel_size=(3, 3), stride=(1, 1), padding=(1, 1), bias=False)\n",
       "      (bn2): BatchNorm2d(64, eps=1e-05, momentum=0.1, affine=True, track_running_stats=True)\n",
       "      (act2): ReLU(inplace=True)\n",
       "    )\n",
       "  )\n",
       "  (layer2): Sequential(\n",
       "    (0): BasicBlock(\n",
       "      (conv1): Conv2d(64, 128, kernel_size=(3, 3), stride=(2, 2), padding=(1, 1), bias=False)\n",
       "      (bn1): BatchNorm2d(128, eps=1e-05, momentum=0.1, affine=True, track_running_stats=True)\n",
       "      (drop_block): Identity()\n",
       "      (act1): ReLU(inplace=True)\n",
       "      (aa): Identity()\n",
       "      (conv2): Conv2d(128, 128, kernel_size=(3, 3), stride=(1, 1), padding=(1, 1), bias=False)\n",
       "      (bn2): BatchNorm2d(128, eps=1e-05, momentum=0.1, affine=True, track_running_stats=True)\n",
       "      (act2): ReLU(inplace=True)\n",
       "      (downsample): Sequential(\n",
       "        (0): Conv2d(64, 128, kernel_size=(1, 1), stride=(2, 2), bias=False)\n",
       "        (1): BatchNorm2d(128, eps=1e-05, momentum=0.1, affine=True, track_running_stats=True)\n",
       "      )\n",
       "    )\n",
       "    (1): BasicBlock(\n",
       "      (conv1): Conv2d(128, 128, kernel_size=(3, 3), stride=(1, 1), padding=(1, 1), bias=False)\n",
       "      (bn1): BatchNorm2d(128, eps=1e-05, momentum=0.1, affine=True, track_running_stats=True)\n",
       "      (drop_block): Identity()\n",
       "      (act1): ReLU(inplace=True)\n",
       "      (aa): Identity()\n",
       "      (conv2): Conv2d(128, 128, kernel_size=(3, 3), stride=(1, 1), padding=(1, 1), bias=False)\n",
       "      (bn2): BatchNorm2d(128, eps=1e-05, momentum=0.1, affine=True, track_running_stats=True)\n",
       "      (act2): ReLU(inplace=True)\n",
       "    )\n",
       "  )\n",
       "  (layer3): Sequential(\n",
       "    (0): BasicBlock(\n",
       "      (conv1): Conv2d(128, 256, kernel_size=(3, 3), stride=(2, 2), padding=(1, 1), bias=False)\n",
       "      (bn1): BatchNorm2d(256, eps=1e-05, momentum=0.1, affine=True, track_running_stats=True)\n",
       "      (drop_block): Identity()\n",
       "      (act1): ReLU(inplace=True)\n",
       "      (aa): Identity()\n",
       "      (conv2): Conv2d(256, 256, kernel_size=(3, 3), stride=(1, 1), padding=(1, 1), bias=False)\n",
       "      (bn2): BatchNorm2d(256, eps=1e-05, momentum=0.1, affine=True, track_running_stats=True)\n",
       "      (act2): ReLU(inplace=True)\n",
       "      (downsample): Sequential(\n",
       "        (0): Conv2d(128, 256, kernel_size=(1, 1), stride=(2, 2), bias=False)\n",
       "        (1): BatchNorm2d(256, eps=1e-05, momentum=0.1, affine=True, track_running_stats=True)\n",
       "      )\n",
       "    )\n",
       "    (1): BasicBlock(\n",
       "      (conv1): Conv2d(256, 256, kernel_size=(3, 3), stride=(1, 1), padding=(1, 1), bias=False)\n",
       "      (bn1): BatchNorm2d(256, eps=1e-05, momentum=0.1, affine=True, track_running_stats=True)\n",
       "      (drop_block): Identity()\n",
       "      (act1): ReLU(inplace=True)\n",
       "      (aa): Identity()\n",
       "      (conv2): Conv2d(256, 256, kernel_size=(3, 3), stride=(1, 1), padding=(1, 1), bias=False)\n",
       "      (bn2): BatchNorm2d(256, eps=1e-05, momentum=0.1, affine=True, track_running_stats=True)\n",
       "      (act2): ReLU(inplace=True)\n",
       "    )\n",
       "  )\n",
       "  (layer4): Sequential(\n",
       "    (0): BasicBlock(\n",
       "      (conv1): Conv2d(256, 512, kernel_size=(3, 3), stride=(2, 2), padding=(1, 1), bias=False)\n",
       "      (bn1): BatchNorm2d(512, eps=1e-05, momentum=0.1, affine=True, track_running_stats=True)\n",
       "      (drop_block): Identity()\n",
       "      (act1): ReLU(inplace=True)\n",
       "      (aa): Identity()\n",
       "      (conv2): Conv2d(512, 512, kernel_size=(3, 3), stride=(1, 1), padding=(1, 1), bias=False)\n",
       "      (bn2): BatchNorm2d(512, eps=1e-05, momentum=0.1, affine=True, track_running_stats=True)\n",
       "      (act2): ReLU(inplace=True)\n",
       "      (downsample): Sequential(\n",
       "        (0): Conv2d(256, 512, kernel_size=(1, 1), stride=(2, 2), bias=False)\n",
       "        (1): BatchNorm2d(512, eps=1e-05, momentum=0.1, affine=True, track_running_stats=True)\n",
       "      )\n",
       "    )\n",
       "    (1): BasicBlock(\n",
       "      (conv1): Conv2d(512, 512, kernel_size=(3, 3), stride=(1, 1), padding=(1, 1), bias=False)\n",
       "      (bn1): BatchNorm2d(512, eps=1e-05, momentum=0.1, affine=True, track_running_stats=True)\n",
       "      (drop_block): Identity()\n",
       "      (act1): ReLU(inplace=True)\n",
       "      (aa): Identity()\n",
       "      (conv2): Conv2d(512, 512, kernel_size=(3, 3), stride=(1, 1), padding=(1, 1), bias=False)\n",
       "      (bn2): BatchNorm2d(512, eps=1e-05, momentum=0.1, affine=True, track_running_stats=True)\n",
       "      (act2): ReLU(inplace=True)\n",
       "    )\n",
       "  )\n",
       "  (global_pool): SelectAdaptivePool2d (pool_type=avg, flatten=Flatten(start_dim=1, end_dim=-1))\n",
       "  (fc): Linear(in_features=512, out_features=1000, bias=True)\n",
       ")"
      ]
     },
     "execution_count": 2,
     "metadata": {},
     "output_type": "execute_result"
    }
   ],
   "source": [
    "resnet18 = timm.models.resnet18()\n",
    "resnet18"
   ]
  },
  {
   "cell_type": "markdown",
   "id": "82fd81dc-860b-4cd5-b632-ef471256a6ec",
   "metadata": {},
   "source": [
    "Ok so I've brought down a 'tiny' model (in the scheme of todays models which have millions of parameters) called resnet16 which I used on my shark classifier in chapter 2 and the resnet architecture is what Jeremy references in the lecture.\n",
    "\n",
    "It looks like there are many 'Sequential' layers with 'BasicBlocks' inside them which then have a bunch of individual 'submodules' if we copy the language from the model.get_submodule() API which we're about to use. Lets now have a look at a particular submodule. The get_submodule() method allows us to step down the 'tree' and 'branches' of the layers with a dot notation. We shall step all the way down to a leaf, take particular note of the branch names contained within the smooth brackets '()'. First we go via the \"Layer1\" layer, into the first BasicBlock which has the notation of '(O)', I'm guessing because the layer is an array of BasicBlocks, the first index being 0, then I'm going to pick the BatchNorm2d submodule which has the notation of '(bn1)' within the brackets."
   ]
  },
  {
   "cell_type": "code",
   "execution_count": 3,
   "id": "48ee929c-900c-49f3-bef6-78cc529ec284",
   "metadata": {},
   "outputs": [
    {
     "data": {
      "text/plain": [
       "[Parameter containing:\n",
       " tensor([1., 1., 1., 1., 1., 1., 1., 1., 1., 1., 1., 1., 1., 1., 1., 1., 1., 1.,\n",
       "         1., 1., 1., 1., 1., 1., 1., 1., 1., 1., 1., 1., 1., 1., 1., 1., 1., 1.,\n",
       "         1., 1., 1., 1., 1., 1., 1., 1., 1., 1., 1., 1., 1., 1., 1., 1., 1., 1.,\n",
       "         1., 1., 1., 1., 1., 1., 1., 1., 1., 1.], requires_grad=True),\n",
       " Parameter containing:\n",
       " tensor([0., 0., 0., 0., 0., 0., 0., 0., 0., 0., 0., 0., 0., 0., 0., 0., 0., 0., 0., 0., 0., 0., 0., 0.,\n",
       "         0., 0., 0., 0., 0., 0., 0., 0., 0., 0., 0., 0., 0., 0., 0., 0., 0., 0., 0., 0., 0., 0., 0., 0.,\n",
       "         0., 0., 0., 0., 0., 0., 0., 0., 0., 0., 0., 0., 0., 0., 0., 0.],\n",
       "        requires_grad=True)]"
      ]
     },
     "execution_count": 3,
     "metadata": {},
     "output_type": "execute_result"
    }
   ],
   "source": [
    "layer = resnet18.get_submodule(\"layer1.0.bn1\")\n",
    "list(layer.parameters())"
   ]
  },
  {
   "cell_type": "markdown",
   "id": "194d1d9f-2d3a-4965-929c-ff5c9bb5cc5c",
   "metadata": {},
   "source": [
    "OK so we've got a couple of tensors, one set to all ones and another set to all zeroes, lets have a look at the doc to see if there's any hints."
   ]
  },
  {
   "cell_type": "code",
   "execution_count": 4,
   "id": "aed2fe06-c1b4-43f5-8b38-7cbc31acc206",
   "metadata": {},
   "outputs": [
    {
     "data": {
      "text/plain": [
       "\u001b[1;31mInit signature:\u001b[0m\n",
       "\u001b[0mBatchNorm2d\u001b[0m\u001b[1;33m(\u001b[0m\u001b[1;33m\n",
       "\u001b[0m    \u001b[0mnum_features\u001b[0m\u001b[1;33m:\u001b[0m \u001b[0mint\u001b[0m\u001b[1;33m,\u001b[0m\u001b[1;33m\n",
       "\u001b[0m    \u001b[0meps\u001b[0m\u001b[1;33m:\u001b[0m \u001b[0mfloat\u001b[0m \u001b[1;33m=\u001b[0m \u001b[1;36m1e-05\u001b[0m\u001b[1;33m,\u001b[0m\u001b[1;33m\n",
       "\u001b[0m    \u001b[0mmomentum\u001b[0m\u001b[1;33m:\u001b[0m \u001b[0mfloat\u001b[0m \u001b[1;33m=\u001b[0m \u001b[1;36m0.1\u001b[0m\u001b[1;33m,\u001b[0m\u001b[1;33m\n",
       "\u001b[0m    \u001b[0maffine\u001b[0m\u001b[1;33m:\u001b[0m \u001b[0mbool\u001b[0m \u001b[1;33m=\u001b[0m \u001b[1;32mTrue\u001b[0m\u001b[1;33m,\u001b[0m\u001b[1;33m\n",
       "\u001b[0m    \u001b[0mtrack_running_stats\u001b[0m\u001b[1;33m:\u001b[0m \u001b[0mbool\u001b[0m \u001b[1;33m=\u001b[0m \u001b[1;32mTrue\u001b[0m\u001b[1;33m,\u001b[0m\u001b[1;33m\n",
       "\u001b[0m    \u001b[0mdevice\u001b[0m\u001b[1;33m=\u001b[0m\u001b[1;32mNone\u001b[0m\u001b[1;33m,\u001b[0m\u001b[1;33m\n",
       "\u001b[0m    \u001b[0mdtype\u001b[0m\u001b[1;33m=\u001b[0m\u001b[1;32mNone\u001b[0m\u001b[1;33m,\u001b[0m\u001b[1;33m\n",
       "\u001b[0m\u001b[1;33m)\u001b[0m \u001b[1;33m->\u001b[0m \u001b[1;32mNone\u001b[0m\u001b[1;33m\u001b[0m\u001b[1;33m\u001b[0m\u001b[0m\n",
       "\u001b[1;31mDocstring:\u001b[0m     \n",
       "Applies Batch Normalization over a 4D input (a mini-batch of 2D inputs\n",
       "with additional channel dimension) as described in the paper\n",
       "`Batch Normalization: Accelerating Deep Network Training by Reducing\n",
       "Internal Covariate Shift <https://arxiv.org/abs/1502.03167>`__ .\n",
       "\n",
       ".. math::\n",
       "\n",
       "    y = \\frac{x - \\mathrm{E}[x]}{ \\sqrt{\\mathrm{Var}[x] + \\epsilon}} * \\gamma + \\beta\n",
       "\n",
       "The mean and standard-deviation are calculated per-dimension over\n",
       "the mini-batches and :math:`\\gamma` and :math:`\\beta` are learnable parameter vectors\n",
       "of size `C` (where `C` is the input size). By default, the elements of :math:`\\gamma` are set\n",
       "to 1 and the elements of :math:`\\beta` are set to 0. The standard-deviation is calculated\n",
       "via the biased estimator, equivalent to `torch.var(input, unbiased=False)`.\n",
       "\n",
       "Also by default, during training this layer keeps running estimates of its\n",
       "computed mean and variance, which are then used for normalization during\n",
       "evaluation. The running estimates are kept with a default :attr:`momentum`\n",
       "of 0.1.\n",
       "\n",
       "If :attr:`track_running_stats` is set to ``False``, this layer then does not\n",
       "keep running estimates, and batch statistics are instead used during\n",
       "evaluation time as well.\n",
       "\n",
       ".. note::\n",
       "    This :attr:`momentum` argument is different from one used in optimizer\n",
       "    classes and the conventional notion of momentum. Mathematically, the\n",
       "    update rule for running statistics here is\n",
       "    :math:`\\hat{x}_\\text{new} = (1 - \\text{momentum}) \\times \\hat{x} + \\text{momentum} \\times x_t`,\n",
       "    where :math:`\\hat{x}` is the estimated statistic and :math:`x_t` is the\n",
       "    new observed value.\n",
       "\n",
       "Because the Batch Normalization is done over the `C` dimension, computing statistics\n",
       "on `(N, H, W)` slices, it's common terminology to call this Spatial Batch Normalization.\n",
       "\n",
       "Args:\n",
       "    num_features: :math:`C` from an expected input of size\n",
       "        :math:`(N, C, H, W)`\n",
       "    eps: a value added to the denominator for numerical stability.\n",
       "        Default: 1e-5\n",
       "    momentum: the value used for the running_mean and running_var\n",
       "        computation. Can be set to ``None`` for cumulative moving average\n",
       "        (i.e. simple average). Default: 0.1\n",
       "    affine: a boolean value that when set to ``True``, this module has\n",
       "        learnable affine parameters. Default: ``True``\n",
       "    track_running_stats: a boolean value that when set to ``True``, this\n",
       "        module tracks the running mean and variance, and when set to ``False``,\n",
       "        this module does not track such statistics, and initializes statistics\n",
       "        buffers :attr:`running_mean` and :attr:`running_var` as ``None``.\n",
       "        When these buffers are ``None``, this module always uses batch statistics.\n",
       "        in both training and eval modes. Default: ``True``\n",
       "\n",
       "Shape:\n",
       "    - Input: :math:`(N, C, H, W)`\n",
       "    - Output: :math:`(N, C, H, W)` (same shape as input)\n",
       "\n",
       "Examples::\n",
       "\n",
       "    >>> # With Learnable Parameters\n",
       "    >>> m = nn.BatchNorm2d(100)\n",
       "    >>> # Without Learnable Parameters\n",
       "    >>> m = nn.BatchNorm2d(100, affine=False)\n",
       "    >>> input = torch.randn(20, 100, 35, 45)\n",
       "    >>> output = m(input)\n",
       "\u001b[1;31mInit docstring:\u001b[0m Initializes internal Module state, shared by both nn.Module and ScriptModule.\n",
       "\u001b[1;31mFile:\u001b[0m           c:\\users\\nick\\anaconda3\\envs\\fastai\\lib\\site-packages\\torch\\nn\\modules\\batchnorm.py\n",
       "\u001b[1;31mType:\u001b[0m           type\n",
       "\u001b[1;31mSubclasses:\u001b[0m     BatchNormAct2d, SplitBatchNorm2d\n"
      ]
     },
     "metadata": {},
     "output_type": "display_data"
    }
   ],
   "source": [
    "from torch.nn import BatchNorm2d\n",
    "\n",
    "BatchNorm2d?"
   ]
  },
  {
   "cell_type": "markdown",
   "id": "5b99a37f-01d6-4c2e-aa7c-d9c232e33670",
   "metadata": {},
   "source": [
    "Ok deadset I'm not sure what a lot, if not all of this means, but there's a nice link to the paper that proposed this submodule. Maybe I'll revisit this later or what I'm guessing is that we will discuss batch normalisation as part of the course. Nonetheless, credit due to the pytorch team for awesome docs and references. I'm certainly feeling comfortable picking apart a model and submodules to then research or understand the peices. And to Jeremy's point, it looks like each module is just tensors which I'm assuming get matrix multiplied.\n",
    "\n",
    "Lets have a look at another one"
   ]
  },
  {
   "cell_type": "code",
   "execution_count": 5,
   "id": "85871cda-3f6d-4bf6-86c6-0fff6f7c0b43",
   "metadata": {},
   "outputs": [
    {
     "data": {
      "text/plain": [
       "[Parameter containing:\n",
       " tensor([[[[ 4.0545e-02,  4.8013e-02, -7.9456e-02],\n",
       "           [-5.8342e-02,  1.8714e-02,  2.5578e-02],\n",
       "           [-1.5636e-01, -8.9058e-02,  4.3196e-03]],\n",
       " \n",
       "          [[-5.7252e-02,  4.2811e-02, -3.8337e-02],\n",
       "           [-1.5927e-02, -2.0729e-02, -3.4939e-02],\n",
       "           [ 2.8172e-02, -2.9295e-02,  1.0223e-01]],\n",
       " \n",
       "          [[ 1.1034e-01,  1.0192e-01,  2.2622e-02],\n",
       "           [-5.7816e-02,  7.5169e-03, -1.2539e-02],\n",
       "           [ 5.4043e-02,  5.3313e-02, -5.1092e-02]],\n",
       " \n",
       "          ...,\n",
       " \n",
       "          [[ 1.4856e-01, -3.9668e-02,  1.1007e-01],\n",
       "           [ 6.2836e-02, -7.5064e-02,  1.3311e-02],\n",
       "           [ 3.8345e-02,  4.9784e-02, -5.2364e-03]],\n",
       " \n",
       "          [[ 1.0018e-01, -3.8737e-02, -6.8930e-02],\n",
       "           [ 2.6070e-02,  9.0727e-02, -2.9921e-03],\n",
       "           [ 5.0226e-02, -9.6558e-02,  1.5128e-02]],\n",
       " \n",
       "          [[-8.9405e-03, -2.8120e-02, -8.0413e-02],\n",
       "           [-5.9768e-02, -3.7978e-02,  6.5733e-02],\n",
       "           [ 1.0449e-02,  7.8835e-02,  4.7149e-02]]],\n",
       " \n",
       " \n",
       "         [[[-4.4321e-03, -8.2393e-02,  2.0117e-02],\n",
       "           [ 6.8211e-02, -6.3706e-02,  5.5271e-05],\n",
       "           [-1.6332e-02,  7.8045e-02,  7.2538e-02]],\n",
       " \n",
       "          [[-2.0353e-02, -3.0690e-02, -9.6841e-02],\n",
       "           [-7.0332e-02, -5.4623e-02,  1.4775e-03],\n",
       "           [ 8.9720e-03,  6.0852e-02,  2.2215e-02]],\n",
       " \n",
       "          [[-9.3681e-03,  4.7427e-02,  4.7166e-02],\n",
       "           [-4.7328e-02, -8.1802e-02, -1.8770e-02],\n",
       "           [-8.4886e-03, -2.1703e-02, -1.7544e-02]],\n",
       " \n",
       "          ...,\n",
       " \n",
       "          [[ 7.3498e-03, -1.0961e-01,  4.9396e-02],\n",
       "           [ 1.0385e-02, -4.0432e-02,  2.2346e-02],\n",
       "           [-8.4832e-03, -7.4528e-02,  1.1808e-01]],\n",
       " \n",
       "          [[ 6.6114e-02, -6.0202e-02, -8.2299e-02],\n",
       "           [ 8.6579e-02,  4.4715e-02, -3.6353e-02],\n",
       "           [-5.3573e-02,  1.1330e-02, -1.6537e-02]],\n",
       " \n",
       "          [[ 9.2404e-02, -1.1146e-01, -8.2289e-02],\n",
       "           [ 5.1821e-02,  5.8081e-02, -2.2248e-02],\n",
       "           [-9.1673e-02,  6.5184e-02,  5.0797e-02]]],\n",
       " \n",
       " \n",
       "         [[[ 2.0085e-01, -3.3283e-02, -4.5870e-02],\n",
       "           [ 3.0779e-02, -3.7028e-02, -3.5043e-02],\n",
       "           [ 6.2438e-02, -8.0243e-02,  1.8016e-02]],\n",
       " \n",
       "          [[ 4.9721e-02, -3.9195e-02,  4.4168e-02],\n",
       "           [ 4.0096e-02,  1.3590e-01, -9.6968e-03],\n",
       "           [ 3.5377e-02, -1.3536e-02, -9.4725e-02]],\n",
       " \n",
       "          [[-4.7159e-02, -1.7129e-02, -4.2712e-02],\n",
       "           [ 6.7179e-02,  5.9113e-02,  8.4410e-02],\n",
       "           [ 1.6891e-02, -6.4920e-03,  9.7325e-03]],\n",
       " \n",
       "          ...,\n",
       " \n",
       "          [[-6.4048e-03,  1.2853e-01,  7.2101e-03],\n",
       "           [ 2.2132e-02,  1.8582e-02,  2.0409e-02],\n",
       "           [ 8.9091e-03, -1.1028e-01, -6.3595e-02]],\n",
       " \n",
       "          [[-1.6427e-02, -2.8668e-02,  1.0533e-01],\n",
       "           [ 3.6699e-02,  1.2667e-01, -2.6162e-02],\n",
       "           [-6.5731e-05,  1.1684e-01, -6.3106e-02]],\n",
       " \n",
       "          [[ 6.3589e-03, -1.0044e-01,  4.9967e-02],\n",
       "           [ 1.8815e-02,  2.0268e-02,  1.4273e-02],\n",
       "           [ 2.9058e-02,  1.0622e-01,  9.0223e-02]]],\n",
       " \n",
       " \n",
       "         ...,\n",
       " \n",
       " \n",
       "         [[[-4.9857e-02,  7.3426e-02,  1.8884e-02],\n",
       "           [-2.9556e-02,  6.4424e-03,  2.5893e-03],\n",
       "           [-3.1294e-02,  1.0135e-01, -7.7145e-02]],\n",
       " \n",
       "          [[ 7.8502e-02,  7.5208e-02,  1.5870e-02],\n",
       "           [ 5.6624e-02,  4.3683e-02, -6.1482e-02],\n",
       "           [-1.5818e-03, -5.1871e-02, -1.0536e-01]],\n",
       " \n",
       "          [[-4.5957e-02, -9.0059e-02,  7.6506e-03],\n",
       "           [ 1.9627e-01, -7.2787e-02,  1.0707e-01],\n",
       "           [-2.2790e-03,  2.5170e-03, -5.0499e-02]],\n",
       " \n",
       "          ...,\n",
       " \n",
       "          [[ 7.9277e-02,  1.3107e-01,  1.7063e-03],\n",
       "           [ 9.9515e-02, -8.2795e-03,  4.2482e-03],\n",
       "           [ 7.6103e-02,  2.5939e-02, -5.6085e-02]],\n",
       " \n",
       "          [[ 8.4607e-02, -6.5810e-02, -2.2305e-02],\n",
       "           [ 2.8944e-03, -5.1938e-02, -1.2285e-02],\n",
       "           [ 1.4037e-02, -3.2465e-02,  3.4159e-02]],\n",
       " \n",
       "          [[ 1.6726e-02, -1.0470e-02,  1.4097e-03],\n",
       "           [ 1.3877e-01, -4.8212e-02,  7.1036e-02],\n",
       "           [-2.8744e-02,  3.4053e-02, -1.1528e-01]]],\n",
       " \n",
       " \n",
       "         [[[-1.1736e-01, -1.5601e-02, -9.4499e-03],\n",
       "           [ 9.6906e-03, -7.9819e-02, -9.8921e-03],\n",
       "           [ 5.2306e-02,  7.2182e-02, -1.3879e-02]],\n",
       " \n",
       "          [[ 7.4319e-02,  1.3088e-02,  4.7666e-02],\n",
       "           [-5.0485e-02,  7.9203e-03,  9.8638e-02],\n",
       "           [ 1.3006e-01,  2.1705e-02, -7.4161e-03]],\n",
       " \n",
       "          [[ 5.6824e-02,  5.5307e-02,  2.9736e-02],\n",
       "           [ 5.9469e-02,  2.5213e-02,  5.5096e-02],\n",
       "           [-5.3220e-02, -5.4940e-02, -7.2951e-02]],\n",
       " \n",
       "          ...,\n",
       " \n",
       "          [[ 7.0822e-02,  8.9223e-02, -3.1658e-03],\n",
       "           [ 3.7780e-02, -1.7937e-03,  3.0803e-02],\n",
       "           [-5.6712e-02,  3.3439e-02, -3.9819e-02]],\n",
       " \n",
       "          [[-2.5973e-02,  4.4689e-02, -2.2547e-02],\n",
       "           [-4.7674e-02, -2.0789e-03, -2.9354e-02],\n",
       "           [-1.1538e-01,  1.0737e-01, -3.8701e-02]],\n",
       " \n",
       "          [[ 8.2467e-02, -1.1948e-01,  2.9443e-02],\n",
       "           [-3.6383e-02, -4.6350e-02, -5.8513e-02],\n",
       "           [ 1.5070e-02, -1.4748e-02, -1.4861e-01]]],\n",
       " \n",
       " \n",
       "         [[[ 1.5794e-02,  8.2526e-02, -4.7642e-02],\n",
       "           [ 2.4351e-02, -1.1239e-01, -8.7870e-03],\n",
       "           [ 2.5681e-02,  4.0216e-02,  5.0281e-02]],\n",
       " \n",
       "          [[ 1.4689e-01, -2.7782e-02,  8.8953e-03],\n",
       "           [-1.7686e-02,  5.5262e-02, -1.1169e-01],\n",
       "           [-1.2248e-02, -6.0883e-02, -7.5069e-02]],\n",
       " \n",
       "          [[-1.0534e-02, -3.2336e-02,  6.7888e-02],\n",
       "           [ 3.1900e-03, -6.1641e-02, -1.3960e-02],\n",
       "           [-5.1132e-03,  2.8471e-02, -9.4250e-02]],\n",
       " \n",
       "          ...,\n",
       " \n",
       "          [[ 1.3769e-04, -1.0978e-01,  3.7880e-02],\n",
       "           [-4.7390e-02, -1.0775e-01,  6.3926e-03],\n",
       "           [ 1.7641e-02, -3.1594e-02,  1.3428e-02]],\n",
       " \n",
       "          [[ 9.5334e-02, -3.5594e-03, -1.4706e-01],\n",
       "           [-5.3665e-02, -1.0943e-02,  9.4504e-02],\n",
       "           [-3.3805e-02, -3.3245e-02,  5.7132e-02]],\n",
       " \n",
       "          [[-1.0751e-01,  7.4052e-02,  1.3302e-01],\n",
       "           [ 4.1794e-02,  1.0146e-01,  7.2531e-03],\n",
       "           [-4.9277e-02, -6.8838e-02,  2.1069e-02]]]], requires_grad=True)]"
      ]
     },
     "execution_count": 5,
     "metadata": {},
     "output_type": "execute_result"
    }
   ],
   "source": [
    "layer = resnet18.get_submodule(\"layer1.0.conv2\")\n",
    "list(layer.parameters())"
   ]
  },
  {
   "cell_type": "markdown",
   "id": "227b2cde-105a-49b5-9ed2-f4a58f4d7ecb",
   "metadata": {},
   "source": [
    "Ok lets stop that, this thing is big. But nonetheless its interesting to see the different shapes and values, the batch norm module had zeroes and ones, this one seems to have all sorts of values and the shape is very different.\n",
    "\n",
    "As Jeremy mentions, apparently these numbers can figure out if a dog is a basset hound or not, or in our previous example, a great white shark or a hammerhead. However this isn't clear at this time. Again as Jeremy mentions, machine learning is the act of fitting a function to data, lets investigate this further.\n",
    "\n",
    "### How Do We Fit a Function to Data\n",
    "\n",
    "Lets first build a general quadratic equation and plot it. I don't actually have an intuitive feeling for what makes this a 'quadratic' but again in the spirit of 80% do and 20% study, I'm going to soldier on to see the 'ball game' played out and circle back later to solidfy my theory as part of the 20% reading principle outlined in Radek's Metalearning book which I love. Note to Radek, I'm trusting you that this is a good plan, its working so far but as a product of school doing the opposite, I feel very conflicted moving on without actually 'knowing'.\n"
   ]
  },
  {
   "cell_type": "code",
   "execution_count": 6,
   "id": "ee1d47de-4628-462b-bbed-c9dcbfd54c8b",
   "metadata": {},
   "outputs": [
    {
     "data": {
      "image/png": "[encoded data removed]",
      "text/plain": [
       "<Figure size 600x400 with 1 Axes>"
      ]
     },
     "metadata": {},
     "output_type": "display_data"
    }
   ],
   "source": [
    "from fastbook import plot_function\n",
    "\n",
    "def f(x): return 3*x**2 + 2*x + 1\n",
    "\n",
    "plot_function(f, title=\"$3x^2 + 2x + 1$\")"
   ]
  },
  {
   "cell_type": "markdown",
   "id": "aca64f01-50d4-4e99-8655-bd51df571d2d",
   "metadata": {},
   "source": [
    "This f(x) function is nice to plot that particular function but it'd be nice to be able to play with the parameters, so lets define a quad() function where we can pass in what we like.\n",
    "\n",
    "Also functionally these two definitions of a function are the same that I've written below, its just a nice python syntax to be able to write it on one line but its not very common in the general python universe."
   ]
  },
  {
   "cell_type": "code",
   "execution_count": 7,
   "id": "0f12167b-a880-40ef-9d6d-b476247f66f0",
   "metadata": {},
   "outputs": [],
   "source": [
    "def quad(a,b,c,x): return a*x**2 + b*x + c\n",
    "\n",
    "def quad(a,b,c,x):\n",
    "    return a*x**2 + b*x + c"
   ]
  },
  {
   "cell_type": "code",
   "execution_count": 8,
   "id": "304e8083-e4e0-4df9-8db8-5162771c8acb",
   "metadata": {},
   "outputs": [
    {
     "data": {
      "text/plain": [
       "10.75"
      ]
     },
     "execution_count": 8,
     "metadata": {},
     "output_type": "execute_result"
    }
   ],
   "source": [
    "quad(3,2,1,1.5)"
   ]
  },
  {
   "cell_type": "markdown",
   "id": "10378769-8587-48cd-af48-635bb0831ac4",
   "metadata": {},
   "source": [
    "Lets introduce as Jeremy does partial functions, he describes it as something along the lines of 'fixing' part of a function. I've thought of it as making a modified function from another function but his description is simpler."
   ]
  },
  {
   "cell_type": "markdown",
   "id": "8cb09cc2-b144-4fdd-a877-b1f3a64b8158",
   "metadata": {},
   "source": [
    "### Partial Functions"
   ]
  },
  {
   "cell_type": "code",
   "execution_count": 9,
   "id": "da4fa2f2-8576-4faa-b96f-1565901deb01",
   "metadata": {},
   "outputs": [
    {
     "data": {
      "text/plain": [
       "10.75"
      ]
     },
     "execution_count": 9,
     "metadata": {},
     "output_type": "execute_result"
    }
   ],
   "source": [
    "from functools import partial\n",
    "\n",
    "def mk_quad(a,b,c): return partial(quad,a,b,c)\n",
    "f = mk_quad(3,2,1)\n",
    "f(1.5)"
   ]
  },
  {
   "cell_type": "code",
   "execution_count": 10,
   "id": "6c4586dd-895b-4179-813e-33e54f676775",
   "metadata": {},
   "outputs": [
    {
     "data": {
      "text/html": [
       "<hr/>\n",
       "<h3>partial</h3>\n",
       "<blockquote><pre><code>partial</code></pre></blockquote><p>partial(func, *args, **keywords) - new function with partial application\n",
       "of the given arguments and keywords.</p>"
      ],
      "text/plain": [
       "<IPython.core.display.HTML object>"
      ]
     },
     "metadata": {},
     "output_type": "display_data"
    }
   ],
   "source": [
    "from fastai.torch_core import doc\n",
    "\n",
    "doc(partial)"
   ]
  },
  {
   "cell_type": "markdown",
   "id": "088eef81-ee4c-400a-ad69-296fa299c36b",
   "metadata": {},
   "source": [
    "The [python docs themselves are quite useful](https://docs.python.org/3/library/functools.html#functools.partial) at describing partials. For example, \"Return a new partial object which when called will behave like *func* called with the positional and keyword arguments.\"\n",
    "\n",
    "\"The partial() is used for *partial function application* which \"freezes\" some portion of a function's arguements and keywords, resulting in a new object with a simplified signature.\"\n",
    "\n",
    "Looks like Jeremy is more accurate, closer to the original python docs & its probably a better analogy of partial objects. My understanding is improved and I'll stop saying function from another function and start espousing something similar to the docs & Jeremy."
   ]
  },
  {
   "cell_type": "code",
   "execution_count": 11,
   "id": "9c7ff2df-88b4-4b9a-bb84-c4d8aed67ea8",
   "metadata": {},
   "outputs": [
    {
     "data": {
      "image/png": "[encoded data removed]",
      "text/plain": [
       "<Figure size 600x400 with 1 Axes>"
      ]
     },
     "metadata": {},
     "output_type": "display_data"
    }
   ],
   "source": [
    "plot_function(f)"
   ]
  },
  {
   "cell_type": "markdown",
   "id": "1a27df66-1a87-447a-a7f7-31975d19a280",
   "metadata": {},
   "source": [
    "### Adding Noise to Our Perfect Functions"
   ]
  },
  {
   "cell_type": "markdown",
   "id": "2999cf96-7a19-4a83-81e0-06f0946fc5cb",
   "metadata": {},
   "source": [
    "Lets now make some 'real' looking data,  we can add some noise to this function to more closely represent what data we're more likely to spot out in the hypothetical real world where the generator function of our data is perfect like this but we also live in the same world with innacurate measuring devices.\n",
    "\n",
    "### Nassim Taleb is an Awesome Writer\n",
    "\n",
    "Side note, the book \"Fooled by Randomness\" and \"Black Swan\" by Nassim Taleb are genuinely inspiring works that made me think and behave about and in the world differently. In particular Nassim introduces the concept of these 'invisible' generators that create the randomness in our world, the main problem is that we only ever observe a sample from these generators. Despite 'long' time frames relative to our lives, ie having data over 20 years, that simply might be an insufficient sample from the 'generator' to make any worthwhile inference of what the actual likelihood of your observations actually are. Irrelevant to the python we're writing right now but when imaginging this hypothetical world where we observe this perfect function but only see a noisy version, I thought I'd share some of my favourite books."
   ]
  },
  {
   "cell_type": "code",
   "execution_count": 12,
   "id": "957bed43-7456-4ab9-9a74-1acf97a4694d",
   "metadata": {},
   "outputs": [],
   "source": [
    "from numpy.random import normal, seed, uniform\n",
    "import numpy as np\n",
    "\n",
    "np.random.seed(42)\n",
    "\n",
    "def noise(x, scale): return normal(scale=scale, size=x.shape)\n",
    "def add_noise(x, mult, add): return x * (1+noise(x, mult)) + noise(x,add)"
   ]
  },
  {
   "cell_type": "markdown",
   "id": "80c19947-54a0-4116-b027-8e7eeabf9665",
   "metadata": {},
   "source": [
    "Lets investigate each of the variables that Jeremy instantiates in the next few lines. I want to understand what each method is doing"
   ]
  },
  {
   "cell_type": "code",
   "execution_count": 13,
   "id": "879dbf3d-8ad6-478b-8065-c7794fe96fc5",
   "metadata": {},
   "outputs": [
    {
     "name": "stderr",
     "output_type": "stream",
     "text": [
      "C:\\Users\\Nick\\Anaconda3\\envs\\fastai\\lib\\site-packages\\fastcore\\docscrape.py:225: UserWarning: Unknown section See Also\n",
      "  else: warn(msg)\n",
      "C:\\Users\\Nick\\Anaconda3\\envs\\fastai\\lib\\site-packages\\fastcore\\docscrape.py:225: UserWarning: Unknown section Notes\n",
      "  else: warn(msg)\n",
      "C:\\Users\\Nick\\Anaconda3\\envs\\fastai\\lib\\site-packages\\fastcore\\docscrape.py:225: UserWarning: Unknown section References\n",
      "  else: warn(msg)\n",
      "C:\\Users\\Nick\\Anaconda3\\envs\\fastai\\lib\\site-packages\\fastcore\\docscrape.py:225: UserWarning: Unknown section Examples\n",
      "  else: warn(msg)\n"
     ]
    },
    {
     "data": {
      "text/html": [
       "<hr/>\n",
       "<h3>RandomState.normal</h3>\n",
       "<blockquote><pre><code>RandomState.normal</code></pre></blockquote><p>Draw random samples from a normal (Gaussian) distribution.\n",
       "\n",
       "The probability density function of the normal distribution, first\n",
       "derived by De Moivre and 200 years later by both Gauss and Laplace\n",
       "independently [2]_, is often called the bell curve because of\n",
       "its characteristic shape (see the example below).\n",
       "\n",
       "The normal distributions occurs often in nature.  For example, it\n",
       "describes the commonly occurring distribution of samples influenced\n",
       "by a large number of tiny, random disturbances, each with its own\n",
       "unique distribution [2]_.\n",
       "\n",
       ".. note::\n",
       "    New code should use the ``normal`` method of a ``default_rng()``\n",
       "    instance instead; please see the :ref:`random-quick-start`.</p>"
      ],
      "text/plain": [
       "<IPython.core.display.HTML object>"
      ]
     },
     "metadata": {},
     "output_type": "display_data"
    }
   ],
   "source": [
    "doc(normal)"
   ]
  },
  {
   "cell_type": "markdown",
   "id": "1f38c25f-2a90-4a6d-8abf-287b57b9e338",
   "metadata": {},
   "source": [
    "Ok so the normal function will draw random samples from a normal distribution, we have a scale and size variable which set the standard deviation and number of outputs we'd like"
   ]
  },
  {
   "cell_type": "code",
   "execution_count": 14,
   "id": "a6737fe6-85bc-49a7-8016-f2473bd00e06",
   "metadata": {},
   "outputs": [
    {
     "data": {
      "text/plain": [
       "array([ 0.14901425, -0.04147929,  0.19430656,  0.45690896, -0.07024601, -0.07024109,  0.47376384,  0.23023042, -0.14084232,  0.16276801])"
      ]
     },
     "execution_count": 14,
     "metadata": {},
     "output_type": "execute_result"
    }
   ],
   "source": [
    "# We can see 10 samples which are taken from a normal distribution with a standard deviation of 0.3\n",
    "\n",
    "normal(scale=.3,size=10)"
   ]
  },
  {
   "cell_type": "code",
   "execution_count": 15,
   "id": "c841d1b5-bb2f-4588-a314-05a45fa56f7e",
   "metadata": {},
   "outputs": [
    {
     "data": {
      "text/plain": [
       "\u001b[1;31mDocstring:\u001b[0m\n",
       "linspace(start, end, steps, *, out=None, dtype=None, layout=torch.strided, device=None, requires_grad=False) -> Tensor\n",
       "\n",
       "Creates a one-dimensional tensor of size :attr:`steps` whose values are evenly\n",
       "spaced from :attr:`start` to :attr:`end`, inclusive. That is, the value are:\n",
       "\n",
       ".. math::\n",
       "    (\\text{start},\n",
       "    \\text{start} + \\frac{\\text{end} - \\text{start}}{\\text{steps} - 1},\n",
       "    \\ldots,\n",
       "    \\text{start} + (\\text{steps} - 2) * \\frac{\\text{end} - \\text{start}}{\\text{steps} - 1},\n",
       "    \\text{end})\n",
       "\n",
       "\n",
       "From PyTorch 1.11 linspace requires the steps argument. Use steps=100 to restore the previous behavior.\n",
       "\n",
       "Args:\n",
       "    start (float): the starting value for the set of points\n",
       "    end (float): the ending value for the set of points\n",
       "    steps (int): size of the constructed tensor\n",
       "\n",
       "Keyword arguments:\n",
       "    out (Tensor, optional): the output tensor.\n",
       "    dtype (torch.dtype, optional): the data type to perform the computation in.\n",
       "        Default: if None, uses the global default dtype (see torch.get_default_dtype())\n",
       "        when both :attr:`start` and :attr:`end` are real,\n",
       "        and corresponding complex dtype when either is complex.\n",
       "    layout (:class:`torch.layout`, optional): the desired layout of returned Tensor.\n",
       "        Default: ``torch.strided``.\n",
       "    device (:class:`torch.device`, optional): the desired device of returned tensor.\n",
       "        Default: if ``None``, uses the current device for the default tensor type\n",
       "        (see :func:`torch.set_default_tensor_type`). :attr:`device` will be the CPU\n",
       "        for CPU tensor types and the current CUDA device for CUDA tensor types.\n",
       "    requires_grad (bool, optional): If autograd should record operations on the\n",
       "        returned tensor. Default: ``False``.\n",
       "\n",
       "\n",
       "Example::\n",
       "\n",
       "    >>> torch.linspace(3, 10, steps=5)\n",
       "    tensor([  3.0000,   4.7500,   6.5000,   8.2500,  10.0000])\n",
       "    >>> torch.linspace(-10, 10, steps=5)\n",
       "    tensor([-10.,  -5.,   0.,   5.,  10.])\n",
       "    >>> torch.linspace(start=-10, end=10, steps=5)\n",
       "    tensor([-10.,  -5.,   0.,   5.,  10.])\n",
       "    >>> torch.linspace(start=-10, end=10, steps=1)\n",
       "    tensor([-10.])\n",
       "\u001b[1;31mType:\u001b[0m      builtin_function_or_method\n"
      ]
     },
     "metadata": {},
     "output_type": "display_data"
    }
   ],
   "source": [
    "import torch\n",
    "\n",
    "torch.linspace?"
   ]
  },
  {
   "cell_type": "markdown",
   "id": "ad98fbce-b654-4b36-96aa-86b106bbd012",
   "metadata": {},
   "source": [
    "torch.linspace looks like a really nice way to build a tensor that I think is 'linearly' spaced out based on the start,stop, and steps variables you provide. So below we start from -2, go all the way to 2, and add 20 steps"
   ]
  },
  {
   "cell_type": "code",
   "execution_count": 16,
   "id": "fee1a5d8-80c5-4368-81f1-45a268826ee7",
   "metadata": {},
   "outputs": [
    {
     "data": {
      "text/plain": [
       "(tensor([-2.0000, -1.7895, -1.5789, -1.3684, -1.1579, -0.9474, -0.7368, -0.5263, -0.3158, -0.1053,  0.1053,  0.3158,  0.5263,  0.7368,  0.9474,  1.1579,  1.3684,  1.5789,  1.7895,  2.0000]),\n",
       " torch.Size([20]))"
      ]
     },
     "execution_count": 16,
     "metadata": {},
     "output_type": "execute_result"
    }
   ],
   "source": [
    "test = torch.linspace(-2,2,steps=20)\n",
    "test, test.shape"
   ]
  },
  {
   "cell_type": "markdown",
   "id": "edd7b6eb-d456-4499-8071-cdcb405fe19d",
   "metadata": {},
   "source": [
    "Jeremy also runs a '[:,None]' indexation on this linspace which seems like a cool trick to do something but I'm not quite sure what. It look like he wants all of the columns, hence the ';' semi-colon which gives you all but I'm not sure what the None command does."
   ]
  },
  {
   "cell_type": "code",
   "execution_count": 17,
   "id": "f9416c41-5b29-4f84-a364-ab2733f32cd5",
   "metadata": {},
   "outputs": [
    {
     "data": {
      "text/plain": [
       "(tensor([[-2.0000],\n",
       "         [-1.7895],\n",
       "         [-1.5789],\n",
       "         [-1.3684],\n",
       "         [-1.1579],\n",
       "         [-0.9474],\n",
       "         [-0.7368],\n",
       "         [-0.5263],\n",
       "         [-0.3158],\n",
       "         [-0.1053],\n",
       "         [ 0.1053],\n",
       "         [ 0.3158],\n",
       "         [ 0.5263],\n",
       "         [ 0.7368],\n",
       "         [ 0.9474],\n",
       "         [ 1.1579],\n",
       "         [ 1.3684],\n",
       "         [ 1.5789],\n",
       "         [ 1.7895],\n",
       "         [ 2.0000]]),\n",
       " torch.Size([20]))"
      ]
     },
     "execution_count": 17,
     "metadata": {},
     "output_type": "execute_result"
    }
   ],
   "source": [
    "test[:,None], test.shape"
   ]
  },
  {
   "cell_type": "markdown",
   "id": "e7dcde7b-ab72-4184-a777-594b9704dfdf",
   "metadata": {},
   "source": [
    "Ok so it looks like it transposes the tensor from being a single row with many columns to being one column with many rows. I think my language of 'rows' and 'columns' is incorrect, this is simply a data table / dataframe way of thinking and tensors are fundamentally different so I need to figure out better language but I'm hoping we're at a simple enough state where this makes sense."
   ]
  },
  {
   "cell_type": "code",
   "execution_count": 18,
   "id": "c82750fc-2ebe-4f3e-9fbd-356f52141623",
   "metadata": {},
   "outputs": [
    {
     "data": {
      "text/plain": [
       "(tensor([ 6.8462,  8.8242,  5.6874,  0.0668,  2.5397, -0.3367,  1.1174, -2.0877, -1.5065,  0.7694,  2.8983,  2.0570,  2.7686,  1.8973,  2.4570,  6.5024,  5.4335, 14.5344, 12.1449, 12.8678],\n",
       "        dtype=torch.float64),\n",
       " tensor([[10.4171],\n",
       "         [ 8.5229],\n",
       "         [ 4.1870],\n",
       "         [ 6.9400],\n",
       "         [-0.3862],\n",
       "         [ 3.5329],\n",
       "         [ 0.9949],\n",
       "         [ 0.2577],\n",
       "         [ 0.8716],\n",
       "         [-1.9179],\n",
       "         [ 0.7355],\n",
       "         [ 2.3589],\n",
       "         [ 4.1434],\n",
       "         [ 1.8529],\n",
       "         [ 5.7365],\n",
       "         [ 9.5709],\n",
       "         [10.5256],\n",
       "         [15.6337],\n",
       "         [14.9300],\n",
       "         [14.4798]], dtype=torch.float64))"
      ]
     },
     "execution_count": 18,
     "metadata": {},
     "output_type": "execute_result"
    }
   ],
   "source": [
    "add_noise(f(test),.3,1.5),add_noise(f(test)[:,None],.3,1.5)"
   ]
  },
  {
   "cell_type": "markdown",
   "id": "5647da02-90ec-4a06-a679-a78cbd65542e",
   "metadata": {},
   "source": [
    "Ok so it looks like the same kind of data but transposed as we saw before"
   ]
  },
  {
   "cell_type": "code",
   "execution_count": 19,
   "id": "f1275794-c1d9-40b8-bb06-98b817310bc0",
   "metadata": {},
   "outputs": [
    {
     "data": {
      "text/plain": [
       "<matplotlib.collections.PathCollection at 0x2b320222b60>"
      ]
     },
     "execution_count": 19,
     "metadata": {},
     "output_type": "execute_result"
    },
    {
     "data": {
      "image/png": "[encoded data removed]",
      "text/plain": [
       "<Figure size 640x480 with 1 Axes>"
      ]
     },
     "metadata": {},
     "output_type": "display_data"
    }
   ],
   "source": [
    "from matplotlib import pyplot as plt\n",
    "\n",
    "x = torch.linspace(-2, 2, steps=20)[:,None]\n",
    "y = add_noise(f(x), 0.3, 1.5)\n",
    "plt.scatter(x,y)"
   ]
  },
  {
   "cell_type": "markdown",
   "id": "67343d4c-1a6a-4d84-a85f-4d904f638a00",
   "metadata": {},
   "source": [
    "Lets try it without the transposing"
   ]
  },
  {
   "cell_type": "code",
   "execution_count": 20,
   "id": "3a691cfc-550d-4a80-bb76-ef51c294aeba",
   "metadata": {},
   "outputs": [
    {
     "data": {
      "text/plain": [
       "<matplotlib.collections.PathCollection at 0x2b320286350>"
      ]
     },
     "execution_count": 20,
     "metadata": {},
     "output_type": "execute_result"
    },
    {
     "data": {
      "image/png": "[encoded data removed]",
      "text/plain": [
       "<Figure size 640x480 with 1 Axes>"
      ]
     },
     "metadata": {},
     "output_type": "display_data"
    }
   ],
   "source": [
    "x = torch.linspace(-2,2,steps=20)\n",
    "y = add_noise(f(x),0.3,1.5)\n",
    "plt.scatter(x,y)"
   ]
  },
  {
   "cell_type": "markdown",
   "id": "bc11e541-7aca-448c-8a22-e7a043186836",
   "metadata": {},
   "source": [
    "Ok looks the same, Jeremy not sure why we did this transposing of a 1d tensor but its certainly a neat trick. Lets move on and start playing with some parameters and Ipython interactivity"
   ]
  },
  {
   "cell_type": "code",
   "execution_count": 21,
   "id": "ba29f217-8e25-4cf2-a731-8dbdfb33ac87",
   "metadata": {},
   "outputs": [
    {
     "data": {
      "application/vnd.jupyter.widget-view+json": {
       "model_id": "931efbe7dfe046aebc18a353e08f3e74",
       "version_major": 2,
       "version_minor": 0
      },
      "text/plain": [
       "interactive(children=(FloatSlider(value=1.5, description='a', max=4.5, min=-1.5), FloatSlider(value=1.5, descr…"
      ]
     },
     "metadata": {},
     "output_type": "display_data"
    }
   ],
   "source": [
    "from ipywidgets import interact\n",
    "\n",
    "@interact(a=1.5, b=1.5, c=1.5)\n",
    "def plot_quad(a,b,c):\n",
    "    plot_function(mk_quad(a,b,c))\n",
    "    plt.scatter(x,y)\n",
    "    "
   ]
  },
  {
   "cell_type": "markdown",
   "id": "1b9f5112-4221-469c-a269-3f750d321503",
   "metadata": {},
   "source": [
    "Now if you're reading on quarto, I recognise that you won't be able to play with the plot I've written above so I've re-written a plot function command with Altair so that you can play around with it on the blog."
   ]
  },
  {
   "cell_type": "code",
   "execution_count": 22,
   "id": "e4932ca1-6c65-4903-acd9-4ff16c198452",
   "metadata": {},
   "outputs": [
    {
     "data": {
      "text/html": [
       "\n",
       "<div id=\"altair-viz-5ef312cce92c44f2b5d1f4f3c8f1f8e8\"></div>\n",
       "<script type=\"text/javascript\">\n",
       "  var VEGA_DEBUG = (typeof VEGA_DEBUG == \"undefined\") ? {} : VEGA_DEBUG;\n",
       "  (function(spec, embedOpt){\n",
       "    let outputDiv = document.currentScript.previousElementSibling;\n",
       "    if (outputDiv.id !== \"altair-viz-5ef312cce92c44f2b5d1f4f3c8f1f8e8\") {\n",
       "      outputDiv = document.getElementById(\"altair-viz-5ef312cce92c44f2b5d1f4f3c8f1f8e8\");\n",
       "    }\n",
       "    const paths = {\n",
       "      \"vega\": \"https://cdn.jsdelivr.net/npm//vega@5?noext\",\n",
       "      \"vega-lib\": \"https://cdn.jsdelivr.net/npm//vega-lib?noext\",\n",
       "      \"vega-lite\": \"https://cdn.jsdelivr.net/npm//vega-lite@4.17.0?noext\",\n",
       "      \"vega-embed\": \"https://cdn.jsdelivr.net/npm//vega-embed@6?noext\",\n",
       "    };\n",
       "\n",
       "    function maybeLoadScript(lib, version) {\n",
       "      var key = `${lib.replace(\"-\", \"\")}_version`;\n",
       "      return (VEGA_DEBUG[key] == version) ?\n",
       "        Promise.resolve(paths[lib]) :\n",
       "        new Promise(function(resolve, reject) {\n",
       "          var s = document.createElement('script');\n",
       "          document.getElementsByTagName(\"head\")[0].appendChild(s);\n",
       "          s.async = true;\n",
       "          s.onload = () => {\n",
       "            VEGA_DEBUG[key] = version;\n",
       "            return resolve(paths[lib]);\n",
       "          };\n",
       "          s.onerror = () => reject(`Error loading script: ${paths[lib]}`);\n",
       "          s.src = paths[lib];\n",
       "        });\n",
       "    }\n",
       "\n",
       "    function showError(err) {\n",
       "      outputDiv.innerHTML = `<div class=\"error\" style=\"color:red;\">${err}</div>`;\n",
       "      throw err;\n",
       "    }\n",
       "\n",
       "    function displayChart(vegaEmbed) {\n",
       "      vegaEmbed(outputDiv, spec, embedOpt)\n",
       "        .catch(err => showError(`Javascript Error: ${err.message}<br>This usually means there's a typo in your chart specification. See the javascript console for the full traceback.`));\n",
       "    }\n",
       "\n",
       "    if(typeof define === \"function\" && define.amd) {\n",
       "      requirejs.config({paths});\n",
       "      require([\"vega-embed\"], displayChart, err => showError(`Error loading script: ${err.message}`));\n",
       "    } else {\n",
       "      maybeLoadScript(\"vega\", \"5\")\n",
       "        .then(() => maybeLoadScript(\"vega-lite\", \"4.17.0\"))\n",
       "        .then(() => maybeLoadScript(\"vega-embed\", \"6\"))\n",
       "        .catch(showError)\n",
       "        .then(() => displayChart(vegaEmbed));\n",
       "    }\n",
       "  })({\"config\": {\"view\": {\"continuousWidth\": 400, \"continuousHeight\": 300}}, \"layer\": [{\"data\": {\"name\": \"data-9ba740e81f0e38a6466420e14ecacb0a\"}, \"mark\": {\"type\": \"line\", \"color\": \"red\"}, \"encoding\": {\"x\": {\"field\": \"x\", \"type\": \"quantitative\"}, \"y\": {\"field\": \"y\", \"type\": \"quantitative\"}}, \"selection\": {\"selector_b\": {\"type\": \"single\", \"fields\": [\"b\"], \"bind\": {\"input\": \"range\", \"max\": 3, \"min\": 0, \"name\": \"B\", \"step\": 0.1}, \"init\": {\"b\": 1.5}}, \"selector_a\": {\"type\": \"single\", \"fields\": [\"a\"], \"bind\": {\"input\": \"range\", \"max\": 3, \"min\": 0, \"name\": \"A\", \"step\": 0.1}, \"init\": {\"a\": 1.5}}}, \"title\": \"$3x^2 + 2x + 1$\", \"transform\": [{\"calculate\": \"((selector_a.a*pow(datum.x,2) + selector_b.b*datum.x)) + datum.c\", \"as\": \"y\"}]}, {\"data\": {\"name\": \"data-8b0a7a6859fccbb2e2b3c9ac1d73731c\"}, \"mark\": \"point\", \"encoding\": {\"x\": {\"field\": \"x\", \"type\": \"quantitative\"}, \"y\": {\"field\": \"y\", \"type\": \"quantitative\"}}}], \"$schema\": \"https://vega.github.io/schema/vega-lite/v4.17.0.json\", \"datasets\": {\"data-9ba740e81f0e38a6466420e14ecacb0a\": [{\"x\": -2.0, \"y\": 1, \"c\": 1}, {\"x\": -1.7894736528396606, \"y\": 1, \"c\": 1}, {\"x\": -1.5789473056793213, \"y\": 1, \"c\": 1}, {\"x\": -1.3684210777282715, \"y\": 1, \"c\": 1}, {\"x\": -1.1578947305679321, \"y\": 1, \"c\": 1}, {\"x\": -0.9473683834075928, \"y\": 1, \"c\": 1}, {\"x\": -0.736842155456543, \"y\": 1, \"c\": 1}, {\"x\": -0.5263158082962036, \"y\": 1, \"c\": 1}, {\"x\": -0.31578946113586426, \"y\": 1, \"c\": 1}, {\"x\": -0.10526314377784729, \"y\": 1, \"c\": 1}, {\"x\": 0.10526317358016968, \"y\": 1, \"c\": 1}, {\"x\": 0.31578946113586426, \"y\": 1, \"c\": 1}, {\"x\": 0.5263158082962036, \"y\": 1, \"c\": 1}, {\"x\": 0.736842155456543, \"y\": 1, \"c\": 1}, {\"x\": 0.9473683834075928, \"y\": 1, \"c\": 1}, {\"x\": 1.1578947305679321, \"y\": 1, \"c\": 1}, {\"x\": 1.3684210777282715, \"y\": 1, \"c\": 1}, {\"x\": 1.5789473056793213, \"y\": 1, \"c\": 1}, {\"x\": 1.7894736528396606, \"y\": 1, \"c\": 1}, {\"x\": 2.0, \"y\": 1, \"c\": 1}], \"data-8b0a7a6859fccbb2e2b3c9ac1d73731c\": [{\"x\": -2.0, \"y\": 2.2628102563488404}, {\"x\": -1.7894736528396606, \"y\": 3.640330008109403}, {\"x\": -1.5789473056793213, \"y\": 2.6374847765681975}, {\"x\": -1.3684210777282715, \"y\": 0.06736725051944159}, {\"x\": -1.1578947305679321, \"y\": 1.6397804866890506}, {\"x\": -0.9473683834075928, \"y\": 1.732778705561033}, {\"x\": -0.736842155456543, \"y\": -0.613878726827518}, {\"x\": -0.5263158082962036, \"y\": 1.1296170630242497}, {\"x\": -0.31578946113586426, \"y\": 0.7095488698000194}, {\"x\": -0.10526314377784729, \"y\": -0.1549658386763959}, {\"x\": 0.10526317358016968, \"y\": 1.9316530397821619}, {\"x\": 0.31578946113586426, \"y\": 2.047026308755711}, {\"x\": 0.5263158082962036, \"y\": 3.1211720398143594}, {\"x\": 0.736842155456543, \"y\": 4.922968539934844}, {\"x\": 0.9473683834075928, \"y\": 1.4482526745147966}, {\"x\": 1.1578947305679321, \"y\": 4.358190546873768}, {\"x\": 1.3684210777282715, \"y\": 7.466213001518206}, {\"x\": 1.5789473056793213, \"y\": 7.723411008311444}, {\"x\": 1.7894736528396606, \"y\": 7.103948777677186}, {\"x\": 2.0, \"y\": 11.234555561924488}]}}, {\"mode\": \"vega-lite\"});\n",
       "</script>"
      ],
      "text/plain": [
       "alt.LayerChart(...)"
      ]
     },
     "execution_count": 22,
     "metadata": {},
     "output_type": "execute_result"
    }
   ],
   "source": [
    "import pandas as pd\n",
    "import altair as alt\n",
    "\n",
    "def plot_altair(a=1.5,b=1.5,c=1.5, title=\"$3x^2 + 2x + 1$\"):\n",
    "    a, b, c = 1.5, 1.5, 1\n",
    "    f = mk_quad(a,b,c)\n",
    "    x = torch.linspace(-2,2,steps=20)\n",
    "    y = add_noise(f(x),0.3,1.5)\n",
    "    data = pd.DataFrame({\"x\":x.numpy(), \"y\":y.numpy()})\n",
    "    scatter = alt.Chart(data).mark_point().encode(\n",
    "        x='x:Q',\n",
    "        y='y:Q'\n",
    "    )\n",
    "\n",
    "    f = mk_quad(a,b,c)\n",
    "\n",
    "    selector_a =  alt.selection_single(name=\"selector_a\", \n",
    "                                    fields=['a'],  \n",
    "                                    bind=alt.binding_range(min=0, max=3, step=0.1, name='A'),\n",
    "                                    init={'a': a,}) \n",
    "    selector_b = alt.selection_single(name=\"selector_b\",\n",
    "                                    fields=['b'], \n",
    "                                    bind=alt.binding_range(min=0, max=3, step=0.1, name='B'),\n",
    "                                    init={'b': b})\n",
    "    # selector_c = alt.selection_single(name=\"selector_c\",\n",
    "    #                                 fields=['c'], \n",
    "    #                                 bind=alt.binding_range(min=0, max=3, step=0.1, name='C'),\n",
    "    #                                 init={'c': c})\n",
    "\n",
    "\n",
    "    line = alt.Chart(pd.DataFrame({\"x\":x.numpy(),\"y\":1,\"c\":c})).mark_line(color=\"red\").encode(\n",
    "        x='x',\n",
    "        y='y',\n",
    "    ).transform_calculate(\n",
    "        y=\"((selector_a.a*pow(datum.x,2) + selector_b.b*datum.x)) + datum.c\").properties(title=title).add_selection(selector_b).add_selection(selector_a)\n",
    "\n",
    "    return (line + scatter)\n",
    "\n",
    "plot_altair()"
   ]
  },
  {
   "cell_type": "markdown",
   "id": "8ec07e6a-b5e0-4bbc-98a9-c34d014eb3c1",
   "metadata": {},
   "source": [
    "Also I know I've not given you the bias term to play with here or \"c\" for you to adjust. For whatever reason altair absolutely throws a fit if I change the \"datum.c\" to \"selector_c.c\" despite them supposedly being the same values. The function line plot goes absolutely haywire and I have not been able to troubleshoot it and playing with \"a\" and \"b\" still hammers home the point of seeing the 'fit' of the line dependent on these values.\n",
    "\n",
    "### Adding a Loss Function\n",
    "As Jeremy mentions, if we think back to Arthur Samuel from the first chapter, we want some automatic way to measure how well we've fit our function to the data, this would be our loss function. A simple and popular metric is Mean Squared Error (MSE) which is calculated by averaging the squared error of all the predictions of your model. Here is a python implementation below."
   ]
  },
  {
   "cell_type": "code",
   "execution_count": 23,
   "id": "fa4d8886-2cec-4d07-94f2-c4f76d64a3c8",
   "metadata": {},
   "outputs": [],
   "source": [
    "# from the lecture\n",
    "\n",
    "def mse(predictions, actuals): return ((predictions-actuals)**2).mean()"
   ]
  },
  {
   "cell_type": "code",
   "execution_count": 24,
   "id": "1d104c76-bfa7-44a1-84c4-7ed897854575",
   "metadata": {},
   "outputs": [
    {
     "data": {
      "application/vnd.jupyter.widget-view+json": {
       "model_id": "818e349f354c4938a043361da623d104",
       "version_major": 2,
       "version_minor": 0
      },
      "text/plain": [
       "interactive(children=(FloatSlider(value=1.5, description='a', max=4.5, min=-1.5), FloatSlider(value=1.5, descr…"
      ]
     },
     "metadata": {},
     "output_type": "display_data"
    }
   ],
   "source": [
    "@interact(a=1.5, b=1.5, c=1.5)\n",
    "def plot_quad(a,b,c):\n",
    "    f = mk_quad(a,b,c)\n",
    "    loss = mse(f(x),y)\n",
    "    plot_function(f, title=f\"Mean Squared Error Loss: {loss}\")\n",
    "    plt.scatter(x,y)\n",
    "    "
   ]
  },
  {
   "cell_type": "markdown",
   "id": "6890032e-491d-4867-8b87-d7c9ff01af3f",
   "metadata": {},
   "source": [
    "Again if you're on quarto, you won't be able to play with the interactive pyplot graph here where you can see the loss change as the parameters are modified. There's also no way to dynamically change labels in Altair to my knowledge from a few stack overflow and github question. I'm going to replot our interactive graph with an example title that matches the pyplot so you can follow along without bringing down my notebook. If you wanted to see the magic values change and really have this sink in, please bring down the notebook or open it in colab & play with the plots ☺."
   ]
  },
  {
   "cell_type": "code",
   "execution_count": 25,
   "id": "69cf60f1-12dd-495d-968a-11f116826737",
   "metadata": {},
   "outputs": [
    {
     "data": {
      "text/html": [
       "\n",
       "<div id=\"altair-viz-426f04128d1043adb452a7db66391e3e\"></div>\n",
       "<script type=\"text/javascript\">\n",
       "  var VEGA_DEBUG = (typeof VEGA_DEBUG == \"undefined\") ? {} : VEGA_DEBUG;\n",
       "  (function(spec, embedOpt){\n",
       "    let outputDiv = document.currentScript.previousElementSibling;\n",
       "    if (outputDiv.id !== \"altair-viz-426f04128d1043adb452a7db66391e3e\") {\n",
       "      outputDiv = document.getElementById(\"altair-viz-426f04128d1043adb452a7db66391e3e\");\n",
       "    }\n",
       "    const paths = {\n",
       "      \"vega\": \"https://cdn.jsdelivr.net/npm//vega@5?noext\",\n",
       "      \"vega-lib\": \"https://cdn.jsdelivr.net/npm//vega-lib?noext\",\n",
       "      \"vega-lite\": \"https://cdn.jsdelivr.net/npm//vega-lite@4.17.0?noext\",\n",
       "      \"vega-embed\": \"https://cdn.jsdelivr.net/npm//vega-embed@6?noext\",\n",
       "    };\n",
       "\n",
       "    function maybeLoadScript(lib, version) {\n",
       "      var key = `${lib.replace(\"-\", \"\")}_version`;\n",
       "      return (VEGA_DEBUG[key] == version) ?\n",
       "        Promise.resolve(paths[lib]) :\n",
       "        new Promise(function(resolve, reject) {\n",
       "          var s = document.createElement('script');\n",
       "          document.getElementsByTagName(\"head\")[0].appendChild(s);\n",
       "          s.async = true;\n",
       "          s.onload = () => {\n",
       "            VEGA_DEBUG[key] = version;\n",
       "            return resolve(paths[lib]);\n",
       "          };\n",
       "          s.onerror = () => reject(`Error loading script: ${paths[lib]}`);\n",
       "          s.src = paths[lib];\n",
       "        });\n",
       "    }\n",
       "\n",
       "    function showError(err) {\n",
       "      outputDiv.innerHTML = `<div class=\"error\" style=\"color:red;\">${err}</div>`;\n",
       "      throw err;\n",
       "    }\n",
       "\n",
       "    function displayChart(vegaEmbed) {\n",
       "      vegaEmbed(outputDiv, spec, embedOpt)\n",
       "        .catch(err => showError(`Javascript Error: ${err.message}<br>This usually means there's a typo in your chart specification. See the javascript console for the full traceback.`));\n",
       "    }\n",
       "\n",
       "    if(typeof define === \"function\" && define.amd) {\n",
       "      requirejs.config({paths});\n",
       "      require([\"vega-embed\"], displayChart, err => showError(`Error loading script: ${err.message}`));\n",
       "    } else {\n",
       "      maybeLoadScript(\"vega\", \"5\")\n",
       "        .then(() => maybeLoadScript(\"vega-lite\", \"4.17.0\"))\n",
       "        .then(() => maybeLoadScript(\"vega-embed\", \"6\"))\n",
       "        .catch(showError)\n",
       "        .then(() => displayChart(vegaEmbed));\n",
       "    }\n",
       "  })({\"config\": {\"view\": {\"continuousWidth\": 400, \"continuousHeight\": 300}}, \"layer\": [{\"data\": {\"name\": \"data-9ba740e81f0e38a6466420e14ecacb0a\"}, \"mark\": {\"type\": \"line\", \"color\": \"red\"}, \"encoding\": {\"x\": {\"field\": \"x\", \"type\": \"quantitative\"}, \"y\": {\"field\": \"y\", \"type\": \"quantitative\"}}, \"selection\": {\"selector_b\": {\"type\": \"single\", \"fields\": [\"b\"], \"bind\": {\"input\": \"range\", \"max\": 3, \"min\": 0, \"name\": \"B\", \"step\": 0.1}, \"init\": {\"b\": 1.5}}, \"selector_a\": {\"type\": \"single\", \"fields\": [\"a\"], \"bind\": {\"input\": \"range\", \"max\": 3, \"min\": 0, \"name\": \"A\", \"step\": 0.1}, \"init\": {\"a\": 1.5}}}, \"title\": \"Mean Squared Error Loss: 3.1498 \", \"transform\": [{\"calculate\": \"((selector_a.a*pow(datum.x,2) + selector_b.b*datum.x)) + datum.c\", \"as\": \"y\"}]}, {\"data\": {\"name\": \"data-9bc7e510697bc16427f125ff59e38bd4\"}, \"mark\": \"point\", \"encoding\": {\"x\": {\"field\": \"x\", \"type\": \"quantitative\"}, \"y\": {\"field\": \"y\", \"type\": \"quantitative\"}}}], \"$schema\": \"https://vega.github.io/schema/vega-lite/v4.17.0.json\", \"datasets\": {\"data-9ba740e81f0e38a6466420e14ecacb0a\": [{\"x\": -2.0, \"y\": 1, \"c\": 1}, {\"x\": -1.7894736528396606, \"y\": 1, \"c\": 1}, {\"x\": -1.5789473056793213, \"y\": 1, \"c\": 1}, {\"x\": -1.3684210777282715, \"y\": 1, \"c\": 1}, {\"x\": -1.1578947305679321, \"y\": 1, \"c\": 1}, {\"x\": -0.9473683834075928, \"y\": 1, \"c\": 1}, {\"x\": -0.736842155456543, \"y\": 1, \"c\": 1}, {\"x\": -0.5263158082962036, \"y\": 1, \"c\": 1}, {\"x\": -0.31578946113586426, \"y\": 1, \"c\": 1}, {\"x\": -0.10526314377784729, \"y\": 1, \"c\": 1}, {\"x\": 0.10526317358016968, \"y\": 1, \"c\": 1}, {\"x\": 0.31578946113586426, \"y\": 1, \"c\": 1}, {\"x\": 0.5263158082962036, \"y\": 1, \"c\": 1}, {\"x\": 0.736842155456543, \"y\": 1, \"c\": 1}, {\"x\": 0.9473683834075928, \"y\": 1, \"c\": 1}, {\"x\": 1.1578947305679321, \"y\": 1, \"c\": 1}, {\"x\": 1.3684210777282715, \"y\": 1, \"c\": 1}, {\"x\": 1.5789473056793213, \"y\": 1, \"c\": 1}, {\"x\": 1.7894736528396606, \"y\": 1, \"c\": 1}, {\"x\": 2.0, \"y\": 1, \"c\": 1}], \"data-9bc7e510697bc16427f125ff59e38bd4\": [{\"x\": -2.0, \"y\": 3.5895186652560955}, {\"x\": -1.7894736528396606, \"y\": 4.506388426900646}, {\"x\": -1.5789473056793213, \"y\": 3.1181849104018844}, {\"x\": -1.3684210777282715, \"y\": 1.1220306094198624}, {\"x\": -1.1578947305679321, \"y\": 4.369635817686028}, {\"x\": -0.9473683834075928, \"y\": 2.0867475254100687}, {\"x\": -0.736842155456543, \"y\": -2.4929852066170004}, {\"x\": -0.5263158082962036, \"y\": 0.8612429717172088}, {\"x\": -0.31578946113586426, \"y\": -0.41519662411006486}, {\"x\": -0.10526314377784729, \"y\": 2.1584680188178567}, {\"x\": 0.10526317358016968, \"y\": 0.8013146733826271}, {\"x\": 0.31578946113586426, \"y\": 0.5418420531793104}, {\"x\": 0.5263158082962036, \"y\": 3.416425267185721}, {\"x\": 0.736842155456543, \"y\": 2.805722170472152}, {\"x\": 0.9473683834075928, \"y\": 1.4334938765243415}, {\"x\": 1.1578947305679321, \"y\": 5.797246452988309}, {\"x\": 1.3684210777282715, \"y\": 5.262111126834517}, {\"x\": 1.5789473056793213, \"y\": 3.829845638971709}, {\"x\": 1.7894736528396606, \"y\": 9.314366405397518}, {\"x\": 2.0, \"y\": 12.64626581324546}]}}, {\"mode\": \"vega-lite\"});\n",
       "</script>"
      ],
      "text/plain": [
       "alt.LayerChart(...)"
      ]
     },
     "execution_count": 25,
     "metadata": {},
     "output_type": "execute_result"
    }
   ],
   "source": [
    "plot_altair(title=\"Mean Squared Error Loss: 3.1498 \")"
   ]
  },
  {
   "cell_type": "markdown",
   "id": "f5d155df-1777-421e-a0bb-f3b3487aead3",
   "metadata": {},
   "source": [
    "### Derivatives, Rate of Change, Gradients\n",
    "\n",
    "At this point it should be clear that you can muck around with these variables to fit this function line to our data depending on the a,b,c terms. We can manually play around with them and see the MSE or loss function improve or get worse. When doing this by hand, its a manual activity and we're checking the number go up or down but if we wanted to 'Arthur Samuel' style automate this process, we can use derivatives.\n",
    "\n",
    "The way that I have understood derivates previously is that they help you explain the 'rate of change' for a function at any point. This relates to the gradient of a point on the curve since the gradient will tell me for any point on a function how much y will change if I change x, but because we don't have a linear function, this gradient changes a lot as we move along the curve. Derivatives let me figure out this gradient at any point.\n",
    "\n",
    "Now this is a naive and likely wrong way of explaining derivatives, its just me writing out my thoughts and shaky foundations as they are currently. However the high level concept of derivatives being 'a way of knowing the correct direction to change a value in order to minimise our loss' is the important bit and I'm fairly confident that I'm not too wrong there. Take my explanations with a grain of salt as I am but this is the current nuance of how I think about derivatives, and gradients in relation to functions and minimising losses\n",
    "\n",
    "Pytorch will calculate these gradients for us so we reliably can always know how to change our parameters in order to improve our loss function. I feel like we're starting to see the symphony of concepts come together here."
   ]
  },
  {
   "cell_type": "code",
   "execution_count": 26,
   "id": "b37cd797-a9ac-4829-b748-603264ccf509",
   "metadata": {},
   "outputs": [
    {
     "data": {
      "text/plain": [
       "tensor(8.7027, dtype=torch.float64)"
      ]
     },
     "execution_count": 26,
     "metadata": {},
     "output_type": "execute_result"
    }
   ],
   "source": [
    "# from lecture\n",
    "\n",
    "def quad_mse(params):\n",
    "    f = mk_quad(*params)\n",
    "    return mse(f(x), y)\n",
    "\n",
    "quad_mse([1.5,1.5,1.5])"
   ]
  },
  {
   "cell_type": "markdown",
   "id": "1752d217-2414-47fa-abd4-48c33584641a",
   "metadata": {},
   "source": [
    "### 1D Tensors & functions_\n",
    "\n",
    "Ok we're now playing with tensors again, and there's two important things to note, firstly how many dimensions our tensor has, in this case only 1 as we can only move along one dimension of the tensor. Unlike a 2D tensor like a dataframe where we could move along rows and columns, and a 3D tensor where we could move along columns, up or down rows, and depth-wise into different 'slices' of this dataframe. Hopefully that feels comfortable of the dimensions of a tensor. The other important note here is we are calling a *requires_grad_()* function which has an important *_* after the function name, this means to do the operation 'inplace' or on the object we're calling it with. If we call the function without the *_* it will return the output of the function but to a new object instead of the object we used to call the function, I'll show you below."
   ]
  },
  {
   "cell_type": "code",
   "execution_count": 27,
   "id": "fd7055cf-1861-4878-aaae-6740f7e8dccd",
   "metadata": {},
   "outputs": [
    {
     "data": {
      "text/plain": [
       "tensor([1.5000, 1.5000, 1.5000])"
      ]
     },
     "execution_count": 27,
     "metadata": {},
     "output_type": "execute_result"
    }
   ],
   "source": [
    "abc = torch.tensor([1.5,1.5,1.5])\n",
    "abc"
   ]
  },
  {
   "cell_type": "markdown",
   "id": "393e64c5-e3e4-429c-9e7b-ff1e8936166f",
   "metadata": {},
   "source": [
    "Lets modify 'abc' via the add function but also inspect abc after."
   ]
  },
  {
   "cell_type": "code",
   "execution_count": 28,
   "id": "198caf2e-a552-41af-baf9-7f222ca9cf20",
   "metadata": {},
   "outputs": [
    {
     "data": {
      "text/plain": [
       "(tensor([6.5000, 6.5000, 6.5000]), tensor([1.5000, 1.5000, 1.5000]))"
      ]
     },
     "execution_count": 28,
     "metadata": {},
     "output_type": "execute_result"
    }
   ],
   "source": [
    "abc.add(5), abc"
   ]
  },
  {
   "cell_type": "markdown",
   "id": "9611fbf5-4fd3-4150-b9a7-d83cc7110feb",
   "metadata": {},
   "source": [
    "We can see the 'abc' tensor is still unchanged, despite calling the 'add()' function to it which returned a modified tensor with what we'd expect abc to look like after adding '5' to each value. Lets now try and inplace function."
   ]
  },
  {
   "cell_type": "code",
   "execution_count": 29,
   "id": "ce3b901f-fe3f-45ba-8d7d-6f8cb0471bf4",
   "metadata": {},
   "outputs": [
    {
     "data": {
      "text/plain": [
       "(tensor([6.5000, 6.5000, 6.5000]), tensor([6.5000, 6.5000, 6.5000]))"
      ]
     },
     "execution_count": 29,
     "metadata": {},
     "output_type": "execute_result"
    }
   ],
   "source": [
    "abc.add_(5), abc"
   ]
  },
  {
   "cell_type": "markdown",
   "id": "c9cdc584-770f-4e03-b4d0-d5a4b06e0a86",
   "metadata": {},
   "source": [
    "Now we can see that 'abc' has been modified as well as returning our modified tensor. Now [pytorch actually recommends *NOT* doing in-place modifications](https://pytorch.org/docs/stable/notes/autograd.html#in-place-operations-with-autograd) as its less memory efficient but for demonstration purposes or simplicity if you're not worried about taking the performance hit its totally ok. [Checkout this awesome stackoverflow Q&A](https://stackoverflow.com/questions/52920098/what-does-the-underscore-suffix-in-pytorch-functions-mean) to read more on the *_* underscore functions of pytorch and the pytorch recommendations.\n",
    "\n",
    "Lets get back to using torch's mad grad functions."
   ]
  },
  {
   "cell_type": "code",
   "execution_count": 30,
   "id": "8050099d-f9e3-4900-a9f6-f0b576ebce4b",
   "metadata": {},
   "outputs": [
    {
     "data": {
      "text/plain": [
       "tensor([1.5000, 1.5000, 1.5000], requires_grad=True)"
      ]
     },
     "execution_count": 30,
     "metadata": {},
     "output_type": "execute_result"
    }
   ],
   "source": [
    "abc = torch.tensor([1.5,1.5,1.5])\n",
    "abc.requires_grad_()\n",
    "abc"
   ]
  },
  {
   "cell_type": "code",
   "execution_count": 31,
   "id": "ea1dd36c-6641-4710-b9be-c525ac86be90",
   "metadata": {},
   "outputs": [
    {
     "data": {
      "text/plain": [
       "tensor(8.7027, dtype=torch.float64, grad_fn=<MeanBackward0>)"
      ]
     },
     "execution_count": 31,
     "metadata": {},
     "output_type": "execute_result"
    }
   ],
   "source": [
    "loss = quad_mse(abc)\n",
    "loss"
   ]
  },
  {
   "cell_type": "markdown",
   "id": "a6fc0f96-a7e9-4170-859c-f05b62122949",
   "metadata": {},
   "source": [
    "Ok so we've replicated our call before to quad_mse and can see the same loss, lets now calculate the gradients on our tensor by calling backward(), which is a reference to backpropagation or backprop."
   ]
  },
  {
   "cell_type": "code",
   "execution_count": 32,
   "id": "6c62beee-d3c8-4277-b588-b9c4121a079b",
   "metadata": {},
   "outputs": [
    {
     "data": {
      "text/plain": [
       "\u001b[1;31mSignature:\u001b[0m\n",
       "\u001b[0mloss\u001b[0m\u001b[1;33m.\u001b[0m\u001b[0mbackward\u001b[0m\u001b[1;33m(\u001b[0m\u001b[1;33m\n",
       "\u001b[0m    \u001b[0mgradient\u001b[0m\u001b[1;33m=\u001b[0m\u001b[1;32mNone\u001b[0m\u001b[1;33m,\u001b[0m\u001b[1;33m\n",
       "\u001b[0m    \u001b[0mretain_graph\u001b[0m\u001b[1;33m=\u001b[0m\u001b[1;32mNone\u001b[0m\u001b[1;33m,\u001b[0m\u001b[1;33m\n",
       "\u001b[0m    \u001b[0mcreate_graph\u001b[0m\u001b[1;33m=\u001b[0m\u001b[1;32mFalse\u001b[0m\u001b[1;33m,\u001b[0m\u001b[1;33m\n",
       "\u001b[0m    \u001b[0minputs\u001b[0m\u001b[1;33m=\u001b[0m\u001b[1;32mNone\u001b[0m\u001b[1;33m,\u001b[0m\u001b[1;33m\n",
       "\u001b[0m\u001b[1;33m)\u001b[0m\u001b[1;33m\u001b[0m\u001b[1;33m\u001b[0m\u001b[0m\n",
       "\u001b[1;31mDocstring:\u001b[0m\n",
       "Computes the gradient of current tensor w.r.t. graph leaves.\n",
       "\n",
       "The graph is differentiated using the chain rule. If the tensor is\n",
       "non-scalar (i.e. its data has more than one element) and requires\n",
       "gradient, the function additionally requires specifying ``gradient``.\n",
       "It should be a tensor of matching type and location, that contains\n",
       "the gradient of the differentiated function w.r.t. ``self``.\n",
       "\n",
       "This function accumulates gradients in the leaves - you might need to zero\n",
       "``.grad`` attributes or set them to ``None`` before calling it.\n",
       "See :ref:`Default gradient layouts<default-grad-layouts>`\n",
       "for details on the memory layout of accumulated gradients.\n",
       "\n",
       ".. note::\n",
       "\n",
       "    If you run any forward ops, create ``gradient``, and/or call ``backward``\n",
       "    in a user-specified CUDA stream context, see\n",
       "    :ref:`Stream semantics of backward passes<bwd-cuda-stream-semantics>`.\n",
       "\n",
       ".. note::\n",
       "\n",
       "    When ``inputs`` are provided and a given input is not a leaf,\n",
       "    the current implementation will call its grad_fn (though it is not strictly needed to get this gradients).\n",
       "    It is an implementation detail on which the user should not rely.\n",
       "    See https://github.com/pytorch/pytorch/pull/60521#issuecomment-867061780 for more details.\n",
       "\n",
       "Args:\n",
       "    gradient (Tensor or None): Gradient w.r.t. the\n",
       "        tensor. If it is a tensor, it will be automatically converted\n",
       "        to a Tensor that does not require grad unless ``create_graph`` is True.\n",
       "        None values can be specified for scalar Tensors or ones that\n",
       "        don't require grad. If a None value would be acceptable then\n",
       "        this argument is optional.\n",
       "    retain_graph (bool, optional): If ``False``, the graph used to compute\n",
       "        the grads will be freed. Note that in nearly all cases setting\n",
       "        this option to True is not needed and often can be worked around\n",
       "        in a much more efficient way. Defaults to the value of\n",
       "        ``create_graph``.\n",
       "    create_graph (bool, optional): If ``True``, graph of the derivative will\n",
       "        be constructed, allowing to compute higher order derivative\n",
       "        products. Defaults to ``False``.\n",
       "    inputs (sequence of Tensor): Inputs w.r.t. which the gradient will be\n",
       "        accumulated into ``.grad``. All other Tensors will be ignored. If not\n",
       "        provided, the gradient is accumulated into all the leaf Tensors that were\n",
       "        used to compute the attr::tensors.\n",
       "\u001b[1;31mFile:\u001b[0m      c:\\users\\nick\\anaconda3\\envs\\fastai\\lib\\site-packages\\torch\\_tensor.py\n",
       "\u001b[1;31mType:\u001b[0m      method\n"
      ]
     },
     "metadata": {},
     "output_type": "display_data"
    }
   ],
   "source": [
    "loss.backward?"
   ]
  },
  {
   "cell_type": "code",
   "execution_count": 33,
   "id": "565ed82a-ecf3-469c-93fd-c72aeab6ec97",
   "metadata": {},
   "outputs": [],
   "source": [
    "loss.backward()"
   ]
  },
  {
   "cell_type": "markdown",
   "id": "13b62e45-d1ab-4bd2-b1b5-f2c7e4b26a0d",
   "metadata": {},
   "source": [
    "Now its silently succeeded, but what its done is add a 'grad' attribute to our abc tensor, with each corresponding value of grad explaining how the values of the tensor 'abc' will change if we add to them."
   ]
  },
  {
   "cell_type": "code",
   "execution_count": 34,
   "id": "c4ce2e32-db02-44e7-9ed6-8644f03b8057",
   "metadata": {},
   "outputs": [
    {
     "data": {
      "text/plain": [
       "tensor([-8.8147, -2.5687, -3.3284])"
      ]
     },
     "execution_count": 34,
     "metadata": {},
     "output_type": "execute_result"
    }
   ],
   "source": [
    "abc.grad"
   ]
  },
  {
   "cell_type": "markdown",
   "id": "dc3746f5-66f1-446c-8850-422824b2e28a",
   "metadata": {},
   "source": [
    "Ok so with each of these gradients, we need to decrease our parameters in order to reduce our loss function as the gradients are positive, meaning if we add to them, the loss will get worse.\n",
    "\n",
    "As Jeremy states, we want to add the 'negative' of our gradients by some small value as we don't want to leap too far along our function curve and overshoot the optimal value. We need to multiply our gradients by a 'learning rate', which is this small value that helps us move along the curve, the size of the learning rate changes how far along the curve we leap."
   ]
  },
  {
   "cell_type": "code",
   "execution_count": 35,
   "id": "a928b4d1-4d6e-41b8-8cb6-9b48fd2e8fb2",
   "metadata": {},
   "outputs": [
    {
     "data": {
      "text/plain": [
       "tensor(8.7027, dtype=torch.float64, grad_fn=<MeanBackward0>)"
      ]
     },
     "execution_count": 35,
     "metadata": {},
     "output_type": "execute_result"
    }
   ],
   "source": [
    "# our loss previously\n",
    "loss"
   ]
  },
  {
   "cell_type": "markdown",
   "id": "84a991d5-033e-4805-baea-c85fdb2fd2d9",
   "metadata": {},
   "source": [
    "Note we disable the gradient calculation with torch.no_grad() since \"abc.requires_grad\" is true which means that anytime the tensor is used in a function, it calculates the gradients. We want to actually do this manually ourselves by updating abc by the learning and then re-calculating the loss.\n",
    "\n",
    "Lets do this and see if our loss improves"
   ]
  },
  {
   "cell_type": "code",
   "execution_count": 36,
   "id": "f22edce9-d063-4851-b3d2-168d5a58e90e",
   "metadata": {},
   "outputs": [
    {
     "data": {
      "text/plain": [
       "tensor(7.7900, dtype=torch.float64)"
      ]
     },
     "execution_count": 36,
     "metadata": {},
     "output_type": "execute_result"
    }
   ],
   "source": [
    "learning_rate = 0.01\n",
    "\n",
    "with torch.no_grad():\n",
    "    abc -= abc.grad*learning_rate\n",
    "    loss = quad_mse(abc)\n",
    "    \n",
    "loss"
   ]
  },
  {
   "cell_type": "markdown",
   "id": "80f56758-71bf-4cc8-8056-cdf7a4e2307f",
   "metadata": {},
   "source": [
    "It got better! By an absolutely abysmal amount, maybe we need a bigger learning rate.... Or more compute, lets try a few iterations"
   ]
  },
  {
   "cell_type": "code",
   "execution_count": 37,
   "id": "dd15e40a-2679-4f7c-988e-b2ad47c5973f",
   "metadata": {},
   "outputs": [
    {
     "name": "stdout",
     "output_type": "stream",
     "text": [
      "The current loss is 7.703210825482984\n",
      "The current loss is 7.617265245186357\n",
      "The current loss is 7.532139525570576\n",
      "The current loss is 7.447834176037972\n",
      "The current loss is 7.364347814316565\n",
      "The current loss is 7.281681682942621\n",
      "The current loss is 7.1998362652288055\n",
      "The current loss is 7.11881036492495\n",
      "The current loss is 7.03860418552117\n",
      "The current loss is 6.959218837030955\n",
      "The current loss is 6.880653384174158\n",
      "The current loss is 6.8029071783484\n",
      "The current loss is 6.725981924145863\n",
      "The current loss is 6.649874654988925\n",
      "The current loss is 6.574588277622159\n"
     ]
    },
    {
     "data": {
      "text/plain": [
       "tensor(6.5746, dtype=torch.float64)"
      ]
     },
     "execution_count": 37,
     "metadata": {},
     "output_type": "execute_result"
    }
   ],
   "source": [
    "learning_rate = 0.001\n",
    "\n",
    "for iteration in range(15):\n",
    "    with torch.no_grad():\n",
    "        abc -= abc.grad*learning_rate\n",
    "        loss = quad_mse(abc)\n",
    "        print(f\"The current loss is {loss}\")\n",
    "\n",
    "loss"
   ]
  },
  {
   "cell_type": "markdown",
   "id": "02c249e2-0690-4a52-8bc5-a6c8ae920bd5",
   "metadata": {},
   "source": [
    "How awesome is this, we have a improving loss value because of these gradients being updated, our loss being calculated and being looped over again and again. This process is called **Optimisation using gradient descent**, we've done a very basic implementation but nonetheless this is a key term to solidify and refer back to in the future. Its a sensible name since we're *Optimising* our parameters in our tensor for our loss function using *gradients* to *descend* down to the lowest loss value."
   ]
  },
  {
   "cell_type": "markdown",
   "id": "220503ad-cf0e-41fe-892f-0e06c025584f",
   "metadata": {},
   "source": [
    "### Rectified Linear Units | ReLu\n",
    "\n",
    "As Jeremy noted, this is all well and good so far but it doesn't feel very likely that we can optimise for many real world datasets or observations since they'd have to fit a quadratic form to match the parameters we have to play with. If we introduce the ReLu, we can start to address this problem.\n",
    "\n",
    "A relu has the form of $f(x) = max(0,x)$ with all values under 0 being clipped to 0, we do this with torch.clip(). This probably isn't the correct 'math' way to write it out but this is the useful illustration to me of anything at 0 or below being clipped and then returning x otherwise.\n",
    "\n",
    "Lets first plot a ReLu with the function $y=mx+b$ and see what it looks like"
   ]
  },
  {
   "cell_type": "code",
   "execution_count": 38,
   "id": "8c058794-5064-4945-8d03-14dd339f6d3b",
   "metadata": {},
   "outputs": [
    {
     "data": {
      "text/plain": [
       "\u001b[1;31mDocstring:\u001b[0m\n",
       "clip(input, min=None, max=None, *, out=None) -> Tensor\n",
       "\n",
       "Alias for :func:`torch.clamp`.\n",
       "\u001b[1;31mType:\u001b[0m      builtin_function_or_method\n"
      ]
     },
     "metadata": {},
     "output_type": "display_data"
    }
   ],
   "source": [
    "torch.clip?"
   ]
  },
  {
   "cell_type": "markdown",
   "id": "70178af1-c2bf-45a2-8751-88e682bb55a1",
   "metadata": {},
   "source": [
    "Ok so clip is a nice alias for torch.clamp, lets checkout those docs"
   ]
  },
  {
   "cell_type": "code",
   "execution_count": 39,
   "id": "5b492e55-48db-4b13-979f-673595d83726",
   "metadata": {},
   "outputs": [
    {
     "data": {
      "text/plain": [
       "\u001b[1;31mDocstring:\u001b[0m\n",
       "clamp(input, min=None, max=None, *, out=None) -> Tensor\n",
       "\n",
       "Clamps all elements in :attr:`input` into the range `[` :attr:`min`, :attr:`max` `]`.\n",
       "Letting min_value and max_value be :attr:`min` and :attr:`max`, respectively, this returns:\n",
       "\n",
       ".. math::\n",
       "    y_i = \\min(\\max(x_i, \\text{min\\_value}_i), \\text{max\\_value}_i)\n",
       "\n",
       "If :attr:`min` is ``None``, there is no lower bound.\n",
       "Or, if :attr:`max` is ``None`` there is no upper bound.\n",
       "\n",
       "\n",
       ".. note::\n",
       "    If :attr:`min` is greater than :attr:`max` :func:`torch.clamp(..., min, max) <torch.clamp>`\n",
       "    sets all elements in :attr:`input` to the value of :attr:`max`.\n",
       "\n",
       "Args:\n",
       "    input (Tensor): the input tensor.\n",
       "    min (Number or Tensor, optional): lower-bound of the range to be clamped to\n",
       "    max (Number or Tensor, optional): upper-bound of the range to be clamped to\n",
       "\n",
       "Keyword args:\n",
       "    out (Tensor, optional): the output tensor.\n",
       "\n",
       "Example::\n",
       "\n",
       "    >>> a = torch.randn(4)\n",
       "    >>> a\n",
       "    tensor([-1.7120,  0.1734, -0.0478, -0.0922])\n",
       "    >>> torch.clamp(a, min=-0.5, max=0.5)\n",
       "    tensor([-0.5000,  0.1734, -0.0478, -0.0922])\n",
       "\n",
       "    >>> min = torch.linspace(-1, 1, steps=4)\n",
       "    >>> torch.clamp(a, min=min)\n",
       "    tensor([-1.0000,  0.1734,  0.3333,  1.0000])\n",
       "\u001b[1;31mType:\u001b[0m      builtin_function_or_method\n"
      ]
     },
     "metadata": {},
     "output_type": "display_data"
    }
   ],
   "source": [
    "torch.clamp?"
   ]
  },
  {
   "cell_type": "markdown",
   "id": "fd17e899-19cd-4403-b0ed-724ade0d2111",
   "metadata": {},
   "source": [
    "We're using the 'min' variable to enforce every value being at least 0."
   ]
  },
  {
   "cell_type": "code",
   "execution_count": 40,
   "id": "e9c26e2a-5117-4e85-8db7-bf74088ae81c",
   "metadata": {},
   "outputs": [
    {
     "data": {
      "image/png": "[encoded data removed]",
      "text/plain": [
       "<Figure size 600x400 with 1 Axes>"
      ]
     },
     "metadata": {},
     "output_type": "display_data"
    }
   ],
   "source": [
    "def relu(x,m,b):\n",
    "    y = m*x+b\n",
    "    return torch.clip(y,0.)\n",
    "\n",
    "relu_partial = partial(relu,1,1)\n",
    "\n",
    "plot_function(relu_partial, title=\"ReLu $y=mx+b$\")"
   ]
  },
  {
   "cell_type": "markdown",
   "id": "74780cf1-b219-4bc0-aedf-1dac94e2b299",
   "metadata": {},
   "source": [
    "Lets make it interactive again with altair & matplotlib so you can muck around on the blog as well as in the notebook"
   ]
  },
  {
   "cell_type": "code",
   "execution_count": 41,
   "id": "2472347c-d327-467d-9826-91f76a244dfb",
   "metadata": {},
   "outputs": [
    {
     "data": {
      "application/vnd.jupyter.widget-view+json": {
       "model_id": "cc46852b4de445838dd3b2e723774358",
       "version_major": 2,
       "version_minor": 0
      },
      "text/plain": [
       "interactive(children=(FloatSlider(value=1.0, description='m', max=3.0, min=-1.0), FloatSlider(value=1.5, descr…"
      ]
     },
     "metadata": {},
     "output_type": "display_data"
    }
   ],
   "source": [
    "@interact(m=1.0, b=1.5)\n",
    "def plot_relu(m,b):\n",
    "    plot_function(partial(relu,m,b), title=\"ReLu $y=mx+b$\")"
   ]
  },
  {
   "cell_type": "markdown",
   "id": "27bf9515-d93b-4029-a58a-9fad8b8a0d9f",
   "metadata": {},
   "source": [
    "For my Quarto friends...."
   ]
  },
  {
   "cell_type": "code",
   "execution_count": 42,
   "id": "30460187-2b48-442a-bdc9-87213c7121e1",
   "metadata": {},
   "outputs": [
    {
     "data": {
      "text/html": [
       "\n",
       "<div id=\"altair-viz-22f5fbacd99f4b5e8a78f4f70c860a99\"></div>\n",
       "<script type=\"text/javascript\">\n",
       "  var VEGA_DEBUG = (typeof VEGA_DEBUG == \"undefined\") ? {} : VEGA_DEBUG;\n",
       "  (function(spec, embedOpt){\n",
       "    let outputDiv = document.currentScript.previousElementSibling;\n",
       "    if (outputDiv.id !== \"altair-viz-22f5fbacd99f4b5e8a78f4f70c860a99\") {\n",
       "      outputDiv = document.getElementById(\"altair-viz-22f5fbacd99f4b5e8a78f4f70c860a99\");\n",
       "    }\n",
       "    const paths = {\n",
       "      \"vega\": \"https://cdn.jsdelivr.net/npm//vega@5?noext\",\n",
       "      \"vega-lib\": \"https://cdn.jsdelivr.net/npm//vega-lib?noext\",\n",
       "      \"vega-lite\": \"https://cdn.jsdelivr.net/npm//vega-lite@4.17.0?noext\",\n",
       "      \"vega-embed\": \"https://cdn.jsdelivr.net/npm//vega-embed@6?noext\",\n",
       "    };\n",
       "\n",
       "    function maybeLoadScript(lib, version) {\n",
       "      var key = `${lib.replace(\"-\", \"\")}_version`;\n",
       "      return (VEGA_DEBUG[key] == version) ?\n",
       "        Promise.resolve(paths[lib]) :\n",
       "        new Promise(function(resolve, reject) {\n",
       "          var s = document.createElement('script');\n",
       "          document.getElementsByTagName(\"head\")[0].appendChild(s);\n",
       "          s.async = true;\n",
       "          s.onload = () => {\n",
       "            VEGA_DEBUG[key] = version;\n",
       "            return resolve(paths[lib]);\n",
       "          };\n",
       "          s.onerror = () => reject(`Error loading script: ${paths[lib]}`);\n",
       "          s.src = paths[lib];\n",
       "        });\n",
       "    }\n",
       "\n",
       "    function showError(err) {\n",
       "      outputDiv.innerHTML = `<div class=\"error\" style=\"color:red;\">${err}</div>`;\n",
       "      throw err;\n",
       "    }\n",
       "\n",
       "    function displayChart(vegaEmbed) {\n",
       "      vegaEmbed(outputDiv, spec, embedOpt)\n",
       "        .catch(err => showError(`Javascript Error: ${err.message}<br>This usually means there's a typo in your chart specification. See the javascript console for the full traceback.`));\n",
       "    }\n",
       "\n",
       "    if(typeof define === \"function\" && define.amd) {\n",
       "      requirejs.config({paths});\n",
       "      require([\"vega-embed\"], displayChart, err => showError(`Error loading script: ${err.message}`));\n",
       "    } else {\n",
       "      maybeLoadScript(\"vega\", \"5\")\n",
       "        .then(() => maybeLoadScript(\"vega-lite\", \"4.17.0\"))\n",
       "        .then(() => maybeLoadScript(\"vega-embed\", \"6\"))\n",
       "        .catch(showError)\n",
       "        .then(() => displayChart(vegaEmbed));\n",
       "    }\n",
       "  })({\"config\": {\"view\": {\"continuousWidth\": 400, \"continuousHeight\": 300}}, \"data\": {\"name\": \"data-6ba7a12ce6880e0d8c473613bec83719\"}, \"mark\": {\"type\": \"line\", \"color\": \"red\"}, \"encoding\": {\"x\": {\"field\": \"x\", \"type\": \"quantitative\"}, \"y\": {\"field\": \"y\", \"type\": \"quantitative\"}}, \"selection\": {\"selector_m\": {\"type\": \"single\", \"fields\": [\"m\"], \"bind\": {\"input\": \"range\", \"max\": 3, \"min\": 0, \"name\": \"M\", \"step\": 0.1}, \"init\": {\"m\": 1.5}}}, \"title\": \"y = mx+b\", \"transform\": [{\"calculate\": \"max(0,(selector_m.m * datum.x) + 1.5)\", \"as\": \"y\"}], \"$schema\": \"https://vega.github.io/schema/vega-lite/v4.17.0.json\", \"datasets\": {\"data-6ba7a12ce6880e0d8c473613bec83719\": [{\"x\": -2.0, \"y\": 0.0}, {\"x\": -1.9183673858642578, \"y\": 0.0}, {\"x\": -1.836734652519226, \"y\": 0.0}, {\"x\": -1.7551020383834839, \"y\": 0.0}, {\"x\": -1.6734694242477417, \"y\": 0.0}, {\"x\": -1.59183669090271, \"y\": 0.0}, {\"x\": -1.5102040767669678, \"y\": 0.0}, {\"x\": -1.4285714626312256, \"y\": 0.0}, {\"x\": -1.3469388484954834, \"y\": 0.0}, {\"x\": -1.2653062343597412, \"y\": 0.0}, {\"x\": -1.1836735010147095, \"y\": 0.0}, {\"x\": -1.1020408868789673, \"y\": 0.0}, {\"x\": -1.020408272743225, \"y\": 0.0}, {\"x\": -0.9387755990028381, \"y\": 0.061224400997161865}, {\"x\": -0.8571429252624512, \"y\": 0.14285707473754883}, {\"x\": -0.775510311126709, \"y\": 0.22448968887329102}, {\"x\": -0.6938775777816772, \"y\": 0.30612242221832275}, {\"x\": -0.6122449040412903, \"y\": 0.3877550959587097}, {\"x\": -0.5306122899055481, \"y\": 0.4693877100944519}, {\"x\": -0.44897961616516113, \"y\": 0.5510203838348389}, {\"x\": -0.36734697222709656, \"y\": 0.632652997970581}, {\"x\": -0.285714328289032, \"y\": 0.714285671710968}, {\"x\": -0.20408165454864502, \"y\": 0.795918345451355}, {\"x\": -0.12244904041290283, \"y\": 0.8775509595870972}, {\"x\": -0.040816307067871094, \"y\": 0.9591836929321289}, {\"x\": 0.04081634432077408, \"y\": 1.040816307067871}, {\"x\": 0.12244899570941925, \"y\": 1.1224490404129028}, {\"x\": 0.20408165454864502, \"y\": 1.204081654548645}, {\"x\": 0.2857142984867096, \"y\": 1.2857142686843872}, {\"x\": 0.36734694242477417, \"y\": 1.367347002029419}, {\"x\": 0.44897961616516113, \"y\": 1.4489796161651611}, {\"x\": 0.5306122303009033, \"y\": 1.5306122303009033}, {\"x\": 0.6122449636459351, \"y\": 1.612244963645935}, {\"x\": 0.693877637386322, \"y\": 1.6938776969909668}, {\"x\": 0.7755102515220642, \"y\": 1.775510311126709}, {\"x\": 0.8571429252624512, \"y\": 1.8571429252624512}, {\"x\": 0.9387755393981934, \"y\": 1.9387755393981934}, {\"x\": 1.0204081535339355, \"y\": 2.0204081535339355}, {\"x\": 1.1020408868789673, \"y\": 2.1020407676696777}, {\"x\": 1.1836735010147095, \"y\": 2.18367338180542}, {\"x\": 1.2653061151504517, \"y\": 2.265305995941162}, {\"x\": 1.3469387292861938, \"y\": 2.3469386100769043}, {\"x\": 1.4285714626312256, \"y\": 2.4285714626312256}, {\"x\": 1.5102040767669678, \"y\": 2.5102040767669678}, {\"x\": 1.59183669090271, \"y\": 2.59183669090271}, {\"x\": 1.6734693050384521, \"y\": 2.673469305038452}, {\"x\": 1.7551020383834839, \"y\": 2.7551021575927734}, {\"x\": 1.836734652519226, \"y\": 2.8367347717285156}, {\"x\": 1.9183673858642578, \"y\": 2.918367385864258}, {\"x\": 2.0, \"y\": 3.0}]}}, {\"mode\": \"vega-lite\"});\n",
       "</script>"
      ],
      "text/plain": [
       "alt.Chart(...)"
      ]
     },
     "execution_count": 42,
     "metadata": {},
     "output_type": "execute_result"
    }
   ],
   "source": [
    "m,b = 1.5,1.5\n",
    "\n",
    "x = torch.linspace(-2,2,50)\n",
    "y=relu_partial(x)\n",
    "\n",
    "selector_m =  alt.selection_single(name=\"selector_m\", \n",
    "                                fields=['m'],\n",
    "                                bind=alt.binding_range(min=0, max=3, step=0.1, name='M'),\n",
    "                                init={'m': m}) \n",
    "selector_b = alt.selection_single(name=\"selector_b\",\n",
    "                                fields=['b'], \n",
    "                                bind=alt.binding_range(min=0, max=3, step=0.1, name='B'),\n",
    "                                init={'b': b})\n",
    "# selector_c = alt.selection_single(name=\"selector_c\",\n",
    "#                                 fields=['c'], \n",
    "#                                 bind=alt.binding_range(min=0, max=3, step=0.1, name='C'),\n",
    "#                                 init={'c': c})\n",
    "\n",
    "data = pd.DataFrame({\"x\":x.numpy(),\"y\":y})\n",
    "\n",
    "line = alt.Chart(data=data,title=\"ReLu y = mx + b\").mark_line(color=\"red\").encode(\n",
    "    x='x:Q',\n",
    "    y='y:Q',\n",
    ").transform_calculate(y=f\"max(0,(selector_m.m * datum.x) + {b})\").properties(title=\"y = mx+b\").add_selection(selector_m)\n",
    "\n",
    "line"
   ]
  },
  {
   "cell_type": "markdown",
   "id": "43f78813-d64c-481d-a604-cb2fb81074d2",
   "metadata": {},
   "source": [
    "Similar to the quadratic, I can't seem to get the bias term which changes the intercept to interact nicely with the transform_calculate function of altair but you can see how playing with the 'm' term changes partly the steepness of the slope up as well as where the curve starts its ascent from 0 where its been clipped. Again, highly recommend bringing the notebook from my github over to colab but hopefully there's enough interactivity that it sinks in what we're playing with.\n",
    "\n",
    "Lets now make a double ReLu which lets us connect two of these units together."
   ]
  },
  {
   "cell_type": "code",
   "execution_count": 43,
   "id": "14d74426-5d98-42b3-b979-55c45fbb778b",
   "metadata": {},
   "outputs": [],
   "source": [
    "def double_relu(m1,b1,m2,b2,x): return relu(x,m1,b1) + relu(x,m2,b2)"
   ]
  },
  {
   "cell_type": "code",
   "execution_count": 44,
   "id": "949baf12-9de8-4770-8ae7-a3aa22206780",
   "metadata": {},
   "outputs": [
    {
     "data": {
      "application/vnd.jupyter.widget-view+json": {
       "model_id": "4ebf751e56ed447dac99c536dd1bba91",
       "version_major": 2,
       "version_minor": 0
      },
      "text/plain": [
       "interactive(children=(FloatSlider(value=-1.5, description='m1', max=1.5, min=-4.5), FloatSlider(value=-1.5, de…"
      ]
     },
     "metadata": {},
     "output_type": "display_data"
    }
   ],
   "source": [
    "@interact(m1=-1.5,b1=-1.5,m2=1.5,b2=1.5)\n",
    "def plot_double_relu(m1,b1,m2,b2):plot_function(partial(double_relu,m1,b1,m2,b2))"
   ]
  },
  {
   "cell_type": "markdown",
   "id": "f95e13f4-41d9-4780-a3aa-c4478a689b55",
   "metadata": {},
   "source": [
    "Once again for my Quarto friends, forgive me for the lack of b1/b2 bias terms, you can still get the point with the m1 and m2 values how you can make any kind of point and direction that you need."
   ]
  },
  {
   "cell_type": "code",
   "execution_count": 45,
   "id": "aefb86ee-c64c-4d57-9999-d9490ba888e4",
   "metadata": {},
   "outputs": [
    {
     "data": {
      "text/html": [
       "\n",
       "<div id=\"altair-viz-6d957244480540918c74a9c1b78d9f4c\"></div>\n",
       "<script type=\"text/javascript\">\n",
       "  var VEGA_DEBUG = (typeof VEGA_DEBUG == \"undefined\") ? {} : VEGA_DEBUG;\n",
       "  (function(spec, embedOpt){\n",
       "    let outputDiv = document.currentScript.previousElementSibling;\n",
       "    if (outputDiv.id !== \"altair-viz-6d957244480540918c74a9c1b78d9f4c\") {\n",
       "      outputDiv = document.getElementById(\"altair-viz-6d957244480540918c74a9c1b78d9f4c\");\n",
       "    }\n",
       "    const paths = {\n",
       "      \"vega\": \"https://cdn.jsdelivr.net/npm//vega@5?noext\",\n",
       "      \"vega-lib\": \"https://cdn.jsdelivr.net/npm//vega-lib?noext\",\n",
       "      \"vega-lite\": \"https://cdn.jsdelivr.net/npm//vega-lite@4.17.0?noext\",\n",
       "      \"vega-embed\": \"https://cdn.jsdelivr.net/npm//vega-embed@6?noext\",\n",
       "    };\n",
       "\n",
       "    function maybeLoadScript(lib, version) {\n",
       "      var key = `${lib.replace(\"-\", \"\")}_version`;\n",
       "      return (VEGA_DEBUG[key] == version) ?\n",
       "        Promise.resolve(paths[lib]) :\n",
       "        new Promise(function(resolve, reject) {\n",
       "          var s = document.createElement('script');\n",
       "          document.getElementsByTagName(\"head\")[0].appendChild(s);\n",
       "          s.async = true;\n",
       "          s.onload = () => {\n",
       "            VEGA_DEBUG[key] = version;\n",
       "            return resolve(paths[lib]);\n",
       "          };\n",
       "          s.onerror = () => reject(`Error loading script: ${paths[lib]}`);\n",
       "          s.src = paths[lib];\n",
       "        });\n",
       "    }\n",
       "\n",
       "    function showError(err) {\n",
       "      outputDiv.innerHTML = `<div class=\"error\" style=\"color:red;\">${err}</div>`;\n",
       "      throw err;\n",
       "    }\n",
       "\n",
       "    function displayChart(vegaEmbed) {\n",
       "      vegaEmbed(outputDiv, spec, embedOpt)\n",
       "        .catch(err => showError(`Javascript Error: ${err.message}<br>This usually means there's a typo in your chart specification. See the javascript console for the full traceback.`));\n",
       "    }\n",
       "\n",
       "    if(typeof define === \"function\" && define.amd) {\n",
       "      requirejs.config({paths});\n",
       "      require([\"vega-embed\"], displayChart, err => showError(`Error loading script: ${err.message}`));\n",
       "    } else {\n",
       "      maybeLoadScript(\"vega\", \"5\")\n",
       "        .then(() => maybeLoadScript(\"vega-lite\", \"4.17.0\"))\n",
       "        .then(() => maybeLoadScript(\"vega-embed\", \"6\"))\n",
       "        .catch(showError)\n",
       "        .then(() => displayChart(vegaEmbed));\n",
       "    }\n",
       "  })({\"config\": {\"view\": {\"continuousWidth\": 400, \"continuousHeight\": 300}}, \"data\": {\"name\": \"data-3b140e715a8e3d27dc4e21ba14d4e2de\"}, \"mark\": {\"type\": \"line\", \"color\": \"red\"}, \"encoding\": {\"x\": {\"field\": \"x\", \"type\": \"quantitative\"}, \"y\": {\"field\": \"y\", \"type\": \"quantitative\"}}, \"selection\": {\"selector_m\": {\"type\": \"single\", \"fields\": [\"m1\"], \"bind\": {\"input\": \"range\", \"max\": 3, \"min\": -3, \"name\": \"M1\", \"step\": 0.1}, \"init\": {\"m1\": -1.5}}, \"selector_mm\": {\"type\": \"single\", \"fields\": [\"m2\"], \"bind\": {\"input\": \"range\", \"max\": 3, \"min\": -3, \"name\": \"M2\", \"step\": 0.1}, \"init\": {\"m2\": 3}}}, \"title\": \"y = mx+b\", \"transform\": [{\"calculate\": \"(max(0,(selector_m.m1 * datum.x) + -1.5)) + (max(0,(selector_mm.m2 * datum.x) + 3))\", \"as\": \"y\"}], \"$schema\": \"https://vega.github.io/schema/vega-lite/v4.17.0.json\", \"datasets\": {\"data-3b140e715a8e3d27dc4e21ba14d4e2de\": [{\"x\": -2.0, \"y\": 1.5}, {\"x\": -1.9183673858642578, \"y\": 1.3775510787963867}, {\"x\": -1.836734652519226, \"y\": 1.2551019191741943}, {\"x\": -1.7551020383834839, \"y\": 1.132652997970581}, {\"x\": -1.6734694242477417, \"y\": 1.0102040767669678}, {\"x\": -1.59183669090271, \"y\": 0.8877549171447754}, {\"x\": -1.5102040767669678, \"y\": 0.7653059959411621}, {\"x\": -1.4285714626312256, \"y\": 0.6428570747375488}, {\"x\": -1.3469388484954834, \"y\": 0.5204081535339355}, {\"x\": -1.2653062343597412, \"y\": 0.3979593515396118}, {\"x\": -1.1836735010147095, \"y\": 0.275510311126709}, {\"x\": -1.1020408868789673, \"y\": 0.1530613899230957}, {\"x\": -1.020408272743225, \"y\": 0.030612468719482422}, {\"x\": -0.9387755990028381, \"y\": 0.18367314338684082}, {\"x\": -0.8571429252624512, \"y\": 0.4285712242126465}, {\"x\": -0.775510311126709, \"y\": 0.673469066619873}, {\"x\": -0.6938775777816772, \"y\": 0.9183673858642578}, {\"x\": -0.6122449040412903, \"y\": 1.1632652282714844}, {\"x\": -0.5306122899055481, \"y\": 1.408163070678711}, {\"x\": -0.44897961616516113, \"y\": 1.6530611515045166}, {\"x\": -0.36734697222709656, \"y\": 1.8979591131210327}, {\"x\": -0.285714328289032, \"y\": 2.142857074737549}, {\"x\": -0.20408165454864502, \"y\": 2.3877549171447754}, {\"x\": -0.12244904041290283, \"y\": 2.632652759552002}, {\"x\": -0.040816307067871094, \"y\": 2.8775510787963867}, {\"x\": 0.04081634432077408, \"y\": 3.1224489212036133}, {\"x\": 0.12244899570941925, \"y\": 3.367347002029419}, {\"x\": 0.20408165454864502, \"y\": 3.6122450828552246}, {\"x\": 0.2857142984867096, \"y\": 3.857142925262451}, {\"x\": 0.36734694242477417, \"y\": 4.102040767669678}, {\"x\": 0.44897961616516113, \"y\": 4.3469390869140625}, {\"x\": 0.5306122303009033, \"y\": 4.591836929321289}, {\"x\": 0.6122449636459351, \"y\": 4.836734771728516}, {\"x\": 0.693877637386322, \"y\": 5.081632614135742}, {\"x\": 0.7755102515220642, \"y\": 5.326530456542969}, {\"x\": 0.8571429252624512, \"y\": 5.5714287757873535}, {\"x\": 0.9387755393981934, \"y\": 5.81632661819458}, {\"x\": 1.0204081535339355, \"y\": 6.061224460601807}, {\"x\": 1.1020408868789673, \"y\": 6.306122779846191}, {\"x\": 1.1836735010147095, \"y\": 6.551020622253418}, {\"x\": 1.2653061151504517, \"y\": 6.7959184646606445}, {\"x\": 1.3469387292861938, \"y\": 7.040816307067871}, {\"x\": 1.4285714626312256, \"y\": 7.285714149475098}, {\"x\": 1.5102040767669678, \"y\": 7.530611991882324}, {\"x\": 1.59183669090271, \"y\": 7.775509834289551}, {\"x\": 1.6734693050384521, \"y\": 8.020407676696777}, {\"x\": 1.7551020383834839, \"y\": 8.26530647277832}, {\"x\": 1.836734652519226, \"y\": 8.510204315185547}, {\"x\": 1.9183673858642578, \"y\": 8.755102157592773}, {\"x\": 2.0, \"y\": 9.0}]}}, {\"mode\": \"vega-lite\"});\n",
       "</script>"
      ],
      "text/plain": [
       "alt.Chart(...)"
      ]
     },
     "execution_count": 45,
     "metadata": {},
     "output_type": "execute_result"
    }
   ],
   "source": [
    "m1,b1, m2, b2 = -1.5,-1.5,3,3\n",
    "\n",
    "x = torch.linspace(-2,2,50)\n",
    "f = partial(double_relu,m1,b1,m2,b2)\n",
    "y= f(x)\n",
    "\n",
    "selector_m =  alt.selection_single(name=\"selector_m\", \n",
    "                                fields=['m1'],\n",
    "                                bind=alt.binding_range(min=-3, max=3, step=0.1, name='M1'),\n",
    "                                init={'m1': m1}) \n",
    "selector_b = alt.selection_single(name=\"selector_b\",\n",
    "                                fields=['b1'], \n",
    "                                bind=alt.binding_range(min=-3, max=3, step=0.1, name='B'),\n",
    "                                init={'b1': b1})\n",
    "selector_mm =  alt.selection_single(name=\"selector_mm\", \n",
    "                                fields=['m2'],\n",
    "                                bind=alt.binding_range(min=-3, max=3, step=0.1, name='M2'),\n",
    "                                init={'m2': m2}) \n",
    "selector_bb = alt.selection_single(name=\"selector_bb\",\n",
    "                                fields=['b2'], \n",
    "                                bind=alt.binding_range(min=-3, max=3, step=0.1, name='B'),\n",
    "                                init={'b12': b2})\n",
    "\n",
    "data = pd.DataFrame({\"x\":x.numpy(),\"y\":y})\n",
    "\n",
    "line = alt.Chart(data=data,title=\"Double ReLu y = (mx + b) + (mx+b)\").mark_line(color=\"red\").encode(\n",
    "    x='x:Q',\n",
    "    y='y:Q',\n",
    ").transform_calculate(y=f\"(max(0,(selector_m.m1 * datum.x) + {b1})) + (max(0,(selector_mm.m2 * datum.x) + {b2}))\").properties(title=\"y = mx+b\").add_selection(selector_m).add_selection(selector_mm)\n",
    "\n",
    "line"
   ]
  },
  {
   "cell_type": "markdown",
   "id": "9b439f38-0d9a-45e1-b918-ee0e3d53fca4",
   "metadata": {},
   "source": [
    "### Draw the Owl Problem\n",
    "\n",
    "**\"At this point, we have the ability to draw an elbow/squiggle, if we connect enough of these elbows and squiggles together, we can approximate/fit any function in existence given enough elbows.\"**\n",
    "\n",
    "As mentioned by Jeremy, we run into the the 'draw the rest of the owl problem'. This fact seems rediculous, this is an important essence of deep learning and we've established every foundational peice of this 'magic'. Its absolutely mind blowing (to me at least) that this is the underlying mechanics of the kind of software that detects cancers and shazam's the song you're listening to."
   ]
  },
  {
   "cell_type": "markdown",
   "id": "bd538b2a-cb5b-46d2-9f89-333c36a7e007",
   "metadata": {},
   "source": [
    "![Draw the Rest of the Owl Meme](https://pbs.twimg.com/media/Bs13i6LCcAAvwCf.jpg)"
   ]
  },
  {
   "cell_type": "markdown",
   "id": "03e216f8-d458-43e5-94c6-74b697f7450b",
   "metadata": {},
   "source": [
    "Everything further in deep learning are tricks, methods, strategies, ideas, and efficient ways to play around and build upon this simple concept, honestly astonishing. It doesn't quite feel real to me but I can see Jeremy's point, given enough squiggles you could make any shape imaginable, with our ability to create a loss function and update our parameters accordingly, we can also automatically find the right values given we have enough squiggles which is a product of our model architecture.\n",
    "\n",
    "How do we do all this efficiently, in comes matrix calculations which allows us to combine a whole bunch of parameters multiplied by a whole bunch of other input values that we're feeding them."
   ]
  },
  {
   "cell_type": "markdown",
   "id": "8ed33ae2-eb20-4a6d-8c39-6e0ce98d22b0",
   "metadata": {},
   "source": [
    "### Matrix Calculations\n",
    "\n",
    "[Jeremy walks through an awesome site](http://matrixmultiplication.xyz/) that visually shows how matrix multiplication works. This really helps sink in how the process works, I think its naturally confusing because you have to have two matrices (tensors in our case) of different shapes and you topple one over on the side and slide it over like a window in order to multiply it by the other matrix as the website shows.\n",
    "\n",
    "Lets replicate the matrices (tensors) in python and step through each of the multiplications one by one to see how we arrive at our final tensor (matrix)."
   ]
  },
  {
   "cell_type": "code",
   "execution_count": 46,
   "id": "6ec8a579-d11c-454e-a456-20004e520f9a",
   "metadata": {},
   "outputs": [
    {
     "data": {
      "text/plain": [
       "(tensor([[1, 2, 1],\n",
       "         [0, 1, 1],\n",
       "         [2, 3, 1]]),\n",
       " tensor([[2, 5],\n",
       "         [6, 7],\n",
       "         [1, 8]]))"
      ]
     },
     "execution_count": 46,
     "metadata": {},
     "output_type": "execute_result"
    }
   ],
   "source": [
    "a = torch.tensor([[1,2,1],\n",
    "                  [0,1,1],\n",
    "                  [2,3,1]])\n",
    "\n",
    "x = torch.tensor([[2,5],\n",
    "                  [6,7],\n",
    "                  [1,8]])\n",
    "\n",
    "a,x"
   ]
  },
  {
   "cell_type": "markdown",
   "id": "6e87f583-699d-4aa7-95b9-9e05ae54c5c9",
   "metadata": {},
   "source": [
    "Ok so we've got two tensors, one which is 3x3 (rows x columns) and the other which is 3x2, if we multiply them together we will yield a 3x2 tensor.\n",
    "\n",
    "Lets also checkout the docs for pytorch's matrix multiplication method which is torch.mm(), we can also run the calculation by the syntax '@' as the operator, e.g 'a@x'"
   ]
  },
  {
   "cell_type": "code",
   "execution_count": 47,
   "id": "0a787caf-6f2e-436e-948b-c3b1105138a8",
   "metadata": {},
   "outputs": [
    {
     "data": {
      "text/plain": [
       "\u001b[1;31mDocstring:\u001b[0m\n",
       "mm(input, mat2, *, out=None) -> Tensor\n",
       "\n",
       "Performs a matrix multiplication of the matrices :attr:`input` and :attr:`mat2`.\n",
       "\n",
       "If :attr:`input` is a :math:`(n \\times m)` tensor, :attr:`mat2` is a\n",
       ":math:`(m \\times p)` tensor, :attr:`out` will be a :math:`(n \\times p)` tensor.\n",
       "\n",
       ".. note:: This function does not :ref:`broadcast <broadcasting-semantics>`.\n",
       "          For broadcasting matrix products, see :func:`torch.matmul`.\n",
       "\n",
       "Supports strided and sparse 2-D tensors as inputs, autograd with\n",
       "respect to strided inputs.\n",
       "\n",
       "This operation has support for arguments with :ref:`sparse layouts<sparse-docs>`.\n",
       "If :attr:`out` is provided it's layout will be used. Otherwise, the result\n",
       "layout will be deduced from that of :attr:`input`.\n",
       "\n",
       "\n",
       ".. warning::\n",
       "    Sparse support is a beta feature and some layout(s)/dtype/device combinations may not be supported,\n",
       "    or may not have autograd support. If you notice missing functionality please\n",
       "    open a feature request.\n",
       "\n",
       "This operator supports :ref:`TensorFloat32<tf32_on_ampere>`.\n",
       "\n",
       "On certain ROCm devices, when using float16 inputs this module will use :ref:`different precision<fp16_on_mi200>` for backward.\n",
       "\n",
       "Args:\n",
       "    input (Tensor): the first matrix to be matrix multiplied\n",
       "    mat2 (Tensor): the second matrix to be matrix multiplied\n",
       "\n",
       "Keyword args:\n",
       "    out (Tensor, optional): the output tensor.\n",
       "\n",
       "Example::\n",
       "\n",
       "    >>> mat1 = torch.randn(2, 3)\n",
       "    >>> mat2 = torch.randn(3, 3)\n",
       "    >>> torch.mm(mat1, mat2)\n",
       "    tensor([[ 0.4851,  0.5037, -0.3633],\n",
       "            [-0.0760, -3.6705,  2.4784]])\n",
       "\u001b[1;31mType:\u001b[0m      builtin_function_or_method\n"
      ]
     },
     "metadata": {},
     "output_type": "display_data"
    }
   ],
   "source": [
    "torch.mm?"
   ]
  },
  {
   "cell_type": "markdown",
   "id": "95cb0276-00d4-4588-9ccb-fffad8f73aaa",
   "metadata": {},
   "source": [
    "And lets run our matrix multiplication to see the result."
   ]
  },
  {
   "cell_type": "code",
   "execution_count": 48,
   "id": "1335f6ae-ae59-42af-ba17-a9a386f1a942",
   "metadata": {},
   "outputs": [
    {
     "data": {
      "text/plain": [
       "(tensor([[15, 27],\n",
       "         [ 7, 15],\n",
       "         [23, 39]]),\n",
       " tensor([[15, 27],\n",
       "         [ 7, 15],\n",
       "         [23, 39]]))"
      ]
     },
     "execution_count": 48,
     "metadata": {},
     "output_type": "execute_result"
    }
   ],
   "source": [
    "torch.mm(a,x), a@x"
   ]
  },
  {
   "cell_type": "markdown",
   "id": "0e4ef08a-18c5-4245-aeda-95b0451a9cb8",
   "metadata": {},
   "source": [
    "Awesome, looks just like the website demonstrated.\n",
    "\n",
    "As we tip the x tensor on its side to match the width of tensor a, our first set of calculations are ((2x1) + (6x2) + (1x1)) = 15. We can see the python indexation equivalent below which helps match up mentally how these calculations are done."
   ]
  },
  {
   "cell_type": "code",
   "execution_count": 49,
   "id": "b2f73a09-c71d-4fdd-acab-2b5fd38e5314",
   "metadata": {},
   "outputs": [
    {
     "data": {
      "text/plain": [
       "'(2 x 1) + (6 x 2) + (1 x 1)'"
      ]
     },
     "execution_count": 49,
     "metadata": {},
     "output_type": "execute_result"
    }
   ],
   "source": [
    "f\"({x[0,0]} x {a[0,0]}) + ({x[1,0]} x {a[0,1]}) + ({x[2,0]} x {a[0,2]})\""
   ]
  },
  {
   "cell_type": "markdown",
   "id": "d2c6344c-fab4-416c-ba4e-4d34bdb4261c",
   "metadata": {},
   "source": [
    "This gives us our first result of our output tensor which is '15', which we can see at the 0,0 index of our result.\n",
    "\n",
    "We then slide the 'x' tensor down one so we've now got two 'window' rows to calculate.\n",
    "\n",
    "We run the first row of calculations which is (5x1) + (7x2) + (8x1) = 27, again we can check the indexation in python and our result ends up in the 0,1 position of our output tensor"
   ]
  },
  {
   "cell_type": "code",
   "execution_count": 50,
   "id": "e3602169-b000-462a-86d5-6a39aadeb4c3",
   "metadata": {},
   "outputs": [
    {
     "data": {
      "text/plain": [
       "'(5 x 1) + (7 x 2) + (8 x 1)'"
      ]
     },
     "execution_count": 50,
     "metadata": {},
     "output_type": "execute_result"
    }
   ],
   "source": [
    "f\"({x[0,1]} x {a[0,0]}) + ({x[1,1]} x {a[0,1]}) + ({x[2,1]} x {a[0,2]})\""
   ]
  },
  {
   "cell_type": "markdown",
   "id": "f01e6eb5-a8d7-4643-a048-64c789342d55",
   "metadata": {},
   "source": [
    "At the same time we're also calculating the second row of (2x0) + (6x1) + (1x1) = 7 as our first 'column' of our x tensor is now being calculated against the second 'row' of our 'a' tensor. This output is stored at the 1,0 indexation of our output tensor."
   ]
  },
  {
   "cell_type": "code",
   "execution_count": 51,
   "id": "d27ae8b9-819a-4bbe-a86d-1fbc9b38ab7e",
   "metadata": {},
   "outputs": [
    {
     "data": {
      "text/plain": [
       "'(2 x 0) + (6 x 1) + (1 x 1)'"
      ]
     },
     "execution_count": 51,
     "metadata": {},
     "output_type": "execute_result"
    }
   ],
   "source": [
    "f\"({x[0,0]} x {a[1,0]}) + ({x[1,0]} x {a[1,1]}) + ({x[2,0]} x {a[1,2]})\""
   ]
  },
  {
   "cell_type": "markdown",
   "id": "c69202fa-c3f5-41d2-8361-a9a0469cf43b",
   "metadata": {},
   "source": [
    "Ok, I'm hoping that very explicit example in python in combination with the matrix multiplication website has knuckled down the laborious task of doing matrix multiplications. Thankfully as we saw, torch does all the magic and we don't have to do this hand-written work but scribing this down really matches up the theory with the python indexation vernacular so that they are welded together in my mind and I feel comfortable explaining the concept as well as demonstrating the mechanics of the interactions between the tensors.\n",
    "\n",
    "I did wonder what happens if the tensors are mis-shapen, so lets just add an extra row to our x tensor so that the 3 columns of tensor 'a' don't match up to the now 4 'rows' of our x tensor."
   ]
  },
  {
   "cell_type": "code",
   "execution_count": 52,
   "id": "94eaea83-8471-49c4-9503-0e9c2a3adfd6",
   "metadata": {},
   "outputs": [
    {
     "ename": "RuntimeError",
     "evalue": "mat1 and mat2 shapes cannot be multiplied (3x3 and 4x2)",
     "output_type": "error",
     "traceback": [
      "\u001b[1;31m---------------------------------------------------------------------------\u001b[0m",
      "\u001b[1;31mRuntimeError\u001b[0m                              Traceback (most recent call last)",
      "Cell \u001b[1;32mIn[52], line 10\u001b[0m\n\u001b[0;32m      1\u001b[0m a \u001b[38;5;241m=\u001b[39m torch\u001b[38;5;241m.\u001b[39mtensor([[\u001b[38;5;241m1\u001b[39m,\u001b[38;5;241m2\u001b[39m,\u001b[38;5;241m1\u001b[39m],\n\u001b[0;32m      2\u001b[0m                   [\u001b[38;5;241m0\u001b[39m,\u001b[38;5;241m1\u001b[39m,\u001b[38;5;241m1\u001b[39m],\n\u001b[0;32m      3\u001b[0m                   [\u001b[38;5;241m2\u001b[39m,\u001b[38;5;241m3\u001b[39m,\u001b[38;5;241m1\u001b[39m]])\n\u001b[0;32m      5\u001b[0m x \u001b[38;5;241m=\u001b[39m torch\u001b[38;5;241m.\u001b[39mtensor([[\u001b[38;5;241m2\u001b[39m,\u001b[38;5;241m5\u001b[39m],\n\u001b[0;32m      6\u001b[0m                   [\u001b[38;5;241m6\u001b[39m,\u001b[38;5;241m7\u001b[39m],\n\u001b[0;32m      7\u001b[0m                   [\u001b[38;5;241m1\u001b[39m,\u001b[38;5;241m8\u001b[39m],\n\u001b[0;32m      8\u001b[0m                   [\u001b[38;5;241m100\u001b[39m,\u001b[38;5;241m100\u001b[39m]])\n\u001b[1;32m---> 10\u001b[0m \u001b[43mtorch\u001b[49m\u001b[38;5;241;43m.\u001b[39;49m\u001b[43mmm\u001b[49m\u001b[43m(\u001b[49m\u001b[43ma\u001b[49m\u001b[43m,\u001b[49m\u001b[43mx\u001b[49m\u001b[43m)\u001b[49m\n",
      "\u001b[1;31mRuntimeError\u001b[0m: mat1 and mat2 shapes cannot be multiplied (3x3 and 4x2)"
     ]
    }
   ],
   "source": [
    "a = torch.tensor([[1,2,1],\n",
    "                  [0,1,1],\n",
    "                  [2,3,1]])\n",
    "\n",
    "x = torch.tensor([[2,5],\n",
    "                  [6,7],\n",
    "                  [1,8],\n",
    "                  [100,100]])\n",
    "\n",
    "torch.mm(a,x)"
   ]
  },
  {
   "cell_type": "markdown",
   "id": "32a57df0-06aa-475c-a677-33a57645e2f8",
   "metadata": {},
   "source": [
    "Turns out you can't, how bout that!\n",
    "\n",
    "I'm guessing you can add infinite rows to tensor 'a' however since the 'windowing' process doesn't change as the 3 'a' columns x 3 'x' rows match still works and there's simply more windowing to be done."
   ]
  },
  {
   "cell_type": "code",
   "execution_count": 53,
   "id": "fd893af0-fc7f-41c1-9018-c5593ff84d3e",
   "metadata": {},
   "outputs": [
    {
     "data": {
      "text/plain": [
       "tensor([[  15,   27],\n",
       "        [   7,   15],\n",
       "        [  23,   39],\n",
       "        [ 900, 2000],\n",
       "        [1800, 4000],\n",
       "        [2700, 6000]])"
      ]
     },
     "execution_count": 53,
     "metadata": {},
     "output_type": "execute_result"
    }
   ],
   "source": [
    "a = torch.tensor([[1,2,1],\n",
    "                  [0,1,1],\n",
    "                  [2,3,1],\n",
    "                  [100,100,100],\n",
    "                  [200,200,200],\n",
    "                  [300,300,300]])\n",
    "\n",
    "x = torch.tensor([[2,5],\n",
    "                  [6,7],\n",
    "                  [1,8]])\n",
    "\n",
    "torch.mm(a,x)"
   ]
  },
  {
   "cell_type": "markdown",
   "id": "2c91b996-84dd-4533-832f-f2a52159e72a",
   "metadata": {},
   "source": [
    "Cool, looks like that still functions fine, good to try these things out. I wondered if the 'x' tensor with its 4th row would just result in a (100x0) operation since there is nothing in tensor 'a' at that indexation (since it doesn't exist) but it looks like you'd simply have to reshape tensor 'a' and fill a value of 0 if you wanted that operation to happen.\n",
    "\n",
    "### Deep Learning with Excel\n",
    "\n",
    "[At this point in the lecture (1:04:22)](https://youtu.be/hBBOjCiFcuo?t=3862), Jeremy builds a deep learning model in excel, which is absolutely insane and proves to me he just operates on another vibrational level, plane, existence, whatever you want to call it. Who gets up in the morning and thinks of doing deep learning in excel?! Then again, he's got some deep (pun not indended but very much enjoyed) programming roots in APL and S which are kind of the roots of excel and Jeremy was doing deep learning in the 90s so it doesn't surprise me he natively thinks in this array programming style. Who knew consultants, accountants, etc are all just huge functional programming fans, the OOP vs functional factional wars continue and people don't even know they're fighting the war.\n",
    "\n",
    "That being said, its super cool, its a great demonstration of how it really is these fundamental calculations that we've done by hand which produce the deep learning outcomes we're seeing. Highly recommend the watch if you're in disbelief of what I'm writing here.\n",
    "\n",
    "I was originally thinking of writing this exercise in python but I'll admit its already been quite a substantial journey to walk through only the lecture content and I'd like to make sure I get through the book content as well before investing what will be a decent chunk of time to get it right. If you're reading this I haven't yet come back to revisit this part and re-implement the excel work, feel free to either remind me or be patient as I likely will come back and pythonify the amazing example that Jeremy works through, maybe we'll even use a new dataset."
   ]
  },
  {
   "cell_type": "markdown",
   "id": "963cd2ce-40ff-40a4-9856-8cbf22fac394",
   "metadata": {
    "tags": []
   },
   "source": [
    "## Book Content\n",
    "\n",
    "### Training a Digit Classifier\n",
    "\n",
    "We're going to wind back the clock to 1998 when the \"National Institute of Standards and Technology\" or 'NIST' collected ~60,000 training and ~10,000 testing images of hand written digits and MNIST was born. One of the most famous datasets in all of machines learning, the 'M' in MNIST comes from the \"Modified\" word since the original creators mixed the training and test samples together since NIST originally took their training samples from a different cohort (American Census Bureau Employees) to their training sample (American High School Students). [Thanks Wiki for the history lesson](https://en.wikipedia.org/wiki/MNIST_database), in the same year, Yann Lecun and his colleagues used a Neural Net named \"Lenet-5\" to demonstrate accurate recognition of the handwritten pictures. [Checkout this video of \"Lenet-1\"](https://youtu.be/FwFduRA_L6Q) which Yann states is \"the first convolutional network that could recognise handwritten digits with good speed and accuracy.\" Its honestly bonkers seeing how amazing this tech was back in 93 yet it still took another couple of decades to hit mainstream & for the brilliance to be recognised. Its amazing watching these absolute gangsters in this random basement build history making software like its nothing.\n",
    "\n",
    "Lets Begin!\n",
    "\n",
    "### 3 or 7?\n",
    "\n",
    "Lets download MNIST and then only get the threes and sevens, fastai has some awesome helpers to do this."
   ]
  },
  {
   "cell_type": "code",
   "execution_count": 54,
   "id": "ebd49745-5e15-4bd9-83a8-3d9703f2c137",
   "metadata": {},
   "outputs": [],
   "source": [
    "from fastai.vision.all import *\n",
    "from fastbook import *"
   ]
  },
  {
   "cell_type": "code",
   "execution_count": 55,
   "id": "df739185-f4e7-48b4-878c-df4a232d11e0",
   "metadata": {},
   "outputs": [
    {
     "data": {
      "text/plain": [
       "'https://s3.amazonaws.com/fast-ai-sample/mnist_sample.tgz'"
      ]
     },
     "execution_count": 55,
     "metadata": {},
     "output_type": "execute_result"
    }
   ],
   "source": [
    "URLs.MNIST_SAMPLE"
   ]
  },
  {
   "cell_type": "code",
   "execution_count": 56,
   "id": "a3bd9be3-0192-47e4-b719-63be85d6220c",
   "metadata": {},
   "outputs": [],
   "source": [
    "from pathlib import Path\n",
    "\n",
    "data_base = Path(\"../data/\")\n",
    "mnist_path = data_base / \"MNIST\""
   ]
  },
  {
   "cell_type": "code",
   "execution_count": 57,
   "id": "2620b300-20cf-490d-b270-a8aaa31478ea",
   "metadata": {},
   "outputs": [],
   "source": [
    "mnist_path.mkdir(exist_ok=True)"
   ]
  },
  {
   "cell_type": "code",
   "execution_count": 58,
   "id": "38f4cc15-114b-4587-bff1-81fb842da97f",
   "metadata": {},
   "outputs": [
    {
     "data": {
      "text/plain": [
       "Path('C:/Users/Nick/.fastai/data/mnist_sample')"
      ]
     },
     "execution_count": 58,
     "metadata": {},
     "output_type": "execute_result"
    }
   ],
   "source": [
    "untar_data(URLs.MNIST_SAMPLE)"
   ]
  },
  {
   "cell_type": "markdown",
   "id": "7e3b1650-1373-4cfc-ae82-bc32d2a31dae",
   "metadata": {},
   "source": [
    "I then move all my data from my .fastai home over to my created directory"
   ]
  },
  {
   "cell_type": "code",
   "execution_count": 59,
   "id": "5ba04bc8-8dfc-44dc-b430-3ab886584351",
   "metadata": {},
   "outputs": [
    {
     "data": {
      "text/plain": [
       "(#3) [Path('../data/MNIST/mnist_sample/labels.csv'),Path('../data/MNIST/mnist_sample/train'),Path('../data/MNIST/mnist_sample/valid')]"
      ]
     },
     "execution_count": 59,
     "metadata": {},
     "output_type": "execute_result"
    }
   ],
   "source": [
    "(mnist_path / \"mnist_sample\").ls()"
   ]
  },
  {
   "cell_type": "code",
   "execution_count": 60,
   "id": "dfef4dbb-dab9-4994-9888-8bc793d5f091",
   "metadata": {},
   "outputs": [
    {
     "data": {
      "text/plain": [
       "Path('../data/MNIST/mnist_sample')"
      ]
     },
     "execution_count": 60,
     "metadata": {},
     "output_type": "execute_result"
    }
   ],
   "source": [
    "sample_path = mnist_path / \"mnist_sample\"\n",
    "sample_path"
   ]
  },
  {
   "cell_type": "code",
   "execution_count": 61,
   "id": "b8850c8e-c393-4934-b745-cf497e8b8b23",
   "metadata": {},
   "outputs": [
    {
     "data": {
      "text/plain": [
       "(#2) [Path('../data/MNIST/mnist_sample/train/3'),Path('../data/MNIST/mnist_sample/train/7')]"
      ]
     },
     "execution_count": 61,
     "metadata": {},
     "output_type": "execute_result"
    }
   ],
   "source": [
    "(sample_path / \"train\").ls()"
   ]
  },
  {
   "cell_type": "markdown",
   "id": "af2f8ed8-52e6-4137-8a5f-ed42580e6403",
   "metadata": {},
   "source": [
    "Here are our threes and sevens, lets get them into separate variables"
   ]
  },
  {
   "cell_type": "code",
   "execution_count": 62,
   "id": "0db2804a-ec03-45cd-8ab2-d192396457b1",
   "metadata": {},
   "outputs": [
    {
     "data": {
      "text/plain": [
       "((#6131) [Path('../data/MNIST/mnist_sample/train/3/10.png'),Path('../data/MNIST/mnist_sample/train/3/10000.png'),Path('../data/MNIST/mnist_sample/train/3/10011.png'),Path('../data/MNIST/mnist_sample/train/3/10031.png'),Path('../data/MNIST/mnist_sample/train/3/10034.png'),Path('../data/MNIST/mnist_sample/train/3/10042.png'),Path('../data/MNIST/mnist_sample/train/3/10052.png'),Path('../data/MNIST/mnist_sample/train/3/1007.png'),Path('../data/MNIST/mnist_sample/train/3/10074.png'),Path('../data/MNIST/mnist_sample/train/3/10091.png')...],\n",
       " (#6265) [Path('../data/MNIST/mnist_sample/train/7/10002.png'),Path('../data/MNIST/mnist_sample/train/7/1001.png'),Path('../data/MNIST/mnist_sample/train/7/10014.png'),Path('../data/MNIST/mnist_sample/train/7/10019.png'),Path('../data/MNIST/mnist_sample/train/7/10039.png'),Path('../data/MNIST/mnist_sample/train/7/10046.png'),Path('../data/MNIST/mnist_sample/train/7/10050.png'),Path('../data/MNIST/mnist_sample/train/7/10063.png'),Path('../data/MNIST/mnist_sample/train/7/10077.png'),Path('../data/MNIST/mnist_sample/train/7/10086.png')...])"
      ]
     },
     "execution_count": 62,
     "metadata": {},
     "output_type": "execute_result"
    }
   ],
   "source": [
    "threes = (sample_path / \"train/3\").ls().sorted()\n",
    "sevens = (sample_path / \"train/7\").ls().sorted()\n",
    "threes, sevens"
   ]
  },
  {
   "cell_type": "markdown",
   "id": "40b46478-300c-48d8-b845-01ccc1be36d0",
   "metadata": {},
   "source": [
    "Lets checkout a 3"
   ]
  },
  {
   "cell_type": "code",
   "execution_count": 63,
   "id": "d505e0e5-dd51-457c-b88e-6e8ed5d4ba22",
   "metadata": {},
   "outputs": [
    {
     "data": {
      "image/png": "[encoded data removed]",
      "text/plain": [
       "<PIL.PngImagePlugin.PngImageFile image mode=L size=28x28>"
      ]
     },
     "execution_count": 63,
     "metadata": {},
     "output_type": "execute_result"
    }
   ],
   "source": [
    "im3 = Image.open(threes[1])\n",
    "im3"
   ]
  },
  {
   "cell_type": "markdown",
   "id": "ddc60f13-7cfe-4cfe-8725-1cbaea9e436a",
   "metadata": {},
   "source": [
    "Its a little baby, so tiny! We can now convert this image into a tensor/array which is what we were playing with earlier in the matrix multiplication section."
   ]
  },
  {
   "cell_type": "code",
   "execution_count": 64,
   "id": "8bf6d904-9d62-4cfa-9cde-27c74309a4b7",
   "metadata": {},
   "outputs": [
    {
     "data": {
      "text/plain": [
       "array([[  0,   0,   0,   0,   0,   0,   0,   0,   0,   0,   0,   0,   0,   0,   0,   0,   0,   0,   0,   0,   0,   0,   0,   0,   0,   0,   0,   0],\n",
       "       [  0,   0,   0,   0,   0,   0,   0,   0,   0,   0,   0,   0,   0,   0,   0,   0,   0,   0,   0,   0,   0,   0,   0,   0,   0,   0,   0,   0],\n",
       "       [  0,   0,   0,   0,   0,   0,   0,   0,   0,   0,   0,   0,   0,   0,   0,   0,   0,   0,   0,   0,   0,   0,   0,   0,   0,   0,   0,   0],\n",
       "       [  0,   0,   0,   0,   0,   0,   0,   0,   0,   0,   0,   0,   0,   0,   0,   0,   0,   0,   0,   0,   0,   0,   0,   0,   0,   0,   0,   0],\n",
       "       [  0,   0,   0,   0,   0,   0,   0,   0,   0,   0,   0,   0,   0,   0,   0,   0,   0,   0,   0,   0,   0,   0,   0,   0,   0,   0,   0,   0],\n",
       "       [  0,   0,   0,   0,   0,   0,   0,   0,   0,  29, 150, 195, 254, 255, 254, 176, 193, 150,  96,   0,   0,   0,   0,   0,   0,   0,   0,   0],\n",
       "       [  0,   0,   0,   0,   0,   0,   0,  48, 166, 224, 253, 253, 234, 196, 253, 253, 253, 253, 233,   0,   0,   0,   0,   0,   0,   0,   0,   0],\n",
       "       [  0,   0,   0,   0,   0,  93, 244, 249, 253, 187,  46,  10,   8,   4,  10, 194, 253, 253, 233,   0,   0,   0,   0,   0,   0,   0,   0,   0],\n",
       "       [  0,   0,   0,   0,   0, 107, 253, 253, 230,  48,   0,   0,   0,   0,   0, 192, 253, 253, 156,   0,   0,   0,   0,   0,   0,   0,   0,   0],\n",
       "       [  0,   0,   0,   0,   0,   3,  20,  20,  15,   0,   0,   0,   0,   0,  43, 224, 253, 245,  74,   0,   0,   0,   0,   0,   0,   0,   0,   0],\n",
       "       [  0,   0,   0,   0,   0,   0,   0,   0,   0,   0,   0,   0,   0,   0, 249, 253, 245, 126,   0,   0,   0,   0,   0,   0,   0,   0,   0,   0],\n",
       "       [  0,   0,   0,   0,   0,   0,   0,   0,   0,   0,   0,  14, 101, 223, 253, 248, 124,   0,   0,   0,   0,   0,   0,   0,   0,   0,   0,   0],\n",
       "       [  0,   0,   0,   0,   0,   0,   0,   0,   0,  11, 166, 239, 253, 253, 253, 187,  30,   0,   0,   0,   0,   0,   0,   0,   0,   0,   0,   0],\n",
       "       [  0,   0,   0,   0,   0,   0,   0,   0,   0,  16, 248, 250, 253, 253, 253, 253, 232, 213, 111,   2,   0,   0,   0,   0,   0,   0,   0,   0],\n",
       "       [  0,   0,   0,   0,   0,   0,   0,   0,   0,   0,   0,  43,  98,  98, 208, 253, 253, 253, 253, 187,  22,   0,   0,   0,   0,   0,   0,   0],\n",
       "       [  0,   0,   0,   0,   0,   0,   0,   0,   0,   0,   0,   0,   0,   0,   9,  51, 119, 253, 253, 253,  76,   0,   0,   0,   0,   0,   0,   0],\n",
       "       [  0,   0,   0,   0,   0,   0,   0,   0,   0,   0,   0,   0,   0,   0,   0,   0,   1, 183, 253, 253, 139,   0,   0,   0,   0,   0,   0,   0],\n",
       "       [  0,   0,   0,   0,   0,   0,   0,   0,   0,   0,   0,   0,   0,   0,   0,   0,   0, 182, 253, 253, 104,   0,   0,   0,   0,   0,   0,   0],\n",
       "       [  0,   0,   0,   0,   0,   0,   0,   0,   0,   0,   0,   0,   0,   0,   0,   0,  85, 249, 253, 253,  36,   0,   0,   0,   0,   0,   0,   0],\n",
       "       [  0,   0,   0,   0,   0,   0,   0,   0,   0,   0,   0,   0,   0,   0,   0,  60, 214, 253, 253, 173,  11,   0,   0,   0,   0,   0,   0,   0],\n",
       "       [  0,   0,   0,   0,   0,   0,   0,   0,   0,   0,   0,   0,   0,   0,  98, 247, 253, 253, 226,   9,   0,   0,   0,   0,   0,   0,   0,   0],\n",
       "       [  0,   0,   0,   0,   0,   0,   0,   0,   0,   0,   0,   0,  42, 150, 252, 253, 253, 233,  53,   0,   0,   0,   0,   0,   0,   0,   0,   0],\n",
       "       [  0,   0,   0,   0,   0,   0,  42, 115,  42,  60, 115, 159, 240, 253, 253, 250, 175,  25,   0,   0,   0,   0,   0,   0,   0,   0,   0,   0],\n",
       "       [  0,   0,   0,   0,   0,   0, 187, 253, 253, 253, 253, 253, 253, 253, 197,  86,   0,   0,   0,   0,   0,   0,   0,   0,   0,   0,   0,   0],\n",
       "       [  0,   0,   0,   0,   0,   0, 103, 253, 253, 253, 253, 253, 232,  67,   1,   0,   0,   0,   0,   0,   0,   0,   0,   0,   0,   0,   0,   0],\n",
       "       [  0,   0,   0,   0,   0,   0,   0,   0,   0,   0,   0,   0,   0,   0,   0,   0,   0,   0,   0,   0,   0,   0,   0,   0,   0,   0,   0,   0],\n",
       "       [  0,   0,   0,   0,   0,   0,   0,   0,   0,   0,   0,   0,   0,   0,   0,   0,   0,   0,   0,   0,   0,   0,   0,   0,   0,   0,   0,   0],\n",
       "       [  0,   0,   0,   0,   0,   0,   0,   0,   0,   0,   0,   0,   0,   0,   0,   0,   0,   0,   0,   0,   0,   0,   0,   0,   0,   0,   0,   0]], dtype=uint8)"
      ]
     },
     "execution_count": 64,
     "metadata": {},
     "output_type": "execute_result"
    }
   ],
   "source": [
    "array(im3)"
   ]
  },
  {
   "cell_type": "markdown",
   "id": "3cdc489e-7c97-4481-abfe-ccfb12cb5891",
   "metadata": {},
   "source": [
    "I'm going to take a stab and say that the value of the number is how light or dark that specific pixel is, black being 255 and pure white being 0. Its connecting for me how the tensor calculations we were doing earlier are so applicable to working with images, underneath they're just sneaky matrix friends. We can make it a tensor as well:"
   ]
  },
  {
   "cell_type": "code",
   "execution_count": 65,
   "id": "19725a3d-3ae4-4e7c-8428-8efb3ecd7cf0",
   "metadata": {},
   "outputs": [
    {
     "data": {
      "text/plain": [
       "(tensor([[  0,   0,   0,   0,   0,   0,   0,   0,   0,   0,   0,   0,   0,   0,   0,   0,   0,   0,   0,   0,   0,   0,   0,   0,   0,   0,   0,   0],\n",
       "         [  0,   0,   0,   0,   0,   0,   0,   0,   0,   0,   0,   0,   0,   0,   0,   0,   0,   0,   0,   0,   0,   0,   0,   0,   0,   0,   0,   0],\n",
       "         [  0,   0,   0,   0,   0,   0,   0,   0,   0,   0,   0,   0,   0,   0,   0,   0,   0,   0,   0,   0,   0,   0,   0,   0,   0,   0,   0,   0],\n",
       "         [  0,   0,   0,   0,   0,   0,   0,   0,   0,   0,   0,   0,   0,   0,   0,   0,   0,   0,   0,   0,   0,   0,   0,   0,   0,   0,   0,   0],\n",
       "         [  0,   0,   0,   0,   0,   0,   0,   0,   0,   0,   0,   0,   0,   0,   0,   0,   0,   0,   0,   0,   0,   0,   0,   0,   0,   0,   0,   0],\n",
       "         [  0,   0,   0,   0,   0,   0,   0,   0,   0,  29, 150, 195, 254, 255, 254, 176, 193, 150,  96,   0,   0,   0,   0,   0,   0,   0,   0,   0],\n",
       "         [  0,   0,   0,   0,   0,   0,   0,  48, 166, 224, 253, 253, 234, 196, 253, 253, 253, 253, 233,   0,   0,   0,   0,   0,   0,   0,   0,   0],\n",
       "         [  0,   0,   0,   0,   0,  93, 244, 249, 253, 187,  46,  10,   8,   4,  10, 194, 253, 253, 233,   0,   0,   0,   0,   0,   0,   0,   0,   0],\n",
       "         [  0,   0,   0,   0,   0, 107, 253, 253, 230,  48,   0,   0,   0,   0,   0, 192, 253, 253, 156,   0,   0,   0,   0,   0,   0,   0,   0,   0],\n",
       "         [  0,   0,   0,   0,   0,   3,  20,  20,  15,   0,   0,   0,   0,   0,  43, 224, 253, 245,  74,   0,   0,   0,   0,   0,   0,   0,   0,   0],\n",
       "         [  0,   0,   0,   0,   0,   0,   0,   0,   0,   0,   0,   0,   0,   0, 249, 253, 245, 126,   0,   0,   0,   0,   0,   0,   0,   0,   0,   0],\n",
       "         [  0,   0,   0,   0,   0,   0,   0,   0,   0,   0,   0,  14, 101, 223, 253, 248, 124,   0,   0,   0,   0,   0,   0,   0,   0,   0,   0,   0],\n",
       "         [  0,   0,   0,   0,   0,   0,   0,   0,   0,  11, 166, 239, 253, 253, 253, 187,  30,   0,   0,   0,   0,   0,   0,   0,   0,   0,   0,   0],\n",
       "         [  0,   0,   0,   0,   0,   0,   0,   0,   0,  16, 248, 250, 253, 253, 253, 253, 232, 213, 111,   2,   0,   0,   0,   0,   0,   0,   0,   0],\n",
       "         [  0,   0,   0,   0,   0,   0,   0,   0,   0,   0,   0,  43,  98,  98, 208, 253, 253, 253, 253, 187,  22,   0,   0,   0,   0,   0,   0,   0],\n",
       "         [  0,   0,   0,   0,   0,   0,   0,   0,   0,   0,   0,   0,   0,   0,   9,  51, 119, 253, 253, 253,  76,   0,   0,   0,   0,   0,   0,   0],\n",
       "         [  0,   0,   0,   0,   0,   0,   0,   0,   0,   0,   0,   0,   0,   0,   0,   0,   1, 183, 253, 253, 139,   0,   0,   0,   0,   0,   0,   0],\n",
       "         [  0,   0,   0,   0,   0,   0,   0,   0,   0,   0,   0,   0,   0,   0,   0,   0,   0, 182, 253, 253, 104,   0,   0,   0,   0,   0,   0,   0],\n",
       "         [  0,   0,   0,   0,   0,   0,   0,   0,   0,   0,   0,   0,   0,   0,   0,   0,  85, 249, 253, 253,  36,   0,   0,   0,   0,   0,   0,   0],\n",
       "         [  0,   0,   0,   0,   0,   0,   0,   0,   0,   0,   0,   0,   0,   0,   0,  60, 214, 253, 253, 173,  11,   0,   0,   0,   0,   0,   0,   0],\n",
       "         [  0,   0,   0,   0,   0,   0,   0,   0,   0,   0,   0,   0,   0,   0,  98, 247, 253, 253, 226,   9,   0,   0,   0,   0,   0,   0,   0,   0],\n",
       "         [  0,   0,   0,   0,   0,   0,   0,   0,   0,   0,   0,   0,  42, 150, 252, 253, 253, 233,  53,   0,   0,   0,   0,   0,   0,   0,   0,   0],\n",
       "         [  0,   0,   0,   0,   0,   0,  42, 115,  42,  60, 115, 159, 240, 253, 253, 250, 175,  25,   0,   0,   0,   0,   0,   0,   0,   0,   0,   0],\n",
       "         [  0,   0,   0,   0,   0,   0, 187, 253, 253, 253, 253, 253, 253, 253, 197,  86,   0,   0,   0,   0,   0,   0,   0,   0,   0,   0,   0,   0],\n",
       "         [  0,   0,   0,   0,   0,   0, 103, 253, 253, 253, 253, 253, 232,  67,   1,   0,   0,   0,   0,   0,   0,   0,   0,   0,   0,   0,   0,   0],\n",
       "         [  0,   0,   0,   0,   0,   0,   0,   0,   0,   0,   0,   0,   0,   0,   0,   0,   0,   0,   0,   0,   0,   0,   0,   0,   0,   0,   0,   0],\n",
       "         [  0,   0,   0,   0,   0,   0,   0,   0,   0,   0,   0,   0,   0,   0,   0,   0,   0,   0,   0,   0,   0,   0,   0,   0,   0,   0,   0,   0],\n",
       "         [  0,   0,   0,   0,   0,   0,   0,   0,   0,   0,   0,   0,   0,   0,   0,   0,   0,   0,   0,   0,   0,   0,   0,   0,   0,   0,   0,   0]], dtype=torch.uint8),\n",
       " torch.Size([28, 28]))"
      ]
     },
     "execution_count": 65,
     "metadata": {},
     "output_type": "execute_result"
    }
   ],
   "source": [
    "tensor(im3), tensor(im3).shape"
   ]
  },
  {
   "cell_type": "markdown",
   "id": "03e771cb-999e-4456-8c14-9ff8206aebe0",
   "metadata": {},
   "source": [
    "Only 28,28 pixels but we can totally workout what we're seeing with some detail, how cool. We can index into these tensors like we did earlier when walking through matrix multiplication, fastai has a cool trick to show you the instensity of the pixels via dataframes:"
   ]
  },
  {
   "cell_type": "code",
   "execution_count": 66,
   "id": "a8b9479c-195b-429b-b802-671ab3c89c33",
   "metadata": {},
   "outputs": [
    {
     "data": {
      "text/html": [
       "<style type=\"text/css\">\n",
       "#T_5f8a4_row0_col0, #T_5f8a4_row0_col1, #T_5f8a4_row0_col2, #T_5f8a4_row0_col3, #T_5f8a4_row0_col4, #T_5f8a4_row0_col5, #T_5f8a4_row0_col6, #T_5f8a4_row0_col7, #T_5f8a4_row0_col8, #T_5f8a4_row0_col9, #T_5f8a4_row0_col10, #T_5f8a4_row0_col11, #T_5f8a4_row0_col12, #T_5f8a4_row0_col13, #T_5f8a4_row0_col14, #T_5f8a4_row0_col15, #T_5f8a4_row0_col16, #T_5f8a4_row0_col17, #T_5f8a4_row0_col18, #T_5f8a4_row0_col19, #T_5f8a4_row0_col20, #T_5f8a4_row0_col21, #T_5f8a4_row0_col22, #T_5f8a4_row0_col23, #T_5f8a4_row0_col24, #T_5f8a4_row0_col25, #T_5f8a4_row0_col26, #T_5f8a4_row0_col27, #T_5f8a4_row1_col0, #T_5f8a4_row1_col1, #T_5f8a4_row1_col2, #T_5f8a4_row1_col3, #T_5f8a4_row1_col4, #T_5f8a4_row1_col5, #T_5f8a4_row1_col6, #T_5f8a4_row1_col7, #T_5f8a4_row1_col8, #T_5f8a4_row1_col9, #T_5f8a4_row1_col10, #T_5f8a4_row1_col11, #T_5f8a4_row1_col12, #T_5f8a4_row1_col13, #T_5f8a4_row1_col14, #T_5f8a4_row1_col15, #T_5f8a4_row1_col16, #T_5f8a4_row1_col17, #T_5f8a4_row1_col18, #T_5f8a4_row1_col19, #T_5f8a4_row1_col20, #T_5f8a4_row1_col21, #T_5f8a4_row1_col22, #T_5f8a4_row1_col23, #T_5f8a4_row1_col24, #T_5f8a4_row1_col25, #T_5f8a4_row1_col26, #T_5f8a4_row1_col27, #T_5f8a4_row2_col0, #T_5f8a4_row2_col1, #T_5f8a4_row2_col2, #T_5f8a4_row2_col3, #T_5f8a4_row2_col4, #T_5f8a4_row2_col5, #T_5f8a4_row2_col6, #T_5f8a4_row2_col7, #T_5f8a4_row2_col8, #T_5f8a4_row2_col9, #T_5f8a4_row2_col10, #T_5f8a4_row2_col11, #T_5f8a4_row2_col12, #T_5f8a4_row2_col13, #T_5f8a4_row2_col14, #T_5f8a4_row2_col15, #T_5f8a4_row2_col16, #T_5f8a4_row2_col17, #T_5f8a4_row2_col18, #T_5f8a4_row2_col19, #T_5f8a4_row2_col20, #T_5f8a4_row2_col21, #T_5f8a4_row2_col22, #T_5f8a4_row2_col23, #T_5f8a4_row2_col24, #T_5f8a4_row2_col25, #T_5f8a4_row2_col26, #T_5f8a4_row2_col27, #T_5f8a4_row3_col0, #T_5f8a4_row3_col1, #T_5f8a4_row3_col2, #T_5f8a4_row3_col3, #T_5f8a4_row3_col4, #T_5f8a4_row3_col5, #T_5f8a4_row3_col6, #T_5f8a4_row3_col7, #T_5f8a4_row3_col8, #T_5f8a4_row3_col9, #T_5f8a4_row3_col10, #T_5f8a4_row3_col11, #T_5f8a4_row3_col12, #T_5f8a4_row3_col13, #T_5f8a4_row3_col14, #T_5f8a4_row3_col15, #T_5f8a4_row3_col16, #T_5f8a4_row3_col17, #T_5f8a4_row3_col18, #T_5f8a4_row3_col19, #T_5f8a4_row3_col20, #T_5f8a4_row3_col21, #T_5f8a4_row3_col22, #T_5f8a4_row3_col23, #T_5f8a4_row3_col24, #T_5f8a4_row3_col25, #T_5f8a4_row3_col26, #T_5f8a4_row3_col27, #T_5f8a4_row4_col0, #T_5f8a4_row4_col1, #T_5f8a4_row4_col2, #T_5f8a4_row4_col3, #T_5f8a4_row4_col4, #T_5f8a4_row4_col5, #T_5f8a4_row4_col6, #T_5f8a4_row4_col7, #T_5f8a4_row4_col8, #T_5f8a4_row4_col9, #T_5f8a4_row4_col10, #T_5f8a4_row4_col11, #T_5f8a4_row4_col12, #T_5f8a4_row4_col13, #T_5f8a4_row4_col14, #T_5f8a4_row4_col15, #T_5f8a4_row4_col16, #T_5f8a4_row4_col17, #T_5f8a4_row4_col18, #T_5f8a4_row4_col19, #T_5f8a4_row4_col20, #T_5f8a4_row4_col21, #T_5f8a4_row4_col22, #T_5f8a4_row4_col23, #T_5f8a4_row4_col24, #T_5f8a4_row4_col25, #T_5f8a4_row4_col26, #T_5f8a4_row4_col27, #T_5f8a4_row5_col0, #T_5f8a4_row5_col1, #T_5f8a4_row5_col2, #T_5f8a4_row5_col3, #T_5f8a4_row5_col4, #T_5f8a4_row5_col5, #T_5f8a4_row5_col6, #T_5f8a4_row5_col7, #T_5f8a4_row5_col8, #T_5f8a4_row5_col19, #T_5f8a4_row5_col20, #T_5f8a4_row5_col21, #T_5f8a4_row5_col22, #T_5f8a4_row5_col23, #T_5f8a4_row5_col24, #T_5f8a4_row5_col25, #T_5f8a4_row5_col26, #T_5f8a4_row5_col27, #T_5f8a4_row6_col0, #T_5f8a4_row6_col1, #T_5f8a4_row6_col2, #T_5f8a4_row6_col3, #T_5f8a4_row6_col4, #T_5f8a4_row6_col5, #T_5f8a4_row6_col6, #T_5f8a4_row6_col19, #T_5f8a4_row6_col20, #T_5f8a4_row6_col21, #T_5f8a4_row6_col22, #T_5f8a4_row6_col23, #T_5f8a4_row6_col24, #T_5f8a4_row6_col25, #T_5f8a4_row6_col26, #T_5f8a4_row6_col27, #T_5f8a4_row7_col0, #T_5f8a4_row7_col1, #T_5f8a4_row7_col2, #T_5f8a4_row7_col3, #T_5f8a4_row7_col4, #T_5f8a4_row7_col19, #T_5f8a4_row7_col20, #T_5f8a4_row7_col21, #T_5f8a4_row7_col22, #T_5f8a4_row7_col23, #T_5f8a4_row7_col24, #T_5f8a4_row7_col25, #T_5f8a4_row7_col26, #T_5f8a4_row7_col27, #T_5f8a4_row8_col0, #T_5f8a4_row8_col1, #T_5f8a4_row8_col2, #T_5f8a4_row8_col3, #T_5f8a4_row8_col4, #T_5f8a4_row8_col10, #T_5f8a4_row8_col11, #T_5f8a4_row8_col12, #T_5f8a4_row8_col13, #T_5f8a4_row8_col14, #T_5f8a4_row8_col19, #T_5f8a4_row8_col20, #T_5f8a4_row8_col21, #T_5f8a4_row8_col22, #T_5f8a4_row8_col23, #T_5f8a4_row8_col24, #T_5f8a4_row8_col25, #T_5f8a4_row8_col26, #T_5f8a4_row8_col27, #T_5f8a4_row9_col0, #T_5f8a4_row9_col1, #T_5f8a4_row9_col2, #T_5f8a4_row9_col3, #T_5f8a4_row9_col4, #T_5f8a4_row9_col9, #T_5f8a4_row9_col10, #T_5f8a4_row9_col11, #T_5f8a4_row9_col12, #T_5f8a4_row9_col13, #T_5f8a4_row9_col19, #T_5f8a4_row9_col20, #T_5f8a4_row9_col21, #T_5f8a4_row9_col22, #T_5f8a4_row9_col23, #T_5f8a4_row9_col24, #T_5f8a4_row9_col25, #T_5f8a4_row9_col26, #T_5f8a4_row9_col27, #T_5f8a4_row10_col0, #T_5f8a4_row10_col1, #T_5f8a4_row10_col2, #T_5f8a4_row10_col3, #T_5f8a4_row10_col4, #T_5f8a4_row10_col5, #T_5f8a4_row10_col6, #T_5f8a4_row10_col7, #T_5f8a4_row10_col8, #T_5f8a4_row10_col9, #T_5f8a4_row10_col10, #T_5f8a4_row10_col11, #T_5f8a4_row10_col12, #T_5f8a4_row10_col13, #T_5f8a4_row10_col18, #T_5f8a4_row10_col19, #T_5f8a4_row10_col20, #T_5f8a4_row10_col21, #T_5f8a4_row10_col22, #T_5f8a4_row10_col23, #T_5f8a4_row10_col24, #T_5f8a4_row10_col25, #T_5f8a4_row10_col26, #T_5f8a4_row10_col27, #T_5f8a4_row11_col0, #T_5f8a4_row11_col1, #T_5f8a4_row11_col2, #T_5f8a4_row11_col3, #T_5f8a4_row11_col4, #T_5f8a4_row11_col5, #T_5f8a4_row11_col6, #T_5f8a4_row11_col7, #T_5f8a4_row11_col8, #T_5f8a4_row11_col9, #T_5f8a4_row11_col10, #T_5f8a4_row11_col17, #T_5f8a4_row11_col18, #T_5f8a4_row11_col19, #T_5f8a4_row11_col20, #T_5f8a4_row11_col21, #T_5f8a4_row11_col22, #T_5f8a4_row11_col23, #T_5f8a4_row11_col24, #T_5f8a4_row11_col25, #T_5f8a4_row11_col26, #T_5f8a4_row11_col27, #T_5f8a4_row12_col0, #T_5f8a4_row12_col1, #T_5f8a4_row12_col2, #T_5f8a4_row12_col3, #T_5f8a4_row12_col4, #T_5f8a4_row12_col5, #T_5f8a4_row12_col6, #T_5f8a4_row12_col7, #T_5f8a4_row12_col8, #T_5f8a4_row12_col17, #T_5f8a4_row12_col18, #T_5f8a4_row12_col19, #T_5f8a4_row12_col20, #T_5f8a4_row12_col21, #T_5f8a4_row12_col22, #T_5f8a4_row12_col23, #T_5f8a4_row12_col24, #T_5f8a4_row12_col25, #T_5f8a4_row12_col26, #T_5f8a4_row12_col27, #T_5f8a4_row13_col0, #T_5f8a4_row13_col1, #T_5f8a4_row13_col2, #T_5f8a4_row13_col3, #T_5f8a4_row13_col4, #T_5f8a4_row13_col5, #T_5f8a4_row13_col6, #T_5f8a4_row13_col7, #T_5f8a4_row13_col8, #T_5f8a4_row13_col20, #T_5f8a4_row13_col21, #T_5f8a4_row13_col22, #T_5f8a4_row13_col23, #T_5f8a4_row13_col24, #T_5f8a4_row13_col25, #T_5f8a4_row13_col26, #T_5f8a4_row13_col27, #T_5f8a4_row14_col0, #T_5f8a4_row14_col1, #T_5f8a4_row14_col2, #T_5f8a4_row14_col3, #T_5f8a4_row14_col4, #T_5f8a4_row14_col5, #T_5f8a4_row14_col6, #T_5f8a4_row14_col7, #T_5f8a4_row14_col8, #T_5f8a4_row14_col9, #T_5f8a4_row14_col10, #T_5f8a4_row14_col21, #T_5f8a4_row14_col22, #T_5f8a4_row14_col23, #T_5f8a4_row14_col24, #T_5f8a4_row14_col25, #T_5f8a4_row14_col26, #T_5f8a4_row14_col27, #T_5f8a4_row15_col0, #T_5f8a4_row15_col1, #T_5f8a4_row15_col2, #T_5f8a4_row15_col3, #T_5f8a4_row15_col4, #T_5f8a4_row15_col5, #T_5f8a4_row15_col6, #T_5f8a4_row15_col7, #T_5f8a4_row15_col8, #T_5f8a4_row15_col9, #T_5f8a4_row15_col10, #T_5f8a4_row15_col11, #T_5f8a4_row15_col12, #T_5f8a4_row15_col13, #T_5f8a4_row15_col21, #T_5f8a4_row15_col22, #T_5f8a4_row15_col23, #T_5f8a4_row15_col24, #T_5f8a4_row15_col25, #T_5f8a4_row15_col26, #T_5f8a4_row15_col27, #T_5f8a4_row16_col0, #T_5f8a4_row16_col1, #T_5f8a4_row16_col2, #T_5f8a4_row16_col3, #T_5f8a4_row16_col4, #T_5f8a4_row16_col5, #T_5f8a4_row16_col6, #T_5f8a4_row16_col7, #T_5f8a4_row16_col8, #T_5f8a4_row16_col9, #T_5f8a4_row16_col10, #T_5f8a4_row16_col11, #T_5f8a4_row16_col12, #T_5f8a4_row16_col13, #T_5f8a4_row16_col14, #T_5f8a4_row16_col15, #T_5f8a4_row16_col16, #T_5f8a4_row16_col21, #T_5f8a4_row16_col22, #T_5f8a4_row16_col23, #T_5f8a4_row16_col24, #T_5f8a4_row16_col25, #T_5f8a4_row16_col26, #T_5f8a4_row16_col27, #T_5f8a4_row17_col0, #T_5f8a4_row17_col1, #T_5f8a4_row17_col2, #T_5f8a4_row17_col3, #T_5f8a4_row17_col4, #T_5f8a4_row17_col5, #T_5f8a4_row17_col6, #T_5f8a4_row17_col7, #T_5f8a4_row17_col8, #T_5f8a4_row17_col9, #T_5f8a4_row17_col10, #T_5f8a4_row17_col11, #T_5f8a4_row17_col12, #T_5f8a4_row17_col13, #T_5f8a4_row17_col14, #T_5f8a4_row17_col15, #T_5f8a4_row17_col16, #T_5f8a4_row17_col21, #T_5f8a4_row17_col22, #T_5f8a4_row17_col23, #T_5f8a4_row17_col24, #T_5f8a4_row17_col25, #T_5f8a4_row17_col26, #T_5f8a4_row17_col27, #T_5f8a4_row18_col0, #T_5f8a4_row18_col1, #T_5f8a4_row18_col2, #T_5f8a4_row18_col3, #T_5f8a4_row18_col4, #T_5f8a4_row18_col5, #T_5f8a4_row18_col6, #T_5f8a4_row18_col7, #T_5f8a4_row18_col8, #T_5f8a4_row18_col9, #T_5f8a4_row18_col10, #T_5f8a4_row18_col11, #T_5f8a4_row18_col12, #T_5f8a4_row18_col13, #T_5f8a4_row18_col14, #T_5f8a4_row18_col15, #T_5f8a4_row18_col21, #T_5f8a4_row18_col22, #T_5f8a4_row18_col23, #T_5f8a4_row18_col24, #T_5f8a4_row18_col25, #T_5f8a4_row18_col26, #T_5f8a4_row18_col27, #T_5f8a4_row19_col0, #T_5f8a4_row19_col1, #T_5f8a4_row19_col2, #T_5f8a4_row19_col3, #T_5f8a4_row19_col4, #T_5f8a4_row19_col5, #T_5f8a4_row19_col6, #T_5f8a4_row19_col7, #T_5f8a4_row19_col8, #T_5f8a4_row19_col9, #T_5f8a4_row19_col10, #T_5f8a4_row19_col11, #T_5f8a4_row19_col12, #T_5f8a4_row19_col13, #T_5f8a4_row19_col14, #T_5f8a4_row19_col21, #T_5f8a4_row19_col22, #T_5f8a4_row19_col23, #T_5f8a4_row19_col24, #T_5f8a4_row19_col25, #T_5f8a4_row19_col26, #T_5f8a4_row19_col27, #T_5f8a4_row20_col0, #T_5f8a4_row20_col1, #T_5f8a4_row20_col2, #T_5f8a4_row20_col3, #T_5f8a4_row20_col4, #T_5f8a4_row20_col5, #T_5f8a4_row20_col6, #T_5f8a4_row20_col7, #T_5f8a4_row20_col8, #T_5f8a4_row20_col9, #T_5f8a4_row20_col10, #T_5f8a4_row20_col11, #T_5f8a4_row20_col12, #T_5f8a4_row20_col13, #T_5f8a4_row20_col20, #T_5f8a4_row20_col21, #T_5f8a4_row20_col22, #T_5f8a4_row20_col23, #T_5f8a4_row20_col24, #T_5f8a4_row20_col25, #T_5f8a4_row20_col26, #T_5f8a4_row20_col27, #T_5f8a4_row21_col0, #T_5f8a4_row21_col1, #T_5f8a4_row21_col2, #T_5f8a4_row21_col3, #T_5f8a4_row21_col4, #T_5f8a4_row21_col5, #T_5f8a4_row21_col6, #T_5f8a4_row21_col7, #T_5f8a4_row21_col8, #T_5f8a4_row21_col9, #T_5f8a4_row21_col10, #T_5f8a4_row21_col11, #T_5f8a4_row21_col19, #T_5f8a4_row21_col20, #T_5f8a4_row21_col21, #T_5f8a4_row21_col22, #T_5f8a4_row21_col23, #T_5f8a4_row21_col24, #T_5f8a4_row21_col25, #T_5f8a4_row21_col26, #T_5f8a4_row21_col27, #T_5f8a4_row22_col0, #T_5f8a4_row22_col1, #T_5f8a4_row22_col2, #T_5f8a4_row22_col3, #T_5f8a4_row22_col4, #T_5f8a4_row22_col5, #T_5f8a4_row22_col18, #T_5f8a4_row22_col19, #T_5f8a4_row22_col20, #T_5f8a4_row22_col21, #T_5f8a4_row22_col22, #T_5f8a4_row22_col23, #T_5f8a4_row22_col24, #T_5f8a4_row22_col25, #T_5f8a4_row22_col26, #T_5f8a4_row22_col27, #T_5f8a4_row23_col0, #T_5f8a4_row23_col1, #T_5f8a4_row23_col2, #T_5f8a4_row23_col3, #T_5f8a4_row23_col4, #T_5f8a4_row23_col5, #T_5f8a4_row23_col16, #T_5f8a4_row23_col17, #T_5f8a4_row23_col18, #T_5f8a4_row23_col19, #T_5f8a4_row23_col20, #T_5f8a4_row23_col21, #T_5f8a4_row23_col22, #T_5f8a4_row23_col23, #T_5f8a4_row23_col24, #T_5f8a4_row23_col25, #T_5f8a4_row23_col26, #T_5f8a4_row23_col27, #T_5f8a4_row24_col0, #T_5f8a4_row24_col1, #T_5f8a4_row24_col2, #T_5f8a4_row24_col3, #T_5f8a4_row24_col4, #T_5f8a4_row24_col5, #T_5f8a4_row24_col14, #T_5f8a4_row24_col15, #T_5f8a4_row24_col16, #T_5f8a4_row24_col17, #T_5f8a4_row24_col18, #T_5f8a4_row24_col19, #T_5f8a4_row24_col20, #T_5f8a4_row24_col21, #T_5f8a4_row24_col22, #T_5f8a4_row24_col23, #T_5f8a4_row24_col24, #T_5f8a4_row24_col25, #T_5f8a4_row24_col26, #T_5f8a4_row24_col27, #T_5f8a4_row25_col0, #T_5f8a4_row25_col1, #T_5f8a4_row25_col2, #T_5f8a4_row25_col3, #T_5f8a4_row25_col4, #T_5f8a4_row25_col5, #T_5f8a4_row25_col6, #T_5f8a4_row25_col7, #T_5f8a4_row25_col8, #T_5f8a4_row25_col9, #T_5f8a4_row25_col10, #T_5f8a4_row25_col11, #T_5f8a4_row25_col12, #T_5f8a4_row25_col13, #T_5f8a4_row25_col14, #T_5f8a4_row25_col15, #T_5f8a4_row25_col16, #T_5f8a4_row25_col17, #T_5f8a4_row25_col18, #T_5f8a4_row25_col19, #T_5f8a4_row25_col20, #T_5f8a4_row25_col21, #T_5f8a4_row25_col22, #T_5f8a4_row25_col23, #T_5f8a4_row25_col24, #T_5f8a4_row25_col25, #T_5f8a4_row25_col26, #T_5f8a4_row25_col27, #T_5f8a4_row26_col0, #T_5f8a4_row26_col1, #T_5f8a4_row26_col2, #T_5f8a4_row26_col3, #T_5f8a4_row26_col4, #T_5f8a4_row26_col5, #T_5f8a4_row26_col6, #T_5f8a4_row26_col7, #T_5f8a4_row26_col8, #T_5f8a4_row26_col9, #T_5f8a4_row26_col10, #T_5f8a4_row26_col11, #T_5f8a4_row26_col12, #T_5f8a4_row26_col13, #T_5f8a4_row26_col14, #T_5f8a4_row26_col15, #T_5f8a4_row26_col16, #T_5f8a4_row26_col17, #T_5f8a4_row26_col18, #T_5f8a4_row26_col19, #T_5f8a4_row26_col20, #T_5f8a4_row26_col21, #T_5f8a4_row26_col22, #T_5f8a4_row26_col23, #T_5f8a4_row26_col24, #T_5f8a4_row26_col25, #T_5f8a4_row26_col26, #T_5f8a4_row26_col27, #T_5f8a4_row27_col0, #T_5f8a4_row27_col1, #T_5f8a4_row27_col2, #T_5f8a4_row27_col3, #T_5f8a4_row27_col4, #T_5f8a4_row27_col5, #T_5f8a4_row27_col6, #T_5f8a4_row27_col7, #T_5f8a4_row27_col8, #T_5f8a4_row27_col9, #T_5f8a4_row27_col10, #T_5f8a4_row27_col11, #T_5f8a4_row27_col12, #T_5f8a4_row27_col13, #T_5f8a4_row27_col14, #T_5f8a4_row27_col15, #T_5f8a4_row27_col16, #T_5f8a4_row27_col17, #T_5f8a4_row27_col18, #T_5f8a4_row27_col19, #T_5f8a4_row27_col20, #T_5f8a4_row27_col21, #T_5f8a4_row27_col22, #T_5f8a4_row27_col23, #T_5f8a4_row27_col24, #T_5f8a4_row27_col25, #T_5f8a4_row27_col26, #T_5f8a4_row27_col27 {\n",
       "  font-size: 6pt;\n",
       "  background-color: #ffffff;\n",
       "  color: #000000;\n",
       "}\n",
       "#T_5f8a4_row5_col9, #T_5f8a4_row12_col16 {\n",
       "  font-size: 6pt;\n",
       "  background-color: #f1f1f1;\n",
       "  color: #000000;\n",
       "}\n",
       "#T_5f8a4_row5_col10, #T_5f8a4_row5_col17 {\n",
       "  font-size: 6pt;\n",
       "  background-color: #7c7c7c;\n",
       "  color: #f1f1f1;\n",
       "}\n",
       "#T_5f8a4_row5_col11 {\n",
       "  font-size: 6pt;\n",
       "  background-color: #4a4a4a;\n",
       "  color: #f1f1f1;\n",
       "}\n",
       "#T_5f8a4_row5_col12, #T_5f8a4_row5_col13, #T_5f8a4_row5_col14, #T_5f8a4_row6_col10, #T_5f8a4_row6_col11, #T_5f8a4_row6_col15, #T_5f8a4_row6_col16, #T_5f8a4_row6_col17, #T_5f8a4_row7_col8, #T_5f8a4_row7_col16, #T_5f8a4_row7_col17, #T_5f8a4_row8_col5, #T_5f8a4_row8_col6, #T_5f8a4_row8_col7, #T_5f8a4_row8_col16, #T_5f8a4_row8_col17, #T_5f8a4_row9_col16, #T_5f8a4_row10_col15, #T_5f8a4_row13_col15, #T_5f8a4_row14_col15, #T_5f8a4_row14_col16, #T_5f8a4_row14_col17, #T_5f8a4_row14_col18, #T_5f8a4_row15_col17, #T_5f8a4_row15_col18, #T_5f8a4_row15_col19, #T_5f8a4_row16_col18, #T_5f8a4_row16_col19, #T_5f8a4_row16_col20, #T_5f8a4_row17_col18, #T_5f8a4_row17_col19, #T_5f8a4_row18_col18, #T_5f8a4_row18_col19, #T_5f8a4_row19_col17, #T_5f8a4_row19_col18, #T_5f8a4_row20_col16, #T_5f8a4_row20_col17, #T_5f8a4_row21_col15, #T_5f8a4_row21_col16, #T_5f8a4_row23_col7, #T_5f8a4_row23_col8, #T_5f8a4_row23_col9, #T_5f8a4_row23_col10, #T_5f8a4_row23_col11, #T_5f8a4_row24_col7, #T_5f8a4_row24_col8, #T_5f8a4_row24_col9, #T_5f8a4_row24_col10, #T_5f8a4_row24_col11 {\n",
       "  font-size: 6pt;\n",
       "  background-color: #000000;\n",
       "  color: #f1f1f1;\n",
       "}\n",
       "#T_5f8a4_row5_col15 {\n",
       "  font-size: 6pt;\n",
       "  background-color: #606060;\n",
       "  color: #f1f1f1;\n",
       "}\n",
       "#T_5f8a4_row5_col16 {\n",
       "  font-size: 6pt;\n",
       "  background-color: #4d4d4d;\n",
       "  color: #f1f1f1;\n",
       "}\n",
       "#T_5f8a4_row5_col18 {\n",
       "  font-size: 6pt;\n",
       "  background-color: #bbbbbb;\n",
       "  color: #000000;\n",
       "}\n",
       "#T_5f8a4_row6_col7, #T_5f8a4_row8_col9 {\n",
       "  font-size: 6pt;\n",
       "  background-color: #e4e4e4;\n",
       "  color: #000000;\n",
       "}\n",
       "#T_5f8a4_row6_col8, #T_5f8a4_row12_col10 {\n",
       "  font-size: 6pt;\n",
       "  background-color: #6b6b6b;\n",
       "  color: #f1f1f1;\n",
       "}\n",
       "#T_5f8a4_row6_col9, #T_5f8a4_row9_col15 {\n",
       "  font-size: 6pt;\n",
       "  background-color: #222222;\n",
       "  color: #f1f1f1;\n",
       "}\n",
       "#T_5f8a4_row6_col12, #T_5f8a4_row6_col18, #T_5f8a4_row7_col18, #T_5f8a4_row21_col17 {\n",
       "  font-size: 6pt;\n",
       "  background-color: #171717;\n",
       "  color: #f1f1f1;\n",
       "}\n",
       "#T_5f8a4_row6_col13, #T_5f8a4_row7_col15 {\n",
       "  font-size: 6pt;\n",
       "  background-color: #4b4b4b;\n",
       "  color: #f1f1f1;\n",
       "}\n",
       "#T_5f8a4_row6_col14, #T_5f8a4_row11_col14, #T_5f8a4_row12_col12, #T_5f8a4_row12_col14, #T_5f8a4_row13_col12, #T_5f8a4_row13_col14, #T_5f8a4_row22_col14, #T_5f8a4_row23_col12 {\n",
       "  font-size: 6pt;\n",
       "  background-color: #010101;\n",
       "  color: #f1f1f1;\n",
       "}\n",
       "#T_5f8a4_row7_col5 {\n",
       "  font-size: 6pt;\n",
       "  background-color: #272727;\n",
       "  color: #f1f1f1;\n",
       "}\n",
       "#T_5f8a4_row7_col6 {\n",
       "  font-size: 6pt;\n",
       "  background-color: #0a0a0a;\n",
       "  color: #f1f1f1;\n",
       "}\n",
       "#T_5f8a4_row7_col7, #T_5f8a4_row18_col17 {\n",
       "  font-size: 6pt;\n",
       "  background-color: #050505;\n",
       "  color: #f1f1f1;\n",
       "}\n",
       "#T_5f8a4_row7_col9, #T_5f8a4_row12_col15, #T_5f8a4_row14_col19, #T_5f8a4_row23_col6 {\n",
       "  font-size: 6pt;\n",
       "  background-color: #545454;\n",
       "  color: #f1f1f1;\n",
       "}\n",
       "#T_5f8a4_row7_col10 {\n",
       "  font-size: 6pt;\n",
       "  background-color: #e6e6e6;\n",
       "  color: #000000;\n",
       "}\n",
       "#T_5f8a4_row7_col11, #T_5f8a4_row7_col14, #T_5f8a4_row12_col9 {\n",
       "  font-size: 6pt;\n",
       "  background-color: #fafafa;\n",
       "  color: #000000;\n",
       "}\n",
       "#T_5f8a4_row7_col12, #T_5f8a4_row15_col14, #T_5f8a4_row20_col19 {\n",
       "  font-size: 6pt;\n",
       "  background-color: #fbfbfb;\n",
       "  color: #000000;\n",
       "}\n",
       "#T_5f8a4_row7_col13 {\n",
       "  font-size: 6pt;\n",
       "  background-color: #fdfdfd;\n",
       "  color: #000000;\n",
       "}\n",
       "#T_5f8a4_row8_col8 {\n",
       "  font-size: 6pt;\n",
       "  background-color: #1b1b1b;\n",
       "  color: #f1f1f1;\n",
       "}\n",
       "#T_5f8a4_row8_col15 {\n",
       "  font-size: 6pt;\n",
       "  background-color: #4e4e4e;\n",
       "  color: #f1f1f1;\n",
       "}\n",
       "#T_5f8a4_row8_col18 {\n",
       "  font-size: 6pt;\n",
       "  background-color: #767676;\n",
       "  color: #f1f1f1;\n",
       "}\n",
       "#T_5f8a4_row9_col5 {\n",
       "  font-size: 6pt;\n",
       "  background-color: #fcfcfc;\n",
       "  color: #000000;\n",
       "}\n",
       "#T_5f8a4_row9_col6, #T_5f8a4_row9_col7, #T_5f8a4_row19_col20 {\n",
       "  font-size: 6pt;\n",
       "  background-color: #f6f6f6;\n",
       "  color: #000000;\n",
       "}\n",
       "#T_5f8a4_row9_col8, #T_5f8a4_row11_col11 {\n",
       "  font-size: 6pt;\n",
       "  background-color: #f8f8f8;\n",
       "  color: #000000;\n",
       "}\n",
       "#T_5f8a4_row9_col14, #T_5f8a4_row14_col11 {\n",
       "  font-size: 6pt;\n",
       "  background-color: #e8e8e8;\n",
       "  color: #000000;\n",
       "}\n",
       "#T_5f8a4_row9_col17, #T_5f8a4_row10_col16 {\n",
       "  font-size: 6pt;\n",
       "  background-color: #090909;\n",
       "  color: #f1f1f1;\n",
       "}\n",
       "#T_5f8a4_row9_col18 {\n",
       "  font-size: 6pt;\n",
       "  background-color: #d0d0d0;\n",
       "  color: #000000;\n",
       "}\n",
       "#T_5f8a4_row10_col14, #T_5f8a4_row11_col15, #T_5f8a4_row13_col10 {\n",
       "  font-size: 6pt;\n",
       "  background-color: #060606;\n",
       "  color: #f1f1f1;\n",
       "}\n",
       "#T_5f8a4_row10_col17 {\n",
       "  font-size: 6pt;\n",
       "  background-color: #979797;\n",
       "  color: #f1f1f1;\n",
       "}\n",
       "#T_5f8a4_row11_col12 {\n",
       "  font-size: 6pt;\n",
       "  background-color: #b6b6b6;\n",
       "  color: #000000;\n",
       "}\n",
       "#T_5f8a4_row11_col13 {\n",
       "  font-size: 6pt;\n",
       "  background-color: #252525;\n",
       "  color: #f1f1f1;\n",
       "}\n",
       "#T_5f8a4_row11_col16 {\n",
       "  font-size: 6pt;\n",
       "  background-color: #999999;\n",
       "  color: #f1f1f1;\n",
       "}\n",
       "#T_5f8a4_row12_col11, #T_5f8a4_row22_col12 {\n",
       "  font-size: 6pt;\n",
       "  background-color: #101010;\n",
       "  color: #f1f1f1;\n",
       "}\n",
       "#T_5f8a4_row12_col13, #T_5f8a4_row13_col13, #T_5f8a4_row21_col14, #T_5f8a4_row22_col13, #T_5f8a4_row23_col13 {\n",
       "  font-size: 6pt;\n",
       "  background-color: #020202;\n",
       "  color: #f1f1f1;\n",
       "}\n",
       "#T_5f8a4_row13_col9 {\n",
       "  font-size: 6pt;\n",
       "  background-color: #f7f7f7;\n",
       "  color: #000000;\n",
       "}\n",
       "#T_5f8a4_row13_col11, #T_5f8a4_row22_col15 {\n",
       "  font-size: 6pt;\n",
       "  background-color: #030303;\n",
       "  color: #f1f1f1;\n",
       "}\n",
       "#T_5f8a4_row13_col16 {\n",
       "  font-size: 6pt;\n",
       "  background-color: #181818;\n",
       "  color: #f1f1f1;\n",
       "}\n",
       "#T_5f8a4_row13_col17 {\n",
       "  font-size: 6pt;\n",
       "  background-color: #303030;\n",
       "  color: #f1f1f1;\n",
       "}\n",
       "#T_5f8a4_row13_col18 {\n",
       "  font-size: 6pt;\n",
       "  background-color: #a9a9a9;\n",
       "  color: #f1f1f1;\n",
       "}\n",
       "#T_5f8a4_row13_col19 {\n",
       "  font-size: 6pt;\n",
       "  background-color: #fefefe;\n",
       "  color: #000000;\n",
       "}\n",
       "#T_5f8a4_row14_col12, #T_5f8a4_row14_col13, #T_5f8a4_row20_col14 {\n",
       "  font-size: 6pt;\n",
       "  background-color: #bababa;\n",
       "  color: #000000;\n",
       "}\n",
       "#T_5f8a4_row14_col14 {\n",
       "  font-size: 6pt;\n",
       "  background-color: #393939;\n",
       "  color: #f1f1f1;\n",
       "}\n",
       "#T_5f8a4_row14_col20 {\n",
       "  font-size: 6pt;\n",
       "  background-color: #eaeaea;\n",
       "  color: #000000;\n",
       "}\n",
       "#T_5f8a4_row15_col15 {\n",
       "  font-size: 6pt;\n",
       "  background-color: #e2e2e2;\n",
       "  color: #000000;\n",
       "}\n",
       "#T_5f8a4_row15_col16 {\n",
       "  font-size: 6pt;\n",
       "  background-color: #9f9f9f;\n",
       "  color: #f1f1f1;\n",
       "}\n",
       "#T_5f8a4_row15_col20 {\n",
       "  font-size: 6pt;\n",
       "  background-color: #898989;\n",
       "  color: #f1f1f1;\n",
       "}\n",
       "#T_5f8a4_row16_col17 {\n",
       "  font-size: 6pt;\n",
       "  background-color: #585858;\n",
       "  color: #f1f1f1;\n",
       "}\n",
       "#T_5f8a4_row17_col17 {\n",
       "  font-size: 6pt;\n",
       "  background-color: #5a5a5a;\n",
       "  color: #f1f1f1;\n",
       "}\n",
       "#T_5f8a4_row17_col20 {\n",
       "  font-size: 6pt;\n",
       "  background-color: #525252;\n",
       "  color: #f1f1f1;\n",
       "}\n",
       "#T_5f8a4_row18_col16, #T_5f8a4_row23_col15 {\n",
       "  font-size: 6pt;\n",
       "  background-color: #c5c5c5;\n",
       "  color: #000000;\n",
       "}\n",
       "#T_5f8a4_row18_col20 {\n",
       "  font-size: 6pt;\n",
       "  background-color: #d7d7d7;\n",
       "  color: #000000;\n",
       "}\n",
       "#T_5f8a4_row19_col15, #T_5f8a4_row22_col9 {\n",
       "  font-size: 6pt;\n",
       "  background-color: #dcdcdc;\n",
       "  color: #000000;\n",
       "}\n",
       "#T_5f8a4_row19_col16 {\n",
       "  font-size: 6pt;\n",
       "  background-color: #2f2f2f;\n",
       "  color: #f1f1f1;\n",
       "}\n",
       "#T_5f8a4_row19_col19 {\n",
       "  font-size: 6pt;\n",
       "  background-color: #636363;\n",
       "  color: #f1f1f1;\n",
       "}\n",
       "#T_5f8a4_row20_col15 {\n",
       "  font-size: 6pt;\n",
       "  background-color: #070707;\n",
       "  color: #f1f1f1;\n",
       "}\n",
       "#T_5f8a4_row20_col18 {\n",
       "  font-size: 6pt;\n",
       "  background-color: #1f1f1f;\n",
       "  color: #f1f1f1;\n",
       "}\n",
       "#T_5f8a4_row21_col12, #T_5f8a4_row22_col6, #T_5f8a4_row22_col8 {\n",
       "  font-size: 6pt;\n",
       "  background-color: #e9e9e9;\n",
       "  color: #000000;\n",
       "}\n",
       "#T_5f8a4_row21_col13 {\n",
       "  font-size: 6pt;\n",
       "  background-color: #7d7d7d;\n",
       "  color: #f1f1f1;\n",
       "}\n",
       "#T_5f8a4_row21_col18 {\n",
       "  font-size: 6pt;\n",
       "  background-color: #e1e1e1;\n",
       "  color: #000000;\n",
       "}\n",
       "#T_5f8a4_row22_col7, #T_5f8a4_row22_col10 {\n",
       "  font-size: 6pt;\n",
       "  background-color: #a4a4a4;\n",
       "  color: #f1f1f1;\n",
       "}\n",
       "#T_5f8a4_row22_col11 {\n",
       "  font-size: 6pt;\n",
       "  background-color: #727272;\n",
       "  color: #f1f1f1;\n",
       "}\n",
       "#T_5f8a4_row22_col16 {\n",
       "  font-size: 6pt;\n",
       "  background-color: #616161;\n",
       "  color: #f1f1f1;\n",
       "}\n",
       "#T_5f8a4_row22_col17 {\n",
       "  font-size: 6pt;\n",
       "  background-color: #f3f3f3;\n",
       "  color: #000000;\n",
       "}\n",
       "#T_5f8a4_row23_col14 {\n",
       "  font-size: 6pt;\n",
       "  background-color: #484848;\n",
       "  color: #f1f1f1;\n",
       "}\n",
       "#T_5f8a4_row24_col6 {\n",
       "  font-size: 6pt;\n",
       "  background-color: #b3b3b3;\n",
       "  color: #000000;\n",
       "}\n",
       "#T_5f8a4_row24_col12 {\n",
       "  font-size: 6pt;\n",
       "  background-color: #1a1a1a;\n",
       "  color: #f1f1f1;\n",
       "}\n",
       "#T_5f8a4_row24_col13 {\n",
       "  font-size: 6pt;\n",
       "  background-color: #d6d6d6;\n",
       "  color: #000000;\n",
       "}\n",
       "</style>\n",
       "<table id=\"T_5f8a4\">\n",
       "  <thead>\n",
       "    <tr>\n",
       "      <th class=\"blank level0\" >&nbsp;</th>\n",
       "      <th id=\"T_5f8a4_level0_col0\" class=\"col_heading level0 col0\" >0</th>\n",
       "      <th id=\"T_5f8a4_level0_col1\" class=\"col_heading level0 col1\" >1</th>\n",
       "      <th id=\"T_5f8a4_level0_col2\" class=\"col_heading level0 col2\" >2</th>\n",
       "      <th id=\"T_5f8a4_level0_col3\" class=\"col_heading level0 col3\" >3</th>\n",
       "      <th id=\"T_5f8a4_level0_col4\" class=\"col_heading level0 col4\" >4</th>\n",
       "      <th id=\"T_5f8a4_level0_col5\" class=\"col_heading level0 col5\" >5</th>\n",
       "      <th id=\"T_5f8a4_level0_col6\" class=\"col_heading level0 col6\" >6</th>\n",
       "      <th id=\"T_5f8a4_level0_col7\" class=\"col_heading level0 col7\" >7</th>\n",
       "      <th id=\"T_5f8a4_level0_col8\" class=\"col_heading level0 col8\" >8</th>\n",
       "      <th id=\"T_5f8a4_level0_col9\" class=\"col_heading level0 col9\" >9</th>\n",
       "      <th id=\"T_5f8a4_level0_col10\" class=\"col_heading level0 col10\" >10</th>\n",
       "      <th id=\"T_5f8a4_level0_col11\" class=\"col_heading level0 col11\" >11</th>\n",
       "      <th id=\"T_5f8a4_level0_col12\" class=\"col_heading level0 col12\" >12</th>\n",
       "      <th id=\"T_5f8a4_level0_col13\" class=\"col_heading level0 col13\" >13</th>\n",
       "      <th id=\"T_5f8a4_level0_col14\" class=\"col_heading level0 col14\" >14</th>\n",
       "      <th id=\"T_5f8a4_level0_col15\" class=\"col_heading level0 col15\" >15</th>\n",
       "      <th id=\"T_5f8a4_level0_col16\" class=\"col_heading level0 col16\" >16</th>\n",
       "      <th id=\"T_5f8a4_level0_col17\" class=\"col_heading level0 col17\" >17</th>\n",
       "      <th id=\"T_5f8a4_level0_col18\" class=\"col_heading level0 col18\" >18</th>\n",
       "      <th id=\"T_5f8a4_level0_col19\" class=\"col_heading level0 col19\" >19</th>\n",
       "      <th id=\"T_5f8a4_level0_col20\" class=\"col_heading level0 col20\" >20</th>\n",
       "      <th id=\"T_5f8a4_level0_col21\" class=\"col_heading level0 col21\" >21</th>\n",
       "      <th id=\"T_5f8a4_level0_col22\" class=\"col_heading level0 col22\" >22</th>\n",
       "      <th id=\"T_5f8a4_level0_col23\" class=\"col_heading level0 col23\" >23</th>\n",
       "      <th id=\"T_5f8a4_level0_col24\" class=\"col_heading level0 col24\" >24</th>\n",
       "      <th id=\"T_5f8a4_level0_col25\" class=\"col_heading level0 col25\" >25</th>\n",
       "      <th id=\"T_5f8a4_level0_col26\" class=\"col_heading level0 col26\" >26</th>\n",
       "      <th id=\"T_5f8a4_level0_col27\" class=\"col_heading level0 col27\" >27</th>\n",
       "    </tr>\n",
       "  </thead>\n",
       "  <tbody>\n",
       "    <tr>\n",
       "      <th id=\"T_5f8a4_level0_row0\" class=\"row_heading level0 row0\" >0</th>\n",
       "      <td id=\"T_5f8a4_row0_col0\" class=\"data row0 col0\" >0</td>\n",
       "      <td id=\"T_5f8a4_row0_col1\" class=\"data row0 col1\" >0</td>\n",
       "      <td id=\"T_5f8a4_row0_col2\" class=\"data row0 col2\" >0</td>\n",
       "      <td id=\"T_5f8a4_row0_col3\" class=\"data row0 col3\" >0</td>\n",
       "      <td id=\"T_5f8a4_row0_col4\" class=\"data row0 col4\" >0</td>\n",
       "      <td id=\"T_5f8a4_row0_col5\" class=\"data row0 col5\" >0</td>\n",
       "      <td id=\"T_5f8a4_row0_col6\" class=\"data row0 col6\" >0</td>\n",
       "      <td id=\"T_5f8a4_row0_col7\" class=\"data row0 col7\" >0</td>\n",
       "      <td id=\"T_5f8a4_row0_col8\" class=\"data row0 col8\" >0</td>\n",
       "      <td id=\"T_5f8a4_row0_col9\" class=\"data row0 col9\" >0</td>\n",
       "      <td id=\"T_5f8a4_row0_col10\" class=\"data row0 col10\" >0</td>\n",
       "      <td id=\"T_5f8a4_row0_col11\" class=\"data row0 col11\" >0</td>\n",
       "      <td id=\"T_5f8a4_row0_col12\" class=\"data row0 col12\" >0</td>\n",
       "      <td id=\"T_5f8a4_row0_col13\" class=\"data row0 col13\" >0</td>\n",
       "      <td id=\"T_5f8a4_row0_col14\" class=\"data row0 col14\" >0</td>\n",
       "      <td id=\"T_5f8a4_row0_col15\" class=\"data row0 col15\" >0</td>\n",
       "      <td id=\"T_5f8a4_row0_col16\" class=\"data row0 col16\" >0</td>\n",
       "      <td id=\"T_5f8a4_row0_col17\" class=\"data row0 col17\" >0</td>\n",
       "      <td id=\"T_5f8a4_row0_col18\" class=\"data row0 col18\" >0</td>\n",
       "      <td id=\"T_5f8a4_row0_col19\" class=\"data row0 col19\" >0</td>\n",
       "      <td id=\"T_5f8a4_row0_col20\" class=\"data row0 col20\" >0</td>\n",
       "      <td id=\"T_5f8a4_row0_col21\" class=\"data row0 col21\" >0</td>\n",
       "      <td id=\"T_5f8a4_row0_col22\" class=\"data row0 col22\" >0</td>\n",
       "      <td id=\"T_5f8a4_row0_col23\" class=\"data row0 col23\" >0</td>\n",
       "      <td id=\"T_5f8a4_row0_col24\" class=\"data row0 col24\" >0</td>\n",
       "      <td id=\"T_5f8a4_row0_col25\" class=\"data row0 col25\" >0</td>\n",
       "      <td id=\"T_5f8a4_row0_col26\" class=\"data row0 col26\" >0</td>\n",
       "      <td id=\"T_5f8a4_row0_col27\" class=\"data row0 col27\" >0</td>\n",
       "    </tr>\n",
       "    <tr>\n",
       "      <th id=\"T_5f8a4_level0_row1\" class=\"row_heading level0 row1\" >1</th>\n",
       "      <td id=\"T_5f8a4_row1_col0\" class=\"data row1 col0\" >0</td>\n",
       "      <td id=\"T_5f8a4_row1_col1\" class=\"data row1 col1\" >0</td>\n",
       "      <td id=\"T_5f8a4_row1_col2\" class=\"data row1 col2\" >0</td>\n",
       "      <td id=\"T_5f8a4_row1_col3\" class=\"data row1 col3\" >0</td>\n",
       "      <td id=\"T_5f8a4_row1_col4\" class=\"data row1 col4\" >0</td>\n",
       "      <td id=\"T_5f8a4_row1_col5\" class=\"data row1 col5\" >0</td>\n",
       "      <td id=\"T_5f8a4_row1_col6\" class=\"data row1 col6\" >0</td>\n",
       "      <td id=\"T_5f8a4_row1_col7\" class=\"data row1 col7\" >0</td>\n",
       "      <td id=\"T_5f8a4_row1_col8\" class=\"data row1 col8\" >0</td>\n",
       "      <td id=\"T_5f8a4_row1_col9\" class=\"data row1 col9\" >0</td>\n",
       "      <td id=\"T_5f8a4_row1_col10\" class=\"data row1 col10\" >0</td>\n",
       "      <td id=\"T_5f8a4_row1_col11\" class=\"data row1 col11\" >0</td>\n",
       "      <td id=\"T_5f8a4_row1_col12\" class=\"data row1 col12\" >0</td>\n",
       "      <td id=\"T_5f8a4_row1_col13\" class=\"data row1 col13\" >0</td>\n",
       "      <td id=\"T_5f8a4_row1_col14\" class=\"data row1 col14\" >0</td>\n",
       "      <td id=\"T_5f8a4_row1_col15\" class=\"data row1 col15\" >0</td>\n",
       "      <td id=\"T_5f8a4_row1_col16\" class=\"data row1 col16\" >0</td>\n",
       "      <td id=\"T_5f8a4_row1_col17\" class=\"data row1 col17\" >0</td>\n",
       "      <td id=\"T_5f8a4_row1_col18\" class=\"data row1 col18\" >0</td>\n",
       "      <td id=\"T_5f8a4_row1_col19\" class=\"data row1 col19\" >0</td>\n",
       "      <td id=\"T_5f8a4_row1_col20\" class=\"data row1 col20\" >0</td>\n",
       "      <td id=\"T_5f8a4_row1_col21\" class=\"data row1 col21\" >0</td>\n",
       "      <td id=\"T_5f8a4_row1_col22\" class=\"data row1 col22\" >0</td>\n",
       "      <td id=\"T_5f8a4_row1_col23\" class=\"data row1 col23\" >0</td>\n",
       "      <td id=\"T_5f8a4_row1_col24\" class=\"data row1 col24\" >0</td>\n",
       "      <td id=\"T_5f8a4_row1_col25\" class=\"data row1 col25\" >0</td>\n",
       "      <td id=\"T_5f8a4_row1_col26\" class=\"data row1 col26\" >0</td>\n",
       "      <td id=\"T_5f8a4_row1_col27\" class=\"data row1 col27\" >0</td>\n",
       "    </tr>\n",
       "    <tr>\n",
       "      <th id=\"T_5f8a4_level0_row2\" class=\"row_heading level0 row2\" >2</th>\n",
       "      <td id=\"T_5f8a4_row2_col0\" class=\"data row2 col0\" >0</td>\n",
       "      <td id=\"T_5f8a4_row2_col1\" class=\"data row2 col1\" >0</td>\n",
       "      <td id=\"T_5f8a4_row2_col2\" class=\"data row2 col2\" >0</td>\n",
       "      <td id=\"T_5f8a4_row2_col3\" class=\"data row2 col3\" >0</td>\n",
       "      <td id=\"T_5f8a4_row2_col4\" class=\"data row2 col4\" >0</td>\n",
       "      <td id=\"T_5f8a4_row2_col5\" class=\"data row2 col5\" >0</td>\n",
       "      <td id=\"T_5f8a4_row2_col6\" class=\"data row2 col6\" >0</td>\n",
       "      <td id=\"T_5f8a4_row2_col7\" class=\"data row2 col7\" >0</td>\n",
       "      <td id=\"T_5f8a4_row2_col8\" class=\"data row2 col8\" >0</td>\n",
       "      <td id=\"T_5f8a4_row2_col9\" class=\"data row2 col9\" >0</td>\n",
       "      <td id=\"T_5f8a4_row2_col10\" class=\"data row2 col10\" >0</td>\n",
       "      <td id=\"T_5f8a4_row2_col11\" class=\"data row2 col11\" >0</td>\n",
       "      <td id=\"T_5f8a4_row2_col12\" class=\"data row2 col12\" >0</td>\n",
       "      <td id=\"T_5f8a4_row2_col13\" class=\"data row2 col13\" >0</td>\n",
       "      <td id=\"T_5f8a4_row2_col14\" class=\"data row2 col14\" >0</td>\n",
       "      <td id=\"T_5f8a4_row2_col15\" class=\"data row2 col15\" >0</td>\n",
       "      <td id=\"T_5f8a4_row2_col16\" class=\"data row2 col16\" >0</td>\n",
       "      <td id=\"T_5f8a4_row2_col17\" class=\"data row2 col17\" >0</td>\n",
       "      <td id=\"T_5f8a4_row2_col18\" class=\"data row2 col18\" >0</td>\n",
       "      <td id=\"T_5f8a4_row2_col19\" class=\"data row2 col19\" >0</td>\n",
       "      <td id=\"T_5f8a4_row2_col20\" class=\"data row2 col20\" >0</td>\n",
       "      <td id=\"T_5f8a4_row2_col21\" class=\"data row2 col21\" >0</td>\n",
       "      <td id=\"T_5f8a4_row2_col22\" class=\"data row2 col22\" >0</td>\n",
       "      <td id=\"T_5f8a4_row2_col23\" class=\"data row2 col23\" >0</td>\n",
       "      <td id=\"T_5f8a4_row2_col24\" class=\"data row2 col24\" >0</td>\n",
       "      <td id=\"T_5f8a4_row2_col25\" class=\"data row2 col25\" >0</td>\n",
       "      <td id=\"T_5f8a4_row2_col26\" class=\"data row2 col26\" >0</td>\n",
       "      <td id=\"T_5f8a4_row2_col27\" class=\"data row2 col27\" >0</td>\n",
       "    </tr>\n",
       "    <tr>\n",
       "      <th id=\"T_5f8a4_level0_row3\" class=\"row_heading level0 row3\" >3</th>\n",
       "      <td id=\"T_5f8a4_row3_col0\" class=\"data row3 col0\" >0</td>\n",
       "      <td id=\"T_5f8a4_row3_col1\" class=\"data row3 col1\" >0</td>\n",
       "      <td id=\"T_5f8a4_row3_col2\" class=\"data row3 col2\" >0</td>\n",
       "      <td id=\"T_5f8a4_row3_col3\" class=\"data row3 col3\" >0</td>\n",
       "      <td id=\"T_5f8a4_row3_col4\" class=\"data row3 col4\" >0</td>\n",
       "      <td id=\"T_5f8a4_row3_col5\" class=\"data row3 col5\" >0</td>\n",
       "      <td id=\"T_5f8a4_row3_col6\" class=\"data row3 col6\" >0</td>\n",
       "      <td id=\"T_5f8a4_row3_col7\" class=\"data row3 col7\" >0</td>\n",
       "      <td id=\"T_5f8a4_row3_col8\" class=\"data row3 col8\" >0</td>\n",
       "      <td id=\"T_5f8a4_row3_col9\" class=\"data row3 col9\" >0</td>\n",
       "      <td id=\"T_5f8a4_row3_col10\" class=\"data row3 col10\" >0</td>\n",
       "      <td id=\"T_5f8a4_row3_col11\" class=\"data row3 col11\" >0</td>\n",
       "      <td id=\"T_5f8a4_row3_col12\" class=\"data row3 col12\" >0</td>\n",
       "      <td id=\"T_5f8a4_row3_col13\" class=\"data row3 col13\" >0</td>\n",
       "      <td id=\"T_5f8a4_row3_col14\" class=\"data row3 col14\" >0</td>\n",
       "      <td id=\"T_5f8a4_row3_col15\" class=\"data row3 col15\" >0</td>\n",
       "      <td id=\"T_5f8a4_row3_col16\" class=\"data row3 col16\" >0</td>\n",
       "      <td id=\"T_5f8a4_row3_col17\" class=\"data row3 col17\" >0</td>\n",
       "      <td id=\"T_5f8a4_row3_col18\" class=\"data row3 col18\" >0</td>\n",
       "      <td id=\"T_5f8a4_row3_col19\" class=\"data row3 col19\" >0</td>\n",
       "      <td id=\"T_5f8a4_row3_col20\" class=\"data row3 col20\" >0</td>\n",
       "      <td id=\"T_5f8a4_row3_col21\" class=\"data row3 col21\" >0</td>\n",
       "      <td id=\"T_5f8a4_row3_col22\" class=\"data row3 col22\" >0</td>\n",
       "      <td id=\"T_5f8a4_row3_col23\" class=\"data row3 col23\" >0</td>\n",
       "      <td id=\"T_5f8a4_row3_col24\" class=\"data row3 col24\" >0</td>\n",
       "      <td id=\"T_5f8a4_row3_col25\" class=\"data row3 col25\" >0</td>\n",
       "      <td id=\"T_5f8a4_row3_col26\" class=\"data row3 col26\" >0</td>\n",
       "      <td id=\"T_5f8a4_row3_col27\" class=\"data row3 col27\" >0</td>\n",
       "    </tr>\n",
       "    <tr>\n",
       "      <th id=\"T_5f8a4_level0_row4\" class=\"row_heading level0 row4\" >4</th>\n",
       "      <td id=\"T_5f8a4_row4_col0\" class=\"data row4 col0\" >0</td>\n",
       "      <td id=\"T_5f8a4_row4_col1\" class=\"data row4 col1\" >0</td>\n",
       "      <td id=\"T_5f8a4_row4_col2\" class=\"data row4 col2\" >0</td>\n",
       "      <td id=\"T_5f8a4_row4_col3\" class=\"data row4 col3\" >0</td>\n",
       "      <td id=\"T_5f8a4_row4_col4\" class=\"data row4 col4\" >0</td>\n",
       "      <td id=\"T_5f8a4_row4_col5\" class=\"data row4 col5\" >0</td>\n",
       "      <td id=\"T_5f8a4_row4_col6\" class=\"data row4 col6\" >0</td>\n",
       "      <td id=\"T_5f8a4_row4_col7\" class=\"data row4 col7\" >0</td>\n",
       "      <td id=\"T_5f8a4_row4_col8\" class=\"data row4 col8\" >0</td>\n",
       "      <td id=\"T_5f8a4_row4_col9\" class=\"data row4 col9\" >0</td>\n",
       "      <td id=\"T_5f8a4_row4_col10\" class=\"data row4 col10\" >0</td>\n",
       "      <td id=\"T_5f8a4_row4_col11\" class=\"data row4 col11\" >0</td>\n",
       "      <td id=\"T_5f8a4_row4_col12\" class=\"data row4 col12\" >0</td>\n",
       "      <td id=\"T_5f8a4_row4_col13\" class=\"data row4 col13\" >0</td>\n",
       "      <td id=\"T_5f8a4_row4_col14\" class=\"data row4 col14\" >0</td>\n",
       "      <td id=\"T_5f8a4_row4_col15\" class=\"data row4 col15\" >0</td>\n",
       "      <td id=\"T_5f8a4_row4_col16\" class=\"data row4 col16\" >0</td>\n",
       "      <td id=\"T_5f8a4_row4_col17\" class=\"data row4 col17\" >0</td>\n",
       "      <td id=\"T_5f8a4_row4_col18\" class=\"data row4 col18\" >0</td>\n",
       "      <td id=\"T_5f8a4_row4_col19\" class=\"data row4 col19\" >0</td>\n",
       "      <td id=\"T_5f8a4_row4_col20\" class=\"data row4 col20\" >0</td>\n",
       "      <td id=\"T_5f8a4_row4_col21\" class=\"data row4 col21\" >0</td>\n",
       "      <td id=\"T_5f8a4_row4_col22\" class=\"data row4 col22\" >0</td>\n",
       "      <td id=\"T_5f8a4_row4_col23\" class=\"data row4 col23\" >0</td>\n",
       "      <td id=\"T_5f8a4_row4_col24\" class=\"data row4 col24\" >0</td>\n",
       "      <td id=\"T_5f8a4_row4_col25\" class=\"data row4 col25\" >0</td>\n",
       "      <td id=\"T_5f8a4_row4_col26\" class=\"data row4 col26\" >0</td>\n",
       "      <td id=\"T_5f8a4_row4_col27\" class=\"data row4 col27\" >0</td>\n",
       "    </tr>\n",
       "    <tr>\n",
       "      <th id=\"T_5f8a4_level0_row5\" class=\"row_heading level0 row5\" >5</th>\n",
       "      <td id=\"T_5f8a4_row5_col0\" class=\"data row5 col0\" >0</td>\n",
       "      <td id=\"T_5f8a4_row5_col1\" class=\"data row5 col1\" >0</td>\n",
       "      <td id=\"T_5f8a4_row5_col2\" class=\"data row5 col2\" >0</td>\n",
       "      <td id=\"T_5f8a4_row5_col3\" class=\"data row5 col3\" >0</td>\n",
       "      <td id=\"T_5f8a4_row5_col4\" class=\"data row5 col4\" >0</td>\n",
       "      <td id=\"T_5f8a4_row5_col5\" class=\"data row5 col5\" >0</td>\n",
       "      <td id=\"T_5f8a4_row5_col6\" class=\"data row5 col6\" >0</td>\n",
       "      <td id=\"T_5f8a4_row5_col7\" class=\"data row5 col7\" >0</td>\n",
       "      <td id=\"T_5f8a4_row5_col8\" class=\"data row5 col8\" >0</td>\n",
       "      <td id=\"T_5f8a4_row5_col9\" class=\"data row5 col9\" >29</td>\n",
       "      <td id=\"T_5f8a4_row5_col10\" class=\"data row5 col10\" >150</td>\n",
       "      <td id=\"T_5f8a4_row5_col11\" class=\"data row5 col11\" >195</td>\n",
       "      <td id=\"T_5f8a4_row5_col12\" class=\"data row5 col12\" >254</td>\n",
       "      <td id=\"T_5f8a4_row5_col13\" class=\"data row5 col13\" >255</td>\n",
       "      <td id=\"T_5f8a4_row5_col14\" class=\"data row5 col14\" >254</td>\n",
       "      <td id=\"T_5f8a4_row5_col15\" class=\"data row5 col15\" >176</td>\n",
       "      <td id=\"T_5f8a4_row5_col16\" class=\"data row5 col16\" >193</td>\n",
       "      <td id=\"T_5f8a4_row5_col17\" class=\"data row5 col17\" >150</td>\n",
       "      <td id=\"T_5f8a4_row5_col18\" class=\"data row5 col18\" >96</td>\n",
       "      <td id=\"T_5f8a4_row5_col19\" class=\"data row5 col19\" >0</td>\n",
       "      <td id=\"T_5f8a4_row5_col20\" class=\"data row5 col20\" >0</td>\n",
       "      <td id=\"T_5f8a4_row5_col21\" class=\"data row5 col21\" >0</td>\n",
       "      <td id=\"T_5f8a4_row5_col22\" class=\"data row5 col22\" >0</td>\n",
       "      <td id=\"T_5f8a4_row5_col23\" class=\"data row5 col23\" >0</td>\n",
       "      <td id=\"T_5f8a4_row5_col24\" class=\"data row5 col24\" >0</td>\n",
       "      <td id=\"T_5f8a4_row5_col25\" class=\"data row5 col25\" >0</td>\n",
       "      <td id=\"T_5f8a4_row5_col26\" class=\"data row5 col26\" >0</td>\n",
       "      <td id=\"T_5f8a4_row5_col27\" class=\"data row5 col27\" >0</td>\n",
       "    </tr>\n",
       "    <tr>\n",
       "      <th id=\"T_5f8a4_level0_row6\" class=\"row_heading level0 row6\" >6</th>\n",
       "      <td id=\"T_5f8a4_row6_col0\" class=\"data row6 col0\" >0</td>\n",
       "      <td id=\"T_5f8a4_row6_col1\" class=\"data row6 col1\" >0</td>\n",
       "      <td id=\"T_5f8a4_row6_col2\" class=\"data row6 col2\" >0</td>\n",
       "      <td id=\"T_5f8a4_row6_col3\" class=\"data row6 col3\" >0</td>\n",
       "      <td id=\"T_5f8a4_row6_col4\" class=\"data row6 col4\" >0</td>\n",
       "      <td id=\"T_5f8a4_row6_col5\" class=\"data row6 col5\" >0</td>\n",
       "      <td id=\"T_5f8a4_row6_col6\" class=\"data row6 col6\" >0</td>\n",
       "      <td id=\"T_5f8a4_row6_col7\" class=\"data row6 col7\" >48</td>\n",
       "      <td id=\"T_5f8a4_row6_col8\" class=\"data row6 col8\" >166</td>\n",
       "      <td id=\"T_5f8a4_row6_col9\" class=\"data row6 col9\" >224</td>\n",
       "      <td id=\"T_5f8a4_row6_col10\" class=\"data row6 col10\" >253</td>\n",
       "      <td id=\"T_5f8a4_row6_col11\" class=\"data row6 col11\" >253</td>\n",
       "      <td id=\"T_5f8a4_row6_col12\" class=\"data row6 col12\" >234</td>\n",
       "      <td id=\"T_5f8a4_row6_col13\" class=\"data row6 col13\" >196</td>\n",
       "      <td id=\"T_5f8a4_row6_col14\" class=\"data row6 col14\" >253</td>\n",
       "      <td id=\"T_5f8a4_row6_col15\" class=\"data row6 col15\" >253</td>\n",
       "      <td id=\"T_5f8a4_row6_col16\" class=\"data row6 col16\" >253</td>\n",
       "      <td id=\"T_5f8a4_row6_col17\" class=\"data row6 col17\" >253</td>\n",
       "      <td id=\"T_5f8a4_row6_col18\" class=\"data row6 col18\" >233</td>\n",
       "      <td id=\"T_5f8a4_row6_col19\" class=\"data row6 col19\" >0</td>\n",
       "      <td id=\"T_5f8a4_row6_col20\" class=\"data row6 col20\" >0</td>\n",
       "      <td id=\"T_5f8a4_row6_col21\" class=\"data row6 col21\" >0</td>\n",
       "      <td id=\"T_5f8a4_row6_col22\" class=\"data row6 col22\" >0</td>\n",
       "      <td id=\"T_5f8a4_row6_col23\" class=\"data row6 col23\" >0</td>\n",
       "      <td id=\"T_5f8a4_row6_col24\" class=\"data row6 col24\" >0</td>\n",
       "      <td id=\"T_5f8a4_row6_col25\" class=\"data row6 col25\" >0</td>\n",
       "      <td id=\"T_5f8a4_row6_col26\" class=\"data row6 col26\" >0</td>\n",
       "      <td id=\"T_5f8a4_row6_col27\" class=\"data row6 col27\" >0</td>\n",
       "    </tr>\n",
       "    <tr>\n",
       "      <th id=\"T_5f8a4_level0_row7\" class=\"row_heading level0 row7\" >7</th>\n",
       "      <td id=\"T_5f8a4_row7_col0\" class=\"data row7 col0\" >0</td>\n",
       "      <td id=\"T_5f8a4_row7_col1\" class=\"data row7 col1\" >0</td>\n",
       "      <td id=\"T_5f8a4_row7_col2\" class=\"data row7 col2\" >0</td>\n",
       "      <td id=\"T_5f8a4_row7_col3\" class=\"data row7 col3\" >0</td>\n",
       "      <td id=\"T_5f8a4_row7_col4\" class=\"data row7 col4\" >0</td>\n",
       "      <td id=\"T_5f8a4_row7_col5\" class=\"data row7 col5\" >93</td>\n",
       "      <td id=\"T_5f8a4_row7_col6\" class=\"data row7 col6\" >244</td>\n",
       "      <td id=\"T_5f8a4_row7_col7\" class=\"data row7 col7\" >249</td>\n",
       "      <td id=\"T_5f8a4_row7_col8\" class=\"data row7 col8\" >253</td>\n",
       "      <td id=\"T_5f8a4_row7_col9\" class=\"data row7 col9\" >187</td>\n",
       "      <td id=\"T_5f8a4_row7_col10\" class=\"data row7 col10\" >46</td>\n",
       "      <td id=\"T_5f8a4_row7_col11\" class=\"data row7 col11\" >10</td>\n",
       "      <td id=\"T_5f8a4_row7_col12\" class=\"data row7 col12\" >8</td>\n",
       "      <td id=\"T_5f8a4_row7_col13\" class=\"data row7 col13\" >4</td>\n",
       "      <td id=\"T_5f8a4_row7_col14\" class=\"data row7 col14\" >10</td>\n",
       "      <td id=\"T_5f8a4_row7_col15\" class=\"data row7 col15\" >194</td>\n",
       "      <td id=\"T_5f8a4_row7_col16\" class=\"data row7 col16\" >253</td>\n",
       "      <td id=\"T_5f8a4_row7_col17\" class=\"data row7 col17\" >253</td>\n",
       "      <td id=\"T_5f8a4_row7_col18\" class=\"data row7 col18\" >233</td>\n",
       "      <td id=\"T_5f8a4_row7_col19\" class=\"data row7 col19\" >0</td>\n",
       "      <td id=\"T_5f8a4_row7_col20\" class=\"data row7 col20\" >0</td>\n",
       "      <td id=\"T_5f8a4_row7_col21\" class=\"data row7 col21\" >0</td>\n",
       "      <td id=\"T_5f8a4_row7_col22\" class=\"data row7 col22\" >0</td>\n",
       "      <td id=\"T_5f8a4_row7_col23\" class=\"data row7 col23\" >0</td>\n",
       "      <td id=\"T_5f8a4_row7_col24\" class=\"data row7 col24\" >0</td>\n",
       "      <td id=\"T_5f8a4_row7_col25\" class=\"data row7 col25\" >0</td>\n",
       "      <td id=\"T_5f8a4_row7_col26\" class=\"data row7 col26\" >0</td>\n",
       "      <td id=\"T_5f8a4_row7_col27\" class=\"data row7 col27\" >0</td>\n",
       "    </tr>\n",
       "    <tr>\n",
       "      <th id=\"T_5f8a4_level0_row8\" class=\"row_heading level0 row8\" >8</th>\n",
       "      <td id=\"T_5f8a4_row8_col0\" class=\"data row8 col0\" >0</td>\n",
       "      <td id=\"T_5f8a4_row8_col1\" class=\"data row8 col1\" >0</td>\n",
       "      <td id=\"T_5f8a4_row8_col2\" class=\"data row8 col2\" >0</td>\n",
       "      <td id=\"T_5f8a4_row8_col3\" class=\"data row8 col3\" >0</td>\n",
       "      <td id=\"T_5f8a4_row8_col4\" class=\"data row8 col4\" >0</td>\n",
       "      <td id=\"T_5f8a4_row8_col5\" class=\"data row8 col5\" >107</td>\n",
       "      <td id=\"T_5f8a4_row8_col6\" class=\"data row8 col6\" >253</td>\n",
       "      <td id=\"T_5f8a4_row8_col7\" class=\"data row8 col7\" >253</td>\n",
       "      <td id=\"T_5f8a4_row8_col8\" class=\"data row8 col8\" >230</td>\n",
       "      <td id=\"T_5f8a4_row8_col9\" class=\"data row8 col9\" >48</td>\n",
       "      <td id=\"T_5f8a4_row8_col10\" class=\"data row8 col10\" >0</td>\n",
       "      <td id=\"T_5f8a4_row8_col11\" class=\"data row8 col11\" >0</td>\n",
       "      <td id=\"T_5f8a4_row8_col12\" class=\"data row8 col12\" >0</td>\n",
       "      <td id=\"T_5f8a4_row8_col13\" class=\"data row8 col13\" >0</td>\n",
       "      <td id=\"T_5f8a4_row8_col14\" class=\"data row8 col14\" >0</td>\n",
       "      <td id=\"T_5f8a4_row8_col15\" class=\"data row8 col15\" >192</td>\n",
       "      <td id=\"T_5f8a4_row8_col16\" class=\"data row8 col16\" >253</td>\n",
       "      <td id=\"T_5f8a4_row8_col17\" class=\"data row8 col17\" >253</td>\n",
       "      <td id=\"T_5f8a4_row8_col18\" class=\"data row8 col18\" >156</td>\n",
       "      <td id=\"T_5f8a4_row8_col19\" class=\"data row8 col19\" >0</td>\n",
       "      <td id=\"T_5f8a4_row8_col20\" class=\"data row8 col20\" >0</td>\n",
       "      <td id=\"T_5f8a4_row8_col21\" class=\"data row8 col21\" >0</td>\n",
       "      <td id=\"T_5f8a4_row8_col22\" class=\"data row8 col22\" >0</td>\n",
       "      <td id=\"T_5f8a4_row8_col23\" class=\"data row8 col23\" >0</td>\n",
       "      <td id=\"T_5f8a4_row8_col24\" class=\"data row8 col24\" >0</td>\n",
       "      <td id=\"T_5f8a4_row8_col25\" class=\"data row8 col25\" >0</td>\n",
       "      <td id=\"T_5f8a4_row8_col26\" class=\"data row8 col26\" >0</td>\n",
       "      <td id=\"T_5f8a4_row8_col27\" class=\"data row8 col27\" >0</td>\n",
       "    </tr>\n",
       "    <tr>\n",
       "      <th id=\"T_5f8a4_level0_row9\" class=\"row_heading level0 row9\" >9</th>\n",
       "      <td id=\"T_5f8a4_row9_col0\" class=\"data row9 col0\" >0</td>\n",
       "      <td id=\"T_5f8a4_row9_col1\" class=\"data row9 col1\" >0</td>\n",
       "      <td id=\"T_5f8a4_row9_col2\" class=\"data row9 col2\" >0</td>\n",
       "      <td id=\"T_5f8a4_row9_col3\" class=\"data row9 col3\" >0</td>\n",
       "      <td id=\"T_5f8a4_row9_col4\" class=\"data row9 col4\" >0</td>\n",
       "      <td id=\"T_5f8a4_row9_col5\" class=\"data row9 col5\" >3</td>\n",
       "      <td id=\"T_5f8a4_row9_col6\" class=\"data row9 col6\" >20</td>\n",
       "      <td id=\"T_5f8a4_row9_col7\" class=\"data row9 col7\" >20</td>\n",
       "      <td id=\"T_5f8a4_row9_col8\" class=\"data row9 col8\" >15</td>\n",
       "      <td id=\"T_5f8a4_row9_col9\" class=\"data row9 col9\" >0</td>\n",
       "      <td id=\"T_5f8a4_row9_col10\" class=\"data row9 col10\" >0</td>\n",
       "      <td id=\"T_5f8a4_row9_col11\" class=\"data row9 col11\" >0</td>\n",
       "      <td id=\"T_5f8a4_row9_col12\" class=\"data row9 col12\" >0</td>\n",
       "      <td id=\"T_5f8a4_row9_col13\" class=\"data row9 col13\" >0</td>\n",
       "      <td id=\"T_5f8a4_row9_col14\" class=\"data row9 col14\" >43</td>\n",
       "      <td id=\"T_5f8a4_row9_col15\" class=\"data row9 col15\" >224</td>\n",
       "      <td id=\"T_5f8a4_row9_col16\" class=\"data row9 col16\" >253</td>\n",
       "      <td id=\"T_5f8a4_row9_col17\" class=\"data row9 col17\" >245</td>\n",
       "      <td id=\"T_5f8a4_row9_col18\" class=\"data row9 col18\" >74</td>\n",
       "      <td id=\"T_5f8a4_row9_col19\" class=\"data row9 col19\" >0</td>\n",
       "      <td id=\"T_5f8a4_row9_col20\" class=\"data row9 col20\" >0</td>\n",
       "      <td id=\"T_5f8a4_row9_col21\" class=\"data row9 col21\" >0</td>\n",
       "      <td id=\"T_5f8a4_row9_col22\" class=\"data row9 col22\" >0</td>\n",
       "      <td id=\"T_5f8a4_row9_col23\" class=\"data row9 col23\" >0</td>\n",
       "      <td id=\"T_5f8a4_row9_col24\" class=\"data row9 col24\" >0</td>\n",
       "      <td id=\"T_5f8a4_row9_col25\" class=\"data row9 col25\" >0</td>\n",
       "      <td id=\"T_5f8a4_row9_col26\" class=\"data row9 col26\" >0</td>\n",
       "      <td id=\"T_5f8a4_row9_col27\" class=\"data row9 col27\" >0</td>\n",
       "    </tr>\n",
       "    <tr>\n",
       "      <th id=\"T_5f8a4_level0_row10\" class=\"row_heading level0 row10\" >10</th>\n",
       "      <td id=\"T_5f8a4_row10_col0\" class=\"data row10 col0\" >0</td>\n",
       "      <td id=\"T_5f8a4_row10_col1\" class=\"data row10 col1\" >0</td>\n",
       "      <td id=\"T_5f8a4_row10_col2\" class=\"data row10 col2\" >0</td>\n",
       "      <td id=\"T_5f8a4_row10_col3\" class=\"data row10 col3\" >0</td>\n",
       "      <td id=\"T_5f8a4_row10_col4\" class=\"data row10 col4\" >0</td>\n",
       "      <td id=\"T_5f8a4_row10_col5\" class=\"data row10 col5\" >0</td>\n",
       "      <td id=\"T_5f8a4_row10_col6\" class=\"data row10 col6\" >0</td>\n",
       "      <td id=\"T_5f8a4_row10_col7\" class=\"data row10 col7\" >0</td>\n",
       "      <td id=\"T_5f8a4_row10_col8\" class=\"data row10 col8\" >0</td>\n",
       "      <td id=\"T_5f8a4_row10_col9\" class=\"data row10 col9\" >0</td>\n",
       "      <td id=\"T_5f8a4_row10_col10\" class=\"data row10 col10\" >0</td>\n",
       "      <td id=\"T_5f8a4_row10_col11\" class=\"data row10 col11\" >0</td>\n",
       "      <td id=\"T_5f8a4_row10_col12\" class=\"data row10 col12\" >0</td>\n",
       "      <td id=\"T_5f8a4_row10_col13\" class=\"data row10 col13\" >0</td>\n",
       "      <td id=\"T_5f8a4_row10_col14\" class=\"data row10 col14\" >249</td>\n",
       "      <td id=\"T_5f8a4_row10_col15\" class=\"data row10 col15\" >253</td>\n",
       "      <td id=\"T_5f8a4_row10_col16\" class=\"data row10 col16\" >245</td>\n",
       "      <td id=\"T_5f8a4_row10_col17\" class=\"data row10 col17\" >126</td>\n",
       "      <td id=\"T_5f8a4_row10_col18\" class=\"data row10 col18\" >0</td>\n",
       "      <td id=\"T_5f8a4_row10_col19\" class=\"data row10 col19\" >0</td>\n",
       "      <td id=\"T_5f8a4_row10_col20\" class=\"data row10 col20\" >0</td>\n",
       "      <td id=\"T_5f8a4_row10_col21\" class=\"data row10 col21\" >0</td>\n",
       "      <td id=\"T_5f8a4_row10_col22\" class=\"data row10 col22\" >0</td>\n",
       "      <td id=\"T_5f8a4_row10_col23\" class=\"data row10 col23\" >0</td>\n",
       "      <td id=\"T_5f8a4_row10_col24\" class=\"data row10 col24\" >0</td>\n",
       "      <td id=\"T_5f8a4_row10_col25\" class=\"data row10 col25\" >0</td>\n",
       "      <td id=\"T_5f8a4_row10_col26\" class=\"data row10 col26\" >0</td>\n",
       "      <td id=\"T_5f8a4_row10_col27\" class=\"data row10 col27\" >0</td>\n",
       "    </tr>\n",
       "    <tr>\n",
       "      <th id=\"T_5f8a4_level0_row11\" class=\"row_heading level0 row11\" >11</th>\n",
       "      <td id=\"T_5f8a4_row11_col0\" class=\"data row11 col0\" >0</td>\n",
       "      <td id=\"T_5f8a4_row11_col1\" class=\"data row11 col1\" >0</td>\n",
       "      <td id=\"T_5f8a4_row11_col2\" class=\"data row11 col2\" >0</td>\n",
       "      <td id=\"T_5f8a4_row11_col3\" class=\"data row11 col3\" >0</td>\n",
       "      <td id=\"T_5f8a4_row11_col4\" class=\"data row11 col4\" >0</td>\n",
       "      <td id=\"T_5f8a4_row11_col5\" class=\"data row11 col5\" >0</td>\n",
       "      <td id=\"T_5f8a4_row11_col6\" class=\"data row11 col6\" >0</td>\n",
       "      <td id=\"T_5f8a4_row11_col7\" class=\"data row11 col7\" >0</td>\n",
       "      <td id=\"T_5f8a4_row11_col8\" class=\"data row11 col8\" >0</td>\n",
       "      <td id=\"T_5f8a4_row11_col9\" class=\"data row11 col9\" >0</td>\n",
       "      <td id=\"T_5f8a4_row11_col10\" class=\"data row11 col10\" >0</td>\n",
       "      <td id=\"T_5f8a4_row11_col11\" class=\"data row11 col11\" >14</td>\n",
       "      <td id=\"T_5f8a4_row11_col12\" class=\"data row11 col12\" >101</td>\n",
       "      <td id=\"T_5f8a4_row11_col13\" class=\"data row11 col13\" >223</td>\n",
       "      <td id=\"T_5f8a4_row11_col14\" class=\"data row11 col14\" >253</td>\n",
       "      <td id=\"T_5f8a4_row11_col15\" class=\"data row11 col15\" >248</td>\n",
       "      <td id=\"T_5f8a4_row11_col16\" class=\"data row11 col16\" >124</td>\n",
       "      <td id=\"T_5f8a4_row11_col17\" class=\"data row11 col17\" >0</td>\n",
       "      <td id=\"T_5f8a4_row11_col18\" class=\"data row11 col18\" >0</td>\n",
       "      <td id=\"T_5f8a4_row11_col19\" class=\"data row11 col19\" >0</td>\n",
       "      <td id=\"T_5f8a4_row11_col20\" class=\"data row11 col20\" >0</td>\n",
       "      <td id=\"T_5f8a4_row11_col21\" class=\"data row11 col21\" >0</td>\n",
       "      <td id=\"T_5f8a4_row11_col22\" class=\"data row11 col22\" >0</td>\n",
       "      <td id=\"T_5f8a4_row11_col23\" class=\"data row11 col23\" >0</td>\n",
       "      <td id=\"T_5f8a4_row11_col24\" class=\"data row11 col24\" >0</td>\n",
       "      <td id=\"T_5f8a4_row11_col25\" class=\"data row11 col25\" >0</td>\n",
       "      <td id=\"T_5f8a4_row11_col26\" class=\"data row11 col26\" >0</td>\n",
       "      <td id=\"T_5f8a4_row11_col27\" class=\"data row11 col27\" >0</td>\n",
       "    </tr>\n",
       "    <tr>\n",
       "      <th id=\"T_5f8a4_level0_row12\" class=\"row_heading level0 row12\" >12</th>\n",
       "      <td id=\"T_5f8a4_row12_col0\" class=\"data row12 col0\" >0</td>\n",
       "      <td id=\"T_5f8a4_row12_col1\" class=\"data row12 col1\" >0</td>\n",
       "      <td id=\"T_5f8a4_row12_col2\" class=\"data row12 col2\" >0</td>\n",
       "      <td id=\"T_5f8a4_row12_col3\" class=\"data row12 col3\" >0</td>\n",
       "      <td id=\"T_5f8a4_row12_col4\" class=\"data row12 col4\" >0</td>\n",
       "      <td id=\"T_5f8a4_row12_col5\" class=\"data row12 col5\" >0</td>\n",
       "      <td id=\"T_5f8a4_row12_col6\" class=\"data row12 col6\" >0</td>\n",
       "      <td id=\"T_5f8a4_row12_col7\" class=\"data row12 col7\" >0</td>\n",
       "      <td id=\"T_5f8a4_row12_col8\" class=\"data row12 col8\" >0</td>\n",
       "      <td id=\"T_5f8a4_row12_col9\" class=\"data row12 col9\" >11</td>\n",
       "      <td id=\"T_5f8a4_row12_col10\" class=\"data row12 col10\" >166</td>\n",
       "      <td id=\"T_5f8a4_row12_col11\" class=\"data row12 col11\" >239</td>\n",
       "      <td id=\"T_5f8a4_row12_col12\" class=\"data row12 col12\" >253</td>\n",
       "      <td id=\"T_5f8a4_row12_col13\" class=\"data row12 col13\" >253</td>\n",
       "      <td id=\"T_5f8a4_row12_col14\" class=\"data row12 col14\" >253</td>\n",
       "      <td id=\"T_5f8a4_row12_col15\" class=\"data row12 col15\" >187</td>\n",
       "      <td id=\"T_5f8a4_row12_col16\" class=\"data row12 col16\" >30</td>\n",
       "      <td id=\"T_5f8a4_row12_col17\" class=\"data row12 col17\" >0</td>\n",
       "      <td id=\"T_5f8a4_row12_col18\" class=\"data row12 col18\" >0</td>\n",
       "      <td id=\"T_5f8a4_row12_col19\" class=\"data row12 col19\" >0</td>\n",
       "      <td id=\"T_5f8a4_row12_col20\" class=\"data row12 col20\" >0</td>\n",
       "      <td id=\"T_5f8a4_row12_col21\" class=\"data row12 col21\" >0</td>\n",
       "      <td id=\"T_5f8a4_row12_col22\" class=\"data row12 col22\" >0</td>\n",
       "      <td id=\"T_5f8a4_row12_col23\" class=\"data row12 col23\" >0</td>\n",
       "      <td id=\"T_5f8a4_row12_col24\" class=\"data row12 col24\" >0</td>\n",
       "      <td id=\"T_5f8a4_row12_col25\" class=\"data row12 col25\" >0</td>\n",
       "      <td id=\"T_5f8a4_row12_col26\" class=\"data row12 col26\" >0</td>\n",
       "      <td id=\"T_5f8a4_row12_col27\" class=\"data row12 col27\" >0</td>\n",
       "    </tr>\n",
       "    <tr>\n",
       "      <th id=\"T_5f8a4_level0_row13\" class=\"row_heading level0 row13\" >13</th>\n",
       "      <td id=\"T_5f8a4_row13_col0\" class=\"data row13 col0\" >0</td>\n",
       "      <td id=\"T_5f8a4_row13_col1\" class=\"data row13 col1\" >0</td>\n",
       "      <td id=\"T_5f8a4_row13_col2\" class=\"data row13 col2\" >0</td>\n",
       "      <td id=\"T_5f8a4_row13_col3\" class=\"data row13 col3\" >0</td>\n",
       "      <td id=\"T_5f8a4_row13_col4\" class=\"data row13 col4\" >0</td>\n",
       "      <td id=\"T_5f8a4_row13_col5\" class=\"data row13 col5\" >0</td>\n",
       "      <td id=\"T_5f8a4_row13_col6\" class=\"data row13 col6\" >0</td>\n",
       "      <td id=\"T_5f8a4_row13_col7\" class=\"data row13 col7\" >0</td>\n",
       "      <td id=\"T_5f8a4_row13_col8\" class=\"data row13 col8\" >0</td>\n",
       "      <td id=\"T_5f8a4_row13_col9\" class=\"data row13 col9\" >16</td>\n",
       "      <td id=\"T_5f8a4_row13_col10\" class=\"data row13 col10\" >248</td>\n",
       "      <td id=\"T_5f8a4_row13_col11\" class=\"data row13 col11\" >250</td>\n",
       "      <td id=\"T_5f8a4_row13_col12\" class=\"data row13 col12\" >253</td>\n",
       "      <td id=\"T_5f8a4_row13_col13\" class=\"data row13 col13\" >253</td>\n",
       "      <td id=\"T_5f8a4_row13_col14\" class=\"data row13 col14\" >253</td>\n",
       "      <td id=\"T_5f8a4_row13_col15\" class=\"data row13 col15\" >253</td>\n",
       "      <td id=\"T_5f8a4_row13_col16\" class=\"data row13 col16\" >232</td>\n",
       "      <td id=\"T_5f8a4_row13_col17\" class=\"data row13 col17\" >213</td>\n",
       "      <td id=\"T_5f8a4_row13_col18\" class=\"data row13 col18\" >111</td>\n",
       "      <td id=\"T_5f8a4_row13_col19\" class=\"data row13 col19\" >2</td>\n",
       "      <td id=\"T_5f8a4_row13_col20\" class=\"data row13 col20\" >0</td>\n",
       "      <td id=\"T_5f8a4_row13_col21\" class=\"data row13 col21\" >0</td>\n",
       "      <td id=\"T_5f8a4_row13_col22\" class=\"data row13 col22\" >0</td>\n",
       "      <td id=\"T_5f8a4_row13_col23\" class=\"data row13 col23\" >0</td>\n",
       "      <td id=\"T_5f8a4_row13_col24\" class=\"data row13 col24\" >0</td>\n",
       "      <td id=\"T_5f8a4_row13_col25\" class=\"data row13 col25\" >0</td>\n",
       "      <td id=\"T_5f8a4_row13_col26\" class=\"data row13 col26\" >0</td>\n",
       "      <td id=\"T_5f8a4_row13_col27\" class=\"data row13 col27\" >0</td>\n",
       "    </tr>\n",
       "    <tr>\n",
       "      <th id=\"T_5f8a4_level0_row14\" class=\"row_heading level0 row14\" >14</th>\n",
       "      <td id=\"T_5f8a4_row14_col0\" class=\"data row14 col0\" >0</td>\n",
       "      <td id=\"T_5f8a4_row14_col1\" class=\"data row14 col1\" >0</td>\n",
       "      <td id=\"T_5f8a4_row14_col2\" class=\"data row14 col2\" >0</td>\n",
       "      <td id=\"T_5f8a4_row14_col3\" class=\"data row14 col3\" >0</td>\n",
       "      <td id=\"T_5f8a4_row14_col4\" class=\"data row14 col4\" >0</td>\n",
       "      <td id=\"T_5f8a4_row14_col5\" class=\"data row14 col5\" >0</td>\n",
       "      <td id=\"T_5f8a4_row14_col6\" class=\"data row14 col6\" >0</td>\n",
       "      <td id=\"T_5f8a4_row14_col7\" class=\"data row14 col7\" >0</td>\n",
       "      <td id=\"T_5f8a4_row14_col8\" class=\"data row14 col8\" >0</td>\n",
       "      <td id=\"T_5f8a4_row14_col9\" class=\"data row14 col9\" >0</td>\n",
       "      <td id=\"T_5f8a4_row14_col10\" class=\"data row14 col10\" >0</td>\n",
       "      <td id=\"T_5f8a4_row14_col11\" class=\"data row14 col11\" >43</td>\n",
       "      <td id=\"T_5f8a4_row14_col12\" class=\"data row14 col12\" >98</td>\n",
       "      <td id=\"T_5f8a4_row14_col13\" class=\"data row14 col13\" >98</td>\n",
       "      <td id=\"T_5f8a4_row14_col14\" class=\"data row14 col14\" >208</td>\n",
       "      <td id=\"T_5f8a4_row14_col15\" class=\"data row14 col15\" >253</td>\n",
       "      <td id=\"T_5f8a4_row14_col16\" class=\"data row14 col16\" >253</td>\n",
       "      <td id=\"T_5f8a4_row14_col17\" class=\"data row14 col17\" >253</td>\n",
       "      <td id=\"T_5f8a4_row14_col18\" class=\"data row14 col18\" >253</td>\n",
       "      <td id=\"T_5f8a4_row14_col19\" class=\"data row14 col19\" >187</td>\n",
       "      <td id=\"T_5f8a4_row14_col20\" class=\"data row14 col20\" >22</td>\n",
       "      <td id=\"T_5f8a4_row14_col21\" class=\"data row14 col21\" >0</td>\n",
       "      <td id=\"T_5f8a4_row14_col22\" class=\"data row14 col22\" >0</td>\n",
       "      <td id=\"T_5f8a4_row14_col23\" class=\"data row14 col23\" >0</td>\n",
       "      <td id=\"T_5f8a4_row14_col24\" class=\"data row14 col24\" >0</td>\n",
       "      <td id=\"T_5f8a4_row14_col25\" class=\"data row14 col25\" >0</td>\n",
       "      <td id=\"T_5f8a4_row14_col26\" class=\"data row14 col26\" >0</td>\n",
       "      <td id=\"T_5f8a4_row14_col27\" class=\"data row14 col27\" >0</td>\n",
       "    </tr>\n",
       "    <tr>\n",
       "      <th id=\"T_5f8a4_level0_row15\" class=\"row_heading level0 row15\" >15</th>\n",
       "      <td id=\"T_5f8a4_row15_col0\" class=\"data row15 col0\" >0</td>\n",
       "      <td id=\"T_5f8a4_row15_col1\" class=\"data row15 col1\" >0</td>\n",
       "      <td id=\"T_5f8a4_row15_col2\" class=\"data row15 col2\" >0</td>\n",
       "      <td id=\"T_5f8a4_row15_col3\" class=\"data row15 col3\" >0</td>\n",
       "      <td id=\"T_5f8a4_row15_col4\" class=\"data row15 col4\" >0</td>\n",
       "      <td id=\"T_5f8a4_row15_col5\" class=\"data row15 col5\" >0</td>\n",
       "      <td id=\"T_5f8a4_row15_col6\" class=\"data row15 col6\" >0</td>\n",
       "      <td id=\"T_5f8a4_row15_col7\" class=\"data row15 col7\" >0</td>\n",
       "      <td id=\"T_5f8a4_row15_col8\" class=\"data row15 col8\" >0</td>\n",
       "      <td id=\"T_5f8a4_row15_col9\" class=\"data row15 col9\" >0</td>\n",
       "      <td id=\"T_5f8a4_row15_col10\" class=\"data row15 col10\" >0</td>\n",
       "      <td id=\"T_5f8a4_row15_col11\" class=\"data row15 col11\" >0</td>\n",
       "      <td id=\"T_5f8a4_row15_col12\" class=\"data row15 col12\" >0</td>\n",
       "      <td id=\"T_5f8a4_row15_col13\" class=\"data row15 col13\" >0</td>\n",
       "      <td id=\"T_5f8a4_row15_col14\" class=\"data row15 col14\" >9</td>\n",
       "      <td id=\"T_5f8a4_row15_col15\" class=\"data row15 col15\" >51</td>\n",
       "      <td id=\"T_5f8a4_row15_col16\" class=\"data row15 col16\" >119</td>\n",
       "      <td id=\"T_5f8a4_row15_col17\" class=\"data row15 col17\" >253</td>\n",
       "      <td id=\"T_5f8a4_row15_col18\" class=\"data row15 col18\" >253</td>\n",
       "      <td id=\"T_5f8a4_row15_col19\" class=\"data row15 col19\" >253</td>\n",
       "      <td id=\"T_5f8a4_row15_col20\" class=\"data row15 col20\" >76</td>\n",
       "      <td id=\"T_5f8a4_row15_col21\" class=\"data row15 col21\" >0</td>\n",
       "      <td id=\"T_5f8a4_row15_col22\" class=\"data row15 col22\" >0</td>\n",
       "      <td id=\"T_5f8a4_row15_col23\" class=\"data row15 col23\" >0</td>\n",
       "      <td id=\"T_5f8a4_row15_col24\" class=\"data row15 col24\" >0</td>\n",
       "      <td id=\"T_5f8a4_row15_col25\" class=\"data row15 col25\" >0</td>\n",
       "      <td id=\"T_5f8a4_row15_col26\" class=\"data row15 col26\" >0</td>\n",
       "      <td id=\"T_5f8a4_row15_col27\" class=\"data row15 col27\" >0</td>\n",
       "    </tr>\n",
       "    <tr>\n",
       "      <th id=\"T_5f8a4_level0_row16\" class=\"row_heading level0 row16\" >16</th>\n",
       "      <td id=\"T_5f8a4_row16_col0\" class=\"data row16 col0\" >0</td>\n",
       "      <td id=\"T_5f8a4_row16_col1\" class=\"data row16 col1\" >0</td>\n",
       "      <td id=\"T_5f8a4_row16_col2\" class=\"data row16 col2\" >0</td>\n",
       "      <td id=\"T_5f8a4_row16_col3\" class=\"data row16 col3\" >0</td>\n",
       "      <td id=\"T_5f8a4_row16_col4\" class=\"data row16 col4\" >0</td>\n",
       "      <td id=\"T_5f8a4_row16_col5\" class=\"data row16 col5\" >0</td>\n",
       "      <td id=\"T_5f8a4_row16_col6\" class=\"data row16 col6\" >0</td>\n",
       "      <td id=\"T_5f8a4_row16_col7\" class=\"data row16 col7\" >0</td>\n",
       "      <td id=\"T_5f8a4_row16_col8\" class=\"data row16 col8\" >0</td>\n",
       "      <td id=\"T_5f8a4_row16_col9\" class=\"data row16 col9\" >0</td>\n",
       "      <td id=\"T_5f8a4_row16_col10\" class=\"data row16 col10\" >0</td>\n",
       "      <td id=\"T_5f8a4_row16_col11\" class=\"data row16 col11\" >0</td>\n",
       "      <td id=\"T_5f8a4_row16_col12\" class=\"data row16 col12\" >0</td>\n",
       "      <td id=\"T_5f8a4_row16_col13\" class=\"data row16 col13\" >0</td>\n",
       "      <td id=\"T_5f8a4_row16_col14\" class=\"data row16 col14\" >0</td>\n",
       "      <td id=\"T_5f8a4_row16_col15\" class=\"data row16 col15\" >0</td>\n",
       "      <td id=\"T_5f8a4_row16_col16\" class=\"data row16 col16\" >1</td>\n",
       "      <td id=\"T_5f8a4_row16_col17\" class=\"data row16 col17\" >183</td>\n",
       "      <td id=\"T_5f8a4_row16_col18\" class=\"data row16 col18\" >253</td>\n",
       "      <td id=\"T_5f8a4_row16_col19\" class=\"data row16 col19\" >253</td>\n",
       "      <td id=\"T_5f8a4_row16_col20\" class=\"data row16 col20\" >139</td>\n",
       "      <td id=\"T_5f8a4_row16_col21\" class=\"data row16 col21\" >0</td>\n",
       "      <td id=\"T_5f8a4_row16_col22\" class=\"data row16 col22\" >0</td>\n",
       "      <td id=\"T_5f8a4_row16_col23\" class=\"data row16 col23\" >0</td>\n",
       "      <td id=\"T_5f8a4_row16_col24\" class=\"data row16 col24\" >0</td>\n",
       "      <td id=\"T_5f8a4_row16_col25\" class=\"data row16 col25\" >0</td>\n",
       "      <td id=\"T_5f8a4_row16_col26\" class=\"data row16 col26\" >0</td>\n",
       "      <td id=\"T_5f8a4_row16_col27\" class=\"data row16 col27\" >0</td>\n",
       "    </tr>\n",
       "    <tr>\n",
       "      <th id=\"T_5f8a4_level0_row17\" class=\"row_heading level0 row17\" >17</th>\n",
       "      <td id=\"T_5f8a4_row17_col0\" class=\"data row17 col0\" >0</td>\n",
       "      <td id=\"T_5f8a4_row17_col1\" class=\"data row17 col1\" >0</td>\n",
       "      <td id=\"T_5f8a4_row17_col2\" class=\"data row17 col2\" >0</td>\n",
       "      <td id=\"T_5f8a4_row17_col3\" class=\"data row17 col3\" >0</td>\n",
       "      <td id=\"T_5f8a4_row17_col4\" class=\"data row17 col4\" >0</td>\n",
       "      <td id=\"T_5f8a4_row17_col5\" class=\"data row17 col5\" >0</td>\n",
       "      <td id=\"T_5f8a4_row17_col6\" class=\"data row17 col6\" >0</td>\n",
       "      <td id=\"T_5f8a4_row17_col7\" class=\"data row17 col7\" >0</td>\n",
       "      <td id=\"T_5f8a4_row17_col8\" class=\"data row17 col8\" >0</td>\n",
       "      <td id=\"T_5f8a4_row17_col9\" class=\"data row17 col9\" >0</td>\n",
       "      <td id=\"T_5f8a4_row17_col10\" class=\"data row17 col10\" >0</td>\n",
       "      <td id=\"T_5f8a4_row17_col11\" class=\"data row17 col11\" >0</td>\n",
       "      <td id=\"T_5f8a4_row17_col12\" class=\"data row17 col12\" >0</td>\n",
       "      <td id=\"T_5f8a4_row17_col13\" class=\"data row17 col13\" >0</td>\n",
       "      <td id=\"T_5f8a4_row17_col14\" class=\"data row17 col14\" >0</td>\n",
       "      <td id=\"T_5f8a4_row17_col15\" class=\"data row17 col15\" >0</td>\n",
       "      <td id=\"T_5f8a4_row17_col16\" class=\"data row17 col16\" >0</td>\n",
       "      <td id=\"T_5f8a4_row17_col17\" class=\"data row17 col17\" >182</td>\n",
       "      <td id=\"T_5f8a4_row17_col18\" class=\"data row17 col18\" >253</td>\n",
       "      <td id=\"T_5f8a4_row17_col19\" class=\"data row17 col19\" >253</td>\n",
       "      <td id=\"T_5f8a4_row17_col20\" class=\"data row17 col20\" >104</td>\n",
       "      <td id=\"T_5f8a4_row17_col21\" class=\"data row17 col21\" >0</td>\n",
       "      <td id=\"T_5f8a4_row17_col22\" class=\"data row17 col22\" >0</td>\n",
       "      <td id=\"T_5f8a4_row17_col23\" class=\"data row17 col23\" >0</td>\n",
       "      <td id=\"T_5f8a4_row17_col24\" class=\"data row17 col24\" >0</td>\n",
       "      <td id=\"T_5f8a4_row17_col25\" class=\"data row17 col25\" >0</td>\n",
       "      <td id=\"T_5f8a4_row17_col26\" class=\"data row17 col26\" >0</td>\n",
       "      <td id=\"T_5f8a4_row17_col27\" class=\"data row17 col27\" >0</td>\n",
       "    </tr>\n",
       "    <tr>\n",
       "      <th id=\"T_5f8a4_level0_row18\" class=\"row_heading level0 row18\" >18</th>\n",
       "      <td id=\"T_5f8a4_row18_col0\" class=\"data row18 col0\" >0</td>\n",
       "      <td id=\"T_5f8a4_row18_col1\" class=\"data row18 col1\" >0</td>\n",
       "      <td id=\"T_5f8a4_row18_col2\" class=\"data row18 col2\" >0</td>\n",
       "      <td id=\"T_5f8a4_row18_col3\" class=\"data row18 col3\" >0</td>\n",
       "      <td id=\"T_5f8a4_row18_col4\" class=\"data row18 col4\" >0</td>\n",
       "      <td id=\"T_5f8a4_row18_col5\" class=\"data row18 col5\" >0</td>\n",
       "      <td id=\"T_5f8a4_row18_col6\" class=\"data row18 col6\" >0</td>\n",
       "      <td id=\"T_5f8a4_row18_col7\" class=\"data row18 col7\" >0</td>\n",
       "      <td id=\"T_5f8a4_row18_col8\" class=\"data row18 col8\" >0</td>\n",
       "      <td id=\"T_5f8a4_row18_col9\" class=\"data row18 col9\" >0</td>\n",
       "      <td id=\"T_5f8a4_row18_col10\" class=\"data row18 col10\" >0</td>\n",
       "      <td id=\"T_5f8a4_row18_col11\" class=\"data row18 col11\" >0</td>\n",
       "      <td id=\"T_5f8a4_row18_col12\" class=\"data row18 col12\" >0</td>\n",
       "      <td id=\"T_5f8a4_row18_col13\" class=\"data row18 col13\" >0</td>\n",
       "      <td id=\"T_5f8a4_row18_col14\" class=\"data row18 col14\" >0</td>\n",
       "      <td id=\"T_5f8a4_row18_col15\" class=\"data row18 col15\" >0</td>\n",
       "      <td id=\"T_5f8a4_row18_col16\" class=\"data row18 col16\" >85</td>\n",
       "      <td id=\"T_5f8a4_row18_col17\" class=\"data row18 col17\" >249</td>\n",
       "      <td id=\"T_5f8a4_row18_col18\" class=\"data row18 col18\" >253</td>\n",
       "      <td id=\"T_5f8a4_row18_col19\" class=\"data row18 col19\" >253</td>\n",
       "      <td id=\"T_5f8a4_row18_col20\" class=\"data row18 col20\" >36</td>\n",
       "      <td id=\"T_5f8a4_row18_col21\" class=\"data row18 col21\" >0</td>\n",
       "      <td id=\"T_5f8a4_row18_col22\" class=\"data row18 col22\" >0</td>\n",
       "      <td id=\"T_5f8a4_row18_col23\" class=\"data row18 col23\" >0</td>\n",
       "      <td id=\"T_5f8a4_row18_col24\" class=\"data row18 col24\" >0</td>\n",
       "      <td id=\"T_5f8a4_row18_col25\" class=\"data row18 col25\" >0</td>\n",
       "      <td id=\"T_5f8a4_row18_col26\" class=\"data row18 col26\" >0</td>\n",
       "      <td id=\"T_5f8a4_row18_col27\" class=\"data row18 col27\" >0</td>\n",
       "    </tr>\n",
       "    <tr>\n",
       "      <th id=\"T_5f8a4_level0_row19\" class=\"row_heading level0 row19\" >19</th>\n",
       "      <td id=\"T_5f8a4_row19_col0\" class=\"data row19 col0\" >0</td>\n",
       "      <td id=\"T_5f8a4_row19_col1\" class=\"data row19 col1\" >0</td>\n",
       "      <td id=\"T_5f8a4_row19_col2\" class=\"data row19 col2\" >0</td>\n",
       "      <td id=\"T_5f8a4_row19_col3\" class=\"data row19 col3\" >0</td>\n",
       "      <td id=\"T_5f8a4_row19_col4\" class=\"data row19 col4\" >0</td>\n",
       "      <td id=\"T_5f8a4_row19_col5\" class=\"data row19 col5\" >0</td>\n",
       "      <td id=\"T_5f8a4_row19_col6\" class=\"data row19 col6\" >0</td>\n",
       "      <td id=\"T_5f8a4_row19_col7\" class=\"data row19 col7\" >0</td>\n",
       "      <td id=\"T_5f8a4_row19_col8\" class=\"data row19 col8\" >0</td>\n",
       "      <td id=\"T_5f8a4_row19_col9\" class=\"data row19 col9\" >0</td>\n",
       "      <td id=\"T_5f8a4_row19_col10\" class=\"data row19 col10\" >0</td>\n",
       "      <td id=\"T_5f8a4_row19_col11\" class=\"data row19 col11\" >0</td>\n",
       "      <td id=\"T_5f8a4_row19_col12\" class=\"data row19 col12\" >0</td>\n",
       "      <td id=\"T_5f8a4_row19_col13\" class=\"data row19 col13\" >0</td>\n",
       "      <td id=\"T_5f8a4_row19_col14\" class=\"data row19 col14\" >0</td>\n",
       "      <td id=\"T_5f8a4_row19_col15\" class=\"data row19 col15\" >60</td>\n",
       "      <td id=\"T_5f8a4_row19_col16\" class=\"data row19 col16\" >214</td>\n",
       "      <td id=\"T_5f8a4_row19_col17\" class=\"data row19 col17\" >253</td>\n",
       "      <td id=\"T_5f8a4_row19_col18\" class=\"data row19 col18\" >253</td>\n",
       "      <td id=\"T_5f8a4_row19_col19\" class=\"data row19 col19\" >173</td>\n",
       "      <td id=\"T_5f8a4_row19_col20\" class=\"data row19 col20\" >11</td>\n",
       "      <td id=\"T_5f8a4_row19_col21\" class=\"data row19 col21\" >0</td>\n",
       "      <td id=\"T_5f8a4_row19_col22\" class=\"data row19 col22\" >0</td>\n",
       "      <td id=\"T_5f8a4_row19_col23\" class=\"data row19 col23\" >0</td>\n",
       "      <td id=\"T_5f8a4_row19_col24\" class=\"data row19 col24\" >0</td>\n",
       "      <td id=\"T_5f8a4_row19_col25\" class=\"data row19 col25\" >0</td>\n",
       "      <td id=\"T_5f8a4_row19_col26\" class=\"data row19 col26\" >0</td>\n",
       "      <td id=\"T_5f8a4_row19_col27\" class=\"data row19 col27\" >0</td>\n",
       "    </tr>\n",
       "    <tr>\n",
       "      <th id=\"T_5f8a4_level0_row20\" class=\"row_heading level0 row20\" >20</th>\n",
       "      <td id=\"T_5f8a4_row20_col0\" class=\"data row20 col0\" >0</td>\n",
       "      <td id=\"T_5f8a4_row20_col1\" class=\"data row20 col1\" >0</td>\n",
       "      <td id=\"T_5f8a4_row20_col2\" class=\"data row20 col2\" >0</td>\n",
       "      <td id=\"T_5f8a4_row20_col3\" class=\"data row20 col3\" >0</td>\n",
       "      <td id=\"T_5f8a4_row20_col4\" class=\"data row20 col4\" >0</td>\n",
       "      <td id=\"T_5f8a4_row20_col5\" class=\"data row20 col5\" >0</td>\n",
       "      <td id=\"T_5f8a4_row20_col6\" class=\"data row20 col6\" >0</td>\n",
       "      <td id=\"T_5f8a4_row20_col7\" class=\"data row20 col7\" >0</td>\n",
       "      <td id=\"T_5f8a4_row20_col8\" class=\"data row20 col8\" >0</td>\n",
       "      <td id=\"T_5f8a4_row20_col9\" class=\"data row20 col9\" >0</td>\n",
       "      <td id=\"T_5f8a4_row20_col10\" class=\"data row20 col10\" >0</td>\n",
       "      <td id=\"T_5f8a4_row20_col11\" class=\"data row20 col11\" >0</td>\n",
       "      <td id=\"T_5f8a4_row20_col12\" class=\"data row20 col12\" >0</td>\n",
       "      <td id=\"T_5f8a4_row20_col13\" class=\"data row20 col13\" >0</td>\n",
       "      <td id=\"T_5f8a4_row20_col14\" class=\"data row20 col14\" >98</td>\n",
       "      <td id=\"T_5f8a4_row20_col15\" class=\"data row20 col15\" >247</td>\n",
       "      <td id=\"T_5f8a4_row20_col16\" class=\"data row20 col16\" >253</td>\n",
       "      <td id=\"T_5f8a4_row20_col17\" class=\"data row20 col17\" >253</td>\n",
       "      <td id=\"T_5f8a4_row20_col18\" class=\"data row20 col18\" >226</td>\n",
       "      <td id=\"T_5f8a4_row20_col19\" class=\"data row20 col19\" >9</td>\n",
       "      <td id=\"T_5f8a4_row20_col20\" class=\"data row20 col20\" >0</td>\n",
       "      <td id=\"T_5f8a4_row20_col21\" class=\"data row20 col21\" >0</td>\n",
       "      <td id=\"T_5f8a4_row20_col22\" class=\"data row20 col22\" >0</td>\n",
       "      <td id=\"T_5f8a4_row20_col23\" class=\"data row20 col23\" >0</td>\n",
       "      <td id=\"T_5f8a4_row20_col24\" class=\"data row20 col24\" >0</td>\n",
       "      <td id=\"T_5f8a4_row20_col25\" class=\"data row20 col25\" >0</td>\n",
       "      <td id=\"T_5f8a4_row20_col26\" class=\"data row20 col26\" >0</td>\n",
       "      <td id=\"T_5f8a4_row20_col27\" class=\"data row20 col27\" >0</td>\n",
       "    </tr>\n",
       "    <tr>\n",
       "      <th id=\"T_5f8a4_level0_row21\" class=\"row_heading level0 row21\" >21</th>\n",
       "      <td id=\"T_5f8a4_row21_col0\" class=\"data row21 col0\" >0</td>\n",
       "      <td id=\"T_5f8a4_row21_col1\" class=\"data row21 col1\" >0</td>\n",
       "      <td id=\"T_5f8a4_row21_col2\" class=\"data row21 col2\" >0</td>\n",
       "      <td id=\"T_5f8a4_row21_col3\" class=\"data row21 col3\" >0</td>\n",
       "      <td id=\"T_5f8a4_row21_col4\" class=\"data row21 col4\" >0</td>\n",
       "      <td id=\"T_5f8a4_row21_col5\" class=\"data row21 col5\" >0</td>\n",
       "      <td id=\"T_5f8a4_row21_col6\" class=\"data row21 col6\" >0</td>\n",
       "      <td id=\"T_5f8a4_row21_col7\" class=\"data row21 col7\" >0</td>\n",
       "      <td id=\"T_5f8a4_row21_col8\" class=\"data row21 col8\" >0</td>\n",
       "      <td id=\"T_5f8a4_row21_col9\" class=\"data row21 col9\" >0</td>\n",
       "      <td id=\"T_5f8a4_row21_col10\" class=\"data row21 col10\" >0</td>\n",
       "      <td id=\"T_5f8a4_row21_col11\" class=\"data row21 col11\" >0</td>\n",
       "      <td id=\"T_5f8a4_row21_col12\" class=\"data row21 col12\" >42</td>\n",
       "      <td id=\"T_5f8a4_row21_col13\" class=\"data row21 col13\" >150</td>\n",
       "      <td id=\"T_5f8a4_row21_col14\" class=\"data row21 col14\" >252</td>\n",
       "      <td id=\"T_5f8a4_row21_col15\" class=\"data row21 col15\" >253</td>\n",
       "      <td id=\"T_5f8a4_row21_col16\" class=\"data row21 col16\" >253</td>\n",
       "      <td id=\"T_5f8a4_row21_col17\" class=\"data row21 col17\" >233</td>\n",
       "      <td id=\"T_5f8a4_row21_col18\" class=\"data row21 col18\" >53</td>\n",
       "      <td id=\"T_5f8a4_row21_col19\" class=\"data row21 col19\" >0</td>\n",
       "      <td id=\"T_5f8a4_row21_col20\" class=\"data row21 col20\" >0</td>\n",
       "      <td id=\"T_5f8a4_row21_col21\" class=\"data row21 col21\" >0</td>\n",
       "      <td id=\"T_5f8a4_row21_col22\" class=\"data row21 col22\" >0</td>\n",
       "      <td id=\"T_5f8a4_row21_col23\" class=\"data row21 col23\" >0</td>\n",
       "      <td id=\"T_5f8a4_row21_col24\" class=\"data row21 col24\" >0</td>\n",
       "      <td id=\"T_5f8a4_row21_col25\" class=\"data row21 col25\" >0</td>\n",
       "      <td id=\"T_5f8a4_row21_col26\" class=\"data row21 col26\" >0</td>\n",
       "      <td id=\"T_5f8a4_row21_col27\" class=\"data row21 col27\" >0</td>\n",
       "    </tr>\n",
       "    <tr>\n",
       "      <th id=\"T_5f8a4_level0_row22\" class=\"row_heading level0 row22\" >22</th>\n",
       "      <td id=\"T_5f8a4_row22_col0\" class=\"data row22 col0\" >0</td>\n",
       "      <td id=\"T_5f8a4_row22_col1\" class=\"data row22 col1\" >0</td>\n",
       "      <td id=\"T_5f8a4_row22_col2\" class=\"data row22 col2\" >0</td>\n",
       "      <td id=\"T_5f8a4_row22_col3\" class=\"data row22 col3\" >0</td>\n",
       "      <td id=\"T_5f8a4_row22_col4\" class=\"data row22 col4\" >0</td>\n",
       "      <td id=\"T_5f8a4_row22_col5\" class=\"data row22 col5\" >0</td>\n",
       "      <td id=\"T_5f8a4_row22_col6\" class=\"data row22 col6\" >42</td>\n",
       "      <td id=\"T_5f8a4_row22_col7\" class=\"data row22 col7\" >115</td>\n",
       "      <td id=\"T_5f8a4_row22_col8\" class=\"data row22 col8\" >42</td>\n",
       "      <td id=\"T_5f8a4_row22_col9\" class=\"data row22 col9\" >60</td>\n",
       "      <td id=\"T_5f8a4_row22_col10\" class=\"data row22 col10\" >115</td>\n",
       "      <td id=\"T_5f8a4_row22_col11\" class=\"data row22 col11\" >159</td>\n",
       "      <td id=\"T_5f8a4_row22_col12\" class=\"data row22 col12\" >240</td>\n",
       "      <td id=\"T_5f8a4_row22_col13\" class=\"data row22 col13\" >253</td>\n",
       "      <td id=\"T_5f8a4_row22_col14\" class=\"data row22 col14\" >253</td>\n",
       "      <td id=\"T_5f8a4_row22_col15\" class=\"data row22 col15\" >250</td>\n",
       "      <td id=\"T_5f8a4_row22_col16\" class=\"data row22 col16\" >175</td>\n",
       "      <td id=\"T_5f8a4_row22_col17\" class=\"data row22 col17\" >25</td>\n",
       "      <td id=\"T_5f8a4_row22_col18\" class=\"data row22 col18\" >0</td>\n",
       "      <td id=\"T_5f8a4_row22_col19\" class=\"data row22 col19\" >0</td>\n",
       "      <td id=\"T_5f8a4_row22_col20\" class=\"data row22 col20\" >0</td>\n",
       "      <td id=\"T_5f8a4_row22_col21\" class=\"data row22 col21\" >0</td>\n",
       "      <td id=\"T_5f8a4_row22_col22\" class=\"data row22 col22\" >0</td>\n",
       "      <td id=\"T_5f8a4_row22_col23\" class=\"data row22 col23\" >0</td>\n",
       "      <td id=\"T_5f8a4_row22_col24\" class=\"data row22 col24\" >0</td>\n",
       "      <td id=\"T_5f8a4_row22_col25\" class=\"data row22 col25\" >0</td>\n",
       "      <td id=\"T_5f8a4_row22_col26\" class=\"data row22 col26\" >0</td>\n",
       "      <td id=\"T_5f8a4_row22_col27\" class=\"data row22 col27\" >0</td>\n",
       "    </tr>\n",
       "    <tr>\n",
       "      <th id=\"T_5f8a4_level0_row23\" class=\"row_heading level0 row23\" >23</th>\n",
       "      <td id=\"T_5f8a4_row23_col0\" class=\"data row23 col0\" >0</td>\n",
       "      <td id=\"T_5f8a4_row23_col1\" class=\"data row23 col1\" >0</td>\n",
       "      <td id=\"T_5f8a4_row23_col2\" class=\"data row23 col2\" >0</td>\n",
       "      <td id=\"T_5f8a4_row23_col3\" class=\"data row23 col3\" >0</td>\n",
       "      <td id=\"T_5f8a4_row23_col4\" class=\"data row23 col4\" >0</td>\n",
       "      <td id=\"T_5f8a4_row23_col5\" class=\"data row23 col5\" >0</td>\n",
       "      <td id=\"T_5f8a4_row23_col6\" class=\"data row23 col6\" >187</td>\n",
       "      <td id=\"T_5f8a4_row23_col7\" class=\"data row23 col7\" >253</td>\n",
       "      <td id=\"T_5f8a4_row23_col8\" class=\"data row23 col8\" >253</td>\n",
       "      <td id=\"T_5f8a4_row23_col9\" class=\"data row23 col9\" >253</td>\n",
       "      <td id=\"T_5f8a4_row23_col10\" class=\"data row23 col10\" >253</td>\n",
       "      <td id=\"T_5f8a4_row23_col11\" class=\"data row23 col11\" >253</td>\n",
       "      <td id=\"T_5f8a4_row23_col12\" class=\"data row23 col12\" >253</td>\n",
       "      <td id=\"T_5f8a4_row23_col13\" class=\"data row23 col13\" >253</td>\n",
       "      <td id=\"T_5f8a4_row23_col14\" class=\"data row23 col14\" >197</td>\n",
       "      <td id=\"T_5f8a4_row23_col15\" class=\"data row23 col15\" >86</td>\n",
       "      <td id=\"T_5f8a4_row23_col16\" class=\"data row23 col16\" >0</td>\n",
       "      <td id=\"T_5f8a4_row23_col17\" class=\"data row23 col17\" >0</td>\n",
       "      <td id=\"T_5f8a4_row23_col18\" class=\"data row23 col18\" >0</td>\n",
       "      <td id=\"T_5f8a4_row23_col19\" class=\"data row23 col19\" >0</td>\n",
       "      <td id=\"T_5f8a4_row23_col20\" class=\"data row23 col20\" >0</td>\n",
       "      <td id=\"T_5f8a4_row23_col21\" class=\"data row23 col21\" >0</td>\n",
       "      <td id=\"T_5f8a4_row23_col22\" class=\"data row23 col22\" >0</td>\n",
       "      <td id=\"T_5f8a4_row23_col23\" class=\"data row23 col23\" >0</td>\n",
       "      <td id=\"T_5f8a4_row23_col24\" class=\"data row23 col24\" >0</td>\n",
       "      <td id=\"T_5f8a4_row23_col25\" class=\"data row23 col25\" >0</td>\n",
       "      <td id=\"T_5f8a4_row23_col26\" class=\"data row23 col26\" >0</td>\n",
       "      <td id=\"T_5f8a4_row23_col27\" class=\"data row23 col27\" >0</td>\n",
       "    </tr>\n",
       "    <tr>\n",
       "      <th id=\"T_5f8a4_level0_row24\" class=\"row_heading level0 row24\" >24</th>\n",
       "      <td id=\"T_5f8a4_row24_col0\" class=\"data row24 col0\" >0</td>\n",
       "      <td id=\"T_5f8a4_row24_col1\" class=\"data row24 col1\" >0</td>\n",
       "      <td id=\"T_5f8a4_row24_col2\" class=\"data row24 col2\" >0</td>\n",
       "      <td id=\"T_5f8a4_row24_col3\" class=\"data row24 col3\" >0</td>\n",
       "      <td id=\"T_5f8a4_row24_col4\" class=\"data row24 col4\" >0</td>\n",
       "      <td id=\"T_5f8a4_row24_col5\" class=\"data row24 col5\" >0</td>\n",
       "      <td id=\"T_5f8a4_row24_col6\" class=\"data row24 col6\" >103</td>\n",
       "      <td id=\"T_5f8a4_row24_col7\" class=\"data row24 col7\" >253</td>\n",
       "      <td id=\"T_5f8a4_row24_col8\" class=\"data row24 col8\" >253</td>\n",
       "      <td id=\"T_5f8a4_row24_col9\" class=\"data row24 col9\" >253</td>\n",
       "      <td id=\"T_5f8a4_row24_col10\" class=\"data row24 col10\" >253</td>\n",
       "      <td id=\"T_5f8a4_row24_col11\" class=\"data row24 col11\" >253</td>\n",
       "      <td id=\"T_5f8a4_row24_col12\" class=\"data row24 col12\" >232</td>\n",
       "      <td id=\"T_5f8a4_row24_col13\" class=\"data row24 col13\" >67</td>\n",
       "      <td id=\"T_5f8a4_row24_col14\" class=\"data row24 col14\" >1</td>\n",
       "      <td id=\"T_5f8a4_row24_col15\" class=\"data row24 col15\" >0</td>\n",
       "      <td id=\"T_5f8a4_row24_col16\" class=\"data row24 col16\" >0</td>\n",
       "      <td id=\"T_5f8a4_row24_col17\" class=\"data row24 col17\" >0</td>\n",
       "      <td id=\"T_5f8a4_row24_col18\" class=\"data row24 col18\" >0</td>\n",
       "      <td id=\"T_5f8a4_row24_col19\" class=\"data row24 col19\" >0</td>\n",
       "      <td id=\"T_5f8a4_row24_col20\" class=\"data row24 col20\" >0</td>\n",
       "      <td id=\"T_5f8a4_row24_col21\" class=\"data row24 col21\" >0</td>\n",
       "      <td id=\"T_5f8a4_row24_col22\" class=\"data row24 col22\" >0</td>\n",
       "      <td id=\"T_5f8a4_row24_col23\" class=\"data row24 col23\" >0</td>\n",
       "      <td id=\"T_5f8a4_row24_col24\" class=\"data row24 col24\" >0</td>\n",
       "      <td id=\"T_5f8a4_row24_col25\" class=\"data row24 col25\" >0</td>\n",
       "      <td id=\"T_5f8a4_row24_col26\" class=\"data row24 col26\" >0</td>\n",
       "      <td id=\"T_5f8a4_row24_col27\" class=\"data row24 col27\" >0</td>\n",
       "    </tr>\n",
       "    <tr>\n",
       "      <th id=\"T_5f8a4_level0_row25\" class=\"row_heading level0 row25\" >25</th>\n",
       "      <td id=\"T_5f8a4_row25_col0\" class=\"data row25 col0\" >0</td>\n",
       "      <td id=\"T_5f8a4_row25_col1\" class=\"data row25 col1\" >0</td>\n",
       "      <td id=\"T_5f8a4_row25_col2\" class=\"data row25 col2\" >0</td>\n",
       "      <td id=\"T_5f8a4_row25_col3\" class=\"data row25 col3\" >0</td>\n",
       "      <td id=\"T_5f8a4_row25_col4\" class=\"data row25 col4\" >0</td>\n",
       "      <td id=\"T_5f8a4_row25_col5\" class=\"data row25 col5\" >0</td>\n",
       "      <td id=\"T_5f8a4_row25_col6\" class=\"data row25 col6\" >0</td>\n",
       "      <td id=\"T_5f8a4_row25_col7\" class=\"data row25 col7\" >0</td>\n",
       "      <td id=\"T_5f8a4_row25_col8\" class=\"data row25 col8\" >0</td>\n",
       "      <td id=\"T_5f8a4_row25_col9\" class=\"data row25 col9\" >0</td>\n",
       "      <td id=\"T_5f8a4_row25_col10\" class=\"data row25 col10\" >0</td>\n",
       "      <td id=\"T_5f8a4_row25_col11\" class=\"data row25 col11\" >0</td>\n",
       "      <td id=\"T_5f8a4_row25_col12\" class=\"data row25 col12\" >0</td>\n",
       "      <td id=\"T_5f8a4_row25_col13\" class=\"data row25 col13\" >0</td>\n",
       "      <td id=\"T_5f8a4_row25_col14\" class=\"data row25 col14\" >0</td>\n",
       "      <td id=\"T_5f8a4_row25_col15\" class=\"data row25 col15\" >0</td>\n",
       "      <td id=\"T_5f8a4_row25_col16\" class=\"data row25 col16\" >0</td>\n",
       "      <td id=\"T_5f8a4_row25_col17\" class=\"data row25 col17\" >0</td>\n",
       "      <td id=\"T_5f8a4_row25_col18\" class=\"data row25 col18\" >0</td>\n",
       "      <td id=\"T_5f8a4_row25_col19\" class=\"data row25 col19\" >0</td>\n",
       "      <td id=\"T_5f8a4_row25_col20\" class=\"data row25 col20\" >0</td>\n",
       "      <td id=\"T_5f8a4_row25_col21\" class=\"data row25 col21\" >0</td>\n",
       "      <td id=\"T_5f8a4_row25_col22\" class=\"data row25 col22\" >0</td>\n",
       "      <td id=\"T_5f8a4_row25_col23\" class=\"data row25 col23\" >0</td>\n",
       "      <td id=\"T_5f8a4_row25_col24\" class=\"data row25 col24\" >0</td>\n",
       "      <td id=\"T_5f8a4_row25_col25\" class=\"data row25 col25\" >0</td>\n",
       "      <td id=\"T_5f8a4_row25_col26\" class=\"data row25 col26\" >0</td>\n",
       "      <td id=\"T_5f8a4_row25_col27\" class=\"data row25 col27\" >0</td>\n",
       "    </tr>\n",
       "    <tr>\n",
       "      <th id=\"T_5f8a4_level0_row26\" class=\"row_heading level0 row26\" >26</th>\n",
       "      <td id=\"T_5f8a4_row26_col0\" class=\"data row26 col0\" >0</td>\n",
       "      <td id=\"T_5f8a4_row26_col1\" class=\"data row26 col1\" >0</td>\n",
       "      <td id=\"T_5f8a4_row26_col2\" class=\"data row26 col2\" >0</td>\n",
       "      <td id=\"T_5f8a4_row26_col3\" class=\"data row26 col3\" >0</td>\n",
       "      <td id=\"T_5f8a4_row26_col4\" class=\"data row26 col4\" >0</td>\n",
       "      <td id=\"T_5f8a4_row26_col5\" class=\"data row26 col5\" >0</td>\n",
       "      <td id=\"T_5f8a4_row26_col6\" class=\"data row26 col6\" >0</td>\n",
       "      <td id=\"T_5f8a4_row26_col7\" class=\"data row26 col7\" >0</td>\n",
       "      <td id=\"T_5f8a4_row26_col8\" class=\"data row26 col8\" >0</td>\n",
       "      <td id=\"T_5f8a4_row26_col9\" class=\"data row26 col9\" >0</td>\n",
       "      <td id=\"T_5f8a4_row26_col10\" class=\"data row26 col10\" >0</td>\n",
       "      <td id=\"T_5f8a4_row26_col11\" class=\"data row26 col11\" >0</td>\n",
       "      <td id=\"T_5f8a4_row26_col12\" class=\"data row26 col12\" >0</td>\n",
       "      <td id=\"T_5f8a4_row26_col13\" class=\"data row26 col13\" >0</td>\n",
       "      <td id=\"T_5f8a4_row26_col14\" class=\"data row26 col14\" >0</td>\n",
       "      <td id=\"T_5f8a4_row26_col15\" class=\"data row26 col15\" >0</td>\n",
       "      <td id=\"T_5f8a4_row26_col16\" class=\"data row26 col16\" >0</td>\n",
       "      <td id=\"T_5f8a4_row26_col17\" class=\"data row26 col17\" >0</td>\n",
       "      <td id=\"T_5f8a4_row26_col18\" class=\"data row26 col18\" >0</td>\n",
       "      <td id=\"T_5f8a4_row26_col19\" class=\"data row26 col19\" >0</td>\n",
       "      <td id=\"T_5f8a4_row26_col20\" class=\"data row26 col20\" >0</td>\n",
       "      <td id=\"T_5f8a4_row26_col21\" class=\"data row26 col21\" >0</td>\n",
       "      <td id=\"T_5f8a4_row26_col22\" class=\"data row26 col22\" >0</td>\n",
       "      <td id=\"T_5f8a4_row26_col23\" class=\"data row26 col23\" >0</td>\n",
       "      <td id=\"T_5f8a4_row26_col24\" class=\"data row26 col24\" >0</td>\n",
       "      <td id=\"T_5f8a4_row26_col25\" class=\"data row26 col25\" >0</td>\n",
       "      <td id=\"T_5f8a4_row26_col26\" class=\"data row26 col26\" >0</td>\n",
       "      <td id=\"T_5f8a4_row26_col27\" class=\"data row26 col27\" >0</td>\n",
       "    </tr>\n",
       "    <tr>\n",
       "      <th id=\"T_5f8a4_level0_row27\" class=\"row_heading level0 row27\" >27</th>\n",
       "      <td id=\"T_5f8a4_row27_col0\" class=\"data row27 col0\" >0</td>\n",
       "      <td id=\"T_5f8a4_row27_col1\" class=\"data row27 col1\" >0</td>\n",
       "      <td id=\"T_5f8a4_row27_col2\" class=\"data row27 col2\" >0</td>\n",
       "      <td id=\"T_5f8a4_row27_col3\" class=\"data row27 col3\" >0</td>\n",
       "      <td id=\"T_5f8a4_row27_col4\" class=\"data row27 col4\" >0</td>\n",
       "      <td id=\"T_5f8a4_row27_col5\" class=\"data row27 col5\" >0</td>\n",
       "      <td id=\"T_5f8a4_row27_col6\" class=\"data row27 col6\" >0</td>\n",
       "      <td id=\"T_5f8a4_row27_col7\" class=\"data row27 col7\" >0</td>\n",
       "      <td id=\"T_5f8a4_row27_col8\" class=\"data row27 col8\" >0</td>\n",
       "      <td id=\"T_5f8a4_row27_col9\" class=\"data row27 col9\" >0</td>\n",
       "      <td id=\"T_5f8a4_row27_col10\" class=\"data row27 col10\" >0</td>\n",
       "      <td id=\"T_5f8a4_row27_col11\" class=\"data row27 col11\" >0</td>\n",
       "      <td id=\"T_5f8a4_row27_col12\" class=\"data row27 col12\" >0</td>\n",
       "      <td id=\"T_5f8a4_row27_col13\" class=\"data row27 col13\" >0</td>\n",
       "      <td id=\"T_5f8a4_row27_col14\" class=\"data row27 col14\" >0</td>\n",
       "      <td id=\"T_5f8a4_row27_col15\" class=\"data row27 col15\" >0</td>\n",
       "      <td id=\"T_5f8a4_row27_col16\" class=\"data row27 col16\" >0</td>\n",
       "      <td id=\"T_5f8a4_row27_col17\" class=\"data row27 col17\" >0</td>\n",
       "      <td id=\"T_5f8a4_row27_col18\" class=\"data row27 col18\" >0</td>\n",
       "      <td id=\"T_5f8a4_row27_col19\" class=\"data row27 col19\" >0</td>\n",
       "      <td id=\"T_5f8a4_row27_col20\" class=\"data row27 col20\" >0</td>\n",
       "      <td id=\"T_5f8a4_row27_col21\" class=\"data row27 col21\" >0</td>\n",
       "      <td id=\"T_5f8a4_row27_col22\" class=\"data row27 col22\" >0</td>\n",
       "      <td id=\"T_5f8a4_row27_col23\" class=\"data row27 col23\" >0</td>\n",
       "      <td id=\"T_5f8a4_row27_col24\" class=\"data row27 col24\" >0</td>\n",
       "      <td id=\"T_5f8a4_row27_col25\" class=\"data row27 col25\" >0</td>\n",
       "      <td id=\"T_5f8a4_row27_col26\" class=\"data row27 col26\" >0</td>\n",
       "      <td id=\"T_5f8a4_row27_col27\" class=\"data row27 col27\" >0</td>\n",
       "    </tr>\n",
       "  </tbody>\n",
       "</table>\n"
      ],
      "text/plain": [
       "<pandas.io.formats.style.Styler at 0x2b32217ece0>"
      ]
     },
     "execution_count": 66,
     "metadata": {},
     "output_type": "execute_result"
    }
   ],
   "source": [
    "im3_t = tensor(im3)\n",
    "df = pd.DataFrame(im3_t)\n",
    "df.style.set_properties(**{'font-size':'6pt'}).background_gradient('Greys')"
   ]
  },
  {
   "cell_type": "markdown",
   "id": "8b92d438-8d33-457a-8a1b-23c5dacdeb73",
   "metadata": {},
   "source": [
    "### Baselines\n",
    "\n",
    "At this moment, before we dive into deep learning our way to victory, the book introduces baseline solutions. I think this is an important concept that I commonly fail to try when starting a data science problem, instead of implementing a solution immedietly that has the following attributes:\n",
    " - Simple\n",
    " - Perform Reasonably Well\n",
    " - Easy to Test\n",
    " \n",
    "I usually get stuck way in the weeds of trying to do something hard an don't end up with a useful output. Lets instead build a baseline for the key reasons the book mentions, you can test your new ideas to see if they are better than your baseline which can be implented almost instantly. You can either try a simple / naive idea or copy down someone elses already implemented solution so you have a starting point for your problem.\n",
    "\n",
    "Lets follow the book example of simply averaging all the pixels of threes and sevens which might yeild an 'ideal' seven or three value. Also this little list making magic is called \"List Comprehension\" and similar to one line methods, it gives you a great way of creating lists in one line.[The python docs are excellent](https://docs.python.org/3/tutorial/datastructures.html#list-comprehensions) and I recommend a read through if you haven't seen this before."
   ]
  },
  {
   "cell_type": "code",
   "execution_count": 67,
   "id": "57f4ce3e-f93c-47a8-be92-f670cecdd76c",
   "metadata": {},
   "outputs": [
    {
     "data": {
      "text/plain": [
       "(6131, 6265)"
      ]
     },
     "execution_count": 67,
     "metadata": {},
     "output_type": "execute_result"
    }
   ],
   "source": [
    "seven_tensors = [tensor(Image.open(o)) for o in sevens]\n",
    "three_tensors = [tensor(Image.open(o)) for o in threes]\n",
    "len(three_tensors), len(seven_tensors)"
   ]
  },
  {
   "cell_type": "markdown",
   "id": "7fc107c1-c724-48b9-a7fb-0b6eda496c7f",
   "metadata": {},
   "source": [
    "Lets check if our tensors got built properly:"
   ]
  },
  {
   "cell_type": "code",
   "execution_count": 68,
   "id": "e147809f-1d1b-47d1-9e5e-48b1748536fe",
   "metadata": {},
   "outputs": [
    {
     "data": {
      "text/plain": [
       "tensor([[  0,   0,   0,   0,   0,   0,   0,   0,   0,   0,   0,   0,   0,   0,   0,   0,   0,   0,   0,   0,   0,   0,   0,   0,   0,   0,   0,   0],\n",
       "        [  0,   0,   0,   0,   0,   0,   0,   0,   0,   0,   0,   0,   0,   0,   0,   0,   0,   0,   0,   0,   0,   0,   0,   0,   0,   0,   0,   0],\n",
       "        [  0,   0,   0,   0,   0,   0,   0,   0,   0,   0,   0,   0,   0,   0,   0,   0,   0,   0,   0,   0,   0,   0,   0,   0,   0,   0,   0,   0],\n",
       "        [  0,   0,   0,   0,   0,   0,   0,   0,   0,   0,   0,   0,   0,   0,   0,   0,   0,   0,   0,   0,   0,   0,   0,   0,   0,   0,   0,   0],\n",
       "        [  0,   0,   0,   0,   0,   0,   0,   0,   0,   0,   0,   0,   0,   0,   0,   0,   0,   0,   0,   0,   0,   0,   0,   0,   0,   0,   0,   0],\n",
       "        [  0,   0,   0,   0,   0,   0,   0,   0,   0,  29, 150, 195, 254, 255, 254, 176, 193, 150,  96,   0,   0,   0,   0,   0,   0,   0,   0,   0],\n",
       "        [  0,   0,   0,   0,   0,   0,   0,  48, 166, 224, 253, 253, 234, 196, 253, 253, 253, 253, 233,   0,   0,   0,   0,   0,   0,   0,   0,   0],\n",
       "        [  0,   0,   0,   0,   0,  93, 244, 249, 253, 187,  46,  10,   8,   4,  10, 194, 253, 253, 233,   0,   0,   0,   0,   0,   0,   0,   0,   0],\n",
       "        [  0,   0,   0,   0,   0, 107, 253, 253, 230,  48,   0,   0,   0,   0,   0, 192, 253, 253, 156,   0,   0,   0,   0,   0,   0,   0,   0,   0],\n",
       "        [  0,   0,   0,   0,   0,   3,  20,  20,  15,   0,   0,   0,   0,   0,  43, 224, 253, 245,  74,   0,   0,   0,   0,   0,   0,   0,   0,   0],\n",
       "        [  0,   0,   0,   0,   0,   0,   0,   0,   0,   0,   0,   0,   0,   0, 249, 253, 245, 126,   0,   0,   0,   0,   0,   0,   0,   0,   0,   0],\n",
       "        [  0,   0,   0,   0,   0,   0,   0,   0,   0,   0,   0,  14, 101, 223, 253, 248, 124,   0,   0,   0,   0,   0,   0,   0,   0,   0,   0,   0],\n",
       "        [  0,   0,   0,   0,   0,   0,   0,   0,   0,  11, 166, 239, 253, 253, 253, 187,  30,   0,   0,   0,   0,   0,   0,   0,   0,   0,   0,   0],\n",
       "        [  0,   0,   0,   0,   0,   0,   0,   0,   0,  16, 248, 250, 253, 253, 253, 253, 232, 213, 111,   2,   0,   0,   0,   0,   0,   0,   0,   0],\n",
       "        [  0,   0,   0,   0,   0,   0,   0,   0,   0,   0,   0,  43,  98,  98, 208, 253, 253, 253, 253, 187,  22,   0,   0,   0,   0,   0,   0,   0],\n",
       "        [  0,   0,   0,   0,   0,   0,   0,   0,   0,   0,   0,   0,   0,   0,   9,  51, 119, 253, 253, 253,  76,   0,   0,   0,   0,   0,   0,   0],\n",
       "        [  0,   0,   0,   0,   0,   0,   0,   0,   0,   0,   0,   0,   0,   0,   0,   0,   1, 183, 253, 253, 139,   0,   0,   0,   0,   0,   0,   0],\n",
       "        [  0,   0,   0,   0,   0,   0,   0,   0,   0,   0,   0,   0,   0,   0,   0,   0,   0, 182, 253, 253, 104,   0,   0,   0,   0,   0,   0,   0],\n",
       "        [  0,   0,   0,   0,   0,   0,   0,   0,   0,   0,   0,   0,   0,   0,   0,   0,  85, 249, 253, 253,  36,   0,   0,   0,   0,   0,   0,   0],\n",
       "        [  0,   0,   0,   0,   0,   0,   0,   0,   0,   0,   0,   0,   0,   0,   0,  60, 214, 253, 253, 173,  11,   0,   0,   0,   0,   0,   0,   0],\n",
       "        [  0,   0,   0,   0,   0,   0,   0,   0,   0,   0,   0,   0,   0,   0,  98, 247, 253, 253, 226,   9,   0,   0,   0,   0,   0,   0,   0,   0],\n",
       "        [  0,   0,   0,   0,   0,   0,   0,   0,   0,   0,   0,   0,  42, 150, 252, 253, 253, 233,  53,   0,   0,   0,   0,   0,   0,   0,   0,   0],\n",
       "        [  0,   0,   0,   0,   0,   0,  42, 115,  42,  60, 115, 159, 240, 253, 253, 250, 175,  25,   0,   0,   0,   0,   0,   0,   0,   0,   0,   0],\n",
       "        [  0,   0,   0,   0,   0,   0, 187, 253, 253, 253, 253, 253, 253, 253, 197,  86,   0,   0,   0,   0,   0,   0,   0,   0,   0,   0,   0,   0],\n",
       "        [  0,   0,   0,   0,   0,   0, 103, 253, 253, 253, 253, 253, 232,  67,   1,   0,   0,   0,   0,   0,   0,   0,   0,   0,   0,   0,   0,   0],\n",
       "        [  0,   0,   0,   0,   0,   0,   0,   0,   0,   0,   0,   0,   0,   0,   0,   0,   0,   0,   0,   0,   0,   0,   0,   0,   0,   0,   0,   0],\n",
       "        [  0,   0,   0,   0,   0,   0,   0,   0,   0,   0,   0,   0,   0,   0,   0,   0,   0,   0,   0,   0,   0,   0,   0,   0,   0,   0,   0,   0],\n",
       "        [  0,   0,   0,   0,   0,   0,   0,   0,   0,   0,   0,   0,   0,   0,   0,   0,   0,   0,   0,   0,   0,   0,   0,   0,   0,   0,   0,   0]], dtype=torch.uint8)"
      ]
     },
     "execution_count": 68,
     "metadata": {},
     "output_type": "execute_result"
    }
   ],
   "source": [
    "three_tensors[1]"
   ]
  },
  {
   "cell_type": "code",
   "execution_count": 69,
   "id": "e6066682-c597-48a1-b902-a83ce1a894fb",
   "metadata": {},
   "outputs": [
    {
     "data": {
      "text/plain": [
       "<AxesSubplot: >"
      ]
     },
     "execution_count": 69,
     "metadata": {},
     "output_type": "execute_result"
    },
    {
     "data": {
      "image/png": "[encoded data removed]",
      "text/plain": [
       "<Figure size 100x100 with 1 Axes>"
      ]
     },
     "metadata": {},
     "output_type": "display_data"
    }
   ],
   "source": [
    "show_image(three_tensors[1])"
   ]
  },
  {
   "cell_type": "markdown",
   "id": "68a8e13d-4c52-4e6d-944e-accdf172315c",
   "metadata": {},
   "source": [
    "Looks good to me, certainly looks modified from our original image but the actual tensor itself on the cell before looks correct so I'm going to roll with it.\n",
    "\n",
    "### Rank-3 Tensors\n",
    "\n",
    "Now is where we start to get a little freaky, we're going to make a rank 3 tensor which you can think of as having 3 'dimensions'. Currently we have a long list of tensors, ie we have a list and each element is a tensor, we can index into the list elements and then into any subset of the pixels of that tensor. We're going to now 'stack' all the list elements into its own dimension so that we have 3 dimensions to index through, instead of one dimension (the list) which then contains the tensors. It should mentally feel like a 'cube' of stacked tensors, where we can slide depth-wise through to each image, and horizontally or vertically to scan within an image.\n",
    "\n",
    "Pytorch has the lovely method stack() which lets us achieve this, we will then convert everything to a float and divide by 255 as usually images have expected values between 0 and 1 if they're floats."
   ]
  },
  {
   "cell_type": "code",
   "execution_count": 70,
   "id": "f9c7d37a-3d67-4ad4-9604-649bc0d3e2f2",
   "metadata": {},
   "outputs": [
    {
     "data": {
      "text/plain": [
       "torch.Size([6131, 28, 28])"
      ]
     },
     "execution_count": 70,
     "metadata": {},
     "output_type": "execute_result"
    }
   ],
   "source": [
    "stacked_sevens = torch.stack(seven_tensors).float()/255\n",
    "stacked_threes = torch.stack(three_tensors).float()/255\n",
    "stacked_threes.shape"
   ]
  },
  {
   "cell_type": "markdown",
   "id": "9f5728a5-e23c-4e15-8867-a5c95b8e4dbd",
   "metadata": {},
   "source": [
    "See how we have our 6131 images, each with 28x28 pixels, whereas our threes is a list with an individual element containing a tensor"
   ]
  },
  {
   "cell_type": "code",
   "execution_count": 71,
   "id": "b25918eb-8377-4ab3-9c85-88312e8566a0",
   "metadata": {},
   "outputs": [
    {
     "data": {
      "text/plain": [
       "(6131, torch.Size([28, 28]))"
      ]
     },
     "execution_count": 71,
     "metadata": {},
     "output_type": "execute_result"
    }
   ],
   "source": [
    "len(three_tensors), three_tensors[0].shape"
   ]
  },
  {
   "cell_type": "markdown",
   "id": "f67ca622-3324-4a3a-a22e-0debb5760bcd",
   "metadata": {},
   "source": [
    "Also note that the length of a tensors shape is its 'rank' or how many axes/dimensions it has. The 'ndim' attribute also gives you the same answer."
   ]
  },
  {
   "cell_type": "code",
   "execution_count": 72,
   "id": "bceb39ea-6dad-4038-9696-a2b2a76dfa51",
   "metadata": {},
   "outputs": [
    {
     "data": {
      "text/plain": [
       "(3, 3)"
      ]
     },
     "execution_count": 72,
     "metadata": {},
     "output_type": "execute_result"
    }
   ],
   "source": [
    "len(stacked_threes.shape), stacked_threes.ndim"
   ]
  },
  {
   "cell_type": "markdown",
   "id": "555261f1-5a65-4803-a93e-f65436cef0e8",
   "metadata": {},
   "source": [
    "Lets now implement that baseline and average all the tensors and show the image to see what 'ideal' looks like"
   ]
  },
  {
   "cell_type": "code",
   "execution_count": 73,
   "id": "6f081dee-3512-442d-ac08-59475aee3733",
   "metadata": {},
   "outputs": [
    {
     "data": {
      "text/plain": [
       "<AxesSubplot: >"
      ]
     },
     "execution_count": 73,
     "metadata": {},
     "output_type": "execute_result"
    },
    {
     "data": {
      "image/png": "[encoded data removed]",
      "text/plain": [
       "<Figure size 100x100 with 1 Axes>"
      ]
     },
     "metadata": {},
     "output_type": "display_data"
    }
   ],
   "source": [
    "me3 = stacked_threes.mean(0)\n",
    "show_image(me3)"
   ]
  },
  {
   "cell_type": "markdown",
   "id": "ef344704-af20-48d3-8af3-c99c4810c6b5",
   "metadata": {},
   "source": [
    "Objectively a 'pretty' three if I don't say so myself. Credit to fastai's top tier joke in their book : \"You may not like it, but this is what peak 3 performance looks like\". We've gotta find joy in these sorts of things given the world.\n",
    "\n",
    "Lets checkout 7 as well"
   ]
  },
  {
   "cell_type": "code",
   "execution_count": 74,
   "id": "655bb71b-682e-4af4-9667-ade490ca7343",
   "metadata": {},
   "outputs": [
    {
     "data": {
      "text/plain": [
       "<AxesSubplot: >"
      ]
     },
     "execution_count": 74,
     "metadata": {},
     "output_type": "execute_result"
    },
    {
     "data": {
      "image/png": "[encoded data removed]",
      "text/plain": [
       "<Figure size 100x100 with 1 Axes>"
      ]
     },
     "metadata": {},
     "output_type": "display_data"
    }
   ],
   "source": [
    "me7 = stacked_sevens.mean(0)\n",
    "show_image(me7)"
   ]
  },
  {
   "cell_type": "markdown",
   "id": "d152e11e-baa9-4f7b-beac-772f8ec1d219",
   "metadata": {},
   "source": [
    "### Measuring Loss\n",
    "\n",
    "Ok so we have our ideal three and ideal seven, we now want to compare any three or seven to the ideal seven or three and whichever category has the smallest loss is most likely the category for the sample we've picked. Some common data science methods for loss functions are the mean absolute difference, also known as the *L1 norm*, or we could square the differences and take that distance, which would be the *L2 norm*.\n",
    "\n",
    "Lets calculate both of these:"
   ]
  },
  {
   "cell_type": "code",
   "execution_count": 75,
   "id": "731f9f1c-792c-47d4-bacd-d2ecbdb6bfa7",
   "metadata": {},
   "outputs": [
    {
     "data": {
      "text/plain": [
       "(tensor(0.1114), tensor(0.2021))"
      ]
     },
     "execution_count": 75,
     "metadata": {},
     "output_type": "execute_result"
    }
   ],
   "source": [
    "sample_3 = stacked_threes[1]\n",
    "\n",
    "# Distance of our sample from our mean three or 'ideal 3'\n",
    "error = sample_3 - me3\n",
    "\n",
    "three_abs_dist = error.abs().mean()\n",
    "three_square_dist = (error**2).mean().sqrt()\n",
    "\n",
    "three_abs_dist, three_square_dist"
   ]
  },
  {
   "cell_type": "markdown",
   "id": "6a3fbc9d-321e-4077-a65f-ffbc327ce6e1",
   "metadata": {},
   "source": [
    "How cool that we can just take away a tensor from another and pytorch does the magic, really nice syntax! Lets have a quick look at the actual error tensor too:"
   ]
  },
  {
   "cell_type": "code",
   "execution_count": 76,
   "id": "04a7e6b8-f365-44e9-8cf1-7faa5430d9ce",
   "metadata": {},
   "outputs": [
    {
     "data": {
      "text/plain": [
       "tensor([[ 0.0000e+00,  0.0000e+00,  0.0000e+00,  0.0000e+00,  0.0000e+00,  0.0000e+00,  0.0000e+00,  0.0000e+00,  0.0000e+00,  0.0000e+00,  0.0000e+00,  0.0000e+00,  0.0000e+00,  0.0000e+00,\n",
       "          0.0000e+00,  0.0000e+00,  0.0000e+00,  0.0000e+00,  0.0000e+00,  0.0000e+00,  0.0000e+00,  0.0000e+00,  0.0000e+00,  0.0000e+00,  0.0000e+00,  0.0000e+00,  0.0000e+00,  0.0000e+00],\n",
       "        [ 0.0000e+00,  0.0000e+00,  0.0000e+00,  0.0000e+00,  0.0000e+00,  0.0000e+00,  0.0000e+00,  0.0000e+00,  0.0000e+00,  0.0000e+00,  0.0000e+00,  0.0000e+00,  0.0000e+00,  0.0000e+00,\n",
       "          0.0000e+00,  0.0000e+00,  0.0000e+00,  0.0000e+00,  0.0000e+00,  0.0000e+00,  0.0000e+00,  0.0000e+00,  0.0000e+00,  0.0000e+00,  0.0000e+00,  0.0000e+00,  0.0000e+00,  0.0000e+00],\n",
       "        [ 0.0000e+00,  0.0000e+00,  0.0000e+00,  0.0000e+00,  0.0000e+00,  0.0000e+00,  0.0000e+00,  0.0000e+00,  0.0000e+00,  0.0000e+00, -7.2918e-05, -1.9637e-04, -2.3410e-04, -1.9253e-04,\n",
       "         -2.7568e-04, -2.6161e-04, -2.9423e-04, -2.8400e-04, -1.5671e-04, -4.8612e-05, -5.7567e-06,  0.0000e+00,  0.0000e+00,  0.0000e+00,  0.0000e+00,  0.0000e+00,  0.0000e+00,  0.0000e+00],\n",
       "        [ 0.0000e+00,  0.0000e+00,  0.0000e+00,  0.0000e+00, -1.5991e-05, -4.8676e-04, -7.7331e-04, -1.4468e-03, -2.9788e-03, -5.6486e-03, -9.5177e-03, -1.5693e-02, -2.1113e-02, -2.4280e-02,\n",
       "         -2.5964e-02, -2.4268e-02, -2.0875e-02, -1.7108e-02, -1.1642e-02, -7.0436e-03, -3.9945e-03, -1.4955e-03, -3.2941e-04,  0.0000e+00,  0.0000e+00,  0.0000e+00,  0.0000e+00,  0.0000e+00],\n",
       "        [ 0.0000e+00, -2.4306e-05, -3.2621e-05, -1.5607e-04, -1.3995e-03, -5.7854e-03, -1.3664e-02, -3.0111e-02, -5.5401e-02, -9.0316e-02, -1.3725e-01, -1.8357e-01, -2.2128e-01, -2.4655e-01,\n",
       "         -2.4972e-01, -2.3536e-01, -1.9872e-01, -1.5084e-01, -1.0543e-01, -6.4754e-02, -3.2829e-02, -1.3352e-02, -4.5970e-03, -3.9273e-04, -1.9189e-06,  0.0000e+00,  0.0000e+00,  0.0000e+00],\n",
       "        [ 0.0000e+00,  0.0000e+00, -5.7567e-05, -1.5204e-03, -8.8909e-03, -2.7837e-02, -6.1064e-02, -1.1271e-01, -1.8688e-01, -1.6652e-01,  2.0526e-01,  2.8446e-01,  4.3731e-01,  3.8676e-01,\n",
       "          3.7279e-01,  9.2483e-02,  2.2852e-01,  1.6724e-01,  7.0714e-02, -2.0347e-01, -1.1742e-01, -5.3793e-02, -1.6992e-02, -3.4617e-03, -2.5905e-04,  0.0000e+00,  0.0000e+00,  0.0000e+00],\n",
       "        [ 0.0000e+00, -7.0359e-06, -3.0063e-04, -5.8174e-03, -2.4498e-02, -5.9899e-02, -1.2038e-01, -1.9312e-02,  3.3159e-01,  4.4296e-01,  4.4769e-01,  3.6452e-01,  2.3261e-01,  4.4678e-02,\n",
       "          2.4727e-01,  2.4753e-01,  2.8715e-01,  3.8341e-01,  4.3456e-01, -3.3949e-01, -2.1322e-01, -1.0868e-01, -3.7335e-02, -7.9084e-03, -8.2320e-04,  0.0000e+00,  0.0000e+00,  0.0000e+00],\n",
       "        [ 0.0000e+00, -3.2429e-04, -4.5414e-04, -9.7409e-03, -3.7895e-02,  2.8178e-01,  8.0304e-01,  7.3490e-01,  6.5449e-01,  3.0652e-01, -3.1122e-01, -4.8920e-01, -5.1338e-01, -5.4314e-01,\n",
       "         -5.4719e-01,  1.3328e-01,  3.4090e-01,  3.7103e-01,  3.8523e-01, -4.0753e-01, -2.7025e-01, -1.4412e-01, -5.3465e-02, -1.1405e-02, -1.0490e-03,  0.0000e+00,  0.0000e+00,  0.0000e+00],\n",
       "        [ 0.0000e+00, -1.2601e-04, -5.3985e-04, -1.1943e-02, -4.0899e-02,  3.4083e-01,  8.5773e-01,  7.9759e-01,  6.5122e-01, -1.0665e-01, -3.1693e-01, -3.1747e-01, -3.1133e-01, -3.2182e-01,\n",
       "         -3.6634e-01,  3.0088e-01,  4.5456e-01,  4.2148e-01,  8.5761e-02, -4.1737e-01, -2.7770e-01, -1.4791e-01, -5.6850e-02, -1.1186e-02, -5.6543e-04,  0.0000e+00,  0.0000e+00,  0.0000e+00],\n",
       "        [ 0.0000e+00, -1.3496e-04, -6.4603e-04, -9.1461e-03, -2.9371e-02, -4.3204e-02, -1.1050e-02, -4.1118e-02, -8.2909e-02, -1.5585e-01, -1.6174e-01, -1.6148e-01, -1.6958e-01, -2.0584e-01,\n",
       "         -1.2349e-01,  4.5972e-01,  4.6169e-01,  3.8632e-01, -2.2679e-01, -3.8845e-01, -2.4350e-01, -1.1984e-01, -4.4328e-02, -8.7073e-03, -1.1641e-04, -3.9657e-05,  0.0000e+00,  0.0000e+00],\n",
       "        [ 0.0000e+00, -6.7161e-05, -4.3047e-04, -6.7775e-03, -1.6751e-02, -2.9374e-02, -4.5093e-02, -5.7854e-02, -6.8061e-02, -7.8151e-02, -9.5189e-02, -1.2533e-01, -1.8025e-01, -2.7419e-01,\n",
       "          5.7379e-01,  4.5862e-01,  3.4705e-01, -1.0244e-01, -4.7979e-01, -3.2004e-01, -1.7885e-01, -7.7661e-02, -2.4957e-02, -4.6878e-03, -3.9657e-05, -1.1833e-04,  0.0000e+00,  0.0000e+00],\n",
       "        [ 0.0000e+00, -4.9251e-05, -3.7035e-04, -3.8589e-03, -8.8301e-03, -1.4541e-02, -2.0740e-02, -2.9064e-02, -4.4311e-02, -7.7774e-02, -1.3957e-01, -1.7820e-01,  4.0984e-02,  3.8579e-01,\n",
       "          3.8228e-01,  2.8562e-01, -1.9648e-01, -5.8363e-01, -4.1155e-01, -2.4346e-01, -1.1769e-01, -4.1552e-02, -1.0649e-02, -1.8121e-03, -9.5944e-06, -1.2857e-04,  0.0000e+00,  0.0000e+00],\n",
       "        [ 0.0000e+00, -8.3152e-06, -4.9891e-05, -1.5166e-03, -4.1403e-03, -8.1841e-03, -1.3161e-02, -2.7825e-02, -6.6674e-02, -1.0544e-01,  3.7335e-01,  5.0240e-01,  4.0856e-01,  2.8931e-01,\n",
       "          2.2066e-01, -4.3275e-02, -5.9397e-01, -5.6779e-01, -3.7920e-01, -2.1411e-01, -9.4611e-02, -3.1342e-02, -7.7146e-03, -1.0701e-03, -9.9782e-05, -1.3560e-04,  0.0000e+00,  0.0000e+00],\n",
       "        [ 0.0000e+00,  0.0000e+00,  0.0000e+00, -6.3963e-04, -2.5783e-03, -5.4042e-03, -1.4138e-02, -3.9151e-02, -1.0502e-01, -1.6365e-01,  5.7815e-01,  4.1466e-01,  2.9369e-01,  2.2497e-01,\n",
       "          2.1266e-01,  2.4135e-01,  2.1742e-01,  2.5263e-01,  2.5055e-03, -2.5765e-01, -1.2995e-01, -5.0904e-02, -1.3723e-02, -2.6148e-03, -3.2749e-04, -6.7161e-05,  0.0000e+00,  0.0000e+00],\n",
       "        [ 0.0000e+00, -1.0234e-04, -5.8206e-05, -6.9975e-04, -2.5758e-03, -6.5549e-03, -1.5612e-02, -4.5825e-02, -1.1788e-01, -2.4133e-01, -3.9015e-01, -3.5296e-01, -2.1834e-01, -2.4438e-01,\n",
       "          1.8811e-01,  3.7491e-01,  3.7905e-01,  3.9943e-01,  4.7672e-01,  3.6268e-01, -1.2452e-01, -9.5741e-02, -3.1867e-02, -7.1351e-03, -7.5860e-04, -2.6225e-05,  0.0000e+00,  0.0000e+00],\n",
       "        [ 0.0000e+00, -1.4456e-04, -7.1702e-04, -2.3385e-03, -6.0221e-03, -1.1625e-02, -1.9489e-02, -4.1298e-02, -9.1916e-02, -1.7655e-01, -2.7350e-01, -3.4554e-01, -3.7789e-01, -3.8353e-01,\n",
       "         -3.5299e-01, -2.1357e-01, -6.0592e-03,  4.4523e-01,  4.3521e-01,  5.3212e-01,  1.2486e-03, -1.4911e-01, -6.0777e-02, -1.5610e-02, -1.8025e-03, -3.1981e-06, -1.3368e-04,  0.0000e+00],\n",
       "        [ 0.0000e+00, -1.2729e-04, -2.1869e-03, -7.0538e-03, -1.4894e-02, -2.2301e-02, -2.7903e-02, -3.9338e-02, -6.2386e-02, -9.9441e-02, -1.3370e-01, -1.5925e-01, -1.6655e-01, -1.7223e-01,\n",
       "         -1.9161e-01, -2.4334e-01, -3.4062e-01,  2.3549e-01,  4.3115e-01,  4.8852e-01,  1.9305e-01, -1.9422e-01, -8.5188e-02, -2.6331e-02, -3.5276e-03, -1.2793e-06, -2.2387e-05,  0.0000e+00],\n",
       "        [ 0.0000e+00, -1.5735e-04, -3.3331e-03, -1.5257e-02, -3.1764e-02, -4.3270e-02, -4.9365e-02, -5.5510e-02, -5.9109e-02, -5.8848e-02, -6.1369e-02, -6.3137e-02, -6.5532e-02, -7.3339e-02,\n",
       "         -9.8233e-02, -1.6722e-01, -2.9171e-01,  2.6120e-01,  4.4182e-01,  4.7753e-01,  3.9084e-02, -2.1820e-01, -1.0305e-01, -3.3861e-02, -3.8557e-03,  0.0000e+00,  0.0000e+00,  0.0000e+00],\n",
       "        [ 0.0000e+00, -1.6183e-04, -5.7592e-03, -2.7754e-02, -5.8420e-02, -8.2884e-02, -9.7888e-02, -1.0189e-01, -9.3467e-02, -7.5450e-02, -6.1778e-02, -5.2316e-02, -4.8228e-02, -5.6958e-02,\n",
       "         -9.1961e-02, -1.8154e-01,  6.6285e-03,  4.9858e-01,  4.3616e-01,  4.8286e-01, -2.2319e-01, -2.2059e-01, -1.0743e-01, -3.3211e-02, -3.2410e-03,  0.0000e+00,  0.0000e+00,  0.0000e+00],\n",
       "        [ 0.0000e+00, -2.5521e-04, -9.1678e-03, -4.0289e-02, -8.8192e-02, -1.3721e-01, -1.6905e-01, -1.8232e-01, -1.7508e-01, -1.5029e-01, -1.2213e-01, -9.8687e-02, -9.3244e-02, -1.1323e-01,\n",
       "         -1.7340e-01, -4.8909e-02,  4.0845e-01,  4.4406e-01,  4.2163e-01,  1.9182e-01, -2.9473e-01, -2.0005e-01, -9.1660e-02, -2.4017e-02, -2.2828e-03, -1.3432e-05,  0.0000e+00,  0.0000e+00],\n",
       "        [ 0.0000e+00, -4.6565e-04, -1.0415e-02, -4.8182e-02, -1.0872e-01, -1.8070e-01, -2.4184e-01, -2.8666e-01, -3.0795e-01, -2.9331e-01, -2.6096e-01, -2.3568e-01, -2.3487e-01, -2.7473e-01,\n",
       "          2.7691e-02,  5.0206e-01,  4.1990e-01,  3.8080e-01,  3.2576e-01, -3.9259e-01, -2.7981e-01, -1.5136e-01, -6.0435e-02, -1.3841e-02, -1.2274e-03, -1.3432e-05, -4.9891e-05,  0.0000e+00],\n",
       "        [ 0.0000e+00, -3.6267e-04, -8.7373e-03, -4.1436e-02, -1.0026e-01, -1.8489e-01, -2.8464e-01, -3.7627e-01, -4.4899e-01, -4.7922e-01, -4.8200e-01, -4.7516e-01, -3.2371e-01,  5.6965e-02,\n",
       "          3.9496e-01,  3.4219e-01,  3.2950e-01,  3.1291e-01, -2.6664e-01, -3.2416e-01, -1.8824e-01, -8.8396e-02, -2.8767e-02, -5.4074e-03, -3.2621e-04,  0.0000e+00, -2.1108e-05,  0.0000e+00],\n",
       "        [ 0.0000e+00, -3.1342e-05, -6.0810e-03, -2.7270e-02, -7.3331e-02, -1.4404e-01, -8.7192e-02,  7.5923e-02, -3.3149e-01, -3.5953e-01, -2.0684e-01, -7.1398e-02,  2.2434e-01,  2.6375e-01,\n",
       "          2.6977e-01,  2.9832e-01,  9.5725e-02, -3.6142e-01, -3.1460e-01, -1.8711e-01, -9.4876e-02, -3.7261e-02, -1.0511e-02, -1.6490e-03, -3.5180e-05,  0.0000e+00, -3.1981e-06,  0.0000e+00],\n",
       "        [ 0.0000e+00,  0.0000e+00, -2.3519e-03, -1.2594e-02, -3.9571e-02, -8.3350e-02,  5.7661e-01,  7.3441e-01,  6.1806e-01,  5.0478e-01,  4.0935e-01,  3.4702e-01,  3.2860e-01,  3.4968e-01,\n",
       "          1.9891e-01, -1.3607e-01, -3.5329e-01, -2.3856e-01, -1.4426e-01, -7.5467e-02, -3.0740e-02, -9.7691e-03, -2.4229e-03, -3.6651e-04, -1.4839e-04, -7.6756e-06, -5.1810e-05,  0.0000e+00],\n",
       "        [ 0.0000e+00,  0.0000e+00, -5.4113e-04, -3.9555e-03, -1.3458e-02, -3.0013e-02,  3.4555e-01,  8.9429e-01,  8.4398e-01,  7.8813e-01,  7.3904e-01,  7.0413e-01,  6.1626e-01, -1.3560e-02,\n",
       "         -2.2647e-01, -1.7364e-01, -1.1796e-01, -7.1760e-02, -3.6760e-02, -1.6373e-02, -5.7541e-03, -2.0769e-03, -6.1021e-04, -1.2153e-04,  0.0000e+00,  0.0000e+00,  0.0000e+00,  0.0000e+00],\n",
       "        [ 0.0000e+00,  0.0000e+00, -3.7099e-05, -1.2473e-04, -1.2447e-03, -3.0402e-03, -6.6873e-03, -1.1371e-02, -1.8533e-02, -2.5284e-02, -3.1993e-02, -3.5295e-02, -3.6504e-02, -3.4298e-02,\n",
       "         -2.8593e-02, -2.1875e-02, -1.5417e-02, -9.1748e-03, -5.0454e-03, -2.8687e-03, -1.1430e-03, -4.5350e-04, -2.1683e-04,  0.0000e+00,  0.0000e+00,  0.0000e+00,  0.0000e+00,  0.0000e+00],\n",
       "        [ 0.0000e+00,  0.0000e+00,  0.0000e+00,  0.0000e+00, -1.0234e-05, -8.0593e-05, -1.6630e-04, -3.6459e-04, -4.0041e-04, -5.1362e-04, -7.4325e-04, -9.5497e-04, -1.0643e-03, -1.3560e-03,\n",
       "         -1.0484e-03, -8.3855e-04, -1.0260e-03, -9.5497e-04, -7.4645e-04, -5.3793e-04, -3.6523e-04, -1.9637e-04, -2.8783e-05,  0.0000e+00,  0.0000e+00,  0.0000e+00,  0.0000e+00,  0.0000e+00],\n",
       "        [ 0.0000e+00,  0.0000e+00,  0.0000e+00,  0.0000e+00,  0.0000e+00,  0.0000e+00,  0.0000e+00,  0.0000e+00,  0.0000e+00,  0.0000e+00,  0.0000e+00,  0.0000e+00,  0.0000e+00,  0.0000e+00,\n",
       "          0.0000e+00,  0.0000e+00,  0.0000e+00,  0.0000e+00,  0.0000e+00,  0.0000e+00,  0.0000e+00,  0.0000e+00,  0.0000e+00,  0.0000e+00,  0.0000e+00,  0.0000e+00,  0.0000e+00,  0.0000e+00]])"
      ]
     },
     "execution_count": 76,
     "metadata": {},
     "output_type": "execute_result"
    }
   ],
   "source": [
    "error"
   ]
  },
  {
   "cell_type": "markdown",
   "id": "39dcfbed-2cc0-44f9-bf24-be73bdbb99b9",
   "metadata": {},
   "source": [
    "Ok super messy, not exactly legible but you can see how the absolute bottom rows and top rows have no loss since they're simply empty so our sample three is actual 'ideal' in those pixels but there's loss everywhere else.\n",
    "\n",
    "Lets do sevens now"
   ]
  },
  {
   "cell_type": "code",
   "execution_count": 77,
   "id": "59831b3d-b668-46df-b658-5abbd04214ab",
   "metadata": {},
   "outputs": [
    {
     "data": {
      "text/plain": [
       "(tensor(0.1586), tensor(0.3021))"
      ]
     },
     "execution_count": 77,
     "metadata": {},
     "output_type": "execute_result"
    }
   ],
   "source": [
    "# Distance of our sample from our mean three or 'ideal 3'\n",
    "error = sample_3 - me7\n",
    "\n",
    "seven_abs_dist = error.abs().mean()\n",
    "seven_square_dist = (error**2).mean().sqrt()\n",
    "\n",
    "seven_abs_dist, seven_square_dist"
   ]
  },
  {
   "cell_type": "markdown",
   "id": "1a65e3a4-157c-47ef-9049-c9f73d451177",
   "metadata": {},
   "source": [
    "In both the L1 and L2 losses, our sample 3 has a smaller loss compared to our ideal three so we'd correctly categorise it in this situation.\n",
    "\n",
    "Pytorch has both of these loss functions out of the box from the 'torch.nn.functional' modules so we don't need to handwrite out these functions in the future, its also stylistic to import this module as \"F\". I've seen this done with pyspark and some other libraries, seems like a nice habit when importing a library/package which is meant to represent math like 'functions'"
   ]
  },
  {
   "cell_type": "code",
   "execution_count": 78,
   "id": "c44ae4c4-ef59-45e2-8421-bafddae2edc8",
   "metadata": {},
   "outputs": [
    {
     "data": {
      "text/plain": [
       "(tensor(0.1586), tensor(0.3021))"
      ]
     },
     "execution_count": 78,
     "metadata": {},
     "output_type": "execute_result"
    }
   ],
   "source": [
    "import torch.nn.functional as F\n",
    "\n",
    "F.l1_loss(sample_3.float(),me7), F.mse_loss(sample_3, me7).sqrt()"
   ]
  },
  {
   "cell_type": "markdown",
   "id": "9dd9d4c0-b4a1-41ac-972e-2ee3a76e4410",
   "metadata": {},
   "source": [
    "Voila! The loss is the same, looks like our handwritten work aint too bad, just messy and I can safely depend on pytorch to calculate it correctly instead of me mis-writing this calculation."
   ]
  },
  {
   "cell_type": "markdown",
   "id": "a2be3bc7-6984-401c-887e-d08e395911cf",
   "metadata": {},
   "source": [
    "### Building Training and Validation Datasets\n",
    "\n",
    "Ok so we've built our baseline loss and predictive method, however we're not training any components and we're not holding out a portion of our data to make sure we're not over-fitting. The MNIST dataset has already been split for us so lets simple setup those tensors using the pre-split data sets. Building a good validation set is however a really important part of the process and [Rachel Thomas's post explains it best](https://www.fast.ai/posts/2017-11-13-validation-sets.html), go read this post for better words than I'll be able to put together."
   ]
  },
  {
   "cell_type": "code",
   "execution_count": 79,
   "id": "0edc6b64-cbbe-47fc-8baa-5e1ee30b0371",
   "metadata": {},
   "outputs": [
    {
     "data": {
      "text/plain": [
       "(#3) [Path('../data/MNIST/mnist_sample/labels.csv'),Path('../data/MNIST/mnist_sample/train'),Path('../data/MNIST/mnist_sample/valid')]"
      ]
     },
     "execution_count": 79,
     "metadata": {},
     "output_type": "execute_result"
    }
   ],
   "source": [
    "sample_path.ls()"
   ]
  },
  {
   "cell_type": "code",
   "execution_count": 80,
   "id": "90d96fcc-a19d-470b-bce1-b8be1da997e8",
   "metadata": {},
   "outputs": [
    {
     "data": {
      "text/plain": [
       "(torch.Size([1010, 28, 28]), torch.Size([1028, 28, 28]))"
      ]
     },
     "execution_count": 80,
     "metadata": {},
     "output_type": "execute_result"
    }
   ],
   "source": [
    "valid_3 = torch.stack([tensor(Image.open(o)) for o in (sample_path/\"valid/3\").ls()])\n",
    "valid_3 = valid_3.float()/255\n",
    "\n",
    "valid_7 = torch.stack([tensor(Image.open(o)) for o in (sample_path/\"valid/7\").ls()])\n",
    "valid_7 = valid_7.float()/255\n",
    "\n",
    "valid_3.shape, valid_7.shape"
   ]
  },
  {
   "cell_type": "markdown",
   "id": "7e165bff-2394-400e-b3dc-f0616db3c2cd",
   "metadata": {},
   "source": [
    "Lets now calculate the loss for all our threes in the validation set against our 'ideal' three"
   ]
  },
  {
   "cell_type": "markdown",
   "id": "46ef9a88-3677-4931-8a79-aace21189a84",
   "metadata": {},
   "source": [
    "### Broadcasting Tensors and Loss Functions\n",
    "\n",
    "When pytorch encounters a function between two tensors of different ranks, it will broadcast the smaller ranked tensor to match and have the same size as the larger tensor. [Pytorch's broadcast semantics](https://pytorch.org/docs/stable/notes/broadcasting.html#broadcasting-semantics) has a decent description of what they're doing, it [appears to be a numpy concept which is well documented here](https://numpy.org/devdocs/user/basics.broadcasting.html#general-broadcasting-rules).\n",
    "\n",
    "We're going to use this with our loss functions since even though we're giving the function a single example, its going to broadcast it 1,010 times to match the 'depth' of our validation tensor. This allows us to compute these sorts of things on the GPU instead of CPU which makes it lightning fast in comparison, torch also does smart things like not allocating extra memory and simply pretending like its of the proper rank without the wasted duplication. Often this will happen in the background and you don't have to explicitly write the broadcasting which makes it simple to write mentally and understand, love your work pytorch gang!"
   ]
  },
  {
   "cell_type": "code",
   "execution_count": 81,
   "id": "c3228e20-2dc8-43f0-8eca-ed907e97849e",
   "metadata": {},
   "outputs": [
    {
     "data": {
      "text/plain": [
       "tensor(0.1114)"
      ]
     },
     "execution_count": 81,
     "metadata": {},
     "output_type": "execute_result"
    }
   ],
   "source": [
    "def mnist_distance(a,b): return (a-b).abs().mean((-1,-2))\n",
    "\n",
    "mnist_distance(sample_3, me3)"
   ]
  },
  {
   "cell_type": "markdown",
   "id": "ed515126-2820-430a-9c92-a1089d3a67c1",
   "metadata": {},
   "source": [
    "There is one important difference here in that we're calling mean() with a tuple of (-1,-2) which we didn't do before. In python you can index with a '-' simple to represent 'from the last index', meaning that we want to calculate the mean from the last, and second last indexes of the tensor, being the two axes of 28x28 pixels."
   ]
  },
  {
   "cell_type": "code",
   "execution_count": 82,
   "id": "47f95da6-111d-4a4d-99b8-d6934c6d569d",
   "metadata": {},
   "outputs": [
    {
     "data": {
      "text/plain": [
       "(tensor([0.1280, 0.1623, 0.1242,  ..., 0.1508, 0.1263, 0.1260]),\n",
       " torch.Size([1010]))"
      ]
     },
     "execution_count": 82,
     "metadata": {},
     "output_type": "execute_result"
    }
   ],
   "source": [
    "valid_3_dist = mnist_distance(valid_3, me3)\n",
    "valid_3_dist, valid_3_dist.shape"
   ]
  },
  {
   "cell_type": "code",
   "execution_count": 83,
   "id": "13262c5d-f62e-4882-94ec-2af91de41702",
   "metadata": {},
   "outputs": [
    {
     "data": {
      "text/plain": [
       "torch.Size([1010, 28, 28])"
      ]
     },
     "execution_count": 83,
     "metadata": {},
     "output_type": "execute_result"
    }
   ],
   "source": [
    "(valid_3-me3).shape"
   ]
  },
  {
   "cell_type": "markdown",
   "id": "94177491-b79d-41d8-a36b-93affc5db037",
   "metadata": {},
   "source": [
    "Awesome, we've got all our ducks in a row, now lets write a function to tell if a sample given is a three or not, ie is the distance smaller from the ideal three or ideal seven."
   ]
  },
  {
   "cell_type": "code",
   "execution_count": 84,
   "id": "215c3648-3455-4cf7-94fc-f0f41f63a7a1",
   "metadata": {},
   "outputs": [
    {
     "data": {
      "text/plain": [
       "(tensor(True), tensor(1.))"
      ]
     },
     "execution_count": 84,
     "metadata": {},
     "output_type": "execute_result"
    }
   ],
   "source": [
    "def is_3(x): return mnist_distance(x,me3) < mnist_distance(x,me7)\n",
    "\n",
    "is_3(sample_3), is_3(sample_3).float()"
   ]
  },
  {
   "cell_type": "markdown",
   "id": "41d40831-4107-4bc6-8cb4-8f408ceb1213",
   "metadata": {},
   "source": [
    "Looks good, lets now calculate over all our validation threes"
   ]
  },
  {
   "cell_type": "code",
   "execution_count": 85,
   "id": "271c6981-6861-4923-a76b-bcf30392fcbf",
   "metadata": {},
   "outputs": [
    {
     "data": {
      "text/plain": [
       "tensor([ True,  True,  True,  ..., False,  True,  True])"
      ]
     },
     "execution_count": 85,
     "metadata": {},
     "output_type": "execute_result"
    }
   ],
   "source": [
    "is_3(valid_3)"
   ]
  },
  {
   "cell_type": "markdown",
   "id": "3988bd1f-864e-46a8-9b83-98bb585a1aa7",
   "metadata": {},
   "source": [
    "Uh oh, I see some errors already, lets check the accuracy"
   ]
  },
  {
   "cell_type": "code",
   "execution_count": 86,
   "id": "20d7379d-2475-44fe-9dc9-ffff4e909b60",
   "metadata": {},
   "outputs": [],
   "source": [
    "accuracy_3 = is_3(valid_3).float().mean()"
   ]
  },
  {
   "cell_type": "markdown",
   "id": "9587a0ea-e207-4a1b-98a9-0cadc39b373e",
   "metadata": {},
   "source": [
    "Now to calculate whether something is a seven, it should just be the inverse of whether its a three. We can do this two ways, either by calculating '1-' our is_3() function or we can use the python 'unary' or 'invert' operator '~' tilde which allows us to invert an operation. I would argue 1- is easier to read since the unary operator isn't very common and to be honest it can be easy to miss or confuses people as to what it does. Its also known as the bitwise inversion or bitwise operator if you're curious, [checkout the docs](https://docs.python.org/3/reference/expressions.html?highlight=bitwise#unary-arithmetic-and-bitwise-operations)"
   ]
  },
  {
   "cell_type": "code",
   "execution_count": 87,
   "id": "54bdee9d-0d8d-4aca-807d-6b760a3c0d58",
   "metadata": {},
   "outputs": [
    {
     "data": {
      "text/plain": [
       "(tensor(0.9168), tensor(0.9854), tensor(0.9854))"
      ]
     },
     "execution_count": 87,
     "metadata": {},
     "output_type": "execute_result"
    }
   ],
   "source": [
    "# 1- since we want to get the inverse of is_3 to get an 'is_7' function\n",
    "accuracy_7 = (1-is_3(valid_7).float().mean())\n",
    "\n",
    "unary_accuracy_7 = (~is_3(valid_7)).float().mean()\n",
    "\n",
    "accuracy_3, accuracy_7, unary_accuracy_7"
   ]
  },
  {
   "cell_type": "markdown",
   "id": "796f1713-4c54-46b4-9ba2-ac0604fe520a",
   "metadata": {},
   "source": [
    "Well we're already at ~91% and ~99% for threes and sevens, I think thats pretty awesome considering we're just doing some averages and using the raw tensors against each other."
   ]
  },
  {
   "cell_type": "markdown",
   "id": "df77e9ed-bb82-4147-80b1-24bde4cf10b2",
   "metadata": {},
   "source": [
    "### Moving from 'Ideal' to Weights with Activations\n",
    "\n",
    "As mentioned in the book, if we're thinking of Arthur Samuel's interpretation of a self learning machine, we want to have a set of weights which we can update which will be highly activated for a particular category, ie large values. If we're thinking of a '1', the weights representing the middle of the image should be highly activated and the weights down the side should be lowly activated, unlike an '8' which would have highly activated sides since the hips of the digit would activate the weights. We would want a set of weights for each category and we'd want to times all the weights by the pixels, calculate a loss, figure the gradients for the weights and update them by some learning rate. This function might look something like:"
   ]
  },
  {
   "cell_type": "code",
   "execution_count": 88,
   "id": "9a57336f-3b86-4232-ab8d-166b44dbb3e6",
   "metadata": {},
   "outputs": [],
   "source": [
    "def probability_of_eight(image, weights): return (image*weights).sum()"
   ]
  },
  {
   "cell_type": "markdown",
   "id": "43767fdc-e73f-445f-9468-c74c00353eda",
   "metadata": {},
   "source": [
    "Assume 'image' is the image represented as a vector, so all the pixels lined up in a rank-1 tensor, all the rows lined up one after the other instead of stacked into a rank-2 tensor like we view them. Assume the 'weights' variable is also a vector where we can update them after calculating the loss and gradients which we times by some learning rate, we can iterate over and over to get to useful activations that tell us which category the digit drawings are.\n",
    "\n",
    "Ok directly from the book, here are the steps we require to make our classifier:\n",
    " 1. Initialise the weights to some set of values\n",
    " 2. For each image, use the weights to predict a 3 or 7 spotted\n",
    " 3. Based on those predictions, calculate how effective the model was or its loss\n",
    " 4. Calculate the gradient for our weights, which will tell us how changing those weights would impact the loss function\n",
    " 5. Change all the weights based on the gradients and some learning rate\n",
    " 6. Repeat steps 2 through 6 until the training process (this loop) is stopped from successfully completing the task or sheer boredom sets in"
   ]
  },
  {
   "cell_type": "markdown",
   "id": "bb085b1d-472b-4daf-84a8-9ffe386e6775",
   "metadata": {},
   "source": [
    "Lets start by classifying a simpler function using these steps and then expanding our process to fit our digits. Lets generate a 'noisy' function again. This is a step by step walkthrough from the book working through SGD with a quadratic function."
   ]
  },
  {
   "cell_type": "code",
   "execution_count": 89,
   "id": "891abadd-af76-495d-baca-578505f5b93e",
   "metadata": {},
   "outputs": [
    {
     "data": {
      "text/plain": [
       "tensor([ 0.,  1.,  2.,  3.,  4.,  5.,  6.,  7.,  8.,  9., 10., 11., 12., 13., 14., 15., 16., 17., 18., 19.])"
      ]
     },
     "execution_count": 89,
     "metadata": {},
     "output_type": "execute_result"
    }
   ],
   "source": [
    "time = torch.arange(0,20).float()\n",
    "time"
   ]
  },
  {
   "cell_type": "code",
   "execution_count": 90,
   "id": "55d59f8c-a7aa-49f1-8439-46b47e9b3342",
   "metadata": {},
   "outputs": [
    {
     "data": {
      "text/plain": [
       "<matplotlib.collections.PathCollection at 0x2b321e12a70>"
      ]
     },
     "execution_count": 90,
     "metadata": {},
     "output_type": "execute_result"
    },
    {
     "data": {
      "image/png": "[encoded data removed]",
      "text/plain": [
       "<Figure size 640x480 with 1 Axes>"
      ]
     },
     "metadata": {},
     "output_type": "display_data"
    }
   ],
   "source": [
    "noise = torch.randn(20)*3 + 0.66*(time-9.5)**2 + 1\n",
    "plt.scatter(time, noise)"
   ]
  },
  {
   "cell_type": "markdown",
   "id": "7c19866f-0d12-41cd-9847-a70d90849008",
   "metadata": {},
   "source": [
    "Lets make a function that takes in our input values (noise) and some parameters we define which we can tune whilst returning the combination of those two sets."
   ]
  },
  {
   "cell_type": "code",
   "execution_count": 91,
   "id": "e3edcc34-6ace-4d9c-b80e-ff143edbab92",
   "metadata": {},
   "outputs": [],
   "source": [
    "def f(noise, params):\n",
    "    a,b,c = params\n",
    "    return a*(noise**2) + (b*noise) + c"
   ]
  },
  {
   "cell_type": "markdown",
   "id": "7ddb84f1-ee07-4acc-8b67-8d8df57b40e8",
   "metadata": {},
   "source": [
    "Lets define our mean squared error (mse) loss function again, we could use the pytorch one from before but practice is practice."
   ]
  },
  {
   "cell_type": "code",
   "execution_count": 92,
   "id": "f029b0b1-82c0-49ff-ba05-07ebc962014e",
   "metadata": {},
   "outputs": [],
   "source": [
    "def mse(preds,targets): return ((preds-targets)**2).mean()"
   ]
  },
  {
   "cell_type": "markdown",
   "id": "bd5e2dba-3d4a-453e-a303-a1a5c2080890",
   "metadata": {},
   "source": [
    "### Step 1: Initialise parameters\n",
    "\n",
    "There are lots of techniques for parameter initialisation but lets start with totally random. We also want to make sure requires_grad is true since we want to know the gradients so we can adjust the parameters after we calculate our loss function. We do this with 'requires_grad_()' which we've discussed earlier."
   ]
  },
  {
   "cell_type": "code",
   "execution_count": 93,
   "id": "db64eebf-5077-42d8-95e4-17dbeb1ddfc7",
   "metadata": {},
   "outputs": [
    {
     "data": {
      "text/plain": [
       "tensor([-0.7658, -0.7506,  1.3525], requires_grad=True)"
      ]
     },
     "execution_count": 93,
     "metadata": {},
     "output_type": "execute_result"
    }
   ],
   "source": [
    "params = torch.randn(3).requires_grad_()\n",
    "params"
   ]
  },
  {
   "cell_type": "markdown",
   "id": "49d73685-8fe8-435e-898d-b120a80367fa",
   "metadata": {},
   "source": [
    "Not many parameters but its a start. Lets also store our original parameter setup"
   ]
  },
  {
   "cell_type": "code",
   "execution_count": 94,
   "id": "dab5d797-0890-41e6-9728-bd3a3ab0d977",
   "metadata": {},
   "outputs": [],
   "source": [
    "original_params = params.clone()"
   ]
  },
  {
   "cell_type": "markdown",
   "id": "2de6a78e-473b-44f5-a789-32173988213d",
   "metadata": {},
   "source": [
    "### Step 2: Calculate Predictions\n",
    "\n",
    "We have some silly starting parameters as they're literally random but this is kind of the point right? We're writing a process for the model to learn, not us, so starting with random really hammers that home."
   ]
  },
  {
   "cell_type": "code",
   "execution_count": 95,
   "id": "152bf10d-0e4a-499b-8955-9f9dc335067d",
   "metadata": {},
   "outputs": [
    {
     "data": {
      "text/plain": [
       "tensor([ 1.3525e+00, -1.6391e-01, -3.2121e+00, -7.7919e+00, -1.3903e+01, -2.1547e+01, -3.0721e+01, -4.1428e+01, -5.3666e+01, -6.7436e+01, -8.2738e+01, -9.9571e+01, -1.1794e+02, -1.3783e+02,\n",
       "        -1.5926e+02, -1.8222e+02, -2.0671e+02, -2.3274e+02, -2.6029e+02, -2.8938e+02], grad_fn=<AddBackward0>)"
      ]
     },
     "execution_count": 95,
     "metadata": {},
     "output_type": "execute_result"
    }
   ],
   "source": [
    "preds = f(time, params)\n",
    "preds"
   ]
  },
  {
   "cell_type": "markdown",
   "id": "51eebbd2-1927-4ef7-98e3-e646749ed80e",
   "metadata": {},
   "source": [
    "Lets compare our predictions to the real data to see how we did"
   ]
  },
  {
   "cell_type": "code",
   "execution_count": 96,
   "id": "3eb194d4-e705-4230-b824-cf890c887cc6",
   "metadata": {},
   "outputs": [],
   "source": [
    "def show_preds(preds, ax=None):\n",
    "    if ax is None: ax=plt.subplots()[1]\n",
    "    ax.scatter(time, noise)\n",
    "    ax.scatter(time, to_np(preds), color=\"red\")\n",
    "    # ax.set_ylim(-500,200)"
   ]
  },
  {
   "cell_type": "code",
   "execution_count": 97,
   "id": "deb698ef-7b33-4339-a8ec-7df20bc909ca",
   "metadata": {},
   "outputs": [
    {
     "data": {
      "image/png": "[encoded data removed]",
      "text/plain": [
       "<Figure size 640x480 with 1 Axes>"
      ]
     },
     "metadata": {},
     "output_type": "display_data"
    }
   ],
   "source": [
    "show_preds(preds)"
   ]
  },
  {
   "cell_type": "markdown",
   "id": "bea7a6f0-c018-4503-88c5-585d85ea5540",
   "metadata": {},
   "source": [
    "Someone call the model ambulance, we're needing some life support here, this is terrible! But we're starting at random so no surprises we're a long way off where we want to be, lets move on our loop.\n",
    "\n",
    "### Step 3: Calculate the Loss\n",
    "\n",
    "Lets use the mse function we defined earlier"
   ]
  },
  {
   "cell_type": "code",
   "execution_count": 98,
   "id": "707ef83e-72d1-4dd6-8476-ff1f8125b606",
   "metadata": {},
   "outputs": [
    {
     "data": {
      "text/plain": [
       "tensor(24837.7344, grad_fn=<MeanBackward0>)"
      ]
     },
     "execution_count": 98,
     "metadata": {},
     "output_type": "execute_result"
    }
   ],
   "source": [
    "loss = mse(preds, noise)\n",
    "loss"
   ]
  },
  {
   "cell_type": "markdown",
   "id": "a49724a0-03e0-4a0f-8c7f-4504ac66cfc7",
   "metadata": {},
   "source": [
    "### Step 4: Calculate the Gradients\n",
    "Ok so as long as we improve this loss, our prediction should get better, lets calculate the gradients so we know what to change and by how much"
   ]
  },
  {
   "cell_type": "code",
   "execution_count": 99,
   "id": "0014f73a-9e7a-49c9-b277-171a5807d416",
   "metadata": {},
   "outputs": [
    {
     "data": {
      "text/plain": [
       "tensor([-52298.7070,  -3362.8569,   -247.9058])"
      ]
     },
     "execution_count": 99,
     "metadata": {},
     "output_type": "execute_result"
    }
   ],
   "source": [
    "loss.backward()\n",
    "params.grad"
   ]
  },
  {
   "cell_type": "markdown",
   "id": "bc0f70e1-1b0a-4b3c-b138-a78bd8c99ab9",
   "metadata": {},
   "source": [
    "Ok these are some large reductions that we've got to make, lets set a learning rate so we can 'step' by a certain amount with these gradients as they will change as they move along the curve."
   ]
  },
  {
   "cell_type": "code",
   "execution_count": 100,
   "id": "7b2d0abd-93a7-4f9f-872c-22f234b77e85",
   "metadata": {},
   "outputs": [
    {
     "data": {
      "text/plain": [
       "tensor([-0.5230, -0.0336, -0.0025])"
      ]
     },
     "execution_count": 100,
     "metadata": {},
     "output_type": "execute_result"
    }
   ],
   "source": [
    "learning_rate = 1e-5\n",
    "params.grad * learning_rate"
   ]
  },
  {
   "cell_type": "code",
   "execution_count": 101,
   "id": "b78bc5b8-b654-407a-b19b-77386d286440",
   "metadata": {},
   "outputs": [
    {
     "data": {
      "text/plain": [
       "tensor([-0.7658, -0.7506,  1.3525], requires_grad=True)"
      ]
     },
     "execution_count": 101,
     "metadata": {},
     "output_type": "execute_result"
    }
   ],
   "source": [
    "params"
   ]
  },
  {
   "cell_type": "markdown",
   "id": "db73f1f8-7e19-49ce-a2d3-325dc338158f",
   "metadata": {},
   "source": [
    "### Step 5: Step the weights\n",
    "Ok we've got our gradients, we have our learning rate, lets update our weights and predict again"
   ]
  },
  {
   "cell_type": "code",
   "execution_count": 102,
   "id": "291feee2-0e63-4535-bcfa-d35e9e97d9e0",
   "metadata": {},
   "outputs": [
    {
     "data": {
      "text/plain": [
       "(tensor([-0.7658, -0.7506,  1.3525]),\n",
       " tensor([-52298.7070,  -3362.8569,   -247.9058]))"
      ]
     },
     "execution_count": 102,
     "metadata": {},
     "output_type": "execute_result"
    }
   ],
   "source": [
    "params.data, params.grad.data"
   ]
  },
  {
   "cell_type": "code",
   "execution_count": 103,
   "id": "58f129b9-06ca-44a3-9ca8-42e77f3f24ff",
   "metadata": {},
   "outputs": [],
   "source": [
    "params.data = learning_rate * params.grad.data\n",
    "params.grad = None"
   ]
  },
  {
   "cell_type": "markdown",
   "id": "c19756d7-5e5f-4eae-aef1-c47a5347b3f8",
   "metadata": {},
   "source": [
    "We set the gradients back to None so that they get freshly calculated the next time we call them in a function as we're manually stepping weights here despite the tensors \"requiring_grad\" being true meaning any function call modifies these gradients."
   ]
  },
  {
   "cell_type": "code",
   "execution_count": 104,
   "id": "3776ebb2-bff0-4575-b13f-06fb3d657fbd",
   "metadata": {},
   "outputs": [
    {
     "data": {
      "text/plain": [
       "tensor(12315.0635, grad_fn=<MeanBackward0>)"
      ]
     },
     "execution_count": 104,
     "metadata": {},
     "output_type": "execute_result"
    }
   ],
   "source": [
    "preds = f(time,params)\n",
    "mse(preds, noise)"
   ]
  },
  {
   "cell_type": "code",
   "execution_count": 105,
   "id": "d442fc03-824f-49c7-ae90-ee3d9199c7e2",
   "metadata": {},
   "outputs": [
    {
     "data": {
      "image/png": "[encoded data removed]",
      "text/plain": [
       "<Figure size 640x480 with 1 Axes>"
      ]
     },
     "metadata": {},
     "output_type": "display_data"
    }
   ],
   "source": [
    "show_preds(preds)"
   ]
  },
  {
   "cell_type": "markdown",
   "id": "94c10892-725d-40a4-8b80-3b4796998f83",
   "metadata": {},
   "source": [
    "We're looking a little flatter here, hopeful signs I think, lets create a method to run those steps we just did and then run in a loop to do them lots of times"
   ]
  },
  {
   "cell_type": "code",
   "execution_count": 106,
   "id": "9e31d9a7-25c0-418c-89fc-93fea4a26aa3",
   "metadata": {},
   "outputs": [],
   "source": [
    "def step(params, show_results=True):\n",
    "    preds = f(time,params)\n",
    "    loss = mse(preds,noise)\n",
    "    loss.backward()\n",
    "    params.data -= learning_rate * params.grad.data\n",
    "    params.grad = None\n",
    "    if show_results: print(loss.item())\n",
    "    return preds"
   ]
  },
  {
   "cell_type": "markdown",
   "id": "52a04816-61e2-4d48-82d0-05a137abe18f",
   "metadata": {},
   "source": [
    "### Step 6: Repeat the Process\n",
    "\n",
    "Now we run our step function within our 'training loop'"
   ]
  },
  {
   "cell_type": "code",
   "execution_count": 107,
   "id": "0d8f71cb-1a27-4ffb-90db-3fc6a6288e21",
   "metadata": {},
   "outputs": [
    {
     "name": "stdout",
     "output_type": "stream",
     "text": [
      "12315.0634765625\n",
      "2779.215087890625\n",
      "974.7388916015625\n",
      "633.2742919921875\n",
      "568.6563720703125\n",
      "556.42626953125\n",
      "554.1096801757812\n",
      "553.6688232421875\n",
      "553.5830688476562\n",
      "553.5643920898438\n"
     ]
    }
   ],
   "source": [
    "for i in range(10): step(params)"
   ]
  },
  {
   "cell_type": "markdown",
   "id": "7315c36e-5cff-425c-8a4a-cdc23394d82a",
   "metadata": {},
   "source": [
    "Looks like we very quickly converged on some optimal value and our gradients became super small, meaning our loss started moving very slowly down, how interesting!\n",
    "\n",
    "Lets set our parameters back to the original values and see the learning process"
   ]
  },
  {
   "cell_type": "code",
   "execution_count": 108,
   "id": "8abc4825-0214-4441-804f-6786e8ff95b9",
   "metadata": {},
   "outputs": [
    {
     "data": {
      "image/png": "[encoded data removed]",
      "text/plain": [
       "<Figure size 1200x300 with 4 Axes>"
      ]
     },
     "metadata": {},
     "output_type": "display_data"
    }
   ],
   "source": [
    "# Reset back to original parameters\n",
    "params = original_params.detach().requires_grad_()\n",
    "\n",
    "_, axs = plt.subplots(1,4,figsize=(12,3))\n",
    "for ax in axs: show_preds(step(params,False), ax)\n",
    "plt.tight_layout()"
   ]
  },
  {
   "cell_type": "markdown",
   "id": "e8681ad0-336f-48a6-ab85-403c81861f80",
   "metadata": {},
   "source": [
    "You can see that our function starts doing the exact opposite of what we'd hope but is flipping itself over to find a less lossy version of itself, I wonder if it converges on this flat configuration when considering our loss stopped at ~518 instead of continuing to learn the upper curve. I suspect this is some sort of local minimum that its running into but we'd have to continue training to see if it gets out of this flat spot"
   ]
  },
  {
   "cell_type": "markdown",
   "id": "cfb22e21-1f88-4177-be43-0d777a37d170",
   "metadata": {},
   "source": [
    "### Step 7: Stop\n",
    "\n",
    "We've decided to just run 10 loops of our training process but really we'd like to be more intelligent in our stopping as either we've solved the problem sufficiently or we're no longer \"learning\" are probably far better choices for how and when to stop. I'm sure we'll dive deeper into this process later in the course.\n",
    "\n",
    "### Back to MNIST\n",
    "\n",
    "Ok lets return to our MNIST dataset, lets also recall that we want to transform our rank 2 tensor training images into rank 1 tensors so that all the pixels are lined up in one big long vector. We will do that with torch.view() and we'll also put the threes and sevens all together in one training tensor."
   ]
  },
  {
   "cell_type": "code",
   "execution_count": 109,
   "id": "91931ef9-d165-4c82-a03a-49df6007dd6f",
   "metadata": {},
   "outputs": [
    {
     "data": {
      "text/plain": [
       "torch.Size([12396, 784])"
      ]
     },
     "execution_count": 109,
     "metadata": {},
     "output_type": "execute_result"
    }
   ],
   "source": [
    "train_x = torch.cat([stacked_threes,stacked_sevens]).view(-1,28*28)\n",
    "train_x.shape"
   ]
  },
  {
   "cell_type": "code",
   "execution_count": 110,
   "id": "c1336ed7-35f3-4344-bcc6-e523311ac55b",
   "metadata": {},
   "outputs": [
    {
     "data": {
      "text/plain": [
       "(torch.Size([6131, 28, 28]), torch.Size([6265, 28, 28]), 784)"
      ]
     },
     "execution_count": 110,
     "metadata": {},
     "output_type": "execute_result"
    }
   ],
   "source": [
    "stacked_threes.shape, stacked_sevens.shape, 28*28"
   ]
  },
  {
   "cell_type": "markdown",
   "id": "bd7e2d4b-730d-4eca-9ee9-a8d532e16f5f",
   "metadata": {},
   "source": [
    "Lets quickly look at cat() and view() so we understand how train_x was put together"
   ]
  },
  {
   "cell_type": "code",
   "execution_count": 111,
   "id": "be8c08c6-baf8-4c00-904e-dc2dbd9a6241",
   "metadata": {},
   "outputs": [
    {
     "data": {
      "text/plain": [
       "\u001b[1;31mDocstring:\u001b[0m\n",
       "cat(tensors, dim=0, *, out=None) -> Tensor\n",
       "\n",
       "Concatenates the given sequence of :attr:`seq` tensors in the given dimension.\n",
       "All tensors must either have the same shape (except in the concatenating\n",
       "dimension) or be empty.\n",
       "\n",
       ":func:`torch.cat` can be seen as an inverse operation for :func:`torch.split`\n",
       "and :func:`torch.chunk`.\n",
       "\n",
       ":func:`torch.cat` can be best understood via examples.\n",
       "\n",
       "Args:\n",
       "    tensors (sequence of Tensors): any python sequence of tensors of the same type.\n",
       "        Non-empty tensors provided must have the same shape, except in the\n",
       "        cat dimension.\n",
       "    dim (int, optional): the dimension over which the tensors are concatenated\n",
       "\n",
       "Keyword args:\n",
       "    out (Tensor, optional): the output tensor.\n",
       "\n",
       "Example::\n",
       "\n",
       "    >>> x = torch.randn(2, 3)\n",
       "    >>> x\n",
       "    tensor([[ 0.6580, -1.0969, -0.4614],\n",
       "            [-0.1034, -0.5790,  0.1497]])\n",
       "    >>> torch.cat((x, x, x), 0)\n",
       "    tensor([[ 0.6580, -1.0969, -0.4614],\n",
       "            [-0.1034, -0.5790,  0.1497],\n",
       "            [ 0.6580, -1.0969, -0.4614],\n",
       "            [-0.1034, -0.5790,  0.1497],\n",
       "            [ 0.6580, -1.0969, -0.4614],\n",
       "            [-0.1034, -0.5790,  0.1497]])\n",
       "    >>> torch.cat((x, x, x), 1)\n",
       "    tensor([[ 0.6580, -1.0969, -0.4614,  0.6580, -1.0969, -0.4614,  0.6580,\n",
       "             -1.0969, -0.4614],\n",
       "            [-0.1034, -0.5790,  0.1497, -0.1034, -0.5790,  0.1497, -0.1034,\n",
       "             -0.5790,  0.1497]])\n",
       "\u001b[1;31mType:\u001b[0m      builtin_function_or_method\n"
      ]
     },
     "metadata": {},
     "output_type": "display_data"
    }
   ],
   "source": [
    "torch.cat?"
   ]
  },
  {
   "cell_type": "code",
   "execution_count": 112,
   "id": "719cb42e-16cf-4038-b878-e2f29c1be1ce",
   "metadata": {},
   "outputs": [
    {
     "data": {
      "text/plain": [
       "\u001b[1;31mDocstring:\u001b[0m\n",
       "view(*shape) -> Tensor\n",
       "\n",
       "Returns a new tensor with the same data as the :attr:`self` tensor but of a\n",
       "different :attr:`shape`.\n",
       "\n",
       "The returned tensor shares the same data and must have the same number\n",
       "of elements, but may have a different size. For a tensor to be viewed, the new\n",
       "view size must be compatible with its original size and stride, i.e., each new\n",
       "view dimension must either be a subspace of an original dimension, or only span\n",
       "across original dimensions :math:`d, d+1, \\dots, d+k` that satisfy the following\n",
       "contiguity-like condition that :math:`\\forall i = d, \\dots, d+k-1`,\n",
       "\n",
       ".. math::\n",
       "\n",
       "  \\text{stride}[i] = \\text{stride}[i+1] \\times \\text{size}[i+1]\n",
       "\n",
       "Otherwise, it will not be possible to view :attr:`self` tensor as :attr:`shape`\n",
       "without copying it (e.g., via :meth:`contiguous`). When it is unclear whether a\n",
       ":meth:`view` can be performed, it is advisable to use :meth:`reshape`, which\n",
       "returns a view if the shapes are compatible, and copies (equivalent to calling\n",
       ":meth:`contiguous`) otherwise.\n",
       "\n",
       "Args:\n",
       "    shape (torch.Size or int...): the desired size\n",
       "\n",
       "Example::\n",
       "\n",
       "    >>> x = torch.randn(4, 4)\n",
       "    >>> x.size()\n",
       "    torch.Size([4, 4])\n",
       "    >>> y = x.view(16)\n",
       "    >>> y.size()\n",
       "    torch.Size([16])\n",
       "    >>> z = x.view(-1, 8)  # the size -1 is inferred from other dimensions\n",
       "    >>> z.size()\n",
       "    torch.Size([2, 8])\n",
       "\n",
       "    >>> a = torch.randn(1, 2, 3, 4)\n",
       "    >>> a.size()\n",
       "    torch.Size([1, 2, 3, 4])\n",
       "    >>> b = a.transpose(1, 2)  # Swaps 2nd and 3rd dimension\n",
       "    >>> b.size()\n",
       "    torch.Size([1, 3, 2, 4])\n",
       "    >>> c = a.view(1, 3, 2, 4)  # Does not change tensor layout in memory\n",
       "    >>> c.size()\n",
       "    torch.Size([1, 3, 2, 4])\n",
       "    >>> torch.equal(b, c)\n",
       "    False\n",
       "\n",
       "\n",
       ".. method:: view(dtype) -> Tensor\n",
       "   :noindex:\n",
       "\n",
       "Returns a new tensor with the same data as the :attr:`self` tensor but of a\n",
       "different :attr:`dtype`.\n",
       "\n",
       "If the element size of :attr:`dtype` is different than that of ``self.dtype``,\n",
       "then the size of the last dimension of the output will be scaled\n",
       "proportionally.  For instance, if :attr:`dtype` element size is twice that of\n",
       "``self.dtype``, then each pair of elements in the last dimension of\n",
       ":attr:`self` will be combined, and the size of the last dimension of the output\n",
       "will be half that of :attr:`self`. If :attr:`dtype` element size is half that\n",
       "of ``self.dtype``, then each element in the last dimension of :attr:`self` will\n",
       "be split in two, and the size of the last dimension of the output will be\n",
       "double that of :attr:`self`. For this to be possible, the following conditions\n",
       "must be true:\n",
       "\n",
       "    * ``self.dim()`` must be greater than 0.\n",
       "    * ``self.stride(-1)`` must be 1.\n",
       "\n",
       "Additionally, if the element size of :attr:`dtype` is greater than that of\n",
       "``self.dtype``, the following conditions must be true as well:\n",
       "\n",
       "    * ``self.size(-1)`` must be divisible by the ratio between the element\n",
       "      sizes of the dtypes.\n",
       "    * ``self.storage_offset()`` must be divisible by the ratio between the\n",
       "      element sizes of the dtypes.\n",
       "    * The strides of all dimensions, except the last dimension, must be\n",
       "      divisible by the ratio between the element sizes of the dtypes.\n",
       "\n",
       "If any of the above conditions are not met, an error is thrown.\n",
       "\n",
       ".. warning::\n",
       "\n",
       "    This overload is not supported by TorchScript, and using it in a Torchscript\n",
       "    program will cause undefined behavior.\n",
       "\n",
       "\n",
       "Args:\n",
       "    dtype (:class:`torch.dtype`): the desired dtype\n",
       "\n",
       "Example::\n",
       "\n",
       "    >>> x = torch.randn(4, 4)\n",
       "    >>> x\n",
       "    tensor([[ 0.9482, -0.0310,  1.4999, -0.5316],\n",
       "            [-0.1520,  0.7472,  0.5617, -0.8649],\n",
       "            [-2.4724, -0.0334, -0.2976, -0.8499],\n",
       "            [-0.2109,  1.9913, -0.9607, -0.6123]])\n",
       "    >>> x.dtype\n",
       "    torch.float32\n",
       "\n",
       "    >>> y = x.view(torch.int32)\n",
       "    >>> y\n",
       "    tensor([[ 1064483442, -1124191867,  1069546515, -1089989247],\n",
       "            [-1105482831,  1061112040,  1057999968, -1084397505],\n",
       "            [-1071760287, -1123489973, -1097310419, -1084649136],\n",
       "            [-1101533110,  1073668768, -1082790149, -1088634448]],\n",
       "        dtype=torch.int32)\n",
       "    >>> y[0, 0] = 1000000000\n",
       "    >>> x\n",
       "    tensor([[ 0.0047, -0.0310,  1.4999, -0.5316],\n",
       "            [-0.1520,  0.7472,  0.5617, -0.8649],\n",
       "            [-2.4724, -0.0334, -0.2976, -0.8499],\n",
       "            [-0.2109,  1.9913, -0.9607, -0.6123]])\n",
       "\n",
       "    >>> x.view(torch.cfloat)\n",
       "    tensor([[ 0.0047-0.0310j,  1.4999-0.5316j],\n",
       "            [-0.1520+0.7472j,  0.5617-0.8649j],\n",
       "            [-2.4724-0.0334j, -0.2976-0.8499j],\n",
       "            [-0.2109+1.9913j, -0.9607-0.6123j]])\n",
       "    >>> x.view(torch.cfloat).size()\n",
       "    torch.Size([4, 2])\n",
       "\n",
       "    >>> x.view(torch.uint8)\n",
       "    tensor([[  0, 202, 154,  59, 182, 243, 253, 188, 185, 252, 191,  63, 240,  22,\n",
       "               8, 191],\n",
       "            [227, 165,  27, 190, 128,  72,  63,  63, 146, 203,  15,  63,  22, 106,\n",
       "              93, 191],\n",
       "            [205,  59,  30, 192, 112, 206,   8, 189,   7,  95, 152, 190,  12, 147,\n",
       "              89, 191],\n",
       "            [ 43, 246,  87, 190, 235, 226, 254,  63, 111, 240, 117, 191, 177, 191,\n",
       "              28, 191]], dtype=torch.uint8)\n",
       "    >>> x.view(torch.uint8).size()\n",
       "    torch.Size([4, 16])\n",
       "\u001b[1;31mType:\u001b[0m      builtin_function_or_method\n"
      ]
     },
     "metadata": {},
     "output_type": "display_data"
    }
   ],
   "source": [
    "train_x.view?"
   ]
  },
  {
   "cell_type": "code",
   "execution_count": 113,
   "id": "be9c635f-c76c-4d25-92d7-b66fd0202c7c",
   "metadata": {},
   "outputs": [
    {
     "data": {
      "text/plain": [
       "(torch.Size([12396, 784]),\n",
       " torch.Size([6131, 28, 28]),\n",
       " torch.Size([6265, 28, 28]),\n",
       " 784)"
      ]
     },
     "execution_count": 113,
     "metadata": {},
     "output_type": "execute_result"
    }
   ],
   "source": [
    "train_x.shape,stacked_threes.shape, stacked_sevens.shape, 28*28"
   ]
  },
  {
   "cell_type": "markdown",
   "id": "ded471c3-beaf-44b4-9504-e968a2751361",
   "metadata": {},
   "source": [
    "Since our stacked_threes and stacked_sevens are the same shape, we concatenate them along the first dimension (dimension 0) since thats the default of the method, this explains the '12396' length of train_x since thats where we've concatenated.\n",
    "\n",
    "As the book explains, the view(-1,28\\*28) call is strange as its odd to see (-1,28\\*28) as a shape, the trick is that -1 says to view that says, \"make this axis as big as necessary to fit all the data\", this leaves us with the vector of 784 capturing the entire image (and matching the 28*28 shape we asked for) as well as '-1' being as long as needed which is our original length of 12396. We could explicitly specify the 12396 as I'll show below and you'll get the same shape object but -1 is a nice easy way of saying \"whatever it needs to be, I don't care, stretch or shrink as need be to represent the data I have\".\n",
    "\n",
    "Ok so we've added the 6131 three images and 6265 seven images into the train_x tensor as well as flattened out their $28*28$ matrix into a 784 long vector representing the same thing. Hopefully you can see the connection here between those two objects."
   ]
  },
  {
   "cell_type": "code",
   "execution_count": 114,
   "id": "b7d85114-16c0-4ce0-877d-22e45ce45e42",
   "metadata": {},
   "outputs": [
    {
     "data": {
      "text/plain": [
       "(torch.Size([12396, 784]), torch.Size([12396, 784]))"
      ]
     },
     "execution_count": 114,
     "metadata": {},
     "output_type": "execute_result"
    }
   ],
   "source": [
    "# same thing as the sneaky tricks we did before\n",
    "\n",
    "torch.cat([stacked_threes,stacked_sevens]).view(12396,784).shape, train_x.shape"
   ]
  },
  {
   "cell_type": "markdown",
   "id": "0b998b07-c9f9-4b09-a643-0fc0818f6312",
   "metadata": {},
   "source": [
    "Ok lets now set our labels which will be '1' for our threes and '0' for our sevens"
   ]
  },
  {
   "cell_type": "code",
   "execution_count": 115,
   "id": "8cb26ab4-186a-4e9f-ab8b-9a56b8026ab6",
   "metadata": {},
   "outputs": [
    {
     "data": {
      "text/plain": [
       "(torch.Size([12396, 1]), torch.Size([12396, 784]))"
      ]
     },
     "execution_count": 115,
     "metadata": {},
     "output_type": "execute_result"
    }
   ],
   "source": [
    "train_y = tensor([1]*len(threes) + [0]*len(sevens)).unsqueeze(1)\n",
    "train_y.shape, train_x.shape"
   ]
  },
  {
   "cell_type": "markdown",
   "id": "c4a5b20b-765d-49ae-9c80-657fc9393622",
   "metadata": {},
   "source": [
    "Shapes look good, we've got matching labels, 12,396 of them, with a label of size 1 for each, lets have a look"
   ]
  },
  {
   "cell_type": "code",
   "execution_count": 116,
   "id": "bb7e4518-9763-454f-8604-6aed20d6c4a1",
   "metadata": {},
   "outputs": [
    {
     "data": {
      "text/plain": [
       "tensor([[1],\n",
       "        [1],\n",
       "        [1],\n",
       "        ...,\n",
       "        [0],\n",
       "        [0],\n",
       "        [0]])"
      ]
     },
     "execution_count": 116,
     "metadata": {},
     "output_type": "execute_result"
    }
   ],
   "source": [
    "train_y"
   ]
  },
  {
   "cell_type": "code",
   "execution_count": 117,
   "id": "c86b532a-a8a5-4a99-b981-d234509954b0",
   "metadata": {},
   "outputs": [
    {
     "data": {
      "text/plain": [
       "tensor([0.0000, 0.0000, 0.0000, 0.0000, 0.0000, 0.0000, 0.0000, 0.0000, 0.0000, 0.0000, 0.0000, 0.0000, 0.0000, 0.0000, 0.0000, 0.0000, 0.0000, 0.0000, 0.0000, 0.0000, 0.0000, 0.0000, 0.0000, 0.0000,\n",
       "        0.0000, 0.0000, 0.0000, 0.0000, 0.0000, 0.0000, 0.0000, 0.0000, 0.0000, 0.0000, 0.0000, 0.0000, 0.0000, 0.0000, 0.0000, 0.0000, 0.0000, 0.0000, 0.0000, 0.0000, 0.0000, 0.0000, 0.0000, 0.0000,\n",
       "        0.0000, 0.0000, 0.0000, 0.0000, 0.0000, 0.0000, 0.0000, 0.0000, 0.0000, 0.0000, 0.0000, 0.0000, 0.0000, 0.0000, 0.0000, 0.0000, 0.0000, 0.0000, 0.0000, 0.0000, 0.0000, 0.0000, 0.0000, 0.0000,\n",
       "        0.0000, 0.0000, 0.0000, 0.0000, 0.0000, 0.0000, 0.0000, 0.0000, 0.0000, 0.0000, 0.0000, 0.0000, 0.0000, 0.0000, 0.0000, 0.0000, 0.0000, 0.0000, 0.0000, 0.0000, 0.0000, 0.0000, 0.0000, 0.0000,\n",
       "        0.0000, 0.0000, 0.0000, 0.0000, 0.0000, 0.0000, 0.0000, 0.0000, 0.0000, 0.0000, 0.0000, 0.0000, 0.0000, 0.0000, 0.0000, 0.0000, 0.0000, 0.0000, 0.0000, 0.0000, 0.0000, 0.0000, 0.0000, 0.0000,\n",
       "        0.0000, 0.0000, 0.0000, 0.0000, 0.0000, 0.0000, 0.0000, 0.0000, 0.0000, 0.0000, 0.0000, 0.0000, 0.0000, 0.0000, 0.0000, 0.0000, 0.0000, 0.0000, 0.0000, 0.0000, 0.0000, 0.0000, 0.0000, 0.0000,\n",
       "        0.0000, 0.0000, 0.0000, 0.0000, 0.0000, 0.1137, 0.5882, 0.7647, 0.9961, 1.0000, 0.9961, 0.6902, 0.7569, 0.5882, 0.3765, 0.0000, 0.0000, 0.0000, 0.0000, 0.0000, 0.0000, 0.0000, 0.0000, 0.0000,\n",
       "        0.0000, 0.0000, 0.0000, 0.0000, 0.0000, 0.0000, 0.0000, 0.1882, 0.6510, 0.8784, 0.9922, 0.9922, 0.9176, 0.7686, 0.9922, 0.9922, 0.9922, 0.9922, 0.9137, 0.0000, 0.0000, 0.0000, 0.0000, 0.0000,\n",
       "        0.0000, 0.0000, 0.0000, 0.0000, 0.0000, 0.0000, 0.0000, 0.0000, 0.0000, 0.3647, 0.9569, 0.9765, 0.9922, 0.7333, 0.1804, 0.0392, 0.0314, 0.0157, 0.0392, 0.7608, 0.9922, 0.9922, 0.9137, 0.0000,\n",
       "        0.0000, 0.0000, 0.0000, 0.0000, 0.0000, 0.0000, 0.0000, 0.0000, 0.0000, 0.0000, 0.0000, 0.0000, 0.0000, 0.4196, 0.9922, 0.9922, 0.9020, 0.1882, 0.0000, 0.0000, 0.0000, 0.0000, 0.0000, 0.7529,\n",
       "        0.9922, 0.9922, 0.6118, 0.0000, 0.0000, 0.0000, 0.0000, 0.0000, 0.0000, 0.0000, 0.0000, 0.0000, 0.0000, 0.0000, 0.0000, 0.0000, 0.0000, 0.0118, 0.0784, 0.0784, 0.0588, 0.0000, 0.0000, 0.0000,\n",
       "        0.0000, 0.0000, 0.1686, 0.8784, 0.9922, 0.9608, 0.2902, 0.0000, 0.0000, 0.0000, 0.0000, 0.0000, 0.0000, 0.0000, 0.0000, 0.0000, 0.0000, 0.0000, 0.0000, 0.0000, 0.0000, 0.0000, 0.0000, 0.0000,\n",
       "        0.0000, 0.0000, 0.0000, 0.0000, 0.0000, 0.0000, 0.9765, 0.9922, 0.9608, 0.4941, 0.0000, 0.0000, 0.0000, 0.0000, 0.0000, 0.0000, 0.0000, 0.0000, 0.0000, 0.0000, 0.0000, 0.0000, 0.0000, 0.0000,\n",
       "        0.0000, 0.0000, 0.0000, 0.0000, 0.0000, 0.0000, 0.0000, 0.0549, 0.3961, 0.8745, 0.9922, 0.9725, 0.4863, 0.0000, 0.0000, 0.0000, 0.0000, 0.0000, 0.0000, 0.0000, 0.0000, 0.0000, 0.0000, 0.0000,\n",
       "        0.0000, 0.0000, 0.0000, 0.0000, 0.0000, 0.0000, 0.0000, 0.0000, 0.0000, 0.0431, 0.6510, 0.9373, 0.9922, 0.9922, 0.9922, 0.7333, 0.1176, 0.0000, 0.0000, 0.0000, 0.0000, 0.0000, 0.0000, 0.0000,\n",
       "        0.0000, 0.0000, 0.0000, 0.0000, 0.0000, 0.0000, 0.0000, 0.0000, 0.0000, 0.0000, 0.0000, 0.0000, 0.0000, 0.0627, 0.9725, 0.9804, 0.9922, 0.9922, 0.9922, 0.9922, 0.9098, 0.8353, 0.4353, 0.0078,\n",
       "        0.0000, 0.0000, 0.0000, 0.0000, 0.0000, 0.0000, 0.0000, 0.0000, 0.0000, 0.0000, 0.0000, 0.0000, 0.0000, 0.0000, 0.0000, 0.0000, 0.0000, 0.0000, 0.0000, 0.1686, 0.3843, 0.3843, 0.8157, 0.9922,\n",
       "        0.9922, 0.9922, 0.9922, 0.7333, 0.0863, 0.0000, 0.0000, 0.0000, 0.0000, 0.0000, 0.0000, 0.0000, 0.0000, 0.0000, 0.0000, 0.0000, 0.0000, 0.0000, 0.0000, 0.0000, 0.0000, 0.0000, 0.0000, 0.0000,\n",
       "        0.0000, 0.0000, 0.0353, 0.2000, 0.4667, 0.9922, 0.9922, 0.9922, 0.2980, 0.0000, 0.0000, 0.0000, 0.0000, 0.0000, 0.0000, 0.0000, 0.0000, 0.0000, 0.0000, 0.0000, 0.0000, 0.0000, 0.0000, 0.0000,\n",
       "        0.0000, 0.0000, 0.0000, 0.0000, 0.0000, 0.0000, 0.0000, 0.0000, 0.0039, 0.7176, 0.9922, 0.9922, 0.5451, 0.0000, 0.0000, 0.0000, 0.0000, 0.0000, 0.0000, 0.0000, 0.0000, 0.0000, 0.0000, 0.0000,\n",
       "        0.0000, 0.0000, 0.0000, 0.0000, 0.0000, 0.0000, 0.0000, 0.0000, 0.0000, 0.0000, 0.0000, 0.0000, 0.0000, 0.7137, 0.9922, 0.9922, 0.4078, 0.0000, 0.0000, 0.0000, 0.0000, 0.0000, 0.0000, 0.0000,\n",
       "        0.0000, 0.0000, 0.0000, 0.0000, 0.0000, 0.0000, 0.0000, 0.0000, 0.0000, 0.0000, 0.0000, 0.0000, 0.0000, 0.0000, 0.0000, 0.0000, 0.3333, 0.9765, 0.9922, 0.9922, 0.1412, 0.0000, 0.0000, 0.0000,\n",
       "        0.0000, 0.0000, 0.0000, 0.0000, 0.0000, 0.0000, 0.0000, 0.0000, 0.0000, 0.0000, 0.0000, 0.0000, 0.0000, 0.0000, 0.0000, 0.0000, 0.0000, 0.0000, 0.0000, 0.2353, 0.8392, 0.9922, 0.9922, 0.6784,\n",
       "        0.0431, 0.0000, 0.0000, 0.0000, 0.0000, 0.0000, 0.0000, 0.0000, 0.0000, 0.0000, 0.0000, 0.0000, 0.0000, 0.0000, 0.0000, 0.0000, 0.0000, 0.0000, 0.0000, 0.0000, 0.0000, 0.0000, 0.3843, 0.9686,\n",
       "        0.9922, 0.9922, 0.8863, 0.0353, 0.0000, 0.0000, 0.0000, 0.0000, 0.0000, 0.0000, 0.0000, 0.0000, 0.0000, 0.0000, 0.0000, 0.0000, 0.0000, 0.0000, 0.0000, 0.0000, 0.0000, 0.0000, 0.0000, 0.0000,\n",
       "        0.1647, 0.5882, 0.9882, 0.9922, 0.9922, 0.9137, 0.2078, 0.0000, 0.0000, 0.0000, 0.0000, 0.0000, 0.0000, 0.0000, 0.0000, 0.0000, 0.0000, 0.0000, 0.0000, 0.0000, 0.0000, 0.0000, 0.1647, 0.4510,\n",
       "        0.1647, 0.2353, 0.4510, 0.6235, 0.9412, 0.9922, 0.9922, 0.9804, 0.6863, 0.0980, 0.0000, 0.0000, 0.0000, 0.0000, 0.0000, 0.0000, 0.0000, 0.0000, 0.0000, 0.0000, 0.0000, 0.0000, 0.0000, 0.0000,\n",
       "        0.0000, 0.0000, 0.7333, 0.9922, 0.9922, 0.9922, 0.9922, 0.9922, 0.9922, 0.9922, 0.7725, 0.3373, 0.0000, 0.0000, 0.0000, 0.0000, 0.0000, 0.0000, 0.0000, 0.0000, 0.0000, 0.0000, 0.0000, 0.0000,\n",
       "        0.0000, 0.0000, 0.0000, 0.0000, 0.0000, 0.0000, 0.4039, 0.9922, 0.9922, 0.9922, 0.9922, 0.9922, 0.9098, 0.2627, 0.0039, 0.0000, 0.0000, 0.0000, 0.0000, 0.0000, 0.0000, 0.0000, 0.0000, 0.0000,\n",
       "        0.0000, 0.0000, 0.0000, 0.0000, 0.0000, 0.0000, 0.0000, 0.0000, 0.0000, 0.0000, 0.0000, 0.0000, 0.0000, 0.0000, 0.0000, 0.0000, 0.0000, 0.0000, 0.0000, 0.0000, 0.0000, 0.0000, 0.0000, 0.0000,\n",
       "        0.0000, 0.0000, 0.0000, 0.0000, 0.0000, 0.0000, 0.0000, 0.0000, 0.0000, 0.0000, 0.0000, 0.0000, 0.0000, 0.0000, 0.0000, 0.0000, 0.0000, 0.0000, 0.0000, 0.0000, 0.0000, 0.0000, 0.0000, 0.0000,\n",
       "        0.0000, 0.0000, 0.0000, 0.0000, 0.0000, 0.0000, 0.0000, 0.0000, 0.0000, 0.0000, 0.0000, 0.0000, 0.0000, 0.0000, 0.0000, 0.0000, 0.0000, 0.0000, 0.0000, 0.0000, 0.0000, 0.0000, 0.0000, 0.0000,\n",
       "        0.0000, 0.0000, 0.0000, 0.0000, 0.0000, 0.0000, 0.0000, 0.0000, 0.0000, 0.0000, 0.0000, 0.0000, 0.0000, 0.0000, 0.0000, 0.0000])"
      ]
     },
     "execution_count": 117,
     "metadata": {},
     "output_type": "execute_result"
    }
   ],
   "source": [
    "train_x[1]"
   ]
  },
  {
   "cell_type": "markdown",
   "id": "b0ac89fe-b2ff-41ea-bb93-fed1fb9610da",
   "metadata": {},
   "source": [
    "Ok so for each element in train_x which is this big tensor, we've got a nice little label in train_y to match. I want to see what unsqueeze does as well more visually"
   ]
  },
  {
   "cell_type": "code",
   "execution_count": 118,
   "id": "822865e2-108b-40e2-b842-ecd6ebfe5db0",
   "metadata": {},
   "outputs": [
    {
     "data": {
      "text/plain": [
       "(tensor([1, 1, 1,  ..., 1, 1, 1]),\n",
       " tensor([[1],\n",
       "         [1],\n",
       "         [1],\n",
       "         ...,\n",
       "         [1],\n",
       "         [1],\n",
       "         [1]]))"
      ]
     },
     "execution_count": 118,
     "metadata": {},
     "output_type": "execute_result"
    }
   ],
   "source": [
    "squeeze_test = tensor([1]*len(threes))\n",
    "\n",
    "squeeze_test, squeeze_test.unsqueeze(1)"
   ]
  },
  {
   "cell_type": "markdown",
   "id": "16daa247-6fc4-4efe-b83e-1f4074605e7a",
   "metadata": {},
   "source": [
    "Ok so it does a nice transpose type change where we can take that long single vector and then make it match the pattern of our train tensor"
   ]
  },
  {
   "cell_type": "code",
   "execution_count": 119,
   "id": "9363ca92-aed9-4a0b-be23-3f2ff0872df7",
   "metadata": {},
   "outputs": [
    {
     "data": {
      "text/plain": [
       "\u001b[1;31mDocstring:\u001b[0m\n",
       "unsqueeze(input, dim) -> Tensor\n",
       "\n",
       "Returns a new tensor with a dimension of size one inserted at the\n",
       "specified position.\n",
       "\n",
       "The returned tensor shares the same underlying data with this tensor.\n",
       "\n",
       "A :attr:`dim` value within the range ``[-input.dim() - 1, input.dim() + 1)``\n",
       "can be used. Negative :attr:`dim` will correspond to :meth:`unsqueeze`\n",
       "applied at :attr:`dim` = ``dim + input.dim() + 1``.\n",
       "\n",
       "Args:\n",
       "    input (Tensor): the input tensor.\n",
       "    dim (int): the index at which to insert the singleton dimension\n",
       "\n",
       "Example::\n",
       "\n",
       "    >>> x = torch.tensor([1, 2, 3, 4])\n",
       "    >>> torch.unsqueeze(x, 0)\n",
       "    tensor([[ 1,  2,  3,  4]])\n",
       "    >>> torch.unsqueeze(x, 1)\n",
       "    tensor([[ 1],\n",
       "            [ 2],\n",
       "            [ 3],\n",
       "            [ 4]])\n",
       "\u001b[1;31mType:\u001b[0m      builtin_function_or_method\n"
      ]
     },
     "metadata": {},
     "output_type": "display_data"
    }
   ],
   "source": [
    "torch.unsqueeze?"
   ]
  },
  {
   "cell_type": "markdown",
   "id": "f0429d6a-3145-469c-95b3-7f31a54e7663",
   "metadata": {},
   "source": [
    "### Pytorch Datasets\n",
    "\n",
    "A pytorch Dataset is required to return an (x,y) (input, label) tuple when indexed, of course we could use anything for this, we're going to zip a list which is a nice python trick to put together elements.\n",
    "\n",
    "We will revisit this later to pass into the pytorch classes, but its important to note"
   ]
  },
  {
   "cell_type": "code",
   "execution_count": 120,
   "id": "dec5fa51-4455-493f-bb6b-fe3d4af04944",
   "metadata": {},
   "outputs": [
    {
     "data": {
      "text/plain": [
       "(torch.Size([784]), tensor([1]))"
      ]
     },
     "execution_count": 120,
     "metadata": {},
     "output_type": "execute_result"
    }
   ],
   "source": [
    "dataset = list(zip(train_x,train_y))\n",
    "x,y = dataset[0]\n",
    "x.shape,y"
   ]
  },
  {
   "cell_type": "markdown",
   "id": "63fe7c6e-4fea-44a8-9815-3a812f12a73b",
   "metadata": {},
   "source": [
    "Lets make our validation set like we did our training set"
   ]
  },
  {
   "cell_type": "code",
   "execution_count": 121,
   "id": "8bcb0baa-a919-472f-8b3f-e45ab9a3ab6f",
   "metadata": {},
   "outputs": [],
   "source": [
    "valid_x = torch.cat([valid_3, valid_7]).view(-1,28*28)\n",
    "valid_y = tensor([1]*len(valid_3) + [0]*len(valid_7)).unsqueeze(1)\n",
    "valid_dataset = list(zip(valid_x,valid_y))"
   ]
  },
  {
   "cell_type": "markdown",
   "id": "06654d7c-2818-49ad-b2d2-9439f8763d24",
   "metadata": {},
   "source": [
    "### Step 1: Initialise Weights\n",
    "\n",
    "Like before, lets randomise some values to get going, lets have a weight for each pixel"
   ]
  },
  {
   "cell_type": "code",
   "execution_count": 122,
   "id": "f191ec3b-e5d4-4f5d-9106-12b3cde88cc1",
   "metadata": {},
   "outputs": [],
   "source": [
    "def init_params(size,std=1.0): return (torch.randn(size)*std).requires_grad_()"
   ]
  },
  {
   "cell_type": "markdown",
   "id": "38853f94-22b8-460d-97cd-618ed9b41eeb",
   "metadata": {},
   "source": [
    "Lets also have a quick look at what our params look like"
   ]
  },
  {
   "cell_type": "code",
   "execution_count": 123,
   "id": "429f7d5f-0b66-4f55-a45f-18af5bb10efa",
   "metadata": {},
   "outputs": [
    {
     "data": {
      "text/plain": [
       "(torch.Size([784, 1]),\n",
       " tensor([[ 0.6872],\n",
       "         [-1.0892],\n",
       "         [-0.3553],\n",
       "         [-0.9138],\n",
       "         [-0.6581],\n",
       "         [ 0.0780],\n",
       "         [ 0.5258],\n",
       "         [ 1.1790],\n",
       "         [-0.4345]], grad_fn=<SliceBackward0>))"
      ]
     },
     "execution_count": 123,
     "metadata": {},
     "output_type": "execute_result"
    }
   ],
   "source": [
    "weights = init_params((28*28,1))\n",
    "weights.shape, weights[1:10]"
   ]
  },
  {
   "cell_type": "markdown",
   "id": "bb42aca0-48fb-4c79-b64f-ef1bdb04be78",
   "metadata": {},
   "source": [
    "This doesn't feel like a very 'deep' architecture considering its one 'layer' deep but lets see if this can even do what we want.\n",
    "\n",
    "The other important note the book highlights is that $weights*pixels$ won't be enough since if the pixel is 0, or its intercept is 0, we'll end up with a 0 gradient, lets also add the bias term we've seen in our functions so far."
   ]
  },
  {
   "cell_type": "code",
   "execution_count": 124,
   "id": "4adc8998-8ba2-483b-80f9-2829cfa74230",
   "metadata": {},
   "outputs": [
    {
     "data": {
      "text/plain": [
       "(torch.Size([1]), tensor([0.6863], requires_grad=True))"
      ]
     },
     "execution_count": 124,
     "metadata": {},
     "output_type": "execute_result"
    }
   ],
   "source": [
    "bias = init_params(1)\n",
    "bias.shape, bias"
   ]
  },
  {
   "cell_type": "code",
   "execution_count": 125,
   "id": "e9ebd171-31d2-478e-a549-0696b92c3982",
   "metadata": {},
   "outputs": [
    {
     "data": {
      "text/plain": [
       "tensor([20.2336], grad_fn=<AddBackward0>)"
      ]
     },
     "execution_count": 125,
     "metadata": {},
     "output_type": "execute_result"
    }
   ],
   "source": [
    "(train_x[0]*weights.T).sum() + bias"
   ]
  },
  {
   "cell_type": "markdown",
   "id": "daf7c118-ccf0-46a6-a465-9d13f182e0ae",
   "metadata": {},
   "source": [
    "Ok so we've multiplied all the weights by all the pixels in the first training example and added our bias term, this fits our $prediction = weights*input + b$ pattern.\n",
    "\n",
    "Now instead of doing all this heavy lifting in a python loop on the cpu and without matrix multiplication which we worked through before, lets matrix multiply instead."
   ]
  },
  {
   "cell_type": "code",
   "execution_count": 126,
   "id": "fa9e7fdb-097f-4b5b-9dce-a12e7ee6e684",
   "metadata": {},
   "outputs": [
    {
     "data": {
      "text/plain": [
       "tensor([[20.2336],\n",
       "        [17.0644],\n",
       "        [15.2384],\n",
       "        ...,\n",
       "        [18.3804],\n",
       "        [23.8567],\n",
       "        [28.6816]], grad_fn=<AddBackward0>)"
      ]
     },
     "execution_count": 126,
     "metadata": {},
     "output_type": "execute_result"
    }
   ],
   "source": [
    "def predict_matrix(xb): return xb@weights + bias\n",
    "preds = predict_matrix(train_x)\n",
    "preds"
   ]
  },
  {
   "cell_type": "markdown",
   "id": "ddaea9a5-6218-496c-851b-02ed7a1ddcc5",
   "metadata": {},
   "source": [
    "Lets look at our accuracy, remember that over 0 is a prediction for y and below is a prediction for a 3"
   ]
  },
  {
   "cell_type": "code",
   "execution_count": 127,
   "id": "9f4d9cdf-708e-433d-b0c6-5d0d1e93e507",
   "metadata": {},
   "outputs": [
    {
     "data": {
      "text/plain": [
       "tensor([[ True],\n",
       "        [ True],\n",
       "        [ True],\n",
       "        ...,\n",
       "        [False],\n",
       "        [False],\n",
       "        [False]])"
      ]
     },
     "execution_count": 127,
     "metadata": {},
     "output_type": "execute_result"
    }
   ],
   "source": [
    "corrects = (preds>0.0).float() == train_y\n",
    "corrects"
   ]
  },
  {
   "cell_type": "code",
   "execution_count": 128,
   "id": "525e217d-534d-495e-8f19-5872782b6a77",
   "metadata": {},
   "outputs": [
    {
     "data": {
      "text/plain": [
       "0.4912068545818329"
      ]
     },
     "execution_count": 128,
     "metadata": {},
     "output_type": "execute_result"
    }
   ],
   "source": [
    "corrects.float().mean().item()"
   ]
  },
  {
   "cell_type": "markdown",
   "id": "ef20d97c-f302-4e3b-b083-f0bd7f5e9f12",
   "metadata": {},
   "source": [
    "Ok pretty spot on random guessing at 50%, that makes sense since we're starting random weights and we'd be randomly guessing. Lets see what happens if we muck with the weights a little bit and predict again. We're going to use a [context manager](https://book.pythontips.com/en/latest/context_managers.html) which are awesome python things, please read those docs if you haven't come across these before to make sure our gradients don't get messed with"
   ]
  },
  {
   "cell_type": "code",
   "execution_count": 129,
   "id": "30724e61-2e25-440e-8744-a44cc662b367",
   "metadata": {},
   "outputs": [],
   "source": [
    "with torch.no_grad(): weights[0] *= 1.0001"
   ]
  },
  {
   "cell_type": "code",
   "execution_count": 130,
   "id": "699275a9-f9f1-4abd-9701-8f6c735e84ad",
   "metadata": {},
   "outputs": [
    {
     "data": {
      "text/plain": [
       "0.4912068545818329"
      ]
     },
     "execution_count": 130,
     "metadata": {},
     "output_type": "execute_result"
    }
   ],
   "source": [
    "preds = predict_matrix(train_x)\n",
    "((preds>0.0).float() == train_y).float().mean().item()"
   ]
  },
  {
   "cell_type": "markdown",
   "id": "f4c7ae7d-ebbd-41eb-86fe-c4ea63191781",
   "metadata": {},
   "source": [
    "No change? What gives?"
   ]
  },
  {
   "cell_type": "code",
   "execution_count": 131,
   "id": "35b6a269-101e-4b96-85bf-1e528b4d8e68",
   "metadata": {},
   "outputs": [
    {
     "name": "stdout",
     "output_type": "stream",
     "text": [
      "None True\n"
     ]
    }
   ],
   "source": [
    "print(weights.grad, weights.requires_grad)"
   ]
  },
  {
   "cell_type": "markdown",
   "id": "9867e2a4-59e6-4b70-8ef4-910928b082e6",
   "metadata": {},
   "source": [
    "Well we've got no gradients since we haven't picked a loss function yet, lets define our mnist_loss"
   ]
  },
  {
   "cell_type": "code",
   "execution_count": 132,
   "id": "f97b3e07-8e14-4784-84b7-e927af6c9ac1",
   "metadata": {},
   "outputs": [],
   "source": [
    "def mnist_loss(predictions, targets):\n",
    "    return torch.where(condition=targets==1, x=1-predictions, y=predictions).mean()"
   ]
  },
  {
   "cell_type": "markdown",
   "id": "fd417fd1-1460-4130-8da1-84f081817a7e",
   "metadata": {},
   "source": [
    "torch.where() is a cool function to return elements from your x or y inputs depending on the condition given, the docs are below as well for some examples which is a helpful reference"
   ]
  },
  {
   "cell_type": "code",
   "execution_count": 133,
   "id": "ce939fa1-f69b-4876-9bc5-248fd17f6350",
   "metadata": {},
   "outputs": [
    {
     "data": {
      "text/plain": [
       "\u001b[1;31mDocstring:\u001b[0m\n",
       "where(condition, x, y) -> Tensor\n",
       "\n",
       "Return a tensor of elements selected from either :attr:`x` or :attr:`y`, depending on :attr:`condition`.\n",
       "\n",
       "The operation is defined as:\n",
       "\n",
       ".. math::\n",
       "    \\text{out}_i = \\begin{cases}\n",
       "        \\text{x}_i & \\text{if } \\text{condition}_i \\\\\n",
       "        \\text{y}_i & \\text{otherwise} \\\\\n",
       "    \\end{cases}\n",
       "\n",
       ".. note::\n",
       "    The tensors :attr:`condition`, :attr:`x`, :attr:`y` must be :ref:`broadcastable <broadcasting-semantics>`.\n",
       "\n",
       "Arguments:\n",
       "    condition (BoolTensor): When True (nonzero), yield x, otherwise yield y\n",
       "    x (Tensor or Scalar): value (if :attr:`x` is a scalar) or values selected at indices\n",
       "                          where :attr:`condition` is ``True``\n",
       "    y (Tensor or Scalar): value (if :attr:`y` is a scalar) or values selected at indices\n",
       "                          where :attr:`condition` is ``False``\n",
       "\n",
       "Returns:\n",
       "    Tensor: A tensor of shape equal to the broadcasted shape of :attr:`condition`, :attr:`x`, :attr:`y`\n",
       "\n",
       "Example::\n",
       "\n",
       "    >>> x = torch.randn(3, 2)\n",
       "    >>> y = torch.ones(3, 2)\n",
       "    >>> x\n",
       "    tensor([[-0.4620,  0.3139],\n",
       "            [ 0.3898, -0.7197],\n",
       "            [ 0.0478, -0.1657]])\n",
       "    >>> torch.where(x > 0, x, y)\n",
       "    tensor([[ 1.0000,  0.3139],\n",
       "            [ 0.3898,  1.0000],\n",
       "            [ 0.0478,  1.0000]])\n",
       "    >>> x = torch.randn(2, 2, dtype=torch.double)\n",
       "    >>> x\n",
       "    tensor([[ 1.0779,  0.0383],\n",
       "            [-0.8785, -1.1089]], dtype=torch.float64)\n",
       "    >>> torch.where(x > 0, x, 0.)\n",
       "    tensor([[1.0779, 0.0383],\n",
       "            [0.0000, 0.0000]], dtype=torch.float64)\n",
       "\n",
       ".. function:: where(condition) -> tuple of LongTensor\n",
       "   :noindex:\n",
       "\n",
       "``torch.where(condition)`` is identical to\n",
       "``torch.nonzero(condition, as_tuple=True)``.\n",
       "\n",
       ".. note::\n",
       "    See also :func:`torch.nonzero`.\n",
       "\u001b[1;31mType:\u001b[0m      builtin_function_or_method\n"
      ]
     },
     "metadata": {},
     "output_type": "display_data"
    }
   ],
   "source": [
    "torch.where?"
   ]
  },
  {
   "cell_type": "markdown",
   "id": "ec8934e3-8716-40b3-b6a3-8130640db6ac",
   "metadata": {},
   "source": [
    "One problem is that our mnist_loss function assumes our predictions are between 0 and 1, this isn't true for our predictions tensor yet:"
   ]
  },
  {
   "cell_type": "code",
   "execution_count": 134,
   "id": "e7ed1127-a3bf-443d-9323-db9089f82343",
   "metadata": {},
   "outputs": [
    {
     "data": {
      "text/plain": [
       "tensor([[20.2336],\n",
       "        [17.0644],\n",
       "        [15.2384],\n",
       "        ...,\n",
       "        [18.3804],\n",
       "        [23.8567],\n",
       "        [28.6816]], grad_fn=<AddBackward0>)"
      ]
     },
     "execution_count": 134,
     "metadata": {},
     "output_type": "execute_result"
    }
   ],
   "source": [
    "preds"
   ]
  },
  {
   "cell_type": "markdown",
   "id": "2fafda73-d9fa-445d-833a-670c82e68657",
   "metadata": {},
   "source": [
    "We can however normalise everything by using a sigmoid function, we can use pytorch's sigmoid 'accelerated' (runs on the GPU) version or define it manually like so"
   ]
  },
  {
   "cell_type": "code",
   "execution_count": 135,
   "id": "f2675661-fa7e-42d2-9c96-d77c87c93ed7",
   "metadata": {},
   "outputs": [
    {
     "data": {
      "text/plain": [
       "(tensor([0.0067, 0.0082, 0.0100, 0.0123, 0.0150, 0.0184, 0.0224, 0.0273, 0.0333, 0.0406, 0.0493, 0.0598, 0.0724, 0.0873, 0.1050, 0.1258, 0.1500, 0.1779, 0.2097, 0.2456, 0.2853, 0.3287, 0.3751, 0.4241,\n",
       "         0.4745, 0.5255, 0.5759, 0.6249, 0.6713, 0.7147, 0.7544, 0.7903, 0.8221, 0.8500, 0.8742, 0.8950, 0.9127, 0.9276, 0.9402, 0.9507, 0.9594, 0.9667, 0.9727, 0.9776, 0.9816, 0.9850, 0.9877, 0.9900,\n",
       "         0.9918, 0.9933]),\n",
       " tensor([0.0067, 0.0082, 0.0100, 0.0123, 0.0150, 0.0184, 0.0224, 0.0273, 0.0333, 0.0406, 0.0493, 0.0598, 0.0724, 0.0873, 0.1050, 0.1258, 0.1500, 0.1779, 0.2097, 0.2456, 0.2853, 0.3287, 0.3751, 0.4241,\n",
       "         0.4745, 0.5255, 0.5759, 0.6249, 0.6713, 0.7147, 0.7544, 0.7903, 0.8221, 0.8500, 0.8742, 0.8950, 0.9127, 0.9276, 0.9402, 0.9507, 0.9594, 0.9667, 0.9727, 0.9776, 0.9816, 0.9850, 0.9877, 0.9900,\n",
       "         0.9918, 0.9933]),\n",
       " tensor([-5.0000, -4.7959, -4.5918, -4.3878, -4.1837, -3.9796, -3.7755, -3.5714, -3.3673, -3.1633, -2.9592, -2.7551, -2.5510, -2.3469, -2.1429, -1.9388, -1.7347, -1.5306, -1.3265, -1.1224, -0.9184,\n",
       "         -0.7143, -0.5102, -0.3061, -0.1020,  0.1020,  0.3061,  0.5102,  0.7143,  0.9184,  1.1224,  1.3265,  1.5306,  1.7347,  1.9388,  2.1429,  2.3469,  2.5510,  2.7551,  2.9592,  3.1633,  3.3673,\n",
       "          3.5714,  3.7755,  3.9796,  4.1837,  4.3878,  4.5918,  4.7959,  5.0000]))"
      ]
     },
     "execution_count": 135,
     "metadata": {},
     "output_type": "execute_result"
    }
   ],
   "source": [
    "def sigmoid(x): return 1/(1+torch.exp(-x))\n",
    "x = torch.linspace(-5,5,50)\n",
    "torch.sigmoid(x), sigmoid(x), x"
   ]
  },
  {
   "cell_type": "markdown",
   "id": "ab4700ed-08eb-4c8e-b66e-97c64703a6f0",
   "metadata": {},
   "source": [
    "You can see how our values from -5 to 5 get nicely spread between 0 and 1 based on their relative size. Also note torch.sigmoid (fast boi) and our slow implementation produce the same results, below is a plot of the same"
   ]
  },
  {
   "cell_type": "code",
   "execution_count": 136,
   "id": "e0bf62d5-d119-4c5d-b8fd-79956f5942c9",
   "metadata": {},
   "outputs": [
    {
     "data": {
      "image/png": "[encoded data removed]",
      "text/plain": [
       "<Figure size 600x400 with 1 Axes>"
      ]
     },
     "metadata": {},
     "output_type": "display_data"
    }
   ],
   "source": [
    "plot_function(torch.sigmoid, title=\"Sigmoid\", min=-5, max=5)"
   ]
  },
  {
   "cell_type": "markdown",
   "id": "a2ca41f1-70db-494f-8536-e79e175b002a",
   "metadata": {},
   "source": [
    "If we use this lovely sigmoid function, we now will have nice positive gradients as everything will be on this curve somewhere and this entire curve is positive in value. We can improve our loss function to include this sigmoid function."
   ]
  },
  {
   "cell_type": "code",
   "execution_count": 137,
   "id": "9482a0fd-a068-4f57-87bf-9728ea240d9a",
   "metadata": {},
   "outputs": [],
   "source": [
    "def mnist_loss(predictions,targets):\n",
    "    predictions = predictions.sigmoid()\n",
    "    return torch.where(targets==1, 1-predictions, predictions).mean()"
   ]
  },
  {
   "cell_type": "markdown",
   "id": "52e50939-bad6-449c-b342-ae7b8fb4ed4f",
   "metadata": {},
   "source": [
    "### Mini Batches Make the Gradient Descent Stochastic\n",
    "\n",
    "Now the reason its called 'stochastic' gradient descent is because we calculate the gradient by only taking a batch from the training dataset, taking the whole dataset before calculating gradients would just make the process gradient descent. Most of the time when you're reading about gradient descent, its probably stochastic by assumption but if you're wondering where that special word comes from, its because you only calculate these values from a sample.\n",
    "\n",
    "This also ties in nicely to using our GPU's since they can handle many items to do matrix calculation with at the same time, we want to feed our GPU with as much as we can so that we get the benefits of the acceleration they provide\n",
    "\n",
    "### DataLoaders & Datasets\n",
    "\n",
    "In order to do this mini batching and sampling, as well as some dataset shuffling during this process, we can use pytorch's (and fastai's) DataLoaders. It can take any python collection and turn it into an iterator with mini-batches."
   ]
  },
  {
   "cell_type": "code",
   "execution_count": 138,
   "id": "7940ac28-2121-4e37-91f7-7f5427ee3334",
   "metadata": {},
   "outputs": [
    {
     "data": {
      "text/plain": [
       "tensor([ 0,  1,  2,  3,  4,  5,  6,  7,  8,  9, 10, 11, 12, 13, 14, 15, 16, 17, 18, 19, 20, 21, 22, 23, 24, 25, 26, 27, 28, 29, 30, 31, 32, 33, 34, 35, 36, 37, 38, 39, 40, 41, 42, 43, 44, 45, 46, 47,\n",
       "        48, 49, 50, 51, 52, 53, 54, 55, 56, 57, 58, 59, 60, 61, 62, 63, 64, 65, 66, 67, 68, 69, 70, 71, 72, 73, 74, 75, 76, 77, 78, 79, 80, 81, 82, 83, 84, 85, 86, 87, 88, 89, 90, 91, 92, 93, 94, 95,\n",
       "        96, 97, 98, 99])"
      ]
     },
     "execution_count": 138,
     "metadata": {},
     "output_type": "execute_result"
    }
   ],
   "source": [
    "x = torch.arange(0,100)\n",
    "x"
   ]
  },
  {
   "cell_type": "code",
   "execution_count": 139,
   "id": "fb825589-eb8f-4714-acbc-6db307418a8e",
   "metadata": {},
   "outputs": [
    {
     "data": {
      "text/plain": [
       "[tensor([30, 98, 68, 87, 21, 94, 78, 81, 38, 60]),\n",
       " tensor([59, 83, 18, 16,  3, 40, 84, 57, 28, 20]),\n",
       " tensor([77, 63, 42, 15, 29, 56, 75, 62, 49, 26]),\n",
       " tensor([ 1, 86, 67, 95, 31, 39, 25, 71, 17, 89]),\n",
       " tensor([47, 92,  6, 93, 90, 91, 44,  8, 51,  9]),\n",
       " tensor([14, 45, 96, 69, 88, 61, 41, 53, 74, 35]),\n",
       " tensor([76, 36, 19, 73, 82, 33, 23, 10, 37, 66]),\n",
       " tensor([ 7,  0, 46,  4, 55, 48, 79, 24, 27, 12]),\n",
       " tensor([85, 70, 97, 50,  2,  5, 80, 13, 99, 52]),\n",
       " tensor([34, 54, 32, 11, 58, 43, 65, 64, 72, 22])]"
      ]
     },
     "execution_count": 139,
     "metadata": {},
     "output_type": "execute_result"
    }
   ],
   "source": [
    "dl = DataLoader(x,batch_size=10,shuffle=True)\n",
    "list(dl)"
   ]
  },
  {
   "cell_type": "markdown",
   "id": "d77dc42a-49b0-48d5-86bb-fe7769e7b962",
   "metadata": {},
   "source": [
    "Lovely and random, happy little shuffled batches. For training our model, remember that we want a collection of independent (x) and dependent(y) variables that correspond with each other being our input data and corresponding label. A collection that has this tuple set is called a Dataset, remember that we prepped our x & y in an earlier section, this follows the same process, lets do the same for the letters of the alphabet"
   ]
  },
  {
   "cell_type": "code",
   "execution_count": 140,
   "id": "1d654583-1109-43ec-8a9b-3608c8b62844",
   "metadata": {},
   "outputs": [
    {
     "data": {
      "text/plain": [
       "(#26) [(0, 'a'),(1, 'b'),(2, 'c'),(3, 'd'),(4, 'e'),(5, 'f'),(6, 'g'),(7, 'h'),(8, 'i'),(9, 'j')...]"
      ]
     },
     "execution_count": 140,
     "metadata": {},
     "output_type": "execute_result"
    }
   ],
   "source": [
    "ds = L(enumerate(string.ascii_lowercase))\n",
    "ds"
   ]
  },
  {
   "cell_type": "code",
   "execution_count": 141,
   "id": "498f2bcb-a45d-4aff-aac6-5797ba2c7673",
   "metadata": {},
   "outputs": [
    {
     "data": {
      "text/plain": [
       "[(tensor([17, 18, 10, 22,  8, 14]), ('r', 's', 'k', 'w', 'i', 'o')),\n",
       " (tensor([20, 15,  9, 13, 21, 12]), ('u', 'p', 'j', 'n', 'v', 'm')),\n",
       " (tensor([ 7, 25,  6,  5, 11, 23]), ('h', 'z', 'g', 'f', 'l', 'x')),\n",
       " (tensor([ 1,  3,  0, 24, 19, 16]), ('b', 'd', 'a', 'y', 't', 'q')),\n",
       " (tensor([2, 4]), ('c', 'e'))]"
      ]
     },
     "execution_count": 141,
     "metadata": {},
     "output_type": "execute_result"
    }
   ],
   "source": [
    "dl = DataLoader(ds, batch_size=6,shuffle=True)\n",
    "list(dl)"
   ]
  },
  {
   "cell_type": "markdown",
   "id": "61a81627-707a-4e5c-b9dc-2f0f3ce44d57",
   "metadata": {},
   "source": [
    "Ok lets get back to working through our training loop and use the SGD optimisation with sigmoid etc.\n",
    "\n",
    "Our pseudo-code for a training loop looks something like:\n",
    "\n",
    "    for x,y in dataloader:\n",
    "        predictions = model(x)\n",
    "        loss = loss_function(predictions, y)\n",
    "        loss.backward()\n",
    "        parameters -= parameters.grad * learning_rate\n",
    "\n",
    "Lets setup our weights/parameters again:"
   ]
  },
  {
   "cell_type": "code",
   "execution_count": 142,
   "id": "899d0dd7-000a-4f12-b344-7fcc9c9c180d",
   "metadata": {},
   "outputs": [],
   "source": [
    "weights = init_params((28*28,1))\n",
    "bias = init_params(1)"
   ]
  },
  {
   "cell_type": "markdown",
   "id": "7a81bea9-31c9-4379-b4a6-7f6427ada36c",
   "metadata": {},
   "source": [
    "Make our DataLoader object from our Dataset"
   ]
  },
  {
   "cell_type": "code",
   "execution_count": 143,
   "id": "3623e22e-90ff-4d04-8eac-e5e2b5096ad6",
   "metadata": {},
   "outputs": [
    {
     "data": {
      "text/plain": [
       "(torch.Size([256, 784]), torch.Size([256, 1]))"
      ]
     },
     "execution_count": 143,
     "metadata": {},
     "output_type": "execute_result"
    }
   ],
   "source": [
    "dl = DataLoader(dataset, batch_size=256)\n",
    "xb, yb = first(dl)\n",
    "xb.shape, yb.shape"
   ]
  },
  {
   "cell_type": "code",
   "execution_count": 144,
   "id": "78db187a-795e-403c-adc0-1d24df54bc13",
   "metadata": {},
   "outputs": [
    {
     "data": {
      "text/html": [
       "<hr/>\n",
       "<h3>first</h3>\n",
       "<blockquote><pre><code>first(x, f=None, negate=False, **kwargs)</code></pre></blockquote><p>First element of `x`, optionally filtered by `f`, or None if missing</p>\n",
       "<p><a href=\"https://fastcore.fast.ai/basics.html#first\" target=\"_blank\" rel=\"noreferrer noopener\">Show in docs</a></p>"
      ],
      "text/plain": [
       "<IPython.core.display.HTML object>"
      ]
     },
     "metadata": {},
     "output_type": "display_data"
    }
   ],
   "source": [
    "doc(first)"
   ]
  },
  {
   "cell_type": "markdown",
   "id": "13edfa4e-d60c-44c2-98ad-713ae7079535",
   "metadata": {},
   "source": [
    "Cool little helper function to get the first element from something as an example to investigate"
   ]
  },
  {
   "cell_type": "markdown",
   "id": "f48bd566-27ce-4f3b-a12d-746a7718b578",
   "metadata": {},
   "source": [
    "Lets also make a dataloader for the validation set"
   ]
  },
  {
   "cell_type": "code",
   "execution_count": 145,
   "id": "b13c3998-e3c0-45b8-951f-a2ac33875eeb",
   "metadata": {},
   "outputs": [],
   "source": [
    "valid_dl = DataLoader(valid_dataset, batch_size=256)"
   ]
  },
  {
   "cell_type": "markdown",
   "id": "aafdd444-d60a-404a-a14c-848fcc13e665",
   "metadata": {},
   "source": [
    "Ok lets get a mini batch manually to test out what we're doing"
   ]
  },
  {
   "cell_type": "code",
   "execution_count": 146,
   "id": "3c3c656e-d840-4030-b972-ab321bc37a77",
   "metadata": {},
   "outputs": [
    {
     "data": {
      "text/plain": [
       "torch.Size([4, 784])"
      ]
     },
     "execution_count": 146,
     "metadata": {},
     "output_type": "execute_result"
    }
   ],
   "source": [
    "batch = train_x[:4]\n",
    "batch.shape"
   ]
  },
  {
   "cell_type": "markdown",
   "id": "5708af28-4876-4223-99b4-f9529d1e5334",
   "metadata": {},
   "source": [
    "Lets make some predictions using our matrix multiplication function $prediction = weights@batch + bias$ that we made earlier. Remember that the '@' symbol means matrix multiplication\n",
    "\n",
    "### Step 2: Calculate Predictions"
   ]
  },
  {
   "cell_type": "code",
   "execution_count": 147,
   "id": "c5b07aed-27b1-436f-b4fe-4dd428cc74b8",
   "metadata": {},
   "outputs": [
    {
     "data": {
      "text/plain": [
       "tensor([[-2.1876],\n",
       "        [-8.3973],\n",
       "        [ 2.5000],\n",
       "        [-4.9473]], grad_fn=<AddBackward0>)"
      ]
     },
     "execution_count": 147,
     "metadata": {},
     "output_type": "execute_result"
    }
   ],
   "source": [
    "preds = predict_matrix(batch)\n",
    "preds"
   ]
  },
  {
   "cell_type": "markdown",
   "id": "92448d76-f116-480f-a3f3-18bd92003b59",
   "metadata": {},
   "source": [
    "### Step 3: Calculate the Loss\n",
    "\n",
    "Check our loss from our predictions"
   ]
  },
  {
   "cell_type": "code",
   "execution_count": 148,
   "id": "551b4cf4-b70f-489d-95a5-d797375792a7",
   "metadata": {},
   "outputs": [
    {
     "data": {
      "text/plain": [
       "tensor(0.7419, grad_fn=<MeanBackward0>)"
      ]
     },
     "execution_count": 148,
     "metadata": {},
     "output_type": "execute_result"
    }
   ],
   "source": [
    "loss = mnist_loss(preds,train_y[:4])\n",
    "loss"
   ]
  },
  {
   "cell_type": "markdown",
   "id": "83b6a303-1f7c-499b-b410-69f38997ccdd",
   "metadata": {},
   "source": [
    "### Step 4: Calculate the Gradients"
   ]
  },
  {
   "cell_type": "code",
   "execution_count": 149,
   "id": "bb7ec408-5c95-465e-8f99-408ce053acef",
   "metadata": {},
   "outputs": [
    {
     "data": {
      "text/plain": [
       "(torch.Size([784, 1]), tensor(-0.0061), tensor([-0.0420]))"
      ]
     },
     "execution_count": 149,
     "metadata": {},
     "output_type": "execute_result"
    }
   ],
   "source": [
    "loss.backward()\n",
    "weights.grad.shape, weights.grad.mean(), bias.grad"
   ]
  },
  {
   "cell_type": "markdown",
   "id": "eb88694d-c24a-427b-8094-c0c0344520a0",
   "metadata": {},
   "source": [
    "Lets merge all this together into a single function"
   ]
  },
  {
   "cell_type": "code",
   "execution_count": 150,
   "id": "f6fd91a2-014c-4408-963a-deee5adc12fc",
   "metadata": {},
   "outputs": [],
   "source": [
    "def calculate_gradients(xb,yb, model):\n",
    "    preds = model(xb)\n",
    "    loss = mnist_loss(preds,yb)\n",
    "    loss.backward()"
   ]
  },
  {
   "cell_type": "markdown",
   "id": "f21876ce-19da-4c2f-8a96-79c539b47b25",
   "metadata": {},
   "source": [
    "Check that it works"
   ]
  },
  {
   "cell_type": "code",
   "execution_count": 151,
   "id": "9f02c9e8-ee05-46ba-b5a7-b95c7d0dc1af",
   "metadata": {},
   "outputs": [
    {
     "data": {
      "text/plain": [
       "(tensor(-0.0121), tensor([-0.0840]))"
      ]
     },
     "execution_count": 151,
     "metadata": {},
     "output_type": "execute_result"
    }
   ],
   "source": [
    "calculate_gradients(batch,train_y[:4],predict_matrix)\n",
    "weights.grad.mean(),bias.grad"
   ]
  },
  {
   "cell_type": "markdown",
   "id": "d497b447-fd55-420c-a27f-5fc50ea7a564",
   "metadata": {},
   "source": [
    "The gradients have changed from the prior values, this is because loss.backward *adds* the gradients of loss to *any* gradients that are currently stored, so we have to set the current gradients to 0 first. Remember that anytime a tensor that has gradients which are tracked is called, it updates those gradients, but we want to do this manually so we have to set these to 0 after each modification so that it doesn't get double changed."
   ]
  },
  {
   "cell_type": "code",
   "execution_count": 152,
   "id": "3f2923d6-3182-4061-9bad-ae7af445bfcc",
   "metadata": {},
   "outputs": [
    {
     "data": {
      "text/plain": [
       "tensor([0.])"
      ]
     },
     "execution_count": 152,
     "metadata": {},
     "output_type": "execute_result"
    }
   ],
   "source": [
    "weights.grad.zero_()\n",
    "bias.grad.zero_()"
   ]
  },
  {
   "cell_type": "markdown",
   "id": "ebb76d79-65c4-4bf7-82b8-74a07eaf6773",
   "metadata": {},
   "source": [
    "Lets now make a training epoch method, which is the same as we had but adding the parameters being changed and setting the gradients to 0 since we're manually stepping them\n",
    "\n",
    "### Step 5: Step the Weights"
   ]
  },
  {
   "cell_type": "code",
   "execution_count": 153,
   "id": "963768ff-634d-4828-ad0a-e40e118d358e",
   "metadata": {},
   "outputs": [],
   "source": [
    "def train_epoch(model, learning_rate, parameters):\n",
    "    for xb,yb in dl:\n",
    "        calculate_gradients(xb, yb, model)\n",
    "        for p in parameters:\n",
    "            p.data -= p.grad*learning_rate\n",
    "            p.grad.zero_()"
   ]
  },
  {
   "cell_type": "markdown",
   "id": "61219b12-6b57-4e31-b9f9-e70b7b1f334d",
   "metadata": {},
   "source": [
    "Accuracy is a nice metric to read since our loss metric isn't as understandable as 'correct' or 'incorrect' which our accuracy will, tell us, lets define a batch_accuracy method"
   ]
  },
  {
   "cell_type": "code",
   "execution_count": 154,
   "id": "601f23d0-1af9-461b-b55f-75e3467e4437",
   "metadata": {},
   "outputs": [],
   "source": [
    "def batch_accuracy(xb, yb):\n",
    "    predictions = xb.sigmoid()\n",
    "    correct = (predictions>0.5) == yb\n",
    "    return correct.float().mean()"
   ]
  },
  {
   "cell_type": "markdown",
   "id": "80418651-b170-4220-9daa-9f360cf23136",
   "metadata": {},
   "source": [
    "Lets run a quick test"
   ]
  },
  {
   "cell_type": "code",
   "execution_count": 155,
   "id": "74497c54-8d94-4bd2-99ed-0a15cb0d16ca",
   "metadata": {},
   "outputs": [
    {
     "data": {
      "text/plain": [
       "tensor(0.2500)"
      ]
     },
     "execution_count": 155,
     "metadata": {},
     "output_type": "execute_result"
    }
   ],
   "source": [
    "batch_accuracy(predict_matrix(batch), train_y[:4])"
   ]
  },
  {
   "cell_type": "markdown",
   "id": "0b1094fa-5813-4b45-a0be-7a22b0c3a743",
   "metadata": {},
   "source": [
    "Ok exceedingly lucky for our batch, lets train an epoch and see how we do"
   ]
  },
  {
   "cell_type": "code",
   "execution_count": 156,
   "id": "28e53de3-23ef-47f8-9a90-61d21e80028c",
   "metadata": {},
   "outputs": [],
   "source": [
    "def validate_epoch(model):\n",
    "    accuracy = [batch_accuracy(model(xb), yb) for xb,yb in valid_dl]\n",
    "    return round(torch.stack(accuracy).mean().item(),4)"
   ]
  },
  {
   "cell_type": "markdown",
   "id": "7f02a502-0293-492d-b4cb-f6f8ab37b105",
   "metadata": {},
   "source": [
    "Remember that torch.stack concatenates along a given dimension, 0 being the default, item() returns the value of the tensor as a python data object, lets check what round() is since we haven't run into this before"
   ]
  },
  {
   "cell_type": "code",
   "execution_count": 157,
   "id": "4d4d072c-1130-4334-82ba-9b83810f5045",
   "metadata": {},
   "outputs": [
    {
     "data": {
      "text/html": [
       "<hr/>\n",
       "<h3>round</h3>\n",
       "<blockquote><pre><code>round(number, ndigits=None)</code></pre></blockquote><p>Round a number to a given precision in decimal digits.\n",
       "\n",
       "The return value is an integer if ndigits is omitted or None.  Otherwise\n",
       "the return value has the same type as the number.  ndigits may be negative.</p>"
      ],
      "text/plain": [
       "<IPython.core.display.HTML object>"
      ]
     },
     "metadata": {},
     "output_type": "display_data"
    }
   ],
   "source": [
    "doc(round)"
   ]
  },
  {
   "cell_type": "markdown",
   "id": "beaca8c2-49c8-470e-8816-67e448a65b0a",
   "metadata": {},
   "source": [
    "Ok easy, so we're rounding the answer to the precision we specify, being 4. So we're making a list of the accuracies for all the batches with our batch_accuracy method given the model function that we pass in, being predict_matrix or our $prediction = parameters @ x + bias$ matrix calculation on our validation dataloader. We then stack these accuracies into dimension 0, get the mean accuracy and round it to 4 decimals"
   ]
  },
  {
   "cell_type": "code",
   "execution_count": 158,
   "id": "2c968c05-7c8e-4271-9daf-47d4bd27541e",
   "metadata": {},
   "outputs": [
    {
     "data": {
      "text/plain": [
       "0.5263"
      ]
     },
     "execution_count": 158,
     "metadata": {},
     "output_type": "execute_result"
    }
   ],
   "source": [
    "validate_epoch(predict_matrix)"
   ]
  },
  {
   "cell_type": "markdown",
   "id": "168345c7-4243-49e1-be07-bc38a9d72246",
   "metadata": {},
   "source": [
    "Ok we're slightly above random but its a start"
   ]
  },
  {
   "cell_type": "markdown",
   "id": "7f4d403d-3d02-4bfc-9871-dd059bbbb664",
   "metadata": {},
   "source": [
    "### Step 6: Repeat the Process"
   ]
  },
  {
   "cell_type": "code",
   "execution_count": 159,
   "id": "66e18e84-81a7-4c27-b5cc-3ab95ba4a526",
   "metadata": {},
   "outputs": [
    {
     "data": {
      "text/plain": [
       "0.6664"
      ]
     },
     "execution_count": 159,
     "metadata": {},
     "output_type": "execute_result"
    }
   ],
   "source": [
    "learning_rate = 1.\n",
    "parameters = weights, bias\n",
    "\n",
    "train_epoch(model=predict_matrix, learning_rate=learning_rate, parameters=parameters)\n",
    "validate_epoch(predict_matrix)"
   ]
  },
  {
   "cell_type": "markdown",
   "id": "606f68a6-9c3d-48ab-b734-96537e00fb8e",
   "metadata": {},
   "source": [
    "Check that out! We're improving by quite a leap, lets go again for a few rounds:"
   ]
  },
  {
   "cell_type": "code",
   "execution_count": 160,
   "id": "4c0cfe80-49e1-429f-9d68-a1b847850a0e",
   "metadata": {},
   "outputs": [
    {
     "name": "stdout",
     "output_type": "stream",
     "text": [
      "0.8266 0.89 0.9184 0.9277 0.9399 0.9467 0.9506 0.9526 0.956 0.9579 0.9599 0.9609 0.9614 0.9619 0.9633 0.9638 0.9648 0.9658 0.9672 0.9677 0.9667 0.9672 0.9677 0.9672 0.9682 0.9682 0.9692 0.9697 0.9702 0.9707 0.9707 0.9707 0.9707 0.9707 0.9712 "
     ]
    }
   ],
   "source": [
    "for i in range(35):\n",
    "    train_epoch(model=predict_matrix, learning_rate=learning_rate, parameters=parameters)\n",
    "    print(validate_epoch(predict_matrix), end=\" \")"
   ]
  },
  {
   "cell_type": "markdown",
   "id": "eafe9986-7b4f-401c-8107-15b3b8556b99",
   "metadata": {},
   "source": [
    "Ok we're up to ~97% accuracy which is about the same as our ~98% accuracy we had with our pixel similarity approach much earlier, lets now create an optimiser in pytorch that will handle this SGD work for us"
   ]
  },
  {
   "cell_type": "markdown",
   "id": "908cb865-db0f-46bf-b3e6-28aba63ceac6",
   "metadata": {},
   "source": [
    "### Optimisers & Native Pytorch/Fastai Code\n",
    "\n",
    "For almost everything we've implemented, pytorch is already cooler and faster than us and has build a useful modele or function for us to do the same. This still holds true for our predict_matrix() function and instead use pytorch's nn.Linear module, 'nn' being Neural Net and Linear being linear model since thats all our matrix calculation function is.\n",
    "\n",
    "nn.Linear will handle our init_params work and matrix_calculation() together, it contains the weights and biases in a single object, lets make it to match our prior work"
   ]
  },
  {
   "cell_type": "code",
   "execution_count": 161,
   "id": "5d469552-bbbe-4386-97c7-8059371b5844",
   "metadata": {},
   "outputs": [
    {
     "data": {
      "text/plain": [
       "Linear(in_features=784, out_features=1, bias=True)"
      ]
     },
     "execution_count": 161,
     "metadata": {},
     "output_type": "execute_result"
    }
   ],
   "source": [
    "linear_model = nn.Linear(28*28,1)\n",
    "linear_model"
   ]
  },
  {
   "cell_type": "code",
   "execution_count": 162,
   "id": "0e0de84a-f45c-434e-ad38-64330687e2e7",
   "metadata": {},
   "outputs": [
    {
     "data": {
      "text/html": [
       "<hr/>\n",
       "<h3>Linear</h3>\n",
       "<blockquote><pre><code>Linear(in_features:int, out_features:int, bias:bool=True, device=None, dtype=None)</code></pre></blockquote><p>Applies a linear transformation to the incoming data: :math:`y = xA^T + b`\n",
       "\n",
       "This module supports :ref:`TensorFloat32<tf32_on_ampere>`.\n",
       "\n",
       "On certain ROCm devices, when using float16 inputs this module will use :ref:`different precision<fp16_on_mi200>` for backward.\n",
       "\n",
       "Args:\n",
       "    in_features: size of each input sample\n",
       "    out_features: size of each output sample\n",
       "    bias: If set to ``False``, the layer will not learn an additive bias.\n",
       "        Default: ``True``\n",
       "\n",
       "Shape:\n",
       "    - Input: :math:`(*, H_{in})` where :math:`*` means any number of\n",
       "      dimensions including none and :math:`H_{in} = \\text{in\\_features}`.\n",
       "    - Output: :math:`(*, H_{out})` where all but the last dimension\n",
       "      are the same shape as the input and :math:`H_{out} = \\text{out\\_features}`.\n",
       "\n",
       "Attributes:\n",
       "    weight: the learnable weights of the module of shape\n",
       "        :math:`(\\text{out\\_features}, \\text{in\\_features})`. The values are\n",
       "        initialized from :math:`\\mathcal{U}(-\\sqrt{k}, \\sqrt{k})`, where\n",
       "        :math:`k = \\frac{1}{\\text{in\\_features}}`\n",
       "    bias:   the learnable bias of the module of shape :math:`(\\text{out\\_features})`.\n",
       "            If :attr:`bias` is ``True``, the values are initialized from\n",
       "            :math:`\\mathcal{U}(-\\sqrt{k}, \\sqrt{k})` where\n",
       "            :math:`k = \\frac{1}{\\text{in\\_features}}`\n",
       "\n",
       "Examples::\n",
       "\n",
       "    >>> m = nn.Linear(20, 30)\n",
       "    >>> input = torch.randn(128, 20)\n",
       "    >>> output = m(input)\n",
       "    >>> print(output.size())\n",
       "    torch.Size([128, 30])</p>"
      ],
      "text/plain": [
       "<IPython.core.display.HTML object>"
      ]
     },
     "metadata": {},
     "output_type": "display_data"
    }
   ],
   "source": [
    "doc(nn.Linear)"
   ]
  },
  {
   "cell_type": "code",
   "execution_count": 163,
   "id": "057e30be-6b97-4678-9383-ce49e753ea34",
   "metadata": {},
   "outputs": [
    {
     "data": {
      "text/plain": [
       "(torch.Size([1, 784]), torch.Size([1]))"
      ]
     },
     "execution_count": 163,
     "metadata": {},
     "output_type": "execute_result"
    }
   ],
   "source": [
    "w,b = linear_model.parameters()\n",
    "w.shape, b.shape"
   ]
  },
  {
   "cell_type": "markdown",
   "id": "aa0a8d17-4374-447d-b087-27ad28b6a6bd",
   "metadata": {},
   "source": [
    "These look identical to our parameters/weights we had before and our bias tensor.\n",
    "\n",
    "Lets now move our optimisation steps, which was our updating parameters and setting the gradients to 0 within an optimiser class"
   ]
  },
  {
   "cell_type": "code",
   "execution_count": 164,
   "id": "eeeffc45-410b-4812-9d6e-ab4dfa90d3e1",
   "metadata": {},
   "outputs": [],
   "source": [
    "class BasicOptim:\n",
    "    def __init__(self, parameters, learning_rate):\n",
    "        self.parameters = list(parameters)\n",
    "        self.learning_rate = learning_rate\n",
    "        \n",
    "    def step(self, *args, **kwargs):\n",
    "        for p in self.parameters: p.data -= p.grad.data * self.learning_rate\n",
    "    \n",
    "    def zero_grad(self, *args, **kwargs):\n",
    "        for p in self.parameters: p.grad = None"
   ]
  },
  {
   "cell_type": "markdown",
   "id": "025f819e-1348-4bd5-9751-586811e4800f",
   "metadata": {},
   "source": [
    "Lets initialise our optimiser by using the parameters and learning rate"
   ]
  },
  {
   "cell_type": "code",
   "execution_count": 165,
   "id": "eca78115-4f50-4131-b4db-5edae1e2ab7c",
   "metadata": {},
   "outputs": [],
   "source": [
    "opt = BasicOptim(linear_model.parameters(), learning_rate)"
   ]
  },
  {
   "cell_type": "markdown",
   "id": "e8ef4ef8-c1dd-4bbd-bf39-9c4b700f62af",
   "metadata": {},
   "source": [
    "Lets now re-write our train_epoch method to include our optimiser"
   ]
  },
  {
   "cell_type": "code",
   "execution_count": 166,
   "id": "e303a760-eed8-48e9-9105-6be1f89326de",
   "metadata": {},
   "outputs": [],
   "source": [
    "def train_epoch(model):\n",
    "    for xb,yb in dl:\n",
    "        calculate_gradients(xb,yb, model)\n",
    "        opt.step()\n",
    "        opt.zero_grad()"
   ]
  },
  {
   "cell_type": "code",
   "execution_count": 167,
   "id": "a7338a6c-5ab7-4aed-b75a-b8e2ae90778e",
   "metadata": {},
   "outputs": [
    {
     "data": {
      "text/plain": [
       "0.5741"
      ]
     },
     "execution_count": 167,
     "metadata": {},
     "output_type": "execute_result"
    }
   ],
   "source": [
    "validate_epoch(linear_model)"
   ]
  },
  {
   "cell_type": "markdown",
   "id": "7e3f651e-6223-4e6f-bbe3-505b7b7a8965",
   "metadata": {},
   "source": [
    "Lets run our loop again"
   ]
  },
  {
   "cell_type": "code",
   "execution_count": 168,
   "id": "c16f4d71-7540-479f-8fdf-5e4fcb23d8cc",
   "metadata": {},
   "outputs": [
    {
     "name": "stdout",
     "output_type": "stream",
     "text": [
      "0.4932   0.812   0.8477   0.9146   0.9351   0.9487   0.9565   0.9624   0.9658   0.9668   0.9687   0.9717   0.9736   0.9746   0.9756   0.9765   0.9775   0.9775   0.9785   0.9785   "
     ]
    }
   ],
   "source": [
    "def train_model(model, epochs):\n",
    "    for i in range(epochs):\n",
    "        train_epoch(model)\n",
    "        print(validate_epoch(model), end=\"   \")\n",
    "        \n",
    "train_model(linear_model, 20)"
   ]
  },
  {
   "cell_type": "markdown",
   "id": "1fa63e1a-ecc9-437d-bb0c-bcf3fccea869",
   "metadata": {},
   "source": [
    "Ok looking awesome, again replicating the ~98% accuracy we had earlier, lets now use the fastai class which has everything our BasicOptim class has:"
   ]
  },
  {
   "cell_type": "code",
   "execution_count": 169,
   "id": "c5e6324d-2447-4a49-ae7c-7318c9b4e4c5",
   "metadata": {},
   "outputs": [
    {
     "name": "stdout",
     "output_type": "stream",
     "text": [
      "0.4932   0.9238   0.7266   0.8872   0.9233   0.9404   0.9521   0.9604   0.9658   0.9668   0.9692   0.9707   0.9731   0.9741   0.9756   0.9765   0.977   0.9775   0.978   0.9785   "
     ]
    }
   ],
   "source": [
    "linear_model = nn.Linear(28*28,1)\n",
    "opt = SGD(linear_model.parameters(), learning_rate)\n",
    "train_model(linear_model,20)"
   ]
  },
  {
   "cell_type": "markdown",
   "id": "3bf70d87-d6c3-48dd-813a-cd4413cabaf6",
   "metadata": {},
   "source": [
    "Fastai also has the concept of a \"Learner\" which replicated our train_model loop, we have to make a DataLoaders object by passing in our DataLoader validation and train DataLoader objects:"
   ]
  },
  {
   "cell_type": "code",
   "execution_count": 170,
   "id": "00105f3f-6bfe-4a43-845f-8c42532952d0",
   "metadata": {},
   "outputs": [],
   "source": [
    "dls = DataLoaders(dl, valid_dl)"
   ]
  },
  {
   "cell_type": "markdown",
   "id": "58b0318b-2795-4af4-99a4-94ae7d03843e",
   "metadata": {},
   "source": [
    "We're going to create a generic Learner which means we must specify the optimisation function, the metrics, the loss function etc which we've made within this lesson"
   ]
  },
  {
   "cell_type": "code",
   "execution_count": 171,
   "id": "a045f674-4c4f-435a-933e-3ca804973ad9",
   "metadata": {},
   "outputs": [],
   "source": [
    "learn = Learner(dls, nn.Linear(28*28,1), opt_func=SGD, loss_func=mnist_loss, metrics=batch_accuracy)"
   ]
  },
  {
   "cell_type": "markdown",
   "id": "359c4aed-1b22-4700-a31d-d8f589f5d4f7",
   "metadata": {},
   "source": [
    "We can now call 'fit' which is the training process we've been running"
   ]
  },
  {
   "cell_type": "code",
   "execution_count": 172,
   "id": "d058d6f1-67a7-449b-845c-5664de55a0b8",
   "metadata": {},
   "outputs": [
    {
     "data": {
      "text/html": [
       "\n",
       "<style>\n",
       "    /* Turns off some styling */\n",
       "    progress {\n",
       "        /* gets rid of default border in Firefox and Opera. */\n",
       "        border: none;\n",
       "        /* Needs to be in here for Safari polyfill so background images work as expected. */\n",
       "        background-size: auto;\n",
       "    }\n",
       "    progress:not([value]), progress:not([value])::-webkit-progress-bar {\n",
       "        background: repeating-linear-gradient(45deg, #7e7e7e, #7e7e7e 10px, #5c5c5c 10px, #5c5c5c 20px);\n",
       "    }\n",
       "    .progress-bar-interrupted, .progress-bar-interrupted::-webkit-progress-bar {\n",
       "        background: #F44336;\n",
       "    }\n",
       "</style>\n"
      ],
      "text/plain": [
       "<IPython.core.display.HTML object>"
      ]
     },
     "metadata": {},
     "output_type": "display_data"
    },
    {
     "data": {
      "text/html": [
       "<table border=\"1\" class=\"dataframe\">\n",
       "  <thead>\n",
       "    <tr style=\"text-align: left;\">\n",
       "      <th>epoch</th>\n",
       "      <th>train_loss</th>\n",
       "      <th>valid_loss</th>\n",
       "      <th>batch_accuracy</th>\n",
       "      <th>time</th>\n",
       "    </tr>\n",
       "  </thead>\n",
       "  <tbody>\n",
       "    <tr>\n",
       "      <td>0</td>\n",
       "      <td>0.637162</td>\n",
       "      <td>0.503574</td>\n",
       "      <td>0.495584</td>\n",
       "      <td>00:00</td>\n",
       "    </tr>\n",
       "    <tr>\n",
       "      <td>1</td>\n",
       "      <td>0.559990</td>\n",
       "      <td>0.141617</td>\n",
       "      <td>0.899902</td>\n",
       "      <td>00:00</td>\n",
       "    </tr>\n",
       "    <tr>\n",
       "      <td>2</td>\n",
       "      <td>0.203730</td>\n",
       "      <td>0.208130</td>\n",
       "      <td>0.807164</td>\n",
       "      <td>00:00</td>\n",
       "    </tr>\n",
       "    <tr>\n",
       "      <td>3</td>\n",
       "      <td>0.088540</td>\n",
       "      <td>0.114157</td>\n",
       "      <td>0.905790</td>\n",
       "      <td>00:00</td>\n",
       "    </tr>\n",
       "    <tr>\n",
       "      <td>4</td>\n",
       "      <td>0.046113</td>\n",
       "      <td>0.081433</td>\n",
       "      <td>0.930815</td>\n",
       "      <td>00:00</td>\n",
       "    </tr>\n",
       "    <tr>\n",
       "      <td>5</td>\n",
       "      <td>0.029622</td>\n",
       "      <td>0.064444</td>\n",
       "      <td>0.946025</td>\n",
       "      <td>00:00</td>\n",
       "    </tr>\n",
       "    <tr>\n",
       "      <td>6</td>\n",
       "      <td>0.022880</td>\n",
       "      <td>0.054003</td>\n",
       "      <td>0.954858</td>\n",
       "      <td>00:00</td>\n",
       "    </tr>\n",
       "    <tr>\n",
       "      <td>7</td>\n",
       "      <td>0.019911</td>\n",
       "      <td>0.047124</td>\n",
       "      <td>0.960746</td>\n",
       "      <td>00:00</td>\n",
       "    </tr>\n",
       "    <tr>\n",
       "      <td>8</td>\n",
       "      <td>0.018425</td>\n",
       "      <td>0.042343</td>\n",
       "      <td>0.965162</td>\n",
       "      <td>00:00</td>\n",
       "    </tr>\n",
       "    <tr>\n",
       "      <td>9</td>\n",
       "      <td>0.017544</td>\n",
       "      <td>0.038855</td>\n",
       "      <td>0.967125</td>\n",
       "      <td>00:00</td>\n",
       "    </tr>\n",
       "  </tbody>\n",
       "</table>"
      ],
      "text/plain": [
       "<IPython.core.display.HTML object>"
      ]
     },
     "metadata": {},
     "output_type": "display_data"
    }
   ],
   "source": [
    "learn.fit(10, lr=learning_rate)"
   ]
  },
  {
   "cell_type": "markdown",
   "id": "73327023-d78c-4e70-a791-be418e32d080",
   "metadata": {},
   "source": [
    "Now considering that we did in two lines what has taken us this massive notebook and page to replicate, I think they're pretty amazing libraries, at this point in the book they specifically highlight how there's nothing magic underneath these libraries, simply just really useful packaged up reliable ways to use these techniques. There is also a lot of extra functionality wrapped up."
   ]
  },
  {
   "cell_type": "markdown",
   "id": "45581194-96fe-4cbc-af3f-9c9d277ced5c",
   "metadata": {},
   "source": [
    "### Getting Non-Linear\n",
    "\n",
    "Now if you remember or recall way back, we walked through rectified linear units and we made these little elbows which if we could connect enough we could replicate anything. So far we've only built one linear layer and ran linear calculations on it, lets remake an elbow with two linear units and the max call in between."
   ]
  },
  {
   "cell_type": "code",
   "execution_count": 173,
   "id": "0b81d8ca-13c0-4563-ad3f-e40631385983",
   "metadata": {},
   "outputs": [],
   "source": [
    "def simple_net(xb):\n",
    "    res = xb@w1 + b1\n",
    "    res = res.max(tensor(0.0))\n",
    "    res = res@w2 + b2\n",
    "    return res"
   ]
  },
  {
   "cell_type": "code",
   "execution_count": 174,
   "id": "5632a1ff-2fa5-4e03-9fba-e28b4464a560",
   "metadata": {},
   "outputs": [],
   "source": [
    "w1 = init_params((28*28,30))\n",
    "b1 = init_params(30)\n",
    "w2 = init_params((30,1))\n",
    "b2 = init_params(1)"
   ]
  },
  {
   "cell_type": "markdown",
   "id": "630d751f-5d0e-4198-92d6-03bdc50eb377",
   "metadata": {},
   "source": [
    "Do note that we're connecting these layers together so the output size of layer 1 has to match the input layer of layer two, in our case this is 30 activations.\n",
    "\n",
    "Remember how we had two sets of weights and two sets of biases, this gave us our bendy elbow of magic, this is the same thing but with our matrix calculations. This max function is what gives us our non-linearity since two linear layers can just be turned into one.\n",
    "\n",
    "Lets again re-write our simple net in native pytorch code"
   ]
  },
  {
   "cell_type": "code",
   "execution_count": 175,
   "id": "a121c80f-5c19-4b26-8040-2a68a979d6fe",
   "metadata": {},
   "outputs": [],
   "source": [
    "simple_net = nn.Sequential(\n",
    "    nn.Linear(28*28,30),\n",
    "    nn.ReLU(),\n",
    "    nn.Linear(30,1)\n",
    ")"
   ]
  },
  {
   "cell_type": "code",
   "execution_count": 176,
   "id": "408064e7-0d1c-4766-aa90-e4103ad57ead",
   "metadata": {},
   "outputs": [
    {
     "data": {
      "text/html": [
       "<hr/>\n",
       "<h3>Sequential</h3>\n",
       "<blockquote><pre><code>Sequential(*args)</code></pre></blockquote><p>A sequential container.\n",
       "Modules will be added to it in the order they are passed in the\n",
       "constructor. Alternatively, an ``OrderedDict`` of modules can be\n",
       "passed in. The ``forward()`` method of ``Sequential`` accepts any\n",
       "input and forwards it to the first module it contains. It then\n",
       "\"chains\" outputs to inputs sequentially for each subsequent module,\n",
       "finally returning the output of the last module.\n",
       "\n",
       "The value a ``Sequential`` provides over manually calling a sequence\n",
       "of modules is that it allows treating the whole container as a\n",
       "single module, such that performing a transformation on the\n",
       "``Sequential`` applies to each of the modules it stores (which are\n",
       "each a registered submodule of the ``Sequential``).\n",
       "\n",
       "What's the difference between a ``Sequential`` and a\n",
       ":class:`torch.nn.ModuleList`? A ``ModuleList`` is exactly what it\n",
       "sounds like--a list for storing ``Module`` s! On the other hand,\n",
       "the layers in a ``Sequential`` are connected in a cascading way.\n",
       "\n",
       "Example::\n",
       "\n",
       "    # Using Sequential to create a small model. When `model` is run,\n",
       "    # input will first be passed to `Conv2d(1,20,5)`. The output of\n",
       "    # `Conv2d(1,20,5)` will be used as the input to the first\n",
       "    # `ReLU`; the output of the first `ReLU` will become the input\n",
       "    # for `Conv2d(20,64,5)`. Finally, the output of\n",
       "    # `Conv2d(20,64,5)` will be used as input to the second `ReLU`\n",
       "    model = nn.Sequential(\n",
       "              nn.Conv2d(1,20,5),\n",
       "              nn.ReLU(),\n",
       "              nn.Conv2d(20,64,5),\n",
       "              nn.ReLU()\n",
       "            )\n",
       "\n",
       "    # Using Sequential with OrderedDict. This is functionally the\n",
       "    # same as the above code\n",
       "    model = nn.Sequential(OrderedDict([\n",
       "              ('conv1', nn.Conv2d(1,20,5)),\n",
       "              ('relu1', nn.ReLU()),\n",
       "              ('conv2', nn.Conv2d(20,64,5)),\n",
       "              ('relu2', nn.ReLU())\n",
       "            ]))</p>"
      ],
      "text/plain": [
       "<IPython.core.display.HTML object>"
      ]
     },
     "metadata": {},
     "output_type": "display_data"
    }
   ],
   "source": [
    "doc(nn.Sequential)"
   ]
  },
  {
   "cell_type": "markdown",
   "id": "88005972-5788-42f8-ad22-4e5fe6a8a413",
   "metadata": {},
   "source": [
    "Sequential will call each of our layers in order that we pass it to sequential in our loss and gradient calculation (the forward pass) when we feed it inputs.\n",
    "\n",
    "Lets pass this back into our fastai Learner and see how we do"
   ]
  },
  {
   "cell_type": "code",
   "execution_count": 177,
   "id": "1900c44d-4d2a-4f1d-81a2-7ad7e820a15b",
   "metadata": {},
   "outputs": [
    {
     "data": {
      "text/html": [
       "\n",
       "<style>\n",
       "    /* Turns off some styling */\n",
       "    progress {\n",
       "        /* gets rid of default border in Firefox and Opera. */\n",
       "        border: none;\n",
       "        /* Needs to be in here for Safari polyfill so background images work as expected. */\n",
       "        background-size: auto;\n",
       "    }\n",
       "    progress:not([value]), progress:not([value])::-webkit-progress-bar {\n",
       "        background: repeating-linear-gradient(45deg, #7e7e7e, #7e7e7e 10px, #5c5c5c 10px, #5c5c5c 20px);\n",
       "    }\n",
       "    .progress-bar-interrupted, .progress-bar-interrupted::-webkit-progress-bar {\n",
       "        background: #F44336;\n",
       "    }\n",
       "</style>\n"
      ],
      "text/plain": [
       "<IPython.core.display.HTML object>"
      ]
     },
     "metadata": {},
     "output_type": "display_data"
    },
    {
     "data": {
      "text/html": [
       "<table border=\"1\" class=\"dataframe\">\n",
       "  <thead>\n",
       "    <tr style=\"text-align: left;\">\n",
       "      <th>epoch</th>\n",
       "      <th>train_loss</th>\n",
       "      <th>valid_loss</th>\n",
       "      <th>batch_accuracy</th>\n",
       "      <th>time</th>\n",
       "    </tr>\n",
       "  </thead>\n",
       "  <tbody>\n",
       "    <tr>\n",
       "      <td>0</td>\n",
       "      <td>0.319768</td>\n",
       "      <td>0.409048</td>\n",
       "      <td>0.504907</td>\n",
       "      <td>00:00</td>\n",
       "    </tr>\n",
       "    <tr>\n",
       "      <td>1</td>\n",
       "      <td>0.149339</td>\n",
       "      <td>0.225899</td>\n",
       "      <td>0.812071</td>\n",
       "      <td>00:00</td>\n",
       "    </tr>\n",
       "    <tr>\n",
       "      <td>2</td>\n",
       "      <td>0.082113</td>\n",
       "      <td>0.113339</td>\n",
       "      <td>0.917566</td>\n",
       "      <td>00:00</td>\n",
       "    </tr>\n",
       "    <tr>\n",
       "      <td>3</td>\n",
       "      <td>0.053668</td>\n",
       "      <td>0.076626</td>\n",
       "      <td>0.940628</td>\n",
       "      <td>00:00</td>\n",
       "    </tr>\n",
       "    <tr>\n",
       "      <td>4</td>\n",
       "      <td>0.040543</td>\n",
       "      <td>0.059927</td>\n",
       "      <td>0.957802</td>\n",
       "      <td>00:00</td>\n",
       "    </tr>\n",
       "    <tr>\n",
       "      <td>5</td>\n",
       "      <td>0.033867</td>\n",
       "      <td>0.050591</td>\n",
       "      <td>0.963690</td>\n",
       "      <td>00:00</td>\n",
       "    </tr>\n",
       "    <tr>\n",
       "      <td>6</td>\n",
       "      <td>0.030043</td>\n",
       "      <td>0.044729</td>\n",
       "      <td>0.965162</td>\n",
       "      <td>00:00</td>\n",
       "    </tr>\n",
       "    <tr>\n",
       "      <td>7</td>\n",
       "      <td>0.027567</td>\n",
       "      <td>0.040722</td>\n",
       "      <td>0.967125</td>\n",
       "      <td>00:00</td>\n",
       "    </tr>\n",
       "    <tr>\n",
       "      <td>8</td>\n",
       "      <td>0.025792</td>\n",
       "      <td>0.037805</td>\n",
       "      <td>0.969087</td>\n",
       "      <td>00:00</td>\n",
       "    </tr>\n",
       "    <tr>\n",
       "      <td>9</td>\n",
       "      <td>0.024421</td>\n",
       "      <td>0.035580</td>\n",
       "      <td>0.970559</td>\n",
       "      <td>00:00</td>\n",
       "    </tr>\n",
       "    <tr>\n",
       "      <td>10</td>\n",
       "      <td>0.023314</td>\n",
       "      <td>0.033814</td>\n",
       "      <td>0.972522</td>\n",
       "      <td>00:00</td>\n",
       "    </tr>\n",
       "    <tr>\n",
       "      <td>11</td>\n",
       "      <td>0.022391</td>\n",
       "      <td>0.032366</td>\n",
       "      <td>0.973013</td>\n",
       "      <td>00:00</td>\n",
       "    </tr>\n",
       "    <tr>\n",
       "      <td>12</td>\n",
       "      <td>0.021606</td>\n",
       "      <td>0.031150</td>\n",
       "      <td>0.974485</td>\n",
       "      <td>00:00</td>\n",
       "    </tr>\n",
       "    <tr>\n",
       "      <td>13</td>\n",
       "      <td>0.020928</td>\n",
       "      <td>0.030105</td>\n",
       "      <td>0.975466</td>\n",
       "      <td>00:00</td>\n",
       "    </tr>\n",
       "    <tr>\n",
       "      <td>14</td>\n",
       "      <td>0.020333</td>\n",
       "      <td>0.029190</td>\n",
       "      <td>0.975466</td>\n",
       "      <td>00:00</td>\n",
       "    </tr>\n",
       "    <tr>\n",
       "      <td>15</td>\n",
       "      <td>0.019806</td>\n",
       "      <td>0.028380</td>\n",
       "      <td>0.975957</td>\n",
       "      <td>00:00</td>\n",
       "    </tr>\n",
       "    <tr>\n",
       "      <td>16</td>\n",
       "      <td>0.019334</td>\n",
       "      <td>0.027655</td>\n",
       "      <td>0.978410</td>\n",
       "      <td>00:00</td>\n",
       "    </tr>\n",
       "    <tr>\n",
       "      <td>17</td>\n",
       "      <td>0.018908</td>\n",
       "      <td>0.027001</td>\n",
       "      <td>0.978410</td>\n",
       "      <td>00:00</td>\n",
       "    </tr>\n",
       "    <tr>\n",
       "      <td>18</td>\n",
       "      <td>0.018520</td>\n",
       "      <td>0.026409</td>\n",
       "      <td>0.978901</td>\n",
       "      <td>00:00</td>\n",
       "    </tr>\n",
       "    <tr>\n",
       "      <td>19</td>\n",
       "      <td>0.018165</td>\n",
       "      <td>0.025869</td>\n",
       "      <td>0.979392</td>\n",
       "      <td>00:00</td>\n",
       "    </tr>\n",
       "    <tr>\n",
       "      <td>20</td>\n",
       "      <td>0.017837</td>\n",
       "      <td>0.025375</td>\n",
       "      <td>0.979392</td>\n",
       "      <td>00:00</td>\n",
       "    </tr>\n",
       "    <tr>\n",
       "      <td>21</td>\n",
       "      <td>0.017534</td>\n",
       "      <td>0.024922</td>\n",
       "      <td>0.979392</td>\n",
       "      <td>00:00</td>\n",
       "    </tr>\n",
       "    <tr>\n",
       "      <td>22</td>\n",
       "      <td>0.017252</td>\n",
       "      <td>0.024505</td>\n",
       "      <td>0.979392</td>\n",
       "      <td>00:00</td>\n",
       "    </tr>\n",
       "    <tr>\n",
       "      <td>23</td>\n",
       "      <td>0.016988</td>\n",
       "      <td>0.024120</td>\n",
       "      <td>0.980373</td>\n",
       "      <td>00:00</td>\n",
       "    </tr>\n",
       "    <tr>\n",
       "      <td>24</td>\n",
       "      <td>0.016741</td>\n",
       "      <td>0.023764</td>\n",
       "      <td>0.980864</td>\n",
       "      <td>00:00</td>\n",
       "    </tr>\n",
       "    <tr>\n",
       "      <td>25</td>\n",
       "      <td>0.016507</td>\n",
       "      <td>0.023433</td>\n",
       "      <td>0.980864</td>\n",
       "      <td>00:00</td>\n",
       "    </tr>\n",
       "    <tr>\n",
       "      <td>26</td>\n",
       "      <td>0.016287</td>\n",
       "      <td>0.023126</td>\n",
       "      <td>0.981354</td>\n",
       "      <td>00:00</td>\n",
       "    </tr>\n",
       "    <tr>\n",
       "      <td>27</td>\n",
       "      <td>0.016079</td>\n",
       "      <td>0.022841</td>\n",
       "      <td>0.981354</td>\n",
       "      <td>00:00</td>\n",
       "    </tr>\n",
       "    <tr>\n",
       "      <td>28</td>\n",
       "      <td>0.015882</td>\n",
       "      <td>0.022574</td>\n",
       "      <td>0.981845</td>\n",
       "      <td>00:00</td>\n",
       "    </tr>\n",
       "    <tr>\n",
       "      <td>29</td>\n",
       "      <td>0.015694</td>\n",
       "      <td>0.022325</td>\n",
       "      <td>0.981845</td>\n",
       "      <td>00:00</td>\n",
       "    </tr>\n",
       "    <tr>\n",
       "      <td>30</td>\n",
       "      <td>0.015515</td>\n",
       "      <td>0.022092</td>\n",
       "      <td>0.981845</td>\n",
       "      <td>00:00</td>\n",
       "    </tr>\n",
       "    <tr>\n",
       "      <td>31</td>\n",
       "      <td>0.015345</td>\n",
       "      <td>0.021874</td>\n",
       "      <td>0.982336</td>\n",
       "      <td>00:00</td>\n",
       "    </tr>\n",
       "    <tr>\n",
       "      <td>32</td>\n",
       "      <td>0.015182</td>\n",
       "      <td>0.021669</td>\n",
       "      <td>0.981845</td>\n",
       "      <td>00:00</td>\n",
       "    </tr>\n",
       "    <tr>\n",
       "      <td>33</td>\n",
       "      <td>0.015026</td>\n",
       "      <td>0.021477</td>\n",
       "      <td>0.982336</td>\n",
       "      <td>00:00</td>\n",
       "    </tr>\n",
       "    <tr>\n",
       "      <td>34</td>\n",
       "      <td>0.014877</td>\n",
       "      <td>0.021296</td>\n",
       "      <td>0.982336</td>\n",
       "      <td>00:00</td>\n",
       "    </tr>\n",
       "    <tr>\n",
       "      <td>35</td>\n",
       "      <td>0.014734</td>\n",
       "      <td>0.021125</td>\n",
       "      <td>0.982336</td>\n",
       "      <td>00:00</td>\n",
       "    </tr>\n",
       "    <tr>\n",
       "      <td>36</td>\n",
       "      <td>0.014596</td>\n",
       "      <td>0.020964</td>\n",
       "      <td>0.982336</td>\n",
       "      <td>00:00</td>\n",
       "    </tr>\n",
       "    <tr>\n",
       "      <td>37</td>\n",
       "      <td>0.014464</td>\n",
       "      <td>0.020811</td>\n",
       "      <td>0.982336</td>\n",
       "      <td>00:00</td>\n",
       "    </tr>\n",
       "    <tr>\n",
       "      <td>38</td>\n",
       "      <td>0.014336</td>\n",
       "      <td>0.020667</td>\n",
       "      <td>0.982336</td>\n",
       "      <td>00:00</td>\n",
       "    </tr>\n",
       "    <tr>\n",
       "      <td>39</td>\n",
       "      <td>0.014213</td>\n",
       "      <td>0.020530</td>\n",
       "      <td>0.981845</td>\n",
       "      <td>00:00</td>\n",
       "    </tr>\n",
       "  </tbody>\n",
       "</table>"
      ],
      "text/plain": [
       "<IPython.core.display.HTML object>"
      ]
     },
     "metadata": {},
     "output_type": "display_data"
    }
   ],
   "source": [
    "learn = Learner(dls=dls,\n",
    "                model=simple_net,\n",
    "                opt_func=SGD,\n",
    "                loss_func=mnist_loss, metrics=batch_accuracy)\n",
    "\n",
    "learn.fit(40, lr=0.1)"
   ]
  },
  {
   "cell_type": "markdown",
   "id": "b4b0a4ce-1d21-47cb-8c93-d868383fda8f",
   "metadata": {},
   "source": [
    "Again we're back up to our ~98% accuracy.\n",
    "\n",
    "also our learner records our progress in the learn.recorder attribute, which we can plot:"
   ]
  },
  {
   "cell_type": "code",
   "execution_count": 178,
   "id": "89dcb45c-5d36-4898-8912-f010219e1eed",
   "metadata": {},
   "outputs": [
    {
     "data": {
      "text/plain": [
       "[<matplotlib.lines.Line2D at 0x2b3273b8550>]"
      ]
     },
     "execution_count": 178,
     "metadata": {},
     "output_type": "execute_result"
    },
    {
     "data": {
      "image/png": "[encoded data removed]",
      "text/plain": [
       "<Figure size 640x480 with 1 Axes>"
      ]
     },
     "metadata": {},
     "output_type": "display_data"
    }
   ],
   "source": [
    "plt.plot(L(learn.recorder.values).itemgot(2))"
   ]
  },
  {
   "cell_type": "markdown",
   "id": "a931c25b-d010-4de7-8288-5bf16035b9fd",
   "metadata": {},
   "source": [
    "### Back to the Owl\n",
    "\n",
    "The book mentions two important points:\n",
    " - We can make a function to solve any problem to any level of accuracy given the right parameters\n",
    " - We can find the right parameters automatically for any function with SGD\n",
    " \n",
    "We've also constructed manually each of the pieces sitting in pytorch so we know its not that much hidden trickery. Now do note that we've only been predicting sevens and threes to a 98% accuracy, we only use two layers that are quite small, however we can make something as deep as we like with any sizes and shapes in the hidden layers. We can also now attempt to predict all the classes from MNIST, not just the threes and sevens, The wonderful thing about adding depth into the network is that (from the book)\n",
    "\n",
    "*\"we do not need to use as many parameters, it turns out that we can use smaller matrices with more layers, and get better results than we would with larger matrices, and few layers\"*\n",
    "\n",
    "Just because the universal approximation theory says we only need two layers, doesn't mean that its practical, apparently this held back deep learning for years, and apparently there's theoretical results that show why this depth is powerful and why it works.\n",
    "\n",
    "Lets use the shark model learner that we created last lesson to smash MNIST in one fit cycle. We wrote this whole dang chapter and it all gets demolished in one sneaky learner boi, how cruel."
   ]
  },
  {
   "cell_type": "code",
   "execution_count": 179,
   "id": "b34a352b-c787-45c1-a2e1-2a8a31b23f7d",
   "metadata": {},
   "outputs": [
    {
     "name": "stderr",
     "output_type": "stream",
     "text": [
      "C:\\Users\\Nick\\Anaconda3\\envs\\fastai\\lib\\site-packages\\torchvision\\models\\_utils.py:208: UserWarning: The parameter 'pretrained' is deprecated since 0.13 and may be removed in the future, please use 'weights' instead.\n",
      "  warnings.warn(\n",
      "C:\\Users\\Nick\\Anaconda3\\envs\\fastai\\lib\\site-packages\\torchvision\\models\\_utils.py:223: UserWarning: Arguments other than a weight enum or `None` for 'weights' are deprecated since 0.13 and may be removed in the future. The current behavior is equivalent to passing `weights=None`.\n",
      "  warnings.warn(msg)\n"
     ]
    },
    {
     "data": {
      "text/html": [
       "\n",
       "<style>\n",
       "    /* Turns off some styling */\n",
       "    progress {\n",
       "        /* gets rid of default border in Firefox and Opera. */\n",
       "        border: none;\n",
       "        /* Needs to be in here for Safari polyfill so background images work as expected. */\n",
       "        background-size: auto;\n",
       "    }\n",
       "    progress:not([value]), progress:not([value])::-webkit-progress-bar {\n",
       "        background: repeating-linear-gradient(45deg, #7e7e7e, #7e7e7e 10px, #5c5c5c 10px, #5c5c5c 20px);\n",
       "    }\n",
       "    .progress-bar-interrupted, .progress-bar-interrupted::-webkit-progress-bar {\n",
       "        background: #F44336;\n",
       "    }\n",
       "</style>\n"
      ],
      "text/plain": [
       "<IPython.core.display.HTML object>"
      ]
     },
     "metadata": {},
     "output_type": "display_data"
    },
    {
     "data": {
      "text/html": [
       "<table border=\"1\" class=\"dataframe\">\n",
       "  <thead>\n",
       "    <tr style=\"text-align: left;\">\n",
       "      <th>epoch</th>\n",
       "      <th>train_loss</th>\n",
       "      <th>valid_loss</th>\n",
       "      <th>accuracy</th>\n",
       "      <th>time</th>\n",
       "    </tr>\n",
       "  </thead>\n",
       "  <tbody>\n",
       "    <tr>\n",
       "      <td>0</td>\n",
       "      <td>0.132367</td>\n",
       "      <td>0.019363</td>\n",
       "      <td>0.996565</td>\n",
       "      <td>00:51</td>\n",
       "    </tr>\n",
       "  </tbody>\n",
       "</table>"
      ],
      "text/plain": [
       "<IPython.core.display.HTML object>"
      ]
     },
     "metadata": {},
     "output_type": "display_data"
    }
   ],
   "source": [
    "dls = ImageDataLoaders.from_folder(mnist_path / \"mnist_sample\")\n",
    "\n",
    "learn = vision_learner(dls=dls,\n",
    "                       arch=resnet18,\n",
    "                       pretrained=False,\n",
    "                       loss_func=F.cross_entropy,\n",
    "                       metrics=accuracy)\n",
    "\n",
    "learn.fit_one_cycle(n_epoch=1,\n",
    "                    lr_max=0.1)"
   ]
  },
  {
   "cell_type": "markdown",
   "id": "7bedc762-02e5-4e23-b1b4-a7cafc188624",
   "metadata": {},
   "source": [
    "And we achieved ~99.6% accuracy with pretty much one line of code, kind of insane! I wonder how our little 2 layer model would compare to the resnet beast we just ran"
   ]
  },
  {
   "cell_type": "code",
   "execution_count": 180,
   "id": "716c8daf-0702-438d-a97d-0f742efe89c1",
   "metadata": {},
   "outputs": [
    {
     "data": {
      "text/html": [
       "<hr/>\n",
       "<h3>Learner.fit_one_cycle</h3>\n",
       "<blockquote><pre><code>Learner.fit_one_cycle(n_epoch, lr_max=None, div=25.0, div_final=100000.0, pct_start=0.25, wd=None, moms=None, cbs=None, reset_opt=False, start_epoch=0)</code></pre></blockquote><p>Fit `self.model` for `n_epoch` using the 1cycle policy.</p>\n",
       "<p><a href=\"https://docs.fast.ai/callback.schedule.html#learner.fit_one_cycle\" target=\"_blank\" rel=\"noreferrer noopener\">Show in docs</a></p>"
      ],
      "text/plain": [
       "<IPython.core.display.HTML object>"
      ]
     },
     "metadata": {},
     "output_type": "display_data"
    }
   ],
   "source": [
    "doc(learn.fit_one_cycle)"
   ]
  },
  {
   "cell_type": "markdown",
   "id": "da0e69ba-e075-4ec7-9d1b-ea9ad47d844c",
   "metadata": {},
   "source": [
    "[Sylvain Gugger has an awesome write up on what on earth the 1cycle policy is](https://sgugger.github.io/the-1cycle-policy.html) as this is a different way of fitting a model than the usual fit cycle that we built within this blog, highly recommend reading that as I'll butcher saying the same thing. It seems to involve cyling the learning rates to prevent getting stuck and allow the model to make large leaps to find the flattest minimum overall. [Leslie N Smith seems to be the original author of the paper with many thousands of citations](https://scholar.google.com/citations?view_op=view_citation&hl=en&user=pwh7Pw4AAAAJ&citation_for_view=pwh7Pw4AAAAJ:hqOjcs7Dif8C)\n",
    "\n",
    "Sylvain is also a co-author of the fastai book that I'm referencing here and is one of the fastai gods, go read his stuff, its awesome!"
   ]
  },
  {
   "cell_type": "markdown",
   "id": "0bc1414c-c05e-49a2-a31e-a0ee90d58345",
   "metadata": {},
   "source": [
    "### Thats All Folks\n",
    "\n",
    "Did you actually make it this far with me? Is there another human who's ventured this deep into this page? I don't believe you, regardless, thanks for coming along with my work on chapter 3, it was a pretty big mission to work through and I'm sure I'll have to return in the future for reference but I learnt an awesome amount here"
   ]
  }
 ],
 "metadata": {
  "kernelspec": {
   "display_name": "Python 3 (ipykernel)",
   "language": "python",
   "name": "python3"
  },
  "language_info": {
   "codemirror_mode": {
    "name": "ipython",
    "version": 3
   },
   "file_extension": ".py",
   "mimetype": "text/x-python",
   "name": "python",
   "nbconvert_exporter": "python",
   "pygments_lexer": "ipython3",
   "version": "3.10.8"
  }
 },
 "nbformat": 4,
 "nbformat_minor": 5
}
