{
 "cells": [
  {
   "cell_type": "raw",
   "id": "028b47ea-a86e-4958-90b5-4368bfcbc1b9",
   "metadata": {},
   "source": [
    "---\n",
    "badges: true\n",
    "categories:\n",
    "- jupyter\n",
    "- fastai\n",
    "- ML\n",
    "date: '2023-01-08'\n",
    "description: Transformer Models & Huggingface Libraries\n",
    "title: Fastai Chapter 4 | Natural Language Processing\n",
    "author: Nicholas Lillywhite\n",
    "draft: true\n",
    "toc: true\n",
    "image: \"images/sgd.png\"\n",
    "---"
   ]
  },
  {
   "cell_type": "markdown",
   "id": "c57e1588-271b-42e0-8bee-517fa43bbd28",
   "metadata": {},
   "source": [
    "# Chapter 4 | Natural Language Processing, Transformers, Huggingface\n",
    "> A New Library, New Model Architectures, And Natural Language Data\n",
    ">Checkout this notebook in [colab](https://colab.research.google.com/github/nglillywhite/blog/blob/main/posts/wotwot)\n",
    "\n",
    "This week focuses on building models with interact with natural language which is very different from images or structured tabular data. Jeremy starts off discussing some model architectures (some of which he pioneered with collaborators) like 'ULMFit', 'Transformers', and Recurrent Neural Nets (RNNs) which are often seen in the news headlines as being significant. This week will also use huggingface, which is another library from fastai but is seemingly the best library as of writing this for working with language. We're going to dive into tokenising and other natural language specific problems."
   ]
  },
  {
   "cell_type": "markdown",
   "id": "ba12f15a-73f3-4fce-8895-107e97695a7d",
   "metadata": {},
   "source": [
    "## Lecture Content\n",
    "### US Patent Phrase Matching\n",
    "\n",
    "We're working with the [US Patent Phrase Matching](https://www.kaggle.com/competitions/us-patent-phrase-to-phrase-matching) Kaggle Competition data for this lesson lecture, I've just visited the page and downloaded the dataset into my local data path but you can of course use the kaggle APIs.\n",
    "\n",
    "This competition in particular is about comparing two short phrases and whether they are similar to each other based on which patent class they were used with. Scores of 1 being identical and 0 meaning they are different. The scores are represented in a set of 0, 0.25, 0.5, and 1 which acts like a classification problem rather than regression because they're distinct instead of smooth.\n",
    "\n",
    "Jeremy starts by proposing that we can feed this into our model successfully by representing the data as \"TEXT1: abatement; TEXT2: eliminating process\" of which we then pick a distinct category from the above. To my understand this relates to the 'anchors' and 'target' in this dataset which we'll look at below.\n",
    "\n",
    "### EDA of Patent Data"
   ]
  },
  {
   "cell_type": "code",
   "execution_count": 1,
   "id": "02d1803b-d1a6-4800-8f43-d76dd8e78503",
   "metadata": {},
   "outputs": [],
   "source": [
    "from pathlib import Path\n",
    "from fastai.vision.all import *\n",
    "\n",
    "data_path = Path(\"../data/us-patent-phrase-to-matching/\")"
   ]
  },
  {
   "cell_type": "code",
   "execution_count": 2,
   "id": "45a95a38-5df9-4f1c-83a9-770106d75eec",
   "metadata": {},
   "outputs": [
    {
     "data": {
      "text/plain": [
       "(#2) [Path('../data/us-patent-phrase-to-matching/test.csv'),Path('../data/us-patent-phrase-to-matching/train.csv')]"
      ]
     },
     "execution_count": 2,
     "metadata": {},
     "output_type": "execute_result"
    }
   ],
   "source": [
    "data_path.ls()"
   ]
  },
  {
   "cell_type": "code",
   "execution_count": 3,
   "id": "f8b2f8d6-9874-48f9-a3cc-ac6986856445",
   "metadata": {},
   "outputs": [
    {
     "data": {
      "text/html": [
       "<div>\n",
       "<style scoped>\n",
       "    .dataframe tbody tr th:only-of-type {\n",
       "        vertical-align: middle;\n",
       "    }\n",
       "\n",
       "    .dataframe tbody tr th {\n",
       "        vertical-align: top;\n",
       "    }\n",
       "\n",
       "    .dataframe thead th {\n",
       "        text-align: right;\n",
       "    }\n",
       "</style>\n",
       "<table border=\"1\" class=\"dataframe\">\n",
       "  <thead>\n",
       "    <tr style=\"text-align: right;\">\n",
       "      <th></th>\n",
       "      <th>id</th>\n",
       "      <th>anchor</th>\n",
       "      <th>target</th>\n",
       "      <th>context</th>\n",
       "      <th>score</th>\n",
       "    </tr>\n",
       "  </thead>\n",
       "  <tbody>\n",
       "    <tr>\n",
       "      <th>0</th>\n",
       "      <td>37d61fd2272659b1</td>\n",
       "      <td>abatement</td>\n",
       "      <td>abatement of pollution</td>\n",
       "      <td>A47</td>\n",
       "      <td>0.50</td>\n",
       "    </tr>\n",
       "    <tr>\n",
       "      <th>1</th>\n",
       "      <td>7b9652b17b68b7a4</td>\n",
       "      <td>abatement</td>\n",
       "      <td>act of abating</td>\n",
       "      <td>A47</td>\n",
       "      <td>0.75</td>\n",
       "    </tr>\n",
       "    <tr>\n",
       "      <th>2</th>\n",
       "      <td>36d72442aefd8232</td>\n",
       "      <td>abatement</td>\n",
       "      <td>active catalyst</td>\n",
       "      <td>A47</td>\n",
       "      <td>0.25</td>\n",
       "    </tr>\n",
       "    <tr>\n",
       "      <th>3</th>\n",
       "      <td>5296b0c19e1ce60e</td>\n",
       "      <td>abatement</td>\n",
       "      <td>eliminating process</td>\n",
       "      <td>A47</td>\n",
       "      <td>0.50</td>\n",
       "    </tr>\n",
       "    <tr>\n",
       "      <th>4</th>\n",
       "      <td>54c1e3b9184cb5b6</td>\n",
       "      <td>abatement</td>\n",
       "      <td>forest region</td>\n",
       "      <td>A47</td>\n",
       "      <td>0.00</td>\n",
       "    </tr>\n",
       "  </tbody>\n",
       "</table>\n",
       "</div>"
      ],
      "text/plain": [
       "                 id     anchor                  target context  score\n",
       "0  37d61fd2272659b1  abatement  abatement of pollution     A47   0.50\n",
       "1  7b9652b17b68b7a4  abatement          act of abating     A47   0.75\n",
       "2  36d72442aefd8232  abatement         active catalyst     A47   0.25\n",
       "3  5296b0c19e1ce60e  abatement     eliminating process     A47   0.50\n",
       "4  54c1e3b9184cb5b6  abatement           forest region     A47   0.00"
      ]
     },
     "execution_count": 3,
     "metadata": {},
     "output_type": "execute_result"
    }
   ],
   "source": [
    "import pandas as pd\n",
    "\n",
    "df = pd.read_csv(data_path / \"train.csv\")\n",
    "\n",
    "df.head()"
   ]
  },
  {
   "cell_type": "code",
   "execution_count": 4,
   "id": "7fcb9cc2-a38e-4821-bbe6-78afac6eb1ac",
   "metadata": {},
   "outputs": [
    {
     "data": {
      "text/html": [
       "<div>\n",
       "<style scoped>\n",
       "    .dataframe tbody tr th:only-of-type {\n",
       "        vertical-align: middle;\n",
       "    }\n",
       "\n",
       "    .dataframe tbody tr th {\n",
       "        vertical-align: top;\n",
       "    }\n",
       "\n",
       "    .dataframe thead th {\n",
       "        text-align: right;\n",
       "    }\n",
       "</style>\n",
       "<table border=\"1\" class=\"dataframe\">\n",
       "  <thead>\n",
       "    <tr style=\"text-align: right;\">\n",
       "      <th></th>\n",
       "      <th>id</th>\n",
       "      <th>anchor</th>\n",
       "      <th>target</th>\n",
       "      <th>context</th>\n",
       "    </tr>\n",
       "  </thead>\n",
       "  <tbody>\n",
       "    <tr>\n",
       "      <th>count</th>\n",
       "      <td>36473</td>\n",
       "      <td>36473</td>\n",
       "      <td>36473</td>\n",
       "      <td>36473</td>\n",
       "    </tr>\n",
       "    <tr>\n",
       "      <th>unique</th>\n",
       "      <td>36473</td>\n",
       "      <td>733</td>\n",
       "      <td>29340</td>\n",
       "      <td>106</td>\n",
       "    </tr>\n",
       "    <tr>\n",
       "      <th>top</th>\n",
       "      <td>37d61fd2272659b1</td>\n",
       "      <td>component composite coating</td>\n",
       "      <td>composition</td>\n",
       "      <td>H01</td>\n",
       "    </tr>\n",
       "    <tr>\n",
       "      <th>freq</th>\n",
       "      <td>1</td>\n",
       "      <td>152</td>\n",
       "      <td>24</td>\n",
       "      <td>2186</td>\n",
       "    </tr>\n",
       "  </tbody>\n",
       "</table>\n",
       "</div>"
      ],
      "text/plain": [
       "                      id                       anchor       target context\n",
       "count              36473                        36473        36473   36473\n",
       "unique             36473                          733        29340     106\n",
       "top     37d61fd2272659b1  component composite coating  composition     H01\n",
       "freq                   1                          152           24    2186"
      ]
     },
     "execution_count": 4,
     "metadata": {},
     "output_type": "execute_result"
    }
   ],
   "source": [
    "df.describe(include=\"object\")"
   ]
  },
  {
   "cell_type": "markdown",
   "id": "d484d94e-7a58-4559-8a15-cc52ea3ae767",
   "metadata": {},
   "source": [
    "From having a quick look at a data sample and a description of the dataframe itself, there simply aren't that many unique contexts or anchors, and the anchor 'component composite coating' turns up 152 times which seems like a lot our of the 733 total.\n",
    "\n",
    "Lets now build our first feature which will be the 'input' feature. We'll structure this feature as we noted earlier in the TEXT1: ...; TEXT2:...; format"
   ]
  },
  {
   "cell_type": "code",
   "execution_count": 5,
   "id": "3412b0ea-3dda-407b-982a-487880f5731e",
   "metadata": {},
   "outputs": [
    {
     "data": {
      "text/plain": [
       "0    TEXT1: A47; TEXT2: abatement of pollution; ANC1: abatement\n",
       "1            TEXT1: A47; TEXT2: act of abating; ANC1: abatement\n",
       "2           TEXT1: A47; TEXT2: active catalyst; ANC1: abatement\n",
       "3       TEXT1: A47; TEXT2: eliminating process; ANC1: abatement\n",
       "4             TEXT1: A47; TEXT2: forest region; ANC1: abatement\n",
       "Name: input, dtype: object"
      ]
     },
     "execution_count": 5,
     "metadata": {},
     "output_type": "execute_result"
    }
   ],
   "source": [
    "df['input'] = \"TEXT1: \" + df.context + \"; TEXT2: \" + df.target + \"; ANC1: \" + df.anchor\n",
    "\n",
    "df.input.head()"
   ]
  },
  {
   "cell_type": "markdown",
   "id": "070e1d34-4d45-424c-890b-4adf8fe07e31",
   "metadata": {},
   "source": [
    "Ok this looks great, I'm already a bit confused since the dataset has described the df.context as the CPC classification subject and the anchor and target being the first and second phrase respectively whereas Jeremy has put the context as the first text. Nonethless, I'm sure the naming of each of these features is sort of irrelevant as long as its consistent. If I called it 'text1' or 'feature1' or 'f1' it wouldn't matter to the model, its all matrices in the end.\n",
    "\n",
    "\n",
    "### Tokenisation and Numericalisation\n",
    "Lets now take on the first two new topics which are tokenisation and numericalisation, this is the act of transforming our words into tokens which represent unique examples of words and turning those tokens into numbers which we can then matrix multiply and then convert back after the fact. We're going to use huggingface's datasets library and use their \"Dataset\" class which overlaps a class name with fastai and pytorch."
   ]
  },
  {
   "cell_type": "code",
   "execution_count": 6,
   "id": "525c6823-8a25-4a6d-b491-85795af31227",
   "metadata": {},
   "outputs": [
    {
     "data": {
      "text/plain": [
       "Dataset({\n",
       "    features: ['id', 'anchor', 'target', 'context', 'score', 'input'],\n",
       "    num_rows: 36473\n",
       "})"
      ]
     },
     "execution_count": 6,
     "metadata": {},
     "output_type": "execute_result"
    }
   ],
   "source": [
    "from datasets import Dataset, DatasetDict\n",
    "\n",
    "ds = Dataset.from_pandas(df)\n",
    "\n",
    "ds"
   ]
  },
  {
   "cell_type": "markdown",
   "id": "3705a5bf-8802-46b0-b65b-641bb2f349f0",
   "metadata": {},
   "source": [
    "Ok not learning a huge amount from the output but it at least lets us know what our features are and how many rows we have."
   ]
  },
  {
   "cell_type": "code",
   "execution_count": 7,
   "id": "8bc40f37-e957-4bbf-8902-2dd68fa952a1",
   "metadata": {},
   "outputs": [
    {
     "data": {
      "text/html": [
       "<hr/>\n",
       "<h3>Dataset</h3>\n",
       "<blockquote><pre><code>Dataset(arrow_table:datasets.table.Table, info:Optional[datasets.info.DatasetInfo]=None, split:Optional[datasets.splits.NamedSplit]=None, indices_table:Optional[datasets.table.Table]=None, fingerprint:Optional[str]=None)</code></pre></blockquote><p>A Dataset backed by an Arrow table.</p>"
      ],
      "text/plain": [
       "<IPython.core.display.HTML object>"
      ]
     },
     "metadata": {},
     "output_type": "display_data"
    }
   ],
   "source": [
    "doc(Dataset)"
   ]
  },
  {
   "cell_type": "markdown",
   "id": "15d533ab-4298-4289-8b4f-e35a82708d25",
   "metadata": {},
   "source": [
    "Doesn't tell me a whole lot about the class or purpose but lets move on for now.\n",
    "\n",
    "An important thing to note is that particular tokenisers are used for particular models and if you want to use a pre-trained model, you have to make sure you have the same tokeniser (and numericalisation process) otherwise you aren't representing the language the same way as the model was trained. Lets grab a model and get to work"
   ]
  },
  {
   "cell_type": "code",
   "execution_count": 8,
   "id": "30a5d6d9-5112-4a52-8187-240da271b9f4",
   "metadata": {},
   "outputs": [],
   "source": [
    "model_name = \"microsoft/deberta-v3-small\""
   ]
  },
  {
   "cell_type": "markdown",
   "id": "58556dbc-7d6a-4a87-8895-12485fcd7695",
   "metadata": {},
   "source": [
    "Now we're pulling from the [huggingface database](https://huggingface.co/models) of models, many of which are trained for particular tasks. Feel free to have a browse and search for models you might be interested in!"
   ]
  },
  {
   "cell_type": "code",
   "execution_count": 9,
   "id": "1645965d-e81f-402d-a18b-c9584e86a9ac",
   "metadata": {},
   "outputs": [
    {
     "name": "stderr",
     "output_type": "stream",
     "text": [
      "Special tokens have been added in the vocabulary, make sure the associated word embeddings are fine-tuned or trained.\n",
      "C:\\Users\\Nick\\Anaconda3\\envs\\fastai\\lib\\site-packages\\transformers\\convert_slow_tokenizer.py:446: UserWarning: The sentencepiece tokenizer that you are converting to a fast tokenizer uses the byte fallback option which is not implemented in the fast tokenizers. In practice this means that the fast version of the tokenizer can produce unknown tokens whereas the sentencepiece version would have converted these unknown tokens into a sequence of byte tokens matching the original piece of text.\n",
      "  warnings.warn(\n",
      "Special tokens have been added in the vocabulary, make sure the associated word embeddings are fine-tuned or trained.\n"
     ]
    }
   ],
   "source": [
    "from transformers import AutoModelForSequenceClassification, AutoTokenizer\n",
    "\n",
    "tokeniser = AutoTokenizer.from_pretrained(model_name)"
   ]
  },
  {
   "cell_type": "code",
   "execution_count": 10,
   "id": "026faa88-ef0f-4c14-b43a-afe398985ee5",
   "metadata": {},
   "outputs": [
    {
     "data": {
      "text/plain": [
       "PreTrainedTokenizerFast(name_or_path='microsoft/deberta-v3-small', vocab_size=128000, model_max_len=1000000000000000019884624838656, is_fast=True, padding_side='right', truncation_side='right', special_tokens={'bos_token': '[CLS]', 'eos_token': '[SEP]', 'unk_token': '[UNK]', 'sep_token': '[SEP]', 'pad_token': '[PAD]', 'cls_token': '[CLS]', 'mask_token': '[MASK]'})"
      ]
     },
     "execution_count": 10,
     "metadata": {},
     "output_type": "execute_result"
    }
   ],
   "source": [
    "tokeniser"
   ]
  },
  {
   "cell_type": "markdown",
   "id": "ca744ed3-06b7-4d6c-9727-0a2e3e6c606f",
   "metadata": {},
   "source": [
    "Ok some interesting output here, looks like there's a bunch of settings on tokenisers that represent special handling of things like spaces or sizing a sentence with padding and separators etc."
   ]
  },
  {
   "cell_type": "code",
   "execution_count": 11,
   "id": "661bff4b-0113-4f51-b6f3-43313f02e256",
   "metadata": {},
   "outputs": [
    {
     "data": {
      "text/plain": [
       "['▁Jeremy', '▁is', '▁the', '▁GOAT']"
      ]
     },
     "execution_count": 11,
     "metadata": {},
     "output_type": "execute_result"
    }
   ],
   "source": [
    "tokeniser.tokenize(\"Jeremy is the GOAT\")"
   ]
  },
  {
   "cell_type": "markdown",
   "id": "911af5b1-4f53-4858-b37d-1cb9cd401afd",
   "metadata": {},
   "source": [
    "Ok awesome there are my tokens, Jeremy also notes that uncommon words will be split up and the start of words is represented by an underscore."
   ]
  },
  {
   "cell_type": "code",
   "execution_count": 12,
   "id": "fff98cd4-1842-4141-8a22-643ee5ac6e06",
   "metadata": {},
   "outputs": [
    {
     "data": {
      "text/plain": [
       "['▁I',\n",
       " '▁suffered',\n",
       " '▁a',\n",
       " '▁flab',\n",
       " 'berg',\n",
       " 'as',\n",
       " 'ting',\n",
       " '▁con',\n",
       " 'ni',\n",
       " 'ption',\n",
       " '▁when',\n",
       " '▁I',\n",
       " '▁saw',\n",
       " '▁the',\n",
       " '▁spelling',\n",
       " '▁of',\n",
       " '▁or',\n",
       " 'ni',\n",
       " 'tho',\n",
       " 'rhynch',\n",
       " 'us',\n",
       " '▁an',\n",
       " 'at',\n",
       " 'inus',\n",
       " '.']"
      ]
     },
     "execution_count": 12,
     "metadata": {},
     "output_type": "execute_result"
    }
   ],
   "source": [
    "tokeniser.tokenize(\"I suffered a flabbergasting conniption when I saw the spelling of ornithorhynchus anatinus.\")"
   ]
  },
  {
   "cell_type": "markdown",
   "id": "d8439ef9-0a68-4965-9091-9783ec62fb1a",
   "metadata": {},
   "source": [
    "ok cool, we can see the tokeniser will split up some bigger words but not others, ie conniption but not spelling. There's also underscores and other 'encodings' being placed on the writing and words. Lets now write a function that will take in our input column and tokenise it for us"
   ]
  },
  {
   "cell_type": "code",
   "execution_count": 13,
   "id": "635955a3-0006-4e0d-bbc1-53062609dbfa",
   "metadata": {},
   "outputs": [],
   "source": [
    "def tokenise_function(x): return tokeniser(x['input'])"
   ]
  },
  {
   "cell_type": "markdown",
   "id": "cff92590-689c-47f2-898c-c307bc0ade2b",
   "metadata": {},
   "source": [
    "Looks like we can also call the tokeniser directly which is interesting"
   ]
  },
  {
   "cell_type": "code",
   "execution_count": 15,
   "id": "16dd7c1a-1db3-4da5-ba33-18b4d22d18a7",
   "metadata": {},
   "outputs": [
    {
     "data": {
      "text/plain": [
       "{'input_ids': [1, 339, 2], 'token_type_ids': [0, 0, 0], 'attention_mask': [1, 1, 1]}"
      ]
     },
     "execution_count": 15,
     "metadata": {},
     "output_type": "execute_result"
    }
   ],
   "source": [
    "tokeniser(\"what\")"
   ]
  },
  {
   "cell_type": "code",
   "execution_count": 18,
   "id": "e6b27c36-2c42-48e7-b24e-4cdadbfebd97",
   "metadata": {},
   "outputs": [
    {
     "data": {
      "text/plain": [
       "{'input_ids': [1, 21811, 2], 'token_type_ids': [0, 0, 0], 'attention_mask': [1, 1, 1]}"
      ]
     },
     "execution_count": 18,
     "metadata": {},
     "output_type": "execute_result"
    }
   ],
   "source": [
    "tokeniser(\"Homer\")"
   ]
  },
  {
   "cell_type": "markdown",
   "id": "ae95f386-9e36-4a99-b284-6a2dba00bf89",
   "metadata": {},
   "source": [
    "However its returning different values than our tokenize() object method, we can look at this later.\n",
    "\n",
    "Lets get back to tokenising our dataset"
   ]
  },
  {
   "cell_type": "code",
   "execution_count": 20,
   "id": "e6f73a47-4d64-4c6d-84fa-c538216293c1",
   "metadata": {},
   "outputs": [
    {
     "data": {
      "application/vnd.jupyter.widget-view+json": {
       "model_id": "45a27f9b5e1f4b7099d69b8b0284d486",
       "version_major": 2,
       "version_minor": 0
      },
      "text/plain": [
       "  0%|          | 0/37 [00:00<?, ?ba/s]"
      ]
     },
     "metadata": {},
     "output_type": "display_data"
    }
   ],
   "source": [
    "tokeniser_dataset = ds.map(tokenise_function, batched=True)"
   ]
  },
  {
   "cell_type": "code",
   "execution_count": 21,
   "id": "3bd2839e-8441-49ab-984d-2be5c9f0a5d8",
   "metadata": {},
   "outputs": [
    {
     "data": {
      "text/plain": [
       "('TEXT1: A47; TEXT2: abatement of pollution; ANC1: abatement',\n",
       " [1,\n",
       "  54453,\n",
       "  435,\n",
       "  294,\n",
       "  336,\n",
       "  5753,\n",
       "  346,\n",
       "  54453,\n",
       "  445,\n",
       "  294,\n",
       "  47284,\n",
       "  265,\n",
       "  6435,\n",
       "  346,\n",
       "  23702,\n",
       "  435,\n",
       "  294,\n",
       "  47284,\n",
       "  2])"
      ]
     },
     "execution_count": 21,
     "metadata": {},
     "output_type": "execute_result"
    }
   ],
   "source": [
    "row = tokeniser_dataset[0]\n",
    "\n",
    "row[\"input\"], row[\"input_ids\"]"
   ]
  },
  {
   "cell_type": "markdown",
   "id": "7527ee51-b598-4085-95c5-01c0a603ac3c",
   "metadata": {},
   "source": [
    "Cool, we've got the text we've fed in and a matching set of tokens that have been numericalised. We can always investigate what these numericalised values mean by referencing the 'vocabulary' or 'vocab' of the model via the vocab attribute."
   ]
  },
  {
   "cell_type": "code",
   "execution_count": 32,
   "id": "ea31f324-abe7-4e38-8662-caa9a167038a",
   "metadata": {},
   "outputs": [
    {
     "data": {
      "text/plain": [
       "111284"
      ]
     },
     "execution_count": 32,
     "metadata": {},
     "output_type": "execute_result"
    }
   ],
   "source": [
    "tokeniser.vocab[\"▁Procrastination\"]"
   ]
  },
  {
   "cell_type": "markdown",
   "id": "5a6a99b2-807a-4a90-9314-465925c9626a",
   "metadata": {},
   "source": [
    "I'm afraid of 111284, don't ask why..."
   ]
  },
  {
   "cell_type": "code",
   "execution_count": 34,
   "id": "271b637d-2022-4f9c-8b92-abf47f8ddba5",
   "metadata": {},
   "outputs": [
    {
     "data": {
      "text/plain": [
       "47284"
      ]
     },
     "execution_count": 34,
     "metadata": {},
     "output_type": "execute_result"
    }
   ],
   "source": [
    "tokeniser.vocab[\"▁abatement\"]"
   ]
  },
  {
   "cell_type": "markdown",
   "id": "4a87d16c-baec-45de-a892-ee3d9cda1cbb",
   "metadata": {},
   "source": [
    "We can see 47284 turn up twice in our tokenised and numericalised row above since its there twice in our input row, awesome.\n",
    "\n",
    "Transformers always assume you have a column called \"labels\" with your labels, for us its 'score' at the moment so lets rename our column"
   ]
  },
  {
   "cell_type": "code",
   "execution_count": 35,
   "id": "7b2ee31a-122f-4ec7-9724-2cb09de675f4",
   "metadata": {},
   "outputs": [],
   "source": [
    "tokeniser_dataset = tokeniser_dataset.rename_column(original_column_name=\"score\", new_column_name=\"labels\")"
   ]
  },
  {
   "cell_type": "code",
   "execution_count": 36,
   "id": "9458e716-5907-4f5b-ad1f-d6bf6d63d945",
   "metadata": {},
   "outputs": [
    {
     "data": {
      "text/plain": [
       "Dataset({\n",
       "    features: ['id', 'anchor', 'target', 'context', 'labels', 'input', 'input_ids', 'token_type_ids', 'attention_mask'],\n",
       "    num_rows: 36473\n",
       "})"
      ]
     },
     "execution_count": 36,
     "metadata": {},
     "output_type": "execute_result"
    }
   ],
   "source": [
    "tokeniser_dataset"
   ]
  },
  {
   "cell_type": "markdown",
   "id": "4be5f537-2fa3-4612-908c-c4338b3537de",
   "metadata": {},
   "source": [
    "### Creating Validation & Test Sets\n",
    "\n",
    "Lets grab our test dataset"
   ]
  },
  {
   "cell_type": "code",
   "execution_count": 37,
   "id": "d4547a60-f1fa-4afc-a195-e18e7013a2e3",
   "metadata": {},
   "outputs": [
    {
     "data": {
      "text/html": [
       "<div>\n",
       "<style scoped>\n",
       "    .dataframe tbody tr th:only-of-type {\n",
       "        vertical-align: middle;\n",
       "    }\n",
       "\n",
       "    .dataframe tbody tr th {\n",
       "        vertical-align: top;\n",
       "    }\n",
       "\n",
       "    .dataframe thead th {\n",
       "        text-align: right;\n",
       "    }\n",
       "</style>\n",
       "<table border=\"1\" class=\"dataframe\">\n",
       "  <thead>\n",
       "    <tr style=\"text-align: right;\">\n",
       "      <th></th>\n",
       "      <th>id</th>\n",
       "      <th>anchor</th>\n",
       "      <th>target</th>\n",
       "      <th>context</th>\n",
       "    </tr>\n",
       "  </thead>\n",
       "  <tbody>\n",
       "    <tr>\n",
       "      <th>count</th>\n",
       "      <td>36</td>\n",
       "      <td>36</td>\n",
       "      <td>36</td>\n",
       "      <td>36</td>\n",
       "    </tr>\n",
       "    <tr>\n",
       "      <th>unique</th>\n",
       "      <td>36</td>\n",
       "      <td>34</td>\n",
       "      <td>36</td>\n",
       "      <td>29</td>\n",
       "    </tr>\n",
       "    <tr>\n",
       "      <th>top</th>\n",
       "      <td>4112d61851461f60</td>\n",
       "      <td>el display</td>\n",
       "      <td>inorganic photoconductor drum</td>\n",
       "      <td>G02</td>\n",
       "    </tr>\n",
       "    <tr>\n",
       "      <th>freq</th>\n",
       "      <td>1</td>\n",
       "      <td>2</td>\n",
       "      <td>1</td>\n",
       "      <td>3</td>\n",
       "    </tr>\n",
       "  </tbody>\n",
       "</table>\n",
       "</div>"
      ],
      "text/plain": [
       "                      id      anchor                         target context\n",
       "count                 36          36                             36      36\n",
       "unique                36          34                             36      29\n",
       "top     4112d61851461f60  el display  inorganic photoconductor drum     G02\n",
       "freq                   1           2                              1       3"
      ]
     },
     "execution_count": 37,
     "metadata": {},
     "output_type": "execute_result"
    }
   ],
   "source": [
    "evaluation_df = pd.read_csv(data_path / \"test.csv\")\n",
    "evaluation_df.describe()"
   ]
  },
  {
   "cell_type": "markdown",
   "id": "a791c7d6-48a2-4093-a2dd-b27e3b71b0d5",
   "metadata": {},
   "source": [
    "Now before we decide on our validation set data, lets quickly work through the underfitting and overfitting examples.\n",
    "\n",
    "### Underfitting & Overfitting\n",
    "\n",
    "This is the idea that you can not train enough on your training data and not learn the relationships within your data, or train too much and end up 'memorising' the data and/or noise rather than learning the underlying relationships, which when tested against new data will perform poorly. This can also be framed as the bias-variance tradeoff, there is more nuance to this but this is generally indicative of the kind of behaviour we're going to describe. I find under-fitting (not learning enough) and over-fitting (memorising rather than understanding, and generalising poorly) as more intuitive understandings.\n",
    "\n",
    "Similar to previous lessons, we're going to pretend the underlying data is some magical quadratic that we'll add some noise to and play with some parameters."
   ]
  },
  {
   "cell_type": "code",
   "execution_count": 46,
   "id": "da730263-368a-4668-922b-99fe56cdd99b",
   "metadata": {},
   "outputs": [
    {
     "data": {
      "image/png": "[encoded data removed]",
      "text/plain": [
       "<Figure size 640x480 with 1 Axes>"
      ]
     },
     "metadata": {},
     "output_type": "display_data"
    }
   ],
   "source": [
    "def f(x): return -3*x**2 + 2*x + 30\n",
    "\n",
    "def plot_function(f, min=-2.1, max=2.1, color=\"r\"):\n",
    "    x = np.linspace(min,max, 100)[:,None]\n",
    "    plt.plot(x, f(x), color)\n",
    "\n",
    "plot_function(f)"
   ]
  },
  {
   "cell_type": "code",
   "execution_count": 47,
   "id": "ac0315c8-f21d-4484-8513-3970d96466e5",
   "metadata": {},
   "outputs": [
    {
     "data": {
      "text/plain": [
       "<matplotlib.collections.PathCollection at 0x22bf62b57e0>"
      ]
     },
     "execution_count": 47,
     "metadata": {},
     "output_type": "execute_result"
    },
    {
     "data": {
      "image/png": "[encoded data removed]",
      "text/plain": [
       "<Figure size 640x480 with 1 Axes>"
      ]
     },
     "metadata": {},
     "output_type": "display_data"
    }
   ],
   "source": [
    "# This simply replicates the same behaviour for each run of this notebook (and your colab if you're following along)\n",
    "from numpy.random import normal, seed, uniform\n",
    "np.random.seed(42)\n",
    "\n",
    "def noise(x,scale): return normal(scale=scale, size=x.shape)\n",
    "def add_noise(x, mult, add): return x * (1+noise(x,mult)) + noise(x, add)\n",
    "\n",
    "x = np.linspace(-2,2, num=30)[:,None]\n",
    "y = add_noise(f(x), 0.1, 1.2)\n",
    "plt.scatter(x,y)"
   ]
  },
  {
   "cell_type": "markdown",
   "id": "34175739-f54d-4eb2-ba6c-ccc325ab4a47",
   "metadata": {},
   "source": [
    "These should look familiar from both Jeremy's notebook & the previous lessons where we create some quadratics and add noise, lets now show some over and underfitting of these data points.\n",
    "\n",
    "As Jeremy mentions, we're going to create a function that fits polynomials of a given degree, a line being degree 1, a quadratic is degree 2, a cubic is degree 3, and so on. He recommends watching [this video](https://www.youtube.com/watch?v=ffLLmV4mZwU) as a refresher if this jargon is foreign to you. I don't remember the degrees of a polynomial so I'm going to watch this video now before I continue.\n",
    "\n",
    "Ok, nice little watch, how long I retain this we'll see but I'm feeling good about polynomials being chains of terms with co-efficients and variables, thanks mathantics!"
   ]
  },
  {
   "cell_type": "code",
   "execution_count": 48,
   "id": "deb418b7-3310-4ac8-bed9-f7a0bde1604d",
   "metadata": {},
   "outputs": [
    {
     "data": {
      "image/png": "[encoded data removed]",
      "text/plain": [
       "<Figure size 640x480 with 1 Axes>"
      ]
     },
     "metadata": {},
     "output_type": "display_data"
    }
   ],
   "source": [
    "from sklearn.linear_model import LinearRegression\n",
    "from sklearn.preprocessing import PolynomialFeatures\n",
    "from sklearn.pipeline import make_pipeline\n",
    "\n",
    "def plot_poly(degree):\n",
    "    model = make_pipeline(PolynomialFeatures(degree), LinearRegression())\n",
    "    model.fit(x,y)\n",
    "    plt.scatter(x,y)\n",
    "    plot_function(model.predict)\n",
    "    \n",
    "\n",
    "plot_poly(1)"
   ]
  },
  {
   "cell_type": "markdown",
   "id": "1d00edb6-9138-4dc3-8c7f-4a300110f45a",
   "metadata": {},
   "source": [
    "Ok so looks like an \"under\" fit situation here, we're not really understanding the relationship between the data points and I don't think we understand how this data is shaped. Lets look at 10 degrees."
   ]
  },
  {
   "cell_type": "code",
   "execution_count": 49,
   "id": "3fd0d139-11cf-463a-8ce8-b980568234e9",
   "metadata": {},
   "outputs": [
    {
     "data": {
      "image/png": "[encoded data removed]",
      "text/plain": [
       "<Figure size 640x480 with 1 Axes>"
      ]
     },
     "metadata": {},
     "output_type": "display_data"
    }
   ],
   "source": [
    "plot_poly(10)"
   ]
  },
  {
   "cell_type": "markdown",
   "id": "c629d657-73fd-47b3-bc40-3773d1df8896",
   "metadata": {},
   "source": [
    "Ok now we're \"over\" fitting as we're simply memorising and far too sensitive to the noise in the data, especially at the end where we completely invert the direction of the line and go back up, this is totally wrong!\n",
    "\n",
    "Lets now get the right amount of degrees, which is 2 and also plot the underlying true function"
   ]
  },
  {
   "cell_type": "code",
   "execution_count": 50,
   "id": "6ab189b2-9fa1-4c45-852d-e95ae3d320f7",
   "metadata": {},
   "outputs": [
    {
     "data": {
      "image/png": "[encoded data removed]",
      "text/plain": [
       "<Figure size 640x480 with 1 Axes>"
      ]
     },
     "metadata": {},
     "output_type": "display_data"
    }
   ],
   "source": [
    "plot_poly(2)\n",
    "plot_function(f, color=\"b\")"
   ]
  },
  {
   "cell_type": "markdown",
   "id": "3ae530b4-a780-4b7b-a1ff-7e8cae88403b",
   "metadata": {},
   "source": [
    "Hey thats pretty cool, we're not far off here, we're properly understanding the relationship and estimating correctly the shape of the 'true' function. Of course we're off slightly since there's noise in the data but the approximation is excitingly close."
   ]
  },
  {
   "cell_type": "markdown",
   "id": "98190e8b-ec40-43ea-9711-c4d01e585376",
   "metadata": {},
   "source": [
    "### Recognising Over/Under Fitting\n",
    "\n",
    "This takes us back to our validation set, which is the tool we use to figure out if we're getting this relationship between under and over fitting in the sweet spot. This is a hold out of data from training that we use to see our model might generalise on 'unseen' data, we don't want to use the test set as thats only used at the very end of the process to check on 'unseen' unseen data. The problem arises from running many iterations and tests on your validation set, you're probably going to come across good random variables/parameters as well as slowly leak to your training process, what data is in the validation set which defeats the purpose of trying to see how well your model generalises on data it doesn't know from training. So we want to make decisions on a good validation set and hold out our test set for the very end of the process.\n",
    "\n",
    "Transformers uses a \"DatasetDict\" for holding the training and validation sets. In this scenario we can simply slice apart a random 25% of our dataset for validation, but once again I'll post [Rachel Thomas's awesome writeup](https://www.fast.ai/posts/2017-11-13-validation-sets.html) on exactly this question of how to make a good validation set."
   ]
  },
  {
   "cell_type": "code",
   "execution_count": 51,
   "id": "b609ddd9-4b05-4ca4-a3fc-9aeedf91107c",
   "metadata": {},
   "outputs": [
    {
     "data": {
      "text/plain": [
       "DatasetDict({\n",
       "    train: Dataset({\n",
       "        features: ['id', 'anchor', 'target', 'context', 'labels', 'input', 'input_ids', 'token_type_ids', 'attention_mask'],\n",
       "        num_rows: 27354\n",
       "    })\n",
       "    test: Dataset({\n",
       "        features: ['id', 'anchor', 'target', 'context', 'labels', 'input', 'input_ids', 'token_type_ids', 'attention_mask'],\n",
       "        num_rows: 9119\n",
       "    })\n",
       "})"
      ]
     },
     "execution_count": 51,
     "metadata": {},
     "output_type": "execute_result"
    }
   ],
   "source": [
    "dds = tokeniser_dataset.train_test_split(0.25, seed=42)\n",
    "dds"
   ]
  },
  {
   "cell_type": "markdown",
   "id": "8a22b968-f05f-4259-9952-188d6333ead4",
   "metadata": {},
   "source": [
    "Transformers uses the language of our 'validation' set being called 'test' set which actually isn't all that uncommon but we're being specific here so don't get confused between the two. Remember validation for informing our training process (but not used in the training process to learn from) and the final test set being an 'unseen' unseen set to holdout.\n",
    "\n",
    "Lets modify our test dataset to include the same 'input' column that we made for our train dataset"
   ]
  },
  {
   "cell_type": "code",
   "execution_count": 52,
   "id": "fea0a7c5-6e73-4ac6-99e8-b9eef7a5ab0e",
   "metadata": {},
   "outputs": [
    {
     "data": {
      "application/vnd.jupyter.widget-view+json": {
       "model_id": "8c377145c50a4f8da699dfb5e101bd1a",
       "version_major": 2,
       "version_minor": 0
      },
      "text/plain": [
       "  0%|          | 0/1 [00:00<?, ?ba/s]"
      ]
     },
     "metadata": {},
     "output_type": "display_data"
    }
   ],
   "source": [
    "evaluation_df[\"input\"] = 'TEXT1: ' + evaluation_df.context + '; TEXT2: ' + evaluation_df.target + '; ANC1: ' + evaluation_df.anchor\n",
    "evaluation_ds = Dataset.from_pandas(evaluation_df).map(tokenise_function,batched=True)"
   ]
  },
  {
   "cell_type": "markdown",
   "id": "dfb61a03-88e1-43f4-9d99-94406e2a0ffa",
   "metadata": {},
   "source": [
    "### Metrics & Correlation\n",
    "\n"
   ]
  }
 ],
 "metadata": {
  "kernelspec": {
   "display_name": "Python 3 (ipykernel)",
   "language": "python",
   "name": "python3"
  },
  "language_info": {
   "codemirror_mode": {
    "name": "ipython",
    "version": 3
   },
   "file_extension": ".py",
   "mimetype": "text/x-python",
   "name": "python",
   "nbconvert_exporter": "python",
   "pygments_lexer": "ipython3",
   "version": "3.10.8"
  }
 },
 "nbformat": 4,
 "nbformat_minor": 5
}
