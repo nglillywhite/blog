{
 "cells": [
  {
   "cell_type": "raw",
   "id": "e74da902-e5b7-49c6-b309-208ce9abaa41",
   "metadata": {},
   "source": [
    "---\n",
    "badges: true\n",
    "categories:\n",
    "- jupyter\n",
    "- fastai\n",
    "- ML\n",
    "date: '2023-01-20'\n",
    "description: No Frameworks, No Fluff\n",
    "title: Fastai Lesson 5 | Linear Models & Neural Nets from Scratch\n",
    "author: Nicholas Lillywhite\n",
    "toc: true\n",
    "image: \"images/corr.jpg\"\n",
    "draft: true\n",
    "---"
   ]
  },
  {
   "cell_type": "markdown",
   "id": "88043c35-2674-452d-8bdb-b3bdef2035d7",
   "metadata": {},
   "source": [
    "# Lesson 5 | Linear Models & Neural Nets from Scratch\n",
    "> Building upon Lesson 3 Foundational Concepts\n",
    "\n",
    "> Checkout this notebook in [colab](https://colab.research.google.com/github/nglillywhite/blog/blob/main/posts/2023-01-20-Fastai%20Lesson%205.ipynb)\n",
    "\n",
    "## Lecture Content\n",
    "\n",
    "Now since we've already worked through the [chapter 4](https://github.com/fastai/fastbook/blob/master/04_mnist_basics.ipynb) book content in my lesson 3 blogpost, I won't repeat the work here, [instead I'd recommend you checkout that post](https://nglillywhite.quarto.pub/nicks-blog/posts/2022-12-29-Fastai%20Lesson%203.html#book-content) if you'd like to see the book content that pairs with this week's lecture.\n",
    "\n",
    "### Downloading Data from Kaggle\n",
    "\n",
    "Building upon the concepts and principles we learned in lesson 3, we're going to build our neural net from scratch and run it against the titanic dataset which we can source from kaggle. We can use the python api to select the competition and download all the data to a given path like we have below"
   ]
  },
  {
   "cell_type": "code",
   "execution_count": 5,
   "id": "d0586bd4-4962-4e75-9854-2f40b0ab6a06",
   "metadata": {},
   "outputs": [
    {
     "name": "stdout",
     "output_type": "stream",
     "text": [
      "Downloading titanic.zip to ..\\data\\titanic\n"
     ]
    },
    {
     "name": "stderr",
     "output_type": "stream",
     "text": [
      "100%|█████████████████████████████████████████████████████████████████████████████| 34.1k/34.1k [00:00<00:00, 3.88MB/s]"
     ]
    },
    {
     "name": "stdout",
     "output_type": "stream",
     "text": [
      "\n"
     ]
    },
    {
     "name": "stderr",
     "output_type": "stream",
     "text": [
      "\n"
     ]
    }
   ],
   "source": [
    "import os\n",
    "from pathlib import Path\n",
    "import kaggle\n",
    "import zipfile\n",
    "\n",
    "path = Path(\"../data/titanic\")\n",
    "path.mkdir(exist_ok=True)\n",
    "kaggle.api.competition_download_cli(competition=\"titanic\",\n",
    "                                    path=path)"
   ]
  },
  {
   "cell_type": "markdown",
   "id": "59dc00bf-e3f9-46ad-883e-03940e097bd6",
   "metadata": {},
   "source": [
    "Then we can extract the zip from our path to our path to unpack the contents"
   ]
  },
  {
   "cell_type": "code",
   "execution_count": 8,
   "id": "24dd3ca1-b646-4743-aa1b-bc5f4524c42c",
   "metadata": {},
   "outputs": [],
   "source": [
    "zipfile.ZipFile(f\"{path}\\\\titanic.zip\").extractall(path)"
   ]
  },
  {
   "cell_type": "markdown",
   "id": "597695fd-49fa-48ba-a3ac-feb0f4cb1d33",
   "metadata": {},
   "source": [
    "I'm just importing fastai to get the 'nice' version of Path which allows me to .ls() the directory and see whats inside"
   ]
  },
  {
   "cell_type": "code",
   "execution_count": 11,
   "id": "fb0aab0a-4f1d-48c0-9497-f5e8872be2c1",
   "metadata": {},
   "outputs": [],
   "source": [
    "from fastai.vision.all import *"
   ]
  },
  {
   "cell_type": "code",
   "execution_count": 13,
   "id": "f68c6cd4-1399-406a-b7b2-335871fde134",
   "metadata": {},
   "outputs": [],
   "source": [
    "path = Path(\"../data/titanic\")"
   ]
  },
  {
   "cell_type": "code",
   "execution_count": 14,
   "id": "0afe6a19-e8d7-48ff-b12f-bc2a9cb507cd",
   "metadata": {},
   "outputs": [
    {
     "data": {
      "text/plain": [
       "(#4) [Path('../data/titanic/gender_submission.csv'),Path('../data/titanic/test.csv'),Path('../data/titanic/titanic.zip'),Path('../data/titanic/train.csv')]"
      ]
     },
     "execution_count": 14,
     "metadata": {},
     "output_type": "execute_result"
    }
   ],
   "source": [
    "path.ls()"
   ]
  },
  {
   "cell_type": "markdown",
   "id": "68767c3c-64dc-4dae-91a1-011a4c31e963",
   "metadata": {},
   "source": [
    "Cool, we've got our test, train, and submission csvs as well as the original zip.\n",
    "\n",
    "As mentioned in the lesson, we're going to import pytorch and numpy to work with arrays, and pandas for working with dataframes"
   ]
  },
  {
   "cell_type": "code",
   "execution_count": 15,
   "id": "06c01e64-acf8-44b1-b17b-3151b9d35863",
   "metadata": {},
   "outputs": [],
   "source": [
    "import torch\n",
    "import numpy as np\n",
    "import pandas as pd"
   ]
  },
  {
   "cell_type": "markdown",
   "id": "6e7d40e7-bc83-497a-a6c4-426434cf0aac",
   "metadata": {},
   "source": [
    "### Data Cleaning\n",
    "\n",
    "Lets first do some data cleaning along with the course"
   ]
  },
  {
   "cell_type": "code",
   "execution_count": 18,
   "id": "8facf324-8bb5-4d35-a2c3-830beac86723",
   "metadata": {},
   "outputs": [],
   "source": [
    "df = pd.read_csv(path/\"train.csv\")"
   ]
  },
  {
   "cell_type": "code",
   "execution_count": 19,
   "id": "b9a2c76f-3d34-4f4b-b697-4ad73b3ebfd5",
   "metadata": {},
   "outputs": [
    {
     "data": {
      "text/html": [
       "<div>\n",
       "<style scoped>\n",
       "    .dataframe tbody tr th:only-of-type {\n",
       "        vertical-align: middle;\n",
       "    }\n",
       "\n",
       "    .dataframe tbody tr th {\n",
       "        vertical-align: top;\n",
       "    }\n",
       "\n",
       "    .dataframe thead th {\n",
       "        text-align: right;\n",
       "    }\n",
       "</style>\n",
       "<table border=\"1\" class=\"dataframe\">\n",
       "  <thead>\n",
       "    <tr style=\"text-align: right;\">\n",
       "      <th></th>\n",
       "      <th>PassengerId</th>\n",
       "      <th>Survived</th>\n",
       "      <th>Pclass</th>\n",
       "      <th>Name</th>\n",
       "      <th>Sex</th>\n",
       "      <th>Age</th>\n",
       "      <th>SibSp</th>\n",
       "      <th>Parch</th>\n",
       "      <th>Ticket</th>\n",
       "      <th>Fare</th>\n",
       "      <th>Cabin</th>\n",
       "      <th>Embarked</th>\n",
       "    </tr>\n",
       "  </thead>\n",
       "  <tbody>\n",
       "    <tr>\n",
       "      <th>0</th>\n",
       "      <td>1</td>\n",
       "      <td>0</td>\n",
       "      <td>3</td>\n",
       "      <td>Braund, Mr. Owen Harris</td>\n",
       "      <td>male</td>\n",
       "      <td>22.0</td>\n",
       "      <td>1</td>\n",
       "      <td>0</td>\n",
       "      <td>A/5 21171</td>\n",
       "      <td>7.2500</td>\n",
       "      <td>NaN</td>\n",
       "      <td>S</td>\n",
       "    </tr>\n",
       "    <tr>\n",
       "      <th>1</th>\n",
       "      <td>2</td>\n",
       "      <td>1</td>\n",
       "      <td>1</td>\n",
       "      <td>Cumings, Mrs. John Bradley (Florence Briggs Thayer)</td>\n",
       "      <td>female</td>\n",
       "      <td>38.0</td>\n",
       "      <td>1</td>\n",
       "      <td>0</td>\n",
       "      <td>PC 17599</td>\n",
       "      <td>71.2833</td>\n",
       "      <td>C85</td>\n",
       "      <td>C</td>\n",
       "    </tr>\n",
       "    <tr>\n",
       "      <th>2</th>\n",
       "      <td>3</td>\n",
       "      <td>1</td>\n",
       "      <td>3</td>\n",
       "      <td>Heikkinen, Miss. Laina</td>\n",
       "      <td>female</td>\n",
       "      <td>26.0</td>\n",
       "      <td>0</td>\n",
       "      <td>0</td>\n",
       "      <td>STON/O2. 3101282</td>\n",
       "      <td>7.9250</td>\n",
       "      <td>NaN</td>\n",
       "      <td>S</td>\n",
       "    </tr>\n",
       "    <tr>\n",
       "      <th>3</th>\n",
       "      <td>4</td>\n",
       "      <td>1</td>\n",
       "      <td>1</td>\n",
       "      <td>Futrelle, Mrs. Jacques Heath (Lily May Peel)</td>\n",
       "      <td>female</td>\n",
       "      <td>35.0</td>\n",
       "      <td>1</td>\n",
       "      <td>0</td>\n",
       "      <td>113803</td>\n",
       "      <td>53.1000</td>\n",
       "      <td>C123</td>\n",
       "      <td>S</td>\n",
       "    </tr>\n",
       "    <tr>\n",
       "      <th>4</th>\n",
       "      <td>5</td>\n",
       "      <td>0</td>\n",
       "      <td>3</td>\n",
       "      <td>Allen, Mr. William Henry</td>\n",
       "      <td>male</td>\n",
       "      <td>35.0</td>\n",
       "      <td>0</td>\n",
       "      <td>0</td>\n",
       "      <td>373450</td>\n",
       "      <td>8.0500</td>\n",
       "      <td>NaN</td>\n",
       "      <td>S</td>\n",
       "    </tr>\n",
       "  </tbody>\n",
       "</table>\n",
       "</div>"
      ],
      "text/plain": [
       "   PassengerId  Survived  Pclass  \\\n",
       "0            1         0       3   \n",
       "1            2         1       1   \n",
       "2            3         1       3   \n",
       "3            4         1       1   \n",
       "4            5         0       3   \n",
       "\n",
       "                                                  Name     Sex   Age  SibSp  \\\n",
       "0                              Braund, Mr. Owen Harris    male  22.0      1   \n",
       "1  Cumings, Mrs. John Bradley (Florence Briggs Thayer)  female  38.0      1   \n",
       "2                               Heikkinen, Miss. Laina  female  26.0      0   \n",
       "3         Futrelle, Mrs. Jacques Heath (Lily May Peel)  female  35.0      1   \n",
       "4                             Allen, Mr. William Henry    male  35.0      0   \n",
       "\n",
       "   Parch            Ticket     Fare Cabin Embarked  \n",
       "0      0         A/5 21171   7.2500   NaN        S  \n",
       "1      0          PC 17599  71.2833   C85        C  \n",
       "2      0  STON/O2. 3101282   7.9250   NaN        S  \n",
       "3      0            113803  53.1000  C123        S  \n",
       "4      0            373450   8.0500   NaN        S  "
      ]
     },
     "execution_count": 19,
     "metadata": {},
     "output_type": "execute_result"
    }
   ],
   "source": [
    "df.head()"
   ]
  },
  {
   "cell_type": "markdown",
   "id": "86e51eb8-8688-431c-acff-b3328c8d16ba",
   "metadata": {},
   "source": [
    "As we learned in lesson 3, we want to apply all our inputs by some weights and biases, but if we look at the 'Cabin' column there are some 'NaN' values, or \"Not a Number\" values, we've got to change this to something computable for our model to work. Lets checkout how many NaNs are there in the whole dataset"
   ]
  },
  {
   "cell_type": "code",
   "execution_count": 20,
   "id": "21b25d1a-0557-4789-b741-7d75e24462e9",
   "metadata": {},
   "outputs": [
    {
     "data": {
      "text/plain": [
       "PassengerId      0\n",
       "Survived         0\n",
       "Pclass           0\n",
       "Name             0\n",
       "Sex              0\n",
       "Age            177\n",
       "SibSp            0\n",
       "Parch            0\n",
       "Ticket           0\n",
       "Fare             0\n",
       "Cabin          687\n",
       "Embarked         2\n",
       "dtype: int64"
      ]
     },
     "execution_count": 20,
     "metadata": {},
     "output_type": "execute_result"
    }
   ],
   "source": [
    "df.isna().sum()"
   ]
  },
  {
   "cell_type": "markdown",
   "id": "f27ab450-6a0a-4f05-a4b1-a6b4aad23162",
   "metadata": {},
   "source": [
    "Ok it looks like only Age and Cabin have NaN values that we need to handle. One strategy for imputing missing values is replacing them with the 'mode', or the most commonly occuring value already present in the array, lets checkout the mode."
   ]
  },
  {
   "cell_type": "code",
   "execution_count": 25,
   "id": "4b456bd9-9702-4286-a786-8c3b4d38f232",
   "metadata": {},
   "outputs": [
    {
     "data": {
      "text/plain": [
       "PassengerId                      1\n",
       "Survived                       0.0\n",
       "Pclass                         3.0\n",
       "Name           Abbing, Mr. Anthony\n",
       "Sex                           male\n",
       "Age                           24.0\n",
       "SibSp                          0.0\n",
       "Parch                          0.0\n",
       "Ticket                        1601\n",
       "Fare                          8.05\n",
       "Cabin                      B96 B98\n",
       "Embarked                         S\n",
       "Name: 0, dtype: object"
      ]
     },
     "execution_count": 25,
     "metadata": {},
     "output_type": "execute_result"
    }
   ],
   "source": [
    "modes = df.mode().iloc[0]\n",
    "modes"
   ]
  },
  {
   "cell_type": "markdown",
   "id": "a91d8b29-9532-4f41-ad35-74ed6bdd8a72",
   "metadata": {},
   "source": [
    "We can now fill the columns with the most commonly occuring values that we grabbed from above"
   ]
  },
  {
   "cell_type": "code",
   "execution_count": 26,
   "id": "95f1fac0-954c-4be1-9fcc-2a0a370ba0f1",
   "metadata": {},
   "outputs": [],
   "source": [
    "df.fillna(modes, inplace=True)"
   ]
  },
  {
   "cell_type": "markdown",
   "id": "bbe3b9ee-5ea6-44f6-9e94-0ad54e000009",
   "metadata": {},
   "source": [
    "Any empties left? Lets look"
   ]
  },
  {
   "cell_type": "code",
   "execution_count": 28,
   "id": "4a5dbf54-848b-454b-8216-c429a2a10bd0",
   "metadata": {},
   "outputs": [
    {
     "data": {
      "text/plain": [
       "PassengerId    0\n",
       "Survived       0\n",
       "Pclass         0\n",
       "Name           0\n",
       "Sex            0\n",
       "Age            0\n",
       "SibSp          0\n",
       "Parch          0\n",
       "Ticket         0\n",
       "Fare           0\n",
       "Cabin          0\n",
       "Embarked       0\n",
       "dtype: int64"
      ]
     },
     "execution_count": 28,
     "metadata": {},
     "output_type": "execute_result"
    }
   ],
   "source": [
    "df.isna().sum()"
   ]
  },
  {
   "cell_type": "markdown",
   "id": "31d76e06-a5b5-4db7-9763-56201841a359",
   "metadata": {},
   "source": [
    "The pandas describe() function is a really cool way to investigate either all or certain datatypes, combine this with numpy's types and we can get specifically all the numerica data types by using the np.number base class and the describe() method"
   ]
  },
  {
   "cell_type": "code",
   "execution_count": 31,
   "id": "a0d709d0-23c1-4d7e-a32c-c84c3c10ffeb",
   "metadata": {},
   "outputs": [
    {
     "data": {
      "text/plain": [
       "\u001b[1;31mInit signature:\u001b[0m \u001b[0mnp\u001b[0m\u001b[1;33m.\u001b[0m\u001b[0mnumber\u001b[0m\u001b[1;33m(\u001b[0m\u001b[1;33m)\u001b[0m\u001b[1;33m\u001b[0m\u001b[1;33m\u001b[0m\u001b[0m\n",
       "\u001b[1;31mDocstring:\u001b[0m      Abstract base class of all numeric scalar types.\n",
       "\u001b[1;31mFile:\u001b[0m           c:\\users\\nick\\anaconda3\\envs\\fastai\\lib\\site-packages\\numpy\\__init__.py\n",
       "\u001b[1;31mType:\u001b[0m           type\n",
       "\u001b[1;31mSubclasses:\u001b[0m     integer, inexact\n"
      ]
     },
     "metadata": {},
     "output_type": "display_data"
    }
   ],
   "source": [
    "np.number?"
   ]
  },
  {
   "cell_type": "code",
   "execution_count": 29,
   "id": "77ad2995-46e0-41e0-8df9-6c3f72c66052",
   "metadata": {},
   "outputs": [
    {
     "data": {
      "text/html": [
       "<div>\n",
       "<style scoped>\n",
       "    .dataframe tbody tr th:only-of-type {\n",
       "        vertical-align: middle;\n",
       "    }\n",
       "\n",
       "    .dataframe tbody tr th {\n",
       "        vertical-align: top;\n",
       "    }\n",
       "\n",
       "    .dataframe thead th {\n",
       "        text-align: right;\n",
       "    }\n",
       "</style>\n",
       "<table border=\"1\" class=\"dataframe\">\n",
       "  <thead>\n",
       "    <tr style=\"text-align: right;\">\n",
       "      <th></th>\n",
       "      <th>PassengerId</th>\n",
       "      <th>Survived</th>\n",
       "      <th>Pclass</th>\n",
       "      <th>Age</th>\n",
       "      <th>SibSp</th>\n",
       "      <th>Parch</th>\n",
       "      <th>Fare</th>\n",
       "    </tr>\n",
       "  </thead>\n",
       "  <tbody>\n",
       "    <tr>\n",
       "      <th>count</th>\n",
       "      <td>891.000000</td>\n",
       "      <td>891.000000</td>\n",
       "      <td>891.000000</td>\n",
       "      <td>891.000000</td>\n",
       "      <td>891.000000</td>\n",
       "      <td>891.000000</td>\n",
       "      <td>891.000000</td>\n",
       "    </tr>\n",
       "    <tr>\n",
       "      <th>mean</th>\n",
       "      <td>446.000000</td>\n",
       "      <td>0.383838</td>\n",
       "      <td>2.308642</td>\n",
       "      <td>28.566970</td>\n",
       "      <td>0.523008</td>\n",
       "      <td>0.381594</td>\n",
       "      <td>32.204208</td>\n",
       "    </tr>\n",
       "    <tr>\n",
       "      <th>std</th>\n",
       "      <td>257.353842</td>\n",
       "      <td>0.486592</td>\n",
       "      <td>0.836071</td>\n",
       "      <td>13.199572</td>\n",
       "      <td>1.102743</td>\n",
       "      <td>0.806057</td>\n",
       "      <td>49.693429</td>\n",
       "    </tr>\n",
       "    <tr>\n",
       "      <th>min</th>\n",
       "      <td>1.000000</td>\n",
       "      <td>0.000000</td>\n",
       "      <td>1.000000</td>\n",
       "      <td>0.420000</td>\n",
       "      <td>0.000000</td>\n",
       "      <td>0.000000</td>\n",
       "      <td>0.000000</td>\n",
       "    </tr>\n",
       "    <tr>\n",
       "      <th>25%</th>\n",
       "      <td>223.500000</td>\n",
       "      <td>0.000000</td>\n",
       "      <td>2.000000</td>\n",
       "      <td>22.000000</td>\n",
       "      <td>0.000000</td>\n",
       "      <td>0.000000</td>\n",
       "      <td>7.910400</td>\n",
       "    </tr>\n",
       "    <tr>\n",
       "      <th>50%</th>\n",
       "      <td>446.000000</td>\n",
       "      <td>0.000000</td>\n",
       "      <td>3.000000</td>\n",
       "      <td>24.000000</td>\n",
       "      <td>0.000000</td>\n",
       "      <td>0.000000</td>\n",
       "      <td>14.454200</td>\n",
       "    </tr>\n",
       "    <tr>\n",
       "      <th>75%</th>\n",
       "      <td>668.500000</td>\n",
       "      <td>1.000000</td>\n",
       "      <td>3.000000</td>\n",
       "      <td>35.000000</td>\n",
       "      <td>1.000000</td>\n",
       "      <td>0.000000</td>\n",
       "      <td>31.000000</td>\n",
       "    </tr>\n",
       "    <tr>\n",
       "      <th>max</th>\n",
       "      <td>891.000000</td>\n",
       "      <td>1.000000</td>\n",
       "      <td>3.000000</td>\n",
       "      <td>80.000000</td>\n",
       "      <td>8.000000</td>\n",
       "      <td>6.000000</td>\n",
       "      <td>512.329200</td>\n",
       "    </tr>\n",
       "  </tbody>\n",
       "</table>\n",
       "</div>"
      ],
      "text/plain": [
       "       PassengerId    Survived      Pclass         Age       SibSp  \\\n",
       "count   891.000000  891.000000  891.000000  891.000000  891.000000   \n",
       "mean    446.000000    0.383838    2.308642   28.566970    0.523008   \n",
       "std     257.353842    0.486592    0.836071   13.199572    1.102743   \n",
       "min       1.000000    0.000000    1.000000    0.420000    0.000000   \n",
       "25%     223.500000    0.000000    2.000000   22.000000    0.000000   \n",
       "50%     446.000000    0.000000    3.000000   24.000000    0.000000   \n",
       "75%     668.500000    1.000000    3.000000   35.000000    1.000000   \n",
       "max     891.000000    1.000000    3.000000   80.000000    8.000000   \n",
       "\n",
       "            Parch        Fare  \n",
       "count  891.000000  891.000000  \n",
       "mean     0.381594   32.204208  \n",
       "std      0.806057   49.693429  \n",
       "min      0.000000    0.000000  \n",
       "25%      0.000000    7.910400  \n",
       "50%      0.000000   14.454200  \n",
       "75%      0.000000   31.000000  \n",
       "max      6.000000  512.329200  "
      ]
     },
     "execution_count": 29,
     "metadata": {},
     "output_type": "execute_result"
    }
   ],
   "source": [
    "df.describe(include=np.number)"
   ]
  },
  {
   "cell_type": "markdown",
   "id": "b6ac4568-8a12-4f5c-a4b2-a141d747b696",
   "metadata": {},
   "source": [
    "Ok we can see that fare has 75% of fares under \\\\$31 but a mean of \\\\$32 and a max of $512, this would lead us to thinking there's quite a skewed distribution. This kind of skewness will bias our weights to these large values when we don't really want them to, lets have a look at the distribution."
   ]
  },
  {
   "cell_type": "code",
   "execution_count": 33,
   "id": "a15f2311-1bd2-40aa-858d-082fe58de0bf",
   "metadata": {},
   "outputs": [
    {
     "data": {
      "text/plain": [
       "<AxesSubplot: >"
      ]
     },
     "execution_count": 33,
     "metadata": {},
     "output_type": "execute_result"
    },
    {
     "data": {
      "image/png": "[encoded data removed]",
      "text/plain": [
       "<Figure size 640x480 with 1 Axes>"
      ]
     },
     "metadata": {},
     "output_type": "display_data"
    }
   ],
   "source": [
    "df.Fare.hist()"
   ]
  },
  {
   "cell_type": "markdown",
   "id": "b21189d5-35c6-4101-9a60-dd43272de80f",
   "metadata": {},
   "source": [
    "Super skewed! Almost all the values are below 50, yet we go up to ~\\\\$500 in this graph. What we can do to distribute these values more normally is take the log of the array which will squish down these massive numbers and not fetter with the lower values too much. Also we're adding 1 to all values since there are some 0 fares and log(0) is infinity."
   ]
  },
  {
   "cell_type": "code",
   "execution_count": 35,
   "id": "2332a505-8005-4722-81c1-54f4c60ad032",
   "metadata": {},
   "outputs": [],
   "source": [
    "df[\"LogFare\"] = np.log(df.Fare+1)"
   ]
  },
  {
   "cell_type": "code",
   "execution_count": 36,
   "id": "0b3b8f69-c444-4eda-ba70-478a8c748ac7",
   "metadata": {},
   "outputs": [
    {
     "data": {
      "text/plain": [
       "<AxesSubplot: >"
      ]
     },
     "execution_count": 36,
     "metadata": {},
     "output_type": "execute_result"
    },
    {
     "data": {
      "image/png": "[encoded data removed]",
      "text/plain": [
       "<Figure size 640x480 with 1 Axes>"
      ]
     },
     "metadata": {},
     "output_type": "display_data"
    }
   ],
   "source": [
    "df.LogFare.hist()"
   ]
  },
  {
   "cell_type": "markdown",
   "id": "47ecc43d-6912-4b1a-a2ee-86dd07e7ed3a",
   "metadata": {},
   "source": [
    "That looks way better, sure its not perfect but everything is a more manageable value and we can definitely see a reduced skew.\n",
    "\n",
    "Lets checkout the other columns"
   ]
  },
  {
   "cell_type": "code",
   "execution_count": 41,
   "id": "7582d91c-82be-4214-b015-abdb8b0ab512",
   "metadata": {},
   "outputs": [
    {
     "data": {
      "text/html": [
       "<div>\n",
       "<style scoped>\n",
       "    .dataframe tbody tr th:only-of-type {\n",
       "        vertical-align: middle;\n",
       "    }\n",
       "\n",
       "    .dataframe tbody tr th {\n",
       "        vertical-align: top;\n",
       "    }\n",
       "\n",
       "    .dataframe thead th {\n",
       "        text-align: right;\n",
       "    }\n",
       "</style>\n",
       "<table border=\"1\" class=\"dataframe\">\n",
       "  <thead>\n",
       "    <tr style=\"text-align: right;\">\n",
       "      <th></th>\n",
       "      <th>PassengerId</th>\n",
       "      <th>Survived</th>\n",
       "      <th>Pclass</th>\n",
       "      <th>Age</th>\n",
       "      <th>SibSp</th>\n",
       "      <th>Parch</th>\n",
       "      <th>Fare</th>\n",
       "      <th>LogFare</th>\n",
       "    </tr>\n",
       "  </thead>\n",
       "  <tbody>\n",
       "    <tr>\n",
       "      <th>count</th>\n",
       "      <td>891.000000</td>\n",
       "      <td>891.000000</td>\n",
       "      <td>891.000000</td>\n",
       "      <td>891.000000</td>\n",
       "      <td>891.000000</td>\n",
       "      <td>891.000000</td>\n",
       "      <td>891.000000</td>\n",
       "      <td>891.000000</td>\n",
       "    </tr>\n",
       "    <tr>\n",
       "      <th>mean</th>\n",
       "      <td>446.000000</td>\n",
       "      <td>0.383838</td>\n",
       "      <td>2.308642</td>\n",
       "      <td>28.566970</td>\n",
       "      <td>0.523008</td>\n",
       "      <td>0.381594</td>\n",
       "      <td>32.204208</td>\n",
       "      <td>2.962246</td>\n",
       "    </tr>\n",
       "    <tr>\n",
       "      <th>std</th>\n",
       "      <td>257.353842</td>\n",
       "      <td>0.486592</td>\n",
       "      <td>0.836071</td>\n",
       "      <td>13.199572</td>\n",
       "      <td>1.102743</td>\n",
       "      <td>0.806057</td>\n",
       "      <td>49.693429</td>\n",
       "      <td>0.969048</td>\n",
       "    </tr>\n",
       "    <tr>\n",
       "      <th>min</th>\n",
       "      <td>1.000000</td>\n",
       "      <td>0.000000</td>\n",
       "      <td>1.000000</td>\n",
       "      <td>0.420000</td>\n",
       "      <td>0.000000</td>\n",
       "      <td>0.000000</td>\n",
       "      <td>0.000000</td>\n",
       "      <td>0.000000</td>\n",
       "    </tr>\n",
       "    <tr>\n",
       "      <th>25%</th>\n",
       "      <td>223.500000</td>\n",
       "      <td>0.000000</td>\n",
       "      <td>2.000000</td>\n",
       "      <td>22.000000</td>\n",
       "      <td>0.000000</td>\n",
       "      <td>0.000000</td>\n",
       "      <td>7.910400</td>\n",
       "      <td>2.187218</td>\n",
       "    </tr>\n",
       "    <tr>\n",
       "      <th>50%</th>\n",
       "      <td>446.000000</td>\n",
       "      <td>0.000000</td>\n",
       "      <td>3.000000</td>\n",
       "      <td>24.000000</td>\n",
       "      <td>0.000000</td>\n",
       "      <td>0.000000</td>\n",
       "      <td>14.454200</td>\n",
       "      <td>2.737881</td>\n",
       "    </tr>\n",
       "    <tr>\n",
       "      <th>75%</th>\n",
       "      <td>668.500000</td>\n",
       "      <td>1.000000</td>\n",
       "      <td>3.000000</td>\n",
       "      <td>35.000000</td>\n",
       "      <td>1.000000</td>\n",
       "      <td>0.000000</td>\n",
       "      <td>31.000000</td>\n",
       "      <td>3.465736</td>\n",
       "    </tr>\n",
       "    <tr>\n",
       "      <th>max</th>\n",
       "      <td>891.000000</td>\n",
       "      <td>1.000000</td>\n",
       "      <td>3.000000</td>\n",
       "      <td>80.000000</td>\n",
       "      <td>8.000000</td>\n",
       "      <td>6.000000</td>\n",
       "      <td>512.329200</td>\n",
       "      <td>6.240917</td>\n",
       "    </tr>\n",
       "  </tbody>\n",
       "</table>\n",
       "</div>"
      ],
      "text/plain": [
       "       PassengerId    Survived      Pclass         Age       SibSp  \\\n",
       "count   891.000000  891.000000  891.000000  891.000000  891.000000   \n",
       "mean    446.000000    0.383838    2.308642   28.566970    0.523008   \n",
       "std     257.353842    0.486592    0.836071   13.199572    1.102743   \n",
       "min       1.000000    0.000000    1.000000    0.420000    0.000000   \n",
       "25%     223.500000    0.000000    2.000000   22.000000    0.000000   \n",
       "50%     446.000000    0.000000    3.000000   24.000000    0.000000   \n",
       "75%     668.500000    1.000000    3.000000   35.000000    1.000000   \n",
       "max     891.000000    1.000000    3.000000   80.000000    8.000000   \n",
       "\n",
       "            Parch        Fare     LogFare  \n",
       "count  891.000000  891.000000  891.000000  \n",
       "mean     0.381594   32.204208    2.962246  \n",
       "std      0.806057   49.693429    0.969048  \n",
       "min      0.000000    0.000000    0.000000  \n",
       "25%      0.000000    7.910400    2.187218  \n",
       "50%      0.000000   14.454200    2.737881  \n",
       "75%      0.000000   31.000000    3.465736  \n",
       "max      6.000000  512.329200    6.240917  "
      ]
     },
     "execution_count": 41,
     "metadata": {},
     "output_type": "execute_result"
    }
   ],
   "source": [
    "df.describe()"
   ]
  },
  {
   "cell_type": "markdown",
   "id": "0baed9e9-dfc6-46c4-8f73-dff5d9516a39",
   "metadata": {},
   "source": [
    "PClass also seems to only have three classes, which is actually outlined to us in the competition guidelines, we could also look at the histogram to see."
   ]
  },
  {
   "cell_type": "code",
   "execution_count": 43,
   "id": "dc57c352-7aa3-4f6b-bc71-52ca42364350",
   "metadata": {},
   "outputs": [
    {
     "data": {
      "text/plain": [
       "<AxesSubplot: >"
      ]
     },
     "execution_count": 43,
     "metadata": {},
     "output_type": "execute_result"
    },
    {
     "data": {
      "image/png": "[encoded data removed]",
      "text/plain": [
       "<Figure size 640x480 with 1 Axes>"
      ]
     },
     "metadata": {},
     "output_type": "display_data"
    }
   ],
   "source": [
    "df.Pclass.hist()"
   ]
  },
  {
   "cell_type": "markdown",
   "id": "b8337fac-8381-41ef-a532-f86411dd6860",
   "metadata": {},
   "source": [
    "Thats not continuous at all, we can also use the unique() method on the pandas dataframe"
   ]
  },
  {
   "cell_type": "code",
   "execution_count": 44,
   "id": "d8c2ca35-25a1-411a-ba27-074b7d7bceeb",
   "metadata": {},
   "outputs": [
    {
     "data": {
      "text/plain": [
       "array([3, 1, 2], dtype=int64)"
      ]
     },
     "execution_count": 44,
     "metadata": {},
     "output_type": "execute_result"
    }
   ],
   "source": [
    "df.Pclass.unique()"
   ]
  },
  {
   "cell_type": "code",
   "execution_count": 45,
   "id": "3ba89a29-ec53-4ad6-b0d7-56c05c0456c6",
   "metadata": {},
   "outputs": [
    {
     "data": {
      "text/plain": [
       "[1, 2, 3]"
      ]
     },
     "execution_count": 45,
     "metadata": {},
     "output_type": "execute_result"
    }
   ],
   "source": [
    "pclasses = sorted(df.Pclass.unique())\n",
    "pclasses"
   ]
  },
  {
   "cell_type": "markdown",
   "id": "d75f5826-6fbc-465b-9179-522fec4f3fe6",
   "metadata": {},
   "source": [
    "Ok now lets checkout the non numeric values, which we'll have to represent numerically somehow since we need to be able to multiply them by our weights and biases. A simple way to do this is one-hot-encoding them, also known as making 'dummy' values which creates a binary column each for 'n' classes and then a 0 or 1 in each column if that class is observed. You can technically do n-1 classes since if all the binary columns are 0 then you've technically observed the last column but most often you'll explicitly express each column."
   ]
  },
  {
   "cell_type": "code",
   "execution_count": 46,
   "id": "e02214fd-571a-4f7f-94c4-ad4d72805501",
   "metadata": {},
   "outputs": [
    {
     "data": {
      "text/html": [
       "<div>\n",
       "<style scoped>\n",
       "    .dataframe tbody tr th:only-of-type {\n",
       "        vertical-align: middle;\n",
       "    }\n",
       "\n",
       "    .dataframe tbody tr th {\n",
       "        vertical-align: top;\n",
       "    }\n",
       "\n",
       "    .dataframe thead th {\n",
       "        text-align: right;\n",
       "    }\n",
       "</style>\n",
       "<table border=\"1\" class=\"dataframe\">\n",
       "  <thead>\n",
       "    <tr style=\"text-align: right;\">\n",
       "      <th></th>\n",
       "      <th>Name</th>\n",
       "      <th>Sex</th>\n",
       "      <th>Ticket</th>\n",
       "      <th>Cabin</th>\n",
       "      <th>Embarked</th>\n",
       "    </tr>\n",
       "  </thead>\n",
       "  <tbody>\n",
       "    <tr>\n",
       "      <th>count</th>\n",
       "      <td>891</td>\n",
       "      <td>891</td>\n",
       "      <td>891</td>\n",
       "      <td>891</td>\n",
       "      <td>891</td>\n",
       "    </tr>\n",
       "    <tr>\n",
       "      <th>unique</th>\n",
       "      <td>891</td>\n",
       "      <td>2</td>\n",
       "      <td>681</td>\n",
       "      <td>147</td>\n",
       "      <td>3</td>\n",
       "    </tr>\n",
       "    <tr>\n",
       "      <th>top</th>\n",
       "      <td>Braund, Mr. Owen Harris</td>\n",
       "      <td>male</td>\n",
       "      <td>347082</td>\n",
       "      <td>B96 B98</td>\n",
       "      <td>S</td>\n",
       "    </tr>\n",
       "    <tr>\n",
       "      <th>freq</th>\n",
       "      <td>1</td>\n",
       "      <td>577</td>\n",
       "      <td>7</td>\n",
       "      <td>691</td>\n",
       "      <td>646</td>\n",
       "    </tr>\n",
       "  </tbody>\n",
       "</table>\n",
       "</div>"
      ],
      "text/plain": [
       "                           Name   Sex  Ticket    Cabin Embarked\n",
       "count                       891   891     891      891      891\n",
       "unique                      891     2     681      147        3\n",
       "top     Braund, Mr. Owen Harris  male  347082  B96 B98        S\n",
       "freq                          1   577       7      691      646"
      ]
     },
     "execution_count": 46,
     "metadata": {},
     "output_type": "execute_result"
    }
   ],
   "source": [
    "df.describe(include=[object])"
   ]
  },
  {
   "cell_type": "code",
   "execution_count": 50,
   "id": "7dd4d77e-3615-4fd2-b50c-f5a678996798",
   "metadata": {},
   "outputs": [
    {
     "data": {
      "text/html": [
       "<div>\n",
       "<style scoped>\n",
       "    .dataframe tbody tr th:only-of-type {\n",
       "        vertical-align: middle;\n",
       "    }\n",
       "\n",
       "    .dataframe tbody tr th {\n",
       "        vertical-align: top;\n",
       "    }\n",
       "\n",
       "    .dataframe thead th {\n",
       "        text-align: right;\n",
       "    }\n",
       "</style>\n",
       "<table border=\"1\" class=\"dataframe\">\n",
       "  <thead>\n",
       "    <tr style=\"text-align: right;\">\n",
       "      <th></th>\n",
       "      <th>PassengerId</th>\n",
       "      <th>Survived</th>\n",
       "      <th>Name</th>\n",
       "      <th>Age</th>\n",
       "      <th>SibSp</th>\n",
       "      <th>Parch</th>\n",
       "      <th>Ticket</th>\n",
       "      <th>Fare</th>\n",
       "      <th>Cabin</th>\n",
       "      <th>LogFare</th>\n",
       "      <th>Sex_female</th>\n",
       "      <th>Sex_male</th>\n",
       "      <th>Pclass_1</th>\n",
       "      <th>Pclass_2</th>\n",
       "      <th>Pclass_3</th>\n",
       "      <th>Embarked_C</th>\n",
       "      <th>Embarked_Q</th>\n",
       "      <th>Embarked_S</th>\n",
       "    </tr>\n",
       "  </thead>\n",
       "  <tbody>\n",
       "    <tr>\n",
       "      <th>0</th>\n",
       "      <td>1</td>\n",
       "      <td>0</td>\n",
       "      <td>Braund, Mr. Owen Harris</td>\n",
       "      <td>22.0</td>\n",
       "      <td>1</td>\n",
       "      <td>0</td>\n",
       "      <td>A/5 21171</td>\n",
       "      <td>7.2500</td>\n",
       "      <td>B96 B98</td>\n",
       "      <td>2.110213</td>\n",
       "      <td>0</td>\n",
       "      <td>1</td>\n",
       "      <td>0</td>\n",
       "      <td>0</td>\n",
       "      <td>1</td>\n",
       "      <td>0</td>\n",
       "      <td>0</td>\n",
       "      <td>1</td>\n",
       "    </tr>\n",
       "    <tr>\n",
       "      <th>1</th>\n",
       "      <td>2</td>\n",
       "      <td>1</td>\n",
       "      <td>Cumings, Mrs. John Bradley (Florence Briggs Thayer)</td>\n",
       "      <td>38.0</td>\n",
       "      <td>1</td>\n",
       "      <td>0</td>\n",
       "      <td>PC 17599</td>\n",
       "      <td>71.2833</td>\n",
       "      <td>C85</td>\n",
       "      <td>4.280593</td>\n",
       "      <td>1</td>\n",
       "      <td>0</td>\n",
       "      <td>1</td>\n",
       "      <td>0</td>\n",
       "      <td>0</td>\n",
       "      <td>1</td>\n",
       "      <td>0</td>\n",
       "      <td>0</td>\n",
       "    </tr>\n",
       "    <tr>\n",
       "      <th>2</th>\n",
       "      <td>3</td>\n",
       "      <td>1</td>\n",
       "      <td>Heikkinen, Miss. Laina</td>\n",
       "      <td>26.0</td>\n",
       "      <td>0</td>\n",
       "      <td>0</td>\n",
       "      <td>STON/O2. 3101282</td>\n",
       "      <td>7.9250</td>\n",
       "      <td>B96 B98</td>\n",
       "      <td>2.188856</td>\n",
       "      <td>1</td>\n",
       "      <td>0</td>\n",
       "      <td>0</td>\n",
       "      <td>0</td>\n",
       "      <td>1</td>\n",
       "      <td>0</td>\n",
       "      <td>0</td>\n",
       "      <td>1</td>\n",
       "    </tr>\n",
       "    <tr>\n",
       "      <th>3</th>\n",
       "      <td>4</td>\n",
       "      <td>1</td>\n",
       "      <td>Futrelle, Mrs. Jacques Heath (Lily May Peel)</td>\n",
       "      <td>35.0</td>\n",
       "      <td>1</td>\n",
       "      <td>0</td>\n",
       "      <td>113803</td>\n",
       "      <td>53.1000</td>\n",
       "      <td>C123</td>\n",
       "      <td>3.990834</td>\n",
       "      <td>1</td>\n",
       "      <td>0</td>\n",
       "      <td>1</td>\n",
       "      <td>0</td>\n",
       "      <td>0</td>\n",
       "      <td>0</td>\n",
       "      <td>0</td>\n",
       "      <td>1</td>\n",
       "    </tr>\n",
       "    <tr>\n",
       "      <th>4</th>\n",
       "      <td>5</td>\n",
       "      <td>0</td>\n",
       "      <td>Allen, Mr. William Henry</td>\n",
       "      <td>35.0</td>\n",
       "      <td>0</td>\n",
       "      <td>0</td>\n",
       "      <td>373450</td>\n",
       "      <td>8.0500</td>\n",
       "      <td>B96 B98</td>\n",
       "      <td>2.202765</td>\n",
       "      <td>0</td>\n",
       "      <td>1</td>\n",
       "      <td>0</td>\n",
       "      <td>0</td>\n",
       "      <td>1</td>\n",
       "      <td>0</td>\n",
       "      <td>0</td>\n",
       "      <td>1</td>\n",
       "    </tr>\n",
       "  </tbody>\n",
       "</table>\n",
       "</div>"
      ],
      "text/plain": [
       "   PassengerId  Survived                                                 Name  \\\n",
       "0            1         0                              Braund, Mr. Owen Harris   \n",
       "1            2         1  Cumings, Mrs. John Bradley (Florence Briggs Thayer)   \n",
       "2            3         1                               Heikkinen, Miss. Laina   \n",
       "3            4         1         Futrelle, Mrs. Jacques Heath (Lily May Peel)   \n",
       "4            5         0                             Allen, Mr. William Henry   \n",
       "\n",
       "    Age  SibSp  Parch            Ticket     Fare    Cabin   LogFare  \\\n",
       "0  22.0      1      0         A/5 21171   7.2500  B96 B98  2.110213   \n",
       "1  38.0      1      0          PC 17599  71.2833      C85  4.280593   \n",
       "2  26.0      0      0  STON/O2. 3101282   7.9250  B96 B98  2.188856   \n",
       "3  35.0      1      0            113803  53.1000     C123  3.990834   \n",
       "4  35.0      0      0            373450   8.0500  B96 B98  2.202765   \n",
       "\n",
       "   Sex_female  Sex_male  Pclass_1  Pclass_2  Pclass_3  Embarked_C  Embarked_Q  \\\n",
       "0           0         1         0         0         1           0           0   \n",
       "1           1         0         1         0         0           1           0   \n",
       "2           1         0         0         0         1           0           0   \n",
       "3           1         0         1         0         0           0           0   \n",
       "4           0         1         0         0         1           0           0   \n",
       "\n",
       "   Embarked_S  \n",
       "0           1  \n",
       "1           0  \n",
       "2           1  \n",
       "3           1  \n",
       "4           1  "
      ]
     },
     "execution_count": 50,
     "metadata": {},
     "output_type": "execute_result"
    }
   ],
   "source": [
    "df = pd.get_dummies(df,columns=[\"Sex\",\"Pclass\",\"Embarked\"])\n",
    "df.head()"
   ]
  },
  {
   "cell_type": "markdown",
   "id": "6e4661c2-b0d8-4abd-9e9e-2c606b9325ef",
   "metadata": {},
   "source": [
    "Ok we can see some new columns being added, with the structure of 'originalColumn_classObservation', for example 'Sex_female'. Lets grab these added columns specifically."
   ]
  },
  {
   "cell_type": "code",
   "execution_count": 58,
   "id": "de87d3c0-efe4-4f69-889b-4072fc3b93f4",
   "metadata": {},
   "outputs": [
    {
     "data": {
      "text/html": [
       "<div>\n",
       "<style scoped>\n",
       "    .dataframe tbody tr th:only-of-type {\n",
       "        vertical-align: middle;\n",
       "    }\n",
       "\n",
       "    .dataframe tbody tr th {\n",
       "        vertical-align: top;\n",
       "    }\n",
       "\n",
       "    .dataframe thead th {\n",
       "        text-align: right;\n",
       "    }\n",
       "</style>\n",
       "<table border=\"1\" class=\"dataframe\">\n",
       "  <thead>\n",
       "    <tr style=\"text-align: right;\">\n",
       "      <th></th>\n",
       "      <th>Sex_female</th>\n",
       "      <th>Sex_male</th>\n",
       "      <th>Pclass_1</th>\n",
       "      <th>Pclass_2</th>\n",
       "      <th>Pclass_3</th>\n",
       "      <th>Embarked_C</th>\n",
       "      <th>Embarked_Q</th>\n",
       "      <th>Embarked_S</th>\n",
       "    </tr>\n",
       "  </thead>\n",
       "  <tbody>\n",
       "    <tr>\n",
       "      <th>0</th>\n",
       "      <td>0</td>\n",
       "      <td>1</td>\n",
       "      <td>0</td>\n",
       "      <td>0</td>\n",
       "      <td>1</td>\n",
       "      <td>0</td>\n",
       "      <td>0</td>\n",
       "      <td>1</td>\n",
       "    </tr>\n",
       "    <tr>\n",
       "      <th>1</th>\n",
       "      <td>1</td>\n",
       "      <td>0</td>\n",
       "      <td>1</td>\n",
       "      <td>0</td>\n",
       "      <td>0</td>\n",
       "      <td>1</td>\n",
       "      <td>0</td>\n",
       "      <td>0</td>\n",
       "    </tr>\n",
       "    <tr>\n",
       "      <th>2</th>\n",
       "      <td>1</td>\n",
       "      <td>0</td>\n",
       "      <td>0</td>\n",
       "      <td>0</td>\n",
       "      <td>1</td>\n",
       "      <td>0</td>\n",
       "      <td>0</td>\n",
       "      <td>1</td>\n",
       "    </tr>\n",
       "    <tr>\n",
       "      <th>3</th>\n",
       "      <td>1</td>\n",
       "      <td>0</td>\n",
       "      <td>1</td>\n",
       "      <td>0</td>\n",
       "      <td>0</td>\n",
       "      <td>0</td>\n",
       "      <td>0</td>\n",
       "      <td>1</td>\n",
       "    </tr>\n",
       "    <tr>\n",
       "      <th>4</th>\n",
       "      <td>0</td>\n",
       "      <td>1</td>\n",
       "      <td>0</td>\n",
       "      <td>0</td>\n",
       "      <td>1</td>\n",
       "      <td>0</td>\n",
       "      <td>0</td>\n",
       "      <td>1</td>\n",
       "    </tr>\n",
       "  </tbody>\n",
       "</table>\n",
       "</div>"
      ],
      "text/plain": [
       "   Sex_female  Sex_male  Pclass_1  Pclass_2  Pclass_3  Embarked_C  Embarked_Q  \\\n",
       "0           0         1         0         0         1           0           0   \n",
       "1           1         0         1         0         0           1           0   \n",
       "2           1         0         0         0         1           0           0   \n",
       "3           1         0         1         0         0           0           0   \n",
       "4           0         1         0         0         1           0           0   \n",
       "\n",
       "   Embarked_S  \n",
       "0           1  \n",
       "1           0  \n",
       "2           1  \n",
       "3           1  \n",
       "4           1  "
      ]
     },
     "execution_count": 58,
     "metadata": {},
     "output_type": "execute_result"
    }
   ],
   "source": [
    "new_columns = list(df.columns[10:])\n",
    "df[new_columns].head()"
   ]
  },
  {
   "cell_type": "markdown",
   "id": "5d720644-073c-4925-a91e-db37e40e54dc",
   "metadata": {},
   "source": [
    "### Creating Independent & Dependent Variables\n",
    "\n",
    "Now we've got to make our 'x' (Independent / Predictors) and 'y' (Dependent / Target) tensors for us to train and predict with. We're trying to predict if someone survived so \"Survived\" is our y value."
   ]
  },
  {
   "cell_type": "code",
   "execution_count": 59,
   "id": "aec05822-3e3f-456c-b657-0884790649b5",
   "metadata": {},
   "outputs": [],
   "source": [
    "from torch import tensor\n",
    "\n",
    "t_dep = tensor(df.Survived)"
   ]
  },
  {
   "cell_type": "markdown",
   "id": "a283c46d-108b-4e4e-9c69-25fd83aa852b",
   "metadata": {},
   "source": [
    "Our x values are all the continues values we can grab as well as the dummy values we made."
   ]
  },
  {
   "cell_type": "code",
   "execution_count": 61,
   "id": "8842cd7f-26a9-430e-ab8d-802babc52fdf",
   "metadata": {},
   "outputs": [
    {
     "data": {
      "text/plain": [
       "tensor([[22.,  1.,  0.,  ...,  0.,  0.,  1.],\n",
       "        [38.,  1.,  0.,  ...,  1.,  0.,  0.],\n",
       "        [26.,  0.,  0.,  ...,  0.,  0.,  1.],\n",
       "        ...,\n",
       "        [24.,  1.,  2.,  ...,  0.,  0.,  1.],\n",
       "        [26.,  0.,  0.,  ...,  1.,  0.,  0.],\n",
       "        [32.,  0.,  0.,  ...,  0.,  1.,  0.]])"
      ]
     },
     "execution_count": 61,
     "metadata": {},
     "output_type": "execute_result"
    }
   ],
   "source": [
    "independent_cols = ['Age', \"SibSp\", \"Parch\", \"LogFare\"] + new_columns\n",
    "\n",
    "t_independent = tensor(df[independent_cols].values, dtype=torch.float)\n",
    "t_independent"
   ]
  },
  {
   "cell_type": "code",
   "execution_count": 62,
   "id": "87118af3-523d-4e9d-beaf-13dfbbde7f56",
   "metadata": {},
   "outputs": [
    {
     "data": {
      "text/plain": [
       "torch.Size([891, 12])"
      ]
     },
     "execution_count": 62,
     "metadata": {},
     "output_type": "execute_result"
    }
   ],
   "source": [
    "t_independent.shape"
   ]
  },
  {
   "cell_type": "markdown",
   "id": "a0717da0-7181-4724-8a2c-2daea845944e",
   "metadata": {},
   "source": [
    "Ok so we've got our 891 observations of 12 columns / attributes / features to work with."
   ]
  },
  {
   "cell_type": "markdown",
   "id": "53c89be2-ad66-43fd-8b78-04536afa4418",
   "metadata": {},
   "source": [
    "### Building our Linear Model\n",
    "\n",
    "We will first build a totally linear model without any non-linear activation functions like a ReLu (That we worked through in Lesson 3), to do this we'll get a coefficient for each independent variable (column/feature) by picking a random value in the range of (-5,5)."
   ]
  },
  {
   "cell_type": "code",
   "execution_count": 63,
   "id": "328946c0-95e2-42de-8ff5-4555afa7b6b0",
   "metadata": {},
   "outputs": [
    {
     "data": {
      "text/plain": [
       "tensor([ 0.3313,  0.0565,  0.4642, -0.0014,  0.1842, -0.3090, -0.4595, -0.0689,\n",
       "         0.3639,  0.2758, -0.3921,  0.3848])"
      ]
     },
     "execution_count": 63,
     "metadata": {},
     "output_type": "execute_result"
    }
   ],
   "source": [
    "torch.manual_seed(26)\n",
    "\n",
    "n_coefficients = t_independent.shape[1]\n",
    "coefficients = torch.rand(n_coefficients)-0.5\n",
    "coefficients"
   ]
  },
  {
   "cell_type": "markdown",
   "id": "a18c66db-ac9e-4f1a-96bc-c623c6bea107",
   "metadata": {},
   "source": [
    "Looks pretty random to me. We're going to multiply all our coefficients with our x values and add them up. Lets do that"
   ]
  },
  {
   "cell_type": "code",
   "execution_count": 64,
   "id": "1117c797-8bbc-42ce-9773-8248adfb4c7c",
   "metadata": {},
   "outputs": [
    {
     "data": {
      "text/plain": [
       "tensor([[ 7.2897,  0.0565,  0.0000,  ...,  0.0000, -0.0000,  0.3848],\n",
       "        [12.5912,  0.0565,  0.0000,  ...,  0.2758, -0.0000,  0.0000],\n",
       "        [ 8.6150,  0.0000,  0.0000,  ...,  0.0000, -0.0000,  0.3848],\n",
       "        ...,\n",
       "        [ 7.9523,  0.0565,  0.9284,  ...,  0.0000, -0.0000,  0.3848],\n",
       "        [ 8.6150,  0.0000,  0.0000,  ...,  0.2758, -0.0000,  0.0000],\n",
       "        [10.6031,  0.0000,  0.0000,  ...,  0.0000, -0.3921,  0.0000]])"
      ]
     },
     "execution_count": 64,
     "metadata": {},
     "output_type": "execute_result"
    }
   ],
   "source": [
    "t_independent*coefficients"
   ]
  },
  {
   "cell_type": "markdown",
   "id": "34bbd23b-3ad7-46b0-8c47-4bcff8f980f1",
   "metadata": {},
   "source": [
    "Our first column age is simply a lot bigger than all our other columns and is dominating the output, we can normalise the values between 0 and 1 for all columns so that no particular nominal size of values for any column is bigger than another. We can use sigmoid or simply divide by the maximum of the column to do this normalisation."
   ]
  },
  {
   "cell_type": "code",
   "execution_count": 65,
   "id": "493b8955-7ffa-44c7-ae30-4bdeed3db628",
   "metadata": {},
   "outputs": [
    {
     "data": {
      "text/plain": [
       "(tensor([80.0000,  8.0000,  6.0000,  6.2409,  1.0000,  1.0000,  1.0000,  1.0000,\n",
       "          1.0000,  1.0000,  1.0000,  1.0000]),\n",
       " tensor([630, 159, 678, 258,   1,   0,   1,   9,   0,   1,   5,   0]))"
      ]
     },
     "execution_count": 65,
     "metadata": {},
     "output_type": "execute_result"
    }
   ],
   "source": [
    "vals, indices = t_independent.max(dim=0)\n",
    "vals, indices"
   ]
  },
  {
   "cell_type": "markdown",
   "id": "009e4b58-17de-4a44-a99f-f6dfeba5c3e0",
   "metadata": {},
   "source": [
    "You can see that we have the maximum for each column, and the index of where that value occured, lets now normalise those independant/x values"
   ]
  },
  {
   "cell_type": "code",
   "execution_count": 67,
   "id": "2987ef17-601e-4c7c-81bc-961625225654",
   "metadata": {},
   "outputs": [
    {
     "data": {
      "text/plain": [
       "tensor([[0.2750, 0.1250, 0.0000,  ..., 0.0000, 0.0000, 1.0000],\n",
       "        [0.4750, 0.1250, 0.0000,  ..., 1.0000, 0.0000, 0.0000],\n",
       "        [0.3250, 0.0000, 0.0000,  ..., 0.0000, 0.0000, 1.0000],\n",
       "        ...,\n",
       "        [0.3000, 0.1250, 0.3333,  ..., 0.0000, 0.0000, 1.0000],\n",
       "        [0.3250, 0.0000, 0.0000,  ..., 1.0000, 0.0000, 0.0000],\n",
       "        [0.4000, 0.0000, 0.0000,  ..., 0.0000, 1.0000, 0.0000]])"
      ]
     },
     "execution_count": 67,
     "metadata": {},
     "output_type": "execute_result"
    }
   ],
   "source": [
    "t_independent = t_independent / vals\n",
    "t_independent"
   ]
  },
  {
   "cell_type": "code",
   "execution_count": 68,
   "id": "c324d612-9b82-49aa-ae91-87ce9390ba4a",
   "metadata": {},
   "outputs": [
    {
     "data": {
      "text/plain": [
       "tensor([[ 0.0911,  0.0071,  0.0000,  ...,  0.0000, -0.0000,  0.3848],\n",
       "        [ 0.1574,  0.0071,  0.0000,  ...,  0.2758, -0.0000,  0.0000],\n",
       "        [ 0.1077,  0.0000,  0.0000,  ...,  0.0000, -0.0000,  0.3848],\n",
       "        ...,\n",
       "        [ 0.0994,  0.0071,  0.1547,  ...,  0.0000, -0.0000,  0.3848],\n",
       "        [ 0.1077,  0.0000,  0.0000,  ...,  0.2758, -0.0000,  0.0000],\n",
       "        [ 0.1325,  0.0000,  0.0000,  ...,  0.0000, -0.3921,  0.0000]])"
      ]
     },
     "execution_count": 68,
     "metadata": {},
     "output_type": "execute_result"
    }
   ],
   "source": [
    "t_independent*coefficients"
   ]
  },
  {
   "cell_type": "markdown",
   "id": "ed939f99-0e36-4e2e-aa64-9d46dbdfb905",
   "metadata": {},
   "source": [
    "Awesome, everything is looking far more balanced now.\n",
    "\n",
    "The course makes a great note to highlight the vector by matrix calculations we're running here. Note that 't_independent' is a matrix and coefficients is a vector of values, even though we're simply saying multiply each other, pytorch knows to broadcast the vector over the whole matrix for the calculations. Definitely checkout lesson 3 / chapter 4 of the book to learn more about this. I've also linked some decent broadcasting documentation there as well.\n",
    "\n",
    "Ok lets now make our predictions"
   ]
  },
  {
   "cell_type": "code",
   "execution_count": 70,
   "id": "6e617f9f-7b07-48dd-a675-ffe4150882e4",
   "metadata": {},
   "outputs": [
    {
     "data": {
      "text/plain": [
       "(tensor([ 0.5373,  0.1640,  1.0401,  0.2606,  0.5841, -0.2383, -0.1610,  0.5458,\n",
       "          1.1989,  0.4553]),\n",
       " torch.Size([891]))"
      ]
     },
     "execution_count": 70,
     "metadata": {},
     "output_type": "execute_result"
    }
   ],
   "source": [
    "preds = (t_independent*coefficients).sum(axis=1)\n",
    "preds[:10], preds.shape"
   ]
  },
  {
   "cell_type": "markdown",
   "id": "464c22b9-0fef-49dc-b2c2-64aa2ae31c3c",
   "metadata": {},
   "source": [
    "### Building a Loss Function\n",
    "\n",
    "As with lesson 3, we need a way to optimise those coefficients/weights and we do that via calculating a loss and gradients which we then multiply by a learning rate to move our coefficients/weights to a more effective value. Lets do that now."
   ]
  },
  {
   "cell_type": "code",
   "execution_count": 71,
   "id": "e82a8c47-1364-4595-af17-d9c852aca9a3",
   "metadata": {},
   "outputs": [
    {
     "data": {
      "text/plain": [
       "tensor(0.5372)"
      ]
     },
     "execution_count": 71,
     "metadata": {},
     "output_type": "execute_result"
    }
   ],
   "source": [
    "loss = torch.abs(preds-t_dep).mean()\n",
    "loss"
   ]
  },
  {
   "cell_type": "markdown",
   "id": "5e26a1ea-d3d4-4387-9b41-9a35be702fbe",
   "metadata": {},
   "source": [
    "We've taken the absolute error of our predictions minus the true value and then grabbed the mean(). We're pretty close to random chance at .53 since there can only be a 0 or 1 value.\n",
    "\n",
    "Lets wrap calculating the predictions and losses in some helper functions and keep moving."
   ]
  },
  {
   "cell_type": "code",
   "execution_count": 72,
   "id": "fa996f05-e2d3-4a8a-858c-dd94e3c329fc",
   "metadata": {},
   "outputs": [],
   "source": [
    "def calculate_preds(coefficients, independent_variables): return (independent_variables*coefficients).sum(axis=1)\n",
    "def calculate_loss(coefficients, independent_variables, dependent_variables): return torch.abs(calculate_preds(coefficients, independent_variables)-dependent_variables).mean()"
   ]
  },
  {
   "cell_type": "markdown",
   "id": "547e56bc-0407-44c7-b2cf-c9d963a3d6fa",
   "metadata": {},
   "source": [
    "### Gradient Descent\n",
    "\n",
    "Here we're going to manually do gradient descent, or a single 'epoch' of training. Pytorch will automatically track our gradients for us with the 'requires_grad_()' attribute on our coefficients so we don't have to manually set them but you can handle this manually if you wish (which we did in lesson 3)."
   ]
  },
  {
   "cell_type": "code",
   "execution_count": 73,
   "id": "5efa92f5-2c36-440f-8a1c-31249526cfbe",
   "metadata": {},
   "outputs": [
    {
     "data": {
      "text/plain": [
       "tensor([ 0.3313,  0.0565,  0.4642, -0.0014,  0.1842, -0.3090, -0.4595, -0.0689,\n",
       "         0.3639,  0.2758, -0.3921,  0.3848], requires_grad=True)"
      ]
     },
     "execution_count": 73,
     "metadata": {},
     "output_type": "execute_result"
    }
   ],
   "source": [
    "coefficients.requires_grad_()"
   ]
  },
  {
   "cell_type": "code",
   "execution_count": 74,
   "id": "1b5b9f99-4603-44de-a3cf-a2c6f9ae4335",
   "metadata": {},
   "outputs": [
    {
     "data": {
      "text/plain": [
       "tensor(0.5372, grad_fn=<MeanBackward0>)"
      ]
     },
     "execution_count": 74,
     "metadata": {},
     "output_type": "execute_result"
    }
   ],
   "source": [
    "loss = calculate_loss(coefficients, t_independent, t_dep)\n",
    "loss"
   ]
  },
  {
   "cell_type": "markdown",
   "id": "1c936594-96c5-4764-9cb3-451d52dbb578",
   "metadata": {},
   "source": [
    "loss.backward() will ask pytorch to calculate the gradients on our coefficients"
   ]
  },
  {
   "cell_type": "code",
   "execution_count": 75,
   "id": "dd4b29d9-7a7e-4ef2-a0e5-505cb1a0b87d",
   "metadata": {},
   "outputs": [],
   "source": [
    "loss.backward()"
   ]
  },
  {
   "cell_type": "code",
   "execution_count": 76,
   "id": "613378ed-3d5b-4803-aad7-8fb2ce512d4d",
   "metadata": {},
   "outputs": [
    {
     "data": {
      "text/plain": [
       "tensor([ 0.0012,  0.0146,  0.0075, -0.0405, -0.0898,  0.1448, -0.2334,  0.0045,\n",
       "         0.2840, -0.0718, -0.0662,  0.1930])"
      ]
     },
     "execution_count": 76,
     "metadata": {},
     "output_type": "execute_result"
    }
   ],
   "source": [
    "coefficients.grad"
   ]
  },
  {
   "cell_type": "markdown",
   "id": "5722b420-a7fa-4a2b-9ee7-afdb200c981e",
   "metadata": {},
   "source": [
    "Gradients for free! So cool, Pytorch will add the gradients anytime our coefficients are involved in a function and calculate them for us, it will simply add them to the .grad attribute. Lets calculate the loss again and see them double "
   ]
  },
  {
   "cell_type": "code",
   "execution_count": 77,
   "id": "55bfc9bb-faca-4019-822b-0ed875532e0c",
   "metadata": {},
   "outputs": [
    {
     "data": {
      "text/plain": [
       "tensor([ 0.0023,  0.0292,  0.0150, -0.0810, -0.1796,  0.2896, -0.4669,  0.0090,\n",
       "         0.5679, -0.1437, -0.1324,  0.3861])"
      ]
     },
     "execution_count": 77,
     "metadata": {},
     "output_type": "execute_result"
    }
   ],
   "source": [
    "loss = calculate_loss(coefficients,t_independent, t_dep)\n",
    "loss.backward()\n",
    "coefficients.grad"
   ]
  },
  {
   "cell_type": "markdown",
   "id": "78c66ca6-a28c-433c-b86a-db206dae06fb",
   "metadata": {},
   "source": [
    "Perfect, lets now modify our coefficients and zero out our gradients so that they don't keep blowing up/doubling as we keep calculating. Lets also introduce our learning rate that will decide by how much to step our weights against the gradients. We're going to modify our coefficients by subtracting the gradients by the learning rate"
   ]
  },
  {
   "cell_type": "code",
   "execution_count": 78,
   "id": "5915db72-d91c-4d70-abec-103786367f1c",
   "metadata": {},
   "outputs": [
    {
     "name": "stdout",
     "output_type": "stream",
     "text": [
      "tensor(0.4774)\n"
     ]
    }
   ],
   "source": [
    "learning_rate = 0.1\n",
    "\n",
    "loss = calculate_loss(coefficients, t_independent, t_dep)\n",
    "loss.backward()\n",
    "with torch.no_grad():\n",
    "    coefficients.sub_(coefficients.grad * learning_rate)\n",
    "    coefficients.grad.zero_()\n",
    "    print(calculate_loss(coefficients, t_independent, t_dep))"
   ]
  },
  {
   "cell_type": "markdown",
   "id": "1ac5fd96-8282-4be0-8a29-f914672ade60",
   "metadata": {},
   "source": [
    "Our loss went down to .4774 from .5372, its working! We're heading in the right direction"
   ]
  },
  {
   "cell_type": "markdown",
   "id": "aa095198-2ebe-4276-8af7-eb16ceece373",
   "metadata": {},
   "source": [
    "### Training the Linear Model"
   ]
  }
 ],
 "metadata": {
  "kernelspec": {
   "display_name": "Python 3 (ipykernel)",
   "language": "python",
   "name": "python3"
  },
  "language_info": {
   "codemirror_mode": {
    "name": "ipython",
    "version": 3
   },
   "file_extension": ".py",
   "mimetype": "text/x-python",
   "name": "python",
   "nbconvert_exporter": "python",
   "pygments_lexer": "ipython3",
   "version": "3.10.8"
  }
 },
 "nbformat": 4,
 "nbformat_minor": 5
}
