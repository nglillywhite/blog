{
 "cells": [
  {
   "cell_type": "raw",
   "id": "e74da902-e5b7-49c6-b309-208ce9abaa41",
   "metadata": {},
   "source": [
    "---\n",
    "badges: true\n",
    "categories:\n",
    "- jupyter\n",
    "- fastai\n",
    "- ML\n",
    "date: '2023-01-20'\n",
    "description: No Frameworks, No Fluff\n",
    "title: Fastai Lesson 5 | Linear Models & Neural Nets from Scratch\n",
    "author: Nicholas Lillywhite\n",
    "toc: true\n",
    "image: \"images/sig.png\"\n",
    "---"
   ]
  },
  {
   "cell_type": "markdown",
   "id": "88043c35-2674-452d-8bdb-b3bdef2035d7",
   "metadata": {},
   "source": [
    "# Lesson 5 | Linear Models & Neural Nets from Scratch\n",
    "> Building upon Lesson 3 Foundational Concepts\n",
    "\n",
    "> Checkout this notebook in [colab](https://colab.research.google.com/github/nglillywhite/blog/blob/main/posts/2023-01-20-Fastai%20Lesson%205.ipynb)\n",
    "\n",
    "## Lecture Content\n",
    "\n",
    "Now since we've already worked through the [chapter 4](https://github.com/fastai/fastbook/blob/master/04_mnist_basics.ipynb) book content in my lesson 3 blogpost, I won't repeat the work here, [instead I'd recommend you checkout that post](https://nglillywhite.quarto.pub/nicks-blog/posts/2022-12-29-Fastai%20Lesson%203.html#book-content) if you'd like to see the book content that pairs with this week's lecture.\n",
    "\n",
    "### Downloading Data from Kaggle\n",
    "\n",
    "Building upon the concepts and principles we learned in lesson 3, we're going to build our neural net from scratch and run it against the titanic dataset which we can source from kaggle. We can use the python api to select the competition and download all the data to a given path like we have below"
   ]
  },
  {
   "cell_type": "code",
   "execution_count": 5,
   "id": "d0586bd4-4962-4e75-9854-2f40b0ab6a06",
   "metadata": {},
   "outputs": [
    {
     "name": "stdout",
     "output_type": "stream",
     "text": [
      "Downloading titanic.zip to ..\\data\\titanic\n"
     ]
    },
    {
     "name": "stderr",
     "output_type": "stream",
     "text": [
      "100%|█████████████████████████████████████████████████████████████████████████████| 34.1k/34.1k [00:00<00:00, 3.88MB/s]"
     ]
    },
    {
     "name": "stdout",
     "output_type": "stream",
     "text": [
      "\n"
     ]
    },
    {
     "name": "stderr",
     "output_type": "stream",
     "text": [
      "\n"
     ]
    }
   ],
   "source": [
    "import os\n",
    "from pathlib import Path\n",
    "import kaggle\n",
    "import zipfile\n",
    "\n",
    "path = Path(\"../data/titanic\")\n",
    "path.mkdir(exist_ok=True)\n",
    "kaggle.api.competition_download_cli(competition=\"titanic\",\n",
    "                                    path=path)"
   ]
  },
  {
   "cell_type": "markdown",
   "id": "59dc00bf-e3f9-46ad-883e-03940e097bd6",
   "metadata": {},
   "source": [
    "Then we can extract the zip from our path to our path to unpack the contents"
   ]
  },
  {
   "cell_type": "code",
   "execution_count": 8,
   "id": "24dd3ca1-b646-4743-aa1b-bc5f4524c42c",
   "metadata": {},
   "outputs": [],
   "source": [
    "zipfile.ZipFile(f\"{path}\\\\titanic.zip\").extractall(path)"
   ]
  },
  {
   "cell_type": "markdown",
   "id": "597695fd-49fa-48ba-a3ac-feb0f4cb1d33",
   "metadata": {},
   "source": [
    "I'm just importing fastai to get the 'nice' version of Path which allows me to .ls() the directory and see whats inside"
   ]
  },
  {
   "cell_type": "code",
   "execution_count": 11,
   "id": "fb0aab0a-4f1d-48c0-9497-f5e8872be2c1",
   "metadata": {},
   "outputs": [],
   "source": [
    "from fastai.vision.all import *"
   ]
  },
  {
   "cell_type": "code",
   "execution_count": 13,
   "id": "f68c6cd4-1399-406a-b7b2-335871fde134",
   "metadata": {},
   "outputs": [],
   "source": [
    "path = Path(\"../data/titanic\")"
   ]
  },
  {
   "cell_type": "code",
   "execution_count": 14,
   "id": "0afe6a19-e8d7-48ff-b12f-bc2a9cb507cd",
   "metadata": {},
   "outputs": [
    {
     "data": {
      "text/plain": [
       "(#4) [Path('../data/titanic/gender_submission.csv'),Path('../data/titanic/test.csv'),Path('../data/titanic/titanic.zip'),Path('../data/titanic/train.csv')]"
      ]
     },
     "execution_count": 14,
     "metadata": {},
     "output_type": "execute_result"
    }
   ],
   "source": [
    "path.ls()"
   ]
  },
  {
   "cell_type": "markdown",
   "id": "68767c3c-64dc-4dae-91a1-011a4c31e963",
   "metadata": {},
   "source": [
    "Cool, we've got our test, train, and submission csvs as well as the original zip.\n",
    "\n",
    "As mentioned in the lesson, we're going to import pytorch and numpy to work with arrays, and pandas for working with dataframes"
   ]
  },
  {
   "cell_type": "code",
   "execution_count": 15,
   "id": "06c01e64-acf8-44b1-b17b-3151b9d35863",
   "metadata": {},
   "outputs": [],
   "source": [
    "import torch\n",
    "import numpy as np\n",
    "import pandas as pd"
   ]
  },
  {
   "cell_type": "markdown",
   "id": "6e7d40e7-bc83-497a-a6c4-426434cf0aac",
   "metadata": {},
   "source": [
    "### Data Cleaning\n",
    "\n",
    "Lets first do some data cleaning along with the course"
   ]
  },
  {
   "cell_type": "code",
   "execution_count": 18,
   "id": "8facf324-8bb5-4d35-a2c3-830beac86723",
   "metadata": {},
   "outputs": [],
   "source": [
    "df = pd.read_csv(path/\"train.csv\")"
   ]
  },
  {
   "cell_type": "code",
   "execution_count": 19,
   "id": "b9a2c76f-3d34-4f4b-b697-4ad73b3ebfd5",
   "metadata": {},
   "outputs": [
    {
     "data": {
      "text/html": [
       "<div>\n",
       "<style scoped>\n",
       "    .dataframe tbody tr th:only-of-type {\n",
       "        vertical-align: middle;\n",
       "    }\n",
       "\n",
       "    .dataframe tbody tr th {\n",
       "        vertical-align: top;\n",
       "    }\n",
       "\n",
       "    .dataframe thead th {\n",
       "        text-align: right;\n",
       "    }\n",
       "</style>\n",
       "<table border=\"1\" class=\"dataframe\">\n",
       "  <thead>\n",
       "    <tr style=\"text-align: right;\">\n",
       "      <th></th>\n",
       "      <th>PassengerId</th>\n",
       "      <th>Survived</th>\n",
       "      <th>Pclass</th>\n",
       "      <th>Name</th>\n",
       "      <th>Sex</th>\n",
       "      <th>Age</th>\n",
       "      <th>SibSp</th>\n",
       "      <th>Parch</th>\n",
       "      <th>Ticket</th>\n",
       "      <th>Fare</th>\n",
       "      <th>Cabin</th>\n",
       "      <th>Embarked</th>\n",
       "    </tr>\n",
       "  </thead>\n",
       "  <tbody>\n",
       "    <tr>\n",
       "      <th>0</th>\n",
       "      <td>1</td>\n",
       "      <td>0</td>\n",
       "      <td>3</td>\n",
       "      <td>Braund, Mr. Owen Harris</td>\n",
       "      <td>male</td>\n",
       "      <td>22.0</td>\n",
       "      <td>1</td>\n",
       "      <td>0</td>\n",
       "      <td>A/5 21171</td>\n",
       "      <td>7.2500</td>\n",
       "      <td>NaN</td>\n",
       "      <td>S</td>\n",
       "    </tr>\n",
       "    <tr>\n",
       "      <th>1</th>\n",
       "      <td>2</td>\n",
       "      <td>1</td>\n",
       "      <td>1</td>\n",
       "      <td>Cumings, Mrs. John Bradley (Florence Briggs Thayer)</td>\n",
       "      <td>female</td>\n",
       "      <td>38.0</td>\n",
       "      <td>1</td>\n",
       "      <td>0</td>\n",
       "      <td>PC 17599</td>\n",
       "      <td>71.2833</td>\n",
       "      <td>C85</td>\n",
       "      <td>C</td>\n",
       "    </tr>\n",
       "    <tr>\n",
       "      <th>2</th>\n",
       "      <td>3</td>\n",
       "      <td>1</td>\n",
       "      <td>3</td>\n",
       "      <td>Heikkinen, Miss. Laina</td>\n",
       "      <td>female</td>\n",
       "      <td>26.0</td>\n",
       "      <td>0</td>\n",
       "      <td>0</td>\n",
       "      <td>STON/O2. 3101282</td>\n",
       "      <td>7.9250</td>\n",
       "      <td>NaN</td>\n",
       "      <td>S</td>\n",
       "    </tr>\n",
       "    <tr>\n",
       "      <th>3</th>\n",
       "      <td>4</td>\n",
       "      <td>1</td>\n",
       "      <td>1</td>\n",
       "      <td>Futrelle, Mrs. Jacques Heath (Lily May Peel)</td>\n",
       "      <td>female</td>\n",
       "      <td>35.0</td>\n",
       "      <td>1</td>\n",
       "      <td>0</td>\n",
       "      <td>113803</td>\n",
       "      <td>53.1000</td>\n",
       "      <td>C123</td>\n",
       "      <td>S</td>\n",
       "    </tr>\n",
       "    <tr>\n",
       "      <th>4</th>\n",
       "      <td>5</td>\n",
       "      <td>0</td>\n",
       "      <td>3</td>\n",
       "      <td>Allen, Mr. William Henry</td>\n",
       "      <td>male</td>\n",
       "      <td>35.0</td>\n",
       "      <td>0</td>\n",
       "      <td>0</td>\n",
       "      <td>373450</td>\n",
       "      <td>8.0500</td>\n",
       "      <td>NaN</td>\n",
       "      <td>S</td>\n",
       "    </tr>\n",
       "  </tbody>\n",
       "</table>\n",
       "</div>"
      ],
      "text/plain": [
       "   PassengerId  Survived  Pclass  \\\n",
       "0            1         0       3   \n",
       "1            2         1       1   \n",
       "2            3         1       3   \n",
       "3            4         1       1   \n",
       "4            5         0       3   \n",
       "\n",
       "                                                  Name     Sex   Age  SibSp  \\\n",
       "0                              Braund, Mr. Owen Harris    male  22.0      1   \n",
       "1  Cumings, Mrs. John Bradley (Florence Briggs Thayer)  female  38.0      1   \n",
       "2                               Heikkinen, Miss. Laina  female  26.0      0   \n",
       "3         Futrelle, Mrs. Jacques Heath (Lily May Peel)  female  35.0      1   \n",
       "4                             Allen, Mr. William Henry    male  35.0      0   \n",
       "\n",
       "   Parch            Ticket     Fare Cabin Embarked  \n",
       "0      0         A/5 21171   7.2500   NaN        S  \n",
       "1      0          PC 17599  71.2833   C85        C  \n",
       "2      0  STON/O2. 3101282   7.9250   NaN        S  \n",
       "3      0            113803  53.1000  C123        S  \n",
       "4      0            373450   8.0500   NaN        S  "
      ]
     },
     "execution_count": 19,
     "metadata": {},
     "output_type": "execute_result"
    }
   ],
   "source": [
    "df.head()"
   ]
  },
  {
   "cell_type": "markdown",
   "id": "86e51eb8-8688-431c-acff-b3328c8d16ba",
   "metadata": {},
   "source": [
    "As we learned in lesson 3, we want to apply all our inputs by some weights and biases, but if we look at the 'Cabin' column there are some 'NaN' values, or \"Not a Number\" values, we've got to change this to something computable for our model to work. Lets checkout how many NaNs are there in the whole dataset"
   ]
  },
  {
   "cell_type": "code",
   "execution_count": 20,
   "id": "21b25d1a-0557-4789-b741-7d75e24462e9",
   "metadata": {},
   "outputs": [
    {
     "data": {
      "text/plain": [
       "PassengerId      0\n",
       "Survived         0\n",
       "Pclass           0\n",
       "Name             0\n",
       "Sex              0\n",
       "Age            177\n",
       "SibSp            0\n",
       "Parch            0\n",
       "Ticket           0\n",
       "Fare             0\n",
       "Cabin          687\n",
       "Embarked         2\n",
       "dtype: int64"
      ]
     },
     "execution_count": 20,
     "metadata": {},
     "output_type": "execute_result"
    }
   ],
   "source": [
    "df.isna().sum()"
   ]
  },
  {
   "cell_type": "markdown",
   "id": "f27ab450-6a0a-4f05-a4b1-a6b4aad23162",
   "metadata": {},
   "source": [
    "Ok it looks like only Age and Cabin have NaN values that we need to handle. One strategy for imputing missing values is replacing them with the 'mode', or the most commonly occuring value already present in the array, lets checkout the mode."
   ]
  },
  {
   "cell_type": "code",
   "execution_count": 25,
   "id": "4b456bd9-9702-4286-a786-8c3b4d38f232",
   "metadata": {},
   "outputs": [
    {
     "data": {
      "text/plain": [
       "PassengerId                      1\n",
       "Survived                       0.0\n",
       "Pclass                         3.0\n",
       "Name           Abbing, Mr. Anthony\n",
       "Sex                           male\n",
       "Age                           24.0\n",
       "SibSp                          0.0\n",
       "Parch                          0.0\n",
       "Ticket                        1601\n",
       "Fare                          8.05\n",
       "Cabin                      B96 B98\n",
       "Embarked                         S\n",
       "Name: 0, dtype: object"
      ]
     },
     "execution_count": 25,
     "metadata": {},
     "output_type": "execute_result"
    }
   ],
   "source": [
    "modes = df.mode().iloc[0]\n",
    "modes"
   ]
  },
  {
   "cell_type": "markdown",
   "id": "a91d8b29-9532-4f41-ad35-74ed6bdd8a72",
   "metadata": {},
   "source": [
    "We can now fill the columns with the most commonly occuring values that we grabbed from above"
   ]
  },
  {
   "cell_type": "code",
   "execution_count": 26,
   "id": "95f1fac0-954c-4be1-9fcc-2a0a370ba0f1",
   "metadata": {},
   "outputs": [],
   "source": [
    "df.fillna(modes, inplace=True)"
   ]
  },
  {
   "cell_type": "markdown",
   "id": "bbe3b9ee-5ea6-44f6-9e94-0ad54e000009",
   "metadata": {},
   "source": [
    "Any empties left? Lets look"
   ]
  },
  {
   "cell_type": "code",
   "execution_count": 28,
   "id": "4a5dbf54-848b-454b-8216-c429a2a10bd0",
   "metadata": {},
   "outputs": [
    {
     "data": {
      "text/plain": [
       "PassengerId    0\n",
       "Survived       0\n",
       "Pclass         0\n",
       "Name           0\n",
       "Sex            0\n",
       "Age            0\n",
       "SibSp          0\n",
       "Parch          0\n",
       "Ticket         0\n",
       "Fare           0\n",
       "Cabin          0\n",
       "Embarked       0\n",
       "dtype: int64"
      ]
     },
     "execution_count": 28,
     "metadata": {},
     "output_type": "execute_result"
    }
   ],
   "source": [
    "df.isna().sum()"
   ]
  },
  {
   "cell_type": "markdown",
   "id": "31d76e06-a5b5-4db7-9763-56201841a359",
   "metadata": {},
   "source": [
    "The pandas describe() function is a really cool way to investigate either all or certain datatypes, combine this with numpy's types and we can get specifically all the numeric data types by using the np.number base class and the describe() method"
   ]
  },
  {
   "cell_type": "code",
   "execution_count": 31,
   "id": "a0d709d0-23c1-4d7e-a32c-c84c3c10ffeb",
   "metadata": {},
   "outputs": [
    {
     "data": {
      "text/plain": [
       "\u001b[1;31mInit signature:\u001b[0m \u001b[0mnp\u001b[0m\u001b[1;33m.\u001b[0m\u001b[0mnumber\u001b[0m\u001b[1;33m(\u001b[0m\u001b[1;33m)\u001b[0m\u001b[1;33m\u001b[0m\u001b[1;33m\u001b[0m\u001b[0m\n",
       "\u001b[1;31mDocstring:\u001b[0m      Abstract base class of all numeric scalar types.\n",
       "\u001b[1;31mFile:\u001b[0m           c:\\users\\nick\\anaconda3\\envs\\fastai\\lib\\site-packages\\numpy\\__init__.py\n",
       "\u001b[1;31mType:\u001b[0m           type\n",
       "\u001b[1;31mSubclasses:\u001b[0m     integer, inexact\n"
      ]
     },
     "metadata": {},
     "output_type": "display_data"
    }
   ],
   "source": [
    "np.number?"
   ]
  },
  {
   "cell_type": "code",
   "execution_count": 29,
   "id": "77ad2995-46e0-41e0-8df9-6c3f72c66052",
   "metadata": {},
   "outputs": [
    {
     "data": {
      "text/html": [
       "<div>\n",
       "<style scoped>\n",
       "    .dataframe tbody tr th:only-of-type {\n",
       "        vertical-align: middle;\n",
       "    }\n",
       "\n",
       "    .dataframe tbody tr th {\n",
       "        vertical-align: top;\n",
       "    }\n",
       "\n",
       "    .dataframe thead th {\n",
       "        text-align: right;\n",
       "    }\n",
       "</style>\n",
       "<table border=\"1\" class=\"dataframe\">\n",
       "  <thead>\n",
       "    <tr style=\"text-align: right;\">\n",
       "      <th></th>\n",
       "      <th>PassengerId</th>\n",
       "      <th>Survived</th>\n",
       "      <th>Pclass</th>\n",
       "      <th>Age</th>\n",
       "      <th>SibSp</th>\n",
       "      <th>Parch</th>\n",
       "      <th>Fare</th>\n",
       "    </tr>\n",
       "  </thead>\n",
       "  <tbody>\n",
       "    <tr>\n",
       "      <th>count</th>\n",
       "      <td>891.000000</td>\n",
       "      <td>891.000000</td>\n",
       "      <td>891.000000</td>\n",
       "      <td>891.000000</td>\n",
       "      <td>891.000000</td>\n",
       "      <td>891.000000</td>\n",
       "      <td>891.000000</td>\n",
       "    </tr>\n",
       "    <tr>\n",
       "      <th>mean</th>\n",
       "      <td>446.000000</td>\n",
       "      <td>0.383838</td>\n",
       "      <td>2.308642</td>\n",
       "      <td>28.566970</td>\n",
       "      <td>0.523008</td>\n",
       "      <td>0.381594</td>\n",
       "      <td>32.204208</td>\n",
       "    </tr>\n",
       "    <tr>\n",
       "      <th>std</th>\n",
       "      <td>257.353842</td>\n",
       "      <td>0.486592</td>\n",
       "      <td>0.836071</td>\n",
       "      <td>13.199572</td>\n",
       "      <td>1.102743</td>\n",
       "      <td>0.806057</td>\n",
       "      <td>49.693429</td>\n",
       "    </tr>\n",
       "    <tr>\n",
       "      <th>min</th>\n",
       "      <td>1.000000</td>\n",
       "      <td>0.000000</td>\n",
       "      <td>1.000000</td>\n",
       "      <td>0.420000</td>\n",
       "      <td>0.000000</td>\n",
       "      <td>0.000000</td>\n",
       "      <td>0.000000</td>\n",
       "    </tr>\n",
       "    <tr>\n",
       "      <th>25%</th>\n",
       "      <td>223.500000</td>\n",
       "      <td>0.000000</td>\n",
       "      <td>2.000000</td>\n",
       "      <td>22.000000</td>\n",
       "      <td>0.000000</td>\n",
       "      <td>0.000000</td>\n",
       "      <td>7.910400</td>\n",
       "    </tr>\n",
       "    <tr>\n",
       "      <th>50%</th>\n",
       "      <td>446.000000</td>\n",
       "      <td>0.000000</td>\n",
       "      <td>3.000000</td>\n",
       "      <td>24.000000</td>\n",
       "      <td>0.000000</td>\n",
       "      <td>0.000000</td>\n",
       "      <td>14.454200</td>\n",
       "    </tr>\n",
       "    <tr>\n",
       "      <th>75%</th>\n",
       "      <td>668.500000</td>\n",
       "      <td>1.000000</td>\n",
       "      <td>3.000000</td>\n",
       "      <td>35.000000</td>\n",
       "      <td>1.000000</td>\n",
       "      <td>0.000000</td>\n",
       "      <td>31.000000</td>\n",
       "    </tr>\n",
       "    <tr>\n",
       "      <th>max</th>\n",
       "      <td>891.000000</td>\n",
       "      <td>1.000000</td>\n",
       "      <td>3.000000</td>\n",
       "      <td>80.000000</td>\n",
       "      <td>8.000000</td>\n",
       "      <td>6.000000</td>\n",
       "      <td>512.329200</td>\n",
       "    </tr>\n",
       "  </tbody>\n",
       "</table>\n",
       "</div>"
      ],
      "text/plain": [
       "       PassengerId    Survived      Pclass         Age       SibSp  \\\n",
       "count   891.000000  891.000000  891.000000  891.000000  891.000000   \n",
       "mean    446.000000    0.383838    2.308642   28.566970    0.523008   \n",
       "std     257.353842    0.486592    0.836071   13.199572    1.102743   \n",
       "min       1.000000    0.000000    1.000000    0.420000    0.000000   \n",
       "25%     223.500000    0.000000    2.000000   22.000000    0.000000   \n",
       "50%     446.000000    0.000000    3.000000   24.000000    0.000000   \n",
       "75%     668.500000    1.000000    3.000000   35.000000    1.000000   \n",
       "max     891.000000    1.000000    3.000000   80.000000    8.000000   \n",
       "\n",
       "            Parch        Fare  \n",
       "count  891.000000  891.000000  \n",
       "mean     0.381594   32.204208  \n",
       "std      0.806057   49.693429  \n",
       "min      0.000000    0.000000  \n",
       "25%      0.000000    7.910400  \n",
       "50%      0.000000   14.454200  \n",
       "75%      0.000000   31.000000  \n",
       "max      6.000000  512.329200  "
      ]
     },
     "execution_count": 29,
     "metadata": {},
     "output_type": "execute_result"
    }
   ],
   "source": [
    "df.describe(include=np.number)"
   ]
  },
  {
   "cell_type": "markdown",
   "id": "b6ac4568-8a12-4f5c-a4b2-a141d747b696",
   "metadata": {},
   "source": [
    "Ok we can see that fare has 75% of fares under \\\\$31 but a mean of \\\\$32 and a max of $512, this would lead us to thinking there's quite a skewed distribution. This kind of skewness will bias our weights to these large values when we don't really want them to, lets have a look at the distribution."
   ]
  },
  {
   "cell_type": "code",
   "execution_count": 33,
   "id": "a15f2311-1bd2-40aa-858d-082fe58de0bf",
   "metadata": {},
   "outputs": [
    {
     "data": {
      "text/plain": [
       "<AxesSubplot: >"
      ]
     },
     "execution_count": 33,
     "metadata": {},
     "output_type": "execute_result"
    },
    {
     "data": {
      "image/png": "[encoded data removed]",
      "text/plain": [
       "<Figure size 640x480 with 1 Axes>"
      ]
     },
     "metadata": {},
     "output_type": "display_data"
    }
   ],
   "source": [
    "df.Fare.hist()"
   ]
  },
  {
   "cell_type": "markdown",
   "id": "b21189d5-35c6-4101-9a60-dd43272de80f",
   "metadata": {},
   "source": [
    "Super skewed! Almost all the values are below 50, yet we go up to ~\\\\$500 in this graph. What we can do to distribute these values more normally is take the log of the array which will squish down these massive numbers and not fetter with the lower values too much. Also we're adding 1 to all values since there are some 0 fares and log(0) is infinity."
   ]
  },
  {
   "cell_type": "code",
   "execution_count": 35,
   "id": "2332a505-8005-4722-81c1-54f4c60ad032",
   "metadata": {},
   "outputs": [],
   "source": [
    "df[\"LogFare\"] = np.log(df.Fare+1)"
   ]
  },
  {
   "cell_type": "code",
   "execution_count": 36,
   "id": "0b3b8f69-c444-4eda-ba70-478a8c748ac7",
   "metadata": {},
   "outputs": [
    {
     "data": {
      "text/plain": [
       "<AxesSubplot: >"
      ]
     },
     "execution_count": 36,
     "metadata": {},
     "output_type": "execute_result"
    },
    {
     "data": {
      "image/png": "[encoded data removed]",
      "text/plain": [
       "<Figure size 640x480 with 1 Axes>"
      ]
     },
     "metadata": {},
     "output_type": "display_data"
    }
   ],
   "source": [
    "df.LogFare.hist()"
   ]
  },
  {
   "cell_type": "markdown",
   "id": "47ecc43d-6912-4b1a-a2ee-86dd07e7ed3a",
   "metadata": {},
   "source": [
    "That looks way better, sure its not perfect but everything is a more manageable value and we can definitely see a reduced skew.\n",
    "\n",
    "Lets checkout the other columns"
   ]
  },
  {
   "cell_type": "code",
   "execution_count": 41,
   "id": "7582d91c-82be-4214-b015-abdb8b0ab512",
   "metadata": {},
   "outputs": [
    {
     "data": {
      "text/html": [
       "<div>\n",
       "<style scoped>\n",
       "    .dataframe tbody tr th:only-of-type {\n",
       "        vertical-align: middle;\n",
       "    }\n",
       "\n",
       "    .dataframe tbody tr th {\n",
       "        vertical-align: top;\n",
       "    }\n",
       "\n",
       "    .dataframe thead th {\n",
       "        text-align: right;\n",
       "    }\n",
       "</style>\n",
       "<table border=\"1\" class=\"dataframe\">\n",
       "  <thead>\n",
       "    <tr style=\"text-align: right;\">\n",
       "      <th></th>\n",
       "      <th>PassengerId</th>\n",
       "      <th>Survived</th>\n",
       "      <th>Pclass</th>\n",
       "      <th>Age</th>\n",
       "      <th>SibSp</th>\n",
       "      <th>Parch</th>\n",
       "      <th>Fare</th>\n",
       "      <th>LogFare</th>\n",
       "    </tr>\n",
       "  </thead>\n",
       "  <tbody>\n",
       "    <tr>\n",
       "      <th>count</th>\n",
       "      <td>891.000000</td>\n",
       "      <td>891.000000</td>\n",
       "      <td>891.000000</td>\n",
       "      <td>891.000000</td>\n",
       "      <td>891.000000</td>\n",
       "      <td>891.000000</td>\n",
       "      <td>891.000000</td>\n",
       "      <td>891.000000</td>\n",
       "    </tr>\n",
       "    <tr>\n",
       "      <th>mean</th>\n",
       "      <td>446.000000</td>\n",
       "      <td>0.383838</td>\n",
       "      <td>2.308642</td>\n",
       "      <td>28.566970</td>\n",
       "      <td>0.523008</td>\n",
       "      <td>0.381594</td>\n",
       "      <td>32.204208</td>\n",
       "      <td>2.962246</td>\n",
       "    </tr>\n",
       "    <tr>\n",
       "      <th>std</th>\n",
       "      <td>257.353842</td>\n",
       "      <td>0.486592</td>\n",
       "      <td>0.836071</td>\n",
       "      <td>13.199572</td>\n",
       "      <td>1.102743</td>\n",
       "      <td>0.806057</td>\n",
       "      <td>49.693429</td>\n",
       "      <td>0.969048</td>\n",
       "    </tr>\n",
       "    <tr>\n",
       "      <th>min</th>\n",
       "      <td>1.000000</td>\n",
       "      <td>0.000000</td>\n",
       "      <td>1.000000</td>\n",
       "      <td>0.420000</td>\n",
       "      <td>0.000000</td>\n",
       "      <td>0.000000</td>\n",
       "      <td>0.000000</td>\n",
       "      <td>0.000000</td>\n",
       "    </tr>\n",
       "    <tr>\n",
       "      <th>25%</th>\n",
       "      <td>223.500000</td>\n",
       "      <td>0.000000</td>\n",
       "      <td>2.000000</td>\n",
       "      <td>22.000000</td>\n",
       "      <td>0.000000</td>\n",
       "      <td>0.000000</td>\n",
       "      <td>7.910400</td>\n",
       "      <td>2.187218</td>\n",
       "    </tr>\n",
       "    <tr>\n",
       "      <th>50%</th>\n",
       "      <td>446.000000</td>\n",
       "      <td>0.000000</td>\n",
       "      <td>3.000000</td>\n",
       "      <td>24.000000</td>\n",
       "      <td>0.000000</td>\n",
       "      <td>0.000000</td>\n",
       "      <td>14.454200</td>\n",
       "      <td>2.737881</td>\n",
       "    </tr>\n",
       "    <tr>\n",
       "      <th>75%</th>\n",
       "      <td>668.500000</td>\n",
       "      <td>1.000000</td>\n",
       "      <td>3.000000</td>\n",
       "      <td>35.000000</td>\n",
       "      <td>1.000000</td>\n",
       "      <td>0.000000</td>\n",
       "      <td>31.000000</td>\n",
       "      <td>3.465736</td>\n",
       "    </tr>\n",
       "    <tr>\n",
       "      <th>max</th>\n",
       "      <td>891.000000</td>\n",
       "      <td>1.000000</td>\n",
       "      <td>3.000000</td>\n",
       "      <td>80.000000</td>\n",
       "      <td>8.000000</td>\n",
       "      <td>6.000000</td>\n",
       "      <td>512.329200</td>\n",
       "      <td>6.240917</td>\n",
       "    </tr>\n",
       "  </tbody>\n",
       "</table>\n",
       "</div>"
      ],
      "text/plain": [
       "       PassengerId    Survived      Pclass         Age       SibSp  \\\n",
       "count   891.000000  891.000000  891.000000  891.000000  891.000000   \n",
       "mean    446.000000    0.383838    2.308642   28.566970    0.523008   \n",
       "std     257.353842    0.486592    0.836071   13.199572    1.102743   \n",
       "min       1.000000    0.000000    1.000000    0.420000    0.000000   \n",
       "25%     223.500000    0.000000    2.000000   22.000000    0.000000   \n",
       "50%     446.000000    0.000000    3.000000   24.000000    0.000000   \n",
       "75%     668.500000    1.000000    3.000000   35.000000    1.000000   \n",
       "max     891.000000    1.000000    3.000000   80.000000    8.000000   \n",
       "\n",
       "            Parch        Fare     LogFare  \n",
       "count  891.000000  891.000000  891.000000  \n",
       "mean     0.381594   32.204208    2.962246  \n",
       "std      0.806057   49.693429    0.969048  \n",
       "min      0.000000    0.000000    0.000000  \n",
       "25%      0.000000    7.910400    2.187218  \n",
       "50%      0.000000   14.454200    2.737881  \n",
       "75%      0.000000   31.000000    3.465736  \n",
       "max      6.000000  512.329200    6.240917  "
      ]
     },
     "execution_count": 41,
     "metadata": {},
     "output_type": "execute_result"
    }
   ],
   "source": [
    "df.describe()"
   ]
  },
  {
   "cell_type": "markdown",
   "id": "0baed9e9-dfc6-46c4-8f73-dff5d9516a39",
   "metadata": {},
   "source": [
    "PClass also seems to only have three classes, which is actually outlined to us in the competition guidelines, we could also look at the histogram to see."
   ]
  },
  {
   "cell_type": "code",
   "execution_count": 43,
   "id": "dc57c352-7aa3-4f6b-bc71-52ca42364350",
   "metadata": {},
   "outputs": [
    {
     "data": {
      "text/plain": [
       "<AxesSubplot: >"
      ]
     },
     "execution_count": 43,
     "metadata": {},
     "output_type": "execute_result"
    },
    {
     "data": {
      "image/png": "[encoded data removed]",
      "text/plain": [
       "<Figure size 640x480 with 1 Axes>"
      ]
     },
     "metadata": {},
     "output_type": "display_data"
    }
   ],
   "source": [
    "df.Pclass.hist()"
   ]
  },
  {
   "cell_type": "markdown",
   "id": "b8337fac-8381-41ef-a532-f86411dd6860",
   "metadata": {},
   "source": [
    "Thats not continuous at all, we can also use the unique() method on the pandas dataframe"
   ]
  },
  {
   "cell_type": "code",
   "execution_count": 44,
   "id": "d8c2ca35-25a1-411a-ba27-074b7d7bceeb",
   "metadata": {},
   "outputs": [
    {
     "data": {
      "text/plain": [
       "array([3, 1, 2], dtype=int64)"
      ]
     },
     "execution_count": 44,
     "metadata": {},
     "output_type": "execute_result"
    }
   ],
   "source": [
    "df.Pclass.unique()"
   ]
  },
  {
   "cell_type": "code",
   "execution_count": 45,
   "id": "3ba89a29-ec53-4ad6-b0d7-56c05c0456c6",
   "metadata": {},
   "outputs": [
    {
     "data": {
      "text/plain": [
       "[1, 2, 3]"
      ]
     },
     "execution_count": 45,
     "metadata": {},
     "output_type": "execute_result"
    }
   ],
   "source": [
    "pclasses = sorted(df.Pclass.unique())\n",
    "pclasses"
   ]
  },
  {
   "cell_type": "markdown",
   "id": "d75f5826-6fbc-465b-9179-522fec4f3fe6",
   "metadata": {},
   "source": [
    "Ok now lets checkout the non numeric values, which we'll have to represent numerically somehow since we need to be able to multiply them by our weights and biases. A simple way to do this is one-hot-encoding them, also known as making 'dummy' values which creates a binary column each for 'n' classes and then a 0 or 1 in each column if that class is observed. You can technically do n-1 classes since if all the binary columns are 0 then you've technically observed the last column but most often you'll explicitly express each column."
   ]
  },
  {
   "cell_type": "code",
   "execution_count": 46,
   "id": "e02214fd-571a-4f7f-94c4-ad4d72805501",
   "metadata": {},
   "outputs": [
    {
     "data": {
      "text/html": [
       "<div>\n",
       "<style scoped>\n",
       "    .dataframe tbody tr th:only-of-type {\n",
       "        vertical-align: middle;\n",
       "    }\n",
       "\n",
       "    .dataframe tbody tr th {\n",
       "        vertical-align: top;\n",
       "    }\n",
       "\n",
       "    .dataframe thead th {\n",
       "        text-align: right;\n",
       "    }\n",
       "</style>\n",
       "<table border=\"1\" class=\"dataframe\">\n",
       "  <thead>\n",
       "    <tr style=\"text-align: right;\">\n",
       "      <th></th>\n",
       "      <th>Name</th>\n",
       "      <th>Sex</th>\n",
       "      <th>Ticket</th>\n",
       "      <th>Cabin</th>\n",
       "      <th>Embarked</th>\n",
       "    </tr>\n",
       "  </thead>\n",
       "  <tbody>\n",
       "    <tr>\n",
       "      <th>count</th>\n",
       "      <td>891</td>\n",
       "      <td>891</td>\n",
       "      <td>891</td>\n",
       "      <td>891</td>\n",
       "      <td>891</td>\n",
       "    </tr>\n",
       "    <tr>\n",
       "      <th>unique</th>\n",
       "      <td>891</td>\n",
       "      <td>2</td>\n",
       "      <td>681</td>\n",
       "      <td>147</td>\n",
       "      <td>3</td>\n",
       "    </tr>\n",
       "    <tr>\n",
       "      <th>top</th>\n",
       "      <td>Braund, Mr. Owen Harris</td>\n",
       "      <td>male</td>\n",
       "      <td>347082</td>\n",
       "      <td>B96 B98</td>\n",
       "      <td>S</td>\n",
       "    </tr>\n",
       "    <tr>\n",
       "      <th>freq</th>\n",
       "      <td>1</td>\n",
       "      <td>577</td>\n",
       "      <td>7</td>\n",
       "      <td>691</td>\n",
       "      <td>646</td>\n",
       "    </tr>\n",
       "  </tbody>\n",
       "</table>\n",
       "</div>"
      ],
      "text/plain": [
       "                           Name   Sex  Ticket    Cabin Embarked\n",
       "count                       891   891     891      891      891\n",
       "unique                      891     2     681      147        3\n",
       "top     Braund, Mr. Owen Harris  male  347082  B96 B98        S\n",
       "freq                          1   577       7      691      646"
      ]
     },
     "execution_count": 46,
     "metadata": {},
     "output_type": "execute_result"
    }
   ],
   "source": [
    "df.describe(include=[object])"
   ]
  },
  {
   "cell_type": "code",
   "execution_count": 50,
   "id": "7dd4d77e-3615-4fd2-b50c-f5a678996798",
   "metadata": {},
   "outputs": [
    {
     "data": {
      "text/html": [
       "<div>\n",
       "<style scoped>\n",
       "    .dataframe tbody tr th:only-of-type {\n",
       "        vertical-align: middle;\n",
       "    }\n",
       "\n",
       "    .dataframe tbody tr th {\n",
       "        vertical-align: top;\n",
       "    }\n",
       "\n",
       "    .dataframe thead th {\n",
       "        text-align: right;\n",
       "    }\n",
       "</style>\n",
       "<table border=\"1\" class=\"dataframe\">\n",
       "  <thead>\n",
       "    <tr style=\"text-align: right;\">\n",
       "      <th></th>\n",
       "      <th>PassengerId</th>\n",
       "      <th>Survived</th>\n",
       "      <th>Name</th>\n",
       "      <th>Age</th>\n",
       "      <th>SibSp</th>\n",
       "      <th>Parch</th>\n",
       "      <th>Ticket</th>\n",
       "      <th>Fare</th>\n",
       "      <th>Cabin</th>\n",
       "      <th>LogFare</th>\n",
       "      <th>Sex_female</th>\n",
       "      <th>Sex_male</th>\n",
       "      <th>Pclass_1</th>\n",
       "      <th>Pclass_2</th>\n",
       "      <th>Pclass_3</th>\n",
       "      <th>Embarked_C</th>\n",
       "      <th>Embarked_Q</th>\n",
       "      <th>Embarked_S</th>\n",
       "    </tr>\n",
       "  </thead>\n",
       "  <tbody>\n",
       "    <tr>\n",
       "      <th>0</th>\n",
       "      <td>1</td>\n",
       "      <td>0</td>\n",
       "      <td>Braund, Mr. Owen Harris</td>\n",
       "      <td>22.0</td>\n",
       "      <td>1</td>\n",
       "      <td>0</td>\n",
       "      <td>A/5 21171</td>\n",
       "      <td>7.2500</td>\n",
       "      <td>B96 B98</td>\n",
       "      <td>2.110213</td>\n",
       "      <td>0</td>\n",
       "      <td>1</td>\n",
       "      <td>0</td>\n",
       "      <td>0</td>\n",
       "      <td>1</td>\n",
       "      <td>0</td>\n",
       "      <td>0</td>\n",
       "      <td>1</td>\n",
       "    </tr>\n",
       "    <tr>\n",
       "      <th>1</th>\n",
       "      <td>2</td>\n",
       "      <td>1</td>\n",
       "      <td>Cumings, Mrs. John Bradley (Florence Briggs Thayer)</td>\n",
       "      <td>38.0</td>\n",
       "      <td>1</td>\n",
       "      <td>0</td>\n",
       "      <td>PC 17599</td>\n",
       "      <td>71.2833</td>\n",
       "      <td>C85</td>\n",
       "      <td>4.280593</td>\n",
       "      <td>1</td>\n",
       "      <td>0</td>\n",
       "      <td>1</td>\n",
       "      <td>0</td>\n",
       "      <td>0</td>\n",
       "      <td>1</td>\n",
       "      <td>0</td>\n",
       "      <td>0</td>\n",
       "    </tr>\n",
       "    <tr>\n",
       "      <th>2</th>\n",
       "      <td>3</td>\n",
       "      <td>1</td>\n",
       "      <td>Heikkinen, Miss. Laina</td>\n",
       "      <td>26.0</td>\n",
       "      <td>0</td>\n",
       "      <td>0</td>\n",
       "      <td>STON/O2. 3101282</td>\n",
       "      <td>7.9250</td>\n",
       "      <td>B96 B98</td>\n",
       "      <td>2.188856</td>\n",
       "      <td>1</td>\n",
       "      <td>0</td>\n",
       "      <td>0</td>\n",
       "      <td>0</td>\n",
       "      <td>1</td>\n",
       "      <td>0</td>\n",
       "      <td>0</td>\n",
       "      <td>1</td>\n",
       "    </tr>\n",
       "    <tr>\n",
       "      <th>3</th>\n",
       "      <td>4</td>\n",
       "      <td>1</td>\n",
       "      <td>Futrelle, Mrs. Jacques Heath (Lily May Peel)</td>\n",
       "      <td>35.0</td>\n",
       "      <td>1</td>\n",
       "      <td>0</td>\n",
       "      <td>113803</td>\n",
       "      <td>53.1000</td>\n",
       "      <td>C123</td>\n",
       "      <td>3.990834</td>\n",
       "      <td>1</td>\n",
       "      <td>0</td>\n",
       "      <td>1</td>\n",
       "      <td>0</td>\n",
       "      <td>0</td>\n",
       "      <td>0</td>\n",
       "      <td>0</td>\n",
       "      <td>1</td>\n",
       "    </tr>\n",
       "    <tr>\n",
       "      <th>4</th>\n",
       "      <td>5</td>\n",
       "      <td>0</td>\n",
       "      <td>Allen, Mr. William Henry</td>\n",
       "      <td>35.0</td>\n",
       "      <td>0</td>\n",
       "      <td>0</td>\n",
       "      <td>373450</td>\n",
       "      <td>8.0500</td>\n",
       "      <td>B96 B98</td>\n",
       "      <td>2.202765</td>\n",
       "      <td>0</td>\n",
       "      <td>1</td>\n",
       "      <td>0</td>\n",
       "      <td>0</td>\n",
       "      <td>1</td>\n",
       "      <td>0</td>\n",
       "      <td>0</td>\n",
       "      <td>1</td>\n",
       "    </tr>\n",
       "  </tbody>\n",
       "</table>\n",
       "</div>"
      ],
      "text/plain": [
       "   PassengerId  Survived                                                 Name  \\\n",
       "0            1         0                              Braund, Mr. Owen Harris   \n",
       "1            2         1  Cumings, Mrs. John Bradley (Florence Briggs Thayer)   \n",
       "2            3         1                               Heikkinen, Miss. Laina   \n",
       "3            4         1         Futrelle, Mrs. Jacques Heath (Lily May Peel)   \n",
       "4            5         0                             Allen, Mr. William Henry   \n",
       "\n",
       "    Age  SibSp  Parch            Ticket     Fare    Cabin   LogFare  \\\n",
       "0  22.0      1      0         A/5 21171   7.2500  B96 B98  2.110213   \n",
       "1  38.0      1      0          PC 17599  71.2833      C85  4.280593   \n",
       "2  26.0      0      0  STON/O2. 3101282   7.9250  B96 B98  2.188856   \n",
       "3  35.0      1      0            113803  53.1000     C123  3.990834   \n",
       "4  35.0      0      0            373450   8.0500  B96 B98  2.202765   \n",
       "\n",
       "   Sex_female  Sex_male  Pclass_1  Pclass_2  Pclass_3  Embarked_C  Embarked_Q  \\\n",
       "0           0         1         0         0         1           0           0   \n",
       "1           1         0         1         0         0           1           0   \n",
       "2           1         0         0         0         1           0           0   \n",
       "3           1         0         1         0         0           0           0   \n",
       "4           0         1         0         0         1           0           0   \n",
       "\n",
       "   Embarked_S  \n",
       "0           1  \n",
       "1           0  \n",
       "2           1  \n",
       "3           1  \n",
       "4           1  "
      ]
     },
     "execution_count": 50,
     "metadata": {},
     "output_type": "execute_result"
    }
   ],
   "source": [
    "df = pd.get_dummies(df,columns=[\"Sex\",\"Pclass\",\"Embarked\"])\n",
    "df.head()"
   ]
  },
  {
   "cell_type": "markdown",
   "id": "6e4661c2-b0d8-4abd-9e9e-2c606b9325ef",
   "metadata": {},
   "source": [
    "Ok we can see some new columns being added, with the structure of 'originalColumn_classObservation', for example 'Sex_female'. Lets grab these added columns specifically."
   ]
  },
  {
   "cell_type": "code",
   "execution_count": 58,
   "id": "de87d3c0-efe4-4f69-889b-4072fc3b93f4",
   "metadata": {},
   "outputs": [
    {
     "data": {
      "text/html": [
       "<div>\n",
       "<style scoped>\n",
       "    .dataframe tbody tr th:only-of-type {\n",
       "        vertical-align: middle;\n",
       "    }\n",
       "\n",
       "    .dataframe tbody tr th {\n",
       "        vertical-align: top;\n",
       "    }\n",
       "\n",
       "    .dataframe thead th {\n",
       "        text-align: right;\n",
       "    }\n",
       "</style>\n",
       "<table border=\"1\" class=\"dataframe\">\n",
       "  <thead>\n",
       "    <tr style=\"text-align: right;\">\n",
       "      <th></th>\n",
       "      <th>Sex_female</th>\n",
       "      <th>Sex_male</th>\n",
       "      <th>Pclass_1</th>\n",
       "      <th>Pclass_2</th>\n",
       "      <th>Pclass_3</th>\n",
       "      <th>Embarked_C</th>\n",
       "      <th>Embarked_Q</th>\n",
       "      <th>Embarked_S</th>\n",
       "    </tr>\n",
       "  </thead>\n",
       "  <tbody>\n",
       "    <tr>\n",
       "      <th>0</th>\n",
       "      <td>0</td>\n",
       "      <td>1</td>\n",
       "      <td>0</td>\n",
       "      <td>0</td>\n",
       "      <td>1</td>\n",
       "      <td>0</td>\n",
       "      <td>0</td>\n",
       "      <td>1</td>\n",
       "    </tr>\n",
       "    <tr>\n",
       "      <th>1</th>\n",
       "      <td>1</td>\n",
       "      <td>0</td>\n",
       "      <td>1</td>\n",
       "      <td>0</td>\n",
       "      <td>0</td>\n",
       "      <td>1</td>\n",
       "      <td>0</td>\n",
       "      <td>0</td>\n",
       "    </tr>\n",
       "    <tr>\n",
       "      <th>2</th>\n",
       "      <td>1</td>\n",
       "      <td>0</td>\n",
       "      <td>0</td>\n",
       "      <td>0</td>\n",
       "      <td>1</td>\n",
       "      <td>0</td>\n",
       "      <td>0</td>\n",
       "      <td>1</td>\n",
       "    </tr>\n",
       "    <tr>\n",
       "      <th>3</th>\n",
       "      <td>1</td>\n",
       "      <td>0</td>\n",
       "      <td>1</td>\n",
       "      <td>0</td>\n",
       "      <td>0</td>\n",
       "      <td>0</td>\n",
       "      <td>0</td>\n",
       "      <td>1</td>\n",
       "    </tr>\n",
       "    <tr>\n",
       "      <th>4</th>\n",
       "      <td>0</td>\n",
       "      <td>1</td>\n",
       "      <td>0</td>\n",
       "      <td>0</td>\n",
       "      <td>1</td>\n",
       "      <td>0</td>\n",
       "      <td>0</td>\n",
       "      <td>1</td>\n",
       "    </tr>\n",
       "  </tbody>\n",
       "</table>\n",
       "</div>"
      ],
      "text/plain": [
       "   Sex_female  Sex_male  Pclass_1  Pclass_2  Pclass_3  Embarked_C  Embarked_Q  \\\n",
       "0           0         1         0         0         1           0           0   \n",
       "1           1         0         1         0         0           1           0   \n",
       "2           1         0         0         0         1           0           0   \n",
       "3           1         0         1         0         0           0           0   \n",
       "4           0         1         0         0         1           0           0   \n",
       "\n",
       "   Embarked_S  \n",
       "0           1  \n",
       "1           0  \n",
       "2           1  \n",
       "3           1  \n",
       "4           1  "
      ]
     },
     "execution_count": 58,
     "metadata": {},
     "output_type": "execute_result"
    }
   ],
   "source": [
    "new_columns = list(df.columns[10:])\n",
    "df[new_columns].head()"
   ]
  },
  {
   "cell_type": "markdown",
   "id": "5d720644-073c-4925-a91e-db37e40e54dc",
   "metadata": {},
   "source": [
    "### Creating Independent & Dependent Variables\n",
    "\n",
    "Now we've got to make our 'x' (Independent / Predictors) and 'y' (Dependent / Target) tensors for us to train and predict with. We're trying to predict if someone survived so \"Survived\" is our y value."
   ]
  },
  {
   "cell_type": "code",
   "execution_count": 59,
   "id": "aec05822-3e3f-456c-b657-0884790649b5",
   "metadata": {},
   "outputs": [],
   "source": [
    "from torch import tensor\n",
    "\n",
    "t_dep = tensor(df.Survived)"
   ]
  },
  {
   "cell_type": "markdown",
   "id": "a283c46d-108b-4e4e-9c69-25fd83aa852b",
   "metadata": {},
   "source": [
    "Our x values are all the continues values we can grab as well as the dummy values we made."
   ]
  },
  {
   "cell_type": "code",
   "execution_count": 61,
   "id": "8842cd7f-26a9-430e-ab8d-802babc52fdf",
   "metadata": {},
   "outputs": [
    {
     "data": {
      "text/plain": [
       "tensor([[22.,  1.,  0.,  ...,  0.,  0.,  1.],\n",
       "        [38.,  1.,  0.,  ...,  1.,  0.,  0.],\n",
       "        [26.,  0.,  0.,  ...,  0.,  0.,  1.],\n",
       "        ...,\n",
       "        [24.,  1.,  2.,  ...,  0.,  0.,  1.],\n",
       "        [26.,  0.,  0.,  ...,  1.,  0.,  0.],\n",
       "        [32.,  0.,  0.,  ...,  0.,  1.,  0.]])"
      ]
     },
     "execution_count": 61,
     "metadata": {},
     "output_type": "execute_result"
    }
   ],
   "source": [
    "independent_cols = ['Age', \"SibSp\", \"Parch\", \"LogFare\"] + new_columns\n",
    "\n",
    "t_independent = tensor(df[independent_cols].values, dtype=torch.float)\n",
    "t_independent"
   ]
  },
  {
   "cell_type": "code",
   "execution_count": 62,
   "id": "87118af3-523d-4e9d-beaf-13dfbbde7f56",
   "metadata": {},
   "outputs": [
    {
     "data": {
      "text/plain": [
       "torch.Size([891, 12])"
      ]
     },
     "execution_count": 62,
     "metadata": {},
     "output_type": "execute_result"
    }
   ],
   "source": [
    "t_independent.shape"
   ]
  },
  {
   "cell_type": "markdown",
   "id": "a0717da0-7181-4724-8a2c-2daea845944e",
   "metadata": {},
   "source": [
    "Ok so we've got our 891 observations of 12 columns / attributes / features to work with."
   ]
  },
  {
   "cell_type": "markdown",
   "id": "53c89be2-ad66-43fd-8b78-04536afa4418",
   "metadata": {},
   "source": [
    "### Building our Linear Model\n",
    "\n",
    "We will first build a totally linear model without any non-linear activation functions like a ReLu (That we worked through in Lesson 3), to do this we'll get a coefficient for each independent variable (column/feature) by picking a random value in the range of (-5,5)."
   ]
  },
  {
   "cell_type": "code",
   "execution_count": 63,
   "id": "328946c0-95e2-42de-8ff5-4555afa7b6b0",
   "metadata": {},
   "outputs": [
    {
     "data": {
      "text/plain": [
       "tensor([ 0.3313,  0.0565,  0.4642, -0.0014,  0.1842, -0.3090, -0.4595, -0.0689,\n",
       "         0.3639,  0.2758, -0.3921,  0.3848])"
      ]
     },
     "execution_count": 63,
     "metadata": {},
     "output_type": "execute_result"
    }
   ],
   "source": [
    "torch.manual_seed(26)\n",
    "\n",
    "n_coefficients = t_independent.shape[1]\n",
    "coefficients = torch.rand(n_coefficients)-0.5\n",
    "coefficients"
   ]
  },
  {
   "cell_type": "markdown",
   "id": "a18c66db-ac9e-4f1a-96bc-c623c6bea107",
   "metadata": {},
   "source": [
    "Looks pretty random to me. We're going to multiply all our coefficients with our x values and add them up. Lets do that"
   ]
  },
  {
   "cell_type": "code",
   "execution_count": 64,
   "id": "1117c797-8bbc-42ce-9773-8248adfb4c7c",
   "metadata": {},
   "outputs": [
    {
     "data": {
      "text/plain": [
       "tensor([[ 7.2897,  0.0565,  0.0000,  ...,  0.0000, -0.0000,  0.3848],\n",
       "        [12.5912,  0.0565,  0.0000,  ...,  0.2758, -0.0000,  0.0000],\n",
       "        [ 8.6150,  0.0000,  0.0000,  ...,  0.0000, -0.0000,  0.3848],\n",
       "        ...,\n",
       "        [ 7.9523,  0.0565,  0.9284,  ...,  0.0000, -0.0000,  0.3848],\n",
       "        [ 8.6150,  0.0000,  0.0000,  ...,  0.2758, -0.0000,  0.0000],\n",
       "        [10.6031,  0.0000,  0.0000,  ...,  0.0000, -0.3921,  0.0000]])"
      ]
     },
     "execution_count": 64,
     "metadata": {},
     "output_type": "execute_result"
    }
   ],
   "source": [
    "t_independent*coefficients"
   ]
  },
  {
   "cell_type": "markdown",
   "id": "34bbd23b-3ad7-46b0-8c47-4bcff8f980f1",
   "metadata": {},
   "source": [
    "Our first column age is simply a lot bigger than all our other columns and is dominating the output, we can normalise the values between 0 and 1 for all columns so that no particular nominal size of values for any column is bigger than another. We can use sigmoid or simply divide by the maximum of the column to do this normalisation."
   ]
  },
  {
   "cell_type": "code",
   "execution_count": 65,
   "id": "493b8955-7ffa-44c7-ae30-4bdeed3db628",
   "metadata": {},
   "outputs": [
    {
     "data": {
      "text/plain": [
       "(tensor([80.0000,  8.0000,  6.0000,  6.2409,  1.0000,  1.0000,  1.0000,  1.0000,\n",
       "          1.0000,  1.0000,  1.0000,  1.0000]),\n",
       " tensor([630, 159, 678, 258,   1,   0,   1,   9,   0,   1,   5,   0]))"
      ]
     },
     "execution_count": 65,
     "metadata": {},
     "output_type": "execute_result"
    }
   ],
   "source": [
    "vals, indices = t_independent.max(dim=0)\n",
    "vals, indices"
   ]
  },
  {
   "cell_type": "markdown",
   "id": "009e4b58-17de-4a44-a99f-f6dfeba5c3e0",
   "metadata": {},
   "source": [
    "You can see that we have the maximum for each column, and the index of where that value occured, lets now normalise those independant/x values"
   ]
  },
  {
   "cell_type": "code",
   "execution_count": 67,
   "id": "2987ef17-601e-4c7c-81bc-961625225654",
   "metadata": {},
   "outputs": [
    {
     "data": {
      "text/plain": [
       "tensor([[0.2750, 0.1250, 0.0000,  ..., 0.0000, 0.0000, 1.0000],\n",
       "        [0.4750, 0.1250, 0.0000,  ..., 1.0000, 0.0000, 0.0000],\n",
       "        [0.3250, 0.0000, 0.0000,  ..., 0.0000, 0.0000, 1.0000],\n",
       "        ...,\n",
       "        [0.3000, 0.1250, 0.3333,  ..., 0.0000, 0.0000, 1.0000],\n",
       "        [0.3250, 0.0000, 0.0000,  ..., 1.0000, 0.0000, 0.0000],\n",
       "        [0.4000, 0.0000, 0.0000,  ..., 0.0000, 1.0000, 0.0000]])"
      ]
     },
     "execution_count": 67,
     "metadata": {},
     "output_type": "execute_result"
    }
   ],
   "source": [
    "t_independent = t_independent / vals\n",
    "t_independent"
   ]
  },
  {
   "cell_type": "code",
   "execution_count": 68,
   "id": "c324d612-9b82-49aa-ae91-87ce9390ba4a",
   "metadata": {},
   "outputs": [
    {
     "data": {
      "text/plain": [
       "tensor([[ 0.0911,  0.0071,  0.0000,  ...,  0.0000, -0.0000,  0.3848],\n",
       "        [ 0.1574,  0.0071,  0.0000,  ...,  0.2758, -0.0000,  0.0000],\n",
       "        [ 0.1077,  0.0000,  0.0000,  ...,  0.0000, -0.0000,  0.3848],\n",
       "        ...,\n",
       "        [ 0.0994,  0.0071,  0.1547,  ...,  0.0000, -0.0000,  0.3848],\n",
       "        [ 0.1077,  0.0000,  0.0000,  ...,  0.2758, -0.0000,  0.0000],\n",
       "        [ 0.1325,  0.0000,  0.0000,  ...,  0.0000, -0.3921,  0.0000]])"
      ]
     },
     "execution_count": 68,
     "metadata": {},
     "output_type": "execute_result"
    }
   ],
   "source": [
    "t_independent*coefficients"
   ]
  },
  {
   "cell_type": "markdown",
   "id": "ed939f99-0e36-4e2e-aa64-9d46dbdfb905",
   "metadata": {},
   "source": [
    "Awesome, everything is looking far more balanced now.\n",
    "\n",
    "The course makes a great note to highlight the vector by matrix calculations we're running here. Note that 't_independent' is a matrix and coefficients is a vector of values, even though we're simply saying multiply each other, pytorch knows to broadcast the vector over the whole matrix for the calculations. Definitely checkout lesson 3 / chapter 4 of the book to learn more about this. I've also linked some decent broadcasting documentation there as well.\n",
    "\n",
    "Ok lets now make our predictions"
   ]
  },
  {
   "cell_type": "code",
   "execution_count": 70,
   "id": "6e617f9f-7b07-48dd-a675-ffe4150882e4",
   "metadata": {},
   "outputs": [
    {
     "data": {
      "text/plain": [
       "(tensor([ 0.5373,  0.1640,  1.0401,  0.2606,  0.5841, -0.2383, -0.1610,  0.5458,\n",
       "          1.1989,  0.4553]),\n",
       " torch.Size([891]))"
      ]
     },
     "execution_count": 70,
     "metadata": {},
     "output_type": "execute_result"
    }
   ],
   "source": [
    "preds = (t_independent*coefficients).sum(axis=1)\n",
    "preds[:10], preds.shape"
   ]
  },
  {
   "cell_type": "markdown",
   "id": "464c22b9-0fef-49dc-b2c2-64aa2ae31c3c",
   "metadata": {},
   "source": [
    "### Building a Loss Function\n",
    "\n",
    "As with lesson 3, we need a way to optimise those coefficients/weights and we do that via calculating a loss and gradients which we then multiply by a learning rate to move our coefficients/weights to a more effective value. Lets do that now."
   ]
  },
  {
   "cell_type": "code",
   "execution_count": 71,
   "id": "e82a8c47-1364-4595-af17-d9c852aca9a3",
   "metadata": {},
   "outputs": [
    {
     "data": {
      "text/plain": [
       "tensor(0.5372)"
      ]
     },
     "execution_count": 71,
     "metadata": {},
     "output_type": "execute_result"
    }
   ],
   "source": [
    "loss = torch.abs(preds-t_dep).mean()\n",
    "loss"
   ]
  },
  {
   "cell_type": "markdown",
   "id": "5e26a1ea-d3d4-4387-9b41-9a35be702fbe",
   "metadata": {},
   "source": [
    "We've taken the absolute error of our predictions minus the true value and then grabbed the mean(). We're pretty close to random chance at .53 since there can only be a 0 or 1 value.\n",
    "\n",
    "Lets wrap calculating the predictions and losses in some helper functions and keep moving."
   ]
  },
  {
   "cell_type": "code",
   "execution_count": 72,
   "id": "fa996f05-e2d3-4a8a-858c-dd94e3c329fc",
   "metadata": {},
   "outputs": [],
   "source": [
    "def calculate_preds(coefficients, independent_variables): return (independent_variables*coefficients).sum(axis=1)\n",
    "def calculate_loss(coefficients, independent_variables, dependent_variables): return torch.abs(calculate_preds(coefficients, independent_variables)-dependent_variables).mean()"
   ]
  },
  {
   "cell_type": "markdown",
   "id": "547e56bc-0407-44c7-b2cf-c9d963a3d6fa",
   "metadata": {},
   "source": [
    "### Gradient Descent\n",
    "\n",
    "Here we're going to manually do gradient descent, or a single 'epoch' of training. Pytorch will automatically track our gradients for us with the 'requires_grad_()' attribute on our coefficients so we don't have to manually set them but you can handle this manually if you wish (which we did in lesson 3)."
   ]
  },
  {
   "cell_type": "code",
   "execution_count": 73,
   "id": "5efa92f5-2c36-440f-8a1c-31249526cfbe",
   "metadata": {},
   "outputs": [
    {
     "data": {
      "text/plain": [
       "tensor([ 0.3313,  0.0565,  0.4642, -0.0014,  0.1842, -0.3090, -0.4595, -0.0689,\n",
       "         0.3639,  0.2758, -0.3921,  0.3848], requires_grad=True)"
      ]
     },
     "execution_count": 73,
     "metadata": {},
     "output_type": "execute_result"
    }
   ],
   "source": [
    "coefficients.requires_grad_()"
   ]
  },
  {
   "cell_type": "code",
   "execution_count": 74,
   "id": "1b5b9f99-4603-44de-a3cf-a2c6f9ae4335",
   "metadata": {},
   "outputs": [
    {
     "data": {
      "text/plain": [
       "tensor(0.5372, grad_fn=<MeanBackward0>)"
      ]
     },
     "execution_count": 74,
     "metadata": {},
     "output_type": "execute_result"
    }
   ],
   "source": [
    "loss = calculate_loss(coefficients, t_independent, t_dep)\n",
    "loss"
   ]
  },
  {
   "cell_type": "markdown",
   "id": "1c936594-96c5-4764-9cb3-451d52dbb578",
   "metadata": {},
   "source": [
    "loss.backward() will ask pytorch to calculate the gradients on our coefficients"
   ]
  },
  {
   "cell_type": "code",
   "execution_count": 75,
   "id": "dd4b29d9-7a7e-4ef2-a0e5-505cb1a0b87d",
   "metadata": {},
   "outputs": [],
   "source": [
    "loss.backward()"
   ]
  },
  {
   "cell_type": "code",
   "execution_count": 76,
   "id": "613378ed-3d5b-4803-aad7-8fb2ce512d4d",
   "metadata": {},
   "outputs": [
    {
     "data": {
      "text/plain": [
       "tensor([ 0.0012,  0.0146,  0.0075, -0.0405, -0.0898,  0.1448, -0.2334,  0.0045,\n",
       "         0.2840, -0.0718, -0.0662,  0.1930])"
      ]
     },
     "execution_count": 76,
     "metadata": {},
     "output_type": "execute_result"
    }
   ],
   "source": [
    "coefficients.grad"
   ]
  },
  {
   "cell_type": "markdown",
   "id": "5722b420-a7fa-4a2b-9ee7-afdb200c981e",
   "metadata": {},
   "source": [
    "Gradients for free! So cool, Pytorch will add the gradients anytime our coefficients are involved in a function and calculate them for us, it will simply add them to the .grad attribute. Lets calculate the loss again and see them double "
   ]
  },
  {
   "cell_type": "code",
   "execution_count": 77,
   "id": "55bfc9bb-faca-4019-822b-0ed875532e0c",
   "metadata": {},
   "outputs": [
    {
     "data": {
      "text/plain": [
       "tensor([ 0.0023,  0.0292,  0.0150, -0.0810, -0.1796,  0.2896, -0.4669,  0.0090,\n",
       "         0.5679, -0.1437, -0.1324,  0.3861])"
      ]
     },
     "execution_count": 77,
     "metadata": {},
     "output_type": "execute_result"
    }
   ],
   "source": [
    "loss = calculate_loss(coefficients,t_independent, t_dep)\n",
    "loss.backward()\n",
    "coefficients.grad"
   ]
  },
  {
   "cell_type": "markdown",
   "id": "78c66ca6-a28c-433c-b86a-db206dae06fb",
   "metadata": {},
   "source": [
    "Perfect, lets now modify our coefficients and zero out our gradients so that they don't keep blowing up/doubling as we keep calculating. Lets also introduce our learning rate that will decide by how much to step our weights against the gradients. We're going to modify our coefficients by subtracting the gradients by the learning rate"
   ]
  },
  {
   "cell_type": "code",
   "execution_count": 78,
   "id": "5915db72-d91c-4d70-abec-103786367f1c",
   "metadata": {},
   "outputs": [
    {
     "name": "stdout",
     "output_type": "stream",
     "text": [
      "tensor(0.4774)\n"
     ]
    }
   ],
   "source": [
    "learning_rate = 0.1\n",
    "\n",
    "loss = calculate_loss(coefficients, t_independent, t_dep)\n",
    "loss.backward()\n",
    "with torch.no_grad():\n",
    "    coefficients.sub_(coefficients.grad * learning_rate)\n",
    "    coefficients.grad.zero_()\n",
    "    print(calculate_loss(coefficients, t_independent, t_dep))"
   ]
  },
  {
   "cell_type": "markdown",
   "id": "1ac5fd96-8282-4be0-8a29-f914672ade60",
   "metadata": {},
   "source": [
    "Our loss went down to .4774 from .5372, its working! We're heading in the right direction"
   ]
  },
  {
   "cell_type": "markdown",
   "id": "aa095198-2ebe-4276-8af7-eb16ceece373",
   "metadata": {},
   "source": [
    "### Training the Linear Model\n",
    "\n",
    "As we worked through in lesson 3, we need to setup a validation set in order to see how well we're performing on data that we haven't seen, but this is separate from our test set which we keep separate until the very end. We can use the fastai RandomSplitter and simply use a random split in this case."
   ]
  },
  {
   "cell_type": "code",
   "execution_count": 79,
   "id": "4cc79086-3283-4f43-90c2-a394e5ea340d",
   "metadata": {},
   "outputs": [],
   "source": [
    "from fastai.data.transforms import RandomSplitter\n",
    "\n",
    "train_split, validation_split = RandomSplitter(seed=26)(df)"
   ]
  },
  {
   "cell_type": "code",
   "execution_count": 80,
   "id": "54c7722b-60f1-47be-b9a5-cf7c93500eff",
   "metadata": {},
   "outputs": [
    {
     "data": {
      "text/plain": [
       "((#713) [415,655,160,258,8,79,162,128,824,82...],\n",
       " (#178) [443,399,827,171,352,505,718,396,374,633...])"
      ]
     },
     "execution_count": 80,
     "metadata": {},
     "output_type": "execute_result"
    }
   ],
   "source": [
    "train_split, validation_split"
   ]
  },
  {
   "cell_type": "markdown",
   "id": "f6d8c318-849e-4e1b-ad1c-70b1688ed260",
   "metadata": {},
   "source": [
    "RandomSplitter will give us back a bunch of indices representing the splits, we simply need to index on those rows to get the equivalent datasets"
   ]
  },
  {
   "cell_type": "code",
   "execution_count": 81,
   "id": "8b5f6c91-793b-4aa1-b5f6-602ce3d5e270",
   "metadata": {},
   "outputs": [
    {
     "data": {
      "text/plain": [
       "(713, 178)"
      ]
     },
     "execution_count": 81,
     "metadata": {},
     "output_type": "execute_result"
    }
   ],
   "source": [
    "train_independent, validation_independent = t_independent[train_split], t_independent[validation_split]\n",
    "train_dependent, validation_dependent = t_dep[train_split], t_dep[validation_split]\n",
    "\n",
    "len(train_independent), len(validation_independent)"
   ]
  },
  {
   "cell_type": "markdown",
   "id": "5ef901da-0d1d-41c9-b271-323a2102d7c4",
   "metadata": {},
   "source": [
    "Lets create some functions for the three steps we just did:\n",
    "\n",
    "1. Updating our coefficients (weights)\n",
    "2. Doing a gradient descent step\n",
    "3. Initialising coefficients to random numbers"
   ]
  },
  {
   "cell_type": "code",
   "execution_count": 82,
   "id": "20b965e2-4d9f-4655-a901-b9e63229fa99",
   "metadata": {},
   "outputs": [],
   "source": [
    "def update_coefficients(coefficients, learning_rate):\n",
    "    coefficients.sub_(coefficients.grad * learning_rate)\n",
    "    coefficients.grad.zero_()\n",
    "    \n",
    "def one_epoch(coefficients, learning_rate):\n",
    "    loss = calculate_loss(coefficients, train_independent, train_dependent)\n",
    "    loss.backward()\n",
    "    with torch.no_grad(): update_coefficients(coefficients, learning_rate)\n",
    "    print(f\"{loss:.3f}\", end=\"; \")\n",
    "    \n",
    "def initialise_coefficients(): return (torch.rand(n_coefficients)-0.5).requires_grad_()"
   ]
  },
  {
   "cell_type": "markdown",
   "id": "60e3cda2-df10-4ce7-b744-e10d2f1ac4b3",
   "metadata": {},
   "source": [
    "Now we have everything to train our model over many epochs, lets build a train_model method that allows us to package all this up together."
   ]
  },
  {
   "cell_type": "code",
   "execution_count": 83,
   "id": "8433dfbd-b57d-484e-98f5-62a0fc0273c1",
   "metadata": {},
   "outputs": [],
   "source": [
    "def train_model(epochs=30, learning_rate=0.01):\n",
    "    torch.manual_seed(26)\n",
    "    coefficients = initialise_coefficients()\n",
    "    for i in range(epochs): one_epoch(coefficients, learning_rate=learning_rate)\n",
    "    return coefficients"
   ]
  },
  {
   "cell_type": "markdown",
   "id": "c1c78e38-9e46-4062-a079-cd8948e9eea6",
   "metadata": {},
   "source": [
    "All wired together, lets fire it up"
   ]
  },
  {
   "cell_type": "code",
   "execution_count": 84,
   "id": "85764538-dc40-4980-886d-12bf64966e2c",
   "metadata": {},
   "outputs": [
    {
     "name": "stdout",
     "output_type": "stream",
     "text": [
      "0.539; 0.497; 0.461; 0.429; 0.397; 0.367; 0.339; 0.319; 0.321; 0.317; 0.331; 0.314; 0.332; 0.310; 0.330; 0.306; 0.332; 0.301; "
     ]
    }
   ],
   "source": [
    "coefficients = train_model(18, learning_rate=0.2)"
   ]
  },
  {
   "cell_type": "markdown",
   "id": "520f3001-c0ea-455f-a053-9d43e601e9ce",
   "metadata": {},
   "source": [
    "From .539 error all the way down to .301, consistent and deliberate progress, good stuff.\n",
    "\n",
    "Now considering we have a coefficient for each column, we can look at the coefficients and infer some knowledge of how each feature impacted someone's chances for survival"
   ]
  },
  {
   "cell_type": "code",
   "execution_count": 85,
   "id": "9c010719-603f-494b-bf60-51106d70b8b3",
   "metadata": {},
   "outputs": [
    {
     "data": {
      "text/plain": [
       "{'Age': tensor(0.3461),\n",
       " 'SibSp': tensor(0.0012),\n",
       " 'Parch': tensor(0.3972),\n",
       " 'LogFare': tensor(0.1611),\n",
       " 'Sex_female': tensor(0.4428),\n",
       " 'Sex_male': tensor(-0.3775),\n",
       " 'Pclass_1': tensor(-0.0191),\n",
       " 'Pclass_2': tensor(0.0119),\n",
       " 'Pclass_3': tensor(0.0329),\n",
       " 'Embarked_C': tensor(0.3212),\n",
       " 'Embarked_Q': tensor(-0.1801),\n",
       " 'Embarked_S': tensor(0.3174)}"
      ]
     },
     "execution_count": 85,
     "metadata": {},
     "output_type": "execute_result"
    }
   ],
   "source": [
    "dict(zip(independent_cols, coefficients.requires_grad_(False)))"
   ]
  },
  {
   "cell_type": "code",
   "execution_count": 103,
   "id": "c90b0e87-9dae-4097-87be-242f72027f4d",
   "metadata": {},
   "outputs": [],
   "source": [
    "def show_coefficients(): return dict(zip(independent_cols, coefficients.requires_grad_(False)))"
   ]
  },
  {
   "cell_type": "markdown",
   "id": "07a2e9b5-8a0c-4692-ab2f-9be27d2f218c",
   "metadata": {},
   "source": [
    "How cool is that, we can see each column and the literal impact of increasing or decreasing each value on the survival of the person observed in the dataset.\n",
    "\n",
    "Lets move on to measuring accuracy since we're currently using absolute error whereas the competition actually uses accuracy.\n",
    "\n",
    "### Measuring Accuracy\n",
    "\n",
    "Lets get our predictions first"
   ]
  },
  {
   "cell_type": "code",
   "execution_count": 86,
   "id": "dc2d4481-c8cf-4596-a0ba-ed011d16bc21",
   "metadata": {},
   "outputs": [],
   "source": [
    "preds = calculate_preds(coefficients, validation_independent)"
   ]
  },
  {
   "cell_type": "markdown",
   "id": "bbfc13fc-031e-44d1-a9a3-7d3b43337fb4",
   "metadata": {},
   "source": [
    "Lets make the assumption that any passenger over 0.5 is predicted to survive, any prediction over 0.5 where the individual survived is correct in this case"
   ]
  },
  {
   "cell_type": "code",
   "execution_count": 87,
   "id": "29a44bc2-9939-489f-ba73-5658f8d13d6b",
   "metadata": {},
   "outputs": [
    {
     "data": {
      "text/plain": [
       "tensor([ True,  True, False,  True,  True,  True,  True, False, False,  True])"
      ]
     },
     "execution_count": 87,
     "metadata": {},
     "output_type": "execute_result"
    }
   ],
   "source": [
    "results = validation_dependent.bool() == (preds>0.5)\n",
    "results[:10]"
   ]
  },
  {
   "cell_type": "markdown",
   "id": "d784c13c-7aec-42e0-b1cb-62815ecd95a2",
   "metadata": {},
   "source": [
    "Lets checkout the average accuracy over the whole set"
   ]
  },
  {
   "cell_type": "code",
   "execution_count": 88,
   "id": "9be5ae5b-d014-43b2-bab7-d4a6effc1b59",
   "metadata": {},
   "outputs": [
    {
     "data": {
      "text/plain": [
       "tensor(0.7809)"
      ]
     },
     "execution_count": 88,
     "metadata": {},
     "output_type": "execute_result"
    }
   ],
   "source": [
    "results.float().mean()"
   ]
  },
  {
   "cell_type": "markdown",
   "id": "d78995dc-917d-4919-9f50-9b56dc6421e8",
   "metadata": {},
   "source": [
    "78% accuracy considering we have only have 12 coefficients and a linear function is kind of amazing. Lets define a nice accuracy helper function so we can re-calculate this anytime"
   ]
  },
  {
   "cell_type": "code",
   "execution_count": 100,
   "id": "0c26d2d3-9c6c-4e1f-9519-40f3adda9bc6",
   "metadata": {},
   "outputs": [],
   "source": [
    "def accuracy(coefficients): return (validation_dependent.bool() == (calculate_preds(coefficients, validation_independent) > 0.5)).float().mean()"
   ]
  },
  {
   "cell_type": "code",
   "execution_count": 92,
   "id": "1d33c729-e7e6-473a-81b4-4be0dbbb04ab",
   "metadata": {},
   "outputs": [
    {
     "data": {
      "text/plain": [
       "(tensor(-0.3649), tensor(1.3972))"
      ]
     },
     "execution_count": 92,
     "metadata": {},
     "output_type": "execute_result"
    }
   ],
   "source": [
    "preds.min(), preds.max()"
   ]
  },
  {
   "cell_type": "markdown",
   "id": "80e8538c-c56b-4550-9ae9-fb3d4f1cf19f",
   "metadata": {},
   "source": [
    "We do however have the problem of both below 0 and above 1 predictions which make no sense since 0 and 1 are limits. There's a magical function call sigmoid that provides a way to smooth all our predictions between 0 and 1, lets do it!\n",
    "\n",
    "### Using Sigmoid\n",
    "\n",
    "Sigmoid lets us nicely smooth everything between 0 and 1 whilst never actually reaching either, lets have a look at the function visually"
   ]
  },
  {
   "cell_type": "code",
   "execution_count": 93,
   "id": "9fbeacfa-fbc1-4632-b11f-fcd9a57398d2",
   "metadata": {},
   "outputs": [
    {
     "data": {
      "image/png": "[encoded data removed]",
      "text/plain": [
       "<Figure size 640x480 with 1 Axes>"
      ]
     },
     "metadata": {},
     "output_type": "display_data"
    },
    {
     "data": {
      "text/plain": [
       "<sympy.plotting.plot.Plot at 0x18916282cb0>"
      ]
     },
     "execution_count": 93,
     "metadata": {},
     "output_type": "execute_result"
    }
   ],
   "source": [
    "import sympy\n",
    "sympy.plot(\"1/(1+exp(-x))\",xlim=(-5,5))"
   ]
  },
  {
   "cell_type": "markdown",
   "id": "76383385-164f-4790-837a-55ba5eaf1e85",
   "metadata": {},
   "source": [
    "We're using this cool library called sympy which allows us to write an expression like we did above and have it nicely plotted. Similar to the plot_function() method from fastai but a whole library."
   ]
  },
  {
   "cell_type": "code",
   "execution_count": 95,
   "id": "6b09a883-0282-42b1-89b8-57b33f279206",
   "metadata": {},
   "outputs": [
    {
     "data": {
      "text/html": [
       "<hr/>\n",
       "<h3>sympy</h3>\n",
       "<blockquote><pre><code>sympy</code></pre></blockquote><p>SymPy is a Python library for symbolic mathematics. It aims to become a\n",
       "full-featured computer algebra system (CAS) while keeping the code as simple\n",
       "as possible in order to be comprehensible and easily extensible.  SymPy is\n",
       "written entirely in Python. It depends on mpmath, and other external libraries\n",
       "may be optionally for things like plotting support.\n",
       "\n",
       "See the webpage for more information and documentation:\n",
       "\n",
       "    https://sympy.org</p>"
      ],
      "text/plain": [
       "<IPython.core.display.HTML object>"
      ]
     },
     "metadata": {},
     "output_type": "display_data"
    }
   ],
   "source": [
    "doc(sympy)"
   ]
  },
  {
   "cell_type": "markdown",
   "id": "aa50fab9-7aa9-46c1-9448-fbbd2306c734",
   "metadata": {},
   "source": [
    "Pytorch already has sigmoid out the box so we don't have to write up a custom method, it'll do the awesome math on our GPU, all parallel and quick. Lets redefine our calculate_predictions method to include this."
   ]
  },
  {
   "cell_type": "code",
   "execution_count": 97,
   "id": "4f9419eb-3211-495a-a166-7c887192aa70",
   "metadata": {},
   "outputs": [],
   "source": [
    "def calculate_preds(coefficients, independents): return torch.sigmoid((independents*coefficients).sum(axis=1))"
   ]
  },
  {
   "cell_type": "markdown",
   "id": "af639a4a-1d3e-44f0-a078-37c336bfa834",
   "metadata": {},
   "source": [
    "Lets retrain our model to see if our loss has improved with our sigmoid function."
   ]
  },
  {
   "cell_type": "code",
   "execution_count": 98,
   "id": "6d2d9066-f439-4087-9dc7-a83c220b2cb6",
   "metadata": {},
   "outputs": [
    {
     "name": "stdout",
     "output_type": "stream",
     "text": [
      "0.521; 0.292; 0.219; 0.217; 0.215; 0.213; 0.211; 0.210; 0.209; 0.208; 0.207; 0.206; 0.205; 0.205; 0.204; 0.204; 0.203; 0.203; 0.203; 0.203; 0.202; 0.202; 0.202; 0.202; 0.201; 0.201; 0.201; 0.201; 0.201; 0.201; "
     ]
    }
   ],
   "source": [
    "coefficients = train_model(learning_rate=50)"
   ]
  },
  {
   "cell_type": "markdown",
   "id": "6bb2fcc2-718a-41dc-978a-9245619b5f0f",
   "metadata": {},
   "source": [
    "By quite a margin, lets now checkout the accuracy"
   ]
  },
  {
   "cell_type": "code",
   "execution_count": 101,
   "id": "bc9e1187-3295-4afd-90b0-7ae816f90164",
   "metadata": {},
   "outputs": [
    {
     "data": {
      "text/plain": [
       "tensor(0.8371)"
      ]
     },
     "execution_count": 101,
     "metadata": {},
     "output_type": "execute_result"
    }
   ],
   "source": [
    "accuracy(coefficients)"
   ]
  },
  {
   "cell_type": "markdown",
   "id": "d820585f-d269-405d-b396-509619c457b2",
   "metadata": {},
   "source": [
    "~83% is certainly better for basically just smoothing out our predictions, awesome stuff. Lets checkout our coefficients again"
   ]
  },
  {
   "cell_type": "code",
   "execution_count": 105,
   "id": "45b02792-7eae-4033-b1e1-2ad28782141f",
   "metadata": {},
   "outputs": [
    {
     "data": {
      "text/plain": [
       "{'Age': tensor(-0.1973),\n",
       " 'SibSp': tensor(-1.5336),\n",
       " 'Parch': tensor(-0.7395),\n",
       " 'LogFare': tensor(0.1039),\n",
       " 'Sex_female': tensor(5.5895),\n",
       " 'Sex_male': tensor(-6.1751),\n",
       " 'Pclass_1': tensor(1.8641),\n",
       " 'Pclass_2': tensor(1.8072),\n",
       " 'Pclass_3': tensor(-4.2965),\n",
       " 'Embarked_C': tensor(0.8785),\n",
       " 'Embarked_Q': tensor(1.7818),\n",
       " 'Embarked_S': tensor(-2.8526)}"
      ]
     },
     "execution_count": 105,
     "metadata": {},
     "output_type": "execute_result"
    }
   ],
   "source": [
    "show_coefficients()"
   ]
  },
  {
   "cell_type": "markdown",
   "id": "048f4eac-cc67-4f2b-845d-02c9e79ba198",
   "metadata": {},
   "source": [
    "### Moving to Matrix Products\n",
    "\n",
    "We've been doing vector to matrix calculations, where we have to sum all the rows over axis '1' to get our results, we can instead run a matrix multiplication on the vector by matrix and it will broadcast the vector over the entire matrix to achieve the same thing. We simply need to change our '*' operator to a '@' operator"
   ]
  },
  {
   "cell_type": "code",
   "execution_count": 110,
   "id": "f3da61c9-7346-48c8-9c69-71197c3c976b",
   "metadata": {},
   "outputs": [
    {
     "data": {
      "text/plain": [
       "(tensor([  4.5189,   4.5185,  -3.6778,  -9.5330,  -9.9099,  -3.5904,  -8.7023,\n",
       "          -1.5997,  -2.2138,  -7.2228, -13.3593,   4.5212,  -7.3525,  -7.6108,\n",
       "           2.8706, -13.3393,  -7.4905,  -7.2564,  -7.2358,  -3.4341,  -3.6701,\n",
       "          -8.9045, -13.3738, -14.1698, -13.3469,  -7.1682,  -1.5776,  -9.9207,\n",
       "           4.4992, -13.3319,   8.2373, -13.6142,   4.5131,  -1.5741,  -7.2383,\n",
       "          -9.6171,  -3.4187,  -9.5704,   4.3943,   8.1180, -13.5418,   4.2315,\n",
       "         -13.3382,  -7.2183, -13.3312,   3.0646, -13.5579,  -3.7432,  -7.4114,\n",
       "          -3.4149,  -7.3426, -13.4416,   3.8130,   8.1548,   4.3626,  -7.2589,\n",
       "          -7.2604,  -2.2993,  -9.6171,  -7.3642, -13.3372,  -7.2307, -13.3713,\n",
       "           7.7432, -13.3467,  -7.2588,  -7.2451,   3.0518, -13.3274, -13.3445,\n",
       "          -2.2153, -13.3678,  -3.5231,  -7.2613,   4.3899,   4.5091,  -9.5281,\n",
       "          -8.6952, -13.3456, -13.3467,  -9.6155,  -1.7632,  -7.6220,  -8.8870,\n",
       "           4.6027,  -7.2358,  -1.8948,   3.0644, -13.3368, -14.1871,  -7.2563,\n",
       "         -13.3427,   4.3357,  -8.7128,   2.0829,  -7.2573,  -7.2267,   4.0337,\n",
       "          -1.7061, -13.3482,   3.0515,   8.3257,  -2.0726,  -7.3926, -13.3801,\n",
       "          -7.2551,  -9.6171, -13.7635,  -7.2440,  -7.2228,   1.9885,  -7.1567,\n",
       "           2.1475, -13.3469,  -9.6366, -13.5437,   4.2840,   4.2790,  -9.6171,\n",
       "           1.9000,  -1.5643, -13.3472, -13.3422,   8.0966,  -9.6798, -13.3469,\n",
       "           4.3631,   4.1848,  -1.8365,  -2.2626,   1.9663,   4.0889, -13.3370,\n",
       "          -7.3029,  -7.3475,  -7.4190,  -7.2530, -13.3516, -13.3348,   4.3369,\n",
       "           4.3562, -13.3694,  -8.7128,   4.4293,  -7.1629,  -9.0793,  -1.8108,\n",
       "          -8.7535,   8.3459,  -2.1523,  -1.5922, -13.3486,  -3.6424, -13.3469,\n",
       "          -8.7301,  -9.9836, -13.4345,  -2.4034, -13.3442,  -8.8275, -13.3395,\n",
       "          -7.3657, -13.3831,  -3.7040,  -1.6115,  -7.9393,   3.0745,   4.6304,\n",
       "           4.5329, -13.3469, -14.4919,   3.0715,   1.9871,  -1.8999,   9.1624,\n",
       "         -13.4049,   4.3804,   9.1476]),\n",
       " tensor(-915.6960))"
      ]
     },
     "execution_count": 110,
     "metadata": {},
     "output_type": "execute_result"
    }
   ],
   "source": [
    "(validation_independent*coefficients).sum(axis=1), ((validation_independent*coefficients).sum(axis=1)).sum()"
   ]
  },
  {
   "cell_type": "code",
   "execution_count": 111,
   "id": "972a6980-99e0-4bf8-920b-f26e39302504",
   "metadata": {},
   "outputs": [
    {
     "data": {
      "text/plain": [
       "(tensor([  4.5189,   4.5185,  -3.6778,  -9.5330,  -9.9099,  -3.5904,  -8.7023,\n",
       "          -1.5997,  -2.2138,  -7.2228, -13.3593,   4.5212,  -7.3525,  -7.6108,\n",
       "           2.8706, -13.3393,  -7.4905,  -7.2564,  -7.2358,  -3.4341,  -3.6701,\n",
       "          -8.9045, -13.3738, -14.1698, -13.3469,  -7.1682,  -1.5776,  -9.9207,\n",
       "           4.4992, -13.3319,   8.2373, -13.6142,   4.5131,  -1.5741,  -7.2383,\n",
       "          -9.6171,  -3.4187,  -9.5704,   4.3943,   8.1180, -13.5418,   4.2315,\n",
       "         -13.3382,  -7.2183, -13.3312,   3.0646, -13.5579,  -3.7432,  -7.4114,\n",
       "          -3.4149,  -7.3426, -13.4416,   3.8130,   8.1548,   4.3626,  -7.2589,\n",
       "          -7.2604,  -2.2993,  -9.6171,  -7.3642, -13.3372,  -7.2307, -13.3713,\n",
       "           7.7432, -13.3467,  -7.2588,  -7.2451,   3.0518, -13.3274, -13.3445,\n",
       "          -2.2153, -13.3678,  -3.5231,  -7.2613,   4.3899,   4.5091,  -9.5281,\n",
       "          -8.6952, -13.3456, -13.3467,  -9.6155,  -1.7632,  -7.6220,  -8.8870,\n",
       "           4.6027,  -7.2358,  -1.8948,   3.0644, -13.3368, -14.1871,  -7.2563,\n",
       "         -13.3427,   4.3357,  -8.7128,   2.0829,  -7.2573,  -7.2267,   4.0337,\n",
       "          -1.7061, -13.3482,   3.0515,   8.3257,  -2.0726,  -7.3926, -13.3801,\n",
       "          -7.2551,  -9.6171, -13.7635,  -7.2440,  -7.2228,   1.9885,  -7.1567,\n",
       "           2.1475, -13.3469,  -9.6366, -13.5437,   4.2840,   4.2790,  -9.6171,\n",
       "           1.9000,  -1.5643, -13.3472, -13.3422,   8.0966,  -9.6798, -13.3469,\n",
       "           4.3631,   4.1848,  -1.8365,  -2.2626,   1.9663,   4.0889, -13.3370,\n",
       "          -7.3029,  -7.3475,  -7.4190,  -7.2530, -13.3516, -13.3348,   4.3369,\n",
       "           4.3562, -13.3694,  -8.7128,   4.4293,  -7.1629,  -9.0793,  -1.8108,\n",
       "          -8.7535,   8.3459,  -2.1523,  -1.5922, -13.3486,  -3.6424, -13.3469,\n",
       "          -8.7301,  -9.9836, -13.4345,  -2.4034, -13.3442,  -8.8275, -13.3395,\n",
       "          -7.3657, -13.3831,  -3.7040,  -1.6115,  -7.9393,   3.0745,   4.6304,\n",
       "           4.5329, -13.3469, -14.4919,   3.0715,   1.9871,  -1.8999,   9.1624,\n",
       "         -13.4049,   4.3804,   9.1476]),\n",
       " tensor(-915.6960))"
      ]
     },
     "execution_count": 111,
     "metadata": {},
     "output_type": "execute_result"
    }
   ],
   "source": [
    "validation_independent@coefficients, (validation_independent@coefficients).sum()"
   ]
  },
  {
   "cell_type": "markdown",
   "id": "91b22497-3251-4768-96c3-513405025afe",
   "metadata": {},
   "source": [
    "We produce the identical tensor and total but this is more efficient since we're able to run these calculations in parallel on the GPU, lets modify our calculate_preds() again to reflect this"
   ]
  },
  {
   "cell_type": "code",
   "execution_count": 112,
   "id": "2064c079-6017-4f81-92b2-3e7815f579ab",
   "metadata": {},
   "outputs": [],
   "source": [
    "def calculate_preds(coefficients, independents): return torch.sigmoid(independents@coefficients)"
   ]
  },
  {
   "cell_type": "markdown",
   "id": "427fa2aa-0f0a-429d-8f66-d919bb51f01b",
   "metadata": {},
   "source": [
    "The only other thing we need to do is convert our vector to a matrix with a single column and 'transpose' it so that its a matrix by matrix calculation instead of a matrix by vector"
   ]
  },
  {
   "cell_type": "code",
   "execution_count": 113,
   "id": "abcc37f3-8923-4cb7-a33b-52f9e60e43c1",
   "metadata": {},
   "outputs": [],
   "source": [
    "def initialise_coefficients(): return (torch.randn(n_coefficients, 1)*0.1).requires_grad_()"
   ]
  },
  {
   "cell_type": "code",
   "execution_count": 114,
   "id": "35a85db6-a709-4036-a61a-64cd780c3b43",
   "metadata": {},
   "outputs": [
    {
     "data": {
      "text/plain": [
       "tensor([[ 0.0634],\n",
       "        [-0.0220],\n",
       "        [-0.0140],\n",
       "        [-0.0766],\n",
       "        [ 0.0887],\n",
       "        [ 0.0815],\n",
       "        [ 0.0809],\n",
       "        [ 0.0619],\n",
       "        [-0.0255],\n",
       "        [ 0.0457],\n",
       "        [ 0.0780],\n",
       "        [ 0.0032]], requires_grad=True)"
      ]
     },
     "execution_count": 114,
     "metadata": {},
     "output_type": "execute_result"
    }
   ],
   "source": [
    "initialise_coefficients()"
   ]
  },
  {
   "cell_type": "markdown",
   "id": "5d79f2f4-a7cb-4e0c-a622-f1e4f2cfce66",
   "metadata": {},
   "source": [
    "See how we now have a single column matrix instead of the previous vector, we'll have to transform the same for our dependent sets"
   ]
  },
  {
   "cell_type": "code",
   "execution_count": 115,
   "id": "707dff12-cd71-4f91-80f7-9b83635e1111",
   "metadata": {},
   "outputs": [],
   "source": [
    "train_dependent = train_dependent[:,None]\n",
    "validation_dependent = validation_dependent[:,None]"
   ]
  },
  {
   "cell_type": "code",
   "execution_count": 116,
   "id": "20fecc46-2eeb-4b57-bb47-061e47b2ef69",
   "metadata": {},
   "outputs": [
    {
     "name": "stdout",
     "output_type": "stream",
     "text": [
      "0.483; 0.305; 0.222; 0.212; 0.210; 0.209; 0.208; 0.207; 0.206; 0.205; 0.205; 0.204; 0.204; 0.203; 0.203; 0.203; 0.202; 0.202; 0.202; 0.202; 0.201; 0.201; 0.201; 0.201; 0.201; 0.201; 0.200; 0.200; 0.200; 0.200; "
     ]
    }
   ],
   "source": [
    "coefficients = train_model(learning_rate=50)"
   ]
  },
  {
   "cell_type": "code",
   "execution_count": 117,
   "id": "bff299e9-594c-4edf-aa57-e81b041bba71",
   "metadata": {},
   "outputs": [
    {
     "data": {
      "text/plain": [
       "tensor(0.8371)"
      ]
     },
     "execution_count": 117,
     "metadata": {},
     "output_type": "execute_result"
    }
   ],
   "source": [
    "accuracy(coefficients)"
   ]
  },
  {
   "cell_type": "markdown",
   "id": "94be9fb8-61f2-46dd-9fae-53681e95775d",
   "metadata": {},
   "source": [
    "And we have the same model and output, awesome. Lets now move to making a neural net as we have all the pieces and tools we need to do so\n",
    "\n",
    "### Neural Networks\n",
    "\n",
    "We will need a few things:\n",
    "\n",
    " - Coefficients (weights/parameters) for each of our layers\n",
    " - A number of 'hidden' layers of various sizes (model architecture)\n",
    " - A final output layer (prediction output / model head)\n",
    " \n",
    "We will control a few of these parameters by creating variables we set such as n_hidden, n_coefficients etc, lets get started"
   ]
  },
  {
   "cell_type": "code",
   "execution_count": 118,
   "id": "a067ef19-9730-4d06-b673-700dfcb352f3",
   "metadata": {},
   "outputs": [],
   "source": [
    "def initialise_coefficients(n_hidden=20):\n",
    "    layer1 = (torch.rand(n_coefficients, n_hidden)-0.5)/n_hidden\n",
    "    layer2 = torch.rand(n_hidden, 1)-0.3\n",
    "    const = torch.rand(1)[0]\n",
    "    return layer1.requires_grad_(), layer2.requires_grad_(), const.requires_grad_()"
   ]
  },
  {
   "cell_type": "markdown",
   "id": "fdb58d39-349f-473b-8e2d-ad603110db58",
   "metadata": {},
   "source": [
    "Ok so we have our coefficients for each of our layers, we have a constant bias term, we can now make our neural network by handcrafting our layers and adding our non-linearities in between them before finally passing to sigmoid for our predictions."
   ]
  },
  {
   "cell_type": "code",
   "execution_count": 119,
   "id": "d546cdf5-4be4-45a0-b583-4db78b230b03",
   "metadata": {},
   "outputs": [],
   "source": [
    "import torch.nn.functional as F\n",
    "\n",
    "def calculate_preds(coefficients, independents):\n",
    "    l1, l2, const = coefficients\n",
    "    res = F.relu(independents@l1)\n",
    "    res = res@l2 + const\n",
    "    return torch.sigmoid(res)"
   ]
  },
  {
   "cell_type": "markdown",
   "id": "f16f2dea-0336-4a85-af75-302aa8c4a248",
   "metadata": {},
   "source": [
    "Ok see here how we're grabbing our layers, multiplying the independents by the first layer, multiplying that result by a relu activation (non-linearity is introduced here) and then finally multiplying by our final layer and adding our constant term. We then have our output which we can sigmoid to get our final prediction.\n",
    "\n",
    "We also need to write our method to update the coefficients by calculating the gradients for each layer, subtracting them by the learning rate and zeroing out the gradients to be calculated in the next batch/epoch."
   ]
  },
  {
   "cell_type": "code",
   "execution_count": 120,
   "id": "e4c4fe1b-ac65-4f2b-bad3-a258210439d5",
   "metadata": {},
   "outputs": [],
   "source": [
    "def update_coefficients(coefficients, learning_rate):\n",
    "    for layer in coefficients:\n",
    "        layer.sub_(layer.grad * learning_rate)\n",
    "        layer.grad.zero_()"
   ]
  },
  {
   "cell_type": "markdown",
   "id": "97ee6277-31bb-4bee-86eb-3164daadb5f2",
   "metadata": {},
   "source": [
    "We've got everything together, lets quickly checkout our layers, remembering there's a relu inbetween the layers and we have our final constant term"
   ]
  },
  {
   "cell_type": "code",
   "execution_count": 127,
   "id": "ffb0c336-72db-47fe-8d41-bd987cda108c",
   "metadata": {},
   "outputs": [],
   "source": [
    "layer1, layer2, const = initialise_coefficients()"
   ]
  },
  {
   "cell_type": "code",
   "execution_count": 128,
   "id": "c3e443fa-ce46-43cd-b363-2bf7677299a9",
   "metadata": {},
   "outputs": [
    {
     "data": {
      "text/plain": [
       "(torch.Size([12, 20]), torch.Size([20, 1]), tensor(0.8732, requires_grad=True))"
      ]
     },
     "execution_count": 128,
     "metadata": {},
     "output_type": "execute_result"
    }
   ],
   "source": [
    "layer1.shape, layer2.shape, const"
   ]
  },
  {
   "cell_type": "markdown",
   "id": "26b81498-9d02-45e5-903d-90e8cdd5f638",
   "metadata": {},
   "source": [
    "Layer one takes in our 12 'x' values as the independent variables, outputs a shape of 20 which our next layer takes in and then condenses to 1 output which we sigmoid for our prediction. Hopefully these shapes make sense, and that bigger architectures are just more complicated connections between these matrices of different sizes and shapes which are suited better to particular problems."
   ]
  },
  {
   "cell_type": "markdown",
   "id": "b1a85d00-da40-4915-b9e3-be31db829b1e",
   "metadata": {},
   "source": [
    "Ok lets train our model:"
   ]
  },
  {
   "cell_type": "code",
   "execution_count": 121,
   "id": "8a41114c-4483-477b-8ec9-76f3616dd79d",
   "metadata": {},
   "outputs": [
    {
     "name": "stdout",
     "output_type": "stream",
     "text": [
      "0.525; 0.503; 0.485; 0.465; 0.440; 0.412; 0.382; 0.352; 0.325; 0.304; 0.287; 0.275; 0.265; 0.257; 0.250; 0.245; 0.241; 0.238; 0.235; 0.233; 0.231; 0.229; 0.227; 0.226; 0.225; 0.223; 0.222; 0.221; 0.220; 0.219; "
     ]
    }
   ],
   "source": [
    "coefficients = train_model(learning_rate=1.4)"
   ]
  },
  {
   "cell_type": "code",
   "execution_count": 122,
   "id": "ed687995-4650-468c-ac35-773ec2415ba3",
   "metadata": {},
   "outputs": [
    {
     "name": "stdout",
     "output_type": "stream",
     "text": [
      "0.525; 0.372; 0.249; 0.314; 0.220; 0.202; 0.200; 0.199; 0.198; 0.198; 0.197; 0.196; 0.196; 0.196; 0.196; 0.196; 0.196; 0.196; 0.196; 0.196; 0.196; 0.196; 0.196; 0.196; 0.196; 0.195; 0.195; 0.195; 0.195; 0.195; "
     ]
    }
   ],
   "source": [
    "coefficients = train_model(learning_rate=20)"
   ]
  },
  {
   "cell_type": "code",
   "execution_count": 123,
   "id": "349abdc2-c572-43bc-bb98-5b2e3a50397b",
   "metadata": {},
   "outputs": [
    {
     "data": {
      "text/plain": [
       "tensor(0.8371)"
      ]
     },
     "execution_count": 123,
     "metadata": {},
     "output_type": "execute_result"
    }
   ],
   "source": [
    "accuracy(coefficients)"
   ]
  },
  {
   "cell_type": "markdown",
   "id": "4ec3e992-529d-4bd8-99c1-c7772ffc152d",
   "metadata": {},
   "source": [
    "Well our loss is definitely better at 0.195 but our accuracy is still the same which is interesting, whilst we haven't blown away our linear model, its really cool to see how only a couple of layers of matrices can give effective results.\n",
    "\n",
    "### Making the Neural Net 'Deep'\n",
    "\n",
    "Now whilst the universal approximation paper says that two layers is all you need to approximate any function in the universe (a terrible paraphrase of what the paper says), its not very practical in the real world. It also isn't very 'deep' since we only have two layers, by building more layers, we make our network 'deep', hence the name. Again we need to connect layer to layer with activations in between, lets do it.\n",
    "\n",
    "Note that the sizes variables is our 'crude' model architecture, simply the structure of all the hidden layers (the model body) and the final output layer which spits out predictions is the (model head)"
   ]
  },
  {
   "cell_type": "code",
   "execution_count": 275,
   "id": "2930735d-6e0a-4a48-859d-b86f6e3a0081",
   "metadata": {},
   "outputs": [],
   "source": [
    "def initialise_coefficients():\n",
    "    hiddens=[12,5,12,5]\n",
    "    sizes = [n_coefficients] + hiddens + [1]\n",
    "    n =  len(sizes)\n",
    "    layers = [(torch.rand(sizes[i], sizes[i+1])-0.3)/sizes[i+1]*4 for i in range(n-1)]\n",
    "    consts = [(torch.rand(1)[0]-0.5)*0.1 for i in range(n-1)]\n",
    "    for l in layers+consts: l.requires_grad_()\n",
    "    return layers, consts"
   ]
  },
  {
   "cell_type": "markdown",
   "id": "0332cb50-3129-49dc-a316-67b365b36dcc",
   "metadata": {},
   "source": [
    "As Jeremy notes in the course, there are lots of fiddly constants here, the initialisation of weights has drastic impacts on the training progress of your model, there are ways to address this which we'll work on later through the course but its important to note these aren't accidental and are part of the difficult nature of this type of model.\n",
    "\n",
    "We'll also re-define our calculate predictions method and loop through each layer instead of explicitly calling them"
   ]
  },
  {
   "cell_type": "code",
   "execution_count": 276,
   "id": "7cdc48f3-43b0-4461-aed1-9cec7441776b",
   "metadata": {},
   "outputs": [],
   "source": [
    "def calculate_preds(coefficients, independents):\n",
    "    layers, consts = coefficients\n",
    "    n = len(layers)\n",
    "    res = independents\n",
    "    for iteration, layer in enumerate(layers):\n",
    "        res = res@layer + consts[iteration]\n",
    "        if iteration!=n-1: res = F.relu(res)\n",
    "    return torch.sigmoid(res)"
   ]
  },
  {
   "cell_type": "markdown",
   "id": "c360c4be-4e2e-4143-880e-1414d6fa41d9",
   "metadata": {},
   "source": [
    "Check it out, the line **res = res@layer + consts[i]** is our $prediction = weights * inputs + bias$ or $y = mx + b$ equation from lesson 3. Still blows my mind that these simple equations can be built up into such flexible models that are truly effective at solving problems.\n",
    "\n",
    "We also need to update our coefficients updating method since we've got many layers and constants rather than explicit setups"
   ]
  },
  {
   "cell_type": "code",
   "execution_count": 277,
   "id": "4eca5386-4da6-4c4f-bdc2-4433af72512d",
   "metadata": {},
   "outputs": [],
   "source": [
    "def update_coefficients(coefficients, learning_rate):\n",
    "    layers, consts = coefficients\n",
    "    for layer in layers+consts:\n",
    "        layer.sub_(layer.grad*learning_rate)\n",
    "        layer.grad.zero_()"
   ]
  },
  {
   "cell_type": "markdown",
   "id": "c6b6f9a2-8b87-4992-994b-acb3bfc442ca",
   "metadata": {},
   "source": [
    "And back to training our model"
   ]
  },
  {
   "cell_type": "code",
   "execution_count": 281,
   "id": "553a7deb-3b47-4a46-ada5-36974d6e2076",
   "metadata": {},
   "outputs": [
    {
     "name": "stdout",
     "output_type": "stream",
     "text": [
      "0.566; 0.476; 0.443; 0.423; 0.412; 0.406; 0.402; 0.399; 0.397; 0.395; 0.394; 0.393; 0.392; 0.391; 0.391; 0.390; 0.390; 0.390; 0.389; 0.389; 0.389; 0.389; 0.388; 0.388; 0.388; 0.388; 0.388; 0.388; 0.387; 0.387; "
     ]
    }
   ],
   "source": [
    "coefficients = train_model(learning_rate=12)"
   ]
  },
  {
   "cell_type": "code",
   "execution_count": 282,
   "id": "b8c000ec-c217-40cb-bc1b-95d889e7ea2b",
   "metadata": {},
   "outputs": [
    {
     "data": {
      "text/plain": [
       "tensor(0.6180)"
      ]
     },
     "execution_count": 282,
     "metadata": {},
     "output_type": "execute_result"
    }
   ],
   "source": [
    "accuracy(coefficients)"
   ]
  },
  {
   "cell_type": "markdown",
   "id": "64f16814-3b5a-4ae3-9c68-414c8c048ad1",
   "metadata": {},
   "source": [
    "Ok maybe this model architecture wasn't as great as our two layers but its still cool to see how we can 'artisinally' create our layers and whats happening within each layer. This was a really interesting 'double up' on lesson 3 which covers the same chapter 4 of the book. I'm feeling very confident in the raw mechanices of how these models function which is fantastic. On to lesson 6 and thanks for reading if you're here with me."
   ]
  },
  {
   "cell_type": "code",
   "execution_count": null,
   "id": "2646457e-0cce-4b28-a157-7978ff7a4d3a",
   "metadata": {},
   "outputs": [],
   "source": []
  }
 ],
 "metadata": {
  "kernelspec": {
   "display_name": "Python 3 (ipykernel)",
   "language": "python",
   "name": "python3"
  },
  "language_info": {
   "codemirror_mode": {
    "name": "ipython",
    "version": 3
   },
   "file_extension": ".py",
   "mimetype": "text/x-python",
   "name": "python",
   "nbconvert_exporter": "python",
   "pygments_lexer": "ipython3",
   "version": "3.10.8"
  }
 },
 "nbformat": 4,
 "nbformat_minor": 5
}
