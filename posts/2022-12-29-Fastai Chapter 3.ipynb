{
 "cells": [
  {
   "cell_type": "raw",
   "id": "6cee887a",
   "metadata": {},
   "source": [
    "---\n",
    "aliases:\n",
    "- /ML/fastai/jupyter/2022/12/26/Fastai Chapter 3\n",
    "badges: true\n",
    "categories:\n",
    "- jupyter\n",
    "- fastai\n",
    "- ML\n",
    "date: '2022-12-29'\n",
    "description: ReLu, Matrix Multiplication, Tensors, Gradient Descent\n",
    "output-file: 2022-12-29-fastai chapter 3.html\n",
    "title: Fastai Chapter 3 | Neural Net Foundations\n",
    "author: Nicholas Lillywhite\n",
    "draft: true\n",
    "toc: true\n",
    "image: \"images/shark.jpg\"\n",
    "---\n",
    "\n"
   ]
  },
  {
   "cell_type": "markdown",
   "id": "60018f19-1234-438b-ba12-777cd35ca633",
   "metadata": {},
   "source": [
    "# Chapter 3 | Neural Nets Foundations\n",
    "> If You are Feeling Intimidated Like Me, Lets Work Through This Together\n",
    "\n",
    ">Checkout this notebook in [colab](https://colab.research.google.com/github/nglillywhite/blog/blob/main/posts/2022-12-29-Fastai%20Chapter%203.ipynb)\n",
    "\n",
    "This chapter focuses on understanding the absolute bare bones fundamentals of how deep learning works. In particular the individual calculations that are being done at each and every 'artificial neuron' of any deep learning network that we build. I'm certainly not from a math background and am generally intimidated but intrigued by learning math like this. I think I have shaky foundational math understanding but I'm hoping working through this course in great detail will bolster these core concepts and I can build on them. Despite my enjoyment of math in school, I did only the general curriculum in my final two years because the math teachers in my school were able to induce a coma purely via the audio of their voice. I have no doubt they were well intentioned people but many were phoning in the days and I wasn't willing to spend half of my school day with them. I'm paying the price for it now having to re-learn these concepts but maybe its for the best, if they'd explained that $y=mx+b$, derivatives, and quadratics could detect cancers and make self driving cars I probably would have been a more passionate student. I feel very much a product of the \"[Mathematician's Lament](https://www.maa.org/external_archive/devlin/LockhartsLament.pdf)\" that is referenced in chapter 1 of the book. Its a lovely read and I took many lessons away from the write-up, not only in how I want to teach things going forward but also a strong emotional response to how something as incredible as math is ruined and tarnished because of how its taught. Think of where we could be, but nonetheless this blog is about chapter 3 of the fastai course, not math education.\n",
    "\n",
    "Nonetheless here I am, and in the spirit of the \"Sidebar: Tenacity and Deep Learning\" from the book, I'm hoping that writing this blog and working through the content is a explicit evidence of success for me being both tenacious, and re-learning my math roots.\n",
    "\n",
    "## Main Topics\n",
    "\n",
    "The main concepts I want to have a 'mechanistic' & intuitive feeling for after this chapter are:\n",
    "\n",
    " - ReLu\n",
    " - Matrix Multiplication\n",
    " - Tensors\n",
    " - Gradient Descent\n",
    " \n",
    "Hopefully after reading this blog you also feel comfortable with these important tools and feel as comfortable as I intend to be implementing and discussing these core concepts.\n",
    "\n",
    "As mentioned in the lecture, this chapter has different content in the book from the lecture and I'd like to work through both, I'm firstly going to follow along the lecture with Jeremy and re-write & create the functions and tools he builds, barring the excel work which I'd like to re-write in python here, I will then work through the book content."
   ]
  },
  {
   "cell_type": "markdown",
   "id": "59603e6f-a0d3-492e-93d6-cccecd43c64d",
   "metadata": {},
   "source": [
    "## Lecture Content"
   ]
  },
  {
   "cell_type": "markdown",
   "id": "30c83957-84d2-4bee-8fcb-9f36170045c1",
   "metadata": {},
   "source": [
    "### Timm Module\n",
    "\n",
    "Jeremy first talks through improving his pet classifier from the previous lesson, in particular having a look at different architectures and using the 'timm' library for vision model architectures. Lets have a look at the timm module and whats available"
   ]
  },
  {
   "cell_type": "code",
   "execution_count": 1,
   "id": "d3b9216d-5f42-433d-85a7-000cdb67dfa7",
   "metadata": {},
   "outputs": [
    {
     "data": {
      "text/plain": [
       "(964,\n",
       " ['adv_inception_v3',\n",
       "  'bat_resnext26ts',\n",
       "  'beit_base_patch16_224',\n",
       "  'beit_base_patch16_224_in22k',\n",
       "  'beit_base_patch16_384',\n",
       "  'beit_large_patch16_224',\n",
       "  'beit_large_patch16_224_in22k',\n",
       "  'beit_large_patch16_384',\n",
       "  'beit_large_patch16_512',\n",
       "  'beitv2_base_patch16_224',\n",
       "  'beitv2_base_patch16_224_in22k',\n",
       "  'beitv2_large_patch16_224',\n",
       "  'beitv2_large_patch16_224_in22k',\n",
       "  'botnet26t_256',\n",
       "  'botnet50ts_256',\n",
       "  'cait_m36_384',\n",
       "  'cait_m48_448',\n",
       "  'cait_s24_224',\n",
       "  'cait_s24_384',\n",
       "  'cait_s36_384'])"
      ]
     },
     "execution_count": 1,
     "metadata": {},
     "output_type": "execute_result"
    }
   ],
   "source": [
    "import timm\n",
    "\n",
    "len(timm.list_models()), timm.list_models()[:20]"
   ]
  },
  {
   "cell_type": "markdown",
   "id": "288369e7-1949-4d27-b2ac-ba12218f51a5",
   "metadata": {},
   "source": [
    "There are a lot of models, almost ~1000 which is kind of nuts, looks like its certainly beefed up by different sizes of what I think is the same architecture structure, lets get a model down and have a look at the architecture."
   ]
  },
  {
   "cell_type": "code",
   "execution_count": 2,
   "id": "835d3747-98c4-4cc2-96d4-5e4f9b109a32",
   "metadata": {},
   "outputs": [
    {
     "data": {
      "text/plain": [
       "ResNet(\n",
       "  (conv1): Conv2d(3, 64, kernel_size=(7, 7), stride=(2, 2), padding=(3, 3), bias=False)\n",
       "  (bn1): BatchNorm2d(64, eps=1e-05, momentum=0.1, affine=True, track_running_stats=True)\n",
       "  (act1): ReLU(inplace=True)\n",
       "  (maxpool): MaxPool2d(kernel_size=3, stride=2, padding=1, dilation=1, ceil_mode=False)\n",
       "  (layer1): Sequential(\n",
       "    (0): BasicBlock(\n",
       "      (conv1): Conv2d(64, 64, kernel_size=(3, 3), stride=(1, 1), padding=(1, 1), bias=False)\n",
       "      (bn1): BatchNorm2d(64, eps=1e-05, momentum=0.1, affine=True, track_running_stats=True)\n",
       "      (drop_block): Identity()\n",
       "      (act1): ReLU(inplace=True)\n",
       "      (aa): Identity()\n",
       "      (conv2): Conv2d(64, 64, kernel_size=(3, 3), stride=(1, 1), padding=(1, 1), bias=False)\n",
       "      (bn2): BatchNorm2d(64, eps=1e-05, momentum=0.1, affine=True, track_running_stats=True)\n",
       "      (act2): ReLU(inplace=True)\n",
       "    )\n",
       "    (1): BasicBlock(\n",
       "      (conv1): Conv2d(64, 64, kernel_size=(3, 3), stride=(1, 1), padding=(1, 1), bias=False)\n",
       "      (bn1): BatchNorm2d(64, eps=1e-05, momentum=0.1, affine=True, track_running_stats=True)\n",
       "      (drop_block): Identity()\n",
       "      (act1): ReLU(inplace=True)\n",
       "      (aa): Identity()\n",
       "      (conv2): Conv2d(64, 64, kernel_size=(3, 3), stride=(1, 1), padding=(1, 1), bias=False)\n",
       "      (bn2): BatchNorm2d(64, eps=1e-05, momentum=0.1, affine=True, track_running_stats=True)\n",
       "      (act2): ReLU(inplace=True)\n",
       "    )\n",
       "  )\n",
       "  (layer2): Sequential(\n",
       "    (0): BasicBlock(\n",
       "      (conv1): Conv2d(64, 128, kernel_size=(3, 3), stride=(2, 2), padding=(1, 1), bias=False)\n",
       "      (bn1): BatchNorm2d(128, eps=1e-05, momentum=0.1, affine=True, track_running_stats=True)\n",
       "      (drop_block): Identity()\n",
       "      (act1): ReLU(inplace=True)\n",
       "      (aa): Identity()\n",
       "      (conv2): Conv2d(128, 128, kernel_size=(3, 3), stride=(1, 1), padding=(1, 1), bias=False)\n",
       "      (bn2): BatchNorm2d(128, eps=1e-05, momentum=0.1, affine=True, track_running_stats=True)\n",
       "      (act2): ReLU(inplace=True)\n",
       "      (downsample): Sequential(\n",
       "        (0): Conv2d(64, 128, kernel_size=(1, 1), stride=(2, 2), bias=False)\n",
       "        (1): BatchNorm2d(128, eps=1e-05, momentum=0.1, affine=True, track_running_stats=True)\n",
       "      )\n",
       "    )\n",
       "    (1): BasicBlock(\n",
       "      (conv1): Conv2d(128, 128, kernel_size=(3, 3), stride=(1, 1), padding=(1, 1), bias=False)\n",
       "      (bn1): BatchNorm2d(128, eps=1e-05, momentum=0.1, affine=True, track_running_stats=True)\n",
       "      (drop_block): Identity()\n",
       "      (act1): ReLU(inplace=True)\n",
       "      (aa): Identity()\n",
       "      (conv2): Conv2d(128, 128, kernel_size=(3, 3), stride=(1, 1), padding=(1, 1), bias=False)\n",
       "      (bn2): BatchNorm2d(128, eps=1e-05, momentum=0.1, affine=True, track_running_stats=True)\n",
       "      (act2): ReLU(inplace=True)\n",
       "    )\n",
       "  )\n",
       "  (layer3): Sequential(\n",
       "    (0): BasicBlock(\n",
       "      (conv1): Conv2d(128, 256, kernel_size=(3, 3), stride=(2, 2), padding=(1, 1), bias=False)\n",
       "      (bn1): BatchNorm2d(256, eps=1e-05, momentum=0.1, affine=True, track_running_stats=True)\n",
       "      (drop_block): Identity()\n",
       "      (act1): ReLU(inplace=True)\n",
       "      (aa): Identity()\n",
       "      (conv2): Conv2d(256, 256, kernel_size=(3, 3), stride=(1, 1), padding=(1, 1), bias=False)\n",
       "      (bn2): BatchNorm2d(256, eps=1e-05, momentum=0.1, affine=True, track_running_stats=True)\n",
       "      (act2): ReLU(inplace=True)\n",
       "      (downsample): Sequential(\n",
       "        (0): Conv2d(128, 256, kernel_size=(1, 1), stride=(2, 2), bias=False)\n",
       "        (1): BatchNorm2d(256, eps=1e-05, momentum=0.1, affine=True, track_running_stats=True)\n",
       "      )\n",
       "    )\n",
       "    (1): BasicBlock(\n",
       "      (conv1): Conv2d(256, 256, kernel_size=(3, 3), stride=(1, 1), padding=(1, 1), bias=False)\n",
       "      (bn1): BatchNorm2d(256, eps=1e-05, momentum=0.1, affine=True, track_running_stats=True)\n",
       "      (drop_block): Identity()\n",
       "      (act1): ReLU(inplace=True)\n",
       "      (aa): Identity()\n",
       "      (conv2): Conv2d(256, 256, kernel_size=(3, 3), stride=(1, 1), padding=(1, 1), bias=False)\n",
       "      (bn2): BatchNorm2d(256, eps=1e-05, momentum=0.1, affine=True, track_running_stats=True)\n",
       "      (act2): ReLU(inplace=True)\n",
       "    )\n",
       "  )\n",
       "  (layer4): Sequential(\n",
       "    (0): BasicBlock(\n",
       "      (conv1): Conv2d(256, 512, kernel_size=(3, 3), stride=(2, 2), padding=(1, 1), bias=False)\n",
       "      (bn1): BatchNorm2d(512, eps=1e-05, momentum=0.1, affine=True, track_running_stats=True)\n",
       "      (drop_block): Identity()\n",
       "      (act1): ReLU(inplace=True)\n",
       "      (aa): Identity()\n",
       "      (conv2): Conv2d(512, 512, kernel_size=(3, 3), stride=(1, 1), padding=(1, 1), bias=False)\n",
       "      (bn2): BatchNorm2d(512, eps=1e-05, momentum=0.1, affine=True, track_running_stats=True)\n",
       "      (act2): ReLU(inplace=True)\n",
       "      (downsample): Sequential(\n",
       "        (0): Conv2d(256, 512, kernel_size=(1, 1), stride=(2, 2), bias=False)\n",
       "        (1): BatchNorm2d(512, eps=1e-05, momentum=0.1, affine=True, track_running_stats=True)\n",
       "      )\n",
       "    )\n",
       "    (1): BasicBlock(\n",
       "      (conv1): Conv2d(512, 512, kernel_size=(3, 3), stride=(1, 1), padding=(1, 1), bias=False)\n",
       "      (bn1): BatchNorm2d(512, eps=1e-05, momentum=0.1, affine=True, track_running_stats=True)\n",
       "      (drop_block): Identity()\n",
       "      (act1): ReLU(inplace=True)\n",
       "      (aa): Identity()\n",
       "      (conv2): Conv2d(512, 512, kernel_size=(3, 3), stride=(1, 1), padding=(1, 1), bias=False)\n",
       "      (bn2): BatchNorm2d(512, eps=1e-05, momentum=0.1, affine=True, track_running_stats=True)\n",
       "      (act2): ReLU(inplace=True)\n",
       "    )\n",
       "  )\n",
       "  (global_pool): SelectAdaptivePool2d (pool_type=avg, flatten=Flatten(start_dim=1, end_dim=-1))\n",
       "  (fc): Linear(in_features=512, out_features=1000, bias=True)\n",
       ")"
      ]
     },
     "execution_count": 2,
     "metadata": {},
     "output_type": "execute_result"
    }
   ],
   "source": [
    "resnet18 = timm.models.resnet18()\n",
    "resnet18"
   ]
  },
  {
   "cell_type": "markdown",
   "id": "82fd81dc-860b-4cd5-b632-ef471256a6ec",
   "metadata": {},
   "source": [
    "Ok so I've brought down a 'tiny' model (in the scheme of todays models which have millions of parameters) called resnet16 which I used on my shark classifier in chapter 2 and the resnet architecture is what Jeremy references in the lecture.\n",
    "\n",
    "It looks like there are many 'Sequential' layers with 'BasicBlocks' inside them which then have a bunch of individual 'submodules' if we copy the language from the model.get_submodule() API which we're about to use. Lets now have a look at a particular submodule. The get_submodule() method allows us to step down the 'tree' and 'branches' of the layers with a dot notation. We shall step all the way down to a leaf, take particular note of the branch names contained within the smooth brackets '()'. First we go via the \"Layer1\" layer, into the first BasicBlock which has the notation of '(O)', I'm guessing because the layer is an array of BasicBlocks, the first index being 0, then I'm going to pick the BatchNorm2d submodule which has the notation of '(bn1)' within the brackets."
   ]
  },
  {
   "cell_type": "code",
   "execution_count": 3,
   "id": "48ee929c-900c-49f3-bef6-78cc529ec284",
   "metadata": {},
   "outputs": [
    {
     "data": {
      "text/plain": [
       "[Parameter containing:\n",
       " tensor([1., 1., 1., 1., 1., 1., 1., 1., 1., 1., 1., 1., 1., 1., 1., 1., 1., 1.,\n",
       "         1., 1., 1., 1., 1., 1., 1., 1., 1., 1., 1., 1., 1., 1., 1., 1., 1., 1.,\n",
       "         1., 1., 1., 1., 1., 1., 1., 1., 1., 1., 1., 1., 1., 1., 1., 1., 1., 1.,\n",
       "         1., 1., 1., 1., 1., 1., 1., 1., 1., 1.], requires_grad=True),\n",
       " Parameter containing:\n",
       " tensor([0., 0., 0., 0., 0., 0., 0., 0., 0., 0., 0., 0., 0., 0., 0., 0., 0., 0., 0., 0., 0., 0., 0., 0.,\n",
       "         0., 0., 0., 0., 0., 0., 0., 0., 0., 0., 0., 0., 0., 0., 0., 0., 0., 0., 0., 0., 0., 0., 0., 0.,\n",
       "         0., 0., 0., 0., 0., 0., 0., 0., 0., 0., 0., 0., 0., 0., 0., 0.],\n",
       "        requires_grad=True)]"
      ]
     },
     "execution_count": 3,
     "metadata": {},
     "output_type": "execute_result"
    }
   ],
   "source": [
    "layer = resnet18.get_submodule(\"layer1.0.bn1\")\n",
    "list(layer.parameters())"
   ]
  },
  {
   "cell_type": "markdown",
   "id": "194d1d9f-2d3a-4965-929c-ff5c9bb5cc5c",
   "metadata": {},
   "source": [
    "OK so we've got a couple of tensors, one set to all ones and another set to all zeroes, lets have a look at the doc to see if there's any hints."
   ]
  },
  {
   "cell_type": "code",
   "execution_count": 4,
   "id": "aed2fe06-c1b4-43f5-8b38-7cbc31acc206",
   "metadata": {},
   "outputs": [
    {
     "data": {
      "text/plain": [
       "\u001b[1;31mInit signature:\u001b[0m\n",
       "\u001b[0mBatchNorm2d\u001b[0m\u001b[1;33m(\u001b[0m\u001b[1;33m\n",
       "\u001b[0m    \u001b[0mnum_features\u001b[0m\u001b[1;33m:\u001b[0m \u001b[0mint\u001b[0m\u001b[1;33m,\u001b[0m\u001b[1;33m\n",
       "\u001b[0m    \u001b[0meps\u001b[0m\u001b[1;33m:\u001b[0m \u001b[0mfloat\u001b[0m \u001b[1;33m=\u001b[0m \u001b[1;36m1e-05\u001b[0m\u001b[1;33m,\u001b[0m\u001b[1;33m\n",
       "\u001b[0m    \u001b[0mmomentum\u001b[0m\u001b[1;33m:\u001b[0m \u001b[0mfloat\u001b[0m \u001b[1;33m=\u001b[0m \u001b[1;36m0.1\u001b[0m\u001b[1;33m,\u001b[0m\u001b[1;33m\n",
       "\u001b[0m    \u001b[0maffine\u001b[0m\u001b[1;33m:\u001b[0m \u001b[0mbool\u001b[0m \u001b[1;33m=\u001b[0m \u001b[1;32mTrue\u001b[0m\u001b[1;33m,\u001b[0m\u001b[1;33m\n",
       "\u001b[0m    \u001b[0mtrack_running_stats\u001b[0m\u001b[1;33m:\u001b[0m \u001b[0mbool\u001b[0m \u001b[1;33m=\u001b[0m \u001b[1;32mTrue\u001b[0m\u001b[1;33m,\u001b[0m\u001b[1;33m\n",
       "\u001b[0m    \u001b[0mdevice\u001b[0m\u001b[1;33m=\u001b[0m\u001b[1;32mNone\u001b[0m\u001b[1;33m,\u001b[0m\u001b[1;33m\n",
       "\u001b[0m    \u001b[0mdtype\u001b[0m\u001b[1;33m=\u001b[0m\u001b[1;32mNone\u001b[0m\u001b[1;33m,\u001b[0m\u001b[1;33m\n",
       "\u001b[0m\u001b[1;33m)\u001b[0m \u001b[1;33m->\u001b[0m \u001b[1;32mNone\u001b[0m\u001b[1;33m\u001b[0m\u001b[1;33m\u001b[0m\u001b[0m\n",
       "\u001b[1;31mDocstring:\u001b[0m     \n",
       "Applies Batch Normalization over a 4D input (a mini-batch of 2D inputs\n",
       "with additional channel dimension) as described in the paper\n",
       "`Batch Normalization: Accelerating Deep Network Training by Reducing\n",
       "Internal Covariate Shift <https://arxiv.org/abs/1502.03167>`__ .\n",
       "\n",
       ".. math::\n",
       "\n",
       "    y = \\frac{x - \\mathrm{E}[x]}{ \\sqrt{\\mathrm{Var}[x] + \\epsilon}} * \\gamma + \\beta\n",
       "\n",
       "The mean and standard-deviation are calculated per-dimension over\n",
       "the mini-batches and :math:`\\gamma` and :math:`\\beta` are learnable parameter vectors\n",
       "of size `C` (where `C` is the input size). By default, the elements of :math:`\\gamma` are set\n",
       "to 1 and the elements of :math:`\\beta` are set to 0. The standard-deviation is calculated\n",
       "via the biased estimator, equivalent to `torch.var(input, unbiased=False)`.\n",
       "\n",
       "Also by default, during training this layer keeps running estimates of its\n",
       "computed mean and variance, which are then used for normalization during\n",
       "evaluation. The running estimates are kept with a default :attr:`momentum`\n",
       "of 0.1.\n",
       "\n",
       "If :attr:`track_running_stats` is set to ``False``, this layer then does not\n",
       "keep running estimates, and batch statistics are instead used during\n",
       "evaluation time as well.\n",
       "\n",
       ".. note::\n",
       "    This :attr:`momentum` argument is different from one used in optimizer\n",
       "    classes and the conventional notion of momentum. Mathematically, the\n",
       "    update rule for running statistics here is\n",
       "    :math:`\\hat{x}_\\text{new} = (1 - \\text{momentum}) \\times \\hat{x} + \\text{momentum} \\times x_t`,\n",
       "    where :math:`\\hat{x}` is the estimated statistic and :math:`x_t` is the\n",
       "    new observed value.\n",
       "\n",
       "Because the Batch Normalization is done over the `C` dimension, computing statistics\n",
       "on `(N, H, W)` slices, it's common terminology to call this Spatial Batch Normalization.\n",
       "\n",
       "Args:\n",
       "    num_features: :math:`C` from an expected input of size\n",
       "        :math:`(N, C, H, W)`\n",
       "    eps: a value added to the denominator for numerical stability.\n",
       "        Default: 1e-5\n",
       "    momentum: the value used for the running_mean and running_var\n",
       "        computation. Can be set to ``None`` for cumulative moving average\n",
       "        (i.e. simple average). Default: 0.1\n",
       "    affine: a boolean value that when set to ``True``, this module has\n",
       "        learnable affine parameters. Default: ``True``\n",
       "    track_running_stats: a boolean value that when set to ``True``, this\n",
       "        module tracks the running mean and variance, and when set to ``False``,\n",
       "        this module does not track such statistics, and initializes statistics\n",
       "        buffers :attr:`running_mean` and :attr:`running_var` as ``None``.\n",
       "        When these buffers are ``None``, this module always uses batch statistics.\n",
       "        in both training and eval modes. Default: ``True``\n",
       "\n",
       "Shape:\n",
       "    - Input: :math:`(N, C, H, W)`\n",
       "    - Output: :math:`(N, C, H, W)` (same shape as input)\n",
       "\n",
       "Examples::\n",
       "\n",
       "    >>> # With Learnable Parameters\n",
       "    >>> m = nn.BatchNorm2d(100)\n",
       "    >>> # Without Learnable Parameters\n",
       "    >>> m = nn.BatchNorm2d(100, affine=False)\n",
       "    >>> input = torch.randn(20, 100, 35, 45)\n",
       "    >>> output = m(input)\n",
       "\u001b[1;31mInit docstring:\u001b[0m Initializes internal Module state, shared by both nn.Module and ScriptModule.\n",
       "\u001b[1;31mFile:\u001b[0m           c:\\users\\nick\\anaconda3\\envs\\fastai\\lib\\site-packages\\torch\\nn\\modules\\batchnorm.py\n",
       "\u001b[1;31mType:\u001b[0m           type\n",
       "\u001b[1;31mSubclasses:\u001b[0m     BatchNormAct2d, SplitBatchNorm2d\n"
      ]
     },
     "metadata": {},
     "output_type": "display_data"
    }
   ],
   "source": [
    "from torch.nn import BatchNorm2d\n",
    "\n",
    "BatchNorm2d?"
   ]
  },
  {
   "cell_type": "markdown",
   "id": "5b99a37f-01d6-4c2e-aa7c-d9c232e33670",
   "metadata": {},
   "source": [
    "Ok deadset I'm not sure what a lot, if not all of this means, but there's a nice link to the paper that proposed this submodule. Maybe I'll revisit this later or what I'm guessing is that we will discuss batch normalisation as part of the course. Nonetheless, credit due to the pytorch team for awesome docs and references. I'm certainly feeling comfortable picking apart a model and submodules to then research or understand the peices. And to Jeremy's point, it looks like each module is just tensors which I'm assuming get matrix multiplied.\n",
    "\n",
    "Lets have a look at another one"
   ]
  },
  {
   "cell_type": "code",
   "execution_count": 5,
   "id": "85871cda-3f6d-4bf6-86c6-0fff6f7c0b43",
   "metadata": {},
   "outputs": [
    {
     "data": {
      "text/plain": [
       "[Parameter containing:\n",
       " tensor([[[[-0.1708, -0.0008,  0.0283],\n",
       "           [ 0.0404, -0.0414,  0.0004],\n",
       "           [-0.0582,  0.0575,  0.0221]],\n",
       " \n",
       "          [[ 0.0625, -0.0453, -0.0501],\n",
       "           [ 0.0574, -0.0478,  0.0110],\n",
       "           [-0.0031, -0.0606,  0.0476]],\n",
       " \n",
       "          [[-0.0282, -0.0254,  0.0456],\n",
       "           [ 0.1134, -0.1320,  0.0408],\n",
       "           [-0.0691, -0.0602,  0.0513]],\n",
       " \n",
       "          ...,\n",
       " \n",
       "          [[-0.0202, -0.0382, -0.0890],\n",
       "           [ 0.0555,  0.0035, -0.0764],\n",
       "           [-0.0448,  0.0637, -0.0027]],\n",
       " \n",
       "          [[-0.0301, -0.0475, -0.0891],\n",
       "           [-0.0582, -0.0620, -0.0160],\n",
       "           [ 0.0097,  0.0429, -0.0588]],\n",
       " \n",
       "          [[-0.1014,  0.0125, -0.0374],\n",
       "           [ 0.0455,  0.0338,  0.0002],\n",
       "           [-0.0432, -0.0051, -0.0248]]],\n",
       " \n",
       " \n",
       "         [[[ 0.0417, -0.0425, -0.0326],\n",
       "           [-0.0089, -0.0420, -0.0853],\n",
       "           [-0.0394, -0.0970, -0.0747]],\n",
       " \n",
       "          [[ 0.0112,  0.0069, -0.0039],\n",
       "           [-0.0214, -0.0187, -0.0827],\n",
       "           [-0.0781, -0.0208,  0.0359]],\n",
       " \n",
       "          [[ 0.0689,  0.0129,  0.0185],\n",
       "           [ 0.0721,  0.0241,  0.0292],\n",
       "           [ 0.0155,  0.0769,  0.0311]],\n",
       " \n",
       "          ...,\n",
       " \n",
       "          [[-0.0188, -0.0575,  0.0516],\n",
       "           [ 0.0724, -0.0890,  0.0791],\n",
       "           [ 0.0572, -0.1107, -0.0922]],\n",
       " \n",
       "          [[ 0.0727,  0.1694, -0.0277],\n",
       "           [ 0.1195, -0.0304, -0.0985],\n",
       "           [-0.0701,  0.0545,  0.0616]],\n",
       " \n",
       "          [[ 0.0438, -0.0230, -0.0073],\n",
       "           [ 0.0115, -0.0022,  0.0713],\n",
       "           [-0.0340, -0.0145, -0.0772]]],\n",
       " \n",
       " \n",
       "         [[[ 0.0652,  0.0245,  0.0267],\n",
       "           [-0.0443,  0.0372, -0.0279],\n",
       "           [ 0.0063, -0.0324, -0.0012]],\n",
       " \n",
       "          [[-0.0050, -0.1213, -0.0122],\n",
       "           [ 0.0700,  0.0524, -0.0447],\n",
       "           [-0.0122, -0.0237,  0.0698]],\n",
       " \n",
       "          [[ 0.0884, -0.0317, -0.0079],\n",
       "           [ 0.0495, -0.1041, -0.0545],\n",
       "           [-0.0719,  0.0075, -0.0378]],\n",
       " \n",
       "          ...,\n",
       " \n",
       "          [[ 0.0690, -0.0273, -0.0637],\n",
       "           [-0.0728, -0.0545, -0.0121],\n",
       "           [ 0.0023, -0.0022,  0.0468]],\n",
       " \n",
       "          [[ 0.0066,  0.0419,  0.0615],\n",
       "           [ 0.0044,  0.0573,  0.0197],\n",
       "           [-0.0264, -0.1143, -0.0521]],\n",
       " \n",
       "          [[ 0.0254,  0.0286,  0.0720],\n",
       "           [-0.0133,  0.0253,  0.0596],\n",
       "           [ 0.0399, -0.0278, -0.0306]]],\n",
       " \n",
       " \n",
       "         ...,\n",
       " \n",
       " \n",
       "         [[[-0.0581,  0.0442,  0.0279],\n",
       "           [-0.0310, -0.0229, -0.0231],\n",
       "           [ 0.0409, -0.0507,  0.0483]],\n",
       " \n",
       "          [[ 0.0646,  0.0647,  0.0178],\n",
       "           [ 0.0226,  0.0695,  0.0022],\n",
       "           [ 0.0326,  0.0064, -0.0377]],\n",
       " \n",
       "          [[ 0.0989, -0.0013,  0.0477],\n",
       "           [ 0.0953, -0.0774, -0.0227],\n",
       "           [ 0.0117,  0.0316,  0.0031]],\n",
       " \n",
       "          ...,\n",
       " \n",
       "          [[ 0.0123, -0.0435,  0.0406],\n",
       "           [ 0.0118, -0.0544, -0.1162],\n",
       "           [ 0.0171, -0.0611, -0.0534]],\n",
       " \n",
       "          [[ 0.1073, -0.0412, -0.0227],\n",
       "           [ 0.0085,  0.0252, -0.0248],\n",
       "           [ 0.0456, -0.0725,  0.0739]],\n",
       " \n",
       "          [[-0.0464, -0.0286,  0.0573],\n",
       "           [-0.0572, -0.1016, -0.0295],\n",
       "           [ 0.0325, -0.0745,  0.0240]]],\n",
       " \n",
       " \n",
       "         [[[ 0.0471, -0.0457,  0.0659],\n",
       "           [ 0.0070,  0.0052, -0.0399],\n",
       "           [-0.0279, -0.0290,  0.0649]],\n",
       " \n",
       "          [[-0.0136, -0.0168, -0.0601],\n",
       "           [-0.0239,  0.0988,  0.0027],\n",
       "           [ 0.0466,  0.0765, -0.0345]],\n",
       " \n",
       "          [[-0.0289,  0.0530,  0.0121],\n",
       "           [ 0.0161, -0.0301, -0.0096],\n",
       "           [ 0.0130, -0.0366,  0.0348]],\n",
       " \n",
       "          ...,\n",
       " \n",
       "          [[-0.0406,  0.1105,  0.0933],\n",
       "           [ 0.0727, -0.0109,  0.0132],\n",
       "           [-0.0242,  0.0572, -0.0248]],\n",
       " \n",
       "          [[ 0.0936, -0.0235,  0.0355],\n",
       "           [-0.0265, -0.1317, -0.0026],\n",
       "           [-0.0317,  0.0232,  0.0543]],\n",
       " \n",
       "          [[ 0.0115,  0.0452, -0.0261],\n",
       "           [-0.0191, -0.0126, -0.0341],\n",
       "           [ 0.0698,  0.0234,  0.0748]]],\n",
       " \n",
       " \n",
       "         [[[-0.0470,  0.0225, -0.0626],\n",
       "           [ 0.1119, -0.0407,  0.0687],\n",
       "           [-0.1261, -0.0341,  0.0531]],\n",
       " \n",
       "          [[ 0.0302,  0.0131,  0.0365],\n",
       "           [ 0.0466,  0.0757, -0.0115],\n",
       "           [-0.0861, -0.0048,  0.1317]],\n",
       " \n",
       "          [[-0.1384,  0.0171, -0.0450],\n",
       "           [ 0.0192, -0.0143, -0.0467],\n",
       "           [ 0.0729,  0.0098, -0.0715]],\n",
       " \n",
       "          ...,\n",
       " \n",
       "          [[ 0.1310,  0.0443, -0.0072],\n",
       "           [ 0.0362,  0.0047, -0.0409],\n",
       "           [ 0.0991, -0.0405, -0.0100]],\n",
       " \n",
       "          [[-0.0769, -0.0091,  0.1166],\n",
       "           [-0.0998, -0.0135, -0.0102],\n",
       "           [-0.0284, -0.0630,  0.0137]],\n",
       " \n",
       "          [[-0.0143, -0.0146,  0.1312],\n",
       "           [-0.0391, -0.0225,  0.0209],\n",
       "           [ 0.0646, -0.0575, -0.0710]]]], requires_grad=True)]"
      ]
     },
     "execution_count": 5,
     "metadata": {},
     "output_type": "execute_result"
    }
   ],
   "source": [
    "layer = resnet18.get_submodule(\"layer1.0.conv2\")\n",
    "list(layer.parameters())"
   ]
  },
  {
   "cell_type": "markdown",
   "id": "227b2cde-105a-49b5-9ed2-f4a58f4d7ecb",
   "metadata": {},
   "source": [
    "Ok lets stop that, this thing is big. But nonetheless its interesting to see the different shapes and values, the batch norm module had zeroes and ones, this one seems to have all sorts of values and the shape is very different.\n",
    "\n",
    "As Jeremy mentions, apparently these numbers can figure out if a dog is a basset hound or not, or in our previous example, a great white shark or a hammerhead. However this isn't clear at this time. Again as Jeremy mentions, machine learning is the act of fitting a function to data, lets investigate this further.\n",
    "\n",
    "### How Do We Fit a Function to Data\n",
    "\n",
    "Lets first build a general quadratic equation and plot it. I don't actually have an intuitive feeling for what makes this a 'quadratic' but again in the spirit of 80% do and 20% study, I'm going to soldier on to see the 'ball game' played out and circle back later to solidfy my theory as part of the 20% reading principle outlined in Radek's Metalearning book which I love. Note to Radek, I'm trusting you that this is a good plan, its working so far but as a product of school doing the opposite, I feel very conflicted moving on without actually 'knowing'.\n"
   ]
  },
  {
   "cell_type": "code",
   "execution_count": 6,
   "id": "ee1d47de-4628-462b-bbed-c9dcbfd54c8b",
   "metadata": {},
   "outputs": [
    {
     "data": {
      "image/png": "[encoded data removed]",
      "text/plain": [
       "<Figure size 600x400 with 1 Axes>"
      ]
     },
     "metadata": {},
     "output_type": "display_data"
    }
   ],
   "source": [
    "from fastbook import plot_function\n",
    "\n",
    "def f(x): return 3*x**2 + 2*x + 1\n",
    "\n",
    "plot_function(f, title=\"$3x^2 + 2x + 1$\")"
   ]
  },
  {
   "cell_type": "markdown",
   "id": "aca64f01-50d4-4e99-8655-bd51df571d2d",
   "metadata": {},
   "source": [
    "This f(x) function is nice to plot that particular function but it'd be nice to be able to play with the parameters, so lets define a quad() function where we can pass in what we like.\n",
    "\n",
    "Also functionally these two definitions of a function are the same that I've written below, its just a nice python syntax to be able to write it on one line but its not very common in the general python universe."
   ]
  },
  {
   "cell_type": "code",
   "execution_count": 7,
   "id": "0f12167b-a880-40ef-9d6d-b476247f66f0",
   "metadata": {},
   "outputs": [],
   "source": [
    "def quad(a,b,c,x): return a*x**2 + b*x + c\n",
    "\n",
    "def quad(a,b,c,x):\n",
    "    return a*x**2 + b*x + c"
   ]
  },
  {
   "cell_type": "code",
   "execution_count": 8,
   "id": "304e8083-e4e0-4df9-8db8-5162771c8acb",
   "metadata": {},
   "outputs": [
    {
     "data": {
      "text/plain": [
       "10.75"
      ]
     },
     "execution_count": 8,
     "metadata": {},
     "output_type": "execute_result"
    }
   ],
   "source": [
    "quad(3,2,1,1.5)"
   ]
  },
  {
   "cell_type": "markdown",
   "id": "10378769-8587-48cd-af48-635bb0831ac4",
   "metadata": {},
   "source": [
    "Lets introduce as Jeremy does partial functions, he describes it as something along the lines of 'fixing' part of a function. I've thought of it as making a modified function from another function but his description is simpler."
   ]
  },
  {
   "cell_type": "markdown",
   "id": "8cb09cc2-b144-4fdd-a877-b1f3a64b8158",
   "metadata": {},
   "source": [
    "### Partial Functions"
   ]
  },
  {
   "cell_type": "code",
   "execution_count": 9,
   "id": "da4fa2f2-8576-4faa-b96f-1565901deb01",
   "metadata": {},
   "outputs": [
    {
     "data": {
      "text/plain": [
       "10.75"
      ]
     },
     "execution_count": 9,
     "metadata": {},
     "output_type": "execute_result"
    }
   ],
   "source": [
    "from functools import partial\n",
    "\n",
    "def mk_quad(a,b,c): return partial(quad,a,b,c)\n",
    "f = mk_quad(3,2,1)\n",
    "f(1.5)"
   ]
  },
  {
   "cell_type": "code",
   "execution_count": 10,
   "id": "6c4586dd-895b-4179-813e-33e54f676775",
   "metadata": {},
   "outputs": [
    {
     "data": {
      "text/html": [
       "<hr/>\n",
       "<h3>partial</h3>\n",
       "<blockquote><pre><code>partial</code></pre></blockquote><p>partial(func, *args, **keywords) - new function with partial application\n",
       "of the given arguments and keywords.</p>"
      ],
      "text/plain": [
       "<IPython.core.display.HTML object>"
      ]
     },
     "metadata": {},
     "output_type": "display_data"
    }
   ],
   "source": [
    "from fastai.torch_core import doc\n",
    "\n",
    "doc(partial)"
   ]
  },
  {
   "cell_type": "markdown",
   "id": "088eef81-ee4c-400a-ad69-296fa299c36b",
   "metadata": {},
   "source": [
    "The [python docs themselves are quite useful](https://docs.python.org/3/library/functools.html#functools.partial) at describing partials. For example, \"Return a new partial object which when called will behave like *func* called with the positional and keyword arguments.\"\n",
    "\n",
    "\"The partial() is used for *partial function application* which \"freezes\" some portion of a function's arguements and keywords, resulting in a new object with a simplified signature.\"\n",
    "\n",
    "Looks like Jeremy is more accurate, closer to the original python docs & its probably a better analogy of partial objects. My understanding is improved and I'll stop saying function from another function and start espousing something similar to the docs & Jeremy."
   ]
  },
  {
   "cell_type": "code",
   "execution_count": 11,
   "id": "9c7ff2df-88b4-4b9a-bb84-c4d8aed67ea8",
   "metadata": {},
   "outputs": [
    {
     "data": {
      "image/png": "[encoded data removed]",
      "text/plain": [
       "<Figure size 600x400 with 1 Axes>"
      ]
     },
     "metadata": {},
     "output_type": "display_data"
    }
   ],
   "source": [
    "plot_function(f)"
   ]
  },
  {
   "cell_type": "markdown",
   "id": "1a27df66-1a87-447a-a7f7-31975d19a280",
   "metadata": {},
   "source": [
    "### Adding Noise to Our Perfect Functions"
   ]
  },
  {
   "cell_type": "markdown",
   "id": "2999cf96-7a19-4a83-81e0-06f0946fc5cb",
   "metadata": {},
   "source": [
    "Lets now make some 'real' looking data,  we can add some noise to this function to more closely represent what data we're more likely to spot out in the hypothetical real world where the generator function of our data is perfect like this but we also live in the same world with innacurate measuring devices.\n",
    "\n",
    "### Nassim Taleb is an Awesome Writer\n",
    "\n",
    "Side note, the book \"Fooled by Randomness\" and \"Black Swan\" by Nassim Taleb are genuinely inspiring works that made me think and behave about and in the world differently. In particular Nassim introduces the concept of these 'invisible' generators that create the randomness in our world, the main problem is that we only ever observe a sample from these generators. Despite 'long' time frames relative to our lives, ie having data over 20 years, that simply might be an insufficient sample from the 'generator' to make any worthwhile inference of what the actual likelihood of your observations actually are. Irrelevant to the python we're writing right now but when imaginging this hypothetical world where we observe this perfect function but only see a noisy version, I thought I'd share some of my favourite books."
   ]
  },
  {
   "cell_type": "code",
   "execution_count": 13,
   "id": "957bed43-7456-4ab9-9a74-1acf97a4694d",
   "metadata": {},
   "outputs": [],
   "source": [
    "from numpy.random import normal, seed, uniform\n",
    "import numpy as np\n",
    "\n",
    "np.random.seed(42)\n",
    "\n",
    "def noise(x, scale): return normal(scale=scale, size=x.shape)\n",
    "def add_noise(x, mult, add): return x * (1+noise(x, mult)) + noise(x,add)"
   ]
  },
  {
   "cell_type": "markdown",
   "id": "80c19947-54a0-4116-b027-8e7eeabf9665",
   "metadata": {},
   "source": [
    "Lets investigate each of the variables that Jeremy instantiates in the next few lines. I want to understand what each method is doing"
   ]
  },
  {
   "cell_type": "code",
   "execution_count": 24,
   "id": "879dbf3d-8ad6-478b-8065-c7794fe96fc5",
   "metadata": {},
   "outputs": [
    {
     "data": {
      "text/html": [
       "<hr/>\n",
       "<h3>RandomState.normal</h3>\n",
       "<blockquote><pre><code>RandomState.normal</code></pre></blockquote><p>Draw random samples from a normal (Gaussian) distribution.\n",
       "\n",
       "The probability density function of the normal distribution, first\n",
       "derived by De Moivre and 200 years later by both Gauss and Laplace\n",
       "independently [2]_, is often called the bell curve because of\n",
       "its characteristic shape (see the example below).\n",
       "\n",
       "The normal distributions occurs often in nature.  For example, it\n",
       "describes the commonly occurring distribution of samples influenced\n",
       "by a large number of tiny, random disturbances, each with its own\n",
       "unique distribution [2]_.\n",
       "\n",
       ".. note::\n",
       "    New code should use the ``normal`` method of a ``default_rng()``\n",
       "    instance instead; please see the :ref:`random-quick-start`.</p>"
      ],
      "text/plain": [
       "<IPython.core.display.HTML object>"
      ]
     },
     "metadata": {},
     "output_type": "display_data"
    }
   ],
   "source": [
    "doc(normal)"
   ]
  },
  {
   "cell_type": "markdown",
   "id": "1f38c25f-2a90-4a6d-8abf-287b57b9e338",
   "metadata": {},
   "source": [
    "Ok so the normal function will draw random samples from a normal distribution, we have a scale and size variable which set the standard deviation and number of outputs we'd like"
   ]
  },
  {
   "cell_type": "code",
   "execution_count": 25,
   "id": "a6737fe6-85bc-49a7-8016-f2473bd00e06",
   "metadata": {},
   "outputs": [
    {
     "data": {
      "text/plain": [
       "array([-0.13902531, -0.13971893,  0.07258868, -0.57398407, -0.51747535, -0.16868626, -0.30384934,  0.0942742 , -0.27240722, -0.42369111])"
      ]
     },
     "execution_count": 25,
     "metadata": {},
     "output_type": "execute_result"
    }
   ],
   "source": [
    "# We can see 10 samples which are taken from a normal distribution with a standard deviation of 0.3\n",
    "\n",
    "normal(scale=.3,size=10)"
   ]
  },
  {
   "cell_type": "code",
   "execution_count": 26,
   "id": "c841d1b5-bb2f-4588-a314-05a45fa56f7e",
   "metadata": {},
   "outputs": [
    {
     "data": {
      "text/plain": [
       "\u001b[1;31mDocstring:\u001b[0m\n",
       "linspace(start, end, steps, *, out=None, dtype=None, layout=torch.strided, device=None, requires_grad=False) -> Tensor\n",
       "\n",
       "Creates a one-dimensional tensor of size :attr:`steps` whose values are evenly\n",
       "spaced from :attr:`start` to :attr:`end`, inclusive. That is, the value are:\n",
       "\n",
       ".. math::\n",
       "    (\\text{start},\n",
       "    \\text{start} + \\frac{\\text{end} - \\text{start}}{\\text{steps} - 1},\n",
       "    \\ldots,\n",
       "    \\text{start} + (\\text{steps} - 2) * \\frac{\\text{end} - \\text{start}}{\\text{steps} - 1},\n",
       "    \\text{end})\n",
       "\n",
       "\n",
       "From PyTorch 1.11 linspace requires the steps argument. Use steps=100 to restore the previous behavior.\n",
       "\n",
       "Args:\n",
       "    start (float): the starting value for the set of points\n",
       "    end (float): the ending value for the set of points\n",
       "    steps (int): size of the constructed tensor\n",
       "\n",
       "Keyword arguments:\n",
       "    out (Tensor, optional): the output tensor.\n",
       "    dtype (torch.dtype, optional): the data type to perform the computation in.\n",
       "        Default: if None, uses the global default dtype (see torch.get_default_dtype())\n",
       "        when both :attr:`start` and :attr:`end` are real,\n",
       "        and corresponding complex dtype when either is complex.\n",
       "    layout (:class:`torch.layout`, optional): the desired layout of returned Tensor.\n",
       "        Default: ``torch.strided``.\n",
       "    device (:class:`torch.device`, optional): the desired device of returned tensor.\n",
       "        Default: if ``None``, uses the current device for the default tensor type\n",
       "        (see :func:`torch.set_default_tensor_type`). :attr:`device` will be the CPU\n",
       "        for CPU tensor types and the current CUDA device for CUDA tensor types.\n",
       "    requires_grad (bool, optional): If autograd should record operations on the\n",
       "        returned tensor. Default: ``False``.\n",
       "\n",
       "\n",
       "Example::\n",
       "\n",
       "    >>> torch.linspace(3, 10, steps=5)\n",
       "    tensor([  3.0000,   4.7500,   6.5000,   8.2500,  10.0000])\n",
       "    >>> torch.linspace(-10, 10, steps=5)\n",
       "    tensor([-10.,  -5.,   0.,   5.,  10.])\n",
       "    >>> torch.linspace(start=-10, end=10, steps=5)\n",
       "    tensor([-10.,  -5.,   0.,   5.,  10.])\n",
       "    >>> torch.linspace(start=-10, end=10, steps=1)\n",
       "    tensor([-10.])\n",
       "\u001b[1;31mType:\u001b[0m      builtin_function_or_method\n"
      ]
     },
     "metadata": {},
     "output_type": "display_data"
    }
   ],
   "source": [
    "import torch\n",
    "\n",
    "torch.linspace?"
   ]
  },
  {
   "cell_type": "markdown",
   "id": "ad98fbce-b654-4b36-96aa-86b106bbd012",
   "metadata": {},
   "source": [
    "torch.linspace looks like a really nice way to build a tensor that I think is 'linearly' spaced out based on the start,stop, and steps variables you provide. So below we start from -2, go all the way to 2, and add 20 steps"
   ]
  },
  {
   "cell_type": "code",
   "execution_count": 27,
   "id": "fee1a5d8-80c5-4368-81f1-45a268826ee7",
   "metadata": {},
   "outputs": [
    {
     "data": {
      "text/plain": [
       "(tensor([-2.0000, -1.7895, -1.5789, -1.3684, -1.1579, -0.9474, -0.7368, -0.5263, -0.3158, -0.1053,  0.1053,  0.3158,  0.5263,  0.7368,  0.9474,  1.1579,  1.3684,  1.5789,  1.7895,  2.0000]),\n",
       " torch.Size([20]))"
      ]
     },
     "execution_count": 27,
     "metadata": {},
     "output_type": "execute_result"
    }
   ],
   "source": [
    "test = torch.linspace(-2,2,steps=20)\n",
    "test, test.shape"
   ]
  },
  {
   "cell_type": "markdown",
   "id": "edd7b6eb-d456-4499-8071-cdcb405fe19d",
   "metadata": {},
   "source": [
    "Jeremy also runs a '[:,None]' indexation on this linspace which seems like a cool trick to do something but I'm not quite sure what. It look like he wants all of the columns, hence the ';' semi-colon which gives you all but I'm not sure what the None command does."
   ]
  },
  {
   "cell_type": "code",
   "execution_count": 28,
   "id": "f9416c41-5b29-4f84-a364-ab2733f32cd5",
   "metadata": {},
   "outputs": [
    {
     "data": {
      "text/plain": [
       "(tensor([[-2.0000],\n",
       "         [-1.7895],\n",
       "         [-1.5789],\n",
       "         [-1.3684],\n",
       "         [-1.1579],\n",
       "         [-0.9474],\n",
       "         [-0.7368],\n",
       "         [-0.5263],\n",
       "         [-0.3158],\n",
       "         [-0.1053],\n",
       "         [ 0.1053],\n",
       "         [ 0.3158],\n",
       "         [ 0.5263],\n",
       "         [ 0.7368],\n",
       "         [ 0.9474],\n",
       "         [ 1.1579],\n",
       "         [ 1.3684],\n",
       "         [ 1.5789],\n",
       "         [ 1.7895],\n",
       "         [ 2.0000]]),\n",
       " torch.Size([20]))"
      ]
     },
     "execution_count": 28,
     "metadata": {},
     "output_type": "execute_result"
    }
   ],
   "source": [
    "test[:,None], test.shape"
   ]
  },
  {
   "cell_type": "markdown",
   "id": "e7dcde7b-ab72-4184-a777-594b9704dfdf",
   "metadata": {},
   "source": [
    "Ok so it looks like it transposes the tensor from being a single row with many columns to being one column with many rows. I think my language of 'rows' and 'columns' is incorrect, this is simply a data table / dataframe way of thinking and tensors are fundamentally different so I need to figure out better language but I'm hoping we're at a simple enough state where this makes sense."
   ]
  },
  {
   "cell_type": "code",
   "execution_count": 29,
   "id": "c82750fc-2ebe-4f3e-9fbd-356f52141623",
   "metadata": {},
   "outputs": [
    {
     "data": {
      "text/plain": [
       "(tensor([14.0650,  6.8087,  5.2557,  1.7704,  0.0466,  0.7778,  0.0653,  2.4518,  1.0627, -1.8938,  1.5054,  2.4260,  1.8566,  3.7182,  8.5125,  6.0473,  8.6819,  4.3318,  9.0302, 19.4673],\n",
       "        dtype=torch.float64),\n",
       " tensor([[ 7.3767],\n",
       "         [ 7.1719],\n",
       "         [ 5.7720],\n",
       "         [ 1.7108],\n",
       "         [ 2.1533],\n",
       "         [ 1.7766],\n",
       "         [ 2.5033],\n",
       "         [ 1.5059],\n",
       "         [-0.0546],\n",
       "         [ 1.4334],\n",
       "         [ 1.5242],\n",
       "         [ 4.2746],\n",
       "         [ 1.7996],\n",
       "         [ 5.5367],\n",
       "         [ 0.6079],\n",
       "         [ 6.9520],\n",
       "         [10.0430],\n",
       "         [10.9848],\n",
       "         [14.5838],\n",
       "         [ 6.5115]], dtype=torch.float64))"
      ]
     },
     "execution_count": 29,
     "metadata": {},
     "output_type": "execute_result"
    }
   ],
   "source": [
    "add_noise(f(test),.3,1.5),add_noise(f(test)[:,None],.3,1.5)"
   ]
  },
  {
   "cell_type": "markdown",
   "id": "5647da02-90ec-4a06-a679-a78cbd65542e",
   "metadata": {},
   "source": [
    "Ok so it looks like the same kind of data but transposed as we saw before"
   ]
  },
  {
   "cell_type": "code",
   "execution_count": 35,
   "id": "f1275794-c1d9-40b8-bb06-98b817310bc0",
   "metadata": {},
   "outputs": [
    {
     "data": {
      "text/plain": [
       "<matplotlib.collections.PathCollection at 0x1a2f3be64a0>"
      ]
     },
     "execution_count": 35,
     "metadata": {},
     "output_type": "execute_result"
    },
    {
     "data": {
      "image/png": "[encoded data removed]",
      "text/plain": [
       "<Figure size 640x480 with 1 Axes>"
      ]
     },
     "metadata": {},
     "output_type": "display_data"
    }
   ],
   "source": [
    "from matplotlib import pyplot as plt\n",
    "\n",
    "x = torch.linspace(-2, 2, steps=20)[:,None]\n",
    "y = add_noise(f(x), 0.3, 1.5)\n",
    "plt.scatter(x,y)"
   ]
  },
  {
   "cell_type": "markdown",
   "id": "67343d4c-1a6a-4d84-a85f-4d904f638a00",
   "metadata": {},
   "source": [
    "Lets try it without the transposing"
   ]
  },
  {
   "cell_type": "code",
   "execution_count": 36,
   "id": "3a691cfc-550d-4a80-bb76-ef51c294aeba",
   "metadata": {},
   "outputs": [
    {
     "data": {
      "text/plain": [
       "<matplotlib.collections.PathCollection at 0x1a2f3c2ccd0>"
      ]
     },
     "execution_count": 36,
     "metadata": {},
     "output_type": "execute_result"
    },
    {
     "data": {
      "image/png": "[encoded data removed]",
      "text/plain": [
       "<Figure size 640x480 with 1 Axes>"
      ]
     },
     "metadata": {},
     "output_type": "display_data"
    }
   ],
   "source": [
    "x = torch.linspace(-2,2,steps=20)\n",
    "y = add_noise(f(x),0.3,1.5)\n",
    "plt.scatter(x,y)"
   ]
  },
  {
   "cell_type": "markdown",
   "id": "bc11e541-7aca-448c-8a22-e7a043186836",
   "metadata": {},
   "source": [
    "Ok looks the same, Jeremy not sure why we did this transposing of a 1d tensor but its certainly a neat trick. Lets move on and start playing with some parameters and Ipython interactivity"
   ]
  },
  {
   "cell_type": "code",
   "execution_count": 37,
   "id": "ba29f217-8e25-4cf2-a731-8dbdfb33ac87",
   "metadata": {},
   "outputs": [
    {
     "data": {
      "application/vnd.jupyter.widget-view+json": {
       "model_id": "831e808eead34acdb595820902871be6",
       "version_major": 2,
       "version_minor": 0
      },
      "text/plain": [
       "interactive(children=(FloatSlider(value=1.5, description='a', max=4.5, min=-1.5), FloatSlider(value=1.5, descr…"
      ]
     },
     "metadata": {},
     "output_type": "display_data"
    }
   ],
   "source": [
    "from ipywidgets import interact\n",
    "\n",
    "@interact(a=1.5, b=1.5, c=1.5)\n",
    "def plot_quad(a,b,c):\n",
    "    plot_function(mk_quad(a,b,c))\n",
    "    plt.scatter(x,y)\n",
    "    "
   ]
  },
  {
   "cell_type": "markdown",
   "id": "1b9f5112-4221-469c-a269-3f750d321503",
   "metadata": {},
   "source": [
    "Now if you're reading on quarto, I recognise that you won't be able to play with the plot I've written above so I've re-written a plot function command with Altair so that you can play around with it on the blog."
   ]
  },
  {
   "cell_type": "code",
   "execution_count": 67,
   "id": "e4932ca1-6c65-4903-acd9-4ff16c198452",
   "metadata": {},
   "outputs": [
    {
     "data": {
      "text/html": [
       "\n",
       "<div id=\"altair-viz-b4306f9b7ed94a7faa58f3c6468a5787\"></div>\n",
       "<script type=\"text/javascript\">\n",
       "  var VEGA_DEBUG = (typeof VEGA_DEBUG == \"undefined\") ? {} : VEGA_DEBUG;\n",
       "  (function(spec, embedOpt){\n",
       "    let outputDiv = document.currentScript.previousElementSibling;\n",
       "    if (outputDiv.id !== \"altair-viz-b4306f9b7ed94a7faa58f3c6468a5787\") {\n",
       "      outputDiv = document.getElementById(\"altair-viz-b4306f9b7ed94a7faa58f3c6468a5787\");\n",
       "    }\n",
       "    const paths = {\n",
       "      \"vega\": \"https://cdn.jsdelivr.net/npm//vega@5?noext\",\n",
       "      \"vega-lib\": \"https://cdn.jsdelivr.net/npm//vega-lib?noext\",\n",
       "      \"vega-lite\": \"https://cdn.jsdelivr.net/npm//vega-lite@4.17.0?noext\",\n",
       "      \"vega-embed\": \"https://cdn.jsdelivr.net/npm//vega-embed@6?noext\",\n",
       "    };\n",
       "\n",
       "    function maybeLoadScript(lib, version) {\n",
       "      var key = `${lib.replace(\"-\", \"\")}_version`;\n",
       "      return (VEGA_DEBUG[key] == version) ?\n",
       "        Promise.resolve(paths[lib]) :\n",
       "        new Promise(function(resolve, reject) {\n",
       "          var s = document.createElement('script');\n",
       "          document.getElementsByTagName(\"head\")[0].appendChild(s);\n",
       "          s.async = true;\n",
       "          s.onload = () => {\n",
       "            VEGA_DEBUG[key] = version;\n",
       "            return resolve(paths[lib]);\n",
       "          };\n",
       "          s.onerror = () => reject(`Error loading script: ${paths[lib]}`);\n",
       "          s.src = paths[lib];\n",
       "        });\n",
       "    }\n",
       "\n",
       "    function showError(err) {\n",
       "      outputDiv.innerHTML = `<div class=\"error\" style=\"color:red;\">${err}</div>`;\n",
       "      throw err;\n",
       "    }\n",
       "\n",
       "    function displayChart(vegaEmbed) {\n",
       "      vegaEmbed(outputDiv, spec, embedOpt)\n",
       "        .catch(err => showError(`Javascript Error: ${err.message}<br>This usually means there's a typo in your chart specification. See the javascript console for the full traceback.`));\n",
       "    }\n",
       "\n",
       "    if(typeof define === \"function\" && define.amd) {\n",
       "      requirejs.config({paths});\n",
       "      require([\"vega-embed\"], displayChart, err => showError(`Error loading script: ${err.message}`));\n",
       "    } else {\n",
       "      maybeLoadScript(\"vega\", \"5\")\n",
       "        .then(() => maybeLoadScript(\"vega-lite\", \"4.17.0\"))\n",
       "        .then(() => maybeLoadScript(\"vega-embed\", \"6\"))\n",
       "        .catch(showError)\n",
       "        .then(() => displayChart(vegaEmbed));\n",
       "    }\n",
       "  })({\"config\": {\"view\": {\"continuousWidth\": 400, \"continuousHeight\": 300}}, \"layer\": [{\"data\": {\"name\": \"data-9ba740e81f0e38a6466420e14ecacb0a\"}, \"mark\": {\"type\": \"line\", \"color\": \"red\"}, \"encoding\": {\"x\": {\"field\": \"x\", \"type\": \"quantitative\"}, \"y\": {\"field\": \"y\", \"type\": \"quantitative\"}}, \"selection\": {\"selector_b\": {\"type\": \"single\", \"fields\": [\"b\"], \"bind\": {\"input\": \"range\", \"max\": 3, \"min\": 0, \"name\": \"B\", \"step\": 0.1}, \"init\": {\"b\": 1.5}}, \"selector_a\": {\"type\": \"single\", \"fields\": [\"a\"], \"bind\": {\"input\": \"range\", \"max\": 3, \"min\": 0, \"name\": \"A\", \"step\": 0.1}, \"init\": {\"a\": 1.5}}}, \"title\": \"$3x^2 + 2x + 1$\", \"transform\": [{\"calculate\": \"((selector_a.a*pow(datum.x,2) + selector_b.b*datum.x)) + datum.c\", \"as\": \"y\"}]}, {\"data\": {\"name\": \"data-bbf1e8f9dbd7b2551661e60c5f22e61a\"}, \"mark\": \"point\", \"encoding\": {\"x\": {\"field\": \"x\", \"type\": \"quantitative\"}, \"y\": {\"field\": \"y\", \"type\": \"quantitative\"}}}], \"$schema\": \"https://vega.github.io/schema/vega-lite/v4.17.0.json\", \"datasets\": {\"data-9ba740e81f0e38a6466420e14ecacb0a\": [{\"x\": -2.0, \"y\": 1, \"c\": 1}, {\"x\": -1.7894736528396606, \"y\": 1, \"c\": 1}, {\"x\": -1.5789473056793213, \"y\": 1, \"c\": 1}, {\"x\": -1.3684210777282715, \"y\": 1, \"c\": 1}, {\"x\": -1.1578947305679321, \"y\": 1, \"c\": 1}, {\"x\": -0.9473683834075928, \"y\": 1, \"c\": 1}, {\"x\": -0.736842155456543, \"y\": 1, \"c\": 1}, {\"x\": -0.5263158082962036, \"y\": 1, \"c\": 1}, {\"x\": -0.31578946113586426, \"y\": 1, \"c\": 1}, {\"x\": -0.10526314377784729, \"y\": 1, \"c\": 1}, {\"x\": 0.10526317358016968, \"y\": 1, \"c\": 1}, {\"x\": 0.31578946113586426, \"y\": 1, \"c\": 1}, {\"x\": 0.5263158082962036, \"y\": 1, \"c\": 1}, {\"x\": 0.736842155456543, \"y\": 1, \"c\": 1}, {\"x\": 0.9473683834075928, \"y\": 1, \"c\": 1}, {\"x\": 1.1578947305679321, \"y\": 1, \"c\": 1}, {\"x\": 1.3684210777282715, \"y\": 1, \"c\": 1}, {\"x\": 1.5789473056793213, \"y\": 1, \"c\": 1}, {\"x\": 1.7894736528396606, \"y\": 1, \"c\": 1}, {\"x\": 2.0, \"y\": 1, \"c\": 1}], \"data-bbf1e8f9dbd7b2551661e60c5f22e61a\": [{\"x\": -2.0, \"y\": 7.1532941228294025}, {\"x\": -1.7894736528396606, \"y\": 1.893956234841271}, {\"x\": -1.5789473056793213, \"y\": 3.971887457752789}, {\"x\": -1.3684210777282715, \"y\": 2.827167635794204}, {\"x\": -1.1578947305679321, \"y\": 1.6756875626679537}, {\"x\": -0.9473683834075928, \"y\": 2.3718046504650157}, {\"x\": -0.736842155456543, \"y\": 1.695710642867792}, {\"x\": -0.5263158082962036, \"y\": -1.716006165774023}, {\"x\": -0.31578946113586426, \"y\": 3.0151138960180557}, {\"x\": -0.10526314377784729, \"y\": 2.665373312526635}, {\"x\": 0.10526317358016968, \"y\": 0.14548339482690498}, {\"x\": 0.31578946113586426, \"y\": 1.4044058622172635}, {\"x\": 0.5263158082962036, \"y\": 3.2101158051480274}, {\"x\": 0.736842155456543, \"y\": 3.87755749778438}, {\"x\": 0.9473683834075928, \"y\": 2.395760880005427}, {\"x\": 1.1578947305679321, \"y\": 5.982437481493932}, {\"x\": 1.3684210777282715, \"y\": 3.6677187164190683}, {\"x\": 1.5789473056793213, \"y\": 5.7444791380748494}, {\"x\": 1.7894736528396606, \"y\": 9.87444752253596}, {\"x\": 2.0, \"y\": 12.585373409707303}]}}, {\"mode\": \"vega-lite\"});\n",
       "</script>"
      ],
      "text/plain": [
       "alt.LayerChart(...)"
      ]
     },
     "execution_count": 67,
     "metadata": {},
     "output_type": "execute_result"
    }
   ],
   "source": [
    "import pandas as pd\n",
    "import altair as alt\n",
    "\n",
    "def plot_altair(a=1.5,b=1.5,c=1.5, title=\"$3x^2 + 2x + 1$\"):\n",
    "    a, b, c = 1.5, 1.5, 1\n",
    "    f = mk_quad(a,b,c)\n",
    "    x = torch.linspace(-2,2,steps=20)\n",
    "    y = add_noise(f(x),0.3,1.5)\n",
    "    data = pd.DataFrame({\"x\":x.numpy(), \"y\":y.numpy()})\n",
    "    scatter = alt.Chart(data).mark_point().encode(\n",
    "        x='x:Q',\n",
    "        y='y:Q'\n",
    "    )\n",
    "\n",
    "    f = mk_quad(a,b,c)\n",
    "\n",
    "    selector_a =  alt.selection_single(name=\"selector_a\", \n",
    "                                    fields=['a'],  \n",
    "                                    bind=alt.binding_range(min=0, max=3, step=0.1, name='A'),\n",
    "                                    init={'a': a,}) \n",
    "    selector_b = alt.selection_single(name=\"selector_b\",\n",
    "                                    fields=['b'], \n",
    "                                    bind=alt.binding_range(min=0, max=3, step=0.1, name='B'),\n",
    "                                    init={'b': b})\n",
    "    # selector_c = alt.selection_single(name=\"selector_c\",\n",
    "    #                                 fields=['c'], \n",
    "    #                                 bind=alt.binding_range(min=0, max=3, step=0.1, name='C'),\n",
    "    #                                 init={'c': c})\n",
    "\n",
    "\n",
    "    line = alt.Chart(pd.DataFrame({\"x\":x.numpy(),\"y\":1,\"c\":c})).mark_line(color=\"red\").encode(\n",
    "        x='x',\n",
    "        y='y',\n",
    "    ).transform_calculate(\n",
    "        y=\"((selector_a.a*pow(datum.x,2) + selector_b.b*datum.x)) + datum.c\").properties(title=title).add_selection(selector_b).add_selection(selector_a)\n",
    "\n",
    "    return (line + scatter)\n",
    "\n",
    "plot_altair()"
   ]
  },
  {
   "cell_type": "markdown",
   "id": "8ec07e6a-b5e0-4bbc-98a9-c34d014eb3c1",
   "metadata": {},
   "source": [
    "Also I know I've not given you the bias term to play with here or \"c\" for you to adjust. For whatever reason altair absolutely throws a fit if I change the \"datum.c\" to \"selector_c.c\" despite them supposedly being the same values. The function line plot goes absolutely haywire and I have not been able to troubleshoot it and playing with \"a\" and \"b\" still hammers home the point of seeing the 'fit' of the line dependent on these values.\n",
    "\n",
    "### Adding a Loss Function\n",
    "As Jeremy mentions, if we think back to Arthur Samuel from the first chapter, we want some automatic way to measure how well we've fit our function to the data, this would be our loss function. A simple and popular metric is Mean Squared Error (MSE) which is calculated by averaging the squared error of all the predictions of your model. Here is a python implementation below."
   ]
  },
  {
   "cell_type": "code",
   "execution_count": 50,
   "id": "fa4d8886-2cec-4d07-94f2-c4f76d64a3c8",
   "metadata": {},
   "outputs": [],
   "source": [
    "# from the lecture\n",
    "\n",
    "def mse(predictions, actuals): return ((predictions-actuals)**2).mean()"
   ]
  },
  {
   "cell_type": "code",
   "execution_count": 394,
   "id": "1d104c76-bfa7-44a1-84c4-7ed897854575",
   "metadata": {},
   "outputs": [
    {
     "data": {
      "application/vnd.jupyter.widget-view+json": {
       "model_id": "0bbc78ee120744eea9820d70487bfc95",
       "version_major": 2,
       "version_minor": 0
      },
      "text/plain": [
       "interactive(children=(FloatSlider(value=1.5, description='a', max=4.5, min=-1.5), FloatSlider(value=1.5, descr…"
      ]
     },
     "metadata": {},
     "output_type": "display_data"
    }
   ],
   "source": [
    "@interact(a=1.5, b=1.5, c=1.5)\n",
    "def plot_quad(a,b,c):\n",
    "    f = mk_quad(a,b,c)\n",
    "    loss = mse(f(x),y)\n",
    "    plot_function(f, title=f\"Mean Squared Error Loss: {loss}\")\n",
    "    plt.scatter(x,y)\n",
    "    "
   ]
  },
  {
   "cell_type": "markdown",
   "id": "6890032e-491d-4867-8b87-d7c9ff01af3f",
   "metadata": {},
   "source": [
    "Again if you're on quarto, you won't be able to play with the interactive pyplot graph here where you can see the loss change as the parameters are modified. There's also no way to dynamically change labels in Altair to my knowledge from a few stack overflow and github question. I'm going to replot our interactive graph with an example title that matches the pyplot so you can follow along without bringing down my notebook. If you wanted to see the magic values change and really have this sink in, please bring down the notebook or open it in colab & play with the plots ☺."
   ]
  },
  {
   "cell_type": "code",
   "execution_count": 66,
   "id": "69cf60f1-12dd-495d-968a-11f116826737",
   "metadata": {},
   "outputs": [
    {
     "data": {
      "text/html": [
       "\n",
       "<div id=\"altair-viz-67f1155a96964939985c2500c38f344d\"></div>\n",
       "<script type=\"text/javascript\">\n",
       "  var VEGA_DEBUG = (typeof VEGA_DEBUG == \"undefined\") ? {} : VEGA_DEBUG;\n",
       "  (function(spec, embedOpt){\n",
       "    let outputDiv = document.currentScript.previousElementSibling;\n",
       "    if (outputDiv.id !== \"altair-viz-67f1155a96964939985c2500c38f344d\") {\n",
       "      outputDiv = document.getElementById(\"altair-viz-67f1155a96964939985c2500c38f344d\");\n",
       "    }\n",
       "    const paths = {\n",
       "      \"vega\": \"https://cdn.jsdelivr.net/npm//vega@5?noext\",\n",
       "      \"vega-lib\": \"https://cdn.jsdelivr.net/npm//vega-lib?noext\",\n",
       "      \"vega-lite\": \"https://cdn.jsdelivr.net/npm//vega-lite@4.17.0?noext\",\n",
       "      \"vega-embed\": \"https://cdn.jsdelivr.net/npm//vega-embed@6?noext\",\n",
       "    };\n",
       "\n",
       "    function maybeLoadScript(lib, version) {\n",
       "      var key = `${lib.replace(\"-\", \"\")}_version`;\n",
       "      return (VEGA_DEBUG[key] == version) ?\n",
       "        Promise.resolve(paths[lib]) :\n",
       "        new Promise(function(resolve, reject) {\n",
       "          var s = document.createElement('script');\n",
       "          document.getElementsByTagName(\"head\")[0].appendChild(s);\n",
       "          s.async = true;\n",
       "          s.onload = () => {\n",
       "            VEGA_DEBUG[key] = version;\n",
       "            return resolve(paths[lib]);\n",
       "          };\n",
       "          s.onerror = () => reject(`Error loading script: ${paths[lib]}`);\n",
       "          s.src = paths[lib];\n",
       "        });\n",
       "    }\n",
       "\n",
       "    function showError(err) {\n",
       "      outputDiv.innerHTML = `<div class=\"error\" style=\"color:red;\">${err}</div>`;\n",
       "      throw err;\n",
       "    }\n",
       "\n",
       "    function displayChart(vegaEmbed) {\n",
       "      vegaEmbed(outputDiv, spec, embedOpt)\n",
       "        .catch(err => showError(`Javascript Error: ${err.message}<br>This usually means there's a typo in your chart specification. See the javascript console for the full traceback.`));\n",
       "    }\n",
       "\n",
       "    if(typeof define === \"function\" && define.amd) {\n",
       "      requirejs.config({paths});\n",
       "      require([\"vega-embed\"], displayChart, err => showError(`Error loading script: ${err.message}`));\n",
       "    } else {\n",
       "      maybeLoadScript(\"vega\", \"5\")\n",
       "        .then(() => maybeLoadScript(\"vega-lite\", \"4.17.0\"))\n",
       "        .then(() => maybeLoadScript(\"vega-embed\", \"6\"))\n",
       "        .catch(showError)\n",
       "        .then(() => displayChart(vegaEmbed));\n",
       "    }\n",
       "  })({\"config\": {\"view\": {\"continuousWidth\": 400, \"continuousHeight\": 300}}, \"layer\": [{\"data\": {\"name\": \"data-9ba740e81f0e38a6466420e14ecacb0a\"}, \"mark\": {\"type\": \"line\", \"color\": \"red\"}, \"encoding\": {\"x\": {\"field\": \"x\", \"type\": \"quantitative\"}, \"y\": {\"field\": \"y\", \"type\": \"quantitative\"}}, \"selection\": {\"selector_b\": {\"type\": \"single\", \"fields\": [\"b\"], \"bind\": {\"input\": \"range\", \"max\": 3, \"min\": 0, \"name\": \"B\", \"step\": 0.1}, \"init\": {\"b\": 1.5}}, \"selector_a\": {\"type\": \"single\", \"fields\": [\"a\"], \"bind\": {\"input\": \"range\", \"max\": 3, \"min\": 0, \"name\": \"A\", \"step\": 0.1}, \"init\": {\"a\": 1.5}}}, \"title\": \"Mean Squared Error Loss: 3.1498 \", \"transform\": [{\"calculate\": \"((selector_a.a*pow(datum.x,2) + selector_b.b*datum.x)) + datum.c\", \"as\": \"y\"}]}, {\"data\": {\"name\": \"data-ba1ea4b2b9fcfe9da74e05e29013375b\"}, \"mark\": \"point\", \"encoding\": {\"x\": {\"field\": \"x\", \"type\": \"quantitative\"}, \"y\": {\"field\": \"y\", \"type\": \"quantitative\"}}}], \"$schema\": \"https://vega.github.io/schema/vega-lite/v4.17.0.json\", \"datasets\": {\"data-9ba740e81f0e38a6466420e14ecacb0a\": [{\"x\": -2.0, \"y\": 1, \"c\": 1}, {\"x\": -1.7894736528396606, \"y\": 1, \"c\": 1}, {\"x\": -1.5789473056793213, \"y\": 1, \"c\": 1}, {\"x\": -1.3684210777282715, \"y\": 1, \"c\": 1}, {\"x\": -1.1578947305679321, \"y\": 1, \"c\": 1}, {\"x\": -0.9473683834075928, \"y\": 1, \"c\": 1}, {\"x\": -0.736842155456543, \"y\": 1, \"c\": 1}, {\"x\": -0.5263158082962036, \"y\": 1, \"c\": 1}, {\"x\": -0.31578946113586426, \"y\": 1, \"c\": 1}, {\"x\": -0.10526314377784729, \"y\": 1, \"c\": 1}, {\"x\": 0.10526317358016968, \"y\": 1, \"c\": 1}, {\"x\": 0.31578946113586426, \"y\": 1, \"c\": 1}, {\"x\": 0.5263158082962036, \"y\": 1, \"c\": 1}, {\"x\": 0.736842155456543, \"y\": 1, \"c\": 1}, {\"x\": 0.9473683834075928, \"y\": 1, \"c\": 1}, {\"x\": 1.1578947305679321, \"y\": 1, \"c\": 1}, {\"x\": 1.3684210777282715, \"y\": 1, \"c\": 1}, {\"x\": 1.5789473056793213, \"y\": 1, \"c\": 1}, {\"x\": 1.7894736528396606, \"y\": 1, \"c\": 1}, {\"x\": 2.0, \"y\": 1, \"c\": 1}], \"data-ba1ea4b2b9fcfe9da74e05e29013375b\": [{\"x\": -2.0, \"y\": 7.041993345260002}, {\"x\": -1.7894736528396606, \"y\": 4.904178821209572}, {\"x\": -1.5789473056793213, \"y\": 1.7727710341311442}, {\"x\": -1.3684210777282715, \"y\": 0.7606898982401522}, {\"x\": -1.1578947305679321, \"y\": 2.3201959322288626}, {\"x\": -0.9473683834075928, \"y\": 1.1939174214330404}, {\"x\": -0.736842155456543, \"y\": 2.3717677847263436}, {\"x\": -0.5263158082962036, \"y\": 1.7435753402411593}, {\"x\": -0.31578946113586426, \"y\": 2.205424429334659}, {\"x\": -0.10526314377784729, \"y\": 0.06279923783679553}, {\"x\": 0.10526317358016968, \"y\": 3.224030981362147}, {\"x\": 0.31578946113586426, \"y\": 0.925382778264971}, {\"x\": 0.5263158082962036, \"y\": 5.154370596897669}, {\"x\": 0.736842155456543, \"y\": 1.2885357751694446}, {\"x\": 0.9473683834075928, \"y\": 5.239233881923008}, {\"x\": 1.1578947305679321, \"y\": 4.644395880794835}, {\"x\": 1.3684210777282715, \"y\": 8.045508666899412}, {\"x\": 1.5789473056793213, \"y\": 7.748744125516475}, {\"x\": 1.7894736528396606, \"y\": 6.552643142338891}, {\"x\": 2.0, \"y\": 12.35399726367135}]}}, {\"mode\": \"vega-lite\"});\n",
       "</script>"
      ],
      "text/plain": [
       "alt.LayerChart(...)"
      ]
     },
     "execution_count": 66,
     "metadata": {},
     "output_type": "execute_result"
    }
   ],
   "source": [
    "plot_altair(title=\"Mean Squared Error Loss: 3.1498 \")"
   ]
  },
  {
   "cell_type": "markdown",
   "id": "f5d155df-1777-421e-a0bb-f3b3487aead3",
   "metadata": {},
   "source": [
    "### Derivatives, Rate of Change, Gradients\n",
    "\n",
    "At this point it should be clear that you can muck around with these variables to fit this function line to our data depending on the a,b,c terms. We can manually play around with them and see the MSE or loss function improve or get worse. When doing this by hand, its a manual activity and we're checking the number go up or down but if we wanted to 'Arthur Samuel' style automate this process, we can use derivatives.\n",
    "\n",
    "The way that I have understood derivates previously is that they help you explain the 'rate of change' for a function at any point. This relates to the gradient of a point on the curve since the gradient will tell me for any point on a function how much y will change if I change x, but because we don't have a linear function, this gradient changes a lot as we move along the curve. Derivatives let me figure out this gradient at any point.\n",
    "\n",
    "Now this is a naive and likely wrong way of explaining derivatives, its just me writing out my thoughts and shaky foundations as they are currently. However the high level concept of derivatives being 'a way of knowing the correct direction to change a value in order to minimise our loss' is the important bit and I'm fairly confident that I'm not too wrong there. Take my explanations with a grain of salt as I am but this is the current nuance of how I think about derivatives, and gradients in relation to functions and minimising losses\n",
    "\n",
    "Pytorch will calculate these gradients for us so we reliably can always know how to change our parameters in order to improve our loss function. I feel like we're starting to see the symphony of concepts come together here."
   ]
  },
  {
   "cell_type": "code",
   "execution_count": 80,
   "id": "b37cd797-a9ac-4829-b748-603264ccf509",
   "metadata": {},
   "outputs": [
    {
     "data": {
      "text/plain": [
       "tensor(2.0430, dtype=torch.float64)"
      ]
     },
     "execution_count": 80,
     "metadata": {},
     "output_type": "execute_result"
    }
   ],
   "source": [
    "# from lecture\n",
    "\n",
    "def quad_mse(params):\n",
    "    f = mk_quad(*params)\n",
    "    return mse(f(x), y)\n",
    "\n",
    "quad_mse([1.5,1.5,1.5])"
   ]
  },
  {
   "cell_type": "markdown",
   "id": "1752d217-2414-47fa-abd4-48c33584641a",
   "metadata": {},
   "source": [
    "### 1D Tensors & functions_\n",
    "\n",
    "Ok we're now playing with tensors again, and there's two important things to note, firstly how many dimensions our tensor has, in this case only 1 as we can only move along one dimension of the tensor. Unlike a 2D tensor like a dataframe where we could move along rows and columns, and a 3D tensor where we could move along columns, up or down rows, and depth-wise into different 'slices' of this dataframe. Hopefully that feels comfortable of the dimensions of a tensor. The other important note here is we are calling a *requires_grad_()* function which has an important *_* after the function name, this means to do the operation 'inplace' or on the object we're calling it with. If we call the function without the *_* it will return the output of the function but to a new object instead of the object we used to call the function, I'll show you below."
   ]
  },
  {
   "cell_type": "code",
   "execution_count": 74,
   "id": "fd7055cf-1861-4878-aaae-6740f7e8dccd",
   "metadata": {},
   "outputs": [
    {
     "data": {
      "text/plain": [
       "tensor([1.5000, 1.5000, 1.5000])"
      ]
     },
     "execution_count": 74,
     "metadata": {},
     "output_type": "execute_result"
    }
   ],
   "source": [
    "abc = torch.tensor([1.5,1.5,1.5])\n",
    "abc"
   ]
  },
  {
   "cell_type": "markdown",
   "id": "393e64c5-e3e4-429c-9e7b-ff1e8936166f",
   "metadata": {},
   "source": [
    "Lets modify 'abc' via the add function but also inspect abc after."
   ]
  },
  {
   "cell_type": "code",
   "execution_count": 76,
   "id": "198caf2e-a552-41af-baf9-7f222ca9cf20",
   "metadata": {},
   "outputs": [
    {
     "data": {
      "text/plain": [
       "(tensor([6.5000, 6.5000, 6.5000]), tensor([1.5000, 1.5000, 1.5000]))"
      ]
     },
     "execution_count": 76,
     "metadata": {},
     "output_type": "execute_result"
    }
   ],
   "source": [
    "abc.add(5), abc"
   ]
  },
  {
   "cell_type": "markdown",
   "id": "9611fbf5-4fd3-4150-b9a7-d83cc7110feb",
   "metadata": {},
   "source": [
    "We can see the 'abc' tensor is still unchanged, despite calling the 'add()' function to it which returned a modified tensor with what we'd expect abc to look like after adding '5' to each value. Lets now try and inplace function."
   ]
  },
  {
   "cell_type": "code",
   "execution_count": 77,
   "id": "ce3b901f-fe3f-45ba-8d7d-6f8cb0471bf4",
   "metadata": {},
   "outputs": [
    {
     "data": {
      "text/plain": [
       "(tensor([6.5000, 6.5000, 6.5000]), tensor([6.5000, 6.5000, 6.5000]))"
      ]
     },
     "execution_count": 77,
     "metadata": {},
     "output_type": "execute_result"
    }
   ],
   "source": [
    "abc.add_(5), abc"
   ]
  },
  {
   "cell_type": "markdown",
   "id": "c9cdc584-770f-4e03-b4d0-d5a4b06e0a86",
   "metadata": {},
   "source": [
    "Now we can see that 'abc' has been modified as well as returning our modified tensor. Now [pytorch actually recommends *NOT* doing in-place modifications](https://pytorch.org/docs/stable/notes/autograd.html#in-place-operations-with-autograd) as its less memory efficient but for demonstration purposes or simplicity if you're not worried about taking the performance hit its totally ok. [Checkout this awesome stackoverflow Q&A](https://stackoverflow.com/questions/52920098/what-does-the-underscore-suffix-in-pytorch-functions-mean) to read more on the *_* underscore functions of pytorch and the pytorch recommendations.\n",
    "\n",
    "Lets get back to using torch's mad grad functions."
   ]
  },
  {
   "cell_type": "code",
   "execution_count": 88,
   "id": "8050099d-f9e3-4900-a9f6-f0b576ebce4b",
   "metadata": {},
   "outputs": [
    {
     "data": {
      "text/plain": [
       "tensor([1.5000, 1.5000, 1.5000], requires_grad=True)"
      ]
     },
     "execution_count": 88,
     "metadata": {},
     "output_type": "execute_result"
    }
   ],
   "source": [
    "abc = torch.tensor([1.5,1.5,1.5])\n",
    "abc.requires_grad_()\n",
    "abc"
   ]
  },
  {
   "cell_type": "code",
   "execution_count": 89,
   "id": "ea1dd36c-6641-4710-b9be-c525ac86be90",
   "metadata": {},
   "outputs": [
    {
     "data": {
      "text/plain": [
       "tensor(2.0430, dtype=torch.float64, grad_fn=<MeanBackward0>)"
      ]
     },
     "execution_count": 89,
     "metadata": {},
     "output_type": "execute_result"
    }
   ],
   "source": [
    "loss = quad_mse(abc)\n",
    "loss"
   ]
  },
  {
   "cell_type": "markdown",
   "id": "a6fc0f96-a7e9-4170-859c-f05b62122949",
   "metadata": {},
   "source": [
    "Ok so we've replicated our call before to quad_mse and can see the same loss, lets now calculate the gradients on our tensor by calling backward(), which is a reference to backpropagation or backprop."
   ]
  },
  {
   "cell_type": "code",
   "execution_count": 93,
   "id": "6c62beee-d3c8-4277-b588-b9c4121a079b",
   "metadata": {},
   "outputs": [
    {
     "data": {
      "text/plain": [
       "\u001b[1;31mSignature:\u001b[0m\n",
       "\u001b[0mloss\u001b[0m\u001b[1;33m.\u001b[0m\u001b[0mbackward\u001b[0m\u001b[1;33m(\u001b[0m\u001b[1;33m\n",
       "\u001b[0m    \u001b[0mgradient\u001b[0m\u001b[1;33m=\u001b[0m\u001b[1;32mNone\u001b[0m\u001b[1;33m,\u001b[0m\u001b[1;33m\n",
       "\u001b[0m    \u001b[0mretain_graph\u001b[0m\u001b[1;33m=\u001b[0m\u001b[1;32mNone\u001b[0m\u001b[1;33m,\u001b[0m\u001b[1;33m\n",
       "\u001b[0m    \u001b[0mcreate_graph\u001b[0m\u001b[1;33m=\u001b[0m\u001b[1;32mFalse\u001b[0m\u001b[1;33m,\u001b[0m\u001b[1;33m\n",
       "\u001b[0m    \u001b[0minputs\u001b[0m\u001b[1;33m=\u001b[0m\u001b[1;32mNone\u001b[0m\u001b[1;33m,\u001b[0m\u001b[1;33m\n",
       "\u001b[0m\u001b[1;33m)\u001b[0m\u001b[1;33m\u001b[0m\u001b[1;33m\u001b[0m\u001b[0m\n",
       "\u001b[1;31mDocstring:\u001b[0m\n",
       "Computes the gradient of current tensor w.r.t. graph leaves.\n",
       "\n",
       "The graph is differentiated using the chain rule. If the tensor is\n",
       "non-scalar (i.e. its data has more than one element) and requires\n",
       "gradient, the function additionally requires specifying ``gradient``.\n",
       "It should be a tensor of matching type and location, that contains\n",
       "the gradient of the differentiated function w.r.t. ``self``.\n",
       "\n",
       "This function accumulates gradients in the leaves - you might need to zero\n",
       "``.grad`` attributes or set them to ``None`` before calling it.\n",
       "See :ref:`Default gradient layouts<default-grad-layouts>`\n",
       "for details on the memory layout of accumulated gradients.\n",
       "\n",
       ".. note::\n",
       "\n",
       "    If you run any forward ops, create ``gradient``, and/or call ``backward``\n",
       "    in a user-specified CUDA stream context, see\n",
       "    :ref:`Stream semantics of backward passes<bwd-cuda-stream-semantics>`.\n",
       "\n",
       ".. note::\n",
       "\n",
       "    When ``inputs`` are provided and a given input is not a leaf,\n",
       "    the current implementation will call its grad_fn (though it is not strictly needed to get this gradients).\n",
       "    It is an implementation detail on which the user should not rely.\n",
       "    See https://github.com/pytorch/pytorch/pull/60521#issuecomment-867061780 for more details.\n",
       "\n",
       "Args:\n",
       "    gradient (Tensor or None): Gradient w.r.t. the\n",
       "        tensor. If it is a tensor, it will be automatically converted\n",
       "        to a Tensor that does not require grad unless ``create_graph`` is True.\n",
       "        None values can be specified for scalar Tensors or ones that\n",
       "        don't require grad. If a None value would be acceptable then\n",
       "        this argument is optional.\n",
       "    retain_graph (bool, optional): If ``False``, the graph used to compute\n",
       "        the grads will be freed. Note that in nearly all cases setting\n",
       "        this option to True is not needed and often can be worked around\n",
       "        in a much more efficient way. Defaults to the value of\n",
       "        ``create_graph``.\n",
       "    create_graph (bool, optional): If ``True``, graph of the derivative will\n",
       "        be constructed, allowing to compute higher order derivative\n",
       "        products. Defaults to ``False``.\n",
       "    inputs (sequence of Tensor): Inputs w.r.t. which the gradient will be\n",
       "        accumulated into ``.grad``. All other Tensors will be ignored. If not\n",
       "        provided, the gradient is accumulated into all the leaf Tensors that were\n",
       "        used to compute the attr::tensors.\n",
       "\u001b[1;31mFile:\u001b[0m      c:\\users\\nick\\anaconda3\\envs\\fastai\\lib\\site-packages\\torch\\_tensor.py\n",
       "\u001b[1;31mType:\u001b[0m      method\n"
      ]
     },
     "metadata": {},
     "output_type": "display_data"
    }
   ],
   "source": [
    "loss.backward?"
   ]
  },
  {
   "cell_type": "code",
   "execution_count": 91,
   "id": "565ed82a-ecf3-469c-93fd-c72aeab6ec97",
   "metadata": {},
   "outputs": [],
   "source": [
    "loss.backward()"
   ]
  },
  {
   "cell_type": "markdown",
   "id": "13b62e45-d1ab-4bd2-b1b5-f2c7e4b26a0d",
   "metadata": {},
   "source": [
    "Now its silently succeeded, but what its done is add a 'grad' attribute to our abc tensor, with each corresponding value of grad explaining how the values of the tensor 'abc' will change if we add to them."
   ]
  },
  {
   "cell_type": "code",
   "execution_count": 92,
   "id": "c4ce2e32-db02-44e7-9ed6-8644f03b8057",
   "metadata": {},
   "outputs": [
    {
     "data": {
      "text/plain": [
       "tensor([0.0015, 0.2250, 0.3953])"
      ]
     },
     "execution_count": 92,
     "metadata": {},
     "output_type": "execute_result"
    }
   ],
   "source": [
    "abc.grad"
   ]
  },
  {
   "cell_type": "markdown",
   "id": "dc3746f5-66f1-446c-8850-422824b2e28a",
   "metadata": {},
   "source": [
    "Ok so with each of these gradients, we need to decrease our parameters in order to reduce our loss function as the gradients are positive, meaning if we add to them, the loss will get worse.\n",
    "\n",
    "As Jeremy states, we want to add the 'negative' of our gradients by some small value as we don't want to leap too far along our function curve and overshoot the optimal value. We need to multiply our gradients by a 'learning rate', which is this small value that helps us move along the curve, the size of the learning rate changes how far along the curve we leap."
   ]
  },
  {
   "cell_type": "code",
   "execution_count": 95,
   "id": "a928b4d1-4d6e-41b8-8cb6-9b48fd2e8fb2",
   "metadata": {},
   "outputs": [
    {
     "data": {
      "text/plain": [
       "tensor(2.0430, dtype=torch.float64, grad_fn=<MeanBackward0>)"
      ]
     },
     "execution_count": 95,
     "metadata": {},
     "output_type": "execute_result"
    }
   ],
   "source": [
    "# our loss previously\n",
    "loss"
   ]
  },
  {
   "cell_type": "markdown",
   "id": "84a991d5-033e-4805-baea-c85fdb2fd2d9",
   "metadata": {},
   "source": [
    "Note we disable the gradient calculation with torch.no_grad() since \"abc.requires_grad\" is true which means that anytime the tensor is used in a function, it calculates the gradients. We want to actually do this manually ourselves by updating abc by the learning and then re-calculating the loss.\n",
    "\n",
    "Lets do this and see if our loss improves"
   ]
  },
  {
   "cell_type": "code",
   "execution_count": 96,
   "id": "f22edce9-d063-4851-b3d2-168d5a58e90e",
   "metadata": {},
   "outputs": [
    {
     "data": {
      "text/plain": [
       "tensor(2.0409, dtype=torch.float64)"
      ]
     },
     "execution_count": 96,
     "metadata": {},
     "output_type": "execute_result"
    }
   ],
   "source": [
    "learning_rate = 0.01\n",
    "\n",
    "with torch.no_grad():\n",
    "    abc -= abc.grad*learning_rate\n",
    "    loss = quad_mse(abc)\n",
    "    \n",
    "loss"
   ]
  },
  {
   "cell_type": "markdown",
   "id": "80f56758-71bf-4cc8-8056-cdf7a4e2307f",
   "metadata": {},
   "source": [
    "It got better! By an absolutely abysmal amount, maybe we need a bigger learning rate.... Or more compute, lets try a few iterations"
   ]
  },
  {
   "cell_type": "code",
   "execution_count": 97,
   "id": "dd15e40a-2679-4f7c-988e-b2ad47c5973f",
   "metadata": {},
   "outputs": [
    {
     "name": "stdout",
     "output_type": "stream",
     "text": [
      "The current loss is 2.0389189772360474\n",
      "The current loss is 2.0369663885871843\n",
      "The current loss is 2.0350602976519268\n",
      "The current loss is 2.0332007599435213\n",
      "The current loss is 2.031387810476578\n",
      "The current loss is 2.0296212739311534\n",
      "The current loss is 2.0279015750808718\n",
      "The current loss is 2.0262280107856907\n",
      "The current loss is 2.024601005141407\n",
      "The current loss is 2.0230206668897206\n",
      "The current loss is 2.0214867744911467\n",
      "The current loss is 2.019999455730664\n",
      "The current loss is 2.0185587881549756\n",
      "The current loss is 2.0171645932529865\n",
      "The current loss is 2.015816816414771\n"
     ]
    },
    {
     "data": {
      "text/plain": [
       "tensor(2.0158, dtype=torch.float64)"
      ]
     },
     "execution_count": 97,
     "metadata": {},
     "output_type": "execute_result"
    }
   ],
   "source": [
    "learning_rate = 0.01\n",
    "\n",
    "for iteration in range(15):\n",
    "    with torch.no_grad():\n",
    "        abc -= abc.grad*learning_rate\n",
    "        loss = quad_mse(abc)\n",
    "        print(f\"The current loss is {loss}\")\n",
    "\n",
    "loss"
   ]
  },
  {
   "cell_type": "markdown",
   "id": "02c249e2-0690-4a52-8bc5-a6c8ae920bd5",
   "metadata": {},
   "source": [
    "How awesome is this, we have a improving loss value because of these gradients being updated, our loss being calculated and being looped over again and again. This process is called **Optimisation using gradient descent**, we've done a very basic implementation but nonetheless this is a key term to solidify and refer back to in the future. Its a sensible name since we're *Optimising* our parameters in our tensor for our loss function using *gradients* to *descend* down to the lowest loss value."
   ]
  },
  {
   "cell_type": "markdown",
   "id": "220503ad-cf0e-41fe-892f-0e06c025584f",
   "metadata": {},
   "source": [
    "### Rectified Linear Units | ReLu\n",
    "\n",
    "As Jeremy noted, this is all well and good so far but it doesn't feel very likely that we can optimise for many real world datasets or observations since they'd have to fit a quadratic form to match the parameters we have to play with. If we introduce the ReLu, we can start to address this problem.\n",
    "\n",
    "A relu has the form of $f(x) = max(0,x)$ with all values under 0 being clipped to 0, we do this with torch.clip(). This probably isn't the correct 'math' way to write it out but this is the useful illustration to me of anything at 0 or below being clipped and then returning x otherwise.\n",
    "\n",
    "Lets first plot a ReLu with the function $y=mx+b$ and see what it looks like"
   ]
  },
  {
   "cell_type": "code",
   "execution_count": 111,
   "id": "8c058794-5064-4945-8d03-14dd339f6d3b",
   "metadata": {},
   "outputs": [
    {
     "data": {
      "text/plain": [
       "\u001b[1;31mDocstring:\u001b[0m\n",
       "clip(input, min=None, max=None, *, out=None) -> Tensor\n",
       "\n",
       "Alias for :func:`torch.clamp`.\n",
       "\u001b[1;31mType:\u001b[0m      builtin_function_or_method\n"
      ]
     },
     "metadata": {},
     "output_type": "display_data"
    }
   ],
   "source": [
    "torch.clip?"
   ]
  },
  {
   "cell_type": "markdown",
   "id": "70178af1-c2bf-45a2-8751-88e682bb55a1",
   "metadata": {},
   "source": [
    "Ok so clip is a nice alias for torch.clamp, lets checkout those docs"
   ]
  },
  {
   "cell_type": "code",
   "execution_count": 116,
   "id": "5b492e55-48db-4b13-979f-673595d83726",
   "metadata": {},
   "outputs": [
    {
     "data": {
      "text/plain": [
       "\u001b[1;31mDocstring:\u001b[0m\n",
       "clamp(input, min=None, max=None, *, out=None) -> Tensor\n",
       "\n",
       "Clamps all elements in :attr:`input` into the range `[` :attr:`min`, :attr:`max` `]`.\n",
       "Letting min_value and max_value be :attr:`min` and :attr:`max`, respectively, this returns:\n",
       "\n",
       ".. math::\n",
       "    y_i = \\min(\\max(x_i, \\text{min\\_value}_i), \\text{max\\_value}_i)\n",
       "\n",
       "If :attr:`min` is ``None``, there is no lower bound.\n",
       "Or, if :attr:`max` is ``None`` there is no upper bound.\n",
       "\n",
       "\n",
       ".. note::\n",
       "    If :attr:`min` is greater than :attr:`max` :func:`torch.clamp(..., min, max) <torch.clamp>`\n",
       "    sets all elements in :attr:`input` to the value of :attr:`max`.\n",
       "\n",
       "Args:\n",
       "    input (Tensor): the input tensor.\n",
       "    min (Number or Tensor, optional): lower-bound of the range to be clamped to\n",
       "    max (Number or Tensor, optional): upper-bound of the range to be clamped to\n",
       "\n",
       "Keyword args:\n",
       "    out (Tensor, optional): the output tensor.\n",
       "\n",
       "Example::\n",
       "\n",
       "    >>> a = torch.randn(4)\n",
       "    >>> a\n",
       "    tensor([-1.7120,  0.1734, -0.0478, -0.0922])\n",
       "    >>> torch.clamp(a, min=-0.5, max=0.5)\n",
       "    tensor([-0.5000,  0.1734, -0.0478, -0.0922])\n",
       "\n",
       "    >>> min = torch.linspace(-1, 1, steps=4)\n",
       "    >>> torch.clamp(a, min=min)\n",
       "    tensor([-1.0000,  0.1734,  0.3333,  1.0000])\n",
       "\u001b[1;31mType:\u001b[0m      builtin_function_or_method\n"
      ]
     },
     "metadata": {},
     "output_type": "display_data"
    }
   ],
   "source": [
    "torch.clamp?"
   ]
  },
  {
   "cell_type": "markdown",
   "id": "fd17e899-19cd-4403-b0ed-724ade0d2111",
   "metadata": {},
   "source": [
    "We're using the 'min' variable to enforce every value being at least 0."
   ]
  },
  {
   "cell_type": "code",
   "execution_count": 158,
   "id": "e9c26e2a-5117-4e85-8db7-bf74088ae81c",
   "metadata": {},
   "outputs": [
    {
     "data": {
      "image/png": "[encoded data removed]",
      "text/plain": [
       "<Figure size 600x400 with 1 Axes>"
      ]
     },
     "metadata": {},
     "output_type": "display_data"
    }
   ],
   "source": [
    "def relu(x,m,b):\n",
    "    y = m*x+b\n",
    "    return torch.clip(y,0.)\n",
    "\n",
    "relu_partial = partial(relu,1,1)\n",
    "\n",
    "plot_function(relu_partial, title=\"ReLu $y=mx+b$\")"
   ]
  },
  {
   "cell_type": "markdown",
   "id": "74780cf1-b219-4bc0-aedf-1dac94e2b299",
   "metadata": {},
   "source": [
    "Lets make it interactive again with altair & matplotlib so you can muck around on the blog as well as in the notebook"
   ]
  },
  {
   "cell_type": "code",
   "execution_count": 159,
   "id": "2472347c-d327-467d-9826-91f76a244dfb",
   "metadata": {},
   "outputs": [
    {
     "data": {
      "application/vnd.jupyter.widget-view+json": {
       "model_id": "d05267af41df4deda0e936dfe7c2d5ad",
       "version_major": 2,
       "version_minor": 0
      },
      "text/plain": [
       "interactive(children=(FloatSlider(value=1.0, description='m', max=3.0, min=-1.0), FloatSlider(value=1.5, descr…"
      ]
     },
     "metadata": {},
     "output_type": "display_data"
    }
   ],
   "source": [
    "@interact(m=1.0, b=1.5)\n",
    "def plot_relu(m,b):\n",
    "    plot_function(partial(relu,m,b), title=\"ReLu $y=mx+b$\")"
   ]
  },
  {
   "cell_type": "markdown",
   "id": "27bf9515-d93b-4029-a58a-9fad8b8a0d9f",
   "metadata": {},
   "source": [
    "For my Quarto friends...."
   ]
  },
  {
   "cell_type": "code",
   "execution_count": 209,
   "id": "30460187-2b48-442a-bdc9-87213c7121e1",
   "metadata": {},
   "outputs": [
    {
     "data": {
      "text/html": [
       "\n",
       "<div id=\"altair-viz-15bc87972ec5473ea5a66f43d24978e9\"></div>\n",
       "<script type=\"text/javascript\">\n",
       "  var VEGA_DEBUG = (typeof VEGA_DEBUG == \"undefined\") ? {} : VEGA_DEBUG;\n",
       "  (function(spec, embedOpt){\n",
       "    let outputDiv = document.currentScript.previousElementSibling;\n",
       "    if (outputDiv.id !== \"altair-viz-15bc87972ec5473ea5a66f43d24978e9\") {\n",
       "      outputDiv = document.getElementById(\"altair-viz-15bc87972ec5473ea5a66f43d24978e9\");\n",
       "    }\n",
       "    const paths = {\n",
       "      \"vega\": \"https://cdn.jsdelivr.net/npm//vega@5?noext\",\n",
       "      \"vega-lib\": \"https://cdn.jsdelivr.net/npm//vega-lib?noext\",\n",
       "      \"vega-lite\": \"https://cdn.jsdelivr.net/npm//vega-lite@4.17.0?noext\",\n",
       "      \"vega-embed\": \"https://cdn.jsdelivr.net/npm//vega-embed@6?noext\",\n",
       "    };\n",
       "\n",
       "    function maybeLoadScript(lib, version) {\n",
       "      var key = `${lib.replace(\"-\", \"\")}_version`;\n",
       "      return (VEGA_DEBUG[key] == version) ?\n",
       "        Promise.resolve(paths[lib]) :\n",
       "        new Promise(function(resolve, reject) {\n",
       "          var s = document.createElement('script');\n",
       "          document.getElementsByTagName(\"head\")[0].appendChild(s);\n",
       "          s.async = true;\n",
       "          s.onload = () => {\n",
       "            VEGA_DEBUG[key] = version;\n",
       "            return resolve(paths[lib]);\n",
       "          };\n",
       "          s.onerror = () => reject(`Error loading script: ${paths[lib]}`);\n",
       "          s.src = paths[lib];\n",
       "        });\n",
       "    }\n",
       "\n",
       "    function showError(err) {\n",
       "      outputDiv.innerHTML = `<div class=\"error\" style=\"color:red;\">${err}</div>`;\n",
       "      throw err;\n",
       "    }\n",
       "\n",
       "    function displayChart(vegaEmbed) {\n",
       "      vegaEmbed(outputDiv, spec, embedOpt)\n",
       "        .catch(err => showError(`Javascript Error: ${err.message}<br>This usually means there's a typo in your chart specification. See the javascript console for the full traceback.`));\n",
       "    }\n",
       "\n",
       "    if(typeof define === \"function\" && define.amd) {\n",
       "      requirejs.config({paths});\n",
       "      require([\"vega-embed\"], displayChart, err => showError(`Error loading script: ${err.message}`));\n",
       "    } else {\n",
       "      maybeLoadScript(\"vega\", \"5\")\n",
       "        .then(() => maybeLoadScript(\"vega-lite\", \"4.17.0\"))\n",
       "        .then(() => maybeLoadScript(\"vega-embed\", \"6\"))\n",
       "        .catch(showError)\n",
       "        .then(() => displayChart(vegaEmbed));\n",
       "    }\n",
       "  })({\"config\": {\"view\": {\"continuousWidth\": 400, \"continuousHeight\": 300}}, \"data\": {\"name\": \"data-6ba7a12ce6880e0d8c473613bec83719\"}, \"mark\": {\"type\": \"line\", \"color\": \"red\"}, \"encoding\": {\"x\": {\"field\": \"x\", \"type\": \"quantitative\"}, \"y\": {\"field\": \"y\", \"type\": \"quantitative\"}}, \"selection\": {\"selector_m\": {\"type\": \"single\", \"fields\": [\"m\"], \"bind\": {\"input\": \"range\", \"max\": 3, \"min\": 0, \"name\": \"M\", \"step\": 0.1}, \"init\": {\"m\": 1.5}}}, \"title\": \"y = mx+b\", \"transform\": [{\"calculate\": \"max(0,(selector_m.m * datum.x) + 1.5)\", \"as\": \"y\"}], \"$schema\": \"https://vega.github.io/schema/vega-lite/v4.17.0.json\", \"datasets\": {\"data-6ba7a12ce6880e0d8c473613bec83719\": [{\"x\": -2.0, \"y\": 0.0}, {\"x\": -1.9183673858642578, \"y\": 0.0}, {\"x\": -1.836734652519226, \"y\": 0.0}, {\"x\": -1.7551020383834839, \"y\": 0.0}, {\"x\": -1.6734694242477417, \"y\": 0.0}, {\"x\": -1.59183669090271, \"y\": 0.0}, {\"x\": -1.5102040767669678, \"y\": 0.0}, {\"x\": -1.4285714626312256, \"y\": 0.0}, {\"x\": -1.3469388484954834, \"y\": 0.0}, {\"x\": -1.2653062343597412, \"y\": 0.0}, {\"x\": -1.1836735010147095, \"y\": 0.0}, {\"x\": -1.1020408868789673, \"y\": 0.0}, {\"x\": -1.020408272743225, \"y\": 0.0}, {\"x\": -0.9387755990028381, \"y\": 0.061224400997161865}, {\"x\": -0.8571429252624512, \"y\": 0.14285707473754883}, {\"x\": -0.775510311126709, \"y\": 0.22448968887329102}, {\"x\": -0.6938775777816772, \"y\": 0.30612242221832275}, {\"x\": -0.6122449040412903, \"y\": 0.3877550959587097}, {\"x\": -0.5306122899055481, \"y\": 0.4693877100944519}, {\"x\": -0.44897961616516113, \"y\": 0.5510203838348389}, {\"x\": -0.36734697222709656, \"y\": 0.632652997970581}, {\"x\": -0.285714328289032, \"y\": 0.714285671710968}, {\"x\": -0.20408165454864502, \"y\": 0.795918345451355}, {\"x\": -0.12244904041290283, \"y\": 0.8775509595870972}, {\"x\": -0.040816307067871094, \"y\": 0.9591836929321289}, {\"x\": 0.04081634432077408, \"y\": 1.040816307067871}, {\"x\": 0.12244899570941925, \"y\": 1.1224490404129028}, {\"x\": 0.20408165454864502, \"y\": 1.204081654548645}, {\"x\": 0.2857142984867096, \"y\": 1.2857142686843872}, {\"x\": 0.36734694242477417, \"y\": 1.367347002029419}, {\"x\": 0.44897961616516113, \"y\": 1.4489796161651611}, {\"x\": 0.5306122303009033, \"y\": 1.5306122303009033}, {\"x\": 0.6122449636459351, \"y\": 1.612244963645935}, {\"x\": 0.693877637386322, \"y\": 1.6938776969909668}, {\"x\": 0.7755102515220642, \"y\": 1.775510311126709}, {\"x\": 0.8571429252624512, \"y\": 1.8571429252624512}, {\"x\": 0.9387755393981934, \"y\": 1.9387755393981934}, {\"x\": 1.0204081535339355, \"y\": 2.0204081535339355}, {\"x\": 1.1020408868789673, \"y\": 2.1020407676696777}, {\"x\": 1.1836735010147095, \"y\": 2.18367338180542}, {\"x\": 1.2653061151504517, \"y\": 2.265305995941162}, {\"x\": 1.3469387292861938, \"y\": 2.3469386100769043}, {\"x\": 1.4285714626312256, \"y\": 2.4285714626312256}, {\"x\": 1.5102040767669678, \"y\": 2.5102040767669678}, {\"x\": 1.59183669090271, \"y\": 2.59183669090271}, {\"x\": 1.6734693050384521, \"y\": 2.673469305038452}, {\"x\": 1.7551020383834839, \"y\": 2.7551021575927734}, {\"x\": 1.836734652519226, \"y\": 2.8367347717285156}, {\"x\": 1.9183673858642578, \"y\": 2.918367385864258}, {\"x\": 2.0, \"y\": 3.0}]}}, {\"mode\": \"vega-lite\"});\n",
       "</script>"
      ],
      "text/plain": [
       "alt.Chart(...)"
      ]
     },
     "execution_count": 209,
     "metadata": {},
     "output_type": "execute_result"
    }
   ],
   "source": [
    "m,b = 1.5,1.5\n",
    "\n",
    "x = torch.linspace(-2,2,50)\n",
    "y=relu_partial(x)\n",
    "\n",
    "selector_m =  alt.selection_single(name=\"selector_m\", \n",
    "                                fields=['m'],\n",
    "                                bind=alt.binding_range(min=0, max=3, step=0.1, name='M'),\n",
    "                                init={'m': m}) \n",
    "selector_b = alt.selection_single(name=\"selector_b\",\n",
    "                                fields=['b'], \n",
    "                                bind=alt.binding_range(min=0, max=3, step=0.1, name='B'),\n",
    "                                init={'b': b})\n",
    "# selector_c = alt.selection_single(name=\"selector_c\",\n",
    "#                                 fields=['c'], \n",
    "#                                 bind=alt.binding_range(min=0, max=3, step=0.1, name='C'),\n",
    "#                                 init={'c': c})\n",
    "\n",
    "data = pd.DataFrame({\"x\":x.numpy(),\"y\":y})\n",
    "\n",
    "line = alt.Chart(data=data,title=\"ReLu y = mx + b\").mark_line(color=\"red\").encode(\n",
    "    x='x:Q',\n",
    "    y='y:Q',\n",
    ").transform_calculate(y=f\"max(0,(selector_m.m * datum.x) + {b})\").properties(title=\"y = mx+b\").add_selection(selector_m)\n",
    "\n",
    "line"
   ]
  },
  {
   "cell_type": "markdown",
   "id": "43f78813-d64c-481d-a604-cb2fb81074d2",
   "metadata": {},
   "source": [
    "Similar to the quadratic, I can't seem to get the bias term which changes the intercept to interact nicely with the transform_calculate function of altair but you can see how playing with the 'm' term changes partly the steepness of the slope up as well as where the curve starts its ascent from 0 where its been clipped. Again, highly recommend bringing the notebook from my github over to colab but hopefully there's enough interactivity that it sinks in what we're playing with.\n",
    "\n",
    "Lets now make a double ReLu which lets us connect two of these units together."
   ]
  },
  {
   "cell_type": "code",
   "execution_count": 224,
   "id": "14d74426-5d98-42b3-b979-55c45fbb778b",
   "metadata": {},
   "outputs": [],
   "source": [
    "def double_relu(m1,b1,m2,b2,x): return relu(x,m1,b1) + relu(x,m2,b2)"
   ]
  },
  {
   "cell_type": "code",
   "execution_count": 228,
   "id": "949baf12-9de8-4770-8ae7-a3aa22206780",
   "metadata": {},
   "outputs": [
    {
     "data": {
      "application/vnd.jupyter.widget-view+json": {
       "model_id": "687015cbfc2f4c40b13082ab8faeb7ba",
       "version_major": 2,
       "version_minor": 0
      },
      "text/plain": [
       "interactive(children=(FloatSlider(value=-1.5, description='m1', max=1.5, min=-4.5), FloatSlider(value=-1.5, de…"
      ]
     },
     "metadata": {},
     "output_type": "display_data"
    }
   ],
   "source": [
    "@interact(m1=-1.5,b1=-1.5,m2=1.5,b2=1.5)\n",
    "def plot_double_relu(m1,b1,m2,b2):plot_function(partial(double_relu,m1,b1,m2,b2))"
   ]
  },
  {
   "cell_type": "markdown",
   "id": "f95e13f4-41d9-4780-a3aa-c4478a689b55",
   "metadata": {},
   "source": [
    "Once again for my Quarto friends, forgive me for the lack of b1/b2 bias terms, you can still get the point with the m1 and m2 values how you can make any kind of point and direction that you need."
   ]
  },
  {
   "cell_type": "code",
   "execution_count": 244,
   "id": "aefb86ee-c64c-4d57-9999-d9490ba888e4",
   "metadata": {},
   "outputs": [
    {
     "data": {
      "text/html": [
       "\n",
       "<div id=\"altair-viz-16651a38c8204200951377260db7e947\"></div>\n",
       "<script type=\"text/javascript\">\n",
       "  var VEGA_DEBUG = (typeof VEGA_DEBUG == \"undefined\") ? {} : VEGA_DEBUG;\n",
       "  (function(spec, embedOpt){\n",
       "    let outputDiv = document.currentScript.previousElementSibling;\n",
       "    if (outputDiv.id !== \"altair-viz-16651a38c8204200951377260db7e947\") {\n",
       "      outputDiv = document.getElementById(\"altair-viz-16651a38c8204200951377260db7e947\");\n",
       "    }\n",
       "    const paths = {\n",
       "      \"vega\": \"https://cdn.jsdelivr.net/npm//vega@5?noext\",\n",
       "      \"vega-lib\": \"https://cdn.jsdelivr.net/npm//vega-lib?noext\",\n",
       "      \"vega-lite\": \"https://cdn.jsdelivr.net/npm//vega-lite@4.17.0?noext\",\n",
       "      \"vega-embed\": \"https://cdn.jsdelivr.net/npm//vega-embed@6?noext\",\n",
       "    };\n",
       "\n",
       "    function maybeLoadScript(lib, version) {\n",
       "      var key = `${lib.replace(\"-\", \"\")}_version`;\n",
       "      return (VEGA_DEBUG[key] == version) ?\n",
       "        Promise.resolve(paths[lib]) :\n",
       "        new Promise(function(resolve, reject) {\n",
       "          var s = document.createElement('script');\n",
       "          document.getElementsByTagName(\"head\")[0].appendChild(s);\n",
       "          s.async = true;\n",
       "          s.onload = () => {\n",
       "            VEGA_DEBUG[key] = version;\n",
       "            return resolve(paths[lib]);\n",
       "          };\n",
       "          s.onerror = () => reject(`Error loading script: ${paths[lib]}`);\n",
       "          s.src = paths[lib];\n",
       "        });\n",
       "    }\n",
       "\n",
       "    function showError(err) {\n",
       "      outputDiv.innerHTML = `<div class=\"error\" style=\"color:red;\">${err}</div>`;\n",
       "      throw err;\n",
       "    }\n",
       "\n",
       "    function displayChart(vegaEmbed) {\n",
       "      vegaEmbed(outputDiv, spec, embedOpt)\n",
       "        .catch(err => showError(`Javascript Error: ${err.message}<br>This usually means there's a typo in your chart specification. See the javascript console for the full traceback.`));\n",
       "    }\n",
       "\n",
       "    if(typeof define === \"function\" && define.amd) {\n",
       "      requirejs.config({paths});\n",
       "      require([\"vega-embed\"], displayChart, err => showError(`Error loading script: ${err.message}`));\n",
       "    } else {\n",
       "      maybeLoadScript(\"vega\", \"5\")\n",
       "        .then(() => maybeLoadScript(\"vega-lite\", \"4.17.0\"))\n",
       "        .then(() => maybeLoadScript(\"vega-embed\", \"6\"))\n",
       "        .catch(showError)\n",
       "        .then(() => displayChart(vegaEmbed));\n",
       "    }\n",
       "  })({\"config\": {\"view\": {\"continuousWidth\": 400, \"continuousHeight\": 300}}, \"data\": {\"name\": \"data-3b140e715a8e3d27dc4e21ba14d4e2de\"}, \"mark\": {\"type\": \"line\", \"color\": \"red\"}, \"encoding\": {\"x\": {\"field\": \"x\", \"type\": \"quantitative\"}, \"y\": {\"field\": \"y\", \"type\": \"quantitative\"}}, \"selection\": {\"selector_m\": {\"type\": \"single\", \"fields\": [\"m1\"], \"bind\": {\"input\": \"range\", \"max\": 3, \"min\": -3, \"name\": \"M1\", \"step\": 0.1}, \"init\": {\"m1\": -1.5}}, \"selector_mm\": {\"type\": \"single\", \"fields\": [\"m2\"], \"bind\": {\"input\": \"range\", \"max\": 3, \"min\": -3, \"name\": \"M2\", \"step\": 0.1}, \"init\": {\"m2\": 3}}}, \"title\": \"y = mx+b\", \"transform\": [{\"calculate\": \"(max(0,(selector_m.m1 * datum.x) + -1.5)) + (max(0,(selector_mm.m2 * datum.x) + 3))\", \"as\": \"y\"}], \"$schema\": \"https://vega.github.io/schema/vega-lite/v4.17.0.json\", \"datasets\": {\"data-3b140e715a8e3d27dc4e21ba14d4e2de\": [{\"x\": -2.0, \"y\": 1.5}, {\"x\": -1.9183673858642578, \"y\": 1.3775510787963867}, {\"x\": -1.836734652519226, \"y\": 1.2551019191741943}, {\"x\": -1.7551020383834839, \"y\": 1.132652997970581}, {\"x\": -1.6734694242477417, \"y\": 1.0102040767669678}, {\"x\": -1.59183669090271, \"y\": 0.8877549171447754}, {\"x\": -1.5102040767669678, \"y\": 0.7653059959411621}, {\"x\": -1.4285714626312256, \"y\": 0.6428570747375488}, {\"x\": -1.3469388484954834, \"y\": 0.5204081535339355}, {\"x\": -1.2653062343597412, \"y\": 0.3979593515396118}, {\"x\": -1.1836735010147095, \"y\": 0.275510311126709}, {\"x\": -1.1020408868789673, \"y\": 0.1530613899230957}, {\"x\": -1.020408272743225, \"y\": 0.030612468719482422}, {\"x\": -0.9387755990028381, \"y\": 0.18367314338684082}, {\"x\": -0.8571429252624512, \"y\": 0.4285712242126465}, {\"x\": -0.775510311126709, \"y\": 0.673469066619873}, {\"x\": -0.6938775777816772, \"y\": 0.9183673858642578}, {\"x\": -0.6122449040412903, \"y\": 1.1632652282714844}, {\"x\": -0.5306122899055481, \"y\": 1.408163070678711}, {\"x\": -0.44897961616516113, \"y\": 1.6530611515045166}, {\"x\": -0.36734697222709656, \"y\": 1.8979591131210327}, {\"x\": -0.285714328289032, \"y\": 2.142857074737549}, {\"x\": -0.20408165454864502, \"y\": 2.3877549171447754}, {\"x\": -0.12244904041290283, \"y\": 2.632652759552002}, {\"x\": -0.040816307067871094, \"y\": 2.8775510787963867}, {\"x\": 0.04081634432077408, \"y\": 3.1224489212036133}, {\"x\": 0.12244899570941925, \"y\": 3.367347002029419}, {\"x\": 0.20408165454864502, \"y\": 3.6122450828552246}, {\"x\": 0.2857142984867096, \"y\": 3.857142925262451}, {\"x\": 0.36734694242477417, \"y\": 4.102040767669678}, {\"x\": 0.44897961616516113, \"y\": 4.3469390869140625}, {\"x\": 0.5306122303009033, \"y\": 4.591836929321289}, {\"x\": 0.6122449636459351, \"y\": 4.836734771728516}, {\"x\": 0.693877637386322, \"y\": 5.081632614135742}, {\"x\": 0.7755102515220642, \"y\": 5.326530456542969}, {\"x\": 0.8571429252624512, \"y\": 5.5714287757873535}, {\"x\": 0.9387755393981934, \"y\": 5.81632661819458}, {\"x\": 1.0204081535339355, \"y\": 6.061224460601807}, {\"x\": 1.1020408868789673, \"y\": 6.306122779846191}, {\"x\": 1.1836735010147095, \"y\": 6.551020622253418}, {\"x\": 1.2653061151504517, \"y\": 6.7959184646606445}, {\"x\": 1.3469387292861938, \"y\": 7.040816307067871}, {\"x\": 1.4285714626312256, \"y\": 7.285714149475098}, {\"x\": 1.5102040767669678, \"y\": 7.530611991882324}, {\"x\": 1.59183669090271, \"y\": 7.775509834289551}, {\"x\": 1.6734693050384521, \"y\": 8.020407676696777}, {\"x\": 1.7551020383834839, \"y\": 8.26530647277832}, {\"x\": 1.836734652519226, \"y\": 8.510204315185547}, {\"x\": 1.9183673858642578, \"y\": 8.755102157592773}, {\"x\": 2.0, \"y\": 9.0}]}}, {\"mode\": \"vega-lite\"});\n",
       "</script>"
      ],
      "text/plain": [
       "alt.Chart(...)"
      ]
     },
     "execution_count": 244,
     "metadata": {},
     "output_type": "execute_result"
    }
   ],
   "source": [
    "m1,b1, m2, b2 = -1.5,-1.5,3,3\n",
    "\n",
    "x = torch.linspace(-2,2,50)\n",
    "f = partial(double_relu,m1,b1,m2,b2)\n",
    "y= f(x)\n",
    "\n",
    "selector_m =  alt.selection_single(name=\"selector_m\", \n",
    "                                fields=['m1'],\n",
    "                                bind=alt.binding_range(min=-3, max=3, step=0.1, name='M1'),\n",
    "                                init={'m1': m1}) \n",
    "selector_b = alt.selection_single(name=\"selector_b\",\n",
    "                                fields=['b1'], \n",
    "                                bind=alt.binding_range(min=-3, max=3, step=0.1, name='B'),\n",
    "                                init={'b1': b1})\n",
    "selector_mm =  alt.selection_single(name=\"selector_mm\", \n",
    "                                fields=['m2'],\n",
    "                                bind=alt.binding_range(min=-3, max=3, step=0.1, name='M2'),\n",
    "                                init={'m2': m2}) \n",
    "selector_bb = alt.selection_single(name=\"selector_bb\",\n",
    "                                fields=['b2'], \n",
    "                                bind=alt.binding_range(min=-3, max=3, step=0.1, name='B'),\n",
    "                                init={'b12': b2})\n",
    "\n",
    "data = pd.DataFrame({\"x\":x.numpy(),\"y\":y})\n",
    "\n",
    "line = alt.Chart(data=data,title=\"Double ReLu y = (mx + b) + (mx+b)\").mark_line(color=\"red\").encode(\n",
    "    x='x:Q',\n",
    "    y='y:Q',\n",
    ").transform_calculate(y=f\"(max(0,(selector_m.m1 * datum.x) + {b1})) + (max(0,(selector_mm.m2 * datum.x) + {b2}))\").properties(title=\"y = mx+b\").add_selection(selector_m).add_selection(selector_mm)\n",
    "\n",
    "line"
   ]
  },
  {
   "cell_type": "markdown",
   "id": "9b439f38-0d9a-45e1-b918-ee0e3d53fca4",
   "metadata": {},
   "source": [
    "### Draw the Owl Problem\n",
    "\n",
    "**\"At this point, we have the ability to draw an elbow/squiggle, if we connect enough of these elbows and squiggles together, we can approximate/fit any function in existence given enough elbows.\"**\n",
    "\n",
    "As mentioned by Jeremy, we run into the the 'draw the rest of the owl problem'. This fact seems rediculous, this is an important essence of deep learning and we've established every foundational peice of this 'magic'. Its absolutely mind blowing (to me at least) that this is the underlying mechanics of the kind of software that detects cancers and shazam's the song you're listening to."
   ]
  },
  {
   "cell_type": "markdown",
   "id": "bd538b2a-cb5b-46d2-9f89-333c36a7e007",
   "metadata": {},
   "source": [
    "![Draw the Rest of the Owl Meme](https://pbs.twimg.com/media/Bs13i6LCcAAvwCf.jpg)"
   ]
  },
  {
   "cell_type": "markdown",
   "id": "03e216f8-d458-43e5-94c6-74b697f7450b",
   "metadata": {},
   "source": [
    "Everything further in deep learning are tricks, methods, strategies, ideas, and efficient ways to play around and build upon this simple concept, honestly astonishing. It doesn't quite feel real to me but I can see Jeremy's point, given enough squiggles you could make any shape imaginable, with our ability to create a loss function and update our parameters accordingly, we can also automatically find the right values given we have enough squiggles which is a product of our model architecture.\n",
    "\n",
    "How do we do all this efficiently, in comes matrix calculations which allows us to combine a whole bunch of parameters multiplied by a whole bunch of other input values that we're feeding them."
   ]
  },
  {
   "cell_type": "markdown",
   "id": "8ed33ae2-eb20-4a6d-8c39-6e0ce98d22b0",
   "metadata": {},
   "source": [
    "### Matrix Calculations\n",
    "\n",
    "[Jeremy walks through an awesome site](http://matrixmultiplication.xyz/) that visually shows how matrix multiplication works. This really helps sink in how the process works, I think its naturally confusing because you have to have two matrices (tensors in our case) of different shapes and you topple one over on the side and slide it over like a window in order to multiply it by the other matrix as the website shows.\n",
    "\n",
    "Lets replicate the matrices (tensors) in python and step through each of the multiplications one by one to see how we arrive at our final tensor (matrix)."
   ]
  },
  {
   "cell_type": "code",
   "execution_count": 263,
   "id": "6ec8a579-d11c-454e-a456-20004e520f9a",
   "metadata": {},
   "outputs": [
    {
     "data": {
      "text/plain": [
       "(tensor([[1, 2, 1],\n",
       "         [0, 1, 1],\n",
       "         [2, 3, 1]]),\n",
       " tensor([[2, 5],\n",
       "         [6, 7],\n",
       "         [1, 8]]))"
      ]
     },
     "execution_count": 263,
     "metadata": {},
     "output_type": "execute_result"
    }
   ],
   "source": [
    "a = torch.tensor([[1,2,1],\n",
    "                  [0,1,1],\n",
    "                  [2,3,1]])\n",
    "\n",
    "x = torch.tensor([[2,5],\n",
    "                  [6,7],\n",
    "                  [1,8]])\n",
    "\n",
    "a,x"
   ]
  },
  {
   "cell_type": "markdown",
   "id": "6e87f583-699d-4aa7-95b9-9e05ae54c5c9",
   "metadata": {},
   "source": [
    "Ok so we've got two tensors, one which is 3x3 (rows x columns) and the other which is 3x2, if we multiply them together we will yield a 3x2 tensor.\n",
    "\n",
    "Lets also checkout the docs for pytorch's matrix multiplication method which is torch.mm()"
   ]
  },
  {
   "cell_type": "code",
   "execution_count": 265,
   "id": "0a787caf-6f2e-436e-948b-c3b1105138a8",
   "metadata": {},
   "outputs": [
    {
     "data": {
      "text/plain": [
       "\u001b[1;31mDocstring:\u001b[0m\n",
       "mm(input, mat2, *, out=None) -> Tensor\n",
       "\n",
       "Performs a matrix multiplication of the matrices :attr:`input` and :attr:`mat2`.\n",
       "\n",
       "If :attr:`input` is a :math:`(n \\times m)` tensor, :attr:`mat2` is a\n",
       ":math:`(m \\times p)` tensor, :attr:`out` will be a :math:`(n \\times p)` tensor.\n",
       "\n",
       ".. note:: This function does not :ref:`broadcast <broadcasting-semantics>`.\n",
       "          For broadcasting matrix products, see :func:`torch.matmul`.\n",
       "\n",
       "Supports strided and sparse 2-D tensors as inputs, autograd with\n",
       "respect to strided inputs.\n",
       "\n",
       "This operation has support for arguments with :ref:`sparse layouts<sparse-docs>`.\n",
       "If :attr:`out` is provided it's layout will be used. Otherwise, the result\n",
       "layout will be deduced from that of :attr:`input`.\n",
       "\n",
       "\n",
       ".. warning::\n",
       "    Sparse support is a beta feature and some layout(s)/dtype/device combinations may not be supported,\n",
       "    or may not have autograd support. If you notice missing functionality please\n",
       "    open a feature request.\n",
       "\n",
       "This operator supports :ref:`TensorFloat32<tf32_on_ampere>`.\n",
       "\n",
       "On certain ROCm devices, when using float16 inputs this module will use :ref:`different precision<fp16_on_mi200>` for backward.\n",
       "\n",
       "Args:\n",
       "    input (Tensor): the first matrix to be matrix multiplied\n",
       "    mat2 (Tensor): the second matrix to be matrix multiplied\n",
       "\n",
       "Keyword args:\n",
       "    out (Tensor, optional): the output tensor.\n",
       "\n",
       "Example::\n",
       "\n",
       "    >>> mat1 = torch.randn(2, 3)\n",
       "    >>> mat2 = torch.randn(3, 3)\n",
       "    >>> torch.mm(mat1, mat2)\n",
       "    tensor([[ 0.4851,  0.5037, -0.3633],\n",
       "            [-0.0760, -3.6705,  2.4784]])\n",
       "\u001b[1;31mType:\u001b[0m      builtin_function_or_method\n"
      ]
     },
     "metadata": {},
     "output_type": "display_data"
    }
   ],
   "source": [
    "torch.mm?"
   ]
  },
  {
   "cell_type": "markdown",
   "id": "95cb0276-00d4-4588-9ccb-fffad8f73aaa",
   "metadata": {},
   "source": [
    "And lets run our matrix multiplication to see the result."
   ]
  },
  {
   "cell_type": "code",
   "execution_count": 249,
   "id": "1335f6ae-ae59-42af-ba17-a9a386f1a942",
   "metadata": {},
   "outputs": [
    {
     "data": {
      "text/plain": [
       "tensor([[15, 27],\n",
       "        [ 7, 15],\n",
       "        [23, 39]])"
      ]
     },
     "execution_count": 249,
     "metadata": {},
     "output_type": "execute_result"
    }
   ],
   "source": [
    "torch.mm(a,x)"
   ]
  },
  {
   "cell_type": "markdown",
   "id": "0e4ef08a-18c5-4245-aeda-95b0451a9cb8",
   "metadata": {},
   "source": [
    "Awesome, looks just like the website demonstrated.\n",
    "\n",
    "As we tip the x tensor on its side to match the width of tensor a, our first set of calculations are ((2x1) + (6x2) + (1x1)) = 15. We can see the python indexation equivalent below which helps match up mentally how these calculations are done."
   ]
  },
  {
   "cell_type": "code",
   "execution_count": 260,
   "id": "b2f73a09-c71d-4fdd-acab-2b5fd38e5314",
   "metadata": {},
   "outputs": [
    {
     "data": {
      "text/plain": [
       "'(2 x 1) + (6 x 2) + (1 x 1)'"
      ]
     },
     "execution_count": 260,
     "metadata": {},
     "output_type": "execute_result"
    }
   ],
   "source": [
    "f\"({x[0,0]} x {a[0,0]}) + ({x[1,0]} x {a[0,1]}) + ({x[2,0]} x {a[0,2]})\""
   ]
  },
  {
   "cell_type": "markdown",
   "id": "d2c6344c-fab4-416c-ba4e-4d34bdb4261c",
   "metadata": {},
   "source": [
    "This gives us our first result of our output tensor which is '15', which we can see at the 0,0 index of our result.\n",
    "\n",
    "We then slide the 'x' tensor down one so we've now got two 'window' rows to calculate.\n",
    "\n",
    "We run the first row of calculations which is (5x1) + (7x2) + (8x1) = 27, again we can check the indexation in python and our result ends up in the 0,1 position of our output tensor"
   ]
  },
  {
   "cell_type": "code",
   "execution_count": 262,
   "id": "e3602169-b000-462a-86d5-6a39aadeb4c3",
   "metadata": {},
   "outputs": [
    {
     "data": {
      "text/plain": [
       "'(5 x 1) + (7 x 2) + (8 x 1)'"
      ]
     },
     "execution_count": 262,
     "metadata": {},
     "output_type": "execute_result"
    }
   ],
   "source": [
    "f\"({x[0,1]} x {a[0,0]}) + ({x[1,1]} x {a[0,1]}) + ({x[2,1]} x {a[0,2]})\""
   ]
  },
  {
   "cell_type": "markdown",
   "id": "f01e6eb5-a8d7-4643-a048-64c789342d55",
   "metadata": {},
   "source": [
    "At the same time we're also calculating the second row of (2x0) + (6x1) + (1x1) = 7 as our first 'column' of our x tensor is now being calculated against the second 'row' of our 'a' tensor. This output is stored at the 1,0 indexation of our output tensor."
   ]
  },
  {
   "cell_type": "code",
   "execution_count": 268,
   "id": "d27ae8b9-819a-4bbe-a86d-1fbc9b38ab7e",
   "metadata": {},
   "outputs": [
    {
     "data": {
      "text/plain": [
       "'(2 x 0) + (6 x 1) + (1 x 1)'"
      ]
     },
     "execution_count": 268,
     "metadata": {},
     "output_type": "execute_result"
    }
   ],
   "source": [
    "f\"({x[0,0]} x {a[1,0]}) + ({x[1,0]} x {a[1,1]}) + ({x[2,0]} x {a[1,2]})\""
   ]
  },
  {
   "cell_type": "markdown",
   "id": "c69202fa-c3f5-41d2-8361-a9a0469cf43b",
   "metadata": {},
   "source": [
    "Ok, I'm hoping that very explicit example in python in combination with the matrix multiplication website has knuckled down the laborious task of doing matrix multiplications. Thankfully as we saw, torch does all the magic and we don't have to do this hand-written work but scribing this down really matches up the theory with the python indexation vernacular so that they are welded together in my mind and I feel comfortable explaining the concept as well as demonstrating the mechanics of the interactions between the tensors.\n",
    "\n",
    "I did wonder what happens if the tensors are mis-shapen, so lets just add an extra row to our x tensor so that the 3 columns of tensor 'a' don't match up to the now 4 'rows' of our x tensor."
   ]
  },
  {
   "cell_type": "code",
   "execution_count": 269,
   "id": "94eaea83-8471-49c4-9503-0e9c2a3adfd6",
   "metadata": {},
   "outputs": [
    {
     "ename": "RuntimeError",
     "evalue": "mat1 and mat2 shapes cannot be multiplied (3x3 and 4x2)",
     "output_type": "error",
     "traceback": [
      "\u001b[1;31m---------------------------------------------------------------------------\u001b[0m",
      "\u001b[1;31mRuntimeError\u001b[0m                              Traceback (most recent call last)",
      "Cell \u001b[1;32mIn[269], line 10\u001b[0m\n\u001b[0;32m      1\u001b[0m a \u001b[38;5;241m=\u001b[39m torch\u001b[38;5;241m.\u001b[39mtensor([[\u001b[38;5;241m1\u001b[39m,\u001b[38;5;241m2\u001b[39m,\u001b[38;5;241m1\u001b[39m],\n\u001b[0;32m      2\u001b[0m                   [\u001b[38;5;241m0\u001b[39m,\u001b[38;5;241m1\u001b[39m,\u001b[38;5;241m1\u001b[39m],\n\u001b[0;32m      3\u001b[0m                   [\u001b[38;5;241m2\u001b[39m,\u001b[38;5;241m3\u001b[39m,\u001b[38;5;241m1\u001b[39m]])\n\u001b[0;32m      5\u001b[0m x \u001b[38;5;241m=\u001b[39m torch\u001b[38;5;241m.\u001b[39mtensor([[\u001b[38;5;241m2\u001b[39m,\u001b[38;5;241m5\u001b[39m],\n\u001b[0;32m      6\u001b[0m                   [\u001b[38;5;241m6\u001b[39m,\u001b[38;5;241m7\u001b[39m],\n\u001b[0;32m      7\u001b[0m                   [\u001b[38;5;241m1\u001b[39m,\u001b[38;5;241m8\u001b[39m],\n\u001b[0;32m      8\u001b[0m                   [\u001b[38;5;241m100\u001b[39m,\u001b[38;5;241m100\u001b[39m]])\n\u001b[1;32m---> 10\u001b[0m \u001b[43mtorch\u001b[49m\u001b[38;5;241;43m.\u001b[39;49m\u001b[43mmm\u001b[49m\u001b[43m(\u001b[49m\u001b[43ma\u001b[49m\u001b[43m,\u001b[49m\u001b[43mx\u001b[49m\u001b[43m)\u001b[49m\n",
      "\u001b[1;31mRuntimeError\u001b[0m: mat1 and mat2 shapes cannot be multiplied (3x3 and 4x2)"
     ]
    }
   ],
   "source": [
    "a = torch.tensor([[1,2,1],\n",
    "                  [0,1,1],\n",
    "                  [2,3,1]])\n",
    "\n",
    "x = torch.tensor([[2,5],\n",
    "                  [6,7],\n",
    "                  [1,8],\n",
    "                  [100,100]])\n",
    "\n",
    "torch.mm(a,x)"
   ]
  },
  {
   "cell_type": "markdown",
   "id": "32a57df0-06aa-475c-a677-33a57645e2f8",
   "metadata": {},
   "source": [
    "Turns out you can't, how bout that!\n",
    "\n",
    "I'm guessing you can add infinite rows to tensor 'a' however since the 'windowing' process doesn't change as the 3 'a' columns x 3 'x' rows match still works and there's simply more windowing to be done."
   ]
  },
  {
   "cell_type": "code",
   "execution_count": 270,
   "id": "fd893af0-fc7f-41c1-9018-c5593ff84d3e",
   "metadata": {},
   "outputs": [
    {
     "data": {
      "text/plain": [
       "tensor([[  15,   27],\n",
       "        [   7,   15],\n",
       "        [  23,   39],\n",
       "        [ 900, 2000],\n",
       "        [1800, 4000],\n",
       "        [2700, 6000]])"
      ]
     },
     "execution_count": 270,
     "metadata": {},
     "output_type": "execute_result"
    }
   ],
   "source": [
    "a = torch.tensor([[1,2,1],\n",
    "                  [0,1,1],\n",
    "                  [2,3,1],\n",
    "                  [100,100,100],\n",
    "                  [200,200,200],\n",
    "                  [300,300,300]])\n",
    "\n",
    "x = torch.tensor([[2,5],\n",
    "                  [6,7],\n",
    "                  [1,8]])\n",
    "\n",
    "torch.mm(a,x)"
   ]
  },
  {
   "cell_type": "markdown",
   "id": "2c91b996-84dd-4533-832f-f2a52159e72a",
   "metadata": {},
   "source": [
    "Cool, looks like that still functions fine, good to try these things out. I wondered if the 'x' tensor with its 4th row would just result in a (100x0) operation since there is nothing in tensor 'a' at that indexation (since it doesn't exist) but it looks like you'd simply have to reshape tensor 'a' and fill a value of 0 if you wanted that operation to happen.\n",
    "\n",
    "### Deep Learning with Excel\n",
    "\n",
    "[At this point in the lecture (1:04:22)](https://youtu.be/hBBOjCiFcuo?t=3862), Jeremy builds a deep learning model in excel, which is absolutely insane and proves to me he just operates on another vibrational level, plane, existence, whatever you want to call it. Who gets up in the morning and thinks of doing deep learning in excel?! Then again, he's got some deep (pun not indended but very much enjoyed) programming roots in APL and S which are kind of the roots of excel and Jeremy was doing deep learning in the 90s so it doesn't surprise me he natively thinks in this array programming style. Who knew consultants, accountants, etc are all just huge functional programming fans, the OOP vs functional factional wars continue and people don't even know they're fighting the war.\n",
    "\n",
    "That being said, its super cool, its a great demonstration of how it really is these fundamental calculations that we've done by hand which produce the deep learning outcomes we're seeing. Highly recommend the watch if you're in disbelief of what I'm writing here.\n",
    "\n",
    "I was originally thinking of writing this exercise in python but I'll admit its already been quite a substantial journey to walk through only the lecture content and I'd like to make sure I get through the book content as well before investing what will be a decent chunk of time to get it right. If you're reading this I haven't yet come back to revisit this part and re-implement the excel work, feel free to either remind me or be patient as I likely will come back and pythonify the amazing example that Jeremy works through, maybe we'll even use a new dataset."
   ]
  },
  {
   "cell_type": "markdown",
   "id": "963cd2ce-40ff-40a4-9856-8cbf22fac394",
   "metadata": {
    "tags": []
   },
   "source": [
    "## Book Content\n",
    "\n",
    "### Training a Digit Classifier\n",
    "\n",
    "We're going to wind back the clock to 1998 when the \"National Institute of Standards and Technology\" or 'NIST' collected ~60,000 training and ~10,000 testing images of hand written digits and MNIST was born. One of the most famous datasets in all of machines learning, the 'M' in MNIST comes from the \"Modified\" word since the original creators mixed the training and test samples together since NIST originally took their training samples from a different cohort (American Census Bureau Employees) to their training sample (American High School Students). [Thanks Wiki for the history lesson](https://en.wikipedia.org/wiki/MNIST_database), in the same year, Yann Lecun and his colleagues used a Neural Net named \"Lenet-5\" to demonstrate accurate recognition of the handwritten pictures. [Checkout this video of \"Lenet-1\"](https://youtu.be/FwFduRA_L6Q) which Yann states is \"the first convolutional network that could recognise handwritten digits with good speed and accuracy.\" Its honestly bonkers seeing how amazing this tech was back in 93 yet it still took another couple of decades to hit mainstream & for the brilliance to be recognised. Its amazing watching these absolute gangsters in this random basement build history making software like its nothing.\n",
    "\n",
    "Lets Begin!\n",
    "\n",
    "### 3 or 7?\n",
    "\n",
    "Lets download MNIST and then only get the threes and sevens, fastai has some awesome helpers to do this."
   ]
  },
  {
   "cell_type": "code",
   "execution_count": 272,
   "id": "ebd49745-5e15-4bd9-83a8-3d9703f2c137",
   "metadata": {},
   "outputs": [],
   "source": [
    "from fastai.vision.all import *\n",
    "from fastbook import *"
   ]
  },
  {
   "cell_type": "code",
   "execution_count": 273,
   "id": "df739185-f4e7-48b4-878c-df4a232d11e0",
   "metadata": {},
   "outputs": [
    {
     "data": {
      "text/plain": [
       "'https://s3.amazonaws.com/fast-ai-sample/mnist_sample.tgz'"
      ]
     },
     "execution_count": 273,
     "metadata": {},
     "output_type": "execute_result"
    }
   ],
   "source": [
    "URLs.MNIST_SAMPLE"
   ]
  },
  {
   "cell_type": "code",
   "execution_count": 283,
   "id": "a3bd9be3-0192-47e4-b719-63be85d6220c",
   "metadata": {},
   "outputs": [],
   "source": [
    "from pathlib import Path\n",
    "\n",
    "data_base = Path(\"../data/\")\n",
    "mnist_path = data_base / \"MNIST\""
   ]
  },
  {
   "cell_type": "code",
   "execution_count": 280,
   "id": "2620b300-20cf-490d-b270-a8aaa31478ea",
   "metadata": {},
   "outputs": [],
   "source": [
    "mnist_path.mkdir()"
   ]
  },
  {
   "cell_type": "code",
   "execution_count": 303,
   "id": "38f4cc15-114b-4587-bff1-81fb842da97f",
   "metadata": {},
   "outputs": [
    {
     "data": {
      "text/plain": [
       "Path('C:/Users/Nick/.fastai/MNIST/mnist_sample')"
      ]
     },
     "execution_count": 303,
     "metadata": {},
     "output_type": "execute_result"
    }
   ],
   "source": [
    "untar_data(URLs.MNIST_SAMPLE)"
   ]
  },
  {
   "cell_type": "markdown",
   "id": "7e3b1650-1373-4cfc-ae82-bc32d2a31dae",
   "metadata": {},
   "source": [
    "I then move all my data from my .fastai home over to my created directory"
   ]
  },
  {
   "cell_type": "code",
   "execution_count": 305,
   "id": "5ba04bc8-8dfc-44dc-b430-3ab886584351",
   "metadata": {},
   "outputs": [
    {
     "data": {
      "text/plain": [
       "(#3) [Path('../data/MNIST/mnist_sample/labels.csv'),Path('../data/MNIST/mnist_sample/train'),Path('../data/MNIST/mnist_sample/valid')]"
      ]
     },
     "execution_count": 305,
     "metadata": {},
     "output_type": "execute_result"
    }
   ],
   "source": [
    "(mnist_path / \"mnist_sample\").ls()"
   ]
  },
  {
   "cell_type": "code",
   "execution_count": 306,
   "id": "dfef4dbb-dab9-4994-9888-8bc793d5f091",
   "metadata": {},
   "outputs": [
    {
     "data": {
      "text/plain": [
       "Path('../data/MNIST/mnist_sample')"
      ]
     },
     "execution_count": 306,
     "metadata": {},
     "output_type": "execute_result"
    }
   ],
   "source": [
    "sample_path = mnist_path / \"mnist_sample\"\n",
    "sample_path"
   ]
  },
  {
   "cell_type": "code",
   "execution_count": 307,
   "id": "b8850c8e-c393-4934-b745-cf497e8b8b23",
   "metadata": {},
   "outputs": [
    {
     "data": {
      "text/plain": [
       "(#2) [Path('../data/MNIST/mnist_sample/train/3'),Path('../data/MNIST/mnist_sample/train/7')]"
      ]
     },
     "execution_count": 307,
     "metadata": {},
     "output_type": "execute_result"
    }
   ],
   "source": [
    "(sample_path / \"train\").ls()"
   ]
  },
  {
   "cell_type": "markdown",
   "id": "af2f8ed8-52e6-4137-8a5f-ed42580e6403",
   "metadata": {},
   "source": [
    "Here are our threes and sevens, lets get them into separate variables"
   ]
  },
  {
   "cell_type": "code",
   "execution_count": 309,
   "id": "0db2804a-ec03-45cd-8ab2-d192396457b1",
   "metadata": {},
   "outputs": [
    {
     "data": {
      "text/plain": [
       "((#6131) [Path('../data/MNIST/mnist_sample/train/3/10.png'),Path('../data/MNIST/mnist_sample/train/3/10000.png'),Path('../data/MNIST/mnist_sample/train/3/10011.png'),Path('../data/MNIST/mnist_sample/train/3/10031.png'),Path('../data/MNIST/mnist_sample/train/3/10034.png'),Path('../data/MNIST/mnist_sample/train/3/10042.png'),Path('../data/MNIST/mnist_sample/train/3/10052.png'),Path('../data/MNIST/mnist_sample/train/3/1007.png'),Path('../data/MNIST/mnist_sample/train/3/10074.png'),Path('../data/MNIST/mnist_sample/train/3/10091.png')...],\n",
       " (#6265) [Path('../data/MNIST/mnist_sample/train/7/10002.png'),Path('../data/MNIST/mnist_sample/train/7/1001.png'),Path('../data/MNIST/mnist_sample/train/7/10014.png'),Path('../data/MNIST/mnist_sample/train/7/10019.png'),Path('../data/MNIST/mnist_sample/train/7/10039.png'),Path('../data/MNIST/mnist_sample/train/7/10046.png'),Path('../data/MNIST/mnist_sample/train/7/10050.png'),Path('../data/MNIST/mnist_sample/train/7/10063.png'),Path('../data/MNIST/mnist_sample/train/7/10077.png'),Path('../data/MNIST/mnist_sample/train/7/10086.png')...])"
      ]
     },
     "execution_count": 309,
     "metadata": {},
     "output_type": "execute_result"
    }
   ],
   "source": [
    "threes = (sample_path / \"train/3\").ls().sorted()\n",
    "sevens = (sample_path / \"train/7\").ls().sorted()\n",
    "threes, sevens"
   ]
  },
  {
   "cell_type": "markdown",
   "id": "40b46478-300c-48d8-b845-01ccc1be36d0",
   "metadata": {},
   "source": [
    "Lets checkout a 3"
   ]
  },
  {
   "cell_type": "code",
   "execution_count": 319,
   "id": "d505e0e5-dd51-457c-b88e-6e8ed5d4ba22",
   "metadata": {},
   "outputs": [
    {
     "data": {
      "image/png": "[encoded data removed]",
      "text/plain": [
       "<PIL.PngImagePlugin.PngImageFile image mode=L size=28x28>"
      ]
     },
     "execution_count": 319,
     "metadata": {},
     "output_type": "execute_result"
    }
   ],
   "source": [
    "im3 = Image.open(threes[1])\n",
    "im3"
   ]
  },
  {
   "cell_type": "markdown",
   "id": "ddc60f13-7cfe-4cfe-8725-1cbaea9e436a",
   "metadata": {},
   "source": [
    "Its a little baby, so tiny! We can now convert this image into a tensor/array which is what we were playing with earlier in the matrix multiplication section."
   ]
  },
  {
   "cell_type": "code",
   "execution_count": 320,
   "id": "8bf6d904-9d62-4cfa-9cde-27c74309a4b7",
   "metadata": {},
   "outputs": [
    {
     "data": {
      "text/plain": [
       "array([[  0,   0,   0,   0,   0,   0,   0,   0,   0,   0,   0,   0,   0,   0,   0,   0,   0,   0,   0,   0,   0,   0,   0,   0,   0,   0,   0,   0],\n",
       "       [  0,   0,   0,   0,   0,   0,   0,   0,   0,   0,   0,   0,   0,   0,   0,   0,   0,   0,   0,   0,   0,   0,   0,   0,   0,   0,   0,   0],\n",
       "       [  0,   0,   0,   0,   0,   0,   0,   0,   0,   0,   0,   0,   0,   0,   0,   0,   0,   0,   0,   0,   0,   0,   0,   0,   0,   0,   0,   0],\n",
       "       [  0,   0,   0,   0,   0,   0,   0,   0,   0,   0,   0,   0,   0,   0,   0,   0,   0,   0,   0,   0,   0,   0,   0,   0,   0,   0,   0,   0],\n",
       "       [  0,   0,   0,   0,   0,   0,   0,   0,   0,   0,   0,   0,   0,   0,   0,   0,   0,   0,   0,   0,   0,   0,   0,   0,   0,   0,   0,   0],\n",
       "       [  0,   0,   0,   0,   0,   0,   0,   0,   0,  29, 150, 195, 254, 255, 254, 176, 193, 150,  96,   0,   0,   0,   0,   0,   0,   0,   0,   0],\n",
       "       [  0,   0,   0,   0,   0,   0,   0,  48, 166, 224, 253, 253, 234, 196, 253, 253, 253, 253, 233,   0,   0,   0,   0,   0,   0,   0,   0,   0],\n",
       "       [  0,   0,   0,   0,   0,  93, 244, 249, 253, 187,  46,  10,   8,   4,  10, 194, 253, 253, 233,   0,   0,   0,   0,   0,   0,   0,   0,   0],\n",
       "       [  0,   0,   0,   0,   0, 107, 253, 253, 230,  48,   0,   0,   0,   0,   0, 192, 253, 253, 156,   0,   0,   0,   0,   0,   0,   0,   0,   0],\n",
       "       [  0,   0,   0,   0,   0,   3,  20,  20,  15,   0,   0,   0,   0,   0,  43, 224, 253, 245,  74,   0,   0,   0,   0,   0,   0,   0,   0,   0],\n",
       "       [  0,   0,   0,   0,   0,   0,   0,   0,   0,   0,   0,   0,   0,   0, 249, 253, 245, 126,   0,   0,   0,   0,   0,   0,   0,   0,   0,   0],\n",
       "       [  0,   0,   0,   0,   0,   0,   0,   0,   0,   0,   0,  14, 101, 223, 253, 248, 124,   0,   0,   0,   0,   0,   0,   0,   0,   0,   0,   0],\n",
       "       [  0,   0,   0,   0,   0,   0,   0,   0,   0,  11, 166, 239, 253, 253, 253, 187,  30,   0,   0,   0,   0,   0,   0,   0,   0,   0,   0,   0],\n",
       "       [  0,   0,   0,   0,   0,   0,   0,   0,   0,  16, 248, 250, 253, 253, 253, 253, 232, 213, 111,   2,   0,   0,   0,   0,   0,   0,   0,   0],\n",
       "       [  0,   0,   0,   0,   0,   0,   0,   0,   0,   0,   0,  43,  98,  98, 208, 253, 253, 253, 253, 187,  22,   0,   0,   0,   0,   0,   0,   0],\n",
       "       [  0,   0,   0,   0,   0,   0,   0,   0,   0,   0,   0,   0,   0,   0,   9,  51, 119, 253, 253, 253,  76,   0,   0,   0,   0,   0,   0,   0],\n",
       "       [  0,   0,   0,   0,   0,   0,   0,   0,   0,   0,   0,   0,   0,   0,   0,   0,   1, 183, 253, 253, 139,   0,   0,   0,   0,   0,   0,   0],\n",
       "       [  0,   0,   0,   0,   0,   0,   0,   0,   0,   0,   0,   0,   0,   0,   0,   0,   0, 182, 253, 253, 104,   0,   0,   0,   0,   0,   0,   0],\n",
       "       [  0,   0,   0,   0,   0,   0,   0,   0,   0,   0,   0,   0,   0,   0,   0,   0,  85, 249, 253, 253,  36,   0,   0,   0,   0,   0,   0,   0],\n",
       "       [  0,   0,   0,   0,   0,   0,   0,   0,   0,   0,   0,   0,   0,   0,   0,  60, 214, 253, 253, 173,  11,   0,   0,   0,   0,   0,   0,   0],\n",
       "       [  0,   0,   0,   0,   0,   0,   0,   0,   0,   0,   0,   0,   0,   0,  98, 247, 253, 253, 226,   9,   0,   0,   0,   0,   0,   0,   0,   0],\n",
       "       [  0,   0,   0,   0,   0,   0,   0,   0,   0,   0,   0,   0,  42, 150, 252, 253, 253, 233,  53,   0,   0,   0,   0,   0,   0,   0,   0,   0],\n",
       "       [  0,   0,   0,   0,   0,   0,  42, 115,  42,  60, 115, 159, 240, 253, 253, 250, 175,  25,   0,   0,   0,   0,   0,   0,   0,   0,   0,   0],\n",
       "       [  0,   0,   0,   0,   0,   0, 187, 253, 253, 253, 253, 253, 253, 253, 197,  86,   0,   0,   0,   0,   0,   0,   0,   0,   0,   0,   0,   0],\n",
       "       [  0,   0,   0,   0,   0,   0, 103, 253, 253, 253, 253, 253, 232,  67,   1,   0,   0,   0,   0,   0,   0,   0,   0,   0,   0,   0,   0,   0],\n",
       "       [  0,   0,   0,   0,   0,   0,   0,   0,   0,   0,   0,   0,   0,   0,   0,   0,   0,   0,   0,   0,   0,   0,   0,   0,   0,   0,   0,   0],\n",
       "       [  0,   0,   0,   0,   0,   0,   0,   0,   0,   0,   0,   0,   0,   0,   0,   0,   0,   0,   0,   0,   0,   0,   0,   0,   0,   0,   0,   0],\n",
       "       [  0,   0,   0,   0,   0,   0,   0,   0,   0,   0,   0,   0,   0,   0,   0,   0,   0,   0,   0,   0,   0,   0,   0,   0,   0,   0,   0,   0]], dtype=uint8)"
      ]
     },
     "execution_count": 320,
     "metadata": {},
     "output_type": "execute_result"
    }
   ],
   "source": [
    "array(im3)"
   ]
  },
  {
   "cell_type": "markdown",
   "id": "3cdc489e-7c97-4481-abfe-ccfb12cb5891",
   "metadata": {},
   "source": [
    "I'm going to take a stab and say that the value of the number is how light or dark that specific pixel is, black being 255 and pure white being 0. Its connecting for me how the tensor calculations we were doing earlier are so applicable to working with images, underneath they're just sneaky matrix friends. We can make it a tensor as well:"
   ]
  },
  {
   "cell_type": "code",
   "execution_count": 324,
   "id": "19725a3d-3ae4-4e7c-8428-8efb3ecd7cf0",
   "metadata": {},
   "outputs": [
    {
     "data": {
      "text/plain": [
       "(tensor([[  0,   0,   0,   0,   0,   0,   0,   0,   0,   0,   0,   0,   0,   0,   0,   0,   0,   0,   0,   0,   0,   0,   0,   0,   0,   0,   0,   0],\n",
       "         [  0,   0,   0,   0,   0,   0,   0,   0,   0,   0,   0,   0,   0,   0,   0,   0,   0,   0,   0,   0,   0,   0,   0,   0,   0,   0,   0,   0],\n",
       "         [  0,   0,   0,   0,   0,   0,   0,   0,   0,   0,   0,   0,   0,   0,   0,   0,   0,   0,   0,   0,   0,   0,   0,   0,   0,   0,   0,   0],\n",
       "         [  0,   0,   0,   0,   0,   0,   0,   0,   0,   0,   0,   0,   0,   0,   0,   0,   0,   0,   0,   0,   0,   0,   0,   0,   0,   0,   0,   0],\n",
       "         [  0,   0,   0,   0,   0,   0,   0,   0,   0,   0,   0,   0,   0,   0,   0,   0,   0,   0,   0,   0,   0,   0,   0,   0,   0,   0,   0,   0],\n",
       "         [  0,   0,   0,   0,   0,   0,   0,   0,   0,  29, 150, 195, 254, 255, 254, 176, 193, 150,  96,   0,   0,   0,   0,   0,   0,   0,   0,   0],\n",
       "         [  0,   0,   0,   0,   0,   0,   0,  48, 166, 224, 253, 253, 234, 196, 253, 253, 253, 253, 233,   0,   0,   0,   0,   0,   0,   0,   0,   0],\n",
       "         [  0,   0,   0,   0,   0,  93, 244, 249, 253, 187,  46,  10,   8,   4,  10, 194, 253, 253, 233,   0,   0,   0,   0,   0,   0,   0,   0,   0],\n",
       "         [  0,   0,   0,   0,   0, 107, 253, 253, 230,  48,   0,   0,   0,   0,   0, 192, 253, 253, 156,   0,   0,   0,   0,   0,   0,   0,   0,   0],\n",
       "         [  0,   0,   0,   0,   0,   3,  20,  20,  15,   0,   0,   0,   0,   0,  43, 224, 253, 245,  74,   0,   0,   0,   0,   0,   0,   0,   0,   0],\n",
       "         [  0,   0,   0,   0,   0,   0,   0,   0,   0,   0,   0,   0,   0,   0, 249, 253, 245, 126,   0,   0,   0,   0,   0,   0,   0,   0,   0,   0],\n",
       "         [  0,   0,   0,   0,   0,   0,   0,   0,   0,   0,   0,  14, 101, 223, 253, 248, 124,   0,   0,   0,   0,   0,   0,   0,   0,   0,   0,   0],\n",
       "         [  0,   0,   0,   0,   0,   0,   0,   0,   0,  11, 166, 239, 253, 253, 253, 187,  30,   0,   0,   0,   0,   0,   0,   0,   0,   0,   0,   0],\n",
       "         [  0,   0,   0,   0,   0,   0,   0,   0,   0,  16, 248, 250, 253, 253, 253, 253, 232, 213, 111,   2,   0,   0,   0,   0,   0,   0,   0,   0],\n",
       "         [  0,   0,   0,   0,   0,   0,   0,   0,   0,   0,   0,  43,  98,  98, 208, 253, 253, 253, 253, 187,  22,   0,   0,   0,   0,   0,   0,   0],\n",
       "         [  0,   0,   0,   0,   0,   0,   0,   0,   0,   0,   0,   0,   0,   0,   9,  51, 119, 253, 253, 253,  76,   0,   0,   0,   0,   0,   0,   0],\n",
       "         [  0,   0,   0,   0,   0,   0,   0,   0,   0,   0,   0,   0,   0,   0,   0,   0,   1, 183, 253, 253, 139,   0,   0,   0,   0,   0,   0,   0],\n",
       "         [  0,   0,   0,   0,   0,   0,   0,   0,   0,   0,   0,   0,   0,   0,   0,   0,   0, 182, 253, 253, 104,   0,   0,   0,   0,   0,   0,   0],\n",
       "         [  0,   0,   0,   0,   0,   0,   0,   0,   0,   0,   0,   0,   0,   0,   0,   0,  85, 249, 253, 253,  36,   0,   0,   0,   0,   0,   0,   0],\n",
       "         [  0,   0,   0,   0,   0,   0,   0,   0,   0,   0,   0,   0,   0,   0,   0,  60, 214, 253, 253, 173,  11,   0,   0,   0,   0,   0,   0,   0],\n",
       "         [  0,   0,   0,   0,   0,   0,   0,   0,   0,   0,   0,   0,   0,   0,  98, 247, 253, 253, 226,   9,   0,   0,   0,   0,   0,   0,   0,   0],\n",
       "         [  0,   0,   0,   0,   0,   0,   0,   0,   0,   0,   0,   0,  42, 150, 252, 253, 253, 233,  53,   0,   0,   0,   0,   0,   0,   0,   0,   0],\n",
       "         [  0,   0,   0,   0,   0,   0,  42, 115,  42,  60, 115, 159, 240, 253, 253, 250, 175,  25,   0,   0,   0,   0,   0,   0,   0,   0,   0,   0],\n",
       "         [  0,   0,   0,   0,   0,   0, 187, 253, 253, 253, 253, 253, 253, 253, 197,  86,   0,   0,   0,   0,   0,   0,   0,   0,   0,   0,   0,   0],\n",
       "         [  0,   0,   0,   0,   0,   0, 103, 253, 253, 253, 253, 253, 232,  67,   1,   0,   0,   0,   0,   0,   0,   0,   0,   0,   0,   0,   0,   0],\n",
       "         [  0,   0,   0,   0,   0,   0,   0,   0,   0,   0,   0,   0,   0,   0,   0,   0,   0,   0,   0,   0,   0,   0,   0,   0,   0,   0,   0,   0],\n",
       "         [  0,   0,   0,   0,   0,   0,   0,   0,   0,   0,   0,   0,   0,   0,   0,   0,   0,   0,   0,   0,   0,   0,   0,   0,   0,   0,   0,   0],\n",
       "         [  0,   0,   0,   0,   0,   0,   0,   0,   0,   0,   0,   0,   0,   0,   0,   0,   0,   0,   0,   0,   0,   0,   0,   0,   0,   0,   0,   0]], dtype=torch.uint8),\n",
       " torch.Size([28, 28]))"
      ]
     },
     "execution_count": 324,
     "metadata": {},
     "output_type": "execute_result"
    }
   ],
   "source": [
    "tensor(im3), tensor(im3).shape"
   ]
  },
  {
   "cell_type": "markdown",
   "id": "03e771cb-999e-4456-8c14-9ff8206aebe0",
   "metadata": {},
   "source": [
    "Only 28,28 pixels but we can totally workout what we're seeing with some detail, how cool. We can index into these tensors like we did earlier when walking through matrix multiplication, fastai has a cool trick to show you the instensity of the pixels via dataframes:"
   ]
  },
  {
   "cell_type": "code",
   "execution_count": 326,
   "id": "a8b9479c-195b-429b-b802-671ab3c89c33",
   "metadata": {},
   "outputs": [
    {
     "data": {
      "text/html": [
       "<style type=\"text/css\">\n",
       "#T_d93d8_row0_col0, #T_d93d8_row0_col1, #T_d93d8_row0_col2, #T_d93d8_row0_col3, #T_d93d8_row0_col4, #T_d93d8_row0_col5, #T_d93d8_row0_col6, #T_d93d8_row0_col7, #T_d93d8_row0_col8, #T_d93d8_row0_col9, #T_d93d8_row0_col10, #T_d93d8_row0_col11, #T_d93d8_row0_col12, #T_d93d8_row0_col13, #T_d93d8_row0_col14, #T_d93d8_row0_col15, #T_d93d8_row0_col16, #T_d93d8_row0_col17, #T_d93d8_row0_col18, #T_d93d8_row0_col19, #T_d93d8_row0_col20, #T_d93d8_row0_col21, #T_d93d8_row0_col22, #T_d93d8_row0_col23, #T_d93d8_row0_col24, #T_d93d8_row0_col25, #T_d93d8_row0_col26, #T_d93d8_row0_col27, #T_d93d8_row1_col0, #T_d93d8_row1_col1, #T_d93d8_row1_col2, #T_d93d8_row1_col3, #T_d93d8_row1_col4, #T_d93d8_row1_col5, #T_d93d8_row1_col6, #T_d93d8_row1_col7, #T_d93d8_row1_col8, #T_d93d8_row1_col9, #T_d93d8_row1_col10, #T_d93d8_row1_col11, #T_d93d8_row1_col12, #T_d93d8_row1_col13, #T_d93d8_row1_col14, #T_d93d8_row1_col15, #T_d93d8_row1_col16, #T_d93d8_row1_col17, #T_d93d8_row1_col18, #T_d93d8_row1_col19, #T_d93d8_row1_col20, #T_d93d8_row1_col21, #T_d93d8_row1_col22, #T_d93d8_row1_col23, #T_d93d8_row1_col24, #T_d93d8_row1_col25, #T_d93d8_row1_col26, #T_d93d8_row1_col27, #T_d93d8_row2_col0, #T_d93d8_row2_col1, #T_d93d8_row2_col2, #T_d93d8_row2_col3, #T_d93d8_row2_col4, #T_d93d8_row2_col5, #T_d93d8_row2_col6, #T_d93d8_row2_col7, #T_d93d8_row2_col8, #T_d93d8_row2_col9, #T_d93d8_row2_col10, #T_d93d8_row2_col11, #T_d93d8_row2_col12, #T_d93d8_row2_col13, #T_d93d8_row2_col14, #T_d93d8_row2_col15, #T_d93d8_row2_col16, #T_d93d8_row2_col17, #T_d93d8_row2_col18, #T_d93d8_row2_col19, #T_d93d8_row2_col20, #T_d93d8_row2_col21, #T_d93d8_row2_col22, #T_d93d8_row2_col23, #T_d93d8_row2_col24, #T_d93d8_row2_col25, #T_d93d8_row2_col26, #T_d93d8_row2_col27, #T_d93d8_row3_col0, #T_d93d8_row3_col1, #T_d93d8_row3_col2, #T_d93d8_row3_col3, #T_d93d8_row3_col4, #T_d93d8_row3_col5, #T_d93d8_row3_col6, #T_d93d8_row3_col7, #T_d93d8_row3_col8, #T_d93d8_row3_col9, #T_d93d8_row3_col10, #T_d93d8_row3_col11, #T_d93d8_row3_col12, #T_d93d8_row3_col13, #T_d93d8_row3_col14, #T_d93d8_row3_col15, #T_d93d8_row3_col16, #T_d93d8_row3_col17, #T_d93d8_row3_col18, #T_d93d8_row3_col19, #T_d93d8_row3_col20, #T_d93d8_row3_col21, #T_d93d8_row3_col22, #T_d93d8_row3_col23, #T_d93d8_row3_col24, #T_d93d8_row3_col25, #T_d93d8_row3_col26, #T_d93d8_row3_col27, #T_d93d8_row4_col0, #T_d93d8_row4_col1, #T_d93d8_row4_col2, #T_d93d8_row4_col3, #T_d93d8_row4_col4, #T_d93d8_row4_col5, #T_d93d8_row4_col6, #T_d93d8_row4_col7, #T_d93d8_row4_col8, #T_d93d8_row4_col9, #T_d93d8_row4_col10, #T_d93d8_row4_col11, #T_d93d8_row4_col12, #T_d93d8_row4_col13, #T_d93d8_row4_col14, #T_d93d8_row4_col15, #T_d93d8_row4_col16, #T_d93d8_row4_col17, #T_d93d8_row4_col18, #T_d93d8_row4_col19, #T_d93d8_row4_col20, #T_d93d8_row4_col21, #T_d93d8_row4_col22, #T_d93d8_row4_col23, #T_d93d8_row4_col24, #T_d93d8_row4_col25, #T_d93d8_row4_col26, #T_d93d8_row4_col27, #T_d93d8_row5_col0, #T_d93d8_row5_col1, #T_d93d8_row5_col2, #T_d93d8_row5_col3, #T_d93d8_row5_col4, #T_d93d8_row5_col5, #T_d93d8_row5_col6, #T_d93d8_row5_col7, #T_d93d8_row5_col8, #T_d93d8_row5_col19, #T_d93d8_row5_col20, #T_d93d8_row5_col21, #T_d93d8_row5_col22, #T_d93d8_row5_col23, #T_d93d8_row5_col24, #T_d93d8_row5_col25, #T_d93d8_row5_col26, #T_d93d8_row5_col27, #T_d93d8_row6_col0, #T_d93d8_row6_col1, #T_d93d8_row6_col2, #T_d93d8_row6_col3, #T_d93d8_row6_col4, #T_d93d8_row6_col5, #T_d93d8_row6_col6, #T_d93d8_row6_col19, #T_d93d8_row6_col20, #T_d93d8_row6_col21, #T_d93d8_row6_col22, #T_d93d8_row6_col23, #T_d93d8_row6_col24, #T_d93d8_row6_col25, #T_d93d8_row6_col26, #T_d93d8_row6_col27, #T_d93d8_row7_col0, #T_d93d8_row7_col1, #T_d93d8_row7_col2, #T_d93d8_row7_col3, #T_d93d8_row7_col4, #T_d93d8_row7_col19, #T_d93d8_row7_col20, #T_d93d8_row7_col21, #T_d93d8_row7_col22, #T_d93d8_row7_col23, #T_d93d8_row7_col24, #T_d93d8_row7_col25, #T_d93d8_row7_col26, #T_d93d8_row7_col27, #T_d93d8_row8_col0, #T_d93d8_row8_col1, #T_d93d8_row8_col2, #T_d93d8_row8_col3, #T_d93d8_row8_col4, #T_d93d8_row8_col10, #T_d93d8_row8_col11, #T_d93d8_row8_col12, #T_d93d8_row8_col13, #T_d93d8_row8_col14, #T_d93d8_row8_col19, #T_d93d8_row8_col20, #T_d93d8_row8_col21, #T_d93d8_row8_col22, #T_d93d8_row8_col23, #T_d93d8_row8_col24, #T_d93d8_row8_col25, #T_d93d8_row8_col26, #T_d93d8_row8_col27, #T_d93d8_row9_col0, #T_d93d8_row9_col1, #T_d93d8_row9_col2, #T_d93d8_row9_col3, #T_d93d8_row9_col4, #T_d93d8_row9_col9, #T_d93d8_row9_col10, #T_d93d8_row9_col11, #T_d93d8_row9_col12, #T_d93d8_row9_col13, #T_d93d8_row9_col19, #T_d93d8_row9_col20, #T_d93d8_row9_col21, #T_d93d8_row9_col22, #T_d93d8_row9_col23, #T_d93d8_row9_col24, #T_d93d8_row9_col25, #T_d93d8_row9_col26, #T_d93d8_row9_col27, #T_d93d8_row10_col0, #T_d93d8_row10_col1, #T_d93d8_row10_col2, #T_d93d8_row10_col3, #T_d93d8_row10_col4, #T_d93d8_row10_col5, #T_d93d8_row10_col6, #T_d93d8_row10_col7, #T_d93d8_row10_col8, #T_d93d8_row10_col9, #T_d93d8_row10_col10, #T_d93d8_row10_col11, #T_d93d8_row10_col12, #T_d93d8_row10_col13, #T_d93d8_row10_col18, #T_d93d8_row10_col19, #T_d93d8_row10_col20, #T_d93d8_row10_col21, #T_d93d8_row10_col22, #T_d93d8_row10_col23, #T_d93d8_row10_col24, #T_d93d8_row10_col25, #T_d93d8_row10_col26, #T_d93d8_row10_col27, #T_d93d8_row11_col0, #T_d93d8_row11_col1, #T_d93d8_row11_col2, #T_d93d8_row11_col3, #T_d93d8_row11_col4, #T_d93d8_row11_col5, #T_d93d8_row11_col6, #T_d93d8_row11_col7, #T_d93d8_row11_col8, #T_d93d8_row11_col9, #T_d93d8_row11_col10, #T_d93d8_row11_col17, #T_d93d8_row11_col18, #T_d93d8_row11_col19, #T_d93d8_row11_col20, #T_d93d8_row11_col21, #T_d93d8_row11_col22, #T_d93d8_row11_col23, #T_d93d8_row11_col24, #T_d93d8_row11_col25, #T_d93d8_row11_col26, #T_d93d8_row11_col27, #T_d93d8_row12_col0, #T_d93d8_row12_col1, #T_d93d8_row12_col2, #T_d93d8_row12_col3, #T_d93d8_row12_col4, #T_d93d8_row12_col5, #T_d93d8_row12_col6, #T_d93d8_row12_col7, #T_d93d8_row12_col8, #T_d93d8_row12_col17, #T_d93d8_row12_col18, #T_d93d8_row12_col19, #T_d93d8_row12_col20, #T_d93d8_row12_col21, #T_d93d8_row12_col22, #T_d93d8_row12_col23, #T_d93d8_row12_col24, #T_d93d8_row12_col25, #T_d93d8_row12_col26, #T_d93d8_row12_col27, #T_d93d8_row13_col0, #T_d93d8_row13_col1, #T_d93d8_row13_col2, #T_d93d8_row13_col3, #T_d93d8_row13_col4, #T_d93d8_row13_col5, #T_d93d8_row13_col6, #T_d93d8_row13_col7, #T_d93d8_row13_col8, #T_d93d8_row13_col20, #T_d93d8_row13_col21, #T_d93d8_row13_col22, #T_d93d8_row13_col23, #T_d93d8_row13_col24, #T_d93d8_row13_col25, #T_d93d8_row13_col26, #T_d93d8_row13_col27, #T_d93d8_row14_col0, #T_d93d8_row14_col1, #T_d93d8_row14_col2, #T_d93d8_row14_col3, #T_d93d8_row14_col4, #T_d93d8_row14_col5, #T_d93d8_row14_col6, #T_d93d8_row14_col7, #T_d93d8_row14_col8, #T_d93d8_row14_col9, #T_d93d8_row14_col10, #T_d93d8_row14_col21, #T_d93d8_row14_col22, #T_d93d8_row14_col23, #T_d93d8_row14_col24, #T_d93d8_row14_col25, #T_d93d8_row14_col26, #T_d93d8_row14_col27, #T_d93d8_row15_col0, #T_d93d8_row15_col1, #T_d93d8_row15_col2, #T_d93d8_row15_col3, #T_d93d8_row15_col4, #T_d93d8_row15_col5, #T_d93d8_row15_col6, #T_d93d8_row15_col7, #T_d93d8_row15_col8, #T_d93d8_row15_col9, #T_d93d8_row15_col10, #T_d93d8_row15_col11, #T_d93d8_row15_col12, #T_d93d8_row15_col13, #T_d93d8_row15_col21, #T_d93d8_row15_col22, #T_d93d8_row15_col23, #T_d93d8_row15_col24, #T_d93d8_row15_col25, #T_d93d8_row15_col26, #T_d93d8_row15_col27, #T_d93d8_row16_col0, #T_d93d8_row16_col1, #T_d93d8_row16_col2, #T_d93d8_row16_col3, #T_d93d8_row16_col4, #T_d93d8_row16_col5, #T_d93d8_row16_col6, #T_d93d8_row16_col7, #T_d93d8_row16_col8, #T_d93d8_row16_col9, #T_d93d8_row16_col10, #T_d93d8_row16_col11, #T_d93d8_row16_col12, #T_d93d8_row16_col13, #T_d93d8_row16_col14, #T_d93d8_row16_col15, #T_d93d8_row16_col16, #T_d93d8_row16_col21, #T_d93d8_row16_col22, #T_d93d8_row16_col23, #T_d93d8_row16_col24, #T_d93d8_row16_col25, #T_d93d8_row16_col26, #T_d93d8_row16_col27, #T_d93d8_row17_col0, #T_d93d8_row17_col1, #T_d93d8_row17_col2, #T_d93d8_row17_col3, #T_d93d8_row17_col4, #T_d93d8_row17_col5, #T_d93d8_row17_col6, #T_d93d8_row17_col7, #T_d93d8_row17_col8, #T_d93d8_row17_col9, #T_d93d8_row17_col10, #T_d93d8_row17_col11, #T_d93d8_row17_col12, #T_d93d8_row17_col13, #T_d93d8_row17_col14, #T_d93d8_row17_col15, #T_d93d8_row17_col16, #T_d93d8_row17_col21, #T_d93d8_row17_col22, #T_d93d8_row17_col23, #T_d93d8_row17_col24, #T_d93d8_row17_col25, #T_d93d8_row17_col26, #T_d93d8_row17_col27, #T_d93d8_row18_col0, #T_d93d8_row18_col1, #T_d93d8_row18_col2, #T_d93d8_row18_col3, #T_d93d8_row18_col4, #T_d93d8_row18_col5, #T_d93d8_row18_col6, #T_d93d8_row18_col7, #T_d93d8_row18_col8, #T_d93d8_row18_col9, #T_d93d8_row18_col10, #T_d93d8_row18_col11, #T_d93d8_row18_col12, #T_d93d8_row18_col13, #T_d93d8_row18_col14, #T_d93d8_row18_col15, #T_d93d8_row18_col21, #T_d93d8_row18_col22, #T_d93d8_row18_col23, #T_d93d8_row18_col24, #T_d93d8_row18_col25, #T_d93d8_row18_col26, #T_d93d8_row18_col27, #T_d93d8_row19_col0, #T_d93d8_row19_col1, #T_d93d8_row19_col2, #T_d93d8_row19_col3, #T_d93d8_row19_col4, #T_d93d8_row19_col5, #T_d93d8_row19_col6, #T_d93d8_row19_col7, #T_d93d8_row19_col8, #T_d93d8_row19_col9, #T_d93d8_row19_col10, #T_d93d8_row19_col11, #T_d93d8_row19_col12, #T_d93d8_row19_col13, #T_d93d8_row19_col14, #T_d93d8_row19_col21, #T_d93d8_row19_col22, #T_d93d8_row19_col23, #T_d93d8_row19_col24, #T_d93d8_row19_col25, #T_d93d8_row19_col26, #T_d93d8_row19_col27, #T_d93d8_row20_col0, #T_d93d8_row20_col1, #T_d93d8_row20_col2, #T_d93d8_row20_col3, #T_d93d8_row20_col4, #T_d93d8_row20_col5, #T_d93d8_row20_col6, #T_d93d8_row20_col7, #T_d93d8_row20_col8, #T_d93d8_row20_col9, #T_d93d8_row20_col10, #T_d93d8_row20_col11, #T_d93d8_row20_col12, #T_d93d8_row20_col13, #T_d93d8_row20_col20, #T_d93d8_row20_col21, #T_d93d8_row20_col22, #T_d93d8_row20_col23, #T_d93d8_row20_col24, #T_d93d8_row20_col25, #T_d93d8_row20_col26, #T_d93d8_row20_col27, #T_d93d8_row21_col0, #T_d93d8_row21_col1, #T_d93d8_row21_col2, #T_d93d8_row21_col3, #T_d93d8_row21_col4, #T_d93d8_row21_col5, #T_d93d8_row21_col6, #T_d93d8_row21_col7, #T_d93d8_row21_col8, #T_d93d8_row21_col9, #T_d93d8_row21_col10, #T_d93d8_row21_col11, #T_d93d8_row21_col19, #T_d93d8_row21_col20, #T_d93d8_row21_col21, #T_d93d8_row21_col22, #T_d93d8_row21_col23, #T_d93d8_row21_col24, #T_d93d8_row21_col25, #T_d93d8_row21_col26, #T_d93d8_row21_col27, #T_d93d8_row22_col0, #T_d93d8_row22_col1, #T_d93d8_row22_col2, #T_d93d8_row22_col3, #T_d93d8_row22_col4, #T_d93d8_row22_col5, #T_d93d8_row22_col18, #T_d93d8_row22_col19, #T_d93d8_row22_col20, #T_d93d8_row22_col21, #T_d93d8_row22_col22, #T_d93d8_row22_col23, #T_d93d8_row22_col24, #T_d93d8_row22_col25, #T_d93d8_row22_col26, #T_d93d8_row22_col27, #T_d93d8_row23_col0, #T_d93d8_row23_col1, #T_d93d8_row23_col2, #T_d93d8_row23_col3, #T_d93d8_row23_col4, #T_d93d8_row23_col5, #T_d93d8_row23_col16, #T_d93d8_row23_col17, #T_d93d8_row23_col18, #T_d93d8_row23_col19, #T_d93d8_row23_col20, #T_d93d8_row23_col21, #T_d93d8_row23_col22, #T_d93d8_row23_col23, #T_d93d8_row23_col24, #T_d93d8_row23_col25, #T_d93d8_row23_col26, #T_d93d8_row23_col27, #T_d93d8_row24_col0, #T_d93d8_row24_col1, #T_d93d8_row24_col2, #T_d93d8_row24_col3, #T_d93d8_row24_col4, #T_d93d8_row24_col5, #T_d93d8_row24_col14, #T_d93d8_row24_col15, #T_d93d8_row24_col16, #T_d93d8_row24_col17, #T_d93d8_row24_col18, #T_d93d8_row24_col19, #T_d93d8_row24_col20, #T_d93d8_row24_col21, #T_d93d8_row24_col22, #T_d93d8_row24_col23, #T_d93d8_row24_col24, #T_d93d8_row24_col25, #T_d93d8_row24_col26, #T_d93d8_row24_col27, #T_d93d8_row25_col0, #T_d93d8_row25_col1, #T_d93d8_row25_col2, #T_d93d8_row25_col3, #T_d93d8_row25_col4, #T_d93d8_row25_col5, #T_d93d8_row25_col6, #T_d93d8_row25_col7, #T_d93d8_row25_col8, #T_d93d8_row25_col9, #T_d93d8_row25_col10, #T_d93d8_row25_col11, #T_d93d8_row25_col12, #T_d93d8_row25_col13, #T_d93d8_row25_col14, #T_d93d8_row25_col15, #T_d93d8_row25_col16, #T_d93d8_row25_col17, #T_d93d8_row25_col18, #T_d93d8_row25_col19, #T_d93d8_row25_col20, #T_d93d8_row25_col21, #T_d93d8_row25_col22, #T_d93d8_row25_col23, #T_d93d8_row25_col24, #T_d93d8_row25_col25, #T_d93d8_row25_col26, #T_d93d8_row25_col27, #T_d93d8_row26_col0, #T_d93d8_row26_col1, #T_d93d8_row26_col2, #T_d93d8_row26_col3, #T_d93d8_row26_col4, #T_d93d8_row26_col5, #T_d93d8_row26_col6, #T_d93d8_row26_col7, #T_d93d8_row26_col8, #T_d93d8_row26_col9, #T_d93d8_row26_col10, #T_d93d8_row26_col11, #T_d93d8_row26_col12, #T_d93d8_row26_col13, #T_d93d8_row26_col14, #T_d93d8_row26_col15, #T_d93d8_row26_col16, #T_d93d8_row26_col17, #T_d93d8_row26_col18, #T_d93d8_row26_col19, #T_d93d8_row26_col20, #T_d93d8_row26_col21, #T_d93d8_row26_col22, #T_d93d8_row26_col23, #T_d93d8_row26_col24, #T_d93d8_row26_col25, #T_d93d8_row26_col26, #T_d93d8_row26_col27, #T_d93d8_row27_col0, #T_d93d8_row27_col1, #T_d93d8_row27_col2, #T_d93d8_row27_col3, #T_d93d8_row27_col4, #T_d93d8_row27_col5, #T_d93d8_row27_col6, #T_d93d8_row27_col7, #T_d93d8_row27_col8, #T_d93d8_row27_col9, #T_d93d8_row27_col10, #T_d93d8_row27_col11, #T_d93d8_row27_col12, #T_d93d8_row27_col13, #T_d93d8_row27_col14, #T_d93d8_row27_col15, #T_d93d8_row27_col16, #T_d93d8_row27_col17, #T_d93d8_row27_col18, #T_d93d8_row27_col19, #T_d93d8_row27_col20, #T_d93d8_row27_col21, #T_d93d8_row27_col22, #T_d93d8_row27_col23, #T_d93d8_row27_col24, #T_d93d8_row27_col25, #T_d93d8_row27_col26, #T_d93d8_row27_col27 {\n",
       "  font-size: 6pt;\n",
       "  background-color: #ffffff;\n",
       "  color: #000000;\n",
       "}\n",
       "#T_d93d8_row5_col9, #T_d93d8_row12_col16 {\n",
       "  font-size: 6pt;\n",
       "  background-color: #f1f1f1;\n",
       "  color: #000000;\n",
       "}\n",
       "#T_d93d8_row5_col10, #T_d93d8_row5_col17 {\n",
       "  font-size: 6pt;\n",
       "  background-color: #7c7c7c;\n",
       "  color: #f1f1f1;\n",
       "}\n",
       "#T_d93d8_row5_col11 {\n",
       "  font-size: 6pt;\n",
       "  background-color: #4a4a4a;\n",
       "  color: #f1f1f1;\n",
       "}\n",
       "#T_d93d8_row5_col12, #T_d93d8_row5_col13, #T_d93d8_row5_col14, #T_d93d8_row6_col10, #T_d93d8_row6_col11, #T_d93d8_row6_col15, #T_d93d8_row6_col16, #T_d93d8_row6_col17, #T_d93d8_row7_col8, #T_d93d8_row7_col16, #T_d93d8_row7_col17, #T_d93d8_row8_col5, #T_d93d8_row8_col6, #T_d93d8_row8_col7, #T_d93d8_row8_col16, #T_d93d8_row8_col17, #T_d93d8_row9_col16, #T_d93d8_row10_col15, #T_d93d8_row13_col15, #T_d93d8_row14_col15, #T_d93d8_row14_col16, #T_d93d8_row14_col17, #T_d93d8_row14_col18, #T_d93d8_row15_col17, #T_d93d8_row15_col18, #T_d93d8_row15_col19, #T_d93d8_row16_col18, #T_d93d8_row16_col19, #T_d93d8_row16_col20, #T_d93d8_row17_col18, #T_d93d8_row17_col19, #T_d93d8_row18_col18, #T_d93d8_row18_col19, #T_d93d8_row19_col17, #T_d93d8_row19_col18, #T_d93d8_row20_col16, #T_d93d8_row20_col17, #T_d93d8_row21_col15, #T_d93d8_row21_col16, #T_d93d8_row23_col7, #T_d93d8_row23_col8, #T_d93d8_row23_col9, #T_d93d8_row23_col10, #T_d93d8_row23_col11, #T_d93d8_row24_col7, #T_d93d8_row24_col8, #T_d93d8_row24_col9, #T_d93d8_row24_col10, #T_d93d8_row24_col11 {\n",
       "  font-size: 6pt;\n",
       "  background-color: #000000;\n",
       "  color: #f1f1f1;\n",
       "}\n",
       "#T_d93d8_row5_col15 {\n",
       "  font-size: 6pt;\n",
       "  background-color: #606060;\n",
       "  color: #f1f1f1;\n",
       "}\n",
       "#T_d93d8_row5_col16 {\n",
       "  font-size: 6pt;\n",
       "  background-color: #4d4d4d;\n",
       "  color: #f1f1f1;\n",
       "}\n",
       "#T_d93d8_row5_col18 {\n",
       "  font-size: 6pt;\n",
       "  background-color: #bbbbbb;\n",
       "  color: #000000;\n",
       "}\n",
       "#T_d93d8_row6_col7, #T_d93d8_row8_col9 {\n",
       "  font-size: 6pt;\n",
       "  background-color: #e4e4e4;\n",
       "  color: #000000;\n",
       "}\n",
       "#T_d93d8_row6_col8, #T_d93d8_row12_col10 {\n",
       "  font-size: 6pt;\n",
       "  background-color: #6b6b6b;\n",
       "  color: #f1f1f1;\n",
       "}\n",
       "#T_d93d8_row6_col9, #T_d93d8_row9_col15 {\n",
       "  font-size: 6pt;\n",
       "  background-color: #222222;\n",
       "  color: #f1f1f1;\n",
       "}\n",
       "#T_d93d8_row6_col12, #T_d93d8_row6_col18, #T_d93d8_row7_col18, #T_d93d8_row21_col17 {\n",
       "  font-size: 6pt;\n",
       "  background-color: #171717;\n",
       "  color: #f1f1f1;\n",
       "}\n",
       "#T_d93d8_row6_col13, #T_d93d8_row7_col15 {\n",
       "  font-size: 6pt;\n",
       "  background-color: #4b4b4b;\n",
       "  color: #f1f1f1;\n",
       "}\n",
       "#T_d93d8_row6_col14, #T_d93d8_row11_col14, #T_d93d8_row12_col12, #T_d93d8_row12_col14, #T_d93d8_row13_col12, #T_d93d8_row13_col14, #T_d93d8_row22_col14, #T_d93d8_row23_col12 {\n",
       "  font-size: 6pt;\n",
       "  background-color: #010101;\n",
       "  color: #f1f1f1;\n",
       "}\n",
       "#T_d93d8_row7_col5 {\n",
       "  font-size: 6pt;\n",
       "  background-color: #272727;\n",
       "  color: #f1f1f1;\n",
       "}\n",
       "#T_d93d8_row7_col6 {\n",
       "  font-size: 6pt;\n",
       "  background-color: #0a0a0a;\n",
       "  color: #f1f1f1;\n",
       "}\n",
       "#T_d93d8_row7_col7, #T_d93d8_row18_col17 {\n",
       "  font-size: 6pt;\n",
       "  background-color: #050505;\n",
       "  color: #f1f1f1;\n",
       "}\n",
       "#T_d93d8_row7_col9, #T_d93d8_row12_col15, #T_d93d8_row14_col19, #T_d93d8_row23_col6 {\n",
       "  font-size: 6pt;\n",
       "  background-color: #545454;\n",
       "  color: #f1f1f1;\n",
       "}\n",
       "#T_d93d8_row7_col10 {\n",
       "  font-size: 6pt;\n",
       "  background-color: #e6e6e6;\n",
       "  color: #000000;\n",
       "}\n",
       "#T_d93d8_row7_col11, #T_d93d8_row7_col14, #T_d93d8_row12_col9 {\n",
       "  font-size: 6pt;\n",
       "  background-color: #fafafa;\n",
       "  color: #000000;\n",
       "}\n",
       "#T_d93d8_row7_col12, #T_d93d8_row15_col14, #T_d93d8_row20_col19 {\n",
       "  font-size: 6pt;\n",
       "  background-color: #fbfbfb;\n",
       "  color: #000000;\n",
       "}\n",
       "#T_d93d8_row7_col13 {\n",
       "  font-size: 6pt;\n",
       "  background-color: #fdfdfd;\n",
       "  color: #000000;\n",
       "}\n",
       "#T_d93d8_row8_col8 {\n",
       "  font-size: 6pt;\n",
       "  background-color: #1b1b1b;\n",
       "  color: #f1f1f1;\n",
       "}\n",
       "#T_d93d8_row8_col15 {\n",
       "  font-size: 6pt;\n",
       "  background-color: #4e4e4e;\n",
       "  color: #f1f1f1;\n",
       "}\n",
       "#T_d93d8_row8_col18 {\n",
       "  font-size: 6pt;\n",
       "  background-color: #767676;\n",
       "  color: #f1f1f1;\n",
       "}\n",
       "#T_d93d8_row9_col5 {\n",
       "  font-size: 6pt;\n",
       "  background-color: #fcfcfc;\n",
       "  color: #000000;\n",
       "}\n",
       "#T_d93d8_row9_col6, #T_d93d8_row9_col7, #T_d93d8_row19_col20 {\n",
       "  font-size: 6pt;\n",
       "  background-color: #f6f6f6;\n",
       "  color: #000000;\n",
       "}\n",
       "#T_d93d8_row9_col8, #T_d93d8_row11_col11 {\n",
       "  font-size: 6pt;\n",
       "  background-color: #f8f8f8;\n",
       "  color: #000000;\n",
       "}\n",
       "#T_d93d8_row9_col14, #T_d93d8_row14_col11 {\n",
       "  font-size: 6pt;\n",
       "  background-color: #e8e8e8;\n",
       "  color: #000000;\n",
       "}\n",
       "#T_d93d8_row9_col17, #T_d93d8_row10_col16 {\n",
       "  font-size: 6pt;\n",
       "  background-color: #090909;\n",
       "  color: #f1f1f1;\n",
       "}\n",
       "#T_d93d8_row9_col18 {\n",
       "  font-size: 6pt;\n",
       "  background-color: #d0d0d0;\n",
       "  color: #000000;\n",
       "}\n",
       "#T_d93d8_row10_col14, #T_d93d8_row11_col15, #T_d93d8_row13_col10 {\n",
       "  font-size: 6pt;\n",
       "  background-color: #060606;\n",
       "  color: #f1f1f1;\n",
       "}\n",
       "#T_d93d8_row10_col17 {\n",
       "  font-size: 6pt;\n",
       "  background-color: #979797;\n",
       "  color: #f1f1f1;\n",
       "}\n",
       "#T_d93d8_row11_col12 {\n",
       "  font-size: 6pt;\n",
       "  background-color: #b6b6b6;\n",
       "  color: #000000;\n",
       "}\n",
       "#T_d93d8_row11_col13 {\n",
       "  font-size: 6pt;\n",
       "  background-color: #252525;\n",
       "  color: #f1f1f1;\n",
       "}\n",
       "#T_d93d8_row11_col16 {\n",
       "  font-size: 6pt;\n",
       "  background-color: #999999;\n",
       "  color: #f1f1f1;\n",
       "}\n",
       "#T_d93d8_row12_col11, #T_d93d8_row22_col12 {\n",
       "  font-size: 6pt;\n",
       "  background-color: #101010;\n",
       "  color: #f1f1f1;\n",
       "}\n",
       "#T_d93d8_row12_col13, #T_d93d8_row13_col13, #T_d93d8_row21_col14, #T_d93d8_row22_col13, #T_d93d8_row23_col13 {\n",
       "  font-size: 6pt;\n",
       "  background-color: #020202;\n",
       "  color: #f1f1f1;\n",
       "}\n",
       "#T_d93d8_row13_col9 {\n",
       "  font-size: 6pt;\n",
       "  background-color: #f7f7f7;\n",
       "  color: #000000;\n",
       "}\n",
       "#T_d93d8_row13_col11, #T_d93d8_row22_col15 {\n",
       "  font-size: 6pt;\n",
       "  background-color: #030303;\n",
       "  color: #f1f1f1;\n",
       "}\n",
       "#T_d93d8_row13_col16 {\n",
       "  font-size: 6pt;\n",
       "  background-color: #181818;\n",
       "  color: #f1f1f1;\n",
       "}\n",
       "#T_d93d8_row13_col17 {\n",
       "  font-size: 6pt;\n",
       "  background-color: #303030;\n",
       "  color: #f1f1f1;\n",
       "}\n",
       "#T_d93d8_row13_col18 {\n",
       "  font-size: 6pt;\n",
       "  background-color: #a9a9a9;\n",
       "  color: #f1f1f1;\n",
       "}\n",
       "#T_d93d8_row13_col19 {\n",
       "  font-size: 6pt;\n",
       "  background-color: #fefefe;\n",
       "  color: #000000;\n",
       "}\n",
       "#T_d93d8_row14_col12, #T_d93d8_row14_col13, #T_d93d8_row20_col14 {\n",
       "  font-size: 6pt;\n",
       "  background-color: #bababa;\n",
       "  color: #000000;\n",
       "}\n",
       "#T_d93d8_row14_col14 {\n",
       "  font-size: 6pt;\n",
       "  background-color: #393939;\n",
       "  color: #f1f1f1;\n",
       "}\n",
       "#T_d93d8_row14_col20 {\n",
       "  font-size: 6pt;\n",
       "  background-color: #eaeaea;\n",
       "  color: #000000;\n",
       "}\n",
       "#T_d93d8_row15_col15 {\n",
       "  font-size: 6pt;\n",
       "  background-color: #e2e2e2;\n",
       "  color: #000000;\n",
       "}\n",
       "#T_d93d8_row15_col16 {\n",
       "  font-size: 6pt;\n",
       "  background-color: #9f9f9f;\n",
       "  color: #f1f1f1;\n",
       "}\n",
       "#T_d93d8_row15_col20 {\n",
       "  font-size: 6pt;\n",
       "  background-color: #898989;\n",
       "  color: #f1f1f1;\n",
       "}\n",
       "#T_d93d8_row16_col17 {\n",
       "  font-size: 6pt;\n",
       "  background-color: #585858;\n",
       "  color: #f1f1f1;\n",
       "}\n",
       "#T_d93d8_row17_col17 {\n",
       "  font-size: 6pt;\n",
       "  background-color: #5a5a5a;\n",
       "  color: #f1f1f1;\n",
       "}\n",
       "#T_d93d8_row17_col20 {\n",
       "  font-size: 6pt;\n",
       "  background-color: #525252;\n",
       "  color: #f1f1f1;\n",
       "}\n",
       "#T_d93d8_row18_col16, #T_d93d8_row23_col15 {\n",
       "  font-size: 6pt;\n",
       "  background-color: #c5c5c5;\n",
       "  color: #000000;\n",
       "}\n",
       "#T_d93d8_row18_col20 {\n",
       "  font-size: 6pt;\n",
       "  background-color: #d7d7d7;\n",
       "  color: #000000;\n",
       "}\n",
       "#T_d93d8_row19_col15, #T_d93d8_row22_col9 {\n",
       "  font-size: 6pt;\n",
       "  background-color: #dcdcdc;\n",
       "  color: #000000;\n",
       "}\n",
       "#T_d93d8_row19_col16 {\n",
       "  font-size: 6pt;\n",
       "  background-color: #2f2f2f;\n",
       "  color: #f1f1f1;\n",
       "}\n",
       "#T_d93d8_row19_col19 {\n",
       "  font-size: 6pt;\n",
       "  background-color: #636363;\n",
       "  color: #f1f1f1;\n",
       "}\n",
       "#T_d93d8_row20_col15 {\n",
       "  font-size: 6pt;\n",
       "  background-color: #070707;\n",
       "  color: #f1f1f1;\n",
       "}\n",
       "#T_d93d8_row20_col18 {\n",
       "  font-size: 6pt;\n",
       "  background-color: #1f1f1f;\n",
       "  color: #f1f1f1;\n",
       "}\n",
       "#T_d93d8_row21_col12, #T_d93d8_row22_col6, #T_d93d8_row22_col8 {\n",
       "  font-size: 6pt;\n",
       "  background-color: #e9e9e9;\n",
       "  color: #000000;\n",
       "}\n",
       "#T_d93d8_row21_col13 {\n",
       "  font-size: 6pt;\n",
       "  background-color: #7d7d7d;\n",
       "  color: #f1f1f1;\n",
       "}\n",
       "#T_d93d8_row21_col18 {\n",
       "  font-size: 6pt;\n",
       "  background-color: #e1e1e1;\n",
       "  color: #000000;\n",
       "}\n",
       "#T_d93d8_row22_col7, #T_d93d8_row22_col10 {\n",
       "  font-size: 6pt;\n",
       "  background-color: #a4a4a4;\n",
       "  color: #f1f1f1;\n",
       "}\n",
       "#T_d93d8_row22_col11 {\n",
       "  font-size: 6pt;\n",
       "  background-color: #727272;\n",
       "  color: #f1f1f1;\n",
       "}\n",
       "#T_d93d8_row22_col16 {\n",
       "  font-size: 6pt;\n",
       "  background-color: #616161;\n",
       "  color: #f1f1f1;\n",
       "}\n",
       "#T_d93d8_row22_col17 {\n",
       "  font-size: 6pt;\n",
       "  background-color: #f3f3f3;\n",
       "  color: #000000;\n",
       "}\n",
       "#T_d93d8_row23_col14 {\n",
       "  font-size: 6pt;\n",
       "  background-color: #484848;\n",
       "  color: #f1f1f1;\n",
       "}\n",
       "#T_d93d8_row24_col6 {\n",
       "  font-size: 6pt;\n",
       "  background-color: #b3b3b3;\n",
       "  color: #000000;\n",
       "}\n",
       "#T_d93d8_row24_col12 {\n",
       "  font-size: 6pt;\n",
       "  background-color: #1a1a1a;\n",
       "  color: #f1f1f1;\n",
       "}\n",
       "#T_d93d8_row24_col13 {\n",
       "  font-size: 6pt;\n",
       "  background-color: #d6d6d6;\n",
       "  color: #000000;\n",
       "}\n",
       "</style>\n",
       "<table id=\"T_d93d8\">\n",
       "  <thead>\n",
       "    <tr>\n",
       "      <th class=\"blank level0\" >&nbsp;</th>\n",
       "      <th id=\"T_d93d8_level0_col0\" class=\"col_heading level0 col0\" >0</th>\n",
       "      <th id=\"T_d93d8_level0_col1\" class=\"col_heading level0 col1\" >1</th>\n",
       "      <th id=\"T_d93d8_level0_col2\" class=\"col_heading level0 col2\" >2</th>\n",
       "      <th id=\"T_d93d8_level0_col3\" class=\"col_heading level0 col3\" >3</th>\n",
       "      <th id=\"T_d93d8_level0_col4\" class=\"col_heading level0 col4\" >4</th>\n",
       "      <th id=\"T_d93d8_level0_col5\" class=\"col_heading level0 col5\" >5</th>\n",
       "      <th id=\"T_d93d8_level0_col6\" class=\"col_heading level0 col6\" >6</th>\n",
       "      <th id=\"T_d93d8_level0_col7\" class=\"col_heading level0 col7\" >7</th>\n",
       "      <th id=\"T_d93d8_level0_col8\" class=\"col_heading level0 col8\" >8</th>\n",
       "      <th id=\"T_d93d8_level0_col9\" class=\"col_heading level0 col9\" >9</th>\n",
       "      <th id=\"T_d93d8_level0_col10\" class=\"col_heading level0 col10\" >10</th>\n",
       "      <th id=\"T_d93d8_level0_col11\" class=\"col_heading level0 col11\" >11</th>\n",
       "      <th id=\"T_d93d8_level0_col12\" class=\"col_heading level0 col12\" >12</th>\n",
       "      <th id=\"T_d93d8_level0_col13\" class=\"col_heading level0 col13\" >13</th>\n",
       "      <th id=\"T_d93d8_level0_col14\" class=\"col_heading level0 col14\" >14</th>\n",
       "      <th id=\"T_d93d8_level0_col15\" class=\"col_heading level0 col15\" >15</th>\n",
       "      <th id=\"T_d93d8_level0_col16\" class=\"col_heading level0 col16\" >16</th>\n",
       "      <th id=\"T_d93d8_level0_col17\" class=\"col_heading level0 col17\" >17</th>\n",
       "      <th id=\"T_d93d8_level0_col18\" class=\"col_heading level0 col18\" >18</th>\n",
       "      <th id=\"T_d93d8_level0_col19\" class=\"col_heading level0 col19\" >19</th>\n",
       "      <th id=\"T_d93d8_level0_col20\" class=\"col_heading level0 col20\" >20</th>\n",
       "      <th id=\"T_d93d8_level0_col21\" class=\"col_heading level0 col21\" >21</th>\n",
       "      <th id=\"T_d93d8_level0_col22\" class=\"col_heading level0 col22\" >22</th>\n",
       "      <th id=\"T_d93d8_level0_col23\" class=\"col_heading level0 col23\" >23</th>\n",
       "      <th id=\"T_d93d8_level0_col24\" class=\"col_heading level0 col24\" >24</th>\n",
       "      <th id=\"T_d93d8_level0_col25\" class=\"col_heading level0 col25\" >25</th>\n",
       "      <th id=\"T_d93d8_level0_col26\" class=\"col_heading level0 col26\" >26</th>\n",
       "      <th id=\"T_d93d8_level0_col27\" class=\"col_heading level0 col27\" >27</th>\n",
       "    </tr>\n",
       "  </thead>\n",
       "  <tbody>\n",
       "    <tr>\n",
       "      <th id=\"T_d93d8_level0_row0\" class=\"row_heading level0 row0\" >0</th>\n",
       "      <td id=\"T_d93d8_row0_col0\" class=\"data row0 col0\" >0</td>\n",
       "      <td id=\"T_d93d8_row0_col1\" class=\"data row0 col1\" >0</td>\n",
       "      <td id=\"T_d93d8_row0_col2\" class=\"data row0 col2\" >0</td>\n",
       "      <td id=\"T_d93d8_row0_col3\" class=\"data row0 col3\" >0</td>\n",
       "      <td id=\"T_d93d8_row0_col4\" class=\"data row0 col4\" >0</td>\n",
       "      <td id=\"T_d93d8_row0_col5\" class=\"data row0 col5\" >0</td>\n",
       "      <td id=\"T_d93d8_row0_col6\" class=\"data row0 col6\" >0</td>\n",
       "      <td id=\"T_d93d8_row0_col7\" class=\"data row0 col7\" >0</td>\n",
       "      <td id=\"T_d93d8_row0_col8\" class=\"data row0 col8\" >0</td>\n",
       "      <td id=\"T_d93d8_row0_col9\" class=\"data row0 col9\" >0</td>\n",
       "      <td id=\"T_d93d8_row0_col10\" class=\"data row0 col10\" >0</td>\n",
       "      <td id=\"T_d93d8_row0_col11\" class=\"data row0 col11\" >0</td>\n",
       "      <td id=\"T_d93d8_row0_col12\" class=\"data row0 col12\" >0</td>\n",
       "      <td id=\"T_d93d8_row0_col13\" class=\"data row0 col13\" >0</td>\n",
       "      <td id=\"T_d93d8_row0_col14\" class=\"data row0 col14\" >0</td>\n",
       "      <td id=\"T_d93d8_row0_col15\" class=\"data row0 col15\" >0</td>\n",
       "      <td id=\"T_d93d8_row0_col16\" class=\"data row0 col16\" >0</td>\n",
       "      <td id=\"T_d93d8_row0_col17\" class=\"data row0 col17\" >0</td>\n",
       "      <td id=\"T_d93d8_row0_col18\" class=\"data row0 col18\" >0</td>\n",
       "      <td id=\"T_d93d8_row0_col19\" class=\"data row0 col19\" >0</td>\n",
       "      <td id=\"T_d93d8_row0_col20\" class=\"data row0 col20\" >0</td>\n",
       "      <td id=\"T_d93d8_row0_col21\" class=\"data row0 col21\" >0</td>\n",
       "      <td id=\"T_d93d8_row0_col22\" class=\"data row0 col22\" >0</td>\n",
       "      <td id=\"T_d93d8_row0_col23\" class=\"data row0 col23\" >0</td>\n",
       "      <td id=\"T_d93d8_row0_col24\" class=\"data row0 col24\" >0</td>\n",
       "      <td id=\"T_d93d8_row0_col25\" class=\"data row0 col25\" >0</td>\n",
       "      <td id=\"T_d93d8_row0_col26\" class=\"data row0 col26\" >0</td>\n",
       "      <td id=\"T_d93d8_row0_col27\" class=\"data row0 col27\" >0</td>\n",
       "    </tr>\n",
       "    <tr>\n",
       "      <th id=\"T_d93d8_level0_row1\" class=\"row_heading level0 row1\" >1</th>\n",
       "      <td id=\"T_d93d8_row1_col0\" class=\"data row1 col0\" >0</td>\n",
       "      <td id=\"T_d93d8_row1_col1\" class=\"data row1 col1\" >0</td>\n",
       "      <td id=\"T_d93d8_row1_col2\" class=\"data row1 col2\" >0</td>\n",
       "      <td id=\"T_d93d8_row1_col3\" class=\"data row1 col3\" >0</td>\n",
       "      <td id=\"T_d93d8_row1_col4\" class=\"data row1 col4\" >0</td>\n",
       "      <td id=\"T_d93d8_row1_col5\" class=\"data row1 col5\" >0</td>\n",
       "      <td id=\"T_d93d8_row1_col6\" class=\"data row1 col6\" >0</td>\n",
       "      <td id=\"T_d93d8_row1_col7\" class=\"data row1 col7\" >0</td>\n",
       "      <td id=\"T_d93d8_row1_col8\" class=\"data row1 col8\" >0</td>\n",
       "      <td id=\"T_d93d8_row1_col9\" class=\"data row1 col9\" >0</td>\n",
       "      <td id=\"T_d93d8_row1_col10\" class=\"data row1 col10\" >0</td>\n",
       "      <td id=\"T_d93d8_row1_col11\" class=\"data row1 col11\" >0</td>\n",
       "      <td id=\"T_d93d8_row1_col12\" class=\"data row1 col12\" >0</td>\n",
       "      <td id=\"T_d93d8_row1_col13\" class=\"data row1 col13\" >0</td>\n",
       "      <td id=\"T_d93d8_row1_col14\" class=\"data row1 col14\" >0</td>\n",
       "      <td id=\"T_d93d8_row1_col15\" class=\"data row1 col15\" >0</td>\n",
       "      <td id=\"T_d93d8_row1_col16\" class=\"data row1 col16\" >0</td>\n",
       "      <td id=\"T_d93d8_row1_col17\" class=\"data row1 col17\" >0</td>\n",
       "      <td id=\"T_d93d8_row1_col18\" class=\"data row1 col18\" >0</td>\n",
       "      <td id=\"T_d93d8_row1_col19\" class=\"data row1 col19\" >0</td>\n",
       "      <td id=\"T_d93d8_row1_col20\" class=\"data row1 col20\" >0</td>\n",
       "      <td id=\"T_d93d8_row1_col21\" class=\"data row1 col21\" >0</td>\n",
       "      <td id=\"T_d93d8_row1_col22\" class=\"data row1 col22\" >0</td>\n",
       "      <td id=\"T_d93d8_row1_col23\" class=\"data row1 col23\" >0</td>\n",
       "      <td id=\"T_d93d8_row1_col24\" class=\"data row1 col24\" >0</td>\n",
       "      <td id=\"T_d93d8_row1_col25\" class=\"data row1 col25\" >0</td>\n",
       "      <td id=\"T_d93d8_row1_col26\" class=\"data row1 col26\" >0</td>\n",
       "      <td id=\"T_d93d8_row1_col27\" class=\"data row1 col27\" >0</td>\n",
       "    </tr>\n",
       "    <tr>\n",
       "      <th id=\"T_d93d8_level0_row2\" class=\"row_heading level0 row2\" >2</th>\n",
       "      <td id=\"T_d93d8_row2_col0\" class=\"data row2 col0\" >0</td>\n",
       "      <td id=\"T_d93d8_row2_col1\" class=\"data row2 col1\" >0</td>\n",
       "      <td id=\"T_d93d8_row2_col2\" class=\"data row2 col2\" >0</td>\n",
       "      <td id=\"T_d93d8_row2_col3\" class=\"data row2 col3\" >0</td>\n",
       "      <td id=\"T_d93d8_row2_col4\" class=\"data row2 col4\" >0</td>\n",
       "      <td id=\"T_d93d8_row2_col5\" class=\"data row2 col5\" >0</td>\n",
       "      <td id=\"T_d93d8_row2_col6\" class=\"data row2 col6\" >0</td>\n",
       "      <td id=\"T_d93d8_row2_col7\" class=\"data row2 col7\" >0</td>\n",
       "      <td id=\"T_d93d8_row2_col8\" class=\"data row2 col8\" >0</td>\n",
       "      <td id=\"T_d93d8_row2_col9\" class=\"data row2 col9\" >0</td>\n",
       "      <td id=\"T_d93d8_row2_col10\" class=\"data row2 col10\" >0</td>\n",
       "      <td id=\"T_d93d8_row2_col11\" class=\"data row2 col11\" >0</td>\n",
       "      <td id=\"T_d93d8_row2_col12\" class=\"data row2 col12\" >0</td>\n",
       "      <td id=\"T_d93d8_row2_col13\" class=\"data row2 col13\" >0</td>\n",
       "      <td id=\"T_d93d8_row2_col14\" class=\"data row2 col14\" >0</td>\n",
       "      <td id=\"T_d93d8_row2_col15\" class=\"data row2 col15\" >0</td>\n",
       "      <td id=\"T_d93d8_row2_col16\" class=\"data row2 col16\" >0</td>\n",
       "      <td id=\"T_d93d8_row2_col17\" class=\"data row2 col17\" >0</td>\n",
       "      <td id=\"T_d93d8_row2_col18\" class=\"data row2 col18\" >0</td>\n",
       "      <td id=\"T_d93d8_row2_col19\" class=\"data row2 col19\" >0</td>\n",
       "      <td id=\"T_d93d8_row2_col20\" class=\"data row2 col20\" >0</td>\n",
       "      <td id=\"T_d93d8_row2_col21\" class=\"data row2 col21\" >0</td>\n",
       "      <td id=\"T_d93d8_row2_col22\" class=\"data row2 col22\" >0</td>\n",
       "      <td id=\"T_d93d8_row2_col23\" class=\"data row2 col23\" >0</td>\n",
       "      <td id=\"T_d93d8_row2_col24\" class=\"data row2 col24\" >0</td>\n",
       "      <td id=\"T_d93d8_row2_col25\" class=\"data row2 col25\" >0</td>\n",
       "      <td id=\"T_d93d8_row2_col26\" class=\"data row2 col26\" >0</td>\n",
       "      <td id=\"T_d93d8_row2_col27\" class=\"data row2 col27\" >0</td>\n",
       "    </tr>\n",
       "    <tr>\n",
       "      <th id=\"T_d93d8_level0_row3\" class=\"row_heading level0 row3\" >3</th>\n",
       "      <td id=\"T_d93d8_row3_col0\" class=\"data row3 col0\" >0</td>\n",
       "      <td id=\"T_d93d8_row3_col1\" class=\"data row3 col1\" >0</td>\n",
       "      <td id=\"T_d93d8_row3_col2\" class=\"data row3 col2\" >0</td>\n",
       "      <td id=\"T_d93d8_row3_col3\" class=\"data row3 col3\" >0</td>\n",
       "      <td id=\"T_d93d8_row3_col4\" class=\"data row3 col4\" >0</td>\n",
       "      <td id=\"T_d93d8_row3_col5\" class=\"data row3 col5\" >0</td>\n",
       "      <td id=\"T_d93d8_row3_col6\" class=\"data row3 col6\" >0</td>\n",
       "      <td id=\"T_d93d8_row3_col7\" class=\"data row3 col7\" >0</td>\n",
       "      <td id=\"T_d93d8_row3_col8\" class=\"data row3 col8\" >0</td>\n",
       "      <td id=\"T_d93d8_row3_col9\" class=\"data row3 col9\" >0</td>\n",
       "      <td id=\"T_d93d8_row3_col10\" class=\"data row3 col10\" >0</td>\n",
       "      <td id=\"T_d93d8_row3_col11\" class=\"data row3 col11\" >0</td>\n",
       "      <td id=\"T_d93d8_row3_col12\" class=\"data row3 col12\" >0</td>\n",
       "      <td id=\"T_d93d8_row3_col13\" class=\"data row3 col13\" >0</td>\n",
       "      <td id=\"T_d93d8_row3_col14\" class=\"data row3 col14\" >0</td>\n",
       "      <td id=\"T_d93d8_row3_col15\" class=\"data row3 col15\" >0</td>\n",
       "      <td id=\"T_d93d8_row3_col16\" class=\"data row3 col16\" >0</td>\n",
       "      <td id=\"T_d93d8_row3_col17\" class=\"data row3 col17\" >0</td>\n",
       "      <td id=\"T_d93d8_row3_col18\" class=\"data row3 col18\" >0</td>\n",
       "      <td id=\"T_d93d8_row3_col19\" class=\"data row3 col19\" >0</td>\n",
       "      <td id=\"T_d93d8_row3_col20\" class=\"data row3 col20\" >0</td>\n",
       "      <td id=\"T_d93d8_row3_col21\" class=\"data row3 col21\" >0</td>\n",
       "      <td id=\"T_d93d8_row3_col22\" class=\"data row3 col22\" >0</td>\n",
       "      <td id=\"T_d93d8_row3_col23\" class=\"data row3 col23\" >0</td>\n",
       "      <td id=\"T_d93d8_row3_col24\" class=\"data row3 col24\" >0</td>\n",
       "      <td id=\"T_d93d8_row3_col25\" class=\"data row3 col25\" >0</td>\n",
       "      <td id=\"T_d93d8_row3_col26\" class=\"data row3 col26\" >0</td>\n",
       "      <td id=\"T_d93d8_row3_col27\" class=\"data row3 col27\" >0</td>\n",
       "    </tr>\n",
       "    <tr>\n",
       "      <th id=\"T_d93d8_level0_row4\" class=\"row_heading level0 row4\" >4</th>\n",
       "      <td id=\"T_d93d8_row4_col0\" class=\"data row4 col0\" >0</td>\n",
       "      <td id=\"T_d93d8_row4_col1\" class=\"data row4 col1\" >0</td>\n",
       "      <td id=\"T_d93d8_row4_col2\" class=\"data row4 col2\" >0</td>\n",
       "      <td id=\"T_d93d8_row4_col3\" class=\"data row4 col3\" >0</td>\n",
       "      <td id=\"T_d93d8_row4_col4\" class=\"data row4 col4\" >0</td>\n",
       "      <td id=\"T_d93d8_row4_col5\" class=\"data row4 col5\" >0</td>\n",
       "      <td id=\"T_d93d8_row4_col6\" class=\"data row4 col6\" >0</td>\n",
       "      <td id=\"T_d93d8_row4_col7\" class=\"data row4 col7\" >0</td>\n",
       "      <td id=\"T_d93d8_row4_col8\" class=\"data row4 col8\" >0</td>\n",
       "      <td id=\"T_d93d8_row4_col9\" class=\"data row4 col9\" >0</td>\n",
       "      <td id=\"T_d93d8_row4_col10\" class=\"data row4 col10\" >0</td>\n",
       "      <td id=\"T_d93d8_row4_col11\" class=\"data row4 col11\" >0</td>\n",
       "      <td id=\"T_d93d8_row4_col12\" class=\"data row4 col12\" >0</td>\n",
       "      <td id=\"T_d93d8_row4_col13\" class=\"data row4 col13\" >0</td>\n",
       "      <td id=\"T_d93d8_row4_col14\" class=\"data row4 col14\" >0</td>\n",
       "      <td id=\"T_d93d8_row4_col15\" class=\"data row4 col15\" >0</td>\n",
       "      <td id=\"T_d93d8_row4_col16\" class=\"data row4 col16\" >0</td>\n",
       "      <td id=\"T_d93d8_row4_col17\" class=\"data row4 col17\" >0</td>\n",
       "      <td id=\"T_d93d8_row4_col18\" class=\"data row4 col18\" >0</td>\n",
       "      <td id=\"T_d93d8_row4_col19\" class=\"data row4 col19\" >0</td>\n",
       "      <td id=\"T_d93d8_row4_col20\" class=\"data row4 col20\" >0</td>\n",
       "      <td id=\"T_d93d8_row4_col21\" class=\"data row4 col21\" >0</td>\n",
       "      <td id=\"T_d93d8_row4_col22\" class=\"data row4 col22\" >0</td>\n",
       "      <td id=\"T_d93d8_row4_col23\" class=\"data row4 col23\" >0</td>\n",
       "      <td id=\"T_d93d8_row4_col24\" class=\"data row4 col24\" >0</td>\n",
       "      <td id=\"T_d93d8_row4_col25\" class=\"data row4 col25\" >0</td>\n",
       "      <td id=\"T_d93d8_row4_col26\" class=\"data row4 col26\" >0</td>\n",
       "      <td id=\"T_d93d8_row4_col27\" class=\"data row4 col27\" >0</td>\n",
       "    </tr>\n",
       "    <tr>\n",
       "      <th id=\"T_d93d8_level0_row5\" class=\"row_heading level0 row5\" >5</th>\n",
       "      <td id=\"T_d93d8_row5_col0\" class=\"data row5 col0\" >0</td>\n",
       "      <td id=\"T_d93d8_row5_col1\" class=\"data row5 col1\" >0</td>\n",
       "      <td id=\"T_d93d8_row5_col2\" class=\"data row5 col2\" >0</td>\n",
       "      <td id=\"T_d93d8_row5_col3\" class=\"data row5 col3\" >0</td>\n",
       "      <td id=\"T_d93d8_row5_col4\" class=\"data row5 col4\" >0</td>\n",
       "      <td id=\"T_d93d8_row5_col5\" class=\"data row5 col5\" >0</td>\n",
       "      <td id=\"T_d93d8_row5_col6\" class=\"data row5 col6\" >0</td>\n",
       "      <td id=\"T_d93d8_row5_col7\" class=\"data row5 col7\" >0</td>\n",
       "      <td id=\"T_d93d8_row5_col8\" class=\"data row5 col8\" >0</td>\n",
       "      <td id=\"T_d93d8_row5_col9\" class=\"data row5 col9\" >29</td>\n",
       "      <td id=\"T_d93d8_row5_col10\" class=\"data row5 col10\" >150</td>\n",
       "      <td id=\"T_d93d8_row5_col11\" class=\"data row5 col11\" >195</td>\n",
       "      <td id=\"T_d93d8_row5_col12\" class=\"data row5 col12\" >254</td>\n",
       "      <td id=\"T_d93d8_row5_col13\" class=\"data row5 col13\" >255</td>\n",
       "      <td id=\"T_d93d8_row5_col14\" class=\"data row5 col14\" >254</td>\n",
       "      <td id=\"T_d93d8_row5_col15\" class=\"data row5 col15\" >176</td>\n",
       "      <td id=\"T_d93d8_row5_col16\" class=\"data row5 col16\" >193</td>\n",
       "      <td id=\"T_d93d8_row5_col17\" class=\"data row5 col17\" >150</td>\n",
       "      <td id=\"T_d93d8_row5_col18\" class=\"data row5 col18\" >96</td>\n",
       "      <td id=\"T_d93d8_row5_col19\" class=\"data row5 col19\" >0</td>\n",
       "      <td id=\"T_d93d8_row5_col20\" class=\"data row5 col20\" >0</td>\n",
       "      <td id=\"T_d93d8_row5_col21\" class=\"data row5 col21\" >0</td>\n",
       "      <td id=\"T_d93d8_row5_col22\" class=\"data row5 col22\" >0</td>\n",
       "      <td id=\"T_d93d8_row5_col23\" class=\"data row5 col23\" >0</td>\n",
       "      <td id=\"T_d93d8_row5_col24\" class=\"data row5 col24\" >0</td>\n",
       "      <td id=\"T_d93d8_row5_col25\" class=\"data row5 col25\" >0</td>\n",
       "      <td id=\"T_d93d8_row5_col26\" class=\"data row5 col26\" >0</td>\n",
       "      <td id=\"T_d93d8_row5_col27\" class=\"data row5 col27\" >0</td>\n",
       "    </tr>\n",
       "    <tr>\n",
       "      <th id=\"T_d93d8_level0_row6\" class=\"row_heading level0 row6\" >6</th>\n",
       "      <td id=\"T_d93d8_row6_col0\" class=\"data row6 col0\" >0</td>\n",
       "      <td id=\"T_d93d8_row6_col1\" class=\"data row6 col1\" >0</td>\n",
       "      <td id=\"T_d93d8_row6_col2\" class=\"data row6 col2\" >0</td>\n",
       "      <td id=\"T_d93d8_row6_col3\" class=\"data row6 col3\" >0</td>\n",
       "      <td id=\"T_d93d8_row6_col4\" class=\"data row6 col4\" >0</td>\n",
       "      <td id=\"T_d93d8_row6_col5\" class=\"data row6 col5\" >0</td>\n",
       "      <td id=\"T_d93d8_row6_col6\" class=\"data row6 col6\" >0</td>\n",
       "      <td id=\"T_d93d8_row6_col7\" class=\"data row6 col7\" >48</td>\n",
       "      <td id=\"T_d93d8_row6_col8\" class=\"data row6 col8\" >166</td>\n",
       "      <td id=\"T_d93d8_row6_col9\" class=\"data row6 col9\" >224</td>\n",
       "      <td id=\"T_d93d8_row6_col10\" class=\"data row6 col10\" >253</td>\n",
       "      <td id=\"T_d93d8_row6_col11\" class=\"data row6 col11\" >253</td>\n",
       "      <td id=\"T_d93d8_row6_col12\" class=\"data row6 col12\" >234</td>\n",
       "      <td id=\"T_d93d8_row6_col13\" class=\"data row6 col13\" >196</td>\n",
       "      <td id=\"T_d93d8_row6_col14\" class=\"data row6 col14\" >253</td>\n",
       "      <td id=\"T_d93d8_row6_col15\" class=\"data row6 col15\" >253</td>\n",
       "      <td id=\"T_d93d8_row6_col16\" class=\"data row6 col16\" >253</td>\n",
       "      <td id=\"T_d93d8_row6_col17\" class=\"data row6 col17\" >253</td>\n",
       "      <td id=\"T_d93d8_row6_col18\" class=\"data row6 col18\" >233</td>\n",
       "      <td id=\"T_d93d8_row6_col19\" class=\"data row6 col19\" >0</td>\n",
       "      <td id=\"T_d93d8_row6_col20\" class=\"data row6 col20\" >0</td>\n",
       "      <td id=\"T_d93d8_row6_col21\" class=\"data row6 col21\" >0</td>\n",
       "      <td id=\"T_d93d8_row6_col22\" class=\"data row6 col22\" >0</td>\n",
       "      <td id=\"T_d93d8_row6_col23\" class=\"data row6 col23\" >0</td>\n",
       "      <td id=\"T_d93d8_row6_col24\" class=\"data row6 col24\" >0</td>\n",
       "      <td id=\"T_d93d8_row6_col25\" class=\"data row6 col25\" >0</td>\n",
       "      <td id=\"T_d93d8_row6_col26\" class=\"data row6 col26\" >0</td>\n",
       "      <td id=\"T_d93d8_row6_col27\" class=\"data row6 col27\" >0</td>\n",
       "    </tr>\n",
       "    <tr>\n",
       "      <th id=\"T_d93d8_level0_row7\" class=\"row_heading level0 row7\" >7</th>\n",
       "      <td id=\"T_d93d8_row7_col0\" class=\"data row7 col0\" >0</td>\n",
       "      <td id=\"T_d93d8_row7_col1\" class=\"data row7 col1\" >0</td>\n",
       "      <td id=\"T_d93d8_row7_col2\" class=\"data row7 col2\" >0</td>\n",
       "      <td id=\"T_d93d8_row7_col3\" class=\"data row7 col3\" >0</td>\n",
       "      <td id=\"T_d93d8_row7_col4\" class=\"data row7 col4\" >0</td>\n",
       "      <td id=\"T_d93d8_row7_col5\" class=\"data row7 col5\" >93</td>\n",
       "      <td id=\"T_d93d8_row7_col6\" class=\"data row7 col6\" >244</td>\n",
       "      <td id=\"T_d93d8_row7_col7\" class=\"data row7 col7\" >249</td>\n",
       "      <td id=\"T_d93d8_row7_col8\" class=\"data row7 col8\" >253</td>\n",
       "      <td id=\"T_d93d8_row7_col9\" class=\"data row7 col9\" >187</td>\n",
       "      <td id=\"T_d93d8_row7_col10\" class=\"data row7 col10\" >46</td>\n",
       "      <td id=\"T_d93d8_row7_col11\" class=\"data row7 col11\" >10</td>\n",
       "      <td id=\"T_d93d8_row7_col12\" class=\"data row7 col12\" >8</td>\n",
       "      <td id=\"T_d93d8_row7_col13\" class=\"data row7 col13\" >4</td>\n",
       "      <td id=\"T_d93d8_row7_col14\" class=\"data row7 col14\" >10</td>\n",
       "      <td id=\"T_d93d8_row7_col15\" class=\"data row7 col15\" >194</td>\n",
       "      <td id=\"T_d93d8_row7_col16\" class=\"data row7 col16\" >253</td>\n",
       "      <td id=\"T_d93d8_row7_col17\" class=\"data row7 col17\" >253</td>\n",
       "      <td id=\"T_d93d8_row7_col18\" class=\"data row7 col18\" >233</td>\n",
       "      <td id=\"T_d93d8_row7_col19\" class=\"data row7 col19\" >0</td>\n",
       "      <td id=\"T_d93d8_row7_col20\" class=\"data row7 col20\" >0</td>\n",
       "      <td id=\"T_d93d8_row7_col21\" class=\"data row7 col21\" >0</td>\n",
       "      <td id=\"T_d93d8_row7_col22\" class=\"data row7 col22\" >0</td>\n",
       "      <td id=\"T_d93d8_row7_col23\" class=\"data row7 col23\" >0</td>\n",
       "      <td id=\"T_d93d8_row7_col24\" class=\"data row7 col24\" >0</td>\n",
       "      <td id=\"T_d93d8_row7_col25\" class=\"data row7 col25\" >0</td>\n",
       "      <td id=\"T_d93d8_row7_col26\" class=\"data row7 col26\" >0</td>\n",
       "      <td id=\"T_d93d8_row7_col27\" class=\"data row7 col27\" >0</td>\n",
       "    </tr>\n",
       "    <tr>\n",
       "      <th id=\"T_d93d8_level0_row8\" class=\"row_heading level0 row8\" >8</th>\n",
       "      <td id=\"T_d93d8_row8_col0\" class=\"data row8 col0\" >0</td>\n",
       "      <td id=\"T_d93d8_row8_col1\" class=\"data row8 col1\" >0</td>\n",
       "      <td id=\"T_d93d8_row8_col2\" class=\"data row8 col2\" >0</td>\n",
       "      <td id=\"T_d93d8_row8_col3\" class=\"data row8 col3\" >0</td>\n",
       "      <td id=\"T_d93d8_row8_col4\" class=\"data row8 col4\" >0</td>\n",
       "      <td id=\"T_d93d8_row8_col5\" class=\"data row8 col5\" >107</td>\n",
       "      <td id=\"T_d93d8_row8_col6\" class=\"data row8 col6\" >253</td>\n",
       "      <td id=\"T_d93d8_row8_col7\" class=\"data row8 col7\" >253</td>\n",
       "      <td id=\"T_d93d8_row8_col8\" class=\"data row8 col8\" >230</td>\n",
       "      <td id=\"T_d93d8_row8_col9\" class=\"data row8 col9\" >48</td>\n",
       "      <td id=\"T_d93d8_row8_col10\" class=\"data row8 col10\" >0</td>\n",
       "      <td id=\"T_d93d8_row8_col11\" class=\"data row8 col11\" >0</td>\n",
       "      <td id=\"T_d93d8_row8_col12\" class=\"data row8 col12\" >0</td>\n",
       "      <td id=\"T_d93d8_row8_col13\" class=\"data row8 col13\" >0</td>\n",
       "      <td id=\"T_d93d8_row8_col14\" class=\"data row8 col14\" >0</td>\n",
       "      <td id=\"T_d93d8_row8_col15\" class=\"data row8 col15\" >192</td>\n",
       "      <td id=\"T_d93d8_row8_col16\" class=\"data row8 col16\" >253</td>\n",
       "      <td id=\"T_d93d8_row8_col17\" class=\"data row8 col17\" >253</td>\n",
       "      <td id=\"T_d93d8_row8_col18\" class=\"data row8 col18\" >156</td>\n",
       "      <td id=\"T_d93d8_row8_col19\" class=\"data row8 col19\" >0</td>\n",
       "      <td id=\"T_d93d8_row8_col20\" class=\"data row8 col20\" >0</td>\n",
       "      <td id=\"T_d93d8_row8_col21\" class=\"data row8 col21\" >0</td>\n",
       "      <td id=\"T_d93d8_row8_col22\" class=\"data row8 col22\" >0</td>\n",
       "      <td id=\"T_d93d8_row8_col23\" class=\"data row8 col23\" >0</td>\n",
       "      <td id=\"T_d93d8_row8_col24\" class=\"data row8 col24\" >0</td>\n",
       "      <td id=\"T_d93d8_row8_col25\" class=\"data row8 col25\" >0</td>\n",
       "      <td id=\"T_d93d8_row8_col26\" class=\"data row8 col26\" >0</td>\n",
       "      <td id=\"T_d93d8_row8_col27\" class=\"data row8 col27\" >0</td>\n",
       "    </tr>\n",
       "    <tr>\n",
       "      <th id=\"T_d93d8_level0_row9\" class=\"row_heading level0 row9\" >9</th>\n",
       "      <td id=\"T_d93d8_row9_col0\" class=\"data row9 col0\" >0</td>\n",
       "      <td id=\"T_d93d8_row9_col1\" class=\"data row9 col1\" >0</td>\n",
       "      <td id=\"T_d93d8_row9_col2\" class=\"data row9 col2\" >0</td>\n",
       "      <td id=\"T_d93d8_row9_col3\" class=\"data row9 col3\" >0</td>\n",
       "      <td id=\"T_d93d8_row9_col4\" class=\"data row9 col4\" >0</td>\n",
       "      <td id=\"T_d93d8_row9_col5\" class=\"data row9 col5\" >3</td>\n",
       "      <td id=\"T_d93d8_row9_col6\" class=\"data row9 col6\" >20</td>\n",
       "      <td id=\"T_d93d8_row9_col7\" class=\"data row9 col7\" >20</td>\n",
       "      <td id=\"T_d93d8_row9_col8\" class=\"data row9 col8\" >15</td>\n",
       "      <td id=\"T_d93d8_row9_col9\" class=\"data row9 col9\" >0</td>\n",
       "      <td id=\"T_d93d8_row9_col10\" class=\"data row9 col10\" >0</td>\n",
       "      <td id=\"T_d93d8_row9_col11\" class=\"data row9 col11\" >0</td>\n",
       "      <td id=\"T_d93d8_row9_col12\" class=\"data row9 col12\" >0</td>\n",
       "      <td id=\"T_d93d8_row9_col13\" class=\"data row9 col13\" >0</td>\n",
       "      <td id=\"T_d93d8_row9_col14\" class=\"data row9 col14\" >43</td>\n",
       "      <td id=\"T_d93d8_row9_col15\" class=\"data row9 col15\" >224</td>\n",
       "      <td id=\"T_d93d8_row9_col16\" class=\"data row9 col16\" >253</td>\n",
       "      <td id=\"T_d93d8_row9_col17\" class=\"data row9 col17\" >245</td>\n",
       "      <td id=\"T_d93d8_row9_col18\" class=\"data row9 col18\" >74</td>\n",
       "      <td id=\"T_d93d8_row9_col19\" class=\"data row9 col19\" >0</td>\n",
       "      <td id=\"T_d93d8_row9_col20\" class=\"data row9 col20\" >0</td>\n",
       "      <td id=\"T_d93d8_row9_col21\" class=\"data row9 col21\" >0</td>\n",
       "      <td id=\"T_d93d8_row9_col22\" class=\"data row9 col22\" >0</td>\n",
       "      <td id=\"T_d93d8_row9_col23\" class=\"data row9 col23\" >0</td>\n",
       "      <td id=\"T_d93d8_row9_col24\" class=\"data row9 col24\" >0</td>\n",
       "      <td id=\"T_d93d8_row9_col25\" class=\"data row9 col25\" >0</td>\n",
       "      <td id=\"T_d93d8_row9_col26\" class=\"data row9 col26\" >0</td>\n",
       "      <td id=\"T_d93d8_row9_col27\" class=\"data row9 col27\" >0</td>\n",
       "    </tr>\n",
       "    <tr>\n",
       "      <th id=\"T_d93d8_level0_row10\" class=\"row_heading level0 row10\" >10</th>\n",
       "      <td id=\"T_d93d8_row10_col0\" class=\"data row10 col0\" >0</td>\n",
       "      <td id=\"T_d93d8_row10_col1\" class=\"data row10 col1\" >0</td>\n",
       "      <td id=\"T_d93d8_row10_col2\" class=\"data row10 col2\" >0</td>\n",
       "      <td id=\"T_d93d8_row10_col3\" class=\"data row10 col3\" >0</td>\n",
       "      <td id=\"T_d93d8_row10_col4\" class=\"data row10 col4\" >0</td>\n",
       "      <td id=\"T_d93d8_row10_col5\" class=\"data row10 col5\" >0</td>\n",
       "      <td id=\"T_d93d8_row10_col6\" class=\"data row10 col6\" >0</td>\n",
       "      <td id=\"T_d93d8_row10_col7\" class=\"data row10 col7\" >0</td>\n",
       "      <td id=\"T_d93d8_row10_col8\" class=\"data row10 col8\" >0</td>\n",
       "      <td id=\"T_d93d8_row10_col9\" class=\"data row10 col9\" >0</td>\n",
       "      <td id=\"T_d93d8_row10_col10\" class=\"data row10 col10\" >0</td>\n",
       "      <td id=\"T_d93d8_row10_col11\" class=\"data row10 col11\" >0</td>\n",
       "      <td id=\"T_d93d8_row10_col12\" class=\"data row10 col12\" >0</td>\n",
       "      <td id=\"T_d93d8_row10_col13\" class=\"data row10 col13\" >0</td>\n",
       "      <td id=\"T_d93d8_row10_col14\" class=\"data row10 col14\" >249</td>\n",
       "      <td id=\"T_d93d8_row10_col15\" class=\"data row10 col15\" >253</td>\n",
       "      <td id=\"T_d93d8_row10_col16\" class=\"data row10 col16\" >245</td>\n",
       "      <td id=\"T_d93d8_row10_col17\" class=\"data row10 col17\" >126</td>\n",
       "      <td id=\"T_d93d8_row10_col18\" class=\"data row10 col18\" >0</td>\n",
       "      <td id=\"T_d93d8_row10_col19\" class=\"data row10 col19\" >0</td>\n",
       "      <td id=\"T_d93d8_row10_col20\" class=\"data row10 col20\" >0</td>\n",
       "      <td id=\"T_d93d8_row10_col21\" class=\"data row10 col21\" >0</td>\n",
       "      <td id=\"T_d93d8_row10_col22\" class=\"data row10 col22\" >0</td>\n",
       "      <td id=\"T_d93d8_row10_col23\" class=\"data row10 col23\" >0</td>\n",
       "      <td id=\"T_d93d8_row10_col24\" class=\"data row10 col24\" >0</td>\n",
       "      <td id=\"T_d93d8_row10_col25\" class=\"data row10 col25\" >0</td>\n",
       "      <td id=\"T_d93d8_row10_col26\" class=\"data row10 col26\" >0</td>\n",
       "      <td id=\"T_d93d8_row10_col27\" class=\"data row10 col27\" >0</td>\n",
       "    </tr>\n",
       "    <tr>\n",
       "      <th id=\"T_d93d8_level0_row11\" class=\"row_heading level0 row11\" >11</th>\n",
       "      <td id=\"T_d93d8_row11_col0\" class=\"data row11 col0\" >0</td>\n",
       "      <td id=\"T_d93d8_row11_col1\" class=\"data row11 col1\" >0</td>\n",
       "      <td id=\"T_d93d8_row11_col2\" class=\"data row11 col2\" >0</td>\n",
       "      <td id=\"T_d93d8_row11_col3\" class=\"data row11 col3\" >0</td>\n",
       "      <td id=\"T_d93d8_row11_col4\" class=\"data row11 col4\" >0</td>\n",
       "      <td id=\"T_d93d8_row11_col5\" class=\"data row11 col5\" >0</td>\n",
       "      <td id=\"T_d93d8_row11_col6\" class=\"data row11 col6\" >0</td>\n",
       "      <td id=\"T_d93d8_row11_col7\" class=\"data row11 col7\" >0</td>\n",
       "      <td id=\"T_d93d8_row11_col8\" class=\"data row11 col8\" >0</td>\n",
       "      <td id=\"T_d93d8_row11_col9\" class=\"data row11 col9\" >0</td>\n",
       "      <td id=\"T_d93d8_row11_col10\" class=\"data row11 col10\" >0</td>\n",
       "      <td id=\"T_d93d8_row11_col11\" class=\"data row11 col11\" >14</td>\n",
       "      <td id=\"T_d93d8_row11_col12\" class=\"data row11 col12\" >101</td>\n",
       "      <td id=\"T_d93d8_row11_col13\" class=\"data row11 col13\" >223</td>\n",
       "      <td id=\"T_d93d8_row11_col14\" class=\"data row11 col14\" >253</td>\n",
       "      <td id=\"T_d93d8_row11_col15\" class=\"data row11 col15\" >248</td>\n",
       "      <td id=\"T_d93d8_row11_col16\" class=\"data row11 col16\" >124</td>\n",
       "      <td id=\"T_d93d8_row11_col17\" class=\"data row11 col17\" >0</td>\n",
       "      <td id=\"T_d93d8_row11_col18\" class=\"data row11 col18\" >0</td>\n",
       "      <td id=\"T_d93d8_row11_col19\" class=\"data row11 col19\" >0</td>\n",
       "      <td id=\"T_d93d8_row11_col20\" class=\"data row11 col20\" >0</td>\n",
       "      <td id=\"T_d93d8_row11_col21\" class=\"data row11 col21\" >0</td>\n",
       "      <td id=\"T_d93d8_row11_col22\" class=\"data row11 col22\" >0</td>\n",
       "      <td id=\"T_d93d8_row11_col23\" class=\"data row11 col23\" >0</td>\n",
       "      <td id=\"T_d93d8_row11_col24\" class=\"data row11 col24\" >0</td>\n",
       "      <td id=\"T_d93d8_row11_col25\" class=\"data row11 col25\" >0</td>\n",
       "      <td id=\"T_d93d8_row11_col26\" class=\"data row11 col26\" >0</td>\n",
       "      <td id=\"T_d93d8_row11_col27\" class=\"data row11 col27\" >0</td>\n",
       "    </tr>\n",
       "    <tr>\n",
       "      <th id=\"T_d93d8_level0_row12\" class=\"row_heading level0 row12\" >12</th>\n",
       "      <td id=\"T_d93d8_row12_col0\" class=\"data row12 col0\" >0</td>\n",
       "      <td id=\"T_d93d8_row12_col1\" class=\"data row12 col1\" >0</td>\n",
       "      <td id=\"T_d93d8_row12_col2\" class=\"data row12 col2\" >0</td>\n",
       "      <td id=\"T_d93d8_row12_col3\" class=\"data row12 col3\" >0</td>\n",
       "      <td id=\"T_d93d8_row12_col4\" class=\"data row12 col4\" >0</td>\n",
       "      <td id=\"T_d93d8_row12_col5\" class=\"data row12 col5\" >0</td>\n",
       "      <td id=\"T_d93d8_row12_col6\" class=\"data row12 col6\" >0</td>\n",
       "      <td id=\"T_d93d8_row12_col7\" class=\"data row12 col7\" >0</td>\n",
       "      <td id=\"T_d93d8_row12_col8\" class=\"data row12 col8\" >0</td>\n",
       "      <td id=\"T_d93d8_row12_col9\" class=\"data row12 col9\" >11</td>\n",
       "      <td id=\"T_d93d8_row12_col10\" class=\"data row12 col10\" >166</td>\n",
       "      <td id=\"T_d93d8_row12_col11\" class=\"data row12 col11\" >239</td>\n",
       "      <td id=\"T_d93d8_row12_col12\" class=\"data row12 col12\" >253</td>\n",
       "      <td id=\"T_d93d8_row12_col13\" class=\"data row12 col13\" >253</td>\n",
       "      <td id=\"T_d93d8_row12_col14\" class=\"data row12 col14\" >253</td>\n",
       "      <td id=\"T_d93d8_row12_col15\" class=\"data row12 col15\" >187</td>\n",
       "      <td id=\"T_d93d8_row12_col16\" class=\"data row12 col16\" >30</td>\n",
       "      <td id=\"T_d93d8_row12_col17\" class=\"data row12 col17\" >0</td>\n",
       "      <td id=\"T_d93d8_row12_col18\" class=\"data row12 col18\" >0</td>\n",
       "      <td id=\"T_d93d8_row12_col19\" class=\"data row12 col19\" >0</td>\n",
       "      <td id=\"T_d93d8_row12_col20\" class=\"data row12 col20\" >0</td>\n",
       "      <td id=\"T_d93d8_row12_col21\" class=\"data row12 col21\" >0</td>\n",
       "      <td id=\"T_d93d8_row12_col22\" class=\"data row12 col22\" >0</td>\n",
       "      <td id=\"T_d93d8_row12_col23\" class=\"data row12 col23\" >0</td>\n",
       "      <td id=\"T_d93d8_row12_col24\" class=\"data row12 col24\" >0</td>\n",
       "      <td id=\"T_d93d8_row12_col25\" class=\"data row12 col25\" >0</td>\n",
       "      <td id=\"T_d93d8_row12_col26\" class=\"data row12 col26\" >0</td>\n",
       "      <td id=\"T_d93d8_row12_col27\" class=\"data row12 col27\" >0</td>\n",
       "    </tr>\n",
       "    <tr>\n",
       "      <th id=\"T_d93d8_level0_row13\" class=\"row_heading level0 row13\" >13</th>\n",
       "      <td id=\"T_d93d8_row13_col0\" class=\"data row13 col0\" >0</td>\n",
       "      <td id=\"T_d93d8_row13_col1\" class=\"data row13 col1\" >0</td>\n",
       "      <td id=\"T_d93d8_row13_col2\" class=\"data row13 col2\" >0</td>\n",
       "      <td id=\"T_d93d8_row13_col3\" class=\"data row13 col3\" >0</td>\n",
       "      <td id=\"T_d93d8_row13_col4\" class=\"data row13 col4\" >0</td>\n",
       "      <td id=\"T_d93d8_row13_col5\" class=\"data row13 col5\" >0</td>\n",
       "      <td id=\"T_d93d8_row13_col6\" class=\"data row13 col6\" >0</td>\n",
       "      <td id=\"T_d93d8_row13_col7\" class=\"data row13 col7\" >0</td>\n",
       "      <td id=\"T_d93d8_row13_col8\" class=\"data row13 col8\" >0</td>\n",
       "      <td id=\"T_d93d8_row13_col9\" class=\"data row13 col9\" >16</td>\n",
       "      <td id=\"T_d93d8_row13_col10\" class=\"data row13 col10\" >248</td>\n",
       "      <td id=\"T_d93d8_row13_col11\" class=\"data row13 col11\" >250</td>\n",
       "      <td id=\"T_d93d8_row13_col12\" class=\"data row13 col12\" >253</td>\n",
       "      <td id=\"T_d93d8_row13_col13\" class=\"data row13 col13\" >253</td>\n",
       "      <td id=\"T_d93d8_row13_col14\" class=\"data row13 col14\" >253</td>\n",
       "      <td id=\"T_d93d8_row13_col15\" class=\"data row13 col15\" >253</td>\n",
       "      <td id=\"T_d93d8_row13_col16\" class=\"data row13 col16\" >232</td>\n",
       "      <td id=\"T_d93d8_row13_col17\" class=\"data row13 col17\" >213</td>\n",
       "      <td id=\"T_d93d8_row13_col18\" class=\"data row13 col18\" >111</td>\n",
       "      <td id=\"T_d93d8_row13_col19\" class=\"data row13 col19\" >2</td>\n",
       "      <td id=\"T_d93d8_row13_col20\" class=\"data row13 col20\" >0</td>\n",
       "      <td id=\"T_d93d8_row13_col21\" class=\"data row13 col21\" >0</td>\n",
       "      <td id=\"T_d93d8_row13_col22\" class=\"data row13 col22\" >0</td>\n",
       "      <td id=\"T_d93d8_row13_col23\" class=\"data row13 col23\" >0</td>\n",
       "      <td id=\"T_d93d8_row13_col24\" class=\"data row13 col24\" >0</td>\n",
       "      <td id=\"T_d93d8_row13_col25\" class=\"data row13 col25\" >0</td>\n",
       "      <td id=\"T_d93d8_row13_col26\" class=\"data row13 col26\" >0</td>\n",
       "      <td id=\"T_d93d8_row13_col27\" class=\"data row13 col27\" >0</td>\n",
       "    </tr>\n",
       "    <tr>\n",
       "      <th id=\"T_d93d8_level0_row14\" class=\"row_heading level0 row14\" >14</th>\n",
       "      <td id=\"T_d93d8_row14_col0\" class=\"data row14 col0\" >0</td>\n",
       "      <td id=\"T_d93d8_row14_col1\" class=\"data row14 col1\" >0</td>\n",
       "      <td id=\"T_d93d8_row14_col2\" class=\"data row14 col2\" >0</td>\n",
       "      <td id=\"T_d93d8_row14_col3\" class=\"data row14 col3\" >0</td>\n",
       "      <td id=\"T_d93d8_row14_col4\" class=\"data row14 col4\" >0</td>\n",
       "      <td id=\"T_d93d8_row14_col5\" class=\"data row14 col5\" >0</td>\n",
       "      <td id=\"T_d93d8_row14_col6\" class=\"data row14 col6\" >0</td>\n",
       "      <td id=\"T_d93d8_row14_col7\" class=\"data row14 col7\" >0</td>\n",
       "      <td id=\"T_d93d8_row14_col8\" class=\"data row14 col8\" >0</td>\n",
       "      <td id=\"T_d93d8_row14_col9\" class=\"data row14 col9\" >0</td>\n",
       "      <td id=\"T_d93d8_row14_col10\" class=\"data row14 col10\" >0</td>\n",
       "      <td id=\"T_d93d8_row14_col11\" class=\"data row14 col11\" >43</td>\n",
       "      <td id=\"T_d93d8_row14_col12\" class=\"data row14 col12\" >98</td>\n",
       "      <td id=\"T_d93d8_row14_col13\" class=\"data row14 col13\" >98</td>\n",
       "      <td id=\"T_d93d8_row14_col14\" class=\"data row14 col14\" >208</td>\n",
       "      <td id=\"T_d93d8_row14_col15\" class=\"data row14 col15\" >253</td>\n",
       "      <td id=\"T_d93d8_row14_col16\" class=\"data row14 col16\" >253</td>\n",
       "      <td id=\"T_d93d8_row14_col17\" class=\"data row14 col17\" >253</td>\n",
       "      <td id=\"T_d93d8_row14_col18\" class=\"data row14 col18\" >253</td>\n",
       "      <td id=\"T_d93d8_row14_col19\" class=\"data row14 col19\" >187</td>\n",
       "      <td id=\"T_d93d8_row14_col20\" class=\"data row14 col20\" >22</td>\n",
       "      <td id=\"T_d93d8_row14_col21\" class=\"data row14 col21\" >0</td>\n",
       "      <td id=\"T_d93d8_row14_col22\" class=\"data row14 col22\" >0</td>\n",
       "      <td id=\"T_d93d8_row14_col23\" class=\"data row14 col23\" >0</td>\n",
       "      <td id=\"T_d93d8_row14_col24\" class=\"data row14 col24\" >0</td>\n",
       "      <td id=\"T_d93d8_row14_col25\" class=\"data row14 col25\" >0</td>\n",
       "      <td id=\"T_d93d8_row14_col26\" class=\"data row14 col26\" >0</td>\n",
       "      <td id=\"T_d93d8_row14_col27\" class=\"data row14 col27\" >0</td>\n",
       "    </tr>\n",
       "    <tr>\n",
       "      <th id=\"T_d93d8_level0_row15\" class=\"row_heading level0 row15\" >15</th>\n",
       "      <td id=\"T_d93d8_row15_col0\" class=\"data row15 col0\" >0</td>\n",
       "      <td id=\"T_d93d8_row15_col1\" class=\"data row15 col1\" >0</td>\n",
       "      <td id=\"T_d93d8_row15_col2\" class=\"data row15 col2\" >0</td>\n",
       "      <td id=\"T_d93d8_row15_col3\" class=\"data row15 col3\" >0</td>\n",
       "      <td id=\"T_d93d8_row15_col4\" class=\"data row15 col4\" >0</td>\n",
       "      <td id=\"T_d93d8_row15_col5\" class=\"data row15 col5\" >0</td>\n",
       "      <td id=\"T_d93d8_row15_col6\" class=\"data row15 col6\" >0</td>\n",
       "      <td id=\"T_d93d8_row15_col7\" class=\"data row15 col7\" >0</td>\n",
       "      <td id=\"T_d93d8_row15_col8\" class=\"data row15 col8\" >0</td>\n",
       "      <td id=\"T_d93d8_row15_col9\" class=\"data row15 col9\" >0</td>\n",
       "      <td id=\"T_d93d8_row15_col10\" class=\"data row15 col10\" >0</td>\n",
       "      <td id=\"T_d93d8_row15_col11\" class=\"data row15 col11\" >0</td>\n",
       "      <td id=\"T_d93d8_row15_col12\" class=\"data row15 col12\" >0</td>\n",
       "      <td id=\"T_d93d8_row15_col13\" class=\"data row15 col13\" >0</td>\n",
       "      <td id=\"T_d93d8_row15_col14\" class=\"data row15 col14\" >9</td>\n",
       "      <td id=\"T_d93d8_row15_col15\" class=\"data row15 col15\" >51</td>\n",
       "      <td id=\"T_d93d8_row15_col16\" class=\"data row15 col16\" >119</td>\n",
       "      <td id=\"T_d93d8_row15_col17\" class=\"data row15 col17\" >253</td>\n",
       "      <td id=\"T_d93d8_row15_col18\" class=\"data row15 col18\" >253</td>\n",
       "      <td id=\"T_d93d8_row15_col19\" class=\"data row15 col19\" >253</td>\n",
       "      <td id=\"T_d93d8_row15_col20\" class=\"data row15 col20\" >76</td>\n",
       "      <td id=\"T_d93d8_row15_col21\" class=\"data row15 col21\" >0</td>\n",
       "      <td id=\"T_d93d8_row15_col22\" class=\"data row15 col22\" >0</td>\n",
       "      <td id=\"T_d93d8_row15_col23\" class=\"data row15 col23\" >0</td>\n",
       "      <td id=\"T_d93d8_row15_col24\" class=\"data row15 col24\" >0</td>\n",
       "      <td id=\"T_d93d8_row15_col25\" class=\"data row15 col25\" >0</td>\n",
       "      <td id=\"T_d93d8_row15_col26\" class=\"data row15 col26\" >0</td>\n",
       "      <td id=\"T_d93d8_row15_col27\" class=\"data row15 col27\" >0</td>\n",
       "    </tr>\n",
       "    <tr>\n",
       "      <th id=\"T_d93d8_level0_row16\" class=\"row_heading level0 row16\" >16</th>\n",
       "      <td id=\"T_d93d8_row16_col0\" class=\"data row16 col0\" >0</td>\n",
       "      <td id=\"T_d93d8_row16_col1\" class=\"data row16 col1\" >0</td>\n",
       "      <td id=\"T_d93d8_row16_col2\" class=\"data row16 col2\" >0</td>\n",
       "      <td id=\"T_d93d8_row16_col3\" class=\"data row16 col3\" >0</td>\n",
       "      <td id=\"T_d93d8_row16_col4\" class=\"data row16 col4\" >0</td>\n",
       "      <td id=\"T_d93d8_row16_col5\" class=\"data row16 col5\" >0</td>\n",
       "      <td id=\"T_d93d8_row16_col6\" class=\"data row16 col6\" >0</td>\n",
       "      <td id=\"T_d93d8_row16_col7\" class=\"data row16 col7\" >0</td>\n",
       "      <td id=\"T_d93d8_row16_col8\" class=\"data row16 col8\" >0</td>\n",
       "      <td id=\"T_d93d8_row16_col9\" class=\"data row16 col9\" >0</td>\n",
       "      <td id=\"T_d93d8_row16_col10\" class=\"data row16 col10\" >0</td>\n",
       "      <td id=\"T_d93d8_row16_col11\" class=\"data row16 col11\" >0</td>\n",
       "      <td id=\"T_d93d8_row16_col12\" class=\"data row16 col12\" >0</td>\n",
       "      <td id=\"T_d93d8_row16_col13\" class=\"data row16 col13\" >0</td>\n",
       "      <td id=\"T_d93d8_row16_col14\" class=\"data row16 col14\" >0</td>\n",
       "      <td id=\"T_d93d8_row16_col15\" class=\"data row16 col15\" >0</td>\n",
       "      <td id=\"T_d93d8_row16_col16\" class=\"data row16 col16\" >1</td>\n",
       "      <td id=\"T_d93d8_row16_col17\" class=\"data row16 col17\" >183</td>\n",
       "      <td id=\"T_d93d8_row16_col18\" class=\"data row16 col18\" >253</td>\n",
       "      <td id=\"T_d93d8_row16_col19\" class=\"data row16 col19\" >253</td>\n",
       "      <td id=\"T_d93d8_row16_col20\" class=\"data row16 col20\" >139</td>\n",
       "      <td id=\"T_d93d8_row16_col21\" class=\"data row16 col21\" >0</td>\n",
       "      <td id=\"T_d93d8_row16_col22\" class=\"data row16 col22\" >0</td>\n",
       "      <td id=\"T_d93d8_row16_col23\" class=\"data row16 col23\" >0</td>\n",
       "      <td id=\"T_d93d8_row16_col24\" class=\"data row16 col24\" >0</td>\n",
       "      <td id=\"T_d93d8_row16_col25\" class=\"data row16 col25\" >0</td>\n",
       "      <td id=\"T_d93d8_row16_col26\" class=\"data row16 col26\" >0</td>\n",
       "      <td id=\"T_d93d8_row16_col27\" class=\"data row16 col27\" >0</td>\n",
       "    </tr>\n",
       "    <tr>\n",
       "      <th id=\"T_d93d8_level0_row17\" class=\"row_heading level0 row17\" >17</th>\n",
       "      <td id=\"T_d93d8_row17_col0\" class=\"data row17 col0\" >0</td>\n",
       "      <td id=\"T_d93d8_row17_col1\" class=\"data row17 col1\" >0</td>\n",
       "      <td id=\"T_d93d8_row17_col2\" class=\"data row17 col2\" >0</td>\n",
       "      <td id=\"T_d93d8_row17_col3\" class=\"data row17 col3\" >0</td>\n",
       "      <td id=\"T_d93d8_row17_col4\" class=\"data row17 col4\" >0</td>\n",
       "      <td id=\"T_d93d8_row17_col5\" class=\"data row17 col5\" >0</td>\n",
       "      <td id=\"T_d93d8_row17_col6\" class=\"data row17 col6\" >0</td>\n",
       "      <td id=\"T_d93d8_row17_col7\" class=\"data row17 col7\" >0</td>\n",
       "      <td id=\"T_d93d8_row17_col8\" class=\"data row17 col8\" >0</td>\n",
       "      <td id=\"T_d93d8_row17_col9\" class=\"data row17 col9\" >0</td>\n",
       "      <td id=\"T_d93d8_row17_col10\" class=\"data row17 col10\" >0</td>\n",
       "      <td id=\"T_d93d8_row17_col11\" class=\"data row17 col11\" >0</td>\n",
       "      <td id=\"T_d93d8_row17_col12\" class=\"data row17 col12\" >0</td>\n",
       "      <td id=\"T_d93d8_row17_col13\" class=\"data row17 col13\" >0</td>\n",
       "      <td id=\"T_d93d8_row17_col14\" class=\"data row17 col14\" >0</td>\n",
       "      <td id=\"T_d93d8_row17_col15\" class=\"data row17 col15\" >0</td>\n",
       "      <td id=\"T_d93d8_row17_col16\" class=\"data row17 col16\" >0</td>\n",
       "      <td id=\"T_d93d8_row17_col17\" class=\"data row17 col17\" >182</td>\n",
       "      <td id=\"T_d93d8_row17_col18\" class=\"data row17 col18\" >253</td>\n",
       "      <td id=\"T_d93d8_row17_col19\" class=\"data row17 col19\" >253</td>\n",
       "      <td id=\"T_d93d8_row17_col20\" class=\"data row17 col20\" >104</td>\n",
       "      <td id=\"T_d93d8_row17_col21\" class=\"data row17 col21\" >0</td>\n",
       "      <td id=\"T_d93d8_row17_col22\" class=\"data row17 col22\" >0</td>\n",
       "      <td id=\"T_d93d8_row17_col23\" class=\"data row17 col23\" >0</td>\n",
       "      <td id=\"T_d93d8_row17_col24\" class=\"data row17 col24\" >0</td>\n",
       "      <td id=\"T_d93d8_row17_col25\" class=\"data row17 col25\" >0</td>\n",
       "      <td id=\"T_d93d8_row17_col26\" class=\"data row17 col26\" >0</td>\n",
       "      <td id=\"T_d93d8_row17_col27\" class=\"data row17 col27\" >0</td>\n",
       "    </tr>\n",
       "    <tr>\n",
       "      <th id=\"T_d93d8_level0_row18\" class=\"row_heading level0 row18\" >18</th>\n",
       "      <td id=\"T_d93d8_row18_col0\" class=\"data row18 col0\" >0</td>\n",
       "      <td id=\"T_d93d8_row18_col1\" class=\"data row18 col1\" >0</td>\n",
       "      <td id=\"T_d93d8_row18_col2\" class=\"data row18 col2\" >0</td>\n",
       "      <td id=\"T_d93d8_row18_col3\" class=\"data row18 col3\" >0</td>\n",
       "      <td id=\"T_d93d8_row18_col4\" class=\"data row18 col4\" >0</td>\n",
       "      <td id=\"T_d93d8_row18_col5\" class=\"data row18 col5\" >0</td>\n",
       "      <td id=\"T_d93d8_row18_col6\" class=\"data row18 col6\" >0</td>\n",
       "      <td id=\"T_d93d8_row18_col7\" class=\"data row18 col7\" >0</td>\n",
       "      <td id=\"T_d93d8_row18_col8\" class=\"data row18 col8\" >0</td>\n",
       "      <td id=\"T_d93d8_row18_col9\" class=\"data row18 col9\" >0</td>\n",
       "      <td id=\"T_d93d8_row18_col10\" class=\"data row18 col10\" >0</td>\n",
       "      <td id=\"T_d93d8_row18_col11\" class=\"data row18 col11\" >0</td>\n",
       "      <td id=\"T_d93d8_row18_col12\" class=\"data row18 col12\" >0</td>\n",
       "      <td id=\"T_d93d8_row18_col13\" class=\"data row18 col13\" >0</td>\n",
       "      <td id=\"T_d93d8_row18_col14\" class=\"data row18 col14\" >0</td>\n",
       "      <td id=\"T_d93d8_row18_col15\" class=\"data row18 col15\" >0</td>\n",
       "      <td id=\"T_d93d8_row18_col16\" class=\"data row18 col16\" >85</td>\n",
       "      <td id=\"T_d93d8_row18_col17\" class=\"data row18 col17\" >249</td>\n",
       "      <td id=\"T_d93d8_row18_col18\" class=\"data row18 col18\" >253</td>\n",
       "      <td id=\"T_d93d8_row18_col19\" class=\"data row18 col19\" >253</td>\n",
       "      <td id=\"T_d93d8_row18_col20\" class=\"data row18 col20\" >36</td>\n",
       "      <td id=\"T_d93d8_row18_col21\" class=\"data row18 col21\" >0</td>\n",
       "      <td id=\"T_d93d8_row18_col22\" class=\"data row18 col22\" >0</td>\n",
       "      <td id=\"T_d93d8_row18_col23\" class=\"data row18 col23\" >0</td>\n",
       "      <td id=\"T_d93d8_row18_col24\" class=\"data row18 col24\" >0</td>\n",
       "      <td id=\"T_d93d8_row18_col25\" class=\"data row18 col25\" >0</td>\n",
       "      <td id=\"T_d93d8_row18_col26\" class=\"data row18 col26\" >0</td>\n",
       "      <td id=\"T_d93d8_row18_col27\" class=\"data row18 col27\" >0</td>\n",
       "    </tr>\n",
       "    <tr>\n",
       "      <th id=\"T_d93d8_level0_row19\" class=\"row_heading level0 row19\" >19</th>\n",
       "      <td id=\"T_d93d8_row19_col0\" class=\"data row19 col0\" >0</td>\n",
       "      <td id=\"T_d93d8_row19_col1\" class=\"data row19 col1\" >0</td>\n",
       "      <td id=\"T_d93d8_row19_col2\" class=\"data row19 col2\" >0</td>\n",
       "      <td id=\"T_d93d8_row19_col3\" class=\"data row19 col3\" >0</td>\n",
       "      <td id=\"T_d93d8_row19_col4\" class=\"data row19 col4\" >0</td>\n",
       "      <td id=\"T_d93d8_row19_col5\" class=\"data row19 col5\" >0</td>\n",
       "      <td id=\"T_d93d8_row19_col6\" class=\"data row19 col6\" >0</td>\n",
       "      <td id=\"T_d93d8_row19_col7\" class=\"data row19 col7\" >0</td>\n",
       "      <td id=\"T_d93d8_row19_col8\" class=\"data row19 col8\" >0</td>\n",
       "      <td id=\"T_d93d8_row19_col9\" class=\"data row19 col9\" >0</td>\n",
       "      <td id=\"T_d93d8_row19_col10\" class=\"data row19 col10\" >0</td>\n",
       "      <td id=\"T_d93d8_row19_col11\" class=\"data row19 col11\" >0</td>\n",
       "      <td id=\"T_d93d8_row19_col12\" class=\"data row19 col12\" >0</td>\n",
       "      <td id=\"T_d93d8_row19_col13\" class=\"data row19 col13\" >0</td>\n",
       "      <td id=\"T_d93d8_row19_col14\" class=\"data row19 col14\" >0</td>\n",
       "      <td id=\"T_d93d8_row19_col15\" class=\"data row19 col15\" >60</td>\n",
       "      <td id=\"T_d93d8_row19_col16\" class=\"data row19 col16\" >214</td>\n",
       "      <td id=\"T_d93d8_row19_col17\" class=\"data row19 col17\" >253</td>\n",
       "      <td id=\"T_d93d8_row19_col18\" class=\"data row19 col18\" >253</td>\n",
       "      <td id=\"T_d93d8_row19_col19\" class=\"data row19 col19\" >173</td>\n",
       "      <td id=\"T_d93d8_row19_col20\" class=\"data row19 col20\" >11</td>\n",
       "      <td id=\"T_d93d8_row19_col21\" class=\"data row19 col21\" >0</td>\n",
       "      <td id=\"T_d93d8_row19_col22\" class=\"data row19 col22\" >0</td>\n",
       "      <td id=\"T_d93d8_row19_col23\" class=\"data row19 col23\" >0</td>\n",
       "      <td id=\"T_d93d8_row19_col24\" class=\"data row19 col24\" >0</td>\n",
       "      <td id=\"T_d93d8_row19_col25\" class=\"data row19 col25\" >0</td>\n",
       "      <td id=\"T_d93d8_row19_col26\" class=\"data row19 col26\" >0</td>\n",
       "      <td id=\"T_d93d8_row19_col27\" class=\"data row19 col27\" >0</td>\n",
       "    </tr>\n",
       "    <tr>\n",
       "      <th id=\"T_d93d8_level0_row20\" class=\"row_heading level0 row20\" >20</th>\n",
       "      <td id=\"T_d93d8_row20_col0\" class=\"data row20 col0\" >0</td>\n",
       "      <td id=\"T_d93d8_row20_col1\" class=\"data row20 col1\" >0</td>\n",
       "      <td id=\"T_d93d8_row20_col2\" class=\"data row20 col2\" >0</td>\n",
       "      <td id=\"T_d93d8_row20_col3\" class=\"data row20 col3\" >0</td>\n",
       "      <td id=\"T_d93d8_row20_col4\" class=\"data row20 col4\" >0</td>\n",
       "      <td id=\"T_d93d8_row20_col5\" class=\"data row20 col5\" >0</td>\n",
       "      <td id=\"T_d93d8_row20_col6\" class=\"data row20 col6\" >0</td>\n",
       "      <td id=\"T_d93d8_row20_col7\" class=\"data row20 col7\" >0</td>\n",
       "      <td id=\"T_d93d8_row20_col8\" class=\"data row20 col8\" >0</td>\n",
       "      <td id=\"T_d93d8_row20_col9\" class=\"data row20 col9\" >0</td>\n",
       "      <td id=\"T_d93d8_row20_col10\" class=\"data row20 col10\" >0</td>\n",
       "      <td id=\"T_d93d8_row20_col11\" class=\"data row20 col11\" >0</td>\n",
       "      <td id=\"T_d93d8_row20_col12\" class=\"data row20 col12\" >0</td>\n",
       "      <td id=\"T_d93d8_row20_col13\" class=\"data row20 col13\" >0</td>\n",
       "      <td id=\"T_d93d8_row20_col14\" class=\"data row20 col14\" >98</td>\n",
       "      <td id=\"T_d93d8_row20_col15\" class=\"data row20 col15\" >247</td>\n",
       "      <td id=\"T_d93d8_row20_col16\" class=\"data row20 col16\" >253</td>\n",
       "      <td id=\"T_d93d8_row20_col17\" class=\"data row20 col17\" >253</td>\n",
       "      <td id=\"T_d93d8_row20_col18\" class=\"data row20 col18\" >226</td>\n",
       "      <td id=\"T_d93d8_row20_col19\" class=\"data row20 col19\" >9</td>\n",
       "      <td id=\"T_d93d8_row20_col20\" class=\"data row20 col20\" >0</td>\n",
       "      <td id=\"T_d93d8_row20_col21\" class=\"data row20 col21\" >0</td>\n",
       "      <td id=\"T_d93d8_row20_col22\" class=\"data row20 col22\" >0</td>\n",
       "      <td id=\"T_d93d8_row20_col23\" class=\"data row20 col23\" >0</td>\n",
       "      <td id=\"T_d93d8_row20_col24\" class=\"data row20 col24\" >0</td>\n",
       "      <td id=\"T_d93d8_row20_col25\" class=\"data row20 col25\" >0</td>\n",
       "      <td id=\"T_d93d8_row20_col26\" class=\"data row20 col26\" >0</td>\n",
       "      <td id=\"T_d93d8_row20_col27\" class=\"data row20 col27\" >0</td>\n",
       "    </tr>\n",
       "    <tr>\n",
       "      <th id=\"T_d93d8_level0_row21\" class=\"row_heading level0 row21\" >21</th>\n",
       "      <td id=\"T_d93d8_row21_col0\" class=\"data row21 col0\" >0</td>\n",
       "      <td id=\"T_d93d8_row21_col1\" class=\"data row21 col1\" >0</td>\n",
       "      <td id=\"T_d93d8_row21_col2\" class=\"data row21 col2\" >0</td>\n",
       "      <td id=\"T_d93d8_row21_col3\" class=\"data row21 col3\" >0</td>\n",
       "      <td id=\"T_d93d8_row21_col4\" class=\"data row21 col4\" >0</td>\n",
       "      <td id=\"T_d93d8_row21_col5\" class=\"data row21 col5\" >0</td>\n",
       "      <td id=\"T_d93d8_row21_col6\" class=\"data row21 col6\" >0</td>\n",
       "      <td id=\"T_d93d8_row21_col7\" class=\"data row21 col7\" >0</td>\n",
       "      <td id=\"T_d93d8_row21_col8\" class=\"data row21 col8\" >0</td>\n",
       "      <td id=\"T_d93d8_row21_col9\" class=\"data row21 col9\" >0</td>\n",
       "      <td id=\"T_d93d8_row21_col10\" class=\"data row21 col10\" >0</td>\n",
       "      <td id=\"T_d93d8_row21_col11\" class=\"data row21 col11\" >0</td>\n",
       "      <td id=\"T_d93d8_row21_col12\" class=\"data row21 col12\" >42</td>\n",
       "      <td id=\"T_d93d8_row21_col13\" class=\"data row21 col13\" >150</td>\n",
       "      <td id=\"T_d93d8_row21_col14\" class=\"data row21 col14\" >252</td>\n",
       "      <td id=\"T_d93d8_row21_col15\" class=\"data row21 col15\" >253</td>\n",
       "      <td id=\"T_d93d8_row21_col16\" class=\"data row21 col16\" >253</td>\n",
       "      <td id=\"T_d93d8_row21_col17\" class=\"data row21 col17\" >233</td>\n",
       "      <td id=\"T_d93d8_row21_col18\" class=\"data row21 col18\" >53</td>\n",
       "      <td id=\"T_d93d8_row21_col19\" class=\"data row21 col19\" >0</td>\n",
       "      <td id=\"T_d93d8_row21_col20\" class=\"data row21 col20\" >0</td>\n",
       "      <td id=\"T_d93d8_row21_col21\" class=\"data row21 col21\" >0</td>\n",
       "      <td id=\"T_d93d8_row21_col22\" class=\"data row21 col22\" >0</td>\n",
       "      <td id=\"T_d93d8_row21_col23\" class=\"data row21 col23\" >0</td>\n",
       "      <td id=\"T_d93d8_row21_col24\" class=\"data row21 col24\" >0</td>\n",
       "      <td id=\"T_d93d8_row21_col25\" class=\"data row21 col25\" >0</td>\n",
       "      <td id=\"T_d93d8_row21_col26\" class=\"data row21 col26\" >0</td>\n",
       "      <td id=\"T_d93d8_row21_col27\" class=\"data row21 col27\" >0</td>\n",
       "    </tr>\n",
       "    <tr>\n",
       "      <th id=\"T_d93d8_level0_row22\" class=\"row_heading level0 row22\" >22</th>\n",
       "      <td id=\"T_d93d8_row22_col0\" class=\"data row22 col0\" >0</td>\n",
       "      <td id=\"T_d93d8_row22_col1\" class=\"data row22 col1\" >0</td>\n",
       "      <td id=\"T_d93d8_row22_col2\" class=\"data row22 col2\" >0</td>\n",
       "      <td id=\"T_d93d8_row22_col3\" class=\"data row22 col3\" >0</td>\n",
       "      <td id=\"T_d93d8_row22_col4\" class=\"data row22 col4\" >0</td>\n",
       "      <td id=\"T_d93d8_row22_col5\" class=\"data row22 col5\" >0</td>\n",
       "      <td id=\"T_d93d8_row22_col6\" class=\"data row22 col6\" >42</td>\n",
       "      <td id=\"T_d93d8_row22_col7\" class=\"data row22 col7\" >115</td>\n",
       "      <td id=\"T_d93d8_row22_col8\" class=\"data row22 col8\" >42</td>\n",
       "      <td id=\"T_d93d8_row22_col9\" class=\"data row22 col9\" >60</td>\n",
       "      <td id=\"T_d93d8_row22_col10\" class=\"data row22 col10\" >115</td>\n",
       "      <td id=\"T_d93d8_row22_col11\" class=\"data row22 col11\" >159</td>\n",
       "      <td id=\"T_d93d8_row22_col12\" class=\"data row22 col12\" >240</td>\n",
       "      <td id=\"T_d93d8_row22_col13\" class=\"data row22 col13\" >253</td>\n",
       "      <td id=\"T_d93d8_row22_col14\" class=\"data row22 col14\" >253</td>\n",
       "      <td id=\"T_d93d8_row22_col15\" class=\"data row22 col15\" >250</td>\n",
       "      <td id=\"T_d93d8_row22_col16\" class=\"data row22 col16\" >175</td>\n",
       "      <td id=\"T_d93d8_row22_col17\" class=\"data row22 col17\" >25</td>\n",
       "      <td id=\"T_d93d8_row22_col18\" class=\"data row22 col18\" >0</td>\n",
       "      <td id=\"T_d93d8_row22_col19\" class=\"data row22 col19\" >0</td>\n",
       "      <td id=\"T_d93d8_row22_col20\" class=\"data row22 col20\" >0</td>\n",
       "      <td id=\"T_d93d8_row22_col21\" class=\"data row22 col21\" >0</td>\n",
       "      <td id=\"T_d93d8_row22_col22\" class=\"data row22 col22\" >0</td>\n",
       "      <td id=\"T_d93d8_row22_col23\" class=\"data row22 col23\" >0</td>\n",
       "      <td id=\"T_d93d8_row22_col24\" class=\"data row22 col24\" >0</td>\n",
       "      <td id=\"T_d93d8_row22_col25\" class=\"data row22 col25\" >0</td>\n",
       "      <td id=\"T_d93d8_row22_col26\" class=\"data row22 col26\" >0</td>\n",
       "      <td id=\"T_d93d8_row22_col27\" class=\"data row22 col27\" >0</td>\n",
       "    </tr>\n",
       "    <tr>\n",
       "      <th id=\"T_d93d8_level0_row23\" class=\"row_heading level0 row23\" >23</th>\n",
       "      <td id=\"T_d93d8_row23_col0\" class=\"data row23 col0\" >0</td>\n",
       "      <td id=\"T_d93d8_row23_col1\" class=\"data row23 col1\" >0</td>\n",
       "      <td id=\"T_d93d8_row23_col2\" class=\"data row23 col2\" >0</td>\n",
       "      <td id=\"T_d93d8_row23_col3\" class=\"data row23 col3\" >0</td>\n",
       "      <td id=\"T_d93d8_row23_col4\" class=\"data row23 col4\" >0</td>\n",
       "      <td id=\"T_d93d8_row23_col5\" class=\"data row23 col5\" >0</td>\n",
       "      <td id=\"T_d93d8_row23_col6\" class=\"data row23 col6\" >187</td>\n",
       "      <td id=\"T_d93d8_row23_col7\" class=\"data row23 col7\" >253</td>\n",
       "      <td id=\"T_d93d8_row23_col8\" class=\"data row23 col8\" >253</td>\n",
       "      <td id=\"T_d93d8_row23_col9\" class=\"data row23 col9\" >253</td>\n",
       "      <td id=\"T_d93d8_row23_col10\" class=\"data row23 col10\" >253</td>\n",
       "      <td id=\"T_d93d8_row23_col11\" class=\"data row23 col11\" >253</td>\n",
       "      <td id=\"T_d93d8_row23_col12\" class=\"data row23 col12\" >253</td>\n",
       "      <td id=\"T_d93d8_row23_col13\" class=\"data row23 col13\" >253</td>\n",
       "      <td id=\"T_d93d8_row23_col14\" class=\"data row23 col14\" >197</td>\n",
       "      <td id=\"T_d93d8_row23_col15\" class=\"data row23 col15\" >86</td>\n",
       "      <td id=\"T_d93d8_row23_col16\" class=\"data row23 col16\" >0</td>\n",
       "      <td id=\"T_d93d8_row23_col17\" class=\"data row23 col17\" >0</td>\n",
       "      <td id=\"T_d93d8_row23_col18\" class=\"data row23 col18\" >0</td>\n",
       "      <td id=\"T_d93d8_row23_col19\" class=\"data row23 col19\" >0</td>\n",
       "      <td id=\"T_d93d8_row23_col20\" class=\"data row23 col20\" >0</td>\n",
       "      <td id=\"T_d93d8_row23_col21\" class=\"data row23 col21\" >0</td>\n",
       "      <td id=\"T_d93d8_row23_col22\" class=\"data row23 col22\" >0</td>\n",
       "      <td id=\"T_d93d8_row23_col23\" class=\"data row23 col23\" >0</td>\n",
       "      <td id=\"T_d93d8_row23_col24\" class=\"data row23 col24\" >0</td>\n",
       "      <td id=\"T_d93d8_row23_col25\" class=\"data row23 col25\" >0</td>\n",
       "      <td id=\"T_d93d8_row23_col26\" class=\"data row23 col26\" >0</td>\n",
       "      <td id=\"T_d93d8_row23_col27\" class=\"data row23 col27\" >0</td>\n",
       "    </tr>\n",
       "    <tr>\n",
       "      <th id=\"T_d93d8_level0_row24\" class=\"row_heading level0 row24\" >24</th>\n",
       "      <td id=\"T_d93d8_row24_col0\" class=\"data row24 col0\" >0</td>\n",
       "      <td id=\"T_d93d8_row24_col1\" class=\"data row24 col1\" >0</td>\n",
       "      <td id=\"T_d93d8_row24_col2\" class=\"data row24 col2\" >0</td>\n",
       "      <td id=\"T_d93d8_row24_col3\" class=\"data row24 col3\" >0</td>\n",
       "      <td id=\"T_d93d8_row24_col4\" class=\"data row24 col4\" >0</td>\n",
       "      <td id=\"T_d93d8_row24_col5\" class=\"data row24 col5\" >0</td>\n",
       "      <td id=\"T_d93d8_row24_col6\" class=\"data row24 col6\" >103</td>\n",
       "      <td id=\"T_d93d8_row24_col7\" class=\"data row24 col7\" >253</td>\n",
       "      <td id=\"T_d93d8_row24_col8\" class=\"data row24 col8\" >253</td>\n",
       "      <td id=\"T_d93d8_row24_col9\" class=\"data row24 col9\" >253</td>\n",
       "      <td id=\"T_d93d8_row24_col10\" class=\"data row24 col10\" >253</td>\n",
       "      <td id=\"T_d93d8_row24_col11\" class=\"data row24 col11\" >253</td>\n",
       "      <td id=\"T_d93d8_row24_col12\" class=\"data row24 col12\" >232</td>\n",
       "      <td id=\"T_d93d8_row24_col13\" class=\"data row24 col13\" >67</td>\n",
       "      <td id=\"T_d93d8_row24_col14\" class=\"data row24 col14\" >1</td>\n",
       "      <td id=\"T_d93d8_row24_col15\" class=\"data row24 col15\" >0</td>\n",
       "      <td id=\"T_d93d8_row24_col16\" class=\"data row24 col16\" >0</td>\n",
       "      <td id=\"T_d93d8_row24_col17\" class=\"data row24 col17\" >0</td>\n",
       "      <td id=\"T_d93d8_row24_col18\" class=\"data row24 col18\" >0</td>\n",
       "      <td id=\"T_d93d8_row24_col19\" class=\"data row24 col19\" >0</td>\n",
       "      <td id=\"T_d93d8_row24_col20\" class=\"data row24 col20\" >0</td>\n",
       "      <td id=\"T_d93d8_row24_col21\" class=\"data row24 col21\" >0</td>\n",
       "      <td id=\"T_d93d8_row24_col22\" class=\"data row24 col22\" >0</td>\n",
       "      <td id=\"T_d93d8_row24_col23\" class=\"data row24 col23\" >0</td>\n",
       "      <td id=\"T_d93d8_row24_col24\" class=\"data row24 col24\" >0</td>\n",
       "      <td id=\"T_d93d8_row24_col25\" class=\"data row24 col25\" >0</td>\n",
       "      <td id=\"T_d93d8_row24_col26\" class=\"data row24 col26\" >0</td>\n",
       "      <td id=\"T_d93d8_row24_col27\" class=\"data row24 col27\" >0</td>\n",
       "    </tr>\n",
       "    <tr>\n",
       "      <th id=\"T_d93d8_level0_row25\" class=\"row_heading level0 row25\" >25</th>\n",
       "      <td id=\"T_d93d8_row25_col0\" class=\"data row25 col0\" >0</td>\n",
       "      <td id=\"T_d93d8_row25_col1\" class=\"data row25 col1\" >0</td>\n",
       "      <td id=\"T_d93d8_row25_col2\" class=\"data row25 col2\" >0</td>\n",
       "      <td id=\"T_d93d8_row25_col3\" class=\"data row25 col3\" >0</td>\n",
       "      <td id=\"T_d93d8_row25_col4\" class=\"data row25 col4\" >0</td>\n",
       "      <td id=\"T_d93d8_row25_col5\" class=\"data row25 col5\" >0</td>\n",
       "      <td id=\"T_d93d8_row25_col6\" class=\"data row25 col6\" >0</td>\n",
       "      <td id=\"T_d93d8_row25_col7\" class=\"data row25 col7\" >0</td>\n",
       "      <td id=\"T_d93d8_row25_col8\" class=\"data row25 col8\" >0</td>\n",
       "      <td id=\"T_d93d8_row25_col9\" class=\"data row25 col9\" >0</td>\n",
       "      <td id=\"T_d93d8_row25_col10\" class=\"data row25 col10\" >0</td>\n",
       "      <td id=\"T_d93d8_row25_col11\" class=\"data row25 col11\" >0</td>\n",
       "      <td id=\"T_d93d8_row25_col12\" class=\"data row25 col12\" >0</td>\n",
       "      <td id=\"T_d93d8_row25_col13\" class=\"data row25 col13\" >0</td>\n",
       "      <td id=\"T_d93d8_row25_col14\" class=\"data row25 col14\" >0</td>\n",
       "      <td id=\"T_d93d8_row25_col15\" class=\"data row25 col15\" >0</td>\n",
       "      <td id=\"T_d93d8_row25_col16\" class=\"data row25 col16\" >0</td>\n",
       "      <td id=\"T_d93d8_row25_col17\" class=\"data row25 col17\" >0</td>\n",
       "      <td id=\"T_d93d8_row25_col18\" class=\"data row25 col18\" >0</td>\n",
       "      <td id=\"T_d93d8_row25_col19\" class=\"data row25 col19\" >0</td>\n",
       "      <td id=\"T_d93d8_row25_col20\" class=\"data row25 col20\" >0</td>\n",
       "      <td id=\"T_d93d8_row25_col21\" class=\"data row25 col21\" >0</td>\n",
       "      <td id=\"T_d93d8_row25_col22\" class=\"data row25 col22\" >0</td>\n",
       "      <td id=\"T_d93d8_row25_col23\" class=\"data row25 col23\" >0</td>\n",
       "      <td id=\"T_d93d8_row25_col24\" class=\"data row25 col24\" >0</td>\n",
       "      <td id=\"T_d93d8_row25_col25\" class=\"data row25 col25\" >0</td>\n",
       "      <td id=\"T_d93d8_row25_col26\" class=\"data row25 col26\" >0</td>\n",
       "      <td id=\"T_d93d8_row25_col27\" class=\"data row25 col27\" >0</td>\n",
       "    </tr>\n",
       "    <tr>\n",
       "      <th id=\"T_d93d8_level0_row26\" class=\"row_heading level0 row26\" >26</th>\n",
       "      <td id=\"T_d93d8_row26_col0\" class=\"data row26 col0\" >0</td>\n",
       "      <td id=\"T_d93d8_row26_col1\" class=\"data row26 col1\" >0</td>\n",
       "      <td id=\"T_d93d8_row26_col2\" class=\"data row26 col2\" >0</td>\n",
       "      <td id=\"T_d93d8_row26_col3\" class=\"data row26 col3\" >0</td>\n",
       "      <td id=\"T_d93d8_row26_col4\" class=\"data row26 col4\" >0</td>\n",
       "      <td id=\"T_d93d8_row26_col5\" class=\"data row26 col5\" >0</td>\n",
       "      <td id=\"T_d93d8_row26_col6\" class=\"data row26 col6\" >0</td>\n",
       "      <td id=\"T_d93d8_row26_col7\" class=\"data row26 col7\" >0</td>\n",
       "      <td id=\"T_d93d8_row26_col8\" class=\"data row26 col8\" >0</td>\n",
       "      <td id=\"T_d93d8_row26_col9\" class=\"data row26 col9\" >0</td>\n",
       "      <td id=\"T_d93d8_row26_col10\" class=\"data row26 col10\" >0</td>\n",
       "      <td id=\"T_d93d8_row26_col11\" class=\"data row26 col11\" >0</td>\n",
       "      <td id=\"T_d93d8_row26_col12\" class=\"data row26 col12\" >0</td>\n",
       "      <td id=\"T_d93d8_row26_col13\" class=\"data row26 col13\" >0</td>\n",
       "      <td id=\"T_d93d8_row26_col14\" class=\"data row26 col14\" >0</td>\n",
       "      <td id=\"T_d93d8_row26_col15\" class=\"data row26 col15\" >0</td>\n",
       "      <td id=\"T_d93d8_row26_col16\" class=\"data row26 col16\" >0</td>\n",
       "      <td id=\"T_d93d8_row26_col17\" class=\"data row26 col17\" >0</td>\n",
       "      <td id=\"T_d93d8_row26_col18\" class=\"data row26 col18\" >0</td>\n",
       "      <td id=\"T_d93d8_row26_col19\" class=\"data row26 col19\" >0</td>\n",
       "      <td id=\"T_d93d8_row26_col20\" class=\"data row26 col20\" >0</td>\n",
       "      <td id=\"T_d93d8_row26_col21\" class=\"data row26 col21\" >0</td>\n",
       "      <td id=\"T_d93d8_row26_col22\" class=\"data row26 col22\" >0</td>\n",
       "      <td id=\"T_d93d8_row26_col23\" class=\"data row26 col23\" >0</td>\n",
       "      <td id=\"T_d93d8_row26_col24\" class=\"data row26 col24\" >0</td>\n",
       "      <td id=\"T_d93d8_row26_col25\" class=\"data row26 col25\" >0</td>\n",
       "      <td id=\"T_d93d8_row26_col26\" class=\"data row26 col26\" >0</td>\n",
       "      <td id=\"T_d93d8_row26_col27\" class=\"data row26 col27\" >0</td>\n",
       "    </tr>\n",
       "    <tr>\n",
       "      <th id=\"T_d93d8_level0_row27\" class=\"row_heading level0 row27\" >27</th>\n",
       "      <td id=\"T_d93d8_row27_col0\" class=\"data row27 col0\" >0</td>\n",
       "      <td id=\"T_d93d8_row27_col1\" class=\"data row27 col1\" >0</td>\n",
       "      <td id=\"T_d93d8_row27_col2\" class=\"data row27 col2\" >0</td>\n",
       "      <td id=\"T_d93d8_row27_col3\" class=\"data row27 col3\" >0</td>\n",
       "      <td id=\"T_d93d8_row27_col4\" class=\"data row27 col4\" >0</td>\n",
       "      <td id=\"T_d93d8_row27_col5\" class=\"data row27 col5\" >0</td>\n",
       "      <td id=\"T_d93d8_row27_col6\" class=\"data row27 col6\" >0</td>\n",
       "      <td id=\"T_d93d8_row27_col7\" class=\"data row27 col7\" >0</td>\n",
       "      <td id=\"T_d93d8_row27_col8\" class=\"data row27 col8\" >0</td>\n",
       "      <td id=\"T_d93d8_row27_col9\" class=\"data row27 col9\" >0</td>\n",
       "      <td id=\"T_d93d8_row27_col10\" class=\"data row27 col10\" >0</td>\n",
       "      <td id=\"T_d93d8_row27_col11\" class=\"data row27 col11\" >0</td>\n",
       "      <td id=\"T_d93d8_row27_col12\" class=\"data row27 col12\" >0</td>\n",
       "      <td id=\"T_d93d8_row27_col13\" class=\"data row27 col13\" >0</td>\n",
       "      <td id=\"T_d93d8_row27_col14\" class=\"data row27 col14\" >0</td>\n",
       "      <td id=\"T_d93d8_row27_col15\" class=\"data row27 col15\" >0</td>\n",
       "      <td id=\"T_d93d8_row27_col16\" class=\"data row27 col16\" >0</td>\n",
       "      <td id=\"T_d93d8_row27_col17\" class=\"data row27 col17\" >0</td>\n",
       "      <td id=\"T_d93d8_row27_col18\" class=\"data row27 col18\" >0</td>\n",
       "      <td id=\"T_d93d8_row27_col19\" class=\"data row27 col19\" >0</td>\n",
       "      <td id=\"T_d93d8_row27_col20\" class=\"data row27 col20\" >0</td>\n",
       "      <td id=\"T_d93d8_row27_col21\" class=\"data row27 col21\" >0</td>\n",
       "      <td id=\"T_d93d8_row27_col22\" class=\"data row27 col22\" >0</td>\n",
       "      <td id=\"T_d93d8_row27_col23\" class=\"data row27 col23\" >0</td>\n",
       "      <td id=\"T_d93d8_row27_col24\" class=\"data row27 col24\" >0</td>\n",
       "      <td id=\"T_d93d8_row27_col25\" class=\"data row27 col25\" >0</td>\n",
       "      <td id=\"T_d93d8_row27_col26\" class=\"data row27 col26\" >0</td>\n",
       "      <td id=\"T_d93d8_row27_col27\" class=\"data row27 col27\" >0</td>\n",
       "    </tr>\n",
       "  </tbody>\n",
       "</table>\n"
      ],
      "text/plain": [
       "<pandas.io.formats.style.Styler at 0x1a2f7d53d90>"
      ]
     },
     "execution_count": 326,
     "metadata": {},
     "output_type": "execute_result"
    }
   ],
   "source": [
    "im3_t = tensor(im3)\n",
    "df = pd.DataFrame(im3_t)\n",
    "df.style.set_properties(**{'font-size':'6pt'}).background_gradient('Greys')"
   ]
  },
  {
   "cell_type": "markdown",
   "id": "8b92d438-8d33-457a-8a1b-23c5dacdeb73",
   "metadata": {},
   "source": [
    "### Baselines\n",
    "\n",
    "At this moment, before we dive into deep learning our way to victory, the book introduces baseline solutions. I think this is an important concept that I commonly fail to try when starting a data science problem, instead of implementing a solution immedietly that has the following attributes:\n",
    " - Simple\n",
    " - Perform Reasonably Well\n",
    " - Easy to Test\n",
    " \n",
    "I usually get stuck way in the weeds of trying to do something hard an don't end up with a useful output. Lets instead build a baseline for the key reasons the book mentions, you can test your new ideas to see if they are better than your baseline which can be implented almost instantly. You can either try a simple / naive idea or copy down someone elses already implemented solution so you have a starting point for your problem.\n",
    "\n",
    "Lets follow the book example of simply averaging all the pixels of threes and sevens which might yeild an 'ideal' seven or three value. Also this little list making magic is called \"List Comprehension\" and similar to one line methods, it gives you a great way of creating lists in one line.[The python docs are excellent](https://docs.python.org/3/tutorial/datastructures.html#list-comprehensions) and I recommend a read through if you haven't seen this before."
   ]
  },
  {
   "cell_type": "code",
   "execution_count": 327,
   "id": "57f4ce3e-f93c-47a8-be92-f670cecdd76c",
   "metadata": {},
   "outputs": [
    {
     "data": {
      "text/plain": [
       "(6131, 6265)"
      ]
     },
     "execution_count": 327,
     "metadata": {},
     "output_type": "execute_result"
    }
   ],
   "source": [
    "seven_tensors = [tensor(Image.open(o)) for o in sevens]\n",
    "three_tensors = [tensor(Image.open(o)) for o in threes]\n",
    "len(three_tensors), len(seven_tensors)"
   ]
  },
  {
   "cell_type": "markdown",
   "id": "7fc107c1-c724-48b9-a7fb-0b6eda496c7f",
   "metadata": {},
   "source": [
    "Lets check if our tensors got built properly:"
   ]
  },
  {
   "cell_type": "code",
   "execution_count": 328,
   "id": "e147809f-1d1b-47d1-9e5e-48b1748536fe",
   "metadata": {},
   "outputs": [
    {
     "data": {
      "text/plain": [
       "tensor([[  0,   0,   0,   0,   0,   0,   0,   0,   0,   0,   0,   0,   0,   0,   0,   0,   0,   0,   0,   0,   0,   0,   0,   0,   0,   0,   0,   0],\n",
       "        [  0,   0,   0,   0,   0,   0,   0,   0,   0,   0,   0,   0,   0,   0,   0,   0,   0,   0,   0,   0,   0,   0,   0,   0,   0,   0,   0,   0],\n",
       "        [  0,   0,   0,   0,   0,   0,   0,   0,   0,   0,   0,   0,   0,   0,   0,   0,   0,   0,   0,   0,   0,   0,   0,   0,   0,   0,   0,   0],\n",
       "        [  0,   0,   0,   0,   0,   0,   0,   0,   0,   0,   0,   0,   0,   0,   0,   0,   0,   0,   0,   0,   0,   0,   0,   0,   0,   0,   0,   0],\n",
       "        [  0,   0,   0,   0,   0,   0,   0,   0,   0,   0,   0,   0,   0,   0,   0,   0,   0,   0,   0,   0,   0,   0,   0,   0,   0,   0,   0,   0],\n",
       "        [  0,   0,   0,   0,   0,   0,   0,   0,   0,  29, 150, 195, 254, 255, 254, 176, 193, 150,  96,   0,   0,   0,   0,   0,   0,   0,   0,   0],\n",
       "        [  0,   0,   0,   0,   0,   0,   0,  48, 166, 224, 253, 253, 234, 196, 253, 253, 253, 253, 233,   0,   0,   0,   0,   0,   0,   0,   0,   0],\n",
       "        [  0,   0,   0,   0,   0,  93, 244, 249, 253, 187,  46,  10,   8,   4,  10, 194, 253, 253, 233,   0,   0,   0,   0,   0,   0,   0,   0,   0],\n",
       "        [  0,   0,   0,   0,   0, 107, 253, 253, 230,  48,   0,   0,   0,   0,   0, 192, 253, 253, 156,   0,   0,   0,   0,   0,   0,   0,   0,   0],\n",
       "        [  0,   0,   0,   0,   0,   3,  20,  20,  15,   0,   0,   0,   0,   0,  43, 224, 253, 245,  74,   0,   0,   0,   0,   0,   0,   0,   0,   0],\n",
       "        [  0,   0,   0,   0,   0,   0,   0,   0,   0,   0,   0,   0,   0,   0, 249, 253, 245, 126,   0,   0,   0,   0,   0,   0,   0,   0,   0,   0],\n",
       "        [  0,   0,   0,   0,   0,   0,   0,   0,   0,   0,   0,  14, 101, 223, 253, 248, 124,   0,   0,   0,   0,   0,   0,   0,   0,   0,   0,   0],\n",
       "        [  0,   0,   0,   0,   0,   0,   0,   0,   0,  11, 166, 239, 253, 253, 253, 187,  30,   0,   0,   0,   0,   0,   0,   0,   0,   0,   0,   0],\n",
       "        [  0,   0,   0,   0,   0,   0,   0,   0,   0,  16, 248, 250, 253, 253, 253, 253, 232, 213, 111,   2,   0,   0,   0,   0,   0,   0,   0,   0],\n",
       "        [  0,   0,   0,   0,   0,   0,   0,   0,   0,   0,   0,  43,  98,  98, 208, 253, 253, 253, 253, 187,  22,   0,   0,   0,   0,   0,   0,   0],\n",
       "        [  0,   0,   0,   0,   0,   0,   0,   0,   0,   0,   0,   0,   0,   0,   9,  51, 119, 253, 253, 253,  76,   0,   0,   0,   0,   0,   0,   0],\n",
       "        [  0,   0,   0,   0,   0,   0,   0,   0,   0,   0,   0,   0,   0,   0,   0,   0,   1, 183, 253, 253, 139,   0,   0,   0,   0,   0,   0,   0],\n",
       "        [  0,   0,   0,   0,   0,   0,   0,   0,   0,   0,   0,   0,   0,   0,   0,   0,   0, 182, 253, 253, 104,   0,   0,   0,   0,   0,   0,   0],\n",
       "        [  0,   0,   0,   0,   0,   0,   0,   0,   0,   0,   0,   0,   0,   0,   0,   0,  85, 249, 253, 253,  36,   0,   0,   0,   0,   0,   0,   0],\n",
       "        [  0,   0,   0,   0,   0,   0,   0,   0,   0,   0,   0,   0,   0,   0,   0,  60, 214, 253, 253, 173,  11,   0,   0,   0,   0,   0,   0,   0],\n",
       "        [  0,   0,   0,   0,   0,   0,   0,   0,   0,   0,   0,   0,   0,   0,  98, 247, 253, 253, 226,   9,   0,   0,   0,   0,   0,   0,   0,   0],\n",
       "        [  0,   0,   0,   0,   0,   0,   0,   0,   0,   0,   0,   0,  42, 150, 252, 253, 253, 233,  53,   0,   0,   0,   0,   0,   0,   0,   0,   0],\n",
       "        [  0,   0,   0,   0,   0,   0,  42, 115,  42,  60, 115, 159, 240, 253, 253, 250, 175,  25,   0,   0,   0,   0,   0,   0,   0,   0,   0,   0],\n",
       "        [  0,   0,   0,   0,   0,   0, 187, 253, 253, 253, 253, 253, 253, 253, 197,  86,   0,   0,   0,   0,   0,   0,   0,   0,   0,   0,   0,   0],\n",
       "        [  0,   0,   0,   0,   0,   0, 103, 253, 253, 253, 253, 253, 232,  67,   1,   0,   0,   0,   0,   0,   0,   0,   0,   0,   0,   0,   0,   0],\n",
       "        [  0,   0,   0,   0,   0,   0,   0,   0,   0,   0,   0,   0,   0,   0,   0,   0,   0,   0,   0,   0,   0,   0,   0,   0,   0,   0,   0,   0],\n",
       "        [  0,   0,   0,   0,   0,   0,   0,   0,   0,   0,   0,   0,   0,   0,   0,   0,   0,   0,   0,   0,   0,   0,   0,   0,   0,   0,   0,   0],\n",
       "        [  0,   0,   0,   0,   0,   0,   0,   0,   0,   0,   0,   0,   0,   0,   0,   0,   0,   0,   0,   0,   0,   0,   0,   0,   0,   0,   0,   0]], dtype=torch.uint8)"
      ]
     },
     "execution_count": 328,
     "metadata": {},
     "output_type": "execute_result"
    }
   ],
   "source": [
    "three_tensors[1]"
   ]
  },
  {
   "cell_type": "code",
   "execution_count": 329,
   "id": "e6066682-c597-48a1-b902-a83ce1a894fb",
   "metadata": {},
   "outputs": [
    {
     "data": {
      "text/plain": [
       "<AxesSubplot: >"
      ]
     },
     "execution_count": 329,
     "metadata": {},
     "output_type": "execute_result"
    },
    {
     "data": {
      "image/png": "[encoded data removed]",
      "text/plain": [
       "<Figure size 100x100 with 1 Axes>"
      ]
     },
     "metadata": {},
     "output_type": "display_data"
    }
   ],
   "source": [
    "show_image(three_tensors[1])"
   ]
  },
  {
   "cell_type": "markdown",
   "id": "68a8e13d-4c52-4e6d-944e-accdf172315c",
   "metadata": {},
   "source": [
    "Looks good to me, certainly looks modified from our original image but the actual tensor itself on the cell before looks correct so I'm going to roll with it.\n",
    "\n",
    "### Rank-3 Tensors\n",
    "\n",
    "Now is where we start to get a little freaky, we're going to make a rank 3 tensor which you can think of as having 3 'dimensions'. Currently we have a long list of tensors, ie we have a list and each element is a tensor, we can index into the list elements and then into any subset of the pixels of that tensor. We're going to now 'stack' all the list elements into its own dimension so that we have 3 dimensions to index through, instead of one dimension (the list) which then contains the tensors. It should mentally feel like a 'cube' of stacked tensors, where we can slide depth-wise through to each image, and horizontally or vertically to scan within an image.\n",
    "\n",
    "Pytorch has the lovely method stack() which lets us achieve this, we will then convert everything to a float and divide by 255 as usually images have expected values between 0 and 1 if they're floats."
   ]
  },
  {
   "cell_type": "code",
   "execution_count": 332,
   "id": "f9c7d37a-3d67-4ad4-9604-649bc0d3e2f2",
   "metadata": {},
   "outputs": [
    {
     "data": {
      "text/plain": [
       "torch.Size([6131, 28, 28])"
      ]
     },
     "execution_count": 332,
     "metadata": {},
     "output_type": "execute_result"
    }
   ],
   "source": [
    "stacked_sevens = torch.stack(seven_tensors).float()/255\n",
    "stacked_threes = torch.stack(three_tensors).float()/255\n",
    "stacked_threes.shape"
   ]
  },
  {
   "cell_type": "markdown",
   "id": "9f5728a5-e23c-4e15-8867-a5c95b8e4dbd",
   "metadata": {},
   "source": [
    "See how we have our 6131 images, each with 28x28 pixels, whereas our threes is a list with an individual element containing a tensor"
   ]
  },
  {
   "cell_type": "code",
   "execution_count": 339,
   "id": "b25918eb-8377-4ab3-9c85-88312e8566a0",
   "metadata": {},
   "outputs": [
    {
     "data": {
      "text/plain": [
       "(6131, torch.Size([28, 28]), 6131)"
      ]
     },
     "execution_count": 339,
     "metadata": {},
     "output_type": "execute_result"
    }
   ],
   "source": [
    "len(three_tensors), three_tensors[0].shape"
   ]
  },
  {
   "cell_type": "markdown",
   "id": "f67ca622-3324-4a3a-a22e-0debb5760bcd",
   "metadata": {},
   "source": [
    "Also note that the length of a tensors shape is its 'rank' or how many axes/dimensions it has. The 'ndim' attribute also gives you the same answer."
   ]
  },
  {
   "cell_type": "code",
   "execution_count": 344,
   "id": "bceb39ea-6dad-4038-9696-a2b2a76dfa51",
   "metadata": {},
   "outputs": [
    {
     "data": {
      "text/plain": [
       "(3, 3)"
      ]
     },
     "execution_count": 344,
     "metadata": {},
     "output_type": "execute_result"
    }
   ],
   "source": [
    "len(stacked_threes.shape), stacked_threes.ndim"
   ]
  },
  {
   "cell_type": "markdown",
   "id": "555261f1-5a65-4803-a93e-f65436cef0e8",
   "metadata": {},
   "source": [
    "Lets now implement that baseline and average all the tensors and show the image to see what 'ideal' looks like"
   ]
  },
  {
   "cell_type": "code",
   "execution_count": 348,
   "id": "6f081dee-3512-442d-ac08-59475aee3733",
   "metadata": {},
   "outputs": [
    {
     "data": {
      "text/plain": [
       "<AxesSubplot: >"
      ]
     },
     "execution_count": 348,
     "metadata": {},
     "output_type": "execute_result"
    },
    {
     "data": {
      "image/png": "[encoded data removed]",
      "text/plain": [
       "<Figure size 100x100 with 1 Axes>"
      ]
     },
     "metadata": {},
     "output_type": "display_data"
    }
   ],
   "source": [
    "me3 = stacked_threes.mean(0)\n",
    "show_image(me3)"
   ]
  },
  {
   "cell_type": "markdown",
   "id": "ef344704-af20-48d3-8af3-c99c4810c6b5",
   "metadata": {},
   "source": [
    "Objectively a 'pretty' three if I don't say so myself. Credit to fastai's top tier joke in their book : \"You may not like it, but this is what peak 3 performance looks like\". We've gotta find joy in these sorts of things given the world.\n",
    "\n",
    "Lets checkout 7 as well"
   ]
  },
  {
   "cell_type": "code",
   "execution_count": 349,
   "id": "655bb71b-682e-4af4-9667-ade490ca7343",
   "metadata": {},
   "outputs": [
    {
     "data": {
      "text/plain": [
       "<AxesSubplot: >"
      ]
     },
     "execution_count": 349,
     "metadata": {},
     "output_type": "execute_result"
    },
    {
     "data": {
      "image/png": "[encoded data removed]",
      "text/plain": [
       "<Figure size 100x100 with 1 Axes>"
      ]
     },
     "metadata": {},
     "output_type": "display_data"
    }
   ],
   "source": [
    "me7 = stacked_sevens.mean(0)\n",
    "show_image(me7)"
   ]
  },
  {
   "cell_type": "markdown",
   "id": "d152e11e-baa9-4f7b-beac-772f8ec1d219",
   "metadata": {},
   "source": [
    "### Measuring Loss\n",
    "\n",
    "Ok so we have our ideal three and ideal seven, we now want to compare any three or seven to the ideal seven or three and whichever category has the smallest loss is most likely the category for the sample we've picked. Some common data science methods for loss functions are the mean absolute difference, also known as the *L1 norm*, or we could square the differences and take that distance, which would be the *L2 norm*.\n",
    "\n",
    "Lets calculate both of these:"
   ]
  },
  {
   "cell_type": "code",
   "execution_count": 350,
   "id": "731f9f1c-792c-47d4-bacd-d2ecbdb6bfa7",
   "metadata": {},
   "outputs": [
    {
     "data": {
      "text/plain": [
       "(tensor(0.1114), tensor(0.2021))"
      ]
     },
     "execution_count": 350,
     "metadata": {},
     "output_type": "execute_result"
    }
   ],
   "source": [
    "sample_3 = stacked_threes[1]\n",
    "\n",
    "# Distance of our sample from our mean three or 'ideal 3'\n",
    "error = sample_3 - me3\n",
    "\n",
    "three_abs_dist = error.abs().mean()\n",
    "three_square_dist = (error**2).mean().sqrt()\n",
    "\n",
    "three_abs_dist, three_square_dist"
   ]
  },
  {
   "cell_type": "markdown",
   "id": "6a3fbc9d-321e-4077-a65f-ffbc327ce6e1",
   "metadata": {},
   "source": [
    "How cool that we can just take away a tensor from another and pytorch does the magic, really nice syntax! Lets have a quick look at the actual error tensor too:"
   ]
  },
  {
   "cell_type": "code",
   "execution_count": null,
   "id": "04a7e6b8-f365-44e9-8cf1-7faa5430d9ce",
   "metadata": {},
   "outputs": [
    {
     "data": {
      "text/plain": [
       "tensor([[ 0.0000e+00,  0.0000e+00,  0.0000e+00,  0.0000e+00,  0.0000e+00,  0.0000e+00,  0.0000e+00,  0.0000e+00,  0.0000e+00,  0.0000e+00,  0.0000e+00,  0.0000e+00,  0.0000e+00,  0.0000e+00,\n",
       "          0.0000e+00,  0.0000e+00,  0.0000e+00,  0.0000e+00,  0.0000e+00,  0.0000e+00,  0.0000e+00,  0.0000e+00,  0.0000e+00,  0.0000e+00,  0.0000e+00,  0.0000e+00,  0.0000e+00,  0.0000e+00],\n",
       "        [ 0.0000e+00,  0.0000e+00,  0.0000e+00,  0.0000e+00,  0.0000e+00,  0.0000e+00,  0.0000e+00,  0.0000e+00,  0.0000e+00,  0.0000e+00,  0.0000e+00,  0.0000e+00,  0.0000e+00,  0.0000e+00,\n",
       "          0.0000e+00,  0.0000e+00,  0.0000e+00,  0.0000e+00,  0.0000e+00,  0.0000e+00,  0.0000e+00,  0.0000e+00,  0.0000e+00,  0.0000e+00,  0.0000e+00,  0.0000e+00,  0.0000e+00,  0.0000e+00],\n",
       "        [ 0.0000e+00,  0.0000e+00,  0.0000e+00,  0.0000e+00,  0.0000e+00,  0.0000e+00,  0.0000e+00,  0.0000e+00,  0.0000e+00,  0.0000e+00, -7.2918e-05, -1.9637e-04, -2.3410e-04, -1.9253e-04,\n",
       "         -2.7568e-04, -2.6161e-04, -2.9423e-04, -2.8400e-04, -1.5671e-04, -4.8612e-05, -5.7567e-06,  0.0000e+00,  0.0000e+00,  0.0000e+00,  0.0000e+00,  0.0000e+00,  0.0000e+00,  0.0000e+00],\n",
       "        [ 0.0000e+00,  0.0000e+00,  0.0000e+00,  0.0000e+00, -1.5991e-05, -4.8676e-04, -7.7331e-04, -1.4468e-03, -2.9788e-03, -5.6486e-03, -9.5177e-03, -1.5693e-02, -2.1113e-02, -2.4280e-02,\n",
       "         -2.5964e-02, -2.4268e-02, -2.0875e-02, -1.7108e-02, -1.1642e-02, -7.0436e-03, -3.9945e-03, -1.4955e-03, -3.2941e-04,  0.0000e+00,  0.0000e+00,  0.0000e+00,  0.0000e+00,  0.0000e+00],\n",
       "        [ 0.0000e+00, -2.4306e-05, -3.2621e-05, -1.5607e-04, -1.3995e-03, -5.7854e-03, -1.3664e-02, -3.0111e-02, -5.5401e-02, -9.0316e-02, -1.3725e-01, -1.8357e-01, -2.2128e-01, -2.4655e-01,\n",
       "         -2.4972e-01, -2.3536e-01, -1.9872e-01, -1.5084e-01, -1.0543e-01, -6.4754e-02, -3.2829e-02, -1.3352e-02, -4.5970e-03, -3.9273e-04, -1.9189e-06,  0.0000e+00,  0.0000e+00,  0.0000e+00],\n",
       "        [ 0.0000e+00,  0.0000e+00, -5.7567e-05, -1.5204e-03, -8.8909e-03, -2.7837e-02, -6.1064e-02, -1.1271e-01, -1.8688e-01, -1.6652e-01,  2.0526e-01,  2.8446e-01,  4.3731e-01,  3.8676e-01,\n",
       "          3.7279e-01,  9.2483e-02,  2.2852e-01,  1.6724e-01,  7.0714e-02, -2.0347e-01, -1.1742e-01, -5.3793e-02, -1.6992e-02, -3.4617e-03, -2.5905e-04,  0.0000e+00,  0.0000e+00,  0.0000e+00],\n",
       "        [ 0.0000e+00, -7.0359e-06, -3.0063e-04, -5.8174e-03, -2.4498e-02, -5.9899e-02, -1.2038e-01, -1.9312e-02,  3.3159e-01,  4.4296e-01,  4.4769e-01,  3.6452e-01,  2.3261e-01,  4.4678e-02,\n",
       "          2.4727e-01,  2.4753e-01,  2.8715e-01,  3.8341e-01,  4.3456e-01, -3.3949e-01, -2.1322e-01, -1.0868e-01, -3.7335e-02, -7.9084e-03, -8.2320e-04,  0.0000e+00,  0.0000e+00,  0.0000e+00],\n",
       "        [ 0.0000e+00, -3.2429e-04, -4.5414e-04, -9.7409e-03, -3.7895e-02,  2.8178e-01,  8.0304e-01,  7.3490e-01,  6.5449e-01,  3.0652e-01, -3.1122e-01, -4.8920e-01, -5.1338e-01, -5.4314e-01,\n",
       "         -5.4719e-01,  1.3328e-01,  3.4090e-01,  3.7103e-01,  3.8523e-01, -4.0753e-01, -2.7025e-01, -1.4412e-01, -5.3465e-02, -1.1405e-02, -1.0490e-03,  0.0000e+00,  0.0000e+00,  0.0000e+00],\n",
       "        [ 0.0000e+00, -1.2601e-04, -5.3985e-04, -1.1943e-02, -4.0899e-02,  3.4083e-01,  8.5773e-01,  7.9759e-01,  6.5122e-01, -1.0665e-01, -3.1693e-01, -3.1747e-01, -3.1133e-01, -3.2182e-01,\n",
       "         -3.6634e-01,  3.0088e-01,  4.5456e-01,  4.2148e-01,  8.5761e-02, -4.1737e-01, -2.7770e-01, -1.4791e-01, -5.6850e-02, -1.1186e-02, -5.6543e-04,  0.0000e+00,  0.0000e+00,  0.0000e+00],\n",
       "        [ 0.0000e+00, -1.3496e-04, -6.4603e-04, -9.1461e-03, -2.9371e-02, -4.3204e-02, -1.1050e-02, -4.1118e-02, -8.2909e-02, -1.5585e-01, -1.6174e-01, -1.6148e-01, -1.6958e-01, -2.0584e-01,\n",
       "         -1.2349e-01,  4.5972e-01,  4.6169e-01,  3.8632e-01, -2.2679e-01, -3.8845e-01, -2.4350e-01, -1.1984e-01, -4.4328e-02, -8.7073e-03, -1.1641e-04, -3.9657e-05,  0.0000e+00,  0.0000e+00],\n",
       "        [ 0.0000e+00, -6.7161e-05, -4.3047e-04, -6.7775e-03, -1.6751e-02, -2.9374e-02, -4.5093e-02, -5.7854e-02, -6.8061e-02, -7.8151e-02, -9.5189e-02, -1.2533e-01, -1.8025e-01, -2.7419e-01,\n",
       "          5.7379e-01,  4.5862e-01,  3.4705e-01, -1.0244e-01, -4.7979e-01, -3.2004e-01, -1.7885e-01, -7.7661e-02, -2.4957e-02, -4.6878e-03, -3.9657e-05, -1.1833e-04,  0.0000e+00,  0.0000e+00],\n",
       "        [ 0.0000e+00, -4.9251e-05, -3.7035e-04, -3.8589e-03, -8.8301e-03, -1.4541e-02, -2.0740e-02, -2.9064e-02, -4.4311e-02, -7.7774e-02, -1.3957e-01, -1.7820e-01,  4.0984e-02,  3.8579e-01,\n",
       "          3.8228e-01,  2.8562e-01, -1.9648e-01, -5.8363e-01, -4.1155e-01, -2.4346e-01, -1.1769e-01, -4.1552e-02, -1.0649e-02, -1.8121e-03, -9.5944e-06, -1.2857e-04,  0.0000e+00,  0.0000e+00],\n",
       "        [ 0.0000e+00, -8.3152e-06, -4.9891e-05, -1.5166e-03, -4.1403e-03, -8.1841e-03, -1.3161e-02, -2.7825e-02, -6.6674e-02, -1.0544e-01,  3.7335e-01,  5.0240e-01,  4.0856e-01,  2.8931e-01,\n",
       "          2.2066e-01, -4.3275e-02, -5.9397e-01, -5.6779e-01, -3.7920e-01, -2.1411e-01, -9.4611e-02, -3.1342e-02, -7.7146e-03, -1.0701e-03, -9.9782e-05, -1.3560e-04,  0.0000e+00,  0.0000e+00],\n",
       "        [ 0.0000e+00,  0.0000e+00,  0.0000e+00, -6.3963e-04, -2.5783e-03, -5.4042e-03, -1.4138e-02, -3.9151e-02, -1.0502e-01, -1.6365e-01,  5.7815e-01,  4.1466e-01,  2.9369e-01,  2.2497e-01,\n",
       "          2.1266e-01,  2.4135e-01,  2.1742e-01,  2.5263e-01,  2.5055e-03, -2.5765e-01, -1.2995e-01, -5.0904e-02, -1.3723e-02, -2.6148e-03, -3.2749e-04, -6.7161e-05,  0.0000e+00,  0.0000e+00],\n",
       "        [ 0.0000e+00, -1.0234e-04, -5.8206e-05, -6.9975e-04, -2.5758e-03, -6.5549e-03, -1.5612e-02, -4.5825e-02, -1.1788e-01, -2.4133e-01, -3.9015e-01, -3.5296e-01, -2.1834e-01, -2.4438e-01,\n",
       "          1.8811e-01,  3.7491e-01,  3.7905e-01,  3.9943e-01,  4.7672e-01,  3.6268e-01, -1.2452e-01, -9.5741e-02, -3.1867e-02, -7.1351e-03, -7.5860e-04, -2.6225e-05,  0.0000e+00,  0.0000e+00],\n",
       "        [ 0.0000e+00, -1.4456e-04, -7.1702e-04, -2.3385e-03, -6.0221e-03, -1.1625e-02, -1.9489e-02, -4.1298e-02, -9.1916e-02, -1.7655e-01, -2.7350e-01, -3.4554e-01, -3.7789e-01, -3.8353e-01,\n",
       "         -3.5299e-01, -2.1357e-01, -6.0592e-03,  4.4523e-01,  4.3521e-01,  5.3212e-01,  1.2486e-03, -1.4911e-01, -6.0777e-02, -1.5610e-02, -1.8025e-03, -3.1981e-06, -1.3368e-04,  0.0000e+00],\n",
       "        [ 0.0000e+00, -1.2729e-04, -2.1869e-03, -7.0538e-03, -1.4894e-02, -2.2301e-02, -2.7903e-02, -3.9338e-02, -6.2386e-02, -9.9441e-02, -1.3370e-01, -1.5925e-01, -1.6655e-01, -1.7223e-01,\n",
       "         -1.9161e-01, -2.4334e-01, -3.4062e-01,  2.3549e-01,  4.3115e-01,  4.8852e-01,  1.9305e-01, -1.9422e-01, -8.5188e-02, -2.6331e-02, -3.5276e-03, -1.2793e-06, -2.2387e-05,  0.0000e+00],\n",
       "        [ 0.0000e+00, -1.5735e-04, -3.3331e-03, -1.5257e-02, -3.1764e-02, -4.3270e-02, -4.9365e-02, -5.5510e-02, -5.9109e-02, -5.8848e-02, -6.1369e-02, -6.3137e-02, -6.5532e-02, -7.3339e-02,\n",
       "         -9.8233e-02, -1.6722e-01, -2.9171e-01,  2.6120e-01,  4.4182e-01,  4.7753e-01,  3.9084e-02, -2.1820e-01, -1.0305e-01, -3.3861e-02, -3.8557e-03,  0.0000e+00,  0.0000e+00,  0.0000e+00],\n",
       "        [ 0.0000e+00, -1.6183e-04, -5.7592e-03, -2.7754e-02, -5.8420e-02, -8.2884e-02, -9.7888e-02, -1.0189e-01, -9.3467e-02, -7.5450e-02, -6.1778e-02, -5.2316e-02, -4.8228e-02, -5.6958e-02,\n",
       "         -9.1961e-02, -1.8154e-01,  6.6285e-03,  4.9858e-01,  4.3616e-01,  4.8286e-01, -2.2319e-01, -2.2059e-01, -1.0743e-01, -3.3211e-02, -3.2410e-03,  0.0000e+00,  0.0000e+00,  0.0000e+00],\n",
       "        [ 0.0000e+00, -2.5521e-04, -9.1678e-03, -4.0289e-02, -8.8192e-02, -1.3721e-01, -1.6905e-01, -1.8232e-01, -1.7508e-01, -1.5029e-01, -1.2213e-01, -9.8687e-02, -9.3244e-02, -1.1323e-01,\n",
       "         -1.7340e-01, -4.8909e-02,  4.0845e-01,  4.4406e-01,  4.2163e-01,  1.9182e-01, -2.9473e-01, -2.0005e-01, -9.1660e-02, -2.4017e-02, -2.2828e-03, -1.3432e-05,  0.0000e+00,  0.0000e+00],\n",
       "        [ 0.0000e+00, -4.6565e-04, -1.0415e-02, -4.8182e-02, -1.0872e-01, -1.8070e-01, -2.4184e-01, -2.8666e-01, -3.0795e-01, -2.9331e-01, -2.6096e-01, -2.3568e-01, -2.3487e-01, -2.7473e-01,\n",
       "          2.7691e-02,  5.0206e-01,  4.1990e-01,  3.8080e-01,  3.2576e-01, -3.9259e-01, -2.7981e-01, -1.5136e-01, -6.0435e-02, -1.3841e-02, -1.2274e-03, -1.3432e-05, -4.9891e-05,  0.0000e+00],\n",
       "        [ 0.0000e+00, -3.6267e-04, -8.7373e-03, -4.1436e-02, -1.0026e-01, -1.8489e-01, -2.8464e-01, -3.7627e-01, -4.4899e-01, -4.7922e-01, -4.8200e-01, -4.7516e-01, -3.2371e-01,  5.6965e-02,\n",
       "          3.9496e-01,  3.4219e-01,  3.2950e-01,  3.1291e-01, -2.6664e-01, -3.2416e-01, -1.8824e-01, -8.8396e-02, -2.8767e-02, -5.4074e-03, -3.2621e-04,  0.0000e+00, -2.1108e-05,  0.0000e+00],\n",
       "        [ 0.0000e+00, -3.1342e-05, -6.0810e-03, -2.7270e-02, -7.3331e-02, -1.4404e-01, -8.7192e-02,  7.5923e-02, -3.3149e-01, -3.5953e-01, -2.0684e-01, -7.1398e-02,  2.2434e-01,  2.6375e-01,\n",
       "          2.6977e-01,  2.9832e-01,  9.5725e-02, -3.6142e-01, -3.1460e-01, -1.8711e-01, -9.4876e-02, -3.7261e-02, -1.0511e-02, -1.6490e-03, -3.5180e-05,  0.0000e+00, -3.1981e-06,  0.0000e+00],\n",
       "        [ 0.0000e+00,  0.0000e+00, -2.3519e-03, -1.2594e-02, -3.9571e-02, -8.3350e-02,  5.7661e-01,  7.3441e-01,  6.1806e-01,  5.0478e-01,  4.0935e-01,  3.4702e-01,  3.2860e-01,  3.4968e-01,\n",
       "          1.9891e-01, -1.3607e-01, -3.5329e-01, -2.3856e-01, -1.4426e-01, -7.5467e-02, -3.0740e-02, -9.7691e-03, -2.4229e-03, -3.6651e-04, -1.4839e-04, -7.6756e-06, -5.1810e-05,  0.0000e+00],\n",
       "        [ 0.0000e+00,  0.0000e+00, -5.4113e-04, -3.9555e-03, -1.3458e-02, -3.0013e-02,  3.4555e-01,  8.9429e-01,  8.4398e-01,  7.8813e-01,  7.3904e-01,  7.0413e-01,  6.1626e-01, -1.3560e-02,\n",
       "         -2.2647e-01, -1.7364e-01, -1.1796e-01, -7.1760e-02, -3.6760e-02, -1.6373e-02, -5.7541e-03, -2.0769e-03, -6.1021e-04, -1.2153e-04,  0.0000e+00,  0.0000e+00,  0.0000e+00,  0.0000e+00],\n",
       "        [ 0.0000e+00,  0.0000e+00, -3.7099e-05, -1.2473e-04, -1.2447e-03, -3.0402e-03, -6.6873e-03, -1.1371e-02, -1.8533e-02, -2.5284e-02, -3.1993e-02, -3.5295e-02, -3.6504e-02, -3.4298e-02,\n",
       "         -2.8593e-02, -2.1875e-02, -1.5417e-02, -9.1748e-03, -5.0454e-03, -2.8687e-03, -1.1430e-03, -4.5350e-04, -2.1683e-04,  0.0000e+00,  0.0000e+00,  0.0000e+00,  0.0000e+00,  0.0000e+00],\n",
       "        [ 0.0000e+00,  0.0000e+00,  0.0000e+00,  0.0000e+00, -1.0234e-05, -8.0593e-05, -1.6630e-04, -3.6459e-04, -4.0041e-04, -5.1362e-04, -7.4325e-04, -9.5497e-04, -1.0643e-03, -1.3560e-03,\n",
       "         -1.0484e-03, -8.3855e-04, -1.0260e-03, -9.5497e-04, -7.4645e-04, -5.3793e-04, -3.6523e-04, -1.9637e-04, -2.8783e-05,  0.0000e+00,  0.0000e+00,  0.0000e+00,  0.0000e+00,  0.0000e+00],\n",
       "        [ 0.0000e+00,  0.0000e+00,  0.0000e+00,  0.0000e+00,  0.0000e+00,  0.0000e+00,  0.0000e+00,  0.0000e+00,  0.0000e+00,  0.0000e+00,  0.0000e+00,  0.0000e+00,  0.0000e+00,  0.0000e+00,\n",
       "          0.0000e+00,  0.0000e+00,  0.0000e+00,  0.0000e+00,  0.0000e+00,  0.0000e+00,  0.0000e+00,  0.0000e+00,  0.0000e+00,  0.0000e+00,  0.0000e+00,  0.0000e+00,  0.0000e+00,  0.0000e+00]])"
      ]
     },
     "execution_count": 351,
     "metadata": {},
     "output_type": "execute_result"
    }
   ],
   "source": [
    "error"
   ]
  },
  {
   "cell_type": "markdown",
   "id": "39dcfbed-2cc0-44f9-bf24-be73bdbb99b9",
   "metadata": {},
   "source": [
    "Ok super messy, not exactly legible but you can see how the absolute bottom rows and top rows have no loss since they're simply empty so our sample three is actual 'ideal' in those pixels but there's loss everywhere else.\n",
    "\n",
    "Lets do sevens now"
   ]
  },
  {
   "cell_type": "code",
   "execution_count": 353,
   "id": "59831b3d-b668-46df-b658-5abbd04214ab",
   "metadata": {},
   "outputs": [
    {
     "data": {
      "text/plain": [
       "(tensor(0.1586), tensor(0.3021))"
      ]
     },
     "execution_count": 353,
     "metadata": {},
     "output_type": "execute_result"
    }
   ],
   "source": [
    "# Distance of our sample from our mean three or 'ideal 3'\n",
    "error = sample_3 - me7\n",
    "\n",
    "seven_abs_dist = error.abs().mean()\n",
    "seven_square_dist = (error**2).mean().sqrt()\n",
    "\n",
    "seven_abs_dist, seven_square_dist"
   ]
  },
  {
   "cell_type": "markdown",
   "id": "1a65e3a4-157c-47ef-9049-c9f73d451177",
   "metadata": {},
   "source": [
    "In both the L1 and L2 losses, our sample 3 has a smaller loss compared to our ideal three so we'd correctly categorise it in this situation.\n",
    "\n",
    "Pytorch has both of these loss functions out of the box from the 'torch.nn.functional' modules so we don't need to handwrite out these functions in the future, its also stylistic to import this module as \"F\". I've seen this done with pyspark and some other libraries, seems like a nice habit when importing a library/package which is meant to represent math like 'functions'"
   ]
  },
  {
   "cell_type": "code",
   "execution_count": 354,
   "id": "c44ae4c4-ef59-45e2-8421-bafddae2edc8",
   "metadata": {},
   "outputs": [
    {
     "data": {
      "text/plain": [
       "(tensor(0.1586), tensor(0.3021))"
      ]
     },
     "execution_count": 354,
     "metadata": {},
     "output_type": "execute_result"
    }
   ],
   "source": [
    "import torch.nn.functional as F\n",
    "\n",
    "F.l1_loss(sample_3.float(),me7), F.mse_loss(sample_3, me7).sqrt()"
   ]
  },
  {
   "cell_type": "markdown",
   "id": "9dd9d4c0-b4a1-41ac-972e-2ee3a76e4410",
   "metadata": {},
   "source": [
    "Voila! The loss is the same, looks like our handwritten work aint too bad, just messy and I can safely depend on pytorch to calculate it correctly instead of me mis-writing this calculation."
   ]
  },
  {
   "cell_type": "markdown",
   "id": "a2be3bc7-6984-401c-887e-d08e395911cf",
   "metadata": {},
   "source": [
    "### Building Training and Validation Datasets\n",
    "\n",
    "Ok so we've built our baseline loss and predictive method, however we're not training any components and we're not holding out a portion of our data to make sure we're not over-fitting. The MNIST dataset has already been split for us so lets simple setup those tensors using the pre-split data sets. Building a good validation set is however a really important part of the process and [Rachel Thomas's post explains it best](https://www.fast.ai/posts/2017-11-13-validation-sets.html), go read this post for better words than I'll be able to put together."
   ]
  },
  {
   "cell_type": "code",
   "execution_count": 357,
   "id": "0edc6b64-cbbe-47fc-8baa-5e1ee30b0371",
   "metadata": {},
   "outputs": [
    {
     "data": {
      "text/plain": [
       "(#3) [Path('../data/MNIST/mnist_sample/labels.csv'),Path('../data/MNIST/mnist_sample/train'),Path('../data/MNIST/mnist_sample/valid')]"
      ]
     },
     "execution_count": 357,
     "metadata": {},
     "output_type": "execute_result"
    }
   ],
   "source": [
    "sample_path.ls()"
   ]
  },
  {
   "cell_type": "code",
   "execution_count": 358,
   "id": "90d96fcc-a19d-470b-bce1-b8be1da997e8",
   "metadata": {},
   "outputs": [
    {
     "data": {
      "text/plain": [
       "(torch.Size([1010, 28, 28]), torch.Size([1028, 28, 28]))"
      ]
     },
     "execution_count": 358,
     "metadata": {},
     "output_type": "execute_result"
    }
   ],
   "source": [
    "valid_3 = torch.stack([tensor(Image.open(o)) for o in (sample_path/\"valid/3\").ls()])\n",
    "valid_3 = valid_3.float()/255\n",
    "\n",
    "valid_7 = torch.stack([tensor(Image.open(o)) for o in (sample_path/\"valid/7\").ls()])\n",
    "valid_7 = valid_7.float()/255\n",
    "\n",
    "valid_3.shape, valid_7.shape"
   ]
  },
  {
   "cell_type": "markdown",
   "id": "7e165bff-2394-400e-b3dc-f0616db3c2cd",
   "metadata": {},
   "source": [
    "Lets now calculate the loss for all our threes in the validation set against our 'ideal' three"
   ]
  },
  {
   "cell_type": "markdown",
   "id": "46ef9a88-3677-4931-8a79-aace21189a84",
   "metadata": {},
   "source": [
    "### Broadcasting Tensors and Loss Functions\n",
    "\n",
    "When pytorch encounters a function between two tensors of different ranks, it will broadcast the smaller ranked tensor to match and have the same size as the larger tensor. [Pytorch's broadcast semantics](https://pytorch.org/docs/stable/notes/broadcasting.html#broadcasting-semantics) has a decent description of what they're doing, it [appears to be a numpy concept which is well documented here](https://numpy.org/devdocs/user/basics.broadcasting.html#general-broadcasting-rules).\n",
    "\n",
    "We're going to use this with our loss functions since even though we're giving the function a single example, its going to broadcast it 1,010 times to match the 'depth' of our validation tensor. This allows us to compute these sorts of things on the GPU instead of CPU which makes it lightning fast in comparison, torch also does smart things like not allocating extra memory and simply pretending like its of the proper rank without the wasted duplication. Often this will happen in the background and you don't have to explicitly write the broadcasting which makes it simple to write mentally and understand, love your work pytorch gang!"
   ]
  },
  {
   "cell_type": "code",
   "execution_count": 372,
   "id": "c3228e20-2dc8-43f0-8eca-ed907e97849e",
   "metadata": {},
   "outputs": [
    {
     "data": {
      "text/plain": [
       "tensor(0.1114)"
      ]
     },
     "execution_count": 372,
     "metadata": {},
     "output_type": "execute_result"
    }
   ],
   "source": [
    "def mnist_distance(a,b): return (a-b).abs().mean((-1,-2))\n",
    "\n",
    "mnist_distance(sample_3, me3)"
   ]
  },
  {
   "cell_type": "markdown",
   "id": "ed515126-2820-430a-9c92-a1089d3a67c1",
   "metadata": {},
   "source": [
    "There is one important difference here in that we're calling mean() with a tuple of (-1,-2) which we didn't do before. In python you can index with a '-' simple to represent 'from the last index', meaning that we want to calculate the mean from the last, and second last indexes of the tensor, being the two axes of 28x28 pixels."
   ]
  },
  {
   "cell_type": "code",
   "execution_count": 376,
   "id": "47f95da6-111d-4a4d-99b8-d6934c6d569d",
   "metadata": {},
   "outputs": [
    {
     "data": {
      "text/plain": [
       "(tensor([0.1280, 0.1623, 0.1242,  ..., 0.1508, 0.1263, 0.1260]),\n",
       " torch.Size([1010]))"
      ]
     },
     "execution_count": 376,
     "metadata": {},
     "output_type": "execute_result"
    }
   ],
   "source": [
    "valid_3_dist = mnist_distance(valid_3, me3)\n",
    "valid_3_dist, valid_3_dist.shape"
   ]
  },
  {
   "cell_type": "code",
   "execution_count": 377,
   "id": "13262c5d-f62e-4882-94ec-2af91de41702",
   "metadata": {},
   "outputs": [
    {
     "data": {
      "text/plain": [
       "torch.Size([1010, 28, 28])"
      ]
     },
     "execution_count": 377,
     "metadata": {},
     "output_type": "execute_result"
    }
   ],
   "source": [
    "(valid_3-me3).shape"
   ]
  },
  {
   "cell_type": "markdown",
   "id": "94177491-b79d-41d8-a36b-93affc5db037",
   "metadata": {},
   "source": [
    "Awesome, we've got all our ducks in a row, now lets write a function to tell if a sample given is a three or not, ie is the distance smaller from the ideal three or ideal seven."
   ]
  },
  {
   "cell_type": "code",
   "execution_count": 379,
   "id": "215c3648-3455-4cf7-94fc-f0f41f63a7a1",
   "metadata": {},
   "outputs": [
    {
     "data": {
      "text/plain": [
       "(tensor(True), tensor(1.))"
      ]
     },
     "execution_count": 379,
     "metadata": {},
     "output_type": "execute_result"
    }
   ],
   "source": [
    "def is_3(x): return mnist_distance(x,me3) < mnist_distance(x,me7)\n",
    "\n",
    "is_3(sample_3), is_3(sample_3).float()"
   ]
  },
  {
   "cell_type": "markdown",
   "id": "41d40831-4107-4bc6-8cb4-8f408ceb1213",
   "metadata": {},
   "source": [
    "Looks good, lets now calculate over all our validation threes"
   ]
  },
  {
   "cell_type": "code",
   "execution_count": 380,
   "id": "271c6981-6861-4923-a76b-bcf30392fcbf",
   "metadata": {},
   "outputs": [
    {
     "data": {
      "text/plain": [
       "tensor([ True,  True,  True,  ..., False,  True,  True])"
      ]
     },
     "execution_count": 380,
     "metadata": {},
     "output_type": "execute_result"
    }
   ],
   "source": [
    "is_3(valid_3)"
   ]
  },
  {
   "cell_type": "markdown",
   "id": "3988bd1f-864e-46a8-9b83-98bb585a1aa7",
   "metadata": {},
   "source": [
    "Uh oh, I see some errors already, lets check the accuracy"
   ]
  },
  {
   "cell_type": "code",
   "execution_count": 386,
   "id": "20d7379d-2475-44fe-9dc9-ffff4e909b60",
   "metadata": {},
   "outputs": [],
   "source": [
    "accuracy_3 = is_3(valid_3).float().mean()"
   ]
  },
  {
   "cell_type": "markdown",
   "id": "9587a0ea-e207-4a1b-98a9-0cadc39b373e",
   "metadata": {},
   "source": [
    "Now to calculate whether something is a seven, it should just be the inverse of whether its a three. We can do this two ways, either by calculating '1-' our is_3() function or we can use the python 'unary' or 'invert' operator '~' tilde which allows us to invert an operation. I would argue 1- is easier to read since the unary operator isn't very common and to be honest it can be easy to miss or confuses people as to what it does. Its also known as the bitwise inversion or bitwise operator if you're curious, [checkout the docs](https://docs.python.org/3/reference/expressions.html?highlight=bitwise#unary-arithmetic-and-bitwise-operations)"
   ]
  },
  {
   "cell_type": "code",
   "execution_count": 390,
   "id": "54bdee9d-0d8d-4aca-807d-6b760a3c0d58",
   "metadata": {},
   "outputs": [
    {
     "data": {
      "text/plain": [
       "(tensor(0.9168), tensor(0.9854), tensor(0.9854))"
      ]
     },
     "execution_count": 390,
     "metadata": {},
     "output_type": "execute_result"
    }
   ],
   "source": [
    "# 1- since we want to get the inverse of is_3 to get an 'is_7' function\n",
    "accuracy_7 = (1-is_3(valid_7).float().mean())\n",
    "\n",
    "unary_accuracy_7 = (~is_3(valid_7)).float().mean()\n",
    "\n",
    "accuracy_3, accuracy_7, unary_accuracy_7"
   ]
  },
  {
   "cell_type": "markdown",
   "id": "796f1713-4c54-46b4-9ba2-ac0604fe520a",
   "metadata": {},
   "source": [
    "Well we're already at ~91% and ~99% for threes and sevens, I think thats pretty awesome considering we're just doing some averages and using the raw tensors against each other."
   ]
  },
  {
   "cell_type": "markdown",
   "id": "df77e9ed-bb82-4147-80b1-24bde4cf10b2",
   "metadata": {},
   "source": [
    "### Moving from 'Ideal' to Weights with Activations\n",
    "\n",
    "As mentioned in the book, if we're thinking of Arthur Samuel's interpretation of a self learning machine, we want to have a set of weights which we can update which will be highly activated for a particular category, ie large values. If we're thinking of a '1', the weights representing the middle of the image should be highly activated and the weights down the side should be lowly activated, unlike an '8' which would have highly activated sides since the hips of the digit would activate the weights. We would want a set of weights for each category and we'd want to times all the weights by the pixels, calculate a loss, figure the gradients for the weights and update them by some learning rate. This function might look something like:"
   ]
  },
  {
   "cell_type": "code",
   "execution_count": 392,
   "id": "9a57336f-3b86-4232-ab8d-166b44dbb3e6",
   "metadata": {},
   "outputs": [],
   "source": [
    "def probability_of_eight(image, weights): return (image*weights).sum()"
   ]
  },
  {
   "cell_type": "markdown",
   "id": "43767fdc-e73f-445f-9468-c74c00353eda",
   "metadata": {},
   "source": [
    "Assume 'image' is the image represented as a vector, so all the pixels lined up in a rank-1 tensor, all the rows lined up one after the other instead of stacked into a rank-2 tensor like we view them. Assume the 'weights' variable is also a vector where we can update them after calculating the loss and gradients which we times by some learning rate, we can iterate over and over to get to useful activations that tell us which category the digit drawings are.\n",
    "\n",
    "Ok directly from the book, here are the steps we require to make our classifier:\n",
    " 1. Initialise the weights to some set of values\n",
    " 2. For each image, use the weights to predict a 3 or 7 spotted\n",
    " 3. Based on those predictions, calculate how effective the model was or its loss\n",
    " 4. Calculate the gradient for our weights, which will tell us how changing those weights would impact the loss function\n",
    " 5. Change all the weights based on the gradients and some learning rate\n",
    " 6. Repeat steps 2 through 6 until the training process (this loop) is stopped from successfully completing the task or sheer boredom sets in"
   ]
  },
  {
   "cell_type": "markdown",
   "id": "bd5e2dba-3d4a-453e-a303-a1a5c2080890",
   "metadata": {},
   "source": [
    "### Step 1: Initialise parameters"
   ]
  },
  {
   "cell_type": "code",
   "execution_count": null,
   "id": "db64eebf-5077-42d8-95e4-17dbeb1ddfc7",
   "metadata": {},
   "outputs": [],
   "source": []
  }
 ],
 "metadata": {
  "kernelspec": {
   "display_name": "Python 3 (ipykernel)",
   "language": "python",
   "name": "python3"
  },
  "language_info": {
   "codemirror_mode": {
    "name": "ipython",
    "version": 3
   },
   "file_extension": ".py",
   "mimetype": "text/x-python",
   "name": "python",
   "nbconvert_exporter": "python",
   "pygments_lexer": "ipython3",
   "version": "3.10.8"
  }
 },
 "nbformat": 4,
 "nbformat_minor": 5
}
